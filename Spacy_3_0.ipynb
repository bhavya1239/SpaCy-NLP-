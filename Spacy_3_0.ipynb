{
  "nbformat": 4,
  "nbformat_minor": 0,
  "metadata": {
    "colab": {
      "provenance": [],
      "authorship_tag": "ABX9TyN4HwssuZ1NqoohulIuoUZc",
      "include_colab_link": true
    },
    "kernelspec": {
      "name": "python3",
      "display_name": "Python 3"
    },
    "language_info": {
      "name": "python"
    }
  },
  "cells": [
    {
      "cell_type": "markdown",
      "metadata": {
        "id": "view-in-github",
        "colab_type": "text"
      },
      "source": [
        "<a href=\"https://colab.research.google.com/github/bhavya1239/SpaCy-NLP-/blob/main/Spacy_3_0.ipynb\" target=\"_parent\"><img src=\"https://colab.research.google.com/assets/colab-badge.svg\" alt=\"Open In Colab\"/></a>"
      ]
    },
    {
      "cell_type": "markdown",
      "source": [
        "#SPACY\n",
        "Industrial-Stength Natural Language processing"
      ],
      "metadata": {
        "id": "hbh24VmRgTKa"
      }
    },
    {
      "cell_type": "code",
      "source": [
        "#install Spacy\n",
        "!pip install -U pip setuptools wheel\n",
        "!pip install -U spacy\n",
        "!python -m spacy download en_core_web_sm"
      ],
      "metadata": {
        "colab": {
          "base_uri": "https://localhost:8080/",
          "height": 1000
        },
        "id": "6_vWxoMDgePj",
        "outputId": "e564bcb3-45d3-41f2-eb3b-21a32d160652"
      },
      "execution_count": 1,
      "outputs": [
        {
          "output_type": "stream",
          "name": "stdout",
          "text": [
            "Requirement already satisfied: pip in /usr/local/lib/python3.10/dist-packages (23.1.2)\n",
            "Collecting pip\n",
            "  Downloading pip-23.2.1-py3-none-any.whl (2.1 MB)\n",
            "\u001b[2K     \u001b[90m━━━━━━━━━━━━━━━━━━━━━━━━━━━━━━━━━━━━━━━━\u001b[0m \u001b[32m2.1/2.1 MB\u001b[0m \u001b[31m8.3 MB/s\u001b[0m eta \u001b[36m0:00:00\u001b[0m\n",
            "\u001b[?25hRequirement already satisfied: setuptools in /usr/local/lib/python3.10/dist-packages (67.7.2)\n",
            "Collecting setuptools\n",
            "  Downloading setuptools-68.2.2-py3-none-any.whl (807 kB)\n",
            "\u001b[2K     \u001b[90m━━━━━━━━━━━━━━━━━━━━━━━━━━━━━━━━━━━━━━\u001b[0m \u001b[32m807.9/807.9 kB\u001b[0m \u001b[31m11.7 MB/s\u001b[0m eta \u001b[36m0:00:00\u001b[0m\n",
            "\u001b[?25hRequirement already satisfied: wheel in /usr/local/lib/python3.10/dist-packages (0.41.2)\n",
            "Installing collected packages: setuptools, pip\n",
            "  Attempting uninstall: setuptools\n",
            "    Found existing installation: setuptools 67.7.2\n",
            "    Uninstalling setuptools-67.7.2:\n",
            "      Successfully uninstalled setuptools-67.7.2\n",
            "  Attempting uninstall: pip\n",
            "    Found existing installation: pip 23.1.2\n",
            "    Uninstalling pip-23.1.2:\n",
            "      Successfully uninstalled pip-23.1.2\n",
            "\u001b[31mERROR: pip's dependency resolver does not currently take into account all the packages that are installed. This behaviour is the source of the following dependency conflicts.\n",
            "ipython 7.34.0 requires jedi>=0.16, which is not installed.\u001b[0m\u001b[31m\n",
            "\u001b[0mSuccessfully installed pip-23.2.1 setuptools-68.2.2\n"
          ]
        },
        {
          "output_type": "display_data",
          "data": {
            "application/vnd.colab-display-data+json": {
              "pip_warning": {
                "packages": [
                  "_distutils_hack",
                  "pkg_resources",
                  "setuptools"
                ]
              }
            }
          },
          "metadata": {}
        },
        {
          "output_type": "stream",
          "name": "stdout",
          "text": [
            "Requirement already satisfied: spacy in /usr/local/lib/python3.10/dist-packages (3.6.1)\n",
            "Requirement already satisfied: spacy-legacy<3.1.0,>=3.0.11 in /usr/local/lib/python3.10/dist-packages (from spacy) (3.0.12)\n",
            "Requirement already satisfied: spacy-loggers<2.0.0,>=1.0.0 in /usr/local/lib/python3.10/dist-packages (from spacy) (1.0.4)\n",
            "Requirement already satisfied: murmurhash<1.1.0,>=0.28.0 in /usr/local/lib/python3.10/dist-packages (from spacy) (1.0.9)\n",
            "Requirement already satisfied: cymem<2.1.0,>=2.0.2 in /usr/local/lib/python3.10/dist-packages (from spacy) (2.0.7)\n",
            "Requirement already satisfied: preshed<3.1.0,>=3.0.2 in /usr/local/lib/python3.10/dist-packages (from spacy) (3.0.8)\n",
            "Requirement already satisfied: thinc<8.2.0,>=8.1.8 in /usr/local/lib/python3.10/dist-packages (from spacy) (8.1.12)\n",
            "Requirement already satisfied: wasabi<1.2.0,>=0.9.1 in /usr/local/lib/python3.10/dist-packages (from spacy) (1.1.2)\n",
            "Requirement already satisfied: srsly<3.0.0,>=2.4.3 in /usr/local/lib/python3.10/dist-packages (from spacy) (2.4.7)\n",
            "Requirement already satisfied: catalogue<2.1.0,>=2.0.6 in /usr/local/lib/python3.10/dist-packages (from spacy) (2.0.9)\n",
            "Requirement already satisfied: typer<0.10.0,>=0.3.0 in /usr/local/lib/python3.10/dist-packages (from spacy) (0.9.0)\n",
            "Requirement already satisfied: pathy>=0.10.0 in /usr/local/lib/python3.10/dist-packages (from spacy) (0.10.2)\n",
            "Requirement already satisfied: smart-open<7.0.0,>=5.2.1 in /usr/local/lib/python3.10/dist-packages (from spacy) (6.4.0)\n",
            "Requirement already satisfied: tqdm<5.0.0,>=4.38.0 in /usr/local/lib/python3.10/dist-packages (from spacy) (4.66.1)\n",
            "Requirement already satisfied: numpy>=1.15.0 in /usr/local/lib/python3.10/dist-packages (from spacy) (1.23.5)\n",
            "Requirement already satisfied: requests<3.0.0,>=2.13.0 in /usr/local/lib/python3.10/dist-packages (from spacy) (2.31.0)\n",
            "Requirement already satisfied: pydantic!=1.8,!=1.8.1,<3.0.0,>=1.7.4 in /usr/local/lib/python3.10/dist-packages (from spacy) (1.10.12)\n",
            "Requirement already satisfied: jinja2 in /usr/local/lib/python3.10/dist-packages (from spacy) (3.1.2)\n",
            "Requirement already satisfied: setuptools in /usr/local/lib/python3.10/dist-packages (from spacy) (68.2.2)\n",
            "Requirement already satisfied: packaging>=20.0 in /usr/local/lib/python3.10/dist-packages (from spacy) (23.1)\n",
            "Requirement already satisfied: langcodes<4.0.0,>=3.2.0 in /usr/local/lib/python3.10/dist-packages (from spacy) (3.3.0)\n",
            "Requirement already satisfied: typing-extensions>=4.2.0 in /usr/local/lib/python3.10/dist-packages (from pydantic!=1.8,!=1.8.1,<3.0.0,>=1.7.4->spacy) (4.5.0)\n",
            "Requirement already satisfied: charset-normalizer<4,>=2 in /usr/local/lib/python3.10/dist-packages (from requests<3.0.0,>=2.13.0->spacy) (3.2.0)\n",
            "Requirement already satisfied: idna<4,>=2.5 in /usr/local/lib/python3.10/dist-packages (from requests<3.0.0,>=2.13.0->spacy) (3.4)\n",
            "Requirement already satisfied: urllib3<3,>=1.21.1 in /usr/local/lib/python3.10/dist-packages (from requests<3.0.0,>=2.13.0->spacy) (2.0.4)\n",
            "Requirement already satisfied: certifi>=2017.4.17 in /usr/local/lib/python3.10/dist-packages (from requests<3.0.0,>=2.13.0->spacy) (2023.7.22)\n",
            "Requirement already satisfied: blis<0.8.0,>=0.7.8 in /usr/local/lib/python3.10/dist-packages (from thinc<8.2.0,>=8.1.8->spacy) (0.7.10)\n",
            "Requirement already satisfied: confection<1.0.0,>=0.0.1 in /usr/local/lib/python3.10/dist-packages (from thinc<8.2.0,>=8.1.8->spacy) (0.1.2)\n",
            "Requirement already satisfied: click<9.0.0,>=7.1.1 in /usr/local/lib/python3.10/dist-packages (from typer<0.10.0,>=0.3.0->spacy) (8.1.7)\n",
            "Requirement already satisfied: MarkupSafe>=2.0 in /usr/local/lib/python3.10/dist-packages (from jinja2->spacy) (2.1.3)\n",
            "\u001b[33mWARNING: Running pip as the 'root' user can result in broken permissions and conflicting behaviour with the system package manager. It is recommended to use a virtual environment instead: https://pip.pypa.io/warnings/venv\u001b[0m\u001b[33m\n",
            "\u001b[0m2023-09-20 07:27:08.987744: I tensorflow/core/platform/cpu_feature_guard.cc:182] This TensorFlow binary is optimized to use available CPU instructions in performance-critical operations.\n",
            "To enable the following instructions: AVX2 FMA, in other operations, rebuild TensorFlow with the appropriate compiler flags.\n",
            "2023-09-20 07:27:10.141186: W tensorflow/compiler/tf2tensorrt/utils/py_utils.cc:38] TF-TRT Warning: Could not find TensorRT\n",
            "Collecting en-core-web-sm==3.6.0\n",
            "  Downloading https://github.com/explosion/spacy-models/releases/download/en_core_web_sm-3.6.0/en_core_web_sm-3.6.0-py3-none-any.whl (12.8 MB)\n",
            "\u001b[2K     \u001b[90m━━━━━━━━━━━━━━━━━━━━━━━━━━━━━━━━━━━━━━━━\u001b[0m \u001b[32m12.8/12.8 MB\u001b[0m \u001b[31m19.7 MB/s\u001b[0m eta \u001b[36m0:00:00\u001b[0m\n",
            "\u001b[?25hRequirement already satisfied: spacy<3.7.0,>=3.6.0 in /usr/local/lib/python3.10/dist-packages (from en-core-web-sm==3.6.0) (3.6.1)\n",
            "Requirement already satisfied: spacy-legacy<3.1.0,>=3.0.11 in /usr/local/lib/python3.10/dist-packages (from spacy<3.7.0,>=3.6.0->en-core-web-sm==3.6.0) (3.0.12)\n",
            "Requirement already satisfied: spacy-loggers<2.0.0,>=1.0.0 in /usr/local/lib/python3.10/dist-packages (from spacy<3.7.0,>=3.6.0->en-core-web-sm==3.6.0) (1.0.4)\n",
            "Requirement already satisfied: murmurhash<1.1.0,>=0.28.0 in /usr/local/lib/python3.10/dist-packages (from spacy<3.7.0,>=3.6.0->en-core-web-sm==3.6.0) (1.0.9)\n",
            "Requirement already satisfied: cymem<2.1.0,>=2.0.2 in /usr/local/lib/python3.10/dist-packages (from spacy<3.7.0,>=3.6.0->en-core-web-sm==3.6.0) (2.0.7)\n",
            "Requirement already satisfied: preshed<3.1.0,>=3.0.2 in /usr/local/lib/python3.10/dist-packages (from spacy<3.7.0,>=3.6.0->en-core-web-sm==3.6.0) (3.0.8)\n",
            "Requirement already satisfied: thinc<8.2.0,>=8.1.8 in /usr/local/lib/python3.10/dist-packages (from spacy<3.7.0,>=3.6.0->en-core-web-sm==3.6.0) (8.1.12)\n",
            "Requirement already satisfied: wasabi<1.2.0,>=0.9.1 in /usr/local/lib/python3.10/dist-packages (from spacy<3.7.0,>=3.6.0->en-core-web-sm==3.6.0) (1.1.2)\n",
            "Requirement already satisfied: srsly<3.0.0,>=2.4.3 in /usr/local/lib/python3.10/dist-packages (from spacy<3.7.0,>=3.6.0->en-core-web-sm==3.6.0) (2.4.7)\n",
            "Requirement already satisfied: catalogue<2.1.0,>=2.0.6 in /usr/local/lib/python3.10/dist-packages (from spacy<3.7.0,>=3.6.0->en-core-web-sm==3.6.0) (2.0.9)\n",
            "Requirement already satisfied: typer<0.10.0,>=0.3.0 in /usr/local/lib/python3.10/dist-packages (from spacy<3.7.0,>=3.6.0->en-core-web-sm==3.6.0) (0.9.0)\n",
            "Requirement already satisfied: pathy>=0.10.0 in /usr/local/lib/python3.10/dist-packages (from spacy<3.7.0,>=3.6.0->en-core-web-sm==3.6.0) (0.10.2)\n",
            "Requirement already satisfied: smart-open<7.0.0,>=5.2.1 in /usr/local/lib/python3.10/dist-packages (from spacy<3.7.0,>=3.6.0->en-core-web-sm==3.6.0) (6.4.0)\n",
            "Requirement already satisfied: tqdm<5.0.0,>=4.38.0 in /usr/local/lib/python3.10/dist-packages (from spacy<3.7.0,>=3.6.0->en-core-web-sm==3.6.0) (4.66.1)\n",
            "Requirement already satisfied: numpy>=1.15.0 in /usr/local/lib/python3.10/dist-packages (from spacy<3.7.0,>=3.6.0->en-core-web-sm==3.6.0) (1.23.5)\n",
            "Requirement already satisfied: requests<3.0.0,>=2.13.0 in /usr/local/lib/python3.10/dist-packages (from spacy<3.7.0,>=3.6.0->en-core-web-sm==3.6.0) (2.31.0)\n",
            "Requirement already satisfied: pydantic!=1.8,!=1.8.1,<3.0.0,>=1.7.4 in /usr/local/lib/python3.10/dist-packages (from spacy<3.7.0,>=3.6.0->en-core-web-sm==3.6.0) (1.10.12)\n",
            "Requirement already satisfied: jinja2 in /usr/local/lib/python3.10/dist-packages (from spacy<3.7.0,>=3.6.0->en-core-web-sm==3.6.0) (3.1.2)\n",
            "Requirement already satisfied: setuptools in /usr/local/lib/python3.10/dist-packages (from spacy<3.7.0,>=3.6.0->en-core-web-sm==3.6.0) (68.2.2)\n",
            "Requirement already satisfied: packaging>=20.0 in /usr/local/lib/python3.10/dist-packages (from spacy<3.7.0,>=3.6.0->en-core-web-sm==3.6.0) (23.1)\n",
            "Requirement already satisfied: langcodes<4.0.0,>=3.2.0 in /usr/local/lib/python3.10/dist-packages (from spacy<3.7.0,>=3.6.0->en-core-web-sm==3.6.0) (3.3.0)\n",
            "Requirement already satisfied: typing-extensions>=4.2.0 in /usr/local/lib/python3.10/dist-packages (from pydantic!=1.8,!=1.8.1,<3.0.0,>=1.7.4->spacy<3.7.0,>=3.6.0->en-core-web-sm==3.6.0) (4.5.0)\n",
            "Requirement already satisfied: charset-normalizer<4,>=2 in /usr/local/lib/python3.10/dist-packages (from requests<3.0.0,>=2.13.0->spacy<3.7.0,>=3.6.0->en-core-web-sm==3.6.0) (3.2.0)\n",
            "Requirement already satisfied: idna<4,>=2.5 in /usr/local/lib/python3.10/dist-packages (from requests<3.0.0,>=2.13.0->spacy<3.7.0,>=3.6.0->en-core-web-sm==3.6.0) (3.4)\n",
            "Requirement already satisfied: urllib3<3,>=1.21.1 in /usr/local/lib/python3.10/dist-packages (from requests<3.0.0,>=2.13.0->spacy<3.7.0,>=3.6.0->en-core-web-sm==3.6.0) (2.0.4)\n",
            "Requirement already satisfied: certifi>=2017.4.17 in /usr/local/lib/python3.10/dist-packages (from requests<3.0.0,>=2.13.0->spacy<3.7.0,>=3.6.0->en-core-web-sm==3.6.0) (2023.7.22)\n",
            "Requirement already satisfied: blis<0.8.0,>=0.7.8 in /usr/local/lib/python3.10/dist-packages (from thinc<8.2.0,>=8.1.8->spacy<3.7.0,>=3.6.0->en-core-web-sm==3.6.0) (0.7.10)\n",
            "Requirement already satisfied: confection<1.0.0,>=0.0.1 in /usr/local/lib/python3.10/dist-packages (from thinc<8.2.0,>=8.1.8->spacy<3.7.0,>=3.6.0->en-core-web-sm==3.6.0) (0.1.2)\n",
            "Requirement already satisfied: click<9.0.0,>=7.1.1 in /usr/local/lib/python3.10/dist-packages (from typer<0.10.0,>=0.3.0->spacy<3.7.0,>=3.6.0->en-core-web-sm==3.6.0) (8.1.7)\n",
            "Requirement already satisfied: MarkupSafe>=2.0 in /usr/local/lib/python3.10/dist-packages (from jinja2->spacy<3.7.0,>=3.6.0->en-core-web-sm==3.6.0) (2.1.3)\n",
            "\u001b[33mWARNING: Running pip as the 'root' user can result in broken permissions and conflicting behaviour with the system package manager. It is recommended to use a virtual environment instead: https://pip.pypa.io/warnings/venv\u001b[0m\u001b[33m\n",
            "\u001b[0m\u001b[38;5;2m✔ Download and installation successful\u001b[0m\n",
            "You can now load the package via spacy.load('en_core_web_sm')\n"
          ]
        }
      ]
    },
    {
      "cell_type": "markdown",
      "source": [
        "Three Models of Spacy :\n",
        "1. en_core_web_sm\n",
        "2. en_core_web_md\n",
        "3. en_core_web_lg"
      ],
      "metadata": {
        "id": "_fOvy7VThvx5"
      }
    },
    {
      "cell_type": "code",
      "source": [
        " #Linguistic Annotations\n",
        "\n",
        "import spacy\n",
        "\n",
        "nlp = spacy.load('en_core_web_sm') #returns language object\n",
        "doc = nlp(\"Apple is looking at buying U.K. startup for $1 billion\")\n",
        "for token in doc:\n",
        "  print(token.text, token.pos_, token.dep_)"
      ],
      "metadata": {
        "colab": {
          "base_uri": "https://localhost:8080/"
        },
        "id": "OJ8Qi5i5hpjw",
        "outputId": "ca31eeac-07f7-4980-d54e-19750705e16c"
      },
      "execution_count": 2,
      "outputs": [
        {
          "output_type": "stream",
          "name": "stdout",
          "text": [
            "Apple PROPN nsubj\n",
            "is AUX aux\n",
            "looking VERB ROOT\n",
            "at ADP prep\n",
            "buying VERB pcomp\n",
            "U.K. PROPN dobj\n",
            "startup NOUN dep\n",
            "for ADP prep\n",
            "$ SYM quantmod\n",
            "1 NUM compound\n",
            "billion NUM pobj\n"
          ]
        }
      ]
    },
    {
      "cell_type": "markdown",
      "source": [
        "#Tokenization\n"
      ],
      "metadata": {
        "id": "c5qsMp08pEA7"
      }
    },
    {
      "cell_type": "code",
      "source": [
        "text = '''\"Let's go to N.Y.!\"'''\n"
      ],
      "metadata": {
        "id": "1otrDbEElKE2"
      },
      "execution_count": 3,
      "outputs": []
    },
    {
      "cell_type": "code",
      "source": [
        "import spacy\n"
      ],
      "metadata": {
        "id": "dAlLulBuotNN"
      },
      "execution_count": 4,
      "outputs": []
    },
    {
      "cell_type": "code",
      "source": [
        "nlp = spacy.load(\"en_core_web_sm\")"
      ],
      "metadata": {
        "id": "U3nrTCf7ovDh"
      },
      "execution_count": 5,
      "outputs": []
    },
    {
      "cell_type": "code",
      "source": [
        "doc=nlp(text)"
      ],
      "metadata": {
        "id": "fSFp9eKTo3vD"
      },
      "execution_count": 6,
      "outputs": []
    },
    {
      "cell_type": "code",
      "source": [
        "for token in doc:\n",
        "  print(token.text)"
      ],
      "metadata": {
        "colab": {
          "base_uri": "https://localhost:8080/"
        },
        "id": "dHjYSpk5o6D3",
        "outputId": "e02b0147-7237-4617-d1ff-15500da64db2"
      },
      "execution_count": 7,
      "outputs": [
        {
          "output_type": "stream",
          "name": "stdout",
          "text": [
            "\"\n",
            "Let\n",
            "'s\n",
            "go\n",
            "to\n",
            "N.Y.\n",
            "!\n",
            "\"\n"
          ]
        }
      ]
    },
    {
      "cell_type": "code",
      "source": [
        "text = 'My name is Bhavya Sharma. I love to play Cricket'\n",
        "import spacy\n",
        "nlp=spacy.load('en_core_web_sm')\n",
        "doc=nlp(text)\n",
        "for token in doc:\n",
        "  print(token.text)"
      ],
      "metadata": {
        "colab": {
          "base_uri": "https://localhost:8080/"
        },
        "id": "CgwyYNT6pRCT",
        "outputId": "5856b828-4b09-40a1-df8f-0f49be5b2c79"
      },
      "execution_count": 8,
      "outputs": [
        {
          "output_type": "stream",
          "name": "stdout",
          "text": [
            "My\n",
            "name\n",
            "is\n",
            "Bhavya\n",
            "Sharma\n",
            ".\n",
            "I\n",
            "love\n",
            "to\n",
            "play\n",
            "Cricket\n"
          ]
        }
      ]
    },
    {
      "cell_type": "markdown",
      "source": [
        "#POS\n",
        "Part of Speech Tagging and Dependancy Parsing\n"
      ],
      "metadata": {
        "id": "nflw0QgmqZje"
      }
    },
    {
      "cell_type": "code",
      "source": [
        "import spacy\n",
        "nlp = spacy.load('en_core_web_sm')\n",
        "text = \"Apple is looking at buying U.K. startup for $1 billion\"\n",
        "doc = nlp(text)"
      ],
      "metadata": {
        "id": "2plArBsnrKrz"
      },
      "execution_count": 9,
      "outputs": []
    },
    {
      "cell_type": "code",
      "source": [
        "!pip install beautifultable"
      ],
      "metadata": {
        "colab": {
          "base_uri": "https://localhost:8080/"
        },
        "id": "J9etaZUHskWI",
        "outputId": "b2e48e04-d93b-4cac-83a5-37960f219cd5"
      },
      "execution_count": 10,
      "outputs": [
        {
          "output_type": "stream",
          "name": "stdout",
          "text": [
            "Collecting beautifultable\n",
            "  Downloading beautifultable-1.1.0-py2.py3-none-any.whl (28 kB)\n",
            "Requirement already satisfied: wcwidth in /usr/local/lib/python3.10/dist-packages (from beautifultable) (0.2.6)\n",
            "Installing collected packages: beautifultable\n",
            "Successfully installed beautifultable-1.1.0\n",
            "\u001b[33mWARNING: Running pip as the 'root' user can result in broken permissions and conflicting behaviour with the system package manager. It is recommended to use a virtual environment instead: https://pip.pypa.io/warnings/venv\u001b[0m\u001b[33m\n",
            "\u001b[0m"
          ]
        }
      ]
    },
    {
      "cell_type": "code",
      "source": [
        "from beautifultable import BeautifulTable"
      ],
      "metadata": {
        "id": "q5B6lu8lsphT"
      },
      "execution_count": 11,
      "outputs": []
    },
    {
      "cell_type": "code",
      "source": [
        "table = BeautifulTable()"
      ],
      "metadata": {
        "id": "WStUTvzCsw9_"
      },
      "execution_count": 12,
      "outputs": []
    },
    {
      "cell_type": "code",
      "source": [
        "table.column_header = ['text', 'POS', 'TAG','Explain tag','Dep','Shape','is_alpha','is_stop']\n",
        "for token in doc:\n",
        "  table.rows.append([token.text, token.pos_, token.tag_, spacy.explain(token.tag_), token.dep, token.shape_, token.is_alpha, token.is_stop])"
      ],
      "metadata": {
        "id": "X5cZjE5Js3Hl"
      },
      "execution_count": 13,
      "outputs": []
    },
    {
      "cell_type": "code",
      "source": [
        "print(table)"
      ],
      "metadata": {
        "colab": {
          "base_uri": "https://localhost:8080/"
        },
        "id": "vQyXUI7gtpQy",
        "outputId": "97982224-6dc6-4c04-fe1d-a6cc4952fb97"
      },
      "execution_count": 14,
      "outputs": [
        {
          "output_type": "stream",
          "name": "stdout",
          "text": [
            "+------+-------+-----+---------------------------+-------------+-------+---+---+\n",
            "| Appl | PROPN | NNP |   noun, proper singular   |     429     | Xxxxx | 1 | 0 |\n",
            "|  e   |       |     |                           |             |       |   |   |\n",
            "+------+-------+-----+---------------------------+-------------+-------+---+---+\n",
            "|  is  |  AUX  | VBZ | verb, 3rd person singular |     405     |  xx   | 1 | 1 |\n",
            "|      |       |     |          present          |             |       |   |   |\n",
            "+------+-------+-----+---------------------------+-------------+-------+---+---+\n",
            "| look | VERB  | VBG | verb, gerund or present p | 82069006336 | xxxx  | 1 | 0 |\n",
            "| ing  |       |     |         articiple         |  47566924   |       |   |   |\n",
            "+------+-------+-----+---------------------------+-------------+-------+---+---+\n",
            "|  at  |  ADP  | IN  | conjunction, subordinatin |     443     |  xx   | 1 | 1 |\n",
            "|      |       |     |     g or preposition      |             |       |   |   |\n",
            "+------+-------+-----+---------------------------+-------------+-------+---+---+\n",
            "| buyi | VERB  | VBG | verb, gerund or present p |     438     | xxxx  | 1 | 0 |\n",
            "|  ng  |       |     |         articiple         |             |       |   |   |\n",
            "+------+-------+-----+---------------------------+-------------+-------+---+---+\n",
            "| U.K. | PROPN | NNP |   noun, proper singular   |     416     | X.X.  | 0 | 0 |\n",
            "+------+-------+-----+---------------------------+-------------+-------+---+---+\n",
            "| star | NOUN  | NN  |  noun, singular or mass   |     414     | xxxx  | 1 | 0 |\n",
            "| tup  |       |     |                           |             |       |   |   |\n",
            "+------+-------+-----+---------------------------+-------------+-------+---+---+\n",
            "| for  |  ADP  | IN  | conjunction, subordinatin |     443     |  xxx  | 1 | 1 |\n",
            "|      |       |     |     g or preposition      |             |       |   |   |\n",
            "+------+-------+-----+---------------------------+-------------+-------+---+---+\n",
            "|  $   |  SYM  |  $  |     symbol, currency      |     446     |   $   | 0 | 0 |\n",
            "+------+-------+-----+---------------------------+-------------+-------+---+---+\n",
            "|  1   |  NUM  | CD  |      cardinal number      | 70379288070 |   d   | 0 | 0 |\n",
            "|      |       |     |                           |  40764755   |       |   |   |\n",
            "+------+-------+-----+---------------------------+-------------+-------+---+---+\n",
            "| bill |  NUM  | CD  |      cardinal number      |     439     | xxxx  | 1 | 0 |\n",
            "| ion  |       |     |                           |             |       |   |   |\n",
            "+------+-------+-----+---------------------------+-------------+-------+---+---+\n"
          ]
        }
      ]
    },
    {
      "cell_type": "markdown",
      "source": [
        "#Visualizing Dependency Parsing\n"
      ],
      "metadata": {
        "id": "CACT4L1wMStL"
      }
    },
    {
      "cell_type": "code",
      "source": [
        "from spacy import displacy"
      ],
      "metadata": {
        "id": "bx1KWCW-ttqr"
      },
      "execution_count": 15,
      "outputs": []
    },
    {
      "cell_type": "code",
      "source": [
        "displacy.render(doc, style='dep', jupyter=True)"
      ],
      "metadata": {
        "colab": {
          "base_uri": "https://localhost:8080/",
          "height": 441
        },
        "id": "sWHgo5VpOojy",
        "outputId": "0a558185-5698-4ff2-fc2c-d2ef1fe29741"
      },
      "execution_count": 16,
      "outputs": [
        {
          "output_type": "display_data",
          "data": {
            "text/plain": [
              "<IPython.core.display.HTML object>"
            ],
            "text/html": [
              "<span class=\"tex2jax_ignore\"><svg xmlns=\"http://www.w3.org/2000/svg\" xmlns:xlink=\"http://www.w3.org/1999/xlink\" xml:lang=\"en\" id=\"4cfd4f6e3d924fdeab56f6d32aaac461-0\" class=\"displacy\" width=\"1975\" height=\"399.5\" direction=\"ltr\" style=\"max-width: none; height: 399.5px; color: #000000; background: #ffffff; font-family: Arial; direction: ltr\">\n",
              "<text class=\"displacy-token\" fill=\"currentColor\" text-anchor=\"middle\" y=\"309.5\">\n",
              "    <tspan class=\"displacy-word\" fill=\"currentColor\" x=\"50\">Apple</tspan>\n",
              "    <tspan class=\"displacy-tag\" dy=\"2em\" fill=\"currentColor\" x=\"50\">PROPN</tspan>\n",
              "</text>\n",
              "\n",
              "<text class=\"displacy-token\" fill=\"currentColor\" text-anchor=\"middle\" y=\"309.5\">\n",
              "    <tspan class=\"displacy-word\" fill=\"currentColor\" x=\"225\">is</tspan>\n",
              "    <tspan class=\"displacy-tag\" dy=\"2em\" fill=\"currentColor\" x=\"225\">AUX</tspan>\n",
              "</text>\n",
              "\n",
              "<text class=\"displacy-token\" fill=\"currentColor\" text-anchor=\"middle\" y=\"309.5\">\n",
              "    <tspan class=\"displacy-word\" fill=\"currentColor\" x=\"400\">looking</tspan>\n",
              "    <tspan class=\"displacy-tag\" dy=\"2em\" fill=\"currentColor\" x=\"400\">VERB</tspan>\n",
              "</text>\n",
              "\n",
              "<text class=\"displacy-token\" fill=\"currentColor\" text-anchor=\"middle\" y=\"309.5\">\n",
              "    <tspan class=\"displacy-word\" fill=\"currentColor\" x=\"575\">at</tspan>\n",
              "    <tspan class=\"displacy-tag\" dy=\"2em\" fill=\"currentColor\" x=\"575\">ADP</tspan>\n",
              "</text>\n",
              "\n",
              "<text class=\"displacy-token\" fill=\"currentColor\" text-anchor=\"middle\" y=\"309.5\">\n",
              "    <tspan class=\"displacy-word\" fill=\"currentColor\" x=\"750\">buying</tspan>\n",
              "    <tspan class=\"displacy-tag\" dy=\"2em\" fill=\"currentColor\" x=\"750\">VERB</tspan>\n",
              "</text>\n",
              "\n",
              "<text class=\"displacy-token\" fill=\"currentColor\" text-anchor=\"middle\" y=\"309.5\">\n",
              "    <tspan class=\"displacy-word\" fill=\"currentColor\" x=\"925\">U.K.</tspan>\n",
              "    <tspan class=\"displacy-tag\" dy=\"2em\" fill=\"currentColor\" x=\"925\">PROPN</tspan>\n",
              "</text>\n",
              "\n",
              "<text class=\"displacy-token\" fill=\"currentColor\" text-anchor=\"middle\" y=\"309.5\">\n",
              "    <tspan class=\"displacy-word\" fill=\"currentColor\" x=\"1100\">startup</tspan>\n",
              "    <tspan class=\"displacy-tag\" dy=\"2em\" fill=\"currentColor\" x=\"1100\">NOUN</tspan>\n",
              "</text>\n",
              "\n",
              "<text class=\"displacy-token\" fill=\"currentColor\" text-anchor=\"middle\" y=\"309.5\">\n",
              "    <tspan class=\"displacy-word\" fill=\"currentColor\" x=\"1275\">for</tspan>\n",
              "    <tspan class=\"displacy-tag\" dy=\"2em\" fill=\"currentColor\" x=\"1275\">ADP</tspan>\n",
              "</text>\n",
              "\n",
              "<text class=\"displacy-token\" fill=\"currentColor\" text-anchor=\"middle\" y=\"309.5\">\n",
              "    <tspan class=\"displacy-word\" fill=\"currentColor\" x=\"1450\">$</tspan>\n",
              "    <tspan class=\"displacy-tag\" dy=\"2em\" fill=\"currentColor\" x=\"1450\">SYM</tspan>\n",
              "</text>\n",
              "\n",
              "<text class=\"displacy-token\" fill=\"currentColor\" text-anchor=\"middle\" y=\"309.5\">\n",
              "    <tspan class=\"displacy-word\" fill=\"currentColor\" x=\"1625\">1</tspan>\n",
              "    <tspan class=\"displacy-tag\" dy=\"2em\" fill=\"currentColor\" x=\"1625\">NUM</tspan>\n",
              "</text>\n",
              "\n",
              "<text class=\"displacy-token\" fill=\"currentColor\" text-anchor=\"middle\" y=\"309.5\">\n",
              "    <tspan class=\"displacy-word\" fill=\"currentColor\" x=\"1800\">billion</tspan>\n",
              "    <tspan class=\"displacy-tag\" dy=\"2em\" fill=\"currentColor\" x=\"1800\">NUM</tspan>\n",
              "</text>\n",
              "\n",
              "<g class=\"displacy-arrow\">\n",
              "    <path class=\"displacy-arc\" id=\"arrow-4cfd4f6e3d924fdeab56f6d32aaac461-0-0\" stroke-width=\"2px\" d=\"M70,264.5 C70,89.5 395.0,89.5 395.0,264.5\" fill=\"none\" stroke=\"currentColor\"/>\n",
              "    <text dy=\"1.25em\" style=\"font-size: 0.8em; letter-spacing: 1px\">\n",
              "        <textPath xlink:href=\"#arrow-4cfd4f6e3d924fdeab56f6d32aaac461-0-0\" class=\"displacy-label\" startOffset=\"50%\" side=\"left\" fill=\"currentColor\" text-anchor=\"middle\">nsubj</textPath>\n",
              "    </text>\n",
              "    <path class=\"displacy-arrowhead\" d=\"M70,266.5 L62,254.5 78,254.5\" fill=\"currentColor\"/>\n",
              "</g>\n",
              "\n",
              "<g class=\"displacy-arrow\">\n",
              "    <path class=\"displacy-arc\" id=\"arrow-4cfd4f6e3d924fdeab56f6d32aaac461-0-1\" stroke-width=\"2px\" d=\"M245,264.5 C245,177.0 390.0,177.0 390.0,264.5\" fill=\"none\" stroke=\"currentColor\"/>\n",
              "    <text dy=\"1.25em\" style=\"font-size: 0.8em; letter-spacing: 1px\">\n",
              "        <textPath xlink:href=\"#arrow-4cfd4f6e3d924fdeab56f6d32aaac461-0-1\" class=\"displacy-label\" startOffset=\"50%\" side=\"left\" fill=\"currentColor\" text-anchor=\"middle\">aux</textPath>\n",
              "    </text>\n",
              "    <path class=\"displacy-arrowhead\" d=\"M245,266.5 L237,254.5 253,254.5\" fill=\"currentColor\"/>\n",
              "</g>\n",
              "\n",
              "<g class=\"displacy-arrow\">\n",
              "    <path class=\"displacy-arc\" id=\"arrow-4cfd4f6e3d924fdeab56f6d32aaac461-0-2\" stroke-width=\"2px\" d=\"M420,264.5 C420,177.0 565.0,177.0 565.0,264.5\" fill=\"none\" stroke=\"currentColor\"/>\n",
              "    <text dy=\"1.25em\" style=\"font-size: 0.8em; letter-spacing: 1px\">\n",
              "        <textPath xlink:href=\"#arrow-4cfd4f6e3d924fdeab56f6d32aaac461-0-2\" class=\"displacy-label\" startOffset=\"50%\" side=\"left\" fill=\"currentColor\" text-anchor=\"middle\">prep</textPath>\n",
              "    </text>\n",
              "    <path class=\"displacy-arrowhead\" d=\"M565.0,266.5 L573.0,254.5 557.0,254.5\" fill=\"currentColor\"/>\n",
              "</g>\n",
              "\n",
              "<g class=\"displacy-arrow\">\n",
              "    <path class=\"displacy-arc\" id=\"arrow-4cfd4f6e3d924fdeab56f6d32aaac461-0-3\" stroke-width=\"2px\" d=\"M595,264.5 C595,177.0 740.0,177.0 740.0,264.5\" fill=\"none\" stroke=\"currentColor\"/>\n",
              "    <text dy=\"1.25em\" style=\"font-size: 0.8em; letter-spacing: 1px\">\n",
              "        <textPath xlink:href=\"#arrow-4cfd4f6e3d924fdeab56f6d32aaac461-0-3\" class=\"displacy-label\" startOffset=\"50%\" side=\"left\" fill=\"currentColor\" text-anchor=\"middle\">pcomp</textPath>\n",
              "    </text>\n",
              "    <path class=\"displacy-arrowhead\" d=\"M740.0,266.5 L748.0,254.5 732.0,254.5\" fill=\"currentColor\"/>\n",
              "</g>\n",
              "\n",
              "<g class=\"displacy-arrow\">\n",
              "    <path class=\"displacy-arc\" id=\"arrow-4cfd4f6e3d924fdeab56f6d32aaac461-0-4\" stroke-width=\"2px\" d=\"M770,264.5 C770,177.0 915.0,177.0 915.0,264.5\" fill=\"none\" stroke=\"currentColor\"/>\n",
              "    <text dy=\"1.25em\" style=\"font-size: 0.8em; letter-spacing: 1px\">\n",
              "        <textPath xlink:href=\"#arrow-4cfd4f6e3d924fdeab56f6d32aaac461-0-4\" class=\"displacy-label\" startOffset=\"50%\" side=\"left\" fill=\"currentColor\" text-anchor=\"middle\">dobj</textPath>\n",
              "    </text>\n",
              "    <path class=\"displacy-arrowhead\" d=\"M915.0,266.5 L923.0,254.5 907.0,254.5\" fill=\"currentColor\"/>\n",
              "</g>\n",
              "\n",
              "<g class=\"displacy-arrow\">\n",
              "    <path class=\"displacy-arc\" id=\"arrow-4cfd4f6e3d924fdeab56f6d32aaac461-0-5\" stroke-width=\"2px\" d=\"M420,264.5 C420,89.5 1095.0,89.5 1095.0,264.5\" fill=\"none\" stroke=\"currentColor\"/>\n",
              "    <text dy=\"1.25em\" style=\"font-size: 0.8em; letter-spacing: 1px\">\n",
              "        <textPath xlink:href=\"#arrow-4cfd4f6e3d924fdeab56f6d32aaac461-0-5\" class=\"displacy-label\" startOffset=\"50%\" side=\"left\" fill=\"currentColor\" text-anchor=\"middle\">dep</textPath>\n",
              "    </text>\n",
              "    <path class=\"displacy-arrowhead\" d=\"M1095.0,266.5 L1103.0,254.5 1087.0,254.5\" fill=\"currentColor\"/>\n",
              "</g>\n",
              "\n",
              "<g class=\"displacy-arrow\">\n",
              "    <path class=\"displacy-arc\" id=\"arrow-4cfd4f6e3d924fdeab56f6d32aaac461-0-6\" stroke-width=\"2px\" d=\"M1120,264.5 C1120,177.0 1265.0,177.0 1265.0,264.5\" fill=\"none\" stroke=\"currentColor\"/>\n",
              "    <text dy=\"1.25em\" style=\"font-size: 0.8em; letter-spacing: 1px\">\n",
              "        <textPath xlink:href=\"#arrow-4cfd4f6e3d924fdeab56f6d32aaac461-0-6\" class=\"displacy-label\" startOffset=\"50%\" side=\"left\" fill=\"currentColor\" text-anchor=\"middle\">prep</textPath>\n",
              "    </text>\n",
              "    <path class=\"displacy-arrowhead\" d=\"M1265.0,266.5 L1273.0,254.5 1257.0,254.5\" fill=\"currentColor\"/>\n",
              "</g>\n",
              "\n",
              "<g class=\"displacy-arrow\">\n",
              "    <path class=\"displacy-arc\" id=\"arrow-4cfd4f6e3d924fdeab56f6d32aaac461-0-7\" stroke-width=\"2px\" d=\"M1470,264.5 C1470,89.5 1795.0,89.5 1795.0,264.5\" fill=\"none\" stroke=\"currentColor\"/>\n",
              "    <text dy=\"1.25em\" style=\"font-size: 0.8em; letter-spacing: 1px\">\n",
              "        <textPath xlink:href=\"#arrow-4cfd4f6e3d924fdeab56f6d32aaac461-0-7\" class=\"displacy-label\" startOffset=\"50%\" side=\"left\" fill=\"currentColor\" text-anchor=\"middle\">quantmod</textPath>\n",
              "    </text>\n",
              "    <path class=\"displacy-arrowhead\" d=\"M1470,266.5 L1462,254.5 1478,254.5\" fill=\"currentColor\"/>\n",
              "</g>\n",
              "\n",
              "<g class=\"displacy-arrow\">\n",
              "    <path class=\"displacy-arc\" id=\"arrow-4cfd4f6e3d924fdeab56f6d32aaac461-0-8\" stroke-width=\"2px\" d=\"M1645,264.5 C1645,177.0 1790.0,177.0 1790.0,264.5\" fill=\"none\" stroke=\"currentColor\"/>\n",
              "    <text dy=\"1.25em\" style=\"font-size: 0.8em; letter-spacing: 1px\">\n",
              "        <textPath xlink:href=\"#arrow-4cfd4f6e3d924fdeab56f6d32aaac461-0-8\" class=\"displacy-label\" startOffset=\"50%\" side=\"left\" fill=\"currentColor\" text-anchor=\"middle\">compound</textPath>\n",
              "    </text>\n",
              "    <path class=\"displacy-arrowhead\" d=\"M1645,266.5 L1637,254.5 1653,254.5\" fill=\"currentColor\"/>\n",
              "</g>\n",
              "\n",
              "<g class=\"displacy-arrow\">\n",
              "    <path class=\"displacy-arc\" id=\"arrow-4cfd4f6e3d924fdeab56f6d32aaac461-0-9\" stroke-width=\"2px\" d=\"M1295,264.5 C1295,2.0 1800.0,2.0 1800.0,264.5\" fill=\"none\" stroke=\"currentColor\"/>\n",
              "    <text dy=\"1.25em\" style=\"font-size: 0.8em; letter-spacing: 1px\">\n",
              "        <textPath xlink:href=\"#arrow-4cfd4f6e3d924fdeab56f6d32aaac461-0-9\" class=\"displacy-label\" startOffset=\"50%\" side=\"left\" fill=\"currentColor\" text-anchor=\"middle\">pobj</textPath>\n",
              "    </text>\n",
              "    <path class=\"displacy-arrowhead\" d=\"M1800.0,266.5 L1808.0,254.5 1792.0,254.5\" fill=\"currentColor\"/>\n",
              "</g>\n",
              "</svg></span>"
            ]
          },
          "metadata": {}
        }
      ]
    },
    {
      "cell_type": "code",
      "source": [
        "options = {\"compact\":True}\n",
        "displacy.render(doc, style='dep', jupyter=True, options=options)"
      ],
      "metadata": {
        "colab": {
          "base_uri": "https://localhost:8080/",
          "height": 404
        },
        "id": "sW7R7OKdO6Gm",
        "outputId": "0f1d9993-8d75-4c2a-fd61-b048974aa7e3"
      },
      "execution_count": 17,
      "outputs": [
        {
          "output_type": "display_data",
          "data": {
            "text/plain": [
              "<IPython.core.display.HTML object>"
            ],
            "text/html": [
              "<span class=\"tex2jax_ignore\"><svg xmlns=\"http://www.w3.org/2000/svg\" xmlns:xlink=\"http://www.w3.org/1999/xlink\" xml:lang=\"en\" id=\"30b4f0db8c114a4b9683e6ee59813c6d-0\" class=\"displacy\" width=\"1700\" height=\"362.0\" direction=\"ltr\" style=\"max-width: none; height: 362.0px; color: #000000; background: #ffffff; font-family: Arial; direction: ltr\">\n",
              "<text class=\"displacy-token\" fill=\"currentColor\" text-anchor=\"middle\" y=\"272.0\">\n",
              "    <tspan class=\"displacy-word\" fill=\"currentColor\" x=\"50\">Apple</tspan>\n",
              "    <tspan class=\"displacy-tag\" dy=\"2em\" fill=\"currentColor\" x=\"50\">PROPN</tspan>\n",
              "</text>\n",
              "\n",
              "<text class=\"displacy-token\" fill=\"currentColor\" text-anchor=\"middle\" y=\"272.0\">\n",
              "    <tspan class=\"displacy-word\" fill=\"currentColor\" x=\"200\">is</tspan>\n",
              "    <tspan class=\"displacy-tag\" dy=\"2em\" fill=\"currentColor\" x=\"200\">AUX</tspan>\n",
              "</text>\n",
              "\n",
              "<text class=\"displacy-token\" fill=\"currentColor\" text-anchor=\"middle\" y=\"272.0\">\n",
              "    <tspan class=\"displacy-word\" fill=\"currentColor\" x=\"350\">looking</tspan>\n",
              "    <tspan class=\"displacy-tag\" dy=\"2em\" fill=\"currentColor\" x=\"350\">VERB</tspan>\n",
              "</text>\n",
              "\n",
              "<text class=\"displacy-token\" fill=\"currentColor\" text-anchor=\"middle\" y=\"272.0\">\n",
              "    <tspan class=\"displacy-word\" fill=\"currentColor\" x=\"500\">at</tspan>\n",
              "    <tspan class=\"displacy-tag\" dy=\"2em\" fill=\"currentColor\" x=\"500\">ADP</tspan>\n",
              "</text>\n",
              "\n",
              "<text class=\"displacy-token\" fill=\"currentColor\" text-anchor=\"middle\" y=\"272.0\">\n",
              "    <tspan class=\"displacy-word\" fill=\"currentColor\" x=\"650\">buying</tspan>\n",
              "    <tspan class=\"displacy-tag\" dy=\"2em\" fill=\"currentColor\" x=\"650\">VERB</tspan>\n",
              "</text>\n",
              "\n",
              "<text class=\"displacy-token\" fill=\"currentColor\" text-anchor=\"middle\" y=\"272.0\">\n",
              "    <tspan class=\"displacy-word\" fill=\"currentColor\" x=\"800\">U.K.</tspan>\n",
              "    <tspan class=\"displacy-tag\" dy=\"2em\" fill=\"currentColor\" x=\"800\">PROPN</tspan>\n",
              "</text>\n",
              "\n",
              "<text class=\"displacy-token\" fill=\"currentColor\" text-anchor=\"middle\" y=\"272.0\">\n",
              "    <tspan class=\"displacy-word\" fill=\"currentColor\" x=\"950\">startup</tspan>\n",
              "    <tspan class=\"displacy-tag\" dy=\"2em\" fill=\"currentColor\" x=\"950\">NOUN</tspan>\n",
              "</text>\n",
              "\n",
              "<text class=\"displacy-token\" fill=\"currentColor\" text-anchor=\"middle\" y=\"272.0\">\n",
              "    <tspan class=\"displacy-word\" fill=\"currentColor\" x=\"1100\">for</tspan>\n",
              "    <tspan class=\"displacy-tag\" dy=\"2em\" fill=\"currentColor\" x=\"1100\">ADP</tspan>\n",
              "</text>\n",
              "\n",
              "<text class=\"displacy-token\" fill=\"currentColor\" text-anchor=\"middle\" y=\"272.0\">\n",
              "    <tspan class=\"displacy-word\" fill=\"currentColor\" x=\"1250\">$</tspan>\n",
              "    <tspan class=\"displacy-tag\" dy=\"2em\" fill=\"currentColor\" x=\"1250\">SYM</tspan>\n",
              "</text>\n",
              "\n",
              "<text class=\"displacy-token\" fill=\"currentColor\" text-anchor=\"middle\" y=\"272.0\">\n",
              "    <tspan class=\"displacy-word\" fill=\"currentColor\" x=\"1400\">1</tspan>\n",
              "    <tspan class=\"displacy-tag\" dy=\"2em\" fill=\"currentColor\" x=\"1400\">NUM</tspan>\n",
              "</text>\n",
              "\n",
              "<text class=\"displacy-token\" fill=\"currentColor\" text-anchor=\"middle\" y=\"272.0\">\n",
              "    <tspan class=\"displacy-word\" fill=\"currentColor\" x=\"1550\">billion</tspan>\n",
              "    <tspan class=\"displacy-tag\" dy=\"2em\" fill=\"currentColor\" x=\"1550\">NUM</tspan>\n",
              "</text>\n",
              "\n",
              "<g class=\"displacy-arrow\">\n",
              "    <path class=\"displacy-arc\" id=\"arrow-30b4f0db8c114a4b9683e6ee59813c6d-0-0\" stroke-width=\"2px\" d=\"M62,227.0 62,177.0 347.0,177.0 347.0,227.0\" fill=\"none\" stroke=\"currentColor\"/>\n",
              "    <text dy=\"1.25em\" style=\"font-size: 0.8em; letter-spacing: 1px\">\n",
              "        <textPath xlink:href=\"#arrow-30b4f0db8c114a4b9683e6ee59813c6d-0-0\" class=\"displacy-label\" startOffset=\"50%\" side=\"left\" fill=\"currentColor\" text-anchor=\"middle\">nsubj</textPath>\n",
              "    </text>\n",
              "    <path class=\"displacy-arrowhead\" d=\"M62,229.0 L58,221.0 66,221.0\" fill=\"currentColor\"/>\n",
              "</g>\n",
              "\n",
              "<g class=\"displacy-arrow\">\n",
              "    <path class=\"displacy-arc\" id=\"arrow-30b4f0db8c114a4b9683e6ee59813c6d-0-1\" stroke-width=\"2px\" d=\"M212,227.0 212,202.0 344.0,202.0 344.0,227.0\" fill=\"none\" stroke=\"currentColor\"/>\n",
              "    <text dy=\"1.25em\" style=\"font-size: 0.8em; letter-spacing: 1px\">\n",
              "        <textPath xlink:href=\"#arrow-30b4f0db8c114a4b9683e6ee59813c6d-0-1\" class=\"displacy-label\" startOffset=\"50%\" side=\"left\" fill=\"currentColor\" text-anchor=\"middle\">aux</textPath>\n",
              "    </text>\n",
              "    <path class=\"displacy-arrowhead\" d=\"M212,229.0 L208,221.0 216,221.0\" fill=\"currentColor\"/>\n",
              "</g>\n",
              "\n",
              "<g class=\"displacy-arrow\">\n",
              "    <path class=\"displacy-arc\" id=\"arrow-30b4f0db8c114a4b9683e6ee59813c6d-0-2\" stroke-width=\"2px\" d=\"M362,227.0 362,202.0 494.0,202.0 494.0,227.0\" fill=\"none\" stroke=\"currentColor\"/>\n",
              "    <text dy=\"1.25em\" style=\"font-size: 0.8em; letter-spacing: 1px\">\n",
              "        <textPath xlink:href=\"#arrow-30b4f0db8c114a4b9683e6ee59813c6d-0-2\" class=\"displacy-label\" startOffset=\"50%\" side=\"left\" fill=\"currentColor\" text-anchor=\"middle\">prep</textPath>\n",
              "    </text>\n",
              "    <path class=\"displacy-arrowhead\" d=\"M494.0,229.0 L498.0,221.0 490.0,221.0\" fill=\"currentColor\"/>\n",
              "</g>\n",
              "\n",
              "<g class=\"displacy-arrow\">\n",
              "    <path class=\"displacy-arc\" id=\"arrow-30b4f0db8c114a4b9683e6ee59813c6d-0-3\" stroke-width=\"2px\" d=\"M512,227.0 512,202.0 644.0,202.0 644.0,227.0\" fill=\"none\" stroke=\"currentColor\"/>\n",
              "    <text dy=\"1.25em\" style=\"font-size: 0.8em; letter-spacing: 1px\">\n",
              "        <textPath xlink:href=\"#arrow-30b4f0db8c114a4b9683e6ee59813c6d-0-3\" class=\"displacy-label\" startOffset=\"50%\" side=\"left\" fill=\"currentColor\" text-anchor=\"middle\">pcomp</textPath>\n",
              "    </text>\n",
              "    <path class=\"displacy-arrowhead\" d=\"M644.0,229.0 L648.0,221.0 640.0,221.0\" fill=\"currentColor\"/>\n",
              "</g>\n",
              "\n",
              "<g class=\"displacy-arrow\">\n",
              "    <path class=\"displacy-arc\" id=\"arrow-30b4f0db8c114a4b9683e6ee59813c6d-0-4\" stroke-width=\"2px\" d=\"M662,227.0 662,202.0 794.0,202.0 794.0,227.0\" fill=\"none\" stroke=\"currentColor\"/>\n",
              "    <text dy=\"1.25em\" style=\"font-size: 0.8em; letter-spacing: 1px\">\n",
              "        <textPath xlink:href=\"#arrow-30b4f0db8c114a4b9683e6ee59813c6d-0-4\" class=\"displacy-label\" startOffset=\"50%\" side=\"left\" fill=\"currentColor\" text-anchor=\"middle\">dobj</textPath>\n",
              "    </text>\n",
              "    <path class=\"displacy-arrowhead\" d=\"M794.0,229.0 L798.0,221.0 790.0,221.0\" fill=\"currentColor\"/>\n",
              "</g>\n",
              "\n",
              "<g class=\"displacy-arrow\">\n",
              "    <path class=\"displacy-arc\" id=\"arrow-30b4f0db8c114a4b9683e6ee59813c6d-0-5\" stroke-width=\"2px\" d=\"M362,227.0 362,177.0 947.0,177.0 947.0,227.0\" fill=\"none\" stroke=\"currentColor\"/>\n",
              "    <text dy=\"1.25em\" style=\"font-size: 0.8em; letter-spacing: 1px\">\n",
              "        <textPath xlink:href=\"#arrow-30b4f0db8c114a4b9683e6ee59813c6d-0-5\" class=\"displacy-label\" startOffset=\"50%\" side=\"left\" fill=\"currentColor\" text-anchor=\"middle\">dep</textPath>\n",
              "    </text>\n",
              "    <path class=\"displacy-arrowhead\" d=\"M947.0,229.0 L951.0,221.0 943.0,221.0\" fill=\"currentColor\"/>\n",
              "</g>\n",
              "\n",
              "<g class=\"displacy-arrow\">\n",
              "    <path class=\"displacy-arc\" id=\"arrow-30b4f0db8c114a4b9683e6ee59813c6d-0-6\" stroke-width=\"2px\" d=\"M962,227.0 962,202.0 1094.0,202.0 1094.0,227.0\" fill=\"none\" stroke=\"currentColor\"/>\n",
              "    <text dy=\"1.25em\" style=\"font-size: 0.8em; letter-spacing: 1px\">\n",
              "        <textPath xlink:href=\"#arrow-30b4f0db8c114a4b9683e6ee59813c6d-0-6\" class=\"displacy-label\" startOffset=\"50%\" side=\"left\" fill=\"currentColor\" text-anchor=\"middle\">prep</textPath>\n",
              "    </text>\n",
              "    <path class=\"displacy-arrowhead\" d=\"M1094.0,229.0 L1098.0,221.0 1090.0,221.0\" fill=\"currentColor\"/>\n",
              "</g>\n",
              "\n",
              "<g class=\"displacy-arrow\">\n",
              "    <path class=\"displacy-arc\" id=\"arrow-30b4f0db8c114a4b9683e6ee59813c6d-0-7\" stroke-width=\"2px\" d=\"M1262,227.0 1262,177.0 1547.0,177.0 1547.0,227.0\" fill=\"none\" stroke=\"currentColor\"/>\n",
              "    <text dy=\"1.25em\" style=\"font-size: 0.8em; letter-spacing: 1px\">\n",
              "        <textPath xlink:href=\"#arrow-30b4f0db8c114a4b9683e6ee59813c6d-0-7\" class=\"displacy-label\" startOffset=\"50%\" side=\"left\" fill=\"currentColor\" text-anchor=\"middle\">quantmod</textPath>\n",
              "    </text>\n",
              "    <path class=\"displacy-arrowhead\" d=\"M1262,229.0 L1258,221.0 1266,221.0\" fill=\"currentColor\"/>\n",
              "</g>\n",
              "\n",
              "<g class=\"displacy-arrow\">\n",
              "    <path class=\"displacy-arc\" id=\"arrow-30b4f0db8c114a4b9683e6ee59813c6d-0-8\" stroke-width=\"2px\" d=\"M1412,227.0 1412,202.0 1544.0,202.0 1544.0,227.0\" fill=\"none\" stroke=\"currentColor\"/>\n",
              "    <text dy=\"1.25em\" style=\"font-size: 0.8em; letter-spacing: 1px\">\n",
              "        <textPath xlink:href=\"#arrow-30b4f0db8c114a4b9683e6ee59813c6d-0-8\" class=\"displacy-label\" startOffset=\"50%\" side=\"left\" fill=\"currentColor\" text-anchor=\"middle\">compound</textPath>\n",
              "    </text>\n",
              "    <path class=\"displacy-arrowhead\" d=\"M1412,229.0 L1408,221.0 1416,221.0\" fill=\"currentColor\"/>\n",
              "</g>\n",
              "\n",
              "<g class=\"displacy-arrow\">\n",
              "    <path class=\"displacy-arc\" id=\"arrow-30b4f0db8c114a4b9683e6ee59813c6d-0-9\" stroke-width=\"2px\" d=\"M1112,227.0 1112,152.0 1550.0,152.0 1550.0,227.0\" fill=\"none\" stroke=\"currentColor\"/>\n",
              "    <text dy=\"1.25em\" style=\"font-size: 0.8em; letter-spacing: 1px\">\n",
              "        <textPath xlink:href=\"#arrow-30b4f0db8c114a4b9683e6ee59813c6d-0-9\" class=\"displacy-label\" startOffset=\"50%\" side=\"left\" fill=\"currentColor\" text-anchor=\"middle\">pobj</textPath>\n",
              "    </text>\n",
              "    <path class=\"displacy-arrowhead\" d=\"M1550.0,229.0 L1554.0,221.0 1546.0,221.0\" fill=\"currentColor\"/>\n",
              "</g>\n",
              "</svg></span>"
            ]
          },
          "metadata": {}
        }
      ]
    },
    {
      "cell_type": "code",
      "source": [
        "options = {\"compact\":True, \"distance\":100, \"bg\":\"#00FFFf\"}\n",
        "displacy.render(doc, style='dep', jupyter=True, options=options)"
      ],
      "metadata": {
        "colab": {
          "base_uri": "https://localhost:8080/",
          "height": 309
        },
        "id": "cbDzsdMePodB",
        "outputId": "531c52c8-fc6e-468e-bf48-a4e885527e08"
      },
      "execution_count": 18,
      "outputs": [
        {
          "output_type": "display_data",
          "data": {
            "text/plain": [
              "<IPython.core.display.HTML object>"
            ],
            "text/html": [
              "<span class=\"tex2jax_ignore\"><svg xmlns=\"http://www.w3.org/2000/svg\" xmlns:xlink=\"http://www.w3.org/1999/xlink\" xml:lang=\"en\" id=\"e3f75e50c17c4aaca2c8b6372d110bd4-0\" class=\"displacy\" width=\"1150\" height=\"287.0\" direction=\"ltr\" style=\"max-width: none; height: 287.0px; color: #000000; background: #00FFFf; font-family: Arial; direction: ltr\">\n",
              "<text class=\"displacy-token\" fill=\"currentColor\" text-anchor=\"middle\" y=\"197.0\">\n",
              "    <tspan class=\"displacy-word\" fill=\"currentColor\" x=\"50\">Apple</tspan>\n",
              "    <tspan class=\"displacy-tag\" dy=\"2em\" fill=\"currentColor\" x=\"50\">PROPN</tspan>\n",
              "</text>\n",
              "\n",
              "<text class=\"displacy-token\" fill=\"currentColor\" text-anchor=\"middle\" y=\"197.0\">\n",
              "    <tspan class=\"displacy-word\" fill=\"currentColor\" x=\"150\">is</tspan>\n",
              "    <tspan class=\"displacy-tag\" dy=\"2em\" fill=\"currentColor\" x=\"150\">AUX</tspan>\n",
              "</text>\n",
              "\n",
              "<text class=\"displacy-token\" fill=\"currentColor\" text-anchor=\"middle\" y=\"197.0\">\n",
              "    <tspan class=\"displacy-word\" fill=\"currentColor\" x=\"250\">looking</tspan>\n",
              "    <tspan class=\"displacy-tag\" dy=\"2em\" fill=\"currentColor\" x=\"250\">VERB</tspan>\n",
              "</text>\n",
              "\n",
              "<text class=\"displacy-token\" fill=\"currentColor\" text-anchor=\"middle\" y=\"197.0\">\n",
              "    <tspan class=\"displacy-word\" fill=\"currentColor\" x=\"350\">at</tspan>\n",
              "    <tspan class=\"displacy-tag\" dy=\"2em\" fill=\"currentColor\" x=\"350\">ADP</tspan>\n",
              "</text>\n",
              "\n",
              "<text class=\"displacy-token\" fill=\"currentColor\" text-anchor=\"middle\" y=\"197.0\">\n",
              "    <tspan class=\"displacy-word\" fill=\"currentColor\" x=\"450\">buying</tspan>\n",
              "    <tspan class=\"displacy-tag\" dy=\"2em\" fill=\"currentColor\" x=\"450\">VERB</tspan>\n",
              "</text>\n",
              "\n",
              "<text class=\"displacy-token\" fill=\"currentColor\" text-anchor=\"middle\" y=\"197.0\">\n",
              "    <tspan class=\"displacy-word\" fill=\"currentColor\" x=\"550\">U.K.</tspan>\n",
              "    <tspan class=\"displacy-tag\" dy=\"2em\" fill=\"currentColor\" x=\"550\">PROPN</tspan>\n",
              "</text>\n",
              "\n",
              "<text class=\"displacy-token\" fill=\"currentColor\" text-anchor=\"middle\" y=\"197.0\">\n",
              "    <tspan class=\"displacy-word\" fill=\"currentColor\" x=\"650\">startup</tspan>\n",
              "    <tspan class=\"displacy-tag\" dy=\"2em\" fill=\"currentColor\" x=\"650\">NOUN</tspan>\n",
              "</text>\n",
              "\n",
              "<text class=\"displacy-token\" fill=\"currentColor\" text-anchor=\"middle\" y=\"197.0\">\n",
              "    <tspan class=\"displacy-word\" fill=\"currentColor\" x=\"750\">for</tspan>\n",
              "    <tspan class=\"displacy-tag\" dy=\"2em\" fill=\"currentColor\" x=\"750\">ADP</tspan>\n",
              "</text>\n",
              "\n",
              "<text class=\"displacy-token\" fill=\"currentColor\" text-anchor=\"middle\" y=\"197.0\">\n",
              "    <tspan class=\"displacy-word\" fill=\"currentColor\" x=\"850\">$</tspan>\n",
              "    <tspan class=\"displacy-tag\" dy=\"2em\" fill=\"currentColor\" x=\"850\">SYM</tspan>\n",
              "</text>\n",
              "\n",
              "<text class=\"displacy-token\" fill=\"currentColor\" text-anchor=\"middle\" y=\"197.0\">\n",
              "    <tspan class=\"displacy-word\" fill=\"currentColor\" x=\"950\">1</tspan>\n",
              "    <tspan class=\"displacy-tag\" dy=\"2em\" fill=\"currentColor\" x=\"950\">NUM</tspan>\n",
              "</text>\n",
              "\n",
              "<text class=\"displacy-token\" fill=\"currentColor\" text-anchor=\"middle\" y=\"197.0\">\n",
              "    <tspan class=\"displacy-word\" fill=\"currentColor\" x=\"1050\">billion</tspan>\n",
              "    <tspan class=\"displacy-tag\" dy=\"2em\" fill=\"currentColor\" x=\"1050\">NUM</tspan>\n",
              "</text>\n",
              "\n",
              "<g class=\"displacy-arrow\">\n",
              "    <path class=\"displacy-arc\" id=\"arrow-e3f75e50c17c4aaca2c8b6372d110bd4-0-0\" stroke-width=\"2px\" d=\"M62,152.0 62,118.66666666666666 247.0,118.66666666666666 247.0,152.0\" fill=\"none\" stroke=\"currentColor\"/>\n",
              "    <text dy=\"1.25em\" style=\"font-size: 0.8em; letter-spacing: 1px\">\n",
              "        <textPath xlink:href=\"#arrow-e3f75e50c17c4aaca2c8b6372d110bd4-0-0\" class=\"displacy-label\" startOffset=\"50%\" side=\"left\" fill=\"currentColor\" text-anchor=\"middle\">nsubj</textPath>\n",
              "    </text>\n",
              "    <path class=\"displacy-arrowhead\" d=\"M62,154.0 L58,146.0 66,146.0\" fill=\"currentColor\"/>\n",
              "</g>\n",
              "\n",
              "<g class=\"displacy-arrow\">\n",
              "    <path class=\"displacy-arc\" id=\"arrow-e3f75e50c17c4aaca2c8b6372d110bd4-0-1\" stroke-width=\"2px\" d=\"M162,152.0 162,135.33333333333334 244.0,135.33333333333334 244.0,152.0\" fill=\"none\" stroke=\"currentColor\"/>\n",
              "    <text dy=\"1.25em\" style=\"font-size: 0.8em; letter-spacing: 1px\">\n",
              "        <textPath xlink:href=\"#arrow-e3f75e50c17c4aaca2c8b6372d110bd4-0-1\" class=\"displacy-label\" startOffset=\"50%\" side=\"left\" fill=\"currentColor\" text-anchor=\"middle\">aux</textPath>\n",
              "    </text>\n",
              "    <path class=\"displacy-arrowhead\" d=\"M162,154.0 L158,146.0 166,146.0\" fill=\"currentColor\"/>\n",
              "</g>\n",
              "\n",
              "<g class=\"displacy-arrow\">\n",
              "    <path class=\"displacy-arc\" id=\"arrow-e3f75e50c17c4aaca2c8b6372d110bd4-0-2\" stroke-width=\"2px\" d=\"M262,152.0 262,135.33333333333334 344.0,135.33333333333334 344.0,152.0\" fill=\"none\" stroke=\"currentColor\"/>\n",
              "    <text dy=\"1.25em\" style=\"font-size: 0.8em; letter-spacing: 1px\">\n",
              "        <textPath xlink:href=\"#arrow-e3f75e50c17c4aaca2c8b6372d110bd4-0-2\" class=\"displacy-label\" startOffset=\"50%\" side=\"left\" fill=\"currentColor\" text-anchor=\"middle\">prep</textPath>\n",
              "    </text>\n",
              "    <path class=\"displacy-arrowhead\" d=\"M344.0,154.0 L348.0,146.0 340.0,146.0\" fill=\"currentColor\"/>\n",
              "</g>\n",
              "\n",
              "<g class=\"displacy-arrow\">\n",
              "    <path class=\"displacy-arc\" id=\"arrow-e3f75e50c17c4aaca2c8b6372d110bd4-0-3\" stroke-width=\"2px\" d=\"M362,152.0 362,135.33333333333334 444.0,135.33333333333334 444.0,152.0\" fill=\"none\" stroke=\"currentColor\"/>\n",
              "    <text dy=\"1.25em\" style=\"font-size: 0.8em; letter-spacing: 1px\">\n",
              "        <textPath xlink:href=\"#arrow-e3f75e50c17c4aaca2c8b6372d110bd4-0-3\" class=\"displacy-label\" startOffset=\"50%\" side=\"left\" fill=\"currentColor\" text-anchor=\"middle\">pcomp</textPath>\n",
              "    </text>\n",
              "    <path class=\"displacy-arrowhead\" d=\"M444.0,154.0 L448.0,146.0 440.0,146.0\" fill=\"currentColor\"/>\n",
              "</g>\n",
              "\n",
              "<g class=\"displacy-arrow\">\n",
              "    <path class=\"displacy-arc\" id=\"arrow-e3f75e50c17c4aaca2c8b6372d110bd4-0-4\" stroke-width=\"2px\" d=\"M462,152.0 462,135.33333333333334 544.0,135.33333333333334 544.0,152.0\" fill=\"none\" stroke=\"currentColor\"/>\n",
              "    <text dy=\"1.25em\" style=\"font-size: 0.8em; letter-spacing: 1px\">\n",
              "        <textPath xlink:href=\"#arrow-e3f75e50c17c4aaca2c8b6372d110bd4-0-4\" class=\"displacy-label\" startOffset=\"50%\" side=\"left\" fill=\"currentColor\" text-anchor=\"middle\">dobj</textPath>\n",
              "    </text>\n",
              "    <path class=\"displacy-arrowhead\" d=\"M544.0,154.0 L548.0,146.0 540.0,146.0\" fill=\"currentColor\"/>\n",
              "</g>\n",
              "\n",
              "<g class=\"displacy-arrow\">\n",
              "    <path class=\"displacy-arc\" id=\"arrow-e3f75e50c17c4aaca2c8b6372d110bd4-0-5\" stroke-width=\"2px\" d=\"M262,152.0 262,118.66666666666666 647.0,118.66666666666666 647.0,152.0\" fill=\"none\" stroke=\"currentColor\"/>\n",
              "    <text dy=\"1.25em\" style=\"font-size: 0.8em; letter-spacing: 1px\">\n",
              "        <textPath xlink:href=\"#arrow-e3f75e50c17c4aaca2c8b6372d110bd4-0-5\" class=\"displacy-label\" startOffset=\"50%\" side=\"left\" fill=\"currentColor\" text-anchor=\"middle\">dep</textPath>\n",
              "    </text>\n",
              "    <path class=\"displacy-arrowhead\" d=\"M647.0,154.0 L651.0,146.0 643.0,146.0\" fill=\"currentColor\"/>\n",
              "</g>\n",
              "\n",
              "<g class=\"displacy-arrow\">\n",
              "    <path class=\"displacy-arc\" id=\"arrow-e3f75e50c17c4aaca2c8b6372d110bd4-0-6\" stroke-width=\"2px\" d=\"M662,152.0 662,135.33333333333334 744.0,135.33333333333334 744.0,152.0\" fill=\"none\" stroke=\"currentColor\"/>\n",
              "    <text dy=\"1.25em\" style=\"font-size: 0.8em; letter-spacing: 1px\">\n",
              "        <textPath xlink:href=\"#arrow-e3f75e50c17c4aaca2c8b6372d110bd4-0-6\" class=\"displacy-label\" startOffset=\"50%\" side=\"left\" fill=\"currentColor\" text-anchor=\"middle\">prep</textPath>\n",
              "    </text>\n",
              "    <path class=\"displacy-arrowhead\" d=\"M744.0,154.0 L748.0,146.0 740.0,146.0\" fill=\"currentColor\"/>\n",
              "</g>\n",
              "\n",
              "<g class=\"displacy-arrow\">\n",
              "    <path class=\"displacy-arc\" id=\"arrow-e3f75e50c17c4aaca2c8b6372d110bd4-0-7\" stroke-width=\"2px\" d=\"M862,152.0 862,118.66666666666666 1047.0,118.66666666666666 1047.0,152.0\" fill=\"none\" stroke=\"currentColor\"/>\n",
              "    <text dy=\"1.25em\" style=\"font-size: 0.8em; letter-spacing: 1px\">\n",
              "        <textPath xlink:href=\"#arrow-e3f75e50c17c4aaca2c8b6372d110bd4-0-7\" class=\"displacy-label\" startOffset=\"50%\" side=\"left\" fill=\"currentColor\" text-anchor=\"middle\">quantmod</textPath>\n",
              "    </text>\n",
              "    <path class=\"displacy-arrowhead\" d=\"M862,154.0 L858,146.0 866,146.0\" fill=\"currentColor\"/>\n",
              "</g>\n",
              "\n",
              "<g class=\"displacy-arrow\">\n",
              "    <path class=\"displacy-arc\" id=\"arrow-e3f75e50c17c4aaca2c8b6372d110bd4-0-8\" stroke-width=\"2px\" d=\"M962,152.0 962,135.33333333333334 1044.0,135.33333333333334 1044.0,152.0\" fill=\"none\" stroke=\"currentColor\"/>\n",
              "    <text dy=\"1.25em\" style=\"font-size: 0.8em; letter-spacing: 1px\">\n",
              "        <textPath xlink:href=\"#arrow-e3f75e50c17c4aaca2c8b6372d110bd4-0-8\" class=\"displacy-label\" startOffset=\"50%\" side=\"left\" fill=\"currentColor\" text-anchor=\"middle\">compound</textPath>\n",
              "    </text>\n",
              "    <path class=\"displacy-arrowhead\" d=\"M962,154.0 L958,146.0 966,146.0\" fill=\"currentColor\"/>\n",
              "</g>\n",
              "\n",
              "<g class=\"displacy-arrow\">\n",
              "    <path class=\"displacy-arc\" id=\"arrow-e3f75e50c17c4aaca2c8b6372d110bd4-0-9\" stroke-width=\"2px\" d=\"M762,152.0 762,102.0 1050.0,102.0 1050.0,152.0\" fill=\"none\" stroke=\"currentColor\"/>\n",
              "    <text dy=\"1.25em\" style=\"font-size: 0.8em; letter-spacing: 1px\">\n",
              "        <textPath xlink:href=\"#arrow-e3f75e50c17c4aaca2c8b6372d110bd4-0-9\" class=\"displacy-label\" startOffset=\"50%\" side=\"left\" fill=\"currentColor\" text-anchor=\"middle\">pobj</textPath>\n",
              "    </text>\n",
              "    <path class=\"displacy-arrowhead\" d=\"M1050.0,154.0 L1054.0,146.0 1046.0,146.0\" fill=\"currentColor\"/>\n",
              "</g>\n",
              "</svg></span>"
            ]
          },
          "metadata": {}
        }
      ]
    },
    {
      "cell_type": "code",
      "source": [
        "options = {\"compact\":True, \"distance\":100, \"bg\":\"#00FFFf\", \"color\":\"#FF0000\"}\n",
        "displacy.render(doc, style='dep', jupyter=True, options=options)"
      ],
      "metadata": {
        "colab": {
          "base_uri": "https://localhost:8080/",
          "height": 309
        },
        "id": "9aNCh-1ZP9f8",
        "outputId": "5691014c-683f-463c-9370-353afb0dc923"
      },
      "execution_count": 19,
      "outputs": [
        {
          "output_type": "display_data",
          "data": {
            "text/plain": [
              "<IPython.core.display.HTML object>"
            ],
            "text/html": [
              "<span class=\"tex2jax_ignore\"><svg xmlns=\"http://www.w3.org/2000/svg\" xmlns:xlink=\"http://www.w3.org/1999/xlink\" xml:lang=\"en\" id=\"2650c41711b740519eaaa85e5a95d311-0\" class=\"displacy\" width=\"1150\" height=\"287.0\" direction=\"ltr\" style=\"max-width: none; height: 287.0px; color: #FF0000; background: #00FFFf; font-family: Arial; direction: ltr\">\n",
              "<text class=\"displacy-token\" fill=\"currentColor\" text-anchor=\"middle\" y=\"197.0\">\n",
              "    <tspan class=\"displacy-word\" fill=\"currentColor\" x=\"50\">Apple</tspan>\n",
              "    <tspan class=\"displacy-tag\" dy=\"2em\" fill=\"currentColor\" x=\"50\">PROPN</tspan>\n",
              "</text>\n",
              "\n",
              "<text class=\"displacy-token\" fill=\"currentColor\" text-anchor=\"middle\" y=\"197.0\">\n",
              "    <tspan class=\"displacy-word\" fill=\"currentColor\" x=\"150\">is</tspan>\n",
              "    <tspan class=\"displacy-tag\" dy=\"2em\" fill=\"currentColor\" x=\"150\">AUX</tspan>\n",
              "</text>\n",
              "\n",
              "<text class=\"displacy-token\" fill=\"currentColor\" text-anchor=\"middle\" y=\"197.0\">\n",
              "    <tspan class=\"displacy-word\" fill=\"currentColor\" x=\"250\">looking</tspan>\n",
              "    <tspan class=\"displacy-tag\" dy=\"2em\" fill=\"currentColor\" x=\"250\">VERB</tspan>\n",
              "</text>\n",
              "\n",
              "<text class=\"displacy-token\" fill=\"currentColor\" text-anchor=\"middle\" y=\"197.0\">\n",
              "    <tspan class=\"displacy-word\" fill=\"currentColor\" x=\"350\">at</tspan>\n",
              "    <tspan class=\"displacy-tag\" dy=\"2em\" fill=\"currentColor\" x=\"350\">ADP</tspan>\n",
              "</text>\n",
              "\n",
              "<text class=\"displacy-token\" fill=\"currentColor\" text-anchor=\"middle\" y=\"197.0\">\n",
              "    <tspan class=\"displacy-word\" fill=\"currentColor\" x=\"450\">buying</tspan>\n",
              "    <tspan class=\"displacy-tag\" dy=\"2em\" fill=\"currentColor\" x=\"450\">VERB</tspan>\n",
              "</text>\n",
              "\n",
              "<text class=\"displacy-token\" fill=\"currentColor\" text-anchor=\"middle\" y=\"197.0\">\n",
              "    <tspan class=\"displacy-word\" fill=\"currentColor\" x=\"550\">U.K.</tspan>\n",
              "    <tspan class=\"displacy-tag\" dy=\"2em\" fill=\"currentColor\" x=\"550\">PROPN</tspan>\n",
              "</text>\n",
              "\n",
              "<text class=\"displacy-token\" fill=\"currentColor\" text-anchor=\"middle\" y=\"197.0\">\n",
              "    <tspan class=\"displacy-word\" fill=\"currentColor\" x=\"650\">startup</tspan>\n",
              "    <tspan class=\"displacy-tag\" dy=\"2em\" fill=\"currentColor\" x=\"650\">NOUN</tspan>\n",
              "</text>\n",
              "\n",
              "<text class=\"displacy-token\" fill=\"currentColor\" text-anchor=\"middle\" y=\"197.0\">\n",
              "    <tspan class=\"displacy-word\" fill=\"currentColor\" x=\"750\">for</tspan>\n",
              "    <tspan class=\"displacy-tag\" dy=\"2em\" fill=\"currentColor\" x=\"750\">ADP</tspan>\n",
              "</text>\n",
              "\n",
              "<text class=\"displacy-token\" fill=\"currentColor\" text-anchor=\"middle\" y=\"197.0\">\n",
              "    <tspan class=\"displacy-word\" fill=\"currentColor\" x=\"850\">$</tspan>\n",
              "    <tspan class=\"displacy-tag\" dy=\"2em\" fill=\"currentColor\" x=\"850\">SYM</tspan>\n",
              "</text>\n",
              "\n",
              "<text class=\"displacy-token\" fill=\"currentColor\" text-anchor=\"middle\" y=\"197.0\">\n",
              "    <tspan class=\"displacy-word\" fill=\"currentColor\" x=\"950\">1</tspan>\n",
              "    <tspan class=\"displacy-tag\" dy=\"2em\" fill=\"currentColor\" x=\"950\">NUM</tspan>\n",
              "</text>\n",
              "\n",
              "<text class=\"displacy-token\" fill=\"currentColor\" text-anchor=\"middle\" y=\"197.0\">\n",
              "    <tspan class=\"displacy-word\" fill=\"currentColor\" x=\"1050\">billion</tspan>\n",
              "    <tspan class=\"displacy-tag\" dy=\"2em\" fill=\"currentColor\" x=\"1050\">NUM</tspan>\n",
              "</text>\n",
              "\n",
              "<g class=\"displacy-arrow\">\n",
              "    <path class=\"displacy-arc\" id=\"arrow-2650c41711b740519eaaa85e5a95d311-0-0\" stroke-width=\"2px\" d=\"M62,152.0 62,118.66666666666666 247.0,118.66666666666666 247.0,152.0\" fill=\"none\" stroke=\"currentColor\"/>\n",
              "    <text dy=\"1.25em\" style=\"font-size: 0.8em; letter-spacing: 1px\">\n",
              "        <textPath xlink:href=\"#arrow-2650c41711b740519eaaa85e5a95d311-0-0\" class=\"displacy-label\" startOffset=\"50%\" side=\"left\" fill=\"currentColor\" text-anchor=\"middle\">nsubj</textPath>\n",
              "    </text>\n",
              "    <path class=\"displacy-arrowhead\" d=\"M62,154.0 L58,146.0 66,146.0\" fill=\"currentColor\"/>\n",
              "</g>\n",
              "\n",
              "<g class=\"displacy-arrow\">\n",
              "    <path class=\"displacy-arc\" id=\"arrow-2650c41711b740519eaaa85e5a95d311-0-1\" stroke-width=\"2px\" d=\"M162,152.0 162,135.33333333333334 244.0,135.33333333333334 244.0,152.0\" fill=\"none\" stroke=\"currentColor\"/>\n",
              "    <text dy=\"1.25em\" style=\"font-size: 0.8em; letter-spacing: 1px\">\n",
              "        <textPath xlink:href=\"#arrow-2650c41711b740519eaaa85e5a95d311-0-1\" class=\"displacy-label\" startOffset=\"50%\" side=\"left\" fill=\"currentColor\" text-anchor=\"middle\">aux</textPath>\n",
              "    </text>\n",
              "    <path class=\"displacy-arrowhead\" d=\"M162,154.0 L158,146.0 166,146.0\" fill=\"currentColor\"/>\n",
              "</g>\n",
              "\n",
              "<g class=\"displacy-arrow\">\n",
              "    <path class=\"displacy-arc\" id=\"arrow-2650c41711b740519eaaa85e5a95d311-0-2\" stroke-width=\"2px\" d=\"M262,152.0 262,135.33333333333334 344.0,135.33333333333334 344.0,152.0\" fill=\"none\" stroke=\"currentColor\"/>\n",
              "    <text dy=\"1.25em\" style=\"font-size: 0.8em; letter-spacing: 1px\">\n",
              "        <textPath xlink:href=\"#arrow-2650c41711b740519eaaa85e5a95d311-0-2\" class=\"displacy-label\" startOffset=\"50%\" side=\"left\" fill=\"currentColor\" text-anchor=\"middle\">prep</textPath>\n",
              "    </text>\n",
              "    <path class=\"displacy-arrowhead\" d=\"M344.0,154.0 L348.0,146.0 340.0,146.0\" fill=\"currentColor\"/>\n",
              "</g>\n",
              "\n",
              "<g class=\"displacy-arrow\">\n",
              "    <path class=\"displacy-arc\" id=\"arrow-2650c41711b740519eaaa85e5a95d311-0-3\" stroke-width=\"2px\" d=\"M362,152.0 362,135.33333333333334 444.0,135.33333333333334 444.0,152.0\" fill=\"none\" stroke=\"currentColor\"/>\n",
              "    <text dy=\"1.25em\" style=\"font-size: 0.8em; letter-spacing: 1px\">\n",
              "        <textPath xlink:href=\"#arrow-2650c41711b740519eaaa85e5a95d311-0-3\" class=\"displacy-label\" startOffset=\"50%\" side=\"left\" fill=\"currentColor\" text-anchor=\"middle\">pcomp</textPath>\n",
              "    </text>\n",
              "    <path class=\"displacy-arrowhead\" d=\"M444.0,154.0 L448.0,146.0 440.0,146.0\" fill=\"currentColor\"/>\n",
              "</g>\n",
              "\n",
              "<g class=\"displacy-arrow\">\n",
              "    <path class=\"displacy-arc\" id=\"arrow-2650c41711b740519eaaa85e5a95d311-0-4\" stroke-width=\"2px\" d=\"M462,152.0 462,135.33333333333334 544.0,135.33333333333334 544.0,152.0\" fill=\"none\" stroke=\"currentColor\"/>\n",
              "    <text dy=\"1.25em\" style=\"font-size: 0.8em; letter-spacing: 1px\">\n",
              "        <textPath xlink:href=\"#arrow-2650c41711b740519eaaa85e5a95d311-0-4\" class=\"displacy-label\" startOffset=\"50%\" side=\"left\" fill=\"currentColor\" text-anchor=\"middle\">dobj</textPath>\n",
              "    </text>\n",
              "    <path class=\"displacy-arrowhead\" d=\"M544.0,154.0 L548.0,146.0 540.0,146.0\" fill=\"currentColor\"/>\n",
              "</g>\n",
              "\n",
              "<g class=\"displacy-arrow\">\n",
              "    <path class=\"displacy-arc\" id=\"arrow-2650c41711b740519eaaa85e5a95d311-0-5\" stroke-width=\"2px\" d=\"M262,152.0 262,118.66666666666666 647.0,118.66666666666666 647.0,152.0\" fill=\"none\" stroke=\"currentColor\"/>\n",
              "    <text dy=\"1.25em\" style=\"font-size: 0.8em; letter-spacing: 1px\">\n",
              "        <textPath xlink:href=\"#arrow-2650c41711b740519eaaa85e5a95d311-0-5\" class=\"displacy-label\" startOffset=\"50%\" side=\"left\" fill=\"currentColor\" text-anchor=\"middle\">dep</textPath>\n",
              "    </text>\n",
              "    <path class=\"displacy-arrowhead\" d=\"M647.0,154.0 L651.0,146.0 643.0,146.0\" fill=\"currentColor\"/>\n",
              "</g>\n",
              "\n",
              "<g class=\"displacy-arrow\">\n",
              "    <path class=\"displacy-arc\" id=\"arrow-2650c41711b740519eaaa85e5a95d311-0-6\" stroke-width=\"2px\" d=\"M662,152.0 662,135.33333333333334 744.0,135.33333333333334 744.0,152.0\" fill=\"none\" stroke=\"currentColor\"/>\n",
              "    <text dy=\"1.25em\" style=\"font-size: 0.8em; letter-spacing: 1px\">\n",
              "        <textPath xlink:href=\"#arrow-2650c41711b740519eaaa85e5a95d311-0-6\" class=\"displacy-label\" startOffset=\"50%\" side=\"left\" fill=\"currentColor\" text-anchor=\"middle\">prep</textPath>\n",
              "    </text>\n",
              "    <path class=\"displacy-arrowhead\" d=\"M744.0,154.0 L748.0,146.0 740.0,146.0\" fill=\"currentColor\"/>\n",
              "</g>\n",
              "\n",
              "<g class=\"displacy-arrow\">\n",
              "    <path class=\"displacy-arc\" id=\"arrow-2650c41711b740519eaaa85e5a95d311-0-7\" stroke-width=\"2px\" d=\"M862,152.0 862,118.66666666666666 1047.0,118.66666666666666 1047.0,152.0\" fill=\"none\" stroke=\"currentColor\"/>\n",
              "    <text dy=\"1.25em\" style=\"font-size: 0.8em; letter-spacing: 1px\">\n",
              "        <textPath xlink:href=\"#arrow-2650c41711b740519eaaa85e5a95d311-0-7\" class=\"displacy-label\" startOffset=\"50%\" side=\"left\" fill=\"currentColor\" text-anchor=\"middle\">quantmod</textPath>\n",
              "    </text>\n",
              "    <path class=\"displacy-arrowhead\" d=\"M862,154.0 L858,146.0 866,146.0\" fill=\"currentColor\"/>\n",
              "</g>\n",
              "\n",
              "<g class=\"displacy-arrow\">\n",
              "    <path class=\"displacy-arc\" id=\"arrow-2650c41711b740519eaaa85e5a95d311-0-8\" stroke-width=\"2px\" d=\"M962,152.0 962,135.33333333333334 1044.0,135.33333333333334 1044.0,152.0\" fill=\"none\" stroke=\"currentColor\"/>\n",
              "    <text dy=\"1.25em\" style=\"font-size: 0.8em; letter-spacing: 1px\">\n",
              "        <textPath xlink:href=\"#arrow-2650c41711b740519eaaa85e5a95d311-0-8\" class=\"displacy-label\" startOffset=\"50%\" side=\"left\" fill=\"currentColor\" text-anchor=\"middle\">compound</textPath>\n",
              "    </text>\n",
              "    <path class=\"displacy-arrowhead\" d=\"M962,154.0 L958,146.0 966,146.0\" fill=\"currentColor\"/>\n",
              "</g>\n",
              "\n",
              "<g class=\"displacy-arrow\">\n",
              "    <path class=\"displacy-arc\" id=\"arrow-2650c41711b740519eaaa85e5a95d311-0-9\" stroke-width=\"2px\" d=\"M762,152.0 762,102.0 1050.0,102.0 1050.0,152.0\" fill=\"none\" stroke=\"currentColor\"/>\n",
              "    <text dy=\"1.25em\" style=\"font-size: 0.8em; letter-spacing: 1px\">\n",
              "        <textPath xlink:href=\"#arrow-2650c41711b740519eaaa85e5a95d311-0-9\" class=\"displacy-label\" startOffset=\"50%\" side=\"left\" fill=\"currentColor\" text-anchor=\"middle\">pobj</textPath>\n",
              "    </text>\n",
              "    <path class=\"displacy-arrowhead\" d=\"M1050.0,154.0 L1054.0,146.0 1046.0,146.0\" fill=\"currentColor\"/>\n",
              "</g>\n",
              "</svg></span>"
            ]
          },
          "metadata": {}
        }
      ]
    },
    {
      "cell_type": "code",
      "source": [
        "options = {\"compact\":True, \"distance\":100, \"bg\":\"#00FFFf\", \"color\":\"#FF0000\",\"Font\":\"Source Sans Pro\"}\n",
        "displacy.render(doc, style='dep', jupyter=True, options=options)"
      ],
      "metadata": {
        "colab": {
          "base_uri": "https://localhost:8080/",
          "height": 309
        },
        "id": "DUr7fI0uQZ2u",
        "outputId": "d74474a7-aad2-4392-9de5-7cf927c48f3e"
      },
      "execution_count": 20,
      "outputs": [
        {
          "output_type": "display_data",
          "data": {
            "text/plain": [
              "<IPython.core.display.HTML object>"
            ],
            "text/html": [
              "<span class=\"tex2jax_ignore\"><svg xmlns=\"http://www.w3.org/2000/svg\" xmlns:xlink=\"http://www.w3.org/1999/xlink\" xml:lang=\"en\" id=\"ff073f92e71744d697ee8b1f0171b7cd-0\" class=\"displacy\" width=\"1150\" height=\"287.0\" direction=\"ltr\" style=\"max-width: none; height: 287.0px; color: #FF0000; background: #00FFFf; font-family: Arial; direction: ltr\">\n",
              "<text class=\"displacy-token\" fill=\"currentColor\" text-anchor=\"middle\" y=\"197.0\">\n",
              "    <tspan class=\"displacy-word\" fill=\"currentColor\" x=\"50\">Apple</tspan>\n",
              "    <tspan class=\"displacy-tag\" dy=\"2em\" fill=\"currentColor\" x=\"50\">PROPN</tspan>\n",
              "</text>\n",
              "\n",
              "<text class=\"displacy-token\" fill=\"currentColor\" text-anchor=\"middle\" y=\"197.0\">\n",
              "    <tspan class=\"displacy-word\" fill=\"currentColor\" x=\"150\">is</tspan>\n",
              "    <tspan class=\"displacy-tag\" dy=\"2em\" fill=\"currentColor\" x=\"150\">AUX</tspan>\n",
              "</text>\n",
              "\n",
              "<text class=\"displacy-token\" fill=\"currentColor\" text-anchor=\"middle\" y=\"197.0\">\n",
              "    <tspan class=\"displacy-word\" fill=\"currentColor\" x=\"250\">looking</tspan>\n",
              "    <tspan class=\"displacy-tag\" dy=\"2em\" fill=\"currentColor\" x=\"250\">VERB</tspan>\n",
              "</text>\n",
              "\n",
              "<text class=\"displacy-token\" fill=\"currentColor\" text-anchor=\"middle\" y=\"197.0\">\n",
              "    <tspan class=\"displacy-word\" fill=\"currentColor\" x=\"350\">at</tspan>\n",
              "    <tspan class=\"displacy-tag\" dy=\"2em\" fill=\"currentColor\" x=\"350\">ADP</tspan>\n",
              "</text>\n",
              "\n",
              "<text class=\"displacy-token\" fill=\"currentColor\" text-anchor=\"middle\" y=\"197.0\">\n",
              "    <tspan class=\"displacy-word\" fill=\"currentColor\" x=\"450\">buying</tspan>\n",
              "    <tspan class=\"displacy-tag\" dy=\"2em\" fill=\"currentColor\" x=\"450\">VERB</tspan>\n",
              "</text>\n",
              "\n",
              "<text class=\"displacy-token\" fill=\"currentColor\" text-anchor=\"middle\" y=\"197.0\">\n",
              "    <tspan class=\"displacy-word\" fill=\"currentColor\" x=\"550\">U.K.</tspan>\n",
              "    <tspan class=\"displacy-tag\" dy=\"2em\" fill=\"currentColor\" x=\"550\">PROPN</tspan>\n",
              "</text>\n",
              "\n",
              "<text class=\"displacy-token\" fill=\"currentColor\" text-anchor=\"middle\" y=\"197.0\">\n",
              "    <tspan class=\"displacy-word\" fill=\"currentColor\" x=\"650\">startup</tspan>\n",
              "    <tspan class=\"displacy-tag\" dy=\"2em\" fill=\"currentColor\" x=\"650\">NOUN</tspan>\n",
              "</text>\n",
              "\n",
              "<text class=\"displacy-token\" fill=\"currentColor\" text-anchor=\"middle\" y=\"197.0\">\n",
              "    <tspan class=\"displacy-word\" fill=\"currentColor\" x=\"750\">for</tspan>\n",
              "    <tspan class=\"displacy-tag\" dy=\"2em\" fill=\"currentColor\" x=\"750\">ADP</tspan>\n",
              "</text>\n",
              "\n",
              "<text class=\"displacy-token\" fill=\"currentColor\" text-anchor=\"middle\" y=\"197.0\">\n",
              "    <tspan class=\"displacy-word\" fill=\"currentColor\" x=\"850\">$</tspan>\n",
              "    <tspan class=\"displacy-tag\" dy=\"2em\" fill=\"currentColor\" x=\"850\">SYM</tspan>\n",
              "</text>\n",
              "\n",
              "<text class=\"displacy-token\" fill=\"currentColor\" text-anchor=\"middle\" y=\"197.0\">\n",
              "    <tspan class=\"displacy-word\" fill=\"currentColor\" x=\"950\">1</tspan>\n",
              "    <tspan class=\"displacy-tag\" dy=\"2em\" fill=\"currentColor\" x=\"950\">NUM</tspan>\n",
              "</text>\n",
              "\n",
              "<text class=\"displacy-token\" fill=\"currentColor\" text-anchor=\"middle\" y=\"197.0\">\n",
              "    <tspan class=\"displacy-word\" fill=\"currentColor\" x=\"1050\">billion</tspan>\n",
              "    <tspan class=\"displacy-tag\" dy=\"2em\" fill=\"currentColor\" x=\"1050\">NUM</tspan>\n",
              "</text>\n",
              "\n",
              "<g class=\"displacy-arrow\">\n",
              "    <path class=\"displacy-arc\" id=\"arrow-ff073f92e71744d697ee8b1f0171b7cd-0-0\" stroke-width=\"2px\" d=\"M62,152.0 62,118.66666666666666 247.0,118.66666666666666 247.0,152.0\" fill=\"none\" stroke=\"currentColor\"/>\n",
              "    <text dy=\"1.25em\" style=\"font-size: 0.8em; letter-spacing: 1px\">\n",
              "        <textPath xlink:href=\"#arrow-ff073f92e71744d697ee8b1f0171b7cd-0-0\" class=\"displacy-label\" startOffset=\"50%\" side=\"left\" fill=\"currentColor\" text-anchor=\"middle\">nsubj</textPath>\n",
              "    </text>\n",
              "    <path class=\"displacy-arrowhead\" d=\"M62,154.0 L58,146.0 66,146.0\" fill=\"currentColor\"/>\n",
              "</g>\n",
              "\n",
              "<g class=\"displacy-arrow\">\n",
              "    <path class=\"displacy-arc\" id=\"arrow-ff073f92e71744d697ee8b1f0171b7cd-0-1\" stroke-width=\"2px\" d=\"M162,152.0 162,135.33333333333334 244.0,135.33333333333334 244.0,152.0\" fill=\"none\" stroke=\"currentColor\"/>\n",
              "    <text dy=\"1.25em\" style=\"font-size: 0.8em; letter-spacing: 1px\">\n",
              "        <textPath xlink:href=\"#arrow-ff073f92e71744d697ee8b1f0171b7cd-0-1\" class=\"displacy-label\" startOffset=\"50%\" side=\"left\" fill=\"currentColor\" text-anchor=\"middle\">aux</textPath>\n",
              "    </text>\n",
              "    <path class=\"displacy-arrowhead\" d=\"M162,154.0 L158,146.0 166,146.0\" fill=\"currentColor\"/>\n",
              "</g>\n",
              "\n",
              "<g class=\"displacy-arrow\">\n",
              "    <path class=\"displacy-arc\" id=\"arrow-ff073f92e71744d697ee8b1f0171b7cd-0-2\" stroke-width=\"2px\" d=\"M262,152.0 262,135.33333333333334 344.0,135.33333333333334 344.0,152.0\" fill=\"none\" stroke=\"currentColor\"/>\n",
              "    <text dy=\"1.25em\" style=\"font-size: 0.8em; letter-spacing: 1px\">\n",
              "        <textPath xlink:href=\"#arrow-ff073f92e71744d697ee8b1f0171b7cd-0-2\" class=\"displacy-label\" startOffset=\"50%\" side=\"left\" fill=\"currentColor\" text-anchor=\"middle\">prep</textPath>\n",
              "    </text>\n",
              "    <path class=\"displacy-arrowhead\" d=\"M344.0,154.0 L348.0,146.0 340.0,146.0\" fill=\"currentColor\"/>\n",
              "</g>\n",
              "\n",
              "<g class=\"displacy-arrow\">\n",
              "    <path class=\"displacy-arc\" id=\"arrow-ff073f92e71744d697ee8b1f0171b7cd-0-3\" stroke-width=\"2px\" d=\"M362,152.0 362,135.33333333333334 444.0,135.33333333333334 444.0,152.0\" fill=\"none\" stroke=\"currentColor\"/>\n",
              "    <text dy=\"1.25em\" style=\"font-size: 0.8em; letter-spacing: 1px\">\n",
              "        <textPath xlink:href=\"#arrow-ff073f92e71744d697ee8b1f0171b7cd-0-3\" class=\"displacy-label\" startOffset=\"50%\" side=\"left\" fill=\"currentColor\" text-anchor=\"middle\">pcomp</textPath>\n",
              "    </text>\n",
              "    <path class=\"displacy-arrowhead\" d=\"M444.0,154.0 L448.0,146.0 440.0,146.0\" fill=\"currentColor\"/>\n",
              "</g>\n",
              "\n",
              "<g class=\"displacy-arrow\">\n",
              "    <path class=\"displacy-arc\" id=\"arrow-ff073f92e71744d697ee8b1f0171b7cd-0-4\" stroke-width=\"2px\" d=\"M462,152.0 462,135.33333333333334 544.0,135.33333333333334 544.0,152.0\" fill=\"none\" stroke=\"currentColor\"/>\n",
              "    <text dy=\"1.25em\" style=\"font-size: 0.8em; letter-spacing: 1px\">\n",
              "        <textPath xlink:href=\"#arrow-ff073f92e71744d697ee8b1f0171b7cd-0-4\" class=\"displacy-label\" startOffset=\"50%\" side=\"left\" fill=\"currentColor\" text-anchor=\"middle\">dobj</textPath>\n",
              "    </text>\n",
              "    <path class=\"displacy-arrowhead\" d=\"M544.0,154.0 L548.0,146.0 540.0,146.0\" fill=\"currentColor\"/>\n",
              "</g>\n",
              "\n",
              "<g class=\"displacy-arrow\">\n",
              "    <path class=\"displacy-arc\" id=\"arrow-ff073f92e71744d697ee8b1f0171b7cd-0-5\" stroke-width=\"2px\" d=\"M262,152.0 262,118.66666666666666 647.0,118.66666666666666 647.0,152.0\" fill=\"none\" stroke=\"currentColor\"/>\n",
              "    <text dy=\"1.25em\" style=\"font-size: 0.8em; letter-spacing: 1px\">\n",
              "        <textPath xlink:href=\"#arrow-ff073f92e71744d697ee8b1f0171b7cd-0-5\" class=\"displacy-label\" startOffset=\"50%\" side=\"left\" fill=\"currentColor\" text-anchor=\"middle\">dep</textPath>\n",
              "    </text>\n",
              "    <path class=\"displacy-arrowhead\" d=\"M647.0,154.0 L651.0,146.0 643.0,146.0\" fill=\"currentColor\"/>\n",
              "</g>\n",
              "\n",
              "<g class=\"displacy-arrow\">\n",
              "    <path class=\"displacy-arc\" id=\"arrow-ff073f92e71744d697ee8b1f0171b7cd-0-6\" stroke-width=\"2px\" d=\"M662,152.0 662,135.33333333333334 744.0,135.33333333333334 744.0,152.0\" fill=\"none\" stroke=\"currentColor\"/>\n",
              "    <text dy=\"1.25em\" style=\"font-size: 0.8em; letter-spacing: 1px\">\n",
              "        <textPath xlink:href=\"#arrow-ff073f92e71744d697ee8b1f0171b7cd-0-6\" class=\"displacy-label\" startOffset=\"50%\" side=\"left\" fill=\"currentColor\" text-anchor=\"middle\">prep</textPath>\n",
              "    </text>\n",
              "    <path class=\"displacy-arrowhead\" d=\"M744.0,154.0 L748.0,146.0 740.0,146.0\" fill=\"currentColor\"/>\n",
              "</g>\n",
              "\n",
              "<g class=\"displacy-arrow\">\n",
              "    <path class=\"displacy-arc\" id=\"arrow-ff073f92e71744d697ee8b1f0171b7cd-0-7\" stroke-width=\"2px\" d=\"M862,152.0 862,118.66666666666666 1047.0,118.66666666666666 1047.0,152.0\" fill=\"none\" stroke=\"currentColor\"/>\n",
              "    <text dy=\"1.25em\" style=\"font-size: 0.8em; letter-spacing: 1px\">\n",
              "        <textPath xlink:href=\"#arrow-ff073f92e71744d697ee8b1f0171b7cd-0-7\" class=\"displacy-label\" startOffset=\"50%\" side=\"left\" fill=\"currentColor\" text-anchor=\"middle\">quantmod</textPath>\n",
              "    </text>\n",
              "    <path class=\"displacy-arrowhead\" d=\"M862,154.0 L858,146.0 866,146.0\" fill=\"currentColor\"/>\n",
              "</g>\n",
              "\n",
              "<g class=\"displacy-arrow\">\n",
              "    <path class=\"displacy-arc\" id=\"arrow-ff073f92e71744d697ee8b1f0171b7cd-0-8\" stroke-width=\"2px\" d=\"M962,152.0 962,135.33333333333334 1044.0,135.33333333333334 1044.0,152.0\" fill=\"none\" stroke=\"currentColor\"/>\n",
              "    <text dy=\"1.25em\" style=\"font-size: 0.8em; letter-spacing: 1px\">\n",
              "        <textPath xlink:href=\"#arrow-ff073f92e71744d697ee8b1f0171b7cd-0-8\" class=\"displacy-label\" startOffset=\"50%\" side=\"left\" fill=\"currentColor\" text-anchor=\"middle\">compound</textPath>\n",
              "    </text>\n",
              "    <path class=\"displacy-arrowhead\" d=\"M962,154.0 L958,146.0 966,146.0\" fill=\"currentColor\"/>\n",
              "</g>\n",
              "\n",
              "<g class=\"displacy-arrow\">\n",
              "    <path class=\"displacy-arc\" id=\"arrow-ff073f92e71744d697ee8b1f0171b7cd-0-9\" stroke-width=\"2px\" d=\"M762,152.0 762,102.0 1050.0,102.0 1050.0,152.0\" fill=\"none\" stroke=\"currentColor\"/>\n",
              "    <text dy=\"1.25em\" style=\"font-size: 0.8em; letter-spacing: 1px\">\n",
              "        <textPath xlink:href=\"#arrow-ff073f92e71744d697ee8b1f0171b7cd-0-9\" class=\"displacy-label\" startOffset=\"50%\" side=\"left\" fill=\"currentColor\" text-anchor=\"middle\">pobj</textPath>\n",
              "    </text>\n",
              "    <path class=\"displacy-arrowhead\" d=\"M1050.0,154.0 L1054.0,146.0 1046.0,146.0\" fill=\"currentColor\"/>\n",
              "</g>\n",
              "</svg></span>"
            ]
          },
          "metadata": {}
        }
      ]
    },
    {
      "cell_type": "code",
      "source": [],
      "metadata": {
        "id": "sl5TDzXpQt3o"
      },
      "execution_count": 20,
      "outputs": []
    },
    {
      "cell_type": "markdown",
      "source": [
        "#Sentence Boundary Detection"
      ],
      "metadata": {
        "id": "e136HXtGQ5If"
      }
    },
    {
      "cell_type": "code",
      "source": [
        "para = '''Choosing the right font has a huge impact on how the readers experience a website.\n",
        "           The right font can create a strong identity for your brand.\n",
        "           Using a font that is easy to read is important. The font adds value to your text. It is also important to choose the correct color and text size for the font.'''"
      ],
      "metadata": {
        "id": "38XhrtBMQ8U5"
      },
      "execution_count": 21,
      "outputs": []
    },
    {
      "cell_type": "code",
      "source": [
        "doc = nlp(para)"
      ],
      "metadata": {
        "id": "-2LPLVarRiYU"
      },
      "execution_count": 22,
      "outputs": []
    },
    {
      "cell_type": "code",
      "source": [
        "doc"
      ],
      "metadata": {
        "colab": {
          "base_uri": "https://localhost:8080/"
        },
        "id": "BeIeNf8zR2Bz",
        "outputId": "66f2eb95-9df8-433f-94e9-c8fb9f32aed6"
      },
      "execution_count": 23,
      "outputs": [
        {
          "output_type": "execute_result",
          "data": {
            "text/plain": [
              "Choosing the right font has a huge impact on how the readers experience a website.\n",
              "           The right font can create a strong identity for your brand.\n",
              "           Using a font that is easy to read is important. The font adds value to your text. It is also important to choose the correct color and text size for the font."
            ]
          },
          "metadata": {},
          "execution_count": 23
        }
      ]
    },
    {
      "cell_type": "code",
      "source": [
        "list(doc)"
      ],
      "metadata": {
        "colab": {
          "base_uri": "https://localhost:8080/"
        },
        "id": "kJkRwVRRR4rG",
        "outputId": "af01e06b-d684-4a71-9954-8e7719f0f68f"
      },
      "execution_count": 24,
      "outputs": [
        {
          "output_type": "execute_result",
          "data": {
            "text/plain": [
              "[Choosing,\n",
              " the,\n",
              " right,\n",
              " font,\n",
              " has,\n",
              " a,\n",
              " huge,\n",
              " impact,\n",
              " on,\n",
              " how,\n",
              " the,\n",
              " readers,\n",
              " experience,\n",
              " a,\n",
              " website,\n",
              " .,\n",
              " \n",
              "            ,\n",
              " The,\n",
              " right,\n",
              " font,\n",
              " can,\n",
              " create,\n",
              " a,\n",
              " strong,\n",
              " identity,\n",
              " for,\n",
              " your,\n",
              " brand,\n",
              " .,\n",
              " \n",
              "            ,\n",
              " Using,\n",
              " a,\n",
              " font,\n",
              " that,\n",
              " is,\n",
              " easy,\n",
              " to,\n",
              " read,\n",
              " is,\n",
              " important,\n",
              " .,\n",
              " The,\n",
              " font,\n",
              " adds,\n",
              " value,\n",
              " to,\n",
              " your,\n",
              " text,\n",
              " .,\n",
              " It,\n",
              " is,\n",
              " also,\n",
              " important,\n",
              " to,\n",
              " choose,\n",
              " the,\n",
              " correct,\n",
              " color,\n",
              " and,\n",
              " text,\n",
              " size,\n",
              " for,\n",
              " the,\n",
              " font,\n",
              " .]"
            ]
          },
          "metadata": {},
          "execution_count": 24
        }
      ]
    },
    {
      "cell_type": "code",
      "source": [
        "sents = list(doc.sents)"
      ],
      "metadata": {
        "id": "D6kUGqrhR79J"
      },
      "execution_count": 25,
      "outputs": []
    },
    {
      "cell_type": "code",
      "source": [
        "len(sents)"
      ],
      "metadata": {
        "colab": {
          "base_uri": "https://localhost:8080/"
        },
        "id": "XawGx4YGSNFD",
        "outputId": "9726d169-8987-4feb-b6e6-db229eea39b9"
      },
      "execution_count": 26,
      "outputs": [
        {
          "output_type": "execute_result",
          "data": {
            "text/plain": [
              "5"
            ]
          },
          "metadata": {},
          "execution_count": 26
        }
      ]
    },
    {
      "cell_type": "code",
      "source": [
        "for sent in sents:\n",
        "  print(sent)"
      ],
      "metadata": {
        "colab": {
          "base_uri": "https://localhost:8080/"
        },
        "id": "-AdURhR-SPBT",
        "outputId": "8d34068c-686b-44a8-ae29-c21e4c679c6a"
      },
      "execution_count": 27,
      "outputs": [
        {
          "output_type": "stream",
          "name": "stdout",
          "text": [
            "Choosing the right font has a huge impact on how the readers experience a website.\n",
            "           \n",
            "The right font can create a strong identity for your brand.\n",
            "           \n",
            "Using a font that is easy to read is important.\n",
            "The font adds value to your text.\n",
            "It is also important to choose the correct color and text size for the font.\n"
          ]
        }
      ]
    },
    {
      "cell_type": "markdown",
      "source": [
        "#Stopwords"
      ],
      "metadata": {
        "id": "pmb0HN9FSbZU"
      }
    },
    {
      "cell_type": "code",
      "source": [
        "stopwords = spacy.lang.en.stop_words.STOP_WORDS"
      ],
      "metadata": {
        "id": "jYDwPAsOSdMF"
      },
      "execution_count": 28,
      "outputs": []
    },
    {
      "cell_type": "code",
      "source": [
        "stopwords"
      ],
      "metadata": {
        "colab": {
          "base_uri": "https://localhost:8080/"
        },
        "id": "TpnHgRdcSr8o",
        "outputId": "984c9068-db16-43dc-af29-cdb71e4859fc"
      },
      "execution_count": 29,
      "outputs": [
        {
          "output_type": "execute_result",
          "data": {
            "text/plain": [
              "{\"'d\",\n",
              " \"'ll\",\n",
              " \"'m\",\n",
              " \"'re\",\n",
              " \"'s\",\n",
              " \"'ve\",\n",
              " 'a',\n",
              " 'about',\n",
              " 'above',\n",
              " 'across',\n",
              " 'after',\n",
              " 'afterwards',\n",
              " 'again',\n",
              " 'against',\n",
              " 'all',\n",
              " 'almost',\n",
              " 'alone',\n",
              " 'along',\n",
              " 'already',\n",
              " 'also',\n",
              " 'although',\n",
              " 'always',\n",
              " 'am',\n",
              " 'among',\n",
              " 'amongst',\n",
              " 'amount',\n",
              " 'an',\n",
              " 'and',\n",
              " 'another',\n",
              " 'any',\n",
              " 'anyhow',\n",
              " 'anyone',\n",
              " 'anything',\n",
              " 'anyway',\n",
              " 'anywhere',\n",
              " 'are',\n",
              " 'around',\n",
              " 'as',\n",
              " 'at',\n",
              " 'back',\n",
              " 'be',\n",
              " 'became',\n",
              " 'because',\n",
              " 'become',\n",
              " 'becomes',\n",
              " 'becoming',\n",
              " 'been',\n",
              " 'before',\n",
              " 'beforehand',\n",
              " 'behind',\n",
              " 'being',\n",
              " 'below',\n",
              " 'beside',\n",
              " 'besides',\n",
              " 'between',\n",
              " 'beyond',\n",
              " 'both',\n",
              " 'bottom',\n",
              " 'but',\n",
              " 'by',\n",
              " 'ca',\n",
              " 'call',\n",
              " 'can',\n",
              " 'cannot',\n",
              " 'could',\n",
              " 'did',\n",
              " 'do',\n",
              " 'does',\n",
              " 'doing',\n",
              " 'done',\n",
              " 'down',\n",
              " 'due',\n",
              " 'during',\n",
              " 'each',\n",
              " 'eight',\n",
              " 'either',\n",
              " 'eleven',\n",
              " 'else',\n",
              " 'elsewhere',\n",
              " 'empty',\n",
              " 'enough',\n",
              " 'even',\n",
              " 'ever',\n",
              " 'every',\n",
              " 'everyone',\n",
              " 'everything',\n",
              " 'everywhere',\n",
              " 'except',\n",
              " 'few',\n",
              " 'fifteen',\n",
              " 'fifty',\n",
              " 'first',\n",
              " 'five',\n",
              " 'for',\n",
              " 'former',\n",
              " 'formerly',\n",
              " 'forty',\n",
              " 'four',\n",
              " 'from',\n",
              " 'front',\n",
              " 'full',\n",
              " 'further',\n",
              " 'get',\n",
              " 'give',\n",
              " 'go',\n",
              " 'had',\n",
              " 'has',\n",
              " 'have',\n",
              " 'he',\n",
              " 'hence',\n",
              " 'her',\n",
              " 'here',\n",
              " 'hereafter',\n",
              " 'hereby',\n",
              " 'herein',\n",
              " 'hereupon',\n",
              " 'hers',\n",
              " 'herself',\n",
              " 'him',\n",
              " 'himself',\n",
              " 'his',\n",
              " 'how',\n",
              " 'however',\n",
              " 'hundred',\n",
              " 'i',\n",
              " 'if',\n",
              " 'in',\n",
              " 'indeed',\n",
              " 'into',\n",
              " 'is',\n",
              " 'it',\n",
              " 'its',\n",
              " 'itself',\n",
              " 'just',\n",
              " 'keep',\n",
              " 'last',\n",
              " 'latter',\n",
              " 'latterly',\n",
              " 'least',\n",
              " 'less',\n",
              " 'made',\n",
              " 'make',\n",
              " 'many',\n",
              " 'may',\n",
              " 'me',\n",
              " 'meanwhile',\n",
              " 'might',\n",
              " 'mine',\n",
              " 'more',\n",
              " 'moreover',\n",
              " 'most',\n",
              " 'mostly',\n",
              " 'move',\n",
              " 'much',\n",
              " 'must',\n",
              " 'my',\n",
              " 'myself',\n",
              " \"n't\",\n",
              " 'name',\n",
              " 'namely',\n",
              " 'neither',\n",
              " 'never',\n",
              " 'nevertheless',\n",
              " 'next',\n",
              " 'nine',\n",
              " 'no',\n",
              " 'nobody',\n",
              " 'none',\n",
              " 'noone',\n",
              " 'nor',\n",
              " 'not',\n",
              " 'nothing',\n",
              " 'now',\n",
              " 'nowhere',\n",
              " 'n‘t',\n",
              " 'n’t',\n",
              " 'of',\n",
              " 'off',\n",
              " 'often',\n",
              " 'on',\n",
              " 'once',\n",
              " 'one',\n",
              " 'only',\n",
              " 'onto',\n",
              " 'or',\n",
              " 'other',\n",
              " 'others',\n",
              " 'otherwise',\n",
              " 'our',\n",
              " 'ours',\n",
              " 'ourselves',\n",
              " 'out',\n",
              " 'over',\n",
              " 'own',\n",
              " 'part',\n",
              " 'per',\n",
              " 'perhaps',\n",
              " 'please',\n",
              " 'put',\n",
              " 'quite',\n",
              " 'rather',\n",
              " 're',\n",
              " 'really',\n",
              " 'regarding',\n",
              " 'same',\n",
              " 'say',\n",
              " 'see',\n",
              " 'seem',\n",
              " 'seemed',\n",
              " 'seeming',\n",
              " 'seems',\n",
              " 'serious',\n",
              " 'several',\n",
              " 'she',\n",
              " 'should',\n",
              " 'show',\n",
              " 'side',\n",
              " 'since',\n",
              " 'six',\n",
              " 'sixty',\n",
              " 'so',\n",
              " 'some',\n",
              " 'somehow',\n",
              " 'someone',\n",
              " 'something',\n",
              " 'sometime',\n",
              " 'sometimes',\n",
              " 'somewhere',\n",
              " 'still',\n",
              " 'such',\n",
              " 'take',\n",
              " 'ten',\n",
              " 'than',\n",
              " 'that',\n",
              " 'the',\n",
              " 'their',\n",
              " 'them',\n",
              " 'themselves',\n",
              " 'then',\n",
              " 'thence',\n",
              " 'there',\n",
              " 'thereafter',\n",
              " 'thereby',\n",
              " 'therefore',\n",
              " 'therein',\n",
              " 'thereupon',\n",
              " 'these',\n",
              " 'they',\n",
              " 'third',\n",
              " 'this',\n",
              " 'those',\n",
              " 'though',\n",
              " 'three',\n",
              " 'through',\n",
              " 'throughout',\n",
              " 'thru',\n",
              " 'thus',\n",
              " 'to',\n",
              " 'together',\n",
              " 'too',\n",
              " 'top',\n",
              " 'toward',\n",
              " 'towards',\n",
              " 'twelve',\n",
              " 'twenty',\n",
              " 'two',\n",
              " 'under',\n",
              " 'unless',\n",
              " 'until',\n",
              " 'up',\n",
              " 'upon',\n",
              " 'us',\n",
              " 'used',\n",
              " 'using',\n",
              " 'various',\n",
              " 'very',\n",
              " 'via',\n",
              " 'was',\n",
              " 'we',\n",
              " 'well',\n",
              " 'were',\n",
              " 'what',\n",
              " 'whatever',\n",
              " 'when',\n",
              " 'whence',\n",
              " 'whenever',\n",
              " 'where',\n",
              " 'whereafter',\n",
              " 'whereas',\n",
              " 'whereby',\n",
              " 'wherein',\n",
              " 'whereupon',\n",
              " 'wherever',\n",
              " 'whether',\n",
              " 'which',\n",
              " 'while',\n",
              " 'whither',\n",
              " 'who',\n",
              " 'whoever',\n",
              " 'whole',\n",
              " 'whom',\n",
              " 'whose',\n",
              " 'why',\n",
              " 'will',\n",
              " 'with',\n",
              " 'within',\n",
              " 'without',\n",
              " 'would',\n",
              " 'yet',\n",
              " 'you',\n",
              " 'your',\n",
              " 'yours',\n",
              " 'yourself',\n",
              " 'yourselves',\n",
              " '‘d',\n",
              " '‘ll',\n",
              " '‘m',\n",
              " '‘re',\n",
              " '‘s',\n",
              " '‘ve',\n",
              " '’d',\n",
              " '’ll',\n",
              " '’m',\n",
              " '’re',\n",
              " '’s',\n",
              " '’ve'}"
            ]
          },
          "metadata": {},
          "execution_count": 29
        }
      ]
    },
    {
      "cell_type": "code",
      "source": [
        "for sent in sents:\n",
        "  print(sent.text)\n",
        "  for token in sent:\n",
        "    if token.text not in stopwords:\n",
        "      print(token)\n",
        "  break"
      ],
      "metadata": {
        "colab": {
          "base_uri": "https://localhost:8080/"
        },
        "id": "BRPBmcPiSt7B",
        "outputId": "5a115fea-5a6e-401c-bdec-6a460e6cd429"
      },
      "execution_count": 30,
      "outputs": [
        {
          "output_type": "stream",
          "name": "stdout",
          "text": [
            "Choosing the right font has a huge impact on how the readers experience a website.\n",
            "           \n",
            "Choosing\n",
            "right\n",
            "font\n",
            "huge\n",
            "impact\n",
            "readers\n",
            "experience\n",
            "website\n",
            ".\n",
            "\n",
            "           \n"
          ]
        }
      ]
    },
    {
      "cell_type": "code",
      "source": [],
      "metadata": {
        "id": "zTXzIjESTIIU"
      },
      "execution_count": 30,
      "outputs": []
    },
    {
      "cell_type": "markdown",
      "source": [
        "#Lemmatization"
      ],
      "metadata": {
        "id": "vJKh-xuDTbrs"
      }
    },
    {
      "cell_type": "code",
      "source": [
        "text = 'playing played plays play'"
      ],
      "metadata": {
        "id": "mRvtniY4Tejz"
      },
      "execution_count": 31,
      "outputs": []
    },
    {
      "cell_type": "code",
      "source": [
        "doc = nlp(text)"
      ],
      "metadata": {
        "id": "OSsWvA-kUUjs"
      },
      "execution_count": 32,
      "outputs": []
    },
    {
      "cell_type": "code",
      "source": [
        "for token in doc:\n",
        "  print(token.text, token.lemma_)"
      ],
      "metadata": {
        "colab": {
          "base_uri": "https://localhost:8080/"
        },
        "id": "KNLQZbu-Tuc0",
        "outputId": "10fdd3c3-1936-4810-bc6b-88df74518af7"
      },
      "execution_count": 33,
      "outputs": [
        {
          "output_type": "stream",
          "name": "stdout",
          "text": [
            "playing play\n",
            "played play\n",
            "plays play\n",
            "play play\n"
          ]
        }
      ]
    },
    {
      "cell_type": "markdown",
      "source": [
        "#Stemming Words with NLTK"
      ],
      "metadata": {
        "id": "x-Y1CTCafZ6f"
      }
    },
    {
      "cell_type": "code",
      "source": [
        "!pip install nltk"
      ],
      "metadata": {
        "id": "gQh14WOUT1NQ",
        "colab": {
          "base_uri": "https://localhost:8080/"
        },
        "outputId": "d466a621-f932-4f45-e33f-6594032946e3"
      },
      "execution_count": 34,
      "outputs": [
        {
          "output_type": "stream",
          "name": "stdout",
          "text": [
            "Requirement already satisfied: nltk in /usr/local/lib/python3.10/dist-packages (3.8.1)\n",
            "Requirement already satisfied: click in /usr/local/lib/python3.10/dist-packages (from nltk) (8.1.7)\n",
            "Requirement already satisfied: joblib in /usr/local/lib/python3.10/dist-packages (from nltk) (1.3.2)\n",
            "Requirement already satisfied: regex>=2021.8.3 in /usr/local/lib/python3.10/dist-packages (from nltk) (2023.6.3)\n",
            "Requirement already satisfied: tqdm in /usr/local/lib/python3.10/dist-packages (from nltk) (4.66.1)\n",
            "\u001b[33mWARNING: Running pip as the 'root' user can result in broken permissions and conflicting behaviour with the system package manager. It is recommended to use a virtual environment instead: https://pip.pypa.io/warnings/venv\u001b[0m\u001b[33m\n",
            "\u001b[0m"
          ]
        }
      ]
    },
    {
      "cell_type": "code",
      "source": [
        "from nltk.stem import PorterStemmer\n",
        "from nltk.tokenize import word_tokenize\n"
      ],
      "metadata": {
        "id": "w5sUf--RfkhN"
      },
      "execution_count": 35,
      "outputs": []
    },
    {
      "cell_type": "markdown",
      "source": [
        "Faster but not accurate"
      ],
      "metadata": {
        "id": "9E4K2z6ygmbI"
      }
    },
    {
      "cell_type": "code",
      "source": [
        "ps = PorterStemmer()\n",
        "words = ['changing','changes','changed','change','study','studying']\n",
        "for word in words:\n",
        "  print(word, \": \",ps.stem(word))\n"
      ],
      "metadata": {
        "colab": {
          "base_uri": "https://localhost:8080/"
        },
        "id": "Qcr8IFuUfzKA",
        "outputId": "1c4a412a-8fef-4218-b00d-b009ebfc6814"
      },
      "execution_count": 36,
      "outputs": [
        {
          "output_type": "stream",
          "name": "stdout",
          "text": [
            "changing :  chang\n",
            "changes :  chang\n",
            "changed :  chang\n",
            "change :  chang\n",
            "study :  studi\n",
            "studying :  studi\n"
          ]
        }
      ]
    },
    {
      "cell_type": "code",
      "source": [
        "import spacy\n",
        "nlp = spacy.load('en_core_web_sm')"
      ],
      "metadata": {
        "id": "tJEwjlKKgLvd"
      },
      "execution_count": 37,
      "outputs": []
    },
    {
      "cell_type": "markdown",
      "source": [
        "Slower but accurate"
      ],
      "metadata": {
        "id": "iVDUaJhAgrrB"
      }
    },
    {
      "cell_type": "code",
      "source": [
        "for word in words:\n",
        "  doc = nlp(word)\n",
        "  for token in doc:\n",
        "    print(word, \": \",token.lemma_)\n"
      ],
      "metadata": {
        "colab": {
          "base_uri": "https://localhost:8080/"
        },
        "id": "s-0xbyL_gRfU",
        "outputId": "d6516083-d608-48ff-a123-e5dac193593a"
      },
      "execution_count": 38,
      "outputs": [
        {
          "output_type": "stream",
          "name": "stdout",
          "text": [
            "changing :  change\n",
            "changes :  change\n",
            "changed :  change\n",
            "change :  change\n",
            "study :  study\n",
            "studying :  study\n"
          ]
        }
      ]
    },
    {
      "cell_type": "markdown",
      "source": [
        "#Word Frequency Count"
      ],
      "metadata": {
        "id": "lWdSxURCg2Aw"
      }
    },
    {
      "cell_type": "code",
      "source": [
        "text = \"Modi was born and raised in Vadnagar in northeastern Gujarat, where he completed his secondary education. He was introduced to the RSS at the age of eight. His account of helping his father sell tea at the Vadnagar railway station has not been reliably corroborated. At age 18, he was married to Jashodaben Modi, whom he abandoned soon after, only publicly acknowledging her four decades later when legally required to do so. Modi became a full-time worker for the RSS in Gujarat in 1971. The RSS assigned him to the BJP in 1985 and he held several positions within the party hierarchy until 2001, rising to the rank of general secretary.\""
      ],
      "metadata": {
        "id": "_-rjF7s4gdn9"
      },
      "execution_count": 39,
      "outputs": []
    },
    {
      "cell_type": "code",
      "source": [
        "print(text)"
      ],
      "metadata": {
        "colab": {
          "base_uri": "https://localhost:8080/"
        },
        "id": "2qGQrFyUhEcL",
        "outputId": "bd219b8f-a25d-44d0-db51-8e1df49e0186"
      },
      "execution_count": 40,
      "outputs": [
        {
          "output_type": "stream",
          "name": "stdout",
          "text": [
            "Modi was born and raised in Vadnagar in northeastern Gujarat, where he completed his secondary education. He was introduced to the RSS at the age of eight. His account of helping his father sell tea at the Vadnagar railway station has not been reliably corroborated. At age 18, he was married to Jashodaben Modi, whom he abandoned soon after, only publicly acknowledging her four decades later when legally required to do so. Modi became a full-time worker for the RSS in Gujarat in 1971. The RSS assigned him to the BJP in 1985 and he held several positions within the party hierarchy until 2001, rising to the rank of general secretary.\n"
          ]
        }
      ]
    },
    {
      "cell_type": "code",
      "source": [
        "from collections import Counter\n",
        "word_frq=Counter(text.split())"
      ],
      "metadata": {
        "id": "Rod0M84ShGa8"
      },
      "execution_count": 42,
      "outputs": []
    },
    {
      "cell_type": "code",
      "source": [
        "word_frq"
      ],
      "metadata": {
        "colab": {
          "base_uri": "https://localhost:8080/"
        },
        "id": "HTHSEmxMhVrs",
        "outputId": "ce5ac30b-4599-4a01-b510-c6eed3619595"
      },
      "execution_count": 43,
      "outputs": [
        {
          "output_type": "execute_result",
          "data": {
            "text/plain": [
              "Counter({'Modi': 2,\n",
              "         'was': 3,\n",
              "         'born': 1,\n",
              "         'and': 2,\n",
              "         'raised': 1,\n",
              "         'in': 5,\n",
              "         'Vadnagar': 2,\n",
              "         'northeastern': 1,\n",
              "         'Gujarat,': 1,\n",
              "         'where': 1,\n",
              "         'he': 4,\n",
              "         'completed': 1,\n",
              "         'his': 2,\n",
              "         'secondary': 1,\n",
              "         'education.': 1,\n",
              "         'He': 1,\n",
              "         'introduced': 1,\n",
              "         'to': 5,\n",
              "         'the': 7,\n",
              "         'RSS': 3,\n",
              "         'at': 2,\n",
              "         'age': 2,\n",
              "         'of': 3,\n",
              "         'eight.': 1,\n",
              "         'His': 1,\n",
              "         'account': 1,\n",
              "         'helping': 1,\n",
              "         'father': 1,\n",
              "         'sell': 1,\n",
              "         'tea': 1,\n",
              "         'railway': 1,\n",
              "         'station': 1,\n",
              "         'has': 1,\n",
              "         'not': 1,\n",
              "         'been': 1,\n",
              "         'reliably': 1,\n",
              "         'corroborated.': 1,\n",
              "         'At': 1,\n",
              "         '18,': 1,\n",
              "         'married': 1,\n",
              "         'Jashodaben': 1,\n",
              "         'Modi,': 1,\n",
              "         'whom': 1,\n",
              "         'abandoned': 1,\n",
              "         'soon': 1,\n",
              "         'after,': 1,\n",
              "         'only': 1,\n",
              "         'publicly': 1,\n",
              "         'acknowledging': 1,\n",
              "         'her': 1,\n",
              "         'four': 1,\n",
              "         'decades': 1,\n",
              "         'later': 1,\n",
              "         'when': 1,\n",
              "         'legally': 1,\n",
              "         'required': 1,\n",
              "         'do': 1,\n",
              "         'so.': 1,\n",
              "         'became': 1,\n",
              "         'a': 1,\n",
              "         'full-time': 1,\n",
              "         'worker': 1,\n",
              "         'for': 1,\n",
              "         'Gujarat': 1,\n",
              "         '1971.': 1,\n",
              "         'The': 1,\n",
              "         'assigned': 1,\n",
              "         'him': 1,\n",
              "         'BJP': 1,\n",
              "         '1985': 1,\n",
              "         'held': 1,\n",
              "         'several': 1,\n",
              "         'positions': 1,\n",
              "         'within': 1,\n",
              "         'party': 1,\n",
              "         'hierarchy': 1,\n",
              "         'until': 1,\n",
              "         '2001,': 1,\n",
              "         'rising': 1,\n",
              "         'rank': 1,\n",
              "         'general': 1,\n",
              "         'secretary.': 1})"
            ]
          },
          "metadata": {},
          "execution_count": 43
        }
      ]
    },
    {
      "cell_type": "code",
      "source": [
        "word_frq.most_common(5)"
      ],
      "metadata": {
        "colab": {
          "base_uri": "https://localhost:8080/"
        },
        "id": "1xKRv9vBhceM",
        "outputId": "9e901b00-5051-4525-f7eb-bd57f292601a"
      },
      "execution_count": 44,
      "outputs": [
        {
          "output_type": "execute_result",
          "data": {
            "text/plain": [
              "[('the', 7), ('in', 5), ('to', 5), ('he', 4), ('was', 3)]"
            ]
          },
          "metadata": {},
          "execution_count": 44
        }
      ]
    },
    {
      "cell_type": "code",
      "source": [
        "doc = nlp(text)\n",
        "words = [token.text for token in doc if not token.is_stop and not token.is_punct]\n",
        "word_frq = Counter(words)\n",
        "word_frq.most_common(5)"
      ],
      "metadata": {
        "colab": {
          "base_uri": "https://localhost:8080/"
        },
        "id": "sMc4ATIEhgd6",
        "outputId": "eecbccea-654e-46db-965c-1e2b7440ac90"
      },
      "execution_count": 45,
      "outputs": [
        {
          "output_type": "execute_result",
          "data": {
            "text/plain": [
              "[('Modi', 3), ('RSS', 3), ('Vadnagar', 2), ('Gujarat', 2), ('age', 2)]"
            ]
          },
          "metadata": {},
          "execution_count": 45
        }
      ]
    },
    {
      "cell_type": "markdown",
      "source": [
        "#Rule Based Matching\n",
        "There are three kinds of matching methods:\n",
        "1. Token Matcher\n",
        "2. Phrase Matcher\n",
        "3. Entity Ruler\n",
        "\n",
        "Text used in this is Alice in Wonderland"
      ],
      "metadata": {
        "id": "s6vIKPgbiEh3"
      }
    },
    {
      "cell_type": "code",
      "source": [
        "#Token Matcher\n",
        "# It makes use of the word level features of SpaCy sun as LOWER, LENGTH, LEMMA, SHAPE and flags such as IS_PUNCT, IS_DIGIT, LIKE_URL, etc\n",
        "from spacy.matcher import Matcher\n",
        "from spacy.tokens import Span"
      ],
      "metadata": {
        "id": "I-XDnvR_iCF9"
      },
      "execution_count": 46,
      "outputs": []
    },
    {
      "cell_type": "code",
      "source": [
        "matcher = Matcher(nlp.vocab)"
      ],
      "metadata": {
        "id": "yVbJVHHwj8Jx"
      },
      "execution_count": 47,
      "outputs": []
    },
    {
      "cell_type": "code",
      "source": [
        "#find Alice and [verb]\n",
        "#find Alice and [not verb]\n",
        "pattern_verb = [{\"LOWER\": 'alice'}]"
      ],
      "metadata": {
        "id": "xd1Cf8LQkBS5"
      },
      "execution_count": 57,
      "outputs": []
    },
    {
      "cell_type": "code",
      "source": [
        "matcher.add(\"Matching\",[pattern_verb])"
      ],
      "metadata": {
        "id": "kqltuQW2kx7Z"
      },
      "execution_count": 58,
      "outputs": []
    },
    {
      "cell_type": "code",
      "source": [
        "import requests\n",
        "response = requests.get('https://www.gutenberg.org/files/11/11-0.txt')\n",
        "text = response.text"
      ],
      "metadata": {
        "id": "UX8VGoIQk5lQ"
      },
      "execution_count": 59,
      "outputs": []
    },
    {
      "cell_type": "code",
      "source": [
        "text"
      ],
      "metadata": {
        "colab": {
          "base_uri": "https://localhost:8080/",
          "height": 123
        },
        "id": "1Y4FRMyQlSsG",
        "outputId": "cd13b3f6-67a4-46bd-efc3-4defcbed2122"
      },
      "execution_count": 60,
      "outputs": [
        {
          "output_type": "execute_result",
          "data": {
            "text/plain": [
              "'ï»¿The Project Gutenberg eBook of Aliceâ\\x80\\x99s Adventures in Wonderland, by Lewis Carroll\\r\\n\\r\\nThis eBook is for the use of anyone anywhere in the United States and\\r\\nmost other parts of the world at no cost and with almost no restrictions\\r\\nwhatsoever. You may copy it, give it away or re-use it under the terms\\r\\nof the Project Gutenberg License included with this eBook or online at\\r\\nwww.gutenberg.org. If you are not located in the United States, you\\r\\nwill have to check the laws of the country where you are located before\\r\\nusing this eBook.\\r\\n\\r\\nTitle: Aliceâ\\x80\\x99s Adventures in Wonderland\\r\\n\\r\\nAuthor: Lewis Carroll\\r\\n\\r\\nRelease Date: January, 1991 [eBook #11]\\r\\n[Most recently updated: October 12, 2020]\\r\\n\\r\\nLanguage: English\\r\\n\\r\\nCharacter set encoding: UTF-8\\r\\n\\r\\nProduced by: Arthur DiBianca and David Widger\\r\\n\\r\\n*** START OF THE PROJECT GUTENBERG EBOOK ALICEâ\\x80\\x99S ADVENTURES IN WONDERLAND ***\\r\\n\\r\\n[Illustration]\\r\\n\\r\\n\\r\\n\\r\\n\\r\\nAliceâ\\x80\\x99s Adventures in Wonderland\\r\\n\\r\\nby Lewis Carroll\\r\\n\\r\\nTHE MILLENNIUM FULCRUM EDITION 3.0\\r\\n\\r\\nContents\\r\\n\\r\\n CHAPTER I.     Down the Rabbit-Hole\\r\\n CHAPTER II.    The Pool of Tears\\r\\n CHAPTER III.   A Caucus-Race and a Long Tale\\r\\n CHAPTER IV.    The Rabbit Sends in a Little Bill\\r\\n CHAPTER V.     Advice from a Caterpillar\\r\\n CHAPTER VI.    Pig and Pepper\\r\\n CHAPTER VII.   A Mad Tea-Party\\r\\n CHAPTER VIII.  The Queenâ\\x80\\x99s Croquet-Ground\\r\\n CHAPTER IX.    The Mock Turtleâ\\x80\\x99s Story\\r\\n CHAPTER X.     The Lobster Quadrille\\r\\n CHAPTER XI.    Who Stole the Tarts?\\r\\n CHAPTER XII.   Aliceâ\\x80\\x99s Evidence\\r\\n\\r\\n\\r\\n\\r\\n\\r\\nCHAPTER I.\\r\\nDown the Rabbit-Hole\\r\\n\\r\\n\\r\\nAlice was beginning to get very tired of sitting by her sister on the\\r\\nbank, and of having nothing to do: once or twice she had peeped into\\r\\nthe book her sister was reading, but it had no pictures or\\r\\nconversations in it, â\\x80\\x9cand what is the use of a book,â\\x80\\x9d thought Alice\\r\\nâ\\x80\\x9cwithout pictures or conversations?â\\x80\\x9d\\r\\n\\r\\nSo she was considering in her own mind (as well as she could, for the\\r\\nhot day made her feel very sleepy and stupid), whether the pleasure of\\r\\nmaking a daisy-chain would be worth the trouble of getting up and\\r\\npicking the daisies, when suddenly a White Rabbit with pink eyes ran\\r\\nclose by her.\\r\\n\\r\\nThere was nothing so _very_ remarkable in that; nor did Alice think it\\r\\nso _very_ much out of the way to hear the Rabbit say to itself, â\\x80\\x9cOh\\r\\ndear! Oh dear! I shall be late!â\\x80\\x9d (when she thought it over afterwards,\\r\\nit occurred to her that she ought to have wondered at this, but at the\\r\\ntime it all seemed quite natural); but when the Rabbit actually _took a\\r\\nwatch out of its waistcoat-pocket_, and looked at it, and then hurried\\r\\non, Alice started to her feet, for it flashed across her mind that she\\r\\nhad never before seen a rabbit with either a waistcoat-pocket, or a\\r\\nwatch to take out of it, and burning with curiosity, she ran across the\\r\\nfield after it, and fortunately was just in time to see it pop down a\\r\\nlarge rabbit-hole under the hedge.\\r\\n\\r\\nIn another moment down went Alice after it, never once considering how\\r\\nin the world she was to get out again.\\r\\n\\r\\nThe rabbit-hole went straight on like a tunnel for some way, and then\\r\\ndipped suddenly down, so suddenly that Alice had not a moment to think\\r\\nabout stopping herself before she found herself falling down a very\\r\\ndeep well.\\r\\n\\r\\nEither the well was very deep, or she fell very slowly, for she had\\r\\nplenty of time as she went down to look about her and to wonder what\\r\\nwas going to happen next. First, she tried to look down and make out\\r\\nwhat she was coming to, but it was too dark to see anything; then she\\r\\nlooked at the sides of the well, and noticed that they were filled with\\r\\ncupboards and book-shelves; here and there she saw maps and pictures\\r\\nhung upon pegs. She took down a jar from one of the shelves as she\\r\\npassed; it was labelled â\\x80\\x9cORANGE MARMALADEâ\\x80\\x9d, but to her great\\r\\ndisappointment it was empty: she did not like to drop the jar for fear\\r\\nof killing somebody underneath, so managed to put it into one of the\\r\\ncupboards as she fell past it.\\r\\n\\r\\nâ\\x80\\x9cWell!â\\x80\\x9d thought Alice to herself, â\\x80\\x9cafter such a fall as this, I shall\\r\\nthink nothing of tumbling down stairs! How brave theyâ\\x80\\x99ll all think me\\r\\nat home! Why, I wouldnâ\\x80\\x99t say anything about it, even if I fell off the\\r\\ntop of the house!â\\x80\\x9d (Which was very likely true.)\\r\\n\\r\\nDown, down, down. Would the fall _never_ come to an end? â\\x80\\x9cI wonder how\\r\\nmany miles Iâ\\x80\\x99ve fallen by this time?â\\x80\\x9d she said aloud. â\\x80\\x9cI must be\\r\\ngetting somewhere near the centre of the earth. Let me see: that would\\r\\nbe four thousand miles down, I thinkâ\\x80\\x94â\\x80\\x9d (for, you see, Alice had learnt\\r\\nseveral things of this sort in her lessons in the schoolroom, and\\r\\nthough this was not a _very_ good opportunity for showing off her\\r\\nknowledge, as there was no one to listen to her, still it was good\\r\\npractice to say it over) â\\x80\\x9câ\\x80\\x94yes, thatâ\\x80\\x99s about the right distanceâ\\x80\\x94but\\r\\nthen I wonder what Latitude or Longitude Iâ\\x80\\x99ve got to?â\\x80\\x9d (Alice had no\\r\\nidea what Latitude was, or Longitude either, but thought they were nice\\r\\ngrand words to say.)\\r\\n\\r\\nPresently she began again. â\\x80\\x9cI wonder if I shall fall right _through_\\r\\nthe earth! How funny itâ\\x80\\x99ll seem to come out among the people that walk\\r\\nwith their heads downward! The Antipathies, I thinkâ\\x80\\x94â\\x80\\x9d (she was rather\\r\\nglad there _was_ no one listening, this time, as it didnâ\\x80\\x99t sound at all\\r\\nthe right word) â\\x80\\x9câ\\x80\\x94but I shall have to ask them what the name of the\\r\\ncountry is, you know. Please, Maâ\\x80\\x99am, is this New Zealand or Australia?â\\x80\\x9d\\r\\n(and she tried to curtsey as she spokeâ\\x80\\x94fancy _curtseying_ as youâ\\x80\\x99re\\r\\nfalling through the air! Do you think you could manage it?) â\\x80\\x9cAnd what\\r\\nan ignorant little girl sheâ\\x80\\x99ll think me for asking! No, itâ\\x80\\x99ll never do\\r\\nto ask: perhaps I shall see it written up somewhere.â\\x80\\x9d\\r\\n\\r\\nDown, down, down. There was nothing else to do, so Alice soon began\\r\\ntalking again. â\\x80\\x9cDinahâ\\x80\\x99ll miss me very much to-night, I should think!â\\x80\\x9d\\r\\n(Dinah was the cat.) â\\x80\\x9cI hope theyâ\\x80\\x99ll remember her saucer of milk at\\r\\ntea-time. Dinah my dear! I wish you were down here with me! There are\\r\\nno mice in the air, Iâ\\x80\\x99m afraid, but you might catch a bat, and thatâ\\x80\\x99s\\r\\nvery like a mouse, you know. But do cats eat bats, I wonder?â\\x80\\x9d And here\\r\\nAlice began to get rather sleepy, and went on saying to herself, in a\\r\\ndreamy sort of way, â\\x80\\x9cDo cats eat bats? Do cats eat bats?â\\x80\\x9d and\\r\\nsometimes, â\\x80\\x9cDo bats eat cats?â\\x80\\x9d for, you see, as she couldnâ\\x80\\x99t answer\\r\\neither question, it didnâ\\x80\\x99t much matter which way she put it. She felt\\r\\nthat she was dozing off, and had just begun to dream that she was\\r\\nwalking hand in hand with Dinah, and saying to her very earnestly,\\r\\nâ\\x80\\x9cNow, Dinah, tell me the truth: did you ever eat a bat?â\\x80\\x9d when suddenly,\\r\\nthump! thump! down she came upon a heap of sticks and dry leaves, and\\r\\nthe fall was over.\\r\\n\\r\\nAlice was not a bit hurt, and she jumped up on to her feet in a moment:\\r\\nshe looked up, but it was all dark overhead; before her was another\\r\\nlong passage, and the White Rabbit was still in sight, hurrying down\\r\\nit. There was not a moment to be lost: away went Alice like the wind,\\r\\nand was just in time to hear it say, as it turned a corner, â\\x80\\x9cOh my ears\\r\\nand whiskers, how late itâ\\x80\\x99s getting!â\\x80\\x9d She was close behind it when she\\r\\nturned the corner, but the Rabbit was no longer to be seen: she found\\r\\nherself in a long, low hall, which was lit up by a row of lamps hanging\\r\\nfrom the roof.\\r\\n\\r\\nThere were doors all round the hall, but they were all locked; and when\\r\\nAlice had been all the way down one side and up the other, trying every\\r\\ndoor, she walked sadly down the middle, wondering how she was ever to\\r\\nget out again.\\r\\n\\r\\nSuddenly she came upon a little three-legged table, all made of solid\\r\\nglass; there was nothing on it except a tiny golden key, and Aliceâ\\x80\\x99s\\r\\nfirst thought was that it might belong to one of the doors of the hall;\\r\\nbut, alas! either the locks were too large, or the key was too small,\\r\\nbut at any rate it would not open any of them. However, on the second\\r\\ntime round, she came upon a low curtain she had not noticed before, and\\r\\nbehind it was a little door about fifteen inches high: she tried the\\r\\nlittle golden key in the lock, and to her great delight it fitted!\\r\\n\\r\\nAlice opened the door and found that it led into a small passage, not\\r\\nmuch larger than a rat-hole: she knelt down and looked along the\\r\\npassage into the loveliest garden you ever saw. How she longed to get\\r\\nout of that dark hall, and wander about among those beds of bright\\r\\nflowers and those cool fountains, but she could not even get her head\\r\\nthrough the doorway; â\\x80\\x9cand even if my head would go through,â\\x80\\x9d thought\\r\\npoor Alice, â\\x80\\x9cit would be of very little use without my shoulders. Oh,\\r\\nhow I wish I could shut up like a telescope! I think I could, if I only\\r\\nknew how to begin.â\\x80\\x9d For, you see, so many out-of-the-way things had\\r\\nhappened lately, that Alice had begun to think that very few things\\r\\nindeed were really impossible.\\r\\n\\r\\nThere seemed to be no use in waiting by the little door, so she went\\r\\nback to the table, half hoping she might find another key on it, or at\\r\\nany rate a book of rules for shutting people up like telescopes: this\\r\\ntime she found a little bottle on it, (â\\x80\\x9cwhich certainly was not here\\r\\nbefore,â\\x80\\x9d said Alice,) and round the neck of the bottle was a paper\\r\\nlabel, with the words â\\x80\\x9cDRINK ME,â\\x80\\x9d beautifully printed on it in large\\r\\nletters.\\r\\n\\r\\nIt was all very well to say â\\x80\\x9cDrink me,â\\x80\\x9d but the wise little Alice was\\r\\nnot going to do _that_ in a hurry. â\\x80\\x9cNo, Iâ\\x80\\x99ll look first,â\\x80\\x9d she said,\\r\\nâ\\x80\\x9cand see whether itâ\\x80\\x99s marked â\\x80\\x98_poison_â\\x80\\x99 or notâ\\x80\\x9d; for she had read\\r\\nseveral nice little histories about children who had got burnt, and\\r\\neaten up by wild beasts and other unpleasant things, all because they\\r\\n_would_ not remember the simple rules their friends had taught them:\\r\\nsuch as, that a red-hot poker will burn you if you hold it too long;\\r\\nand that if you cut your finger _very_ deeply with a knife, it usually\\r\\nbleeds; and she had never forgotten that, if you drink much from a\\r\\nbottle marked â\\x80\\x9cpoison,â\\x80\\x9d it is almost certain to disagree with you,\\r\\nsooner or later.\\r\\n\\r\\nHowever, this bottle was _not_ marked â\\x80\\x9cpoison,â\\x80\\x9d so Alice ventured to\\r\\ntaste it, and finding it very nice, (it had, in fact, a sort of mixed\\r\\nflavour of cherry-tart, custard, pine-apple, roast turkey, toffee, and\\r\\nhot buttered toast,) she very soon finished it off.\\r\\n\\r\\n*      *      *      *      *      *      *\\r\\n\\r\\n    *      *      *      *      *      *\\r\\n\\r\\n*      *      *      *      *      *      *\\r\\n\\r\\n\\r\\nâ\\x80\\x9cWhat a curious feeling!â\\x80\\x9d said Alice; â\\x80\\x9cI must be shutting up like a\\r\\ntelescope.â\\x80\\x9d\\r\\n\\r\\nAnd so it was indeed: she was now only ten inches high, and her face\\r\\nbrightened up at the thought that she was now the right size for going\\r\\nthrough the little door into that lovely garden. First, however, she\\r\\nwaited for a few minutes to see if she was going to shrink any further:\\r\\nshe felt a little nervous about this; â\\x80\\x9cfor it might end, you know,â\\x80\\x9d\\r\\nsaid Alice to herself, â\\x80\\x9cin my going out altogether, like a candle. I\\r\\nwonder what I should be like then?â\\x80\\x9d And she tried to fancy what the\\r\\nflame of a candle is like after the candle is blown out, for she could\\r\\nnot remember ever having seen such a thing.\\r\\n\\r\\nAfter a while, finding that nothing more happened, she decided on going\\r\\ninto the garden at once; but, alas for poor Alice! when she got to the\\r\\ndoor, she found she had forgotten the little golden key, and when she\\r\\nwent back to the table for it, she found she could not possibly reach\\r\\nit: she could see it quite plainly through the glass, and she tried her\\r\\nbest to climb up one of the legs of the table, but it was too slippery;\\r\\nand when she had tired herself out with trying, the poor little thing\\r\\nsat down and cried.\\r\\n\\r\\nâ\\x80\\x9cCome, thereâ\\x80\\x99s no use in crying like that!â\\x80\\x9d said Alice to herself,\\r\\nrather sharply; â\\x80\\x9cI advise you to leave off this minute!â\\x80\\x9d She generally\\r\\ngave herself very good advice, (though she very seldom followed it),\\r\\nand sometimes she scolded herself so severely as to bring tears into\\r\\nher eyes; and once she remembered trying to box her own ears for having\\r\\ncheated herself in a game of croquet she was playing against herself,\\r\\nfor this curious child was very fond of pretending to be two people.\\r\\nâ\\x80\\x9cBut itâ\\x80\\x99s no use now,â\\x80\\x9d thought poor Alice, â\\x80\\x9cto pretend to be two\\r\\npeople! Why, thereâ\\x80\\x99s hardly enough of me left to make _one_ respectable\\r\\nperson!â\\x80\\x9d\\r\\n\\r\\nSoon her eye fell on a little glass box that was lying under the table:\\r\\nshe opened it, and found in it a very small cake, on which the words\\r\\nâ\\x80\\x9cEAT MEâ\\x80\\x9d were beautifully marked in currants. â\\x80\\x9cWell, Iâ\\x80\\x99ll eat it,â\\x80\\x9d said\\r\\nAlice, â\\x80\\x9cand if it makes me grow larger, I can reach the key; and if it\\r\\nmakes me grow smaller, I can creep under the door; so either way Iâ\\x80\\x99ll\\r\\nget into the garden, and I donâ\\x80\\x99t care which happens!â\\x80\\x9d\\r\\n\\r\\nShe ate a little bit, and said anxiously to herself, â\\x80\\x9cWhich way? Which\\r\\nway?â\\x80\\x9d, holding her hand on the top of her head to feel which way it was\\r\\ngrowing, and she was quite surprised to find that she remained the same\\r\\nsize: to be sure, this generally happens when one eats cake, but Alice\\r\\nhad got so much into the way of expecting nothing but out-of-the-way\\r\\nthings to happen, that it seemed quite dull and stupid for life to go\\r\\non in the common way.\\r\\n\\r\\nSo she set to work, and very soon finished off the cake.\\r\\n\\r\\n*      *      *      *      *      *      *\\r\\n\\r\\n    *      *      *      *      *      *\\r\\n\\r\\n*      *      *      *      *      *      *\\r\\n\\r\\n\\r\\n\\r\\n\\r\\nCHAPTER II.\\r\\nThe Pool of Tears\\r\\n\\r\\n\\r\\nâ\\x80\\x9cCuriouser and curiouser!â\\x80\\x9d cried Alice (she was so much surprised, that\\r\\nfor the moment she quite forgot how to speak good English); â\\x80\\x9cnow Iâ\\x80\\x99m\\r\\nopening out like the largest telescope that ever was! Good-bye, feet!â\\x80\\x9d\\r\\n(for when she looked down at her feet, they seemed to be almost out of\\r\\nsight, they were getting so far off). â\\x80\\x9cOh, my poor little feet, I\\r\\nwonder who will put on your shoes and stockings for you now, dears? Iâ\\x80\\x99m\\r\\nsure _I_ shanâ\\x80\\x99t be able! I shall be a great deal too far off to trouble\\r\\nmyself about you: you must manage the best way you can;â\\x80\\x94but I must be\\r\\nkind to them,â\\x80\\x9d thought Alice, â\\x80\\x9cor perhaps they wonâ\\x80\\x99t walk the way I\\r\\nwant to go! Let me see: Iâ\\x80\\x99ll give them a new pair of boots every\\r\\nChristmas.â\\x80\\x9d\\r\\n\\r\\nAnd she went on planning to herself how she would manage it. â\\x80\\x9cThey must\\r\\ngo by the carrier,â\\x80\\x9d she thought; â\\x80\\x9cand how funny itâ\\x80\\x99ll seem, sending\\r\\npresents to oneâ\\x80\\x99s own feet! And how odd the directions will look!\\r\\n\\r\\n     _Aliceâ\\x80\\x99s Right Foot, Esq., Hearthrug, near the Fender,_ (_with\\r\\n     Aliceâ\\x80\\x99s love_).\\r\\n\\r\\nOh dear, what nonsense Iâ\\x80\\x99m talking!â\\x80\\x9d\\r\\n\\r\\nJust then her head struck against the roof of the hall: in fact she was\\r\\nnow more than nine feet high, and she at once took up the little golden\\r\\nkey and hurried off to the garden door.\\r\\n\\r\\nPoor Alice! It was as much as she could do, lying down on one side, to\\r\\nlook through into the garden with one eye; but to get through was more\\r\\nhopeless than ever: she sat down and began to cry again.\\r\\n\\r\\nâ\\x80\\x9cYou ought to be ashamed of yourself,â\\x80\\x9d said Alice, â\\x80\\x9ca great girl like\\r\\nyou,â\\x80\\x9d (she might well say this), â\\x80\\x9cto go on crying in this way! Stop\\r\\nthis moment, I tell you!â\\x80\\x9d But she went on all the same, shedding\\r\\ngallons of tears, until there was a large pool all round her, about\\r\\nfour inches deep and reaching half down the hall.\\r\\n\\r\\nAfter a time she heard a little pattering of feet in the distance, and\\r\\nshe hastily dried her eyes to see what was coming. It was the White\\r\\nRabbit returning, splendidly dressed, with a pair of white kid gloves\\r\\nin one hand and a large fan in the other: he came trotting along in a\\r\\ngreat hurry, muttering to himself as he came, â\\x80\\x9cOh! the Duchess, the\\r\\nDuchess! Oh! wonâ\\x80\\x99t she be savage if Iâ\\x80\\x99ve kept her waiting!â\\x80\\x9d Alice felt\\r\\nso desperate that she was ready to ask help of any one; so, when the\\r\\nRabbit came near her, she began, in a low, timid voice, â\\x80\\x9cIf you please,\\r\\nsirâ\\x80\\x94â\\x80\\x9d The Rabbit started violently, dropped the white kid gloves and\\r\\nthe fan, and skurried away into the darkness as hard as he could go.\\r\\n\\r\\nAlice took up the fan and gloves, and, as the hall was very hot, she\\r\\nkept fanning herself all the time she went on talking: â\\x80\\x9cDear, dear! How\\r\\nqueer everything is to-day! And yesterday things went on just as usual.\\r\\nI wonder if Iâ\\x80\\x99ve been changed in the night? Let me think: was I the\\r\\nsame when I got up this morning? I almost think I can remember feeling\\r\\na little different. But if Iâ\\x80\\x99m not the same, the next question is, Who\\r\\nin the world am I? Ah, _thatâ\\x80\\x99s_ the great puzzle!â\\x80\\x9d And she began\\r\\nthinking over all the children she knew that were of the same age as\\r\\nherself, to see if she could have been changed for any of them.\\r\\n\\r\\nâ\\x80\\x9cIâ\\x80\\x99m sure Iâ\\x80\\x99m not Ada,â\\x80\\x9d she said, â\\x80\\x9cfor her hair goes in such long\\r\\nringlets, and mine doesnâ\\x80\\x99t go in ringlets at all; and Iâ\\x80\\x99m sure I canâ\\x80\\x99t\\r\\nbe Mabel, for I know all sorts of things, and she, oh! she knows such a\\r\\nvery little! Besides, _sheâ\\x80\\x99s_ she, and _Iâ\\x80\\x99m_ I, andâ\\x80\\x94oh dear, how\\r\\npuzzling it all is! Iâ\\x80\\x99ll try if I know all the things I used to know.\\r\\nLet me see: four times five is twelve, and four times six is thirteen,\\r\\nand four times seven isâ\\x80\\x94oh dear! I shall never get to twenty at that\\r\\nrate! However, the Multiplication Table doesnâ\\x80\\x99t signify: letâ\\x80\\x99s try\\r\\nGeography. London is the capital of Paris, and Paris is the capital of\\r\\nRome, and Romeâ\\x80\\x94no, _thatâ\\x80\\x99s_ all wrong, Iâ\\x80\\x99m certain! I must have been\\r\\nchanged for Mabel! Iâ\\x80\\x99ll try and say â\\x80\\x98_How doth the little_â\\x80\\x94â\\x80\\x99â\\x80\\x9d and she\\r\\ncrossed her hands on her lap as if she were saying lessons, and began\\r\\nto repeat it, but her voice sounded hoarse and strange, and the words\\r\\ndid not come the same as they used to do:â\\x80\\x94\\r\\n\\r\\nâ\\x80\\x9cHow doth the little crocodile\\r\\n    Improve his shining tail,\\r\\nAnd pour the waters of the Nile\\r\\n    On every golden scale!\\r\\n\\r\\nâ\\x80\\x9cHow cheerfully he seems to grin,\\r\\n    How neatly spread his claws,\\r\\nAnd welcome little fishes in\\r\\n    With gently smiling jaws!â\\x80\\x9d\\r\\n\\r\\n\\r\\nâ\\x80\\x9cIâ\\x80\\x99m sure those are not the right words,â\\x80\\x9d said poor Alice, and her eyes\\r\\nfilled with tears again as she went on, â\\x80\\x9cI must be Mabel after all, and\\r\\nI shall have to go and live in that poky little house, and have next to\\r\\nno toys to play with, and oh! ever so many lessons to learn! No, Iâ\\x80\\x99ve\\r\\nmade up my mind about it; if Iâ\\x80\\x99m Mabel, Iâ\\x80\\x99ll stay down here! Itâ\\x80\\x99ll be\\r\\nno use their putting their heads down and saying â\\x80\\x98Come up again, dear!â\\x80\\x99\\r\\nI shall only look up and say â\\x80\\x98Who am I then? Tell me that first, and\\r\\nthen, if I like being that person, Iâ\\x80\\x99ll come up: if not, Iâ\\x80\\x99ll stay down\\r\\nhere till Iâ\\x80\\x99m somebody elseâ\\x80\\x99â\\x80\\x94but, oh dear!â\\x80\\x9d cried Alice, with a sudden\\r\\nburst of tears, â\\x80\\x9cI do wish they _would_ put their heads down! I am so\\r\\n_very_ tired of being all alone here!â\\x80\\x9d\\r\\n\\r\\nAs she said this she looked down at her hands, and was surprised to see\\r\\nthat she had put on one of the Rabbitâ\\x80\\x99s little white kid gloves while\\r\\nshe was talking. â\\x80\\x9cHow _can_ I have done that?â\\x80\\x9d she thought. â\\x80\\x9cI must be\\r\\ngrowing small again.â\\x80\\x9d She got up and went to the table to measure\\r\\nherself by it, and found that, as nearly as she could guess, she was\\r\\nnow about two feet high, and was going on shrinking rapidly: she soon\\r\\nfound out that the cause of this was the fan she was holding, and she\\r\\ndropped it hastily, just in time to avoid shrinking away altogether.\\r\\n\\r\\nâ\\x80\\x9cThat _was_ a narrow escape!â\\x80\\x9d said Alice, a good deal frightened at the\\r\\nsudden change, but very glad to find herself still in existence; â\\x80\\x9cand\\r\\nnow for the garden!â\\x80\\x9d and she ran with all speed back to the little\\r\\ndoor: but, alas! the little door was shut again, and the little golden\\r\\nkey was lying on the glass table as before, â\\x80\\x9cand things are worse than\\r\\never,â\\x80\\x9d thought the poor child, â\\x80\\x9cfor I never was so small as this\\r\\nbefore, never! And I declare itâ\\x80\\x99s too bad, that it is!â\\x80\\x9d\\r\\n\\r\\nAs she said these words her foot slipped, and in another moment,\\r\\nsplash! she was up to her chin in salt water. Her first idea was that\\r\\nshe had somehow fallen into the sea, â\\x80\\x9cand in that case I can go back by\\r\\nrailway,â\\x80\\x9d she said to herself. (Alice had been to the seaside once in\\r\\nher life, and had come to the general conclusion, that wherever you go\\r\\nto on the English coast you find a number of bathing machines in the\\r\\nsea, some children digging in the sand with wooden spades, then a row\\r\\nof lodging houses, and behind them a railway station.) However, she\\r\\nsoon made out that she was in the pool of tears which she had wept when\\r\\nshe was nine feet high.\\r\\n\\r\\nâ\\x80\\x9cI wish I hadnâ\\x80\\x99t cried so much!â\\x80\\x9d said Alice, as she swam about, trying\\r\\nto find her way out. â\\x80\\x9cI shall be punished for it now, I suppose, by\\r\\nbeing drowned in my own tears! That _will_ be a queer thing, to be\\r\\nsure! However, everything is queer to-day.â\\x80\\x9d\\r\\n\\r\\nJust then she heard something splashing about in the pool a little way\\r\\noff, and she swam nearer to make out what it was: at first she thought\\r\\nit must be a walrus or hippopotamus, but then she remembered how small\\r\\nshe was now, and she soon made out that it was only a mouse that had\\r\\nslipped in like herself.\\r\\n\\r\\nâ\\x80\\x9cWould it be of any use, now,â\\x80\\x9d thought Alice, â\\x80\\x9cto speak to this mouse?\\r\\nEverything is so out-of-the-way down here, that I should think very\\r\\nlikely it can talk: at any rate, thereâ\\x80\\x99s no harm in trying.â\\x80\\x9d So she\\r\\nbegan: â\\x80\\x9cO Mouse, do you know the way out of this pool? I am very tired\\r\\nof swimming about here, O Mouse!â\\x80\\x9d (Alice thought this must be the right\\r\\nway of speaking to a mouse: she had never done such a thing before, but\\r\\nshe remembered having seen in her brotherâ\\x80\\x99s Latin Grammar, â\\x80\\x9cA mouseâ\\x80\\x94of\\r\\na mouseâ\\x80\\x94to a mouseâ\\x80\\x94a mouseâ\\x80\\x94O mouse!â\\x80\\x9d) The Mouse looked at her rather\\r\\ninquisitively, and seemed to her to wink with one of its little eyes,\\r\\nbut it said nothing.\\r\\n\\r\\nâ\\x80\\x9cPerhaps it doesnâ\\x80\\x99t understand English,â\\x80\\x9d thought Alice; â\\x80\\x9cI daresay itâ\\x80\\x99s\\r\\na French mouse, come over with William the Conqueror.â\\x80\\x9d (For, with all\\r\\nher knowledge of history, Alice had no very clear notion how long ago\\r\\nanything had happened.) So she began again: â\\x80\\x9cOÃ¹ est ma chatte?â\\x80\\x9d which\\r\\nwas the first sentence in her French lesson-book. The Mouse gave a\\r\\nsudden leap out of the water, and seemed to quiver all over with\\r\\nfright. â\\x80\\x9cOh, I beg your pardon!â\\x80\\x9d cried Alice hastily, afraid that she\\r\\nhad hurt the poor animalâ\\x80\\x99s feelings. â\\x80\\x9cI quite forgot you didnâ\\x80\\x99t like\\r\\ncats.â\\x80\\x9d\\r\\n\\r\\nâ\\x80\\x9cNot like cats!â\\x80\\x9d cried the Mouse, in a shrill, passionate voice. â\\x80\\x9cWould\\r\\n_you_ like cats if you were me?â\\x80\\x9d\\r\\n\\r\\nâ\\x80\\x9cWell, perhaps not,â\\x80\\x9d said Alice in a soothing tone: â\\x80\\x9cdonâ\\x80\\x99t be angry\\r\\nabout it. And yet I wish I could show you our cat Dinah: I think youâ\\x80\\x99d\\r\\ntake a fancy to cats if you could only see her. She is such a dear\\r\\nquiet thing,â\\x80\\x9d Alice went on, half to herself, as she swam lazily about\\r\\nin the pool, â\\x80\\x9cand she sits purring so nicely by the fire, licking her\\r\\npaws and washing her faceâ\\x80\\x94and she is such a nice soft thing to\\r\\nnurseâ\\x80\\x94and sheâ\\x80\\x99s such a capital one for catching miceâ\\x80\\x94oh, I beg your\\r\\npardon!â\\x80\\x9d cried Alice again, for this time the Mouse was bristling all\\r\\nover, and she felt certain it must be really offended. â\\x80\\x9cWe wonâ\\x80\\x99t talk\\r\\nabout her any more if youâ\\x80\\x99d rather not.â\\x80\\x9d\\r\\n\\r\\nâ\\x80\\x9cWe indeed!â\\x80\\x9d cried the Mouse, who was trembling down to the end of his\\r\\ntail. â\\x80\\x9cAs if _I_ would talk on such a subject! Our family always\\r\\n_hated_ cats: nasty, low, vulgar things! Donâ\\x80\\x99t let me hear the name\\r\\nagain!â\\x80\\x9d\\r\\n\\r\\nâ\\x80\\x9cI wonâ\\x80\\x99t indeed!â\\x80\\x9d said Alice, in a great hurry to change the subject of\\r\\nconversation. â\\x80\\x9cAre youâ\\x80\\x94are you fondâ\\x80\\x94ofâ\\x80\\x94of dogs?â\\x80\\x9d The Mouse did not\\r\\nanswer, so Alice went on eagerly: â\\x80\\x9cThere is such a nice little dog near\\r\\nour house I should like to show you! A little bright-eyed terrier, you\\r\\nknow, with oh, such long curly brown hair! And itâ\\x80\\x99ll fetch things when\\r\\nyou throw them, and itâ\\x80\\x99ll sit up and beg for its dinner, and all sorts\\r\\nof thingsâ\\x80\\x94I canâ\\x80\\x99t remember half of themâ\\x80\\x94and it belongs to a farmer, you\\r\\nknow, and he says itâ\\x80\\x99s so useful, itâ\\x80\\x99s worth a hundred pounds! He says\\r\\nit kills all the rats andâ\\x80\\x94oh dear!â\\x80\\x9d cried Alice in a sorrowful tone,\\r\\nâ\\x80\\x9cIâ\\x80\\x99m afraid Iâ\\x80\\x99ve offended it again!â\\x80\\x9d For the Mouse was swimming away\\r\\nfrom her as hard as it could go, and making quite a commotion in the\\r\\npool as it went.\\r\\n\\r\\nSo she called softly after it, â\\x80\\x9cMouse dear! Do come back again, and we\\r\\nwonâ\\x80\\x99t talk about cats or dogs either, if you donâ\\x80\\x99t like them!â\\x80\\x9d When the\\r\\nMouse heard this, it turned round and swam slowly back to her: its face\\r\\nwas quite pale (with passion, Alice thought), and it said in a low\\r\\ntrembling voice, â\\x80\\x9cLet us get to the shore, and then Iâ\\x80\\x99ll tell you my\\r\\nhistory, and youâ\\x80\\x99ll understand why it is I hate cats and dogs.â\\x80\\x9d\\r\\n\\r\\nIt was high time to go, for the pool was getting quite crowded with the\\r\\nbirds and animals that had fallen into it: there were a Duck and a\\r\\nDodo, a Lory and an Eaglet, and several other curious creatures. Alice\\r\\nled the way, and the whole party swam to the shore.\\r\\n\\r\\n\\r\\n\\r\\n\\r\\nCHAPTER III.\\r\\nA Caucus-Race and a Long Tale\\r\\n\\r\\n\\r\\nThey were indeed a queer-looking party that assembled on the bankâ\\x80\\x94the\\r\\nbirds with draggled feathers, the animals with their fur clinging close\\r\\nto them, and all dripping wet, cross, and uncomfortable.\\r\\n\\r\\nThe first question of course was, how to get dry again: they had a\\r\\nconsultation about this, and after a few minutes it seemed quite\\r\\nnatural to Alice to find herself talking familiarly with them, as if\\r\\nshe had known them all her life. Indeed, she had quite a long argument\\r\\nwith the Lory, who at last turned sulky, and would only say, â\\x80\\x9cI am\\r\\nolder than you, and must know better;â\\x80\\x9d and this Alice would not allow\\r\\nwithout knowing how old it was, and, as the Lory positively refused to\\r\\ntell its age, there was no more to be said.\\r\\n\\r\\nAt last the Mouse, who seemed to be a person of authority among them,\\r\\ncalled out, â\\x80\\x9cSit down, all of you, and listen to me! _Iâ\\x80\\x99ll_ soon make\\r\\nyou dry enough!â\\x80\\x9d They all sat down at once, in a large ring, with the\\r\\nMouse in the middle. Alice kept her eyes anxiously fixed on it, for she\\r\\nfelt sure she would catch a bad cold if she did not get dry very soon.\\r\\n\\r\\nâ\\x80\\x9cAhem!â\\x80\\x9d said the Mouse with an important air, â\\x80\\x9care you all ready? This\\r\\nis the driest thing I know. Silence all round, if you please! â\\x80\\x98William\\r\\nthe Conqueror, whose cause was favoured by the pope, was soon submitted\\r\\nto by the English, who wanted leaders, and had been of late much\\r\\naccustomed to usurpation and conquest. Edwin and Morcar, the earls of\\r\\nMercia and Northumbriaâ\\x80\\x94â\\x80\\x99â\\x80\\x9d\\r\\n\\r\\nâ\\x80\\x9cUgh!â\\x80\\x9d said the Lory, with a shiver.\\r\\n\\r\\nâ\\x80\\x9cI beg your pardon!â\\x80\\x9d said the Mouse, frowning, but very politely: â\\x80\\x9cDid\\r\\nyou speak?â\\x80\\x9d\\r\\n\\r\\nâ\\x80\\x9cNot I!â\\x80\\x9d said the Lory hastily.\\r\\n\\r\\nâ\\x80\\x9cI thought you did,â\\x80\\x9d said the Mouse. â\\x80\\x9câ\\x80\\x94I proceed. â\\x80\\x98Edwin and Morcar,\\r\\nthe earls of Mercia and Northumbria, declared for him: and even\\r\\nStigand, the patriotic archbishop of Canterbury, found it advisableâ\\x80\\x94â\\x80\\x99â\\x80\\x9d\\r\\n\\r\\nâ\\x80\\x9cFound _what_?â\\x80\\x9d said the Duck.\\r\\n\\r\\nâ\\x80\\x9cFound _it_,â\\x80\\x9d the Mouse replied rather crossly: â\\x80\\x9cof course you know\\r\\nwhat â\\x80\\x98itâ\\x80\\x99 means.â\\x80\\x9d\\r\\n\\r\\nâ\\x80\\x9cI know what â\\x80\\x98itâ\\x80\\x99 means well enough, when _I_ find a thing,â\\x80\\x9d said the\\r\\nDuck: â\\x80\\x9citâ\\x80\\x99s generally a frog or a worm. The question is, what did the\\r\\narchbishop find?â\\x80\\x9d\\r\\n\\r\\nThe Mouse did not notice this question, but hurriedly went on, â\\x80\\x9câ\\x80\\x98â\\x80\\x94found\\r\\nit advisable to go with Edgar Atheling to meet William and offer him\\r\\nthe crown. Williamâ\\x80\\x99s conduct at first was moderate. But the insolence\\r\\nof his Normansâ\\x80\\x94â\\x80\\x99 How are you getting on now, my dear?â\\x80\\x9d it continued,\\r\\nturning to Alice as it spoke.\\r\\n\\r\\nâ\\x80\\x9cAs wet as ever,â\\x80\\x9d said Alice in a melancholy tone: â\\x80\\x9cit doesnâ\\x80\\x99t seem to\\r\\ndry me at all.â\\x80\\x9d\\r\\n\\r\\nâ\\x80\\x9cIn that case,â\\x80\\x9d said the Dodo solemnly, rising to its feet, â\\x80\\x9cI move\\r\\nthat the meeting adjourn, for the immediate adoption of more energetic\\r\\nremediesâ\\x80\\x94â\\x80\\x9d\\r\\n\\r\\nâ\\x80\\x9cSpeak English!â\\x80\\x9d said the Eaglet. â\\x80\\x9cI donâ\\x80\\x99t know the meaning of half\\r\\nthose long words, and, whatâ\\x80\\x99s more, I donâ\\x80\\x99t believe you do either!â\\x80\\x9d And\\r\\nthe Eaglet bent down its head to hide a smile: some of the other birds\\r\\ntittered audibly.\\r\\n\\r\\nâ\\x80\\x9cWhat I was going to say,â\\x80\\x9d said the Dodo in an offended tone, â\\x80\\x9cwas,\\r\\nthat the best thing to get us dry would be a Caucus-race.â\\x80\\x9d\\r\\n\\r\\nâ\\x80\\x9cWhat _is_ a Caucus-race?â\\x80\\x9d said Alice; not that she wanted much to\\r\\nknow, but the Dodo had paused as if it thought that _somebody_ ought to\\r\\nspeak, and no one else seemed inclined to say anything.\\r\\n\\r\\nâ\\x80\\x9cWhy,â\\x80\\x9d said the Dodo, â\\x80\\x9cthe best way to explain it is to do it.â\\x80\\x9d (And,\\r\\nas you might like to try the thing yourself, some winter day, I will\\r\\ntell you how the Dodo managed it.)\\r\\n\\r\\nFirst it marked out a race-course, in a sort of circle, (â\\x80\\x9cthe exact\\r\\nshape doesnâ\\x80\\x99t matter,â\\x80\\x9d it said,) and then all the party were placed\\r\\nalong the course, here and there. There was no â\\x80\\x9cOne, two, three, and\\r\\naway,â\\x80\\x9d but they began running when they liked, and left off when they\\r\\nliked, so that it was not easy to know when the race was over. However,\\r\\nwhen they had been running half an hour or so, and were quite dry\\r\\nagain, the Dodo suddenly called out â\\x80\\x9cThe race is over!â\\x80\\x9d and they all\\r\\ncrowded round it, panting, and asking, â\\x80\\x9cBut who has won?â\\x80\\x9d\\r\\n\\r\\nThis question the Dodo could not answer without a great deal of\\r\\nthought, and it sat for a long time with one finger pressed upon its\\r\\nforehead (the position in which you usually see Shakespeare, in the\\r\\npictures of him), while the rest waited in silence. At last the Dodo\\r\\nsaid, â\\x80\\x9c_Everybody_ has won, and all must have prizes.â\\x80\\x9d\\r\\n\\r\\nâ\\x80\\x9cBut who is to give the prizes?â\\x80\\x9d quite a chorus of voices asked.\\r\\n\\r\\nâ\\x80\\x9cWhy, _she_, of course,â\\x80\\x9d said the Dodo, pointing to Alice with one\\r\\nfinger; and the whole party at once crowded round her, calling out in a\\r\\nconfused way, â\\x80\\x9cPrizes! Prizes!â\\x80\\x9d\\r\\n\\r\\nAlice had no idea what to do, and in despair she put her hand in her\\r\\npocket, and pulled out a box of comfits, (luckily the salt water had\\r\\nnot got into it), and handed them round as prizes. There was exactly\\r\\none a-piece, all round.\\r\\n\\r\\nâ\\x80\\x9cBut she must have a prize herself, you know,â\\x80\\x9d said the Mouse.\\r\\n\\r\\nâ\\x80\\x9cOf course,â\\x80\\x9d the Dodo replied very gravely. â\\x80\\x9cWhat else have you got in\\r\\nyour pocket?â\\x80\\x9d he went on, turning to Alice.\\r\\n\\r\\nâ\\x80\\x9cOnly a thimble,â\\x80\\x9d said Alice sadly.\\r\\n\\r\\nâ\\x80\\x9cHand it over here,â\\x80\\x9d said the Dodo.\\r\\n\\r\\nThen they all crowded round her once more, while the Dodo solemnly\\r\\npresented the thimble, saying â\\x80\\x9cWe beg your acceptance of this elegant\\r\\nthimble;â\\x80\\x9d and, when it had finished this short speech, they all\\r\\ncheered.\\r\\n\\r\\nAlice thought the whole thing very absurd, but they all looked so grave\\r\\nthat she did not dare to laugh; and, as she could not think of anything\\r\\nto say, she simply bowed, and took the thimble, looking as solemn as\\r\\nshe could.\\r\\n\\r\\nThe next thing was to eat the comfits: this caused some noise and\\r\\nconfusion, as the large birds complained that they could not taste\\r\\ntheirs, and the small ones choked and had to be patted on the back.\\r\\nHowever, it was over at last, and they sat down again in a ring, and\\r\\nbegged the Mouse to tell them something more.\\r\\n\\r\\nâ\\x80\\x9cYou promised to tell me your history, you know,â\\x80\\x9d said Alice, â\\x80\\x9cand why\\r\\nit is you hateâ\\x80\\x94C and D,â\\x80\\x9d she added in a whisper, half afraid that it\\r\\nwould be offended again.\\r\\n\\r\\nâ\\x80\\x9cMine is a long and a sad tale!â\\x80\\x9d said the Mouse, turning to Alice, and\\r\\nsighing.\\r\\n\\r\\nâ\\x80\\x9cIt _is_ a long tail, certainly,â\\x80\\x9d said Alice, looking down with wonder\\r\\nat the Mouseâ\\x80\\x99s tail; â\\x80\\x9cbut why do you call it sad?â\\x80\\x9d And she kept on\\r\\npuzzling about it while the Mouse was speaking, so that her idea of the\\r\\ntale was something like this:â\\x80\\x94\\r\\n\\r\\n         â\\x80\\x9cFury said to a mouse, That he met in the house, â\\x80\\x98Let us both\\r\\n         go to law: _I_ will prosecute _you_.â\\x80\\x94Come, Iâ\\x80\\x99ll take no\\r\\n         denial; We must have a trial: For really this morning Iâ\\x80\\x99ve\\r\\n         nothing to do.â\\x80\\x99 Said the mouse to the cur, â\\x80\\x98Such a trial, dear\\r\\n         sir, With no jury or judge, would be wasting our breath.â\\x80\\x99\\r\\n         â\\x80\\x98Iâ\\x80\\x99ll be judge, Iâ\\x80\\x99ll be jury,â\\x80\\x99 Said cunning old Fury: â\\x80\\x98Iâ\\x80\\x99ll\\r\\n         try the whole cause, and condemn you to death.â\\x80\\x99â\\x80\\x9d\\r\\n\\r\\nâ\\x80\\x9cYou are not attending!â\\x80\\x9d said the Mouse to Alice severely. â\\x80\\x9cWhat are\\r\\nyou thinking of?â\\x80\\x9d\\r\\n\\r\\nâ\\x80\\x9cI beg your pardon,â\\x80\\x9d said Alice very humbly: â\\x80\\x9cyou had got to the fifth\\r\\nbend, I think?â\\x80\\x9d\\r\\n\\r\\nâ\\x80\\x9cI had _not!_â\\x80\\x9d cried the Mouse, sharply and very angrily.\\r\\n\\r\\nâ\\x80\\x9cA knot!â\\x80\\x9d said Alice, always ready to make herself useful, and looking\\r\\nanxiously about her. â\\x80\\x9cOh, do let me help to undo it!â\\x80\\x9d\\r\\n\\r\\nâ\\x80\\x9cI shall do nothing of the sort,â\\x80\\x9d said the Mouse, getting up and\\r\\nwalking away. â\\x80\\x9cYou insult me by talking such nonsense!â\\x80\\x9d\\r\\n\\r\\nâ\\x80\\x9cI didnâ\\x80\\x99t mean it!â\\x80\\x9d pleaded poor Alice. â\\x80\\x9cBut youâ\\x80\\x99re so easily offended,\\r\\nyou know!â\\x80\\x9d\\r\\n\\r\\nThe Mouse only growled in reply.\\r\\n\\r\\nâ\\x80\\x9cPlease come back and finish your story!â\\x80\\x9d Alice called after it; and\\r\\nthe others all joined in chorus, â\\x80\\x9cYes, please do!â\\x80\\x9d but the Mouse only\\r\\nshook its head impatiently, and walked a little quicker.\\r\\n\\r\\nâ\\x80\\x9cWhat a pity it wouldnâ\\x80\\x99t stay!â\\x80\\x9d sighed the Lory, as soon as it was\\r\\nquite out of sight; and an old Crab took the opportunity of saying to\\r\\nher daughter â\\x80\\x9cAh, my dear! Let this be a lesson to you never to lose\\r\\n_your_ temper!â\\x80\\x9d â\\x80\\x9cHold your tongue, Ma!â\\x80\\x9d said the young Crab, a little\\r\\nsnappishly. â\\x80\\x9cYouâ\\x80\\x99re enough to try the patience of an oyster!â\\x80\\x9d\\r\\n\\r\\nâ\\x80\\x9cI wish I had our Dinah here, I know I do!â\\x80\\x9d said Alice aloud,\\r\\naddressing nobody in particular. â\\x80\\x9cSheâ\\x80\\x99d soon fetch it back!â\\x80\\x9d\\r\\n\\r\\nâ\\x80\\x9cAnd who is Dinah, if I might venture to ask the question?â\\x80\\x9d said the\\r\\nLory.\\r\\n\\r\\nAlice replied eagerly, for she was always ready to talk about her pet:\\r\\nâ\\x80\\x9cDinahâ\\x80\\x99s our cat. And sheâ\\x80\\x99s such a capital one for catching mice you\\r\\ncanâ\\x80\\x99t think! And oh, I wish you could see her after the birds! Why,\\r\\nsheâ\\x80\\x99ll eat a little bird as soon as look at it!â\\x80\\x9d\\r\\n\\r\\nThis speech caused a remarkable sensation among the party. Some of the\\r\\nbirds hurried off at once: one old Magpie began wrapping itself up very\\r\\ncarefully, remarking, â\\x80\\x9cI really must be getting home; the night-air\\r\\ndoesnâ\\x80\\x99t suit my throat!â\\x80\\x9d and a Canary called out in a trembling voice\\r\\nto its children, â\\x80\\x9cCome away, my dears! Itâ\\x80\\x99s high time you were all in\\r\\nbed!â\\x80\\x9d On various pretexts they all moved off, and Alice was soon left\\r\\nalone.\\r\\n\\r\\nâ\\x80\\x9cI wish I hadnâ\\x80\\x99t mentioned Dinah!â\\x80\\x9d she said to herself in a melancholy\\r\\ntone. â\\x80\\x9cNobody seems to like her, down here, and Iâ\\x80\\x99m sure sheâ\\x80\\x99s the best\\r\\ncat in the world! Oh, my dear Dinah! I wonder if I shall ever see you\\r\\nany more!â\\x80\\x9d And here poor Alice began to cry again, for she felt very\\r\\nlonely and low-spirited. In a little while, however, she again heard a\\r\\nlittle pattering of footsteps in the distance, and she looked up\\r\\neagerly, half hoping that the Mouse had changed his mind, and was\\r\\ncoming back to finish his story.\\r\\n\\r\\n\\r\\n\\r\\n\\r\\nCHAPTER IV.\\r\\nThe Rabbit Sends in a Little Bill\\r\\n\\r\\n\\r\\nIt was the White Rabbit, trotting slowly back again, and looking\\r\\nanxiously about as it went, as if it had lost something; and she heard\\r\\nit muttering to itself â\\x80\\x9cThe Duchess! The Duchess! Oh my dear paws! Oh\\r\\nmy fur and whiskers! Sheâ\\x80\\x99ll get me executed, as sure as ferrets are\\r\\nferrets! Where _can_ I have dropped them, I wonder?â\\x80\\x9d Alice guessed in a\\r\\nmoment that it was looking for the fan and the pair of white kid\\r\\ngloves, and she very good-naturedly began hunting about for them, but\\r\\nthey were nowhere to be seenâ\\x80\\x94everything seemed to have changed since\\r\\nher swim in the pool, and the great hall, with the glass table and the\\r\\nlittle door, had vanished completely.\\r\\n\\r\\nVery soon the Rabbit noticed Alice, as she went hunting about, and\\r\\ncalled out to her in an angry tone, â\\x80\\x9cWhy, Mary Ann, what _are_ you\\r\\ndoing out here? Run home this moment, and fetch me a pair of gloves and\\r\\na fan! Quick, now!â\\x80\\x9d And Alice was so much frightened that she ran off\\r\\nat once in the direction it pointed to, without trying to explain the\\r\\nmistake it had made.\\r\\n\\r\\nâ\\x80\\x9cHe took me for his housemaid,â\\x80\\x9d she said to herself as she ran. â\\x80\\x9cHow\\r\\nsurprised heâ\\x80\\x99ll be when he finds out who I am! But Iâ\\x80\\x99d better take him\\r\\nhis fan and glovesâ\\x80\\x94that is, if I can find them.â\\x80\\x9d As she said this, she\\r\\ncame upon a neat little house, on the door of which was a bright brass\\r\\nplate with the name â\\x80\\x9cW. RABBIT,â\\x80\\x9d engraved upon it. She went in without\\r\\nknocking, and hurried upstairs, in great fear lest she should meet the\\r\\nreal Mary Ann, and be turned out of the house before she had found the\\r\\nfan and gloves.\\r\\n\\r\\nâ\\x80\\x9cHow queer it seems,â\\x80\\x9d Alice said to herself, â\\x80\\x9cto be going messages for\\r\\na rabbit! I suppose Dinahâ\\x80\\x99ll be sending me on messages next!â\\x80\\x9d And she\\r\\nbegan fancying the sort of thing that would happen: â\\x80\\x9câ\\x80\\x98Miss Alice! Come\\r\\nhere directly, and get ready for your walk!â\\x80\\x99 â\\x80\\x98Coming in a minute,\\r\\nnurse! But Iâ\\x80\\x99ve got to see that the mouse doesnâ\\x80\\x99t get out.â\\x80\\x99 Only I\\r\\ndonâ\\x80\\x99t think,â\\x80\\x9d Alice went on, â\\x80\\x9cthat theyâ\\x80\\x99d let Dinah stop in the house\\r\\nif it began ordering people about like that!â\\x80\\x9d\\r\\n\\r\\nBy this time she had found her way into a tidy little room with a table\\r\\nin the window, and on it (as she had hoped) a fan and two or three\\r\\npairs of tiny white kid gloves: she took up the fan and a pair of the\\r\\ngloves, and was just going to leave the room, when her eye fell upon a\\r\\nlittle bottle that stood near the looking-glass. There was no label\\r\\nthis time with the words â\\x80\\x9cDRINK ME,â\\x80\\x9d but nevertheless she uncorked it\\r\\nand put it to her lips. â\\x80\\x9cI know _something_ interesting is sure to\\r\\nhappen,â\\x80\\x9d she said to herself, â\\x80\\x9cwhenever I eat or drink anything; so\\r\\nIâ\\x80\\x99ll just see what this bottle does. I do hope itâ\\x80\\x99ll make me grow large\\r\\nagain, for really Iâ\\x80\\x99m quite tired of being such a tiny little thing!â\\x80\\x9d\\r\\n\\r\\nIt did so indeed, and much sooner than she had expected: before she had\\r\\ndrunk half the bottle, she found her head pressing against the ceiling,\\r\\nand had to stoop to save her neck from being broken. She hastily put\\r\\ndown the bottle, saying to herself â\\x80\\x9cThatâ\\x80\\x99s quite enoughâ\\x80\\x94I hope I shanâ\\x80\\x99t\\r\\ngrow any moreâ\\x80\\x94As it is, I canâ\\x80\\x99t get out at the doorâ\\x80\\x94I do wish I hadnâ\\x80\\x99t\\r\\ndrunk quite so much!â\\x80\\x9d\\r\\n\\r\\nAlas! it was too late to wish that! She went on growing, and growing,\\r\\nand very soon had to kneel down on the floor: in another minute there\\r\\nwas not even room for this, and she tried the effect of lying down with\\r\\none elbow against the door, and the other arm curled round her head.\\r\\nStill she went on growing, and, as a last resource, she put one arm out\\r\\nof the window, and one foot up the chimney, and said to herself â\\x80\\x9cNow I\\r\\ncan do no more, whatever happens. What _will_ become of me?â\\x80\\x9d\\r\\n\\r\\nLuckily for Alice, the little magic bottle had now had its full effect,\\r\\nand she grew no larger: still it was very uncomfortable, and, as there\\r\\nseemed to be no sort of chance of her ever getting out of the room\\r\\nagain, no wonder she felt unhappy.\\r\\n\\r\\nâ\\x80\\x9cIt was much pleasanter at home,â\\x80\\x9d thought poor Alice, â\\x80\\x9cwhen one wasnâ\\x80\\x99t\\r\\nalways growing larger and smaller, and being ordered about by mice and\\r\\nrabbits. I almost wish I hadnâ\\x80\\x99t gone down that rabbit-holeâ\\x80\\x94and yetâ\\x80\\x94and\\r\\nyetâ\\x80\\x94itâ\\x80\\x99s rather curious, you know, this sort of life! I do wonder what\\r\\n_can_ have happened to me! When I used to read fairy-tales, I fancied\\r\\nthat kind of thing never happened, and now here I am in the middle of\\r\\none! There ought to be a book written about me, that there ought! And\\r\\nwhen I grow up, Iâ\\x80\\x99ll write oneâ\\x80\\x94but Iâ\\x80\\x99m grown up now,â\\x80\\x9d she added in a\\r\\nsorrowful tone; â\\x80\\x9cat least thereâ\\x80\\x99s no room to grow up any more _here_.â\\x80\\x9d\\r\\n\\r\\nâ\\x80\\x9cBut then,â\\x80\\x9d thought Alice, â\\x80\\x9cshall I _never_ get any older than I am\\r\\nnow? Thatâ\\x80\\x99ll be a comfort, one wayâ\\x80\\x94never to be an old womanâ\\x80\\x94but\\r\\nthenâ\\x80\\x94always to have lessons to learn! Oh, I shouldnâ\\x80\\x99t like _that!_â\\x80\\x9d\\r\\n\\r\\nâ\\x80\\x9cOh, you foolish Alice!â\\x80\\x9d she answered herself. â\\x80\\x9cHow can you learn\\r\\nlessons in here? Why, thereâ\\x80\\x99s hardly room for _you_, and no room at all\\r\\nfor any lesson-books!â\\x80\\x9d\\r\\n\\r\\nAnd so she went on, taking first one side and then the other, and\\r\\nmaking quite a conversation of it altogether; but after a few minutes\\r\\nshe heard a voice outside, and stopped to listen.\\r\\n\\r\\nâ\\x80\\x9cMary Ann! Mary Ann!â\\x80\\x9d said the voice. â\\x80\\x9cFetch me my gloves this moment!â\\x80\\x9d\\r\\nThen came a little pattering of feet on the stairs. Alice knew it was\\r\\nthe Rabbit coming to look for her, and she trembled till she shook the\\r\\nhouse, quite forgetting that she was now about a thousand times as\\r\\nlarge as the Rabbit, and had no reason to be afraid of it.\\r\\n\\r\\nPresently the Rabbit came up to the door, and tried to open it; but, as\\r\\nthe door opened inwards, and Aliceâ\\x80\\x99s elbow was pressed hard against it,\\r\\nthat attempt proved a failure. Alice heard it say to itself â\\x80\\x9cThen Iâ\\x80\\x99ll\\r\\ngo round and get in at the window.â\\x80\\x9d\\r\\n\\r\\nâ\\x80\\x9c_That_ you wonâ\\x80\\x99t!â\\x80\\x9d thought Alice, and, after waiting till she fancied\\r\\nshe heard the Rabbit just under the window, she suddenly spread out her\\r\\nhand, and made a snatch in the air. She did not get hold of anything,\\r\\nbut she heard a little shriek and a fall, and a crash of broken glass,\\r\\nfrom which she concluded that it was just possible it had fallen into a\\r\\ncucumber-frame, or something of the sort.\\r\\n\\r\\nNext came an angry voiceâ\\x80\\x94the Rabbitâ\\x80\\x99sâ\\x80\\x94â\\x80\\x9cPat! Pat! Where are you?â\\x80\\x9d And\\r\\nthen a voice she had never heard before, â\\x80\\x9cSure then Iâ\\x80\\x99m here! Digging\\r\\nfor apples, yer honour!â\\x80\\x9d\\r\\n\\r\\nâ\\x80\\x9cDigging for apples, indeed!â\\x80\\x9d said the Rabbit angrily. â\\x80\\x9cHere! Come and\\r\\nhelp me out of _this!_â\\x80\\x9d (Sounds of more broken glass.)\\r\\n\\r\\nâ\\x80\\x9cNow tell me, Pat, whatâ\\x80\\x99s that in the window?â\\x80\\x9d\\r\\n\\r\\nâ\\x80\\x9cSure, itâ\\x80\\x99s an arm, yer honour!â\\x80\\x9d (He pronounced it â\\x80\\x9carrum.â\\x80\\x9d)\\r\\n\\r\\nâ\\x80\\x9cAn arm, you goose! Who ever saw one that size? Why, it fills the whole\\r\\nwindow!â\\x80\\x9d\\r\\n\\r\\nâ\\x80\\x9cSure, it does, yer honour: but itâ\\x80\\x99s an arm for all that.â\\x80\\x9d\\r\\n\\r\\nâ\\x80\\x9cWell, itâ\\x80\\x99s got no business there, at any rate: go and take it away!â\\x80\\x9d\\r\\n\\r\\nThere was a long silence after this, and Alice could only hear whispers\\r\\nnow and then; such as, â\\x80\\x9cSure, I donâ\\x80\\x99t like it, yer honour, at all, at\\r\\nall!â\\x80\\x9d â\\x80\\x9cDo as I tell you, you coward!â\\x80\\x9d and at last she spread out her\\r\\nhand again, and made another snatch in the air. This time there were\\r\\n_two_ little shrieks, and more sounds of broken glass. â\\x80\\x9cWhat a number\\r\\nof cucumber-frames there must be!â\\x80\\x9d thought Alice. â\\x80\\x9cI wonder what\\r\\ntheyâ\\x80\\x99ll do next! As for pulling me out of the window, I only wish they\\r\\n_could!_ Iâ\\x80\\x99m sure _I_ donâ\\x80\\x99t want to stay in here any longer!â\\x80\\x9d\\r\\n\\r\\nShe waited for some time without hearing anything more: at last came a\\r\\nrumbling of little cartwheels, and the sound of a good many voices all\\r\\ntalking together: she made out the words: â\\x80\\x9cWhereâ\\x80\\x99s the other\\r\\nladder?â\\x80\\x94Why, I hadnâ\\x80\\x99t to bring but one; Billâ\\x80\\x99s got the otherâ\\x80\\x94Bill!\\r\\nfetch it here, lad!â\\x80\\x94Here, put â\\x80\\x99em up at this cornerâ\\x80\\x94No, tie â\\x80\\x99em\\r\\ntogether firstâ\\x80\\x94they donâ\\x80\\x99t reach half high enough yetâ\\x80\\x94Oh! theyâ\\x80\\x99ll do\\r\\nwell enough; donâ\\x80\\x99t be particularâ\\x80\\x94Here, Bill! catch hold of this\\r\\nropeâ\\x80\\x94Will the roof bear?â\\x80\\x94Mind that loose slateâ\\x80\\x94Oh, itâ\\x80\\x99s coming down!\\r\\nHeads below!â\\x80\\x9d (a loud crash)â\\x80\\x94â\\x80\\x9cNow, who did that?â\\x80\\x94It was Bill, I\\r\\nfancyâ\\x80\\x94Whoâ\\x80\\x99s to go down the chimney?â\\x80\\x94Nay, _I_ shanâ\\x80\\x99t! _You_ do\\r\\nit!â\\x80\\x94_That_ I wonâ\\x80\\x99t, then!â\\x80\\x94Billâ\\x80\\x99s to go downâ\\x80\\x94Here, Bill! the master says\\r\\nyouâ\\x80\\x99re to go down the chimney!â\\x80\\x9d\\r\\n\\r\\nâ\\x80\\x9cOh! So Billâ\\x80\\x99s got to come down the chimney, has he?â\\x80\\x9d said Alice to\\r\\nherself. â\\x80\\x9cShy, they seem to put everything upon Bill! I wouldnâ\\x80\\x99t be in\\r\\nBillâ\\x80\\x99s place for a good deal: this fireplace is narrow, to be sure; but\\r\\nI _think_ I can kick a little!â\\x80\\x9d\\r\\n\\r\\nShe drew her foot as far down the chimney as she could, and waited till\\r\\nshe heard a little animal (she couldnâ\\x80\\x99t guess of what sort it was)\\r\\nscratching and scrambling about in the chimney close above her: then,\\r\\nsaying to herself â\\x80\\x9cThis is Bill,â\\x80\\x9d she gave one sharp kick, and waited\\r\\nto see what would happen next.\\r\\n\\r\\nThe first thing she heard was a general chorus of â\\x80\\x9cThere goes Bill!â\\x80\\x9d\\r\\nthen the Rabbitâ\\x80\\x99s voice alongâ\\x80\\x94â\\x80\\x9cCatch him, you by the hedge!â\\x80\\x9d then\\r\\nsilence, and then another confusion of voicesâ\\x80\\x94â\\x80\\x9cHold up his headâ\\x80\\x94Brandy\\r\\nnowâ\\x80\\x94Donâ\\x80\\x99t choke himâ\\x80\\x94How was it, old fellow? What happened to you? Tell\\r\\nus all about it!â\\x80\\x9d\\r\\n\\r\\nLast came a little feeble, squeaking voice, (â\\x80\\x9cThatâ\\x80\\x99s Bill,â\\x80\\x9d thought\\r\\nAlice,) â\\x80\\x9cWell, I hardly knowâ\\x80\\x94No more, thank ye; Iâ\\x80\\x99m better nowâ\\x80\\x94but Iâ\\x80\\x99m\\r\\na deal too flustered to tell youâ\\x80\\x94all I know is, something comes at me\\r\\nlike a Jack-in-the-box, and up I goes like a sky-rocket!â\\x80\\x9d\\r\\n\\r\\nâ\\x80\\x9cSo you did, old fellow!â\\x80\\x9d said the others.\\r\\n\\r\\nâ\\x80\\x9cWe must burn the house down!â\\x80\\x9d said the Rabbitâ\\x80\\x99s voice; and Alice\\r\\ncalled out as loud as she could, â\\x80\\x9cIf you do, Iâ\\x80\\x99ll set Dinah at you!â\\x80\\x9d\\r\\n\\r\\nThere was a dead silence instantly, and Alice thought to herself, â\\x80\\x9cI\\r\\nwonder what they _will_ do next! If they had any sense, theyâ\\x80\\x99d take the\\r\\nroof off.â\\x80\\x9d After a minute or two, they began moving about again, and\\r\\nAlice heard the Rabbit say, â\\x80\\x9cA barrowful will do, to begin with.â\\x80\\x9d\\r\\n\\r\\nâ\\x80\\x9cA barrowful of _what?_â\\x80\\x9d thought Alice; but she had not long to doubt,\\r\\nfor the next moment a shower of little pebbles came rattling in at the\\r\\nwindow, and some of them hit her in the face. â\\x80\\x9cIâ\\x80\\x99ll put a stop to\\r\\nthis,â\\x80\\x9d she said to herself, and shouted out, â\\x80\\x9cYouâ\\x80\\x99d better not do that\\r\\nagain!â\\x80\\x9d which produced another dead silence.\\r\\n\\r\\nAlice noticed with some surprise that the pebbles were all turning into\\r\\nlittle cakes as they lay on the floor, and a bright idea came into her\\r\\nhead. â\\x80\\x9cIf I eat one of these cakes,â\\x80\\x9d she thought, â\\x80\\x9citâ\\x80\\x99s sure to make\\r\\n_some_ change in my size; and as it canâ\\x80\\x99t possibly make me larger, it\\r\\nmust make me smaller, I suppose.â\\x80\\x9d\\r\\n\\r\\nSo she swallowed one of the cakes, and was delighted to find that she\\r\\nbegan shrinking directly. As soon as she was small enough to get\\r\\nthrough the door, she ran out of the house, and found quite a crowd of\\r\\nlittle animals and birds waiting outside. The poor little Lizard, Bill,\\r\\nwas in the middle, being held up by two guinea-pigs, who were giving it\\r\\nsomething out of a bottle. They all made a rush at Alice the moment she\\r\\nappeared; but she ran off as hard as she could, and soon found herself\\r\\nsafe in a thick wood.\\r\\n\\r\\nâ\\x80\\x9cThe first thing Iâ\\x80\\x99ve got to do,â\\x80\\x9d said Alice to herself, as she\\r\\nwandered about in the wood, â\\x80\\x9cis to grow to my right size again; and the\\r\\nsecond thing is to find my way into that lovely garden. I think that\\r\\nwill be the best plan.â\\x80\\x9d\\r\\n\\r\\nIt sounded an excellent plan, no doubt, and very neatly and simply\\r\\narranged; the only difficulty was, that she had not the smallest idea\\r\\nhow to set about it; and while she was peering about anxiously among\\r\\nthe trees, a little sharp bark just over her head made her look up in a\\r\\ngreat hurry.\\r\\n\\r\\nAn enormous puppy was looking down at her with large round eyes, and\\r\\nfeebly stretching out one paw, trying to touch her. â\\x80\\x9cPoor little\\r\\nthing!â\\x80\\x9d said Alice, in a coaxing tone, and she tried hard to whistle to\\r\\nit; but she was terribly frightened all the time at the thought that it\\r\\nmight be hungry, in which case it would be very likely to eat her up in\\r\\nspite of all her coaxing.\\r\\n\\r\\nHardly knowing what she did, she picked up a little bit of stick, and\\r\\nheld it out to the puppy; whereupon the puppy jumped into the air off\\r\\nall its feet at once, with a yelp of delight, and rushed at the stick,\\r\\nand made believe to worry it; then Alice dodged behind a great thistle,\\r\\nto keep herself from being run over; and the moment she appeared on the\\r\\nother side, the puppy made another rush at the stick, and tumbled head\\r\\nover heels in its hurry to get hold of it; then Alice, thinking it was\\r\\nvery like having a game of play with a cart-horse, and expecting every\\r\\nmoment to be trampled under its feet, ran round the thistle again; then\\r\\nthe puppy began a series of short charges at the stick, running a very\\r\\nlittle way forwards each time and a long way back, and barking hoarsely\\r\\nall the while, till at last it sat down a good way off, panting, with\\r\\nits tongue hanging out of its mouth, and its great eyes half shut.\\r\\n\\r\\nThis seemed to Alice a good opportunity for making her escape; so she\\r\\nset off at once, and ran till she was quite tired and out of breath,\\r\\nand till the puppyâ\\x80\\x99s bark sounded quite faint in the distance.\\r\\n\\r\\nâ\\x80\\x9cAnd yet what a dear little puppy it was!â\\x80\\x9d said Alice, as she leant\\r\\nagainst a buttercup to rest herself, and fanned herself with one of the\\r\\nleaves: â\\x80\\x9cI should have liked teaching it tricks very much, ifâ\\x80\\x94if Iâ\\x80\\x99d\\r\\nonly been the right size to do it! Oh dear! Iâ\\x80\\x99d nearly forgotten that\\r\\nIâ\\x80\\x99ve got to grow up again! Let me seeâ\\x80\\x94how _is_ it to be managed? I\\r\\nsuppose I ought to eat or drink something or other; but the great\\r\\nquestion is, what?â\\x80\\x9d\\r\\n\\r\\nThe great question certainly was, what? Alice looked all round her at\\r\\nthe flowers and the blades of grass, but she did not see anything that\\r\\nlooked like the right thing to eat or drink under the circumstances.\\r\\nThere was a large mushroom growing near her, about the same height as\\r\\nherself; and when she had looked under it, and on both sides of it, and\\r\\nbehind it, it occurred to her that she might as well look and see what\\r\\nwas on the top of it.\\r\\n\\r\\nShe stretched herself up on tiptoe, and peeped over the edge of the\\r\\nmushroom, and her eyes immediately met those of a large blue\\r\\ncaterpillar, that was sitting on the top with its arms folded, quietly\\r\\nsmoking a long hookah, and taking not the smallest notice of her or of\\r\\nanything else.\\r\\n\\r\\n\\r\\n\\r\\n\\r\\nCHAPTER V.\\r\\nAdvice from a Caterpillar\\r\\n\\r\\n\\r\\nThe Caterpillar and Alice looked at each other for some time in\\r\\nsilence: at last the Caterpillar took the hookah out of its mouth, and\\r\\naddressed her in a languid, sleepy voice.\\r\\n\\r\\nâ\\x80\\x9cWho are _you?_â\\x80\\x9d said the Caterpillar.\\r\\n\\r\\nThis was not an encouraging opening for a conversation. Alice replied,\\r\\nrather shyly, â\\x80\\x9cIâ\\x80\\x94I hardly know, sir, just at presentâ\\x80\\x94at least I know\\r\\nwho I _was_ when I got up this morning, but I think I must have been\\r\\nchanged several times since then.â\\x80\\x9d\\r\\n\\r\\nâ\\x80\\x9cWhat do you mean by that?â\\x80\\x9d said the Caterpillar sternly. â\\x80\\x9cExplain\\r\\nyourself!â\\x80\\x9d\\r\\n\\r\\nâ\\x80\\x9cI canâ\\x80\\x99t explain _myself_, Iâ\\x80\\x99m afraid, sir,â\\x80\\x9d said Alice, â\\x80\\x9cbecause Iâ\\x80\\x99m\\r\\nnot myself, you see.â\\x80\\x9d\\r\\n\\r\\nâ\\x80\\x9cI donâ\\x80\\x99t see,â\\x80\\x9d said the Caterpillar.\\r\\n\\r\\nâ\\x80\\x9cIâ\\x80\\x99m afraid I canâ\\x80\\x99t put it more clearly,â\\x80\\x9d Alice replied very politely,\\r\\nâ\\x80\\x9cfor I canâ\\x80\\x99t understand it myself to begin with; and being so many\\r\\ndifferent sizes in a day is very confusing.â\\x80\\x9d\\r\\n\\r\\nâ\\x80\\x9cIt isnâ\\x80\\x99t,â\\x80\\x9d said the Caterpillar.\\r\\n\\r\\nâ\\x80\\x9cWell, perhaps you havenâ\\x80\\x99t found it so yet,â\\x80\\x9d said Alice; â\\x80\\x9cbut when you\\r\\nhave to turn into a chrysalisâ\\x80\\x94you will some day, you knowâ\\x80\\x94and then\\r\\nafter that into a butterfly, I should think youâ\\x80\\x99ll feel it a little\\r\\nqueer, wonâ\\x80\\x99t you?â\\x80\\x9d\\r\\n\\r\\nâ\\x80\\x9cNot a bit,â\\x80\\x9d said the Caterpillar.\\r\\n\\r\\nâ\\x80\\x9cWell, perhaps your feelings may be different,â\\x80\\x9d said Alice; â\\x80\\x9call I know\\r\\nis, it would feel very queer to _me_.â\\x80\\x9d\\r\\n\\r\\nâ\\x80\\x9cYou!â\\x80\\x9d said the Caterpillar contemptuously. â\\x80\\x9cWho are _you?_â\\x80\\x9d\\r\\n\\r\\nWhich brought them back again to the beginning of the conversation.\\r\\nAlice felt a little irritated at the Caterpillarâ\\x80\\x99s making such _very_\\r\\nshort remarks, and she drew herself up and said, very gravely, â\\x80\\x9cI\\r\\nthink, you ought to tell me who _you_ are, first.â\\x80\\x9d\\r\\n\\r\\nâ\\x80\\x9cWhy?â\\x80\\x9d said the Caterpillar.\\r\\n\\r\\nHere was another puzzling question; and as Alice could not think of any\\r\\ngood reason, and as the Caterpillar seemed to be in a _very_ unpleasant\\r\\nstate of mind, she turned away.\\r\\n\\r\\nâ\\x80\\x9cCome back!â\\x80\\x9d the Caterpillar called after her. â\\x80\\x9cIâ\\x80\\x99ve something\\r\\nimportant to say!â\\x80\\x9d\\r\\n\\r\\nThis sounded promising, certainly: Alice turned and came back again.\\r\\n\\r\\nâ\\x80\\x9cKeep your temper,â\\x80\\x9d said the Caterpillar.\\r\\n\\r\\nâ\\x80\\x9cIs that all?â\\x80\\x9d said Alice, swallowing down her anger as well as she\\r\\ncould.\\r\\n\\r\\nâ\\x80\\x9cNo,â\\x80\\x9d said the Caterpillar.\\r\\n\\r\\nAlice thought she might as well wait, as she had nothing else to do,\\r\\nand perhaps after all it might tell her something worth hearing. For\\r\\nsome minutes it puffed away without speaking, but at last it unfolded\\r\\nits arms, took the hookah out of its mouth again, and said, â\\x80\\x9cSo you\\r\\nthink youâ\\x80\\x99re changed, do you?â\\x80\\x9d\\r\\n\\r\\nâ\\x80\\x9cIâ\\x80\\x99m afraid I am, sir,â\\x80\\x9d said Alice; â\\x80\\x9cI canâ\\x80\\x99t remember things as I\\r\\nusedâ\\x80\\x94and I donâ\\x80\\x99t keep the same size for ten minutes together!â\\x80\\x9d\\r\\n\\r\\nâ\\x80\\x9cCanâ\\x80\\x99t remember _what_ things?â\\x80\\x9d said the Caterpillar.\\r\\n\\r\\nâ\\x80\\x9cWell, Iâ\\x80\\x99ve tried to say â\\x80\\x9cHow doth the little busy bee,â\\x80\\x9d but it all\\r\\ncame different!â\\x80\\x9d Alice replied in a very melancholy voice.\\r\\n\\r\\nâ\\x80\\x9cRepeat, â\\x80\\x9c_You are old, Father William_,â\\x80\\x99â\\x80\\x9d said the Caterpillar.\\r\\n\\r\\nAlice folded her hands, and began:â\\x80\\x94\\r\\n\\r\\nâ\\x80\\x9cYou are old, Father William,â\\x80\\x9d the young man said,\\r\\n    â\\x80\\x9cAnd your hair has become very white;\\r\\nAnd yet you incessantly stand on your headâ\\x80\\x94\\r\\n    Do you think, at your age, it is right?â\\x80\\x9d\\r\\n\\r\\nâ\\x80\\x9cIn my youth,â\\x80\\x9d Father William replied to his son,\\r\\n    â\\x80\\x9cI feared it might injure the brain;\\r\\nBut, now that Iâ\\x80\\x99m perfectly sure I have none,\\r\\n    Why, I do it again and again.â\\x80\\x9d\\r\\n\\r\\nâ\\x80\\x9cYou are old,â\\x80\\x9d said the youth, â\\x80\\x9cas I mentioned before,\\r\\n    And have grown most uncommonly fat;\\r\\nYet you turned a back-somersault in at the doorâ\\x80\\x94\\r\\n    Pray, what is the reason of that?â\\x80\\x9d\\r\\n\\r\\nâ\\x80\\x9cIn my youth,â\\x80\\x9d said the sage, as he shook his grey locks,\\r\\n    â\\x80\\x9cI kept all my limbs very supple\\r\\nBy the use of this ointmentâ\\x80\\x94one shilling the boxâ\\x80\\x94\\r\\n    Allow me to sell you a couple?â\\x80\\x9d\\r\\n\\r\\nâ\\x80\\x9cYou are old,â\\x80\\x9d said the youth, â\\x80\\x9cand your jaws are too weak\\r\\n    For anything tougher than suet;\\r\\nYet you finished the goose, with the bones and the beakâ\\x80\\x94\\r\\n    Pray, how did you manage to do it?â\\x80\\x9d\\r\\n\\r\\nâ\\x80\\x9cIn my youth,â\\x80\\x9d said his father, â\\x80\\x9cI took to the law,\\r\\n    And argued each case with my wife;\\r\\nAnd the muscular strength, which it gave to my jaw,\\r\\n    Has lasted the rest of my life.â\\x80\\x9d\\r\\n\\r\\nâ\\x80\\x9cYou are old,â\\x80\\x9d said the youth, â\\x80\\x9cone would hardly suppose\\r\\n    That your eye was as steady as ever;\\r\\nYet you balanced an eel on the end of your noseâ\\x80\\x94\\r\\n    What made you so awfully clever?â\\x80\\x9d\\r\\n\\r\\nâ\\x80\\x9cI have answered three questions, and that is enough,â\\x80\\x9d\\r\\n    Said his father; â\\x80\\x9cdonâ\\x80\\x99t give yourself airs!\\r\\nDo you think I can listen all day to such stuff?\\r\\n    Be off, or Iâ\\x80\\x99ll kick you down stairs!â\\x80\\x9d\\r\\n\\r\\n\\r\\nâ\\x80\\x9cThat is not said right,â\\x80\\x9d said the Caterpillar.\\r\\n\\r\\nâ\\x80\\x9cNot _quite_ right, Iâ\\x80\\x99m afraid,â\\x80\\x9d said Alice, timidly; â\\x80\\x9csome of the\\r\\nwords have got altered.â\\x80\\x9d\\r\\n\\r\\nâ\\x80\\x9cIt is wrong from beginning to end,â\\x80\\x9d said the Caterpillar decidedly,\\r\\nand there was silence for some minutes.\\r\\n\\r\\nThe Caterpillar was the first to speak.\\r\\n\\r\\nâ\\x80\\x9cWhat size do you want to be?â\\x80\\x9d it asked.\\r\\n\\r\\nâ\\x80\\x9cOh, Iâ\\x80\\x99m not particular as to size,â\\x80\\x9d Alice hastily replied; â\\x80\\x9conly one\\r\\ndoesnâ\\x80\\x99t like changing so often, you know.â\\x80\\x9d\\r\\n\\r\\nâ\\x80\\x9cI _donâ\\x80\\x99t_ know,â\\x80\\x9d said the Caterpillar.\\r\\n\\r\\nAlice said nothing: she had never been so much contradicted in her life\\r\\nbefore, and she felt that she was losing her temper.\\r\\n\\r\\nâ\\x80\\x9cAre you content now?â\\x80\\x9d said the Caterpillar.\\r\\n\\r\\nâ\\x80\\x9cWell, I should like to be a _little_ larger, sir, if you wouldnâ\\x80\\x99t\\r\\nmind,â\\x80\\x9d said Alice: â\\x80\\x9cthree inches is such a wretched height to be.â\\x80\\x9d\\r\\n\\r\\nâ\\x80\\x9cIt is a very good height indeed!â\\x80\\x9d said the Caterpillar angrily,\\r\\nrearing itself upright as it spoke (it was exactly three inches high).\\r\\n\\r\\nâ\\x80\\x9cBut Iâ\\x80\\x99m not used to it!â\\x80\\x9d pleaded poor Alice in a piteous tone. And she\\r\\nthought of herself, â\\x80\\x9cI wish the creatures wouldnâ\\x80\\x99t be so easily\\r\\noffended!â\\x80\\x9d\\r\\n\\r\\nâ\\x80\\x9cYouâ\\x80\\x99ll get used to it in time,â\\x80\\x9d said the Caterpillar; and it put the\\r\\nhookah into its mouth and began smoking again.\\r\\n\\r\\nThis time Alice waited patiently until it chose to speak again. In a\\r\\nminute or two the Caterpillar took the hookah out of its mouth and\\r\\nyawned once or twice, and shook itself. Then it got down off the\\r\\nmushroom, and crawled away in the grass, merely remarking as it went,\\r\\nâ\\x80\\x9cOne side will make you grow taller, and the other side will make you\\r\\ngrow shorter.â\\x80\\x9d\\r\\n\\r\\nâ\\x80\\x9cOne side of _what?_ The other side of _what?_â\\x80\\x9d thought Alice to\\r\\nherself.\\r\\n\\r\\nâ\\x80\\x9cOf the mushroom,â\\x80\\x9d said the Caterpillar, just as if she had asked it\\r\\naloud; and in another moment it was out of sight.\\r\\n\\r\\nAlice remained looking thoughtfully at the mushroom for a minute,\\r\\ntrying to make out which were the two sides of it; and as it was\\r\\nperfectly round, she found this a very difficult question. However, at\\r\\nlast she stretched her arms round it as far as they would go, and broke\\r\\noff a bit of the edge with each hand.\\r\\n\\r\\nâ\\x80\\x9cAnd now which is which?â\\x80\\x9d she said to herself, and nibbled a little of\\r\\nthe right-hand bit to try the effect: the next moment she felt a\\r\\nviolent blow underneath her chin: it had struck her foot!\\r\\n\\r\\nShe was a good deal frightened by this very sudden change, but she felt\\r\\nthat there was no time to be lost, as she was shrinking rapidly; so she\\r\\nset to work at once to eat some of the other bit. Her chin was pressed\\r\\nso closely against her foot, that there was hardly room to open her\\r\\nmouth; but she did it at last, and managed to swallow a morsel of the\\r\\nlefthand bit.\\r\\n\\r\\n*      *      *      *      *      *      *\\r\\n\\r\\n    *      *      *      *      *      *\\r\\n\\r\\n*      *      *      *      *      *      *\\r\\n\\r\\n\\r\\nâ\\x80\\x9cCome, my headâ\\x80\\x99s free at last!â\\x80\\x9d said Alice in a tone of delight, which\\r\\nchanged into alarm in another moment, when she found that her shoulders\\r\\nwere nowhere to be found: all she could see, when she looked down, was\\r\\nan immense length of neck, which seemed to rise like a stalk out of a\\r\\nsea of green leaves that lay far below her.\\r\\n\\r\\nâ\\x80\\x9cWhat _can_ all that green stuff be?â\\x80\\x9d said Alice. â\\x80\\x9cAnd where _have_ my\\r\\nshoulders got to? And oh, my poor hands, how is it I canâ\\x80\\x99t see you?â\\x80\\x9d\\r\\nShe was moving them about as she spoke, but no result seemed to follow,\\r\\nexcept a little shaking among the distant green leaves.\\r\\n\\r\\nAs there seemed to be no chance of getting her hands up to her head,\\r\\nshe tried to get her head down to them, and was delighted to find that\\r\\nher neck would bend about easily in any direction, like a serpent. She\\r\\nhad just succeeded in curving it down into a graceful zigzag, and was\\r\\ngoing to dive in among the leaves, which she found to be nothing but\\r\\nthe tops of the trees under which she had been wandering, when a sharp\\r\\nhiss made her draw back in a hurry: a large pigeon had flown into her\\r\\nface, and was beating her violently with its wings.\\r\\n\\r\\nâ\\x80\\x9cSerpent!â\\x80\\x9d screamed the Pigeon.\\r\\n\\r\\nâ\\x80\\x9cIâ\\x80\\x99m _not_ a serpent!â\\x80\\x9d said Alice indignantly. â\\x80\\x9cLet me alone!â\\x80\\x9d\\r\\n\\r\\nâ\\x80\\x9cSerpent, I say again!â\\x80\\x9d repeated the Pigeon, but in a more subdued\\r\\ntone, and added with a kind of sob, â\\x80\\x9cIâ\\x80\\x99ve tried every way, and nothing\\r\\nseems to suit them!â\\x80\\x9d\\r\\n\\r\\nâ\\x80\\x9cI havenâ\\x80\\x99t the least idea what youâ\\x80\\x99re talking about,â\\x80\\x9d said Alice.\\r\\n\\r\\nâ\\x80\\x9cIâ\\x80\\x99ve tried the roots of trees, and Iâ\\x80\\x99ve tried banks, and Iâ\\x80\\x99ve tried\\r\\nhedges,â\\x80\\x9d the Pigeon went on, without attending to her; â\\x80\\x9cbut those\\r\\nserpents! Thereâ\\x80\\x99s no pleasing them!â\\x80\\x9d\\r\\n\\r\\nAlice was more and more puzzled, but she thought there was no use in\\r\\nsaying anything more till the Pigeon had finished.\\r\\n\\r\\nâ\\x80\\x9cAs if it wasnâ\\x80\\x99t trouble enough hatching the eggs,â\\x80\\x9d said the Pigeon;\\r\\nâ\\x80\\x9cbut I must be on the look-out for serpents night and day! Why, I\\r\\nhavenâ\\x80\\x99t had a wink of sleep these three weeks!â\\x80\\x9d\\r\\n\\r\\nâ\\x80\\x9cIâ\\x80\\x99m very sorry youâ\\x80\\x99ve been annoyed,â\\x80\\x9d said Alice, who was beginning to\\r\\nsee its meaning.\\r\\n\\r\\nâ\\x80\\x9cAnd just as Iâ\\x80\\x99d taken the highest tree in the wood,â\\x80\\x9d continued the\\r\\nPigeon, raising its voice to a shriek, â\\x80\\x9cand just as I was thinking I\\r\\nshould be free of them at last, they must needs come wriggling down\\r\\nfrom the sky! Ugh, Serpent!â\\x80\\x9d\\r\\n\\r\\nâ\\x80\\x9cBut Iâ\\x80\\x99m _not_ a serpent, I tell you!â\\x80\\x9d said Alice. â\\x80\\x9cIâ\\x80\\x99m aâ\\x80\\x94Iâ\\x80\\x99m aâ\\x80\\x94â\\x80\\x9d\\r\\n\\r\\nâ\\x80\\x9cWell! _What_ are you?â\\x80\\x9d said the Pigeon. â\\x80\\x9cI can see youâ\\x80\\x99re trying to\\r\\ninvent something!â\\x80\\x9d\\r\\n\\r\\nâ\\x80\\x9cIâ\\x80\\x94Iâ\\x80\\x99m a little girl,â\\x80\\x9d said Alice, rather doubtfully, as she remembered\\r\\nthe number of changes she had gone through that day.\\r\\n\\r\\nâ\\x80\\x9cA likely story indeed!â\\x80\\x9d said the Pigeon in a tone of the deepest\\r\\ncontempt. â\\x80\\x9cIâ\\x80\\x99ve seen a good many little girls in my time, but never\\r\\n_one_ with such a neck as that! No, no! Youâ\\x80\\x99re a serpent; and thereâ\\x80\\x99s\\r\\nno use denying it. I suppose youâ\\x80\\x99ll be telling me next that you never\\r\\ntasted an egg!â\\x80\\x9d\\r\\n\\r\\nâ\\x80\\x9cI _have_ tasted eggs, certainly,â\\x80\\x9d said Alice, who was a very truthful\\r\\nchild; â\\x80\\x9cbut little girls eat eggs quite as much as serpents do, you\\r\\nknow.â\\x80\\x9d\\r\\n\\r\\nâ\\x80\\x9cI donâ\\x80\\x99t believe it,â\\x80\\x9d said the Pigeon; â\\x80\\x9cbut if they do, why then\\r\\ntheyâ\\x80\\x99re a kind of serpent, thatâ\\x80\\x99s all I can say.â\\x80\\x9d\\r\\n\\r\\nThis was such a new idea to Alice, that she was quite silent for a\\r\\nminute or two, which gave the Pigeon the opportunity of adding, â\\x80\\x9cYouâ\\x80\\x99re\\r\\nlooking for eggs, I know _that_ well enough; and what does it matter to\\r\\nme whether youâ\\x80\\x99re a little girl or a serpent?â\\x80\\x9d\\r\\n\\r\\nâ\\x80\\x9cIt matters a good deal to _me_,â\\x80\\x9d said Alice hastily; â\\x80\\x9cbut Iâ\\x80\\x99m not\\r\\nlooking for eggs, as it happens; and if I was, I shouldnâ\\x80\\x99t want\\r\\n_yours_: I donâ\\x80\\x99t like them raw.â\\x80\\x9d\\r\\n\\r\\nâ\\x80\\x9cWell, be off, then!â\\x80\\x9d said the Pigeon in a sulky tone, as it settled\\r\\ndown again into its nest. Alice crouched down among the trees as well\\r\\nas she could, for her neck kept getting entangled among the branches,\\r\\nand every now and then she had to stop and untwist it. After a while\\r\\nshe remembered that she still held the pieces of mushroom in her hands,\\r\\nand she set to work very carefully, nibbling first at one and then at\\r\\nthe other, and growing sometimes taller and sometimes shorter, until\\r\\nshe had succeeded in bringing herself down to her usual height.\\r\\n\\r\\nIt was so long since she had been anything near the right size, that it\\r\\nfelt quite strange at first; but she got used to it in a few minutes,\\r\\nand began talking to herself, as usual. â\\x80\\x9cCome, thereâ\\x80\\x99s half my plan\\r\\ndone now! How puzzling all these changes are! Iâ\\x80\\x99m never sure what Iâ\\x80\\x99m\\r\\ngoing to be, from one minute to another! However, Iâ\\x80\\x99ve got back to my\\r\\nright size: the next thing is, to get into that beautiful gardenâ\\x80\\x94how\\r\\n_is_ that to be done, I wonder?â\\x80\\x9d As she said this, she came suddenly\\r\\nupon an open place, with a little house in it about four feet high.\\r\\nâ\\x80\\x9cWhoever lives there,â\\x80\\x9d thought Alice, â\\x80\\x9citâ\\x80\\x99ll never do to come upon them\\r\\n_this_ size: why, I should frighten them out of their wits!â\\x80\\x9d So she\\r\\nbegan nibbling at the righthand bit again, and did not venture to go\\r\\nnear the house till she had brought herself down to nine inches high.\\r\\n\\r\\n\\r\\n\\r\\n\\r\\nCHAPTER VI.\\r\\nPig and Pepper\\r\\n\\r\\n\\r\\nFor a minute or two she stood looking at the house, and wondering what\\r\\nto do next, when suddenly a footman in livery came running out of the\\r\\nwoodâ\\x80\\x94(she considered him to be a footman because he was in livery:\\r\\notherwise, judging by his face only, she would have called him a\\r\\nfish)â\\x80\\x94and rapped loudly at the door with his knuckles. It was opened by\\r\\nanother footman in livery, with a round face, and large eyes like a\\r\\nfrog; and both footmen, Alice noticed, had powdered hair that curled\\r\\nall over their heads. She felt very curious to know what it was all\\r\\nabout, and crept a little way out of the wood to listen.\\r\\n\\r\\nThe Fish-Footman began by producing from under his arm a great letter,\\r\\nnearly as large as himself, and this he handed over to the other,\\r\\nsaying, in a solemn tone, â\\x80\\x9cFor the Duchess. An invitation from the\\r\\nQueen to play croquet.â\\x80\\x9d The Frog-Footman repeated, in the same solemn\\r\\ntone, only changing the order of the words a little, â\\x80\\x9cFrom the Queen.\\r\\nAn invitation for the Duchess to play croquet.â\\x80\\x9d\\r\\n\\r\\nThen they both bowed low, and their curls got entangled together.\\r\\n\\r\\nAlice laughed so much at this, that she had to run back into the wood\\r\\nfor fear of their hearing her; and when she next peeped out the\\r\\nFish-Footman was gone, and the other was sitting on the ground near the\\r\\ndoor, staring stupidly up into the sky.\\r\\n\\r\\nAlice went timidly up to the door, and knocked.\\r\\n\\r\\nâ\\x80\\x9cThereâ\\x80\\x99s no sort of use in knocking,â\\x80\\x9d said the Footman, â\\x80\\x9cand that for\\r\\ntwo reasons. First, because Iâ\\x80\\x99m on the same side of the door as you\\r\\nare; secondly, because theyâ\\x80\\x99re making such a noise inside, no one could\\r\\npossibly hear you.â\\x80\\x9d And certainly there _was_ a most extraordinary\\r\\nnoise going on withinâ\\x80\\x94a constant howling and sneezing, and every now\\r\\nand then a great crash, as if a dish or kettle had been broken to\\r\\npieces.\\r\\n\\r\\nâ\\x80\\x9cPlease, then,â\\x80\\x9d said Alice, â\\x80\\x9chow am I to get in?â\\x80\\x9d\\r\\n\\r\\nâ\\x80\\x9cThere might be some sense in your knocking,â\\x80\\x9d the Footman went on\\r\\nwithout attending to her, â\\x80\\x9cif we had the door between us. For instance,\\r\\nif you were _inside_, you might knock, and I could let you out, you\\r\\nknow.â\\x80\\x9d He was looking up into the sky all the time he was speaking, and\\r\\nthis Alice thought decidedly uncivil. â\\x80\\x9cBut perhaps he canâ\\x80\\x99t help it,â\\x80\\x9d\\r\\nshe said to herself; â\\x80\\x9chis eyes are so _very_ nearly at the top of his\\r\\nhead. But at any rate he might answer questions.â\\x80\\x94How am I to get in?â\\x80\\x9d\\r\\nshe repeated, aloud.\\r\\n\\r\\nâ\\x80\\x9cI shall sit here,â\\x80\\x9d the Footman remarked, â\\x80\\x9ctill tomorrowâ\\x80\\x94â\\x80\\x9d\\r\\n\\r\\nAt this moment the door of the house opened, and a large plate came\\r\\nskimming out, straight at the Footmanâ\\x80\\x99s head: it just grazed his nose,\\r\\nand broke to pieces against one of the trees behind him.\\r\\n\\r\\nâ\\x80\\x9câ\\x80\\x94or next day, maybe,â\\x80\\x9d the Footman continued in the same tone, exactly\\r\\nas if nothing had happened.\\r\\n\\r\\nâ\\x80\\x9cHow am I to get in?â\\x80\\x9d asked Alice again, in a louder tone.\\r\\n\\r\\nâ\\x80\\x9c_Are_ you to get in at all?â\\x80\\x9d said the Footman. â\\x80\\x9cThatâ\\x80\\x99s the first\\r\\nquestion, you know.â\\x80\\x9d\\r\\n\\r\\nIt was, no doubt: only Alice did not like to be told so. â\\x80\\x9cItâ\\x80\\x99s really\\r\\ndreadful,â\\x80\\x9d she muttered to herself, â\\x80\\x9cthe way all the creatures argue.\\r\\nItâ\\x80\\x99s enough to drive one crazy!â\\x80\\x9d\\r\\n\\r\\nThe Footman seemed to think this a good opportunity for repeating his\\r\\nremark, with variations. â\\x80\\x9cI shall sit here,â\\x80\\x9d he said, â\\x80\\x9con and off, for\\r\\ndays and days.â\\x80\\x9d\\r\\n\\r\\nâ\\x80\\x9cBut what am _I_ to do?â\\x80\\x9d said Alice.\\r\\n\\r\\nâ\\x80\\x9cAnything you like,â\\x80\\x9d said the Footman, and began whistling.\\r\\n\\r\\nâ\\x80\\x9cOh, thereâ\\x80\\x99s no use in talking to him,â\\x80\\x9d said Alice desperately: â\\x80\\x9cheâ\\x80\\x99s\\r\\nperfectly idiotic!â\\x80\\x9d And she opened the door and went in.\\r\\n\\r\\nThe door led right into a large kitchen, which was full of smoke from\\r\\none end to the other: the Duchess was sitting on a three-legged stool\\r\\nin the middle, nursing a baby; the cook was leaning over the fire,\\r\\nstirring a large cauldron which seemed to be full of soup.\\r\\n\\r\\nâ\\x80\\x9cThereâ\\x80\\x99s certainly too much pepper in that soup!â\\x80\\x9d Alice said to\\r\\nherself, as well as she could for sneezing.\\r\\n\\r\\nThere was certainly too much of it in the air. Even the Duchess sneezed\\r\\noccasionally; and as for the baby, it was sneezing and howling\\r\\nalternately without a momentâ\\x80\\x99s pause. The only things in the kitchen\\r\\nthat did not sneeze, were the cook, and a large cat which was sitting\\r\\non the hearth and grinning from ear to ear.\\r\\n\\r\\nâ\\x80\\x9cPlease would you tell me,â\\x80\\x9d said Alice, a little timidly, for she was\\r\\nnot quite sure whether it was good manners for her to speak first, â\\x80\\x9cwhy\\r\\nyour cat grins like that?â\\x80\\x9d\\r\\n\\r\\nâ\\x80\\x9cItâ\\x80\\x99s a Cheshire cat,â\\x80\\x9d said the Duchess, â\\x80\\x9cand thatâ\\x80\\x99s why. Pig!â\\x80\\x9d\\r\\n\\r\\nShe said the last word with such sudden violence that Alice quite\\r\\njumped; but she saw in another moment that it was addressed to the\\r\\nbaby, and not to her, so she took courage, and went on again:â\\x80\\x94\\r\\n\\r\\nâ\\x80\\x9cI didnâ\\x80\\x99t know that Cheshire cats always grinned; in fact, I didnâ\\x80\\x99t\\r\\nknow that cats _could_ grin.â\\x80\\x9d\\r\\n\\r\\nâ\\x80\\x9cThey all can,â\\x80\\x9d said the Duchess; â\\x80\\x9cand most of â\\x80\\x99em do.â\\x80\\x9d\\r\\n\\r\\nâ\\x80\\x9cI donâ\\x80\\x99t know of any that do,â\\x80\\x9d Alice said very politely, feeling quite\\r\\npleased to have got into a conversation.\\r\\n\\r\\nâ\\x80\\x9cYou donâ\\x80\\x99t know much,â\\x80\\x9d said the Duchess; â\\x80\\x9cand thatâ\\x80\\x99s a fact.â\\x80\\x9d\\r\\n\\r\\nAlice did not at all like the tone of this remark, and thought it would\\r\\nbe as well to introduce some other subject of conversation. While she\\r\\nwas trying to fix on one, the cook took the cauldron of soup off the\\r\\nfire, and at once set to work throwing everything within her reach at\\r\\nthe Duchess and the babyâ\\x80\\x94the fire-irons came first; then followed a\\r\\nshower of saucepans, plates, and dishes. The Duchess took no notice of\\r\\nthem even when they hit her; and the baby was howling so much already,\\r\\nthat it was quite impossible to say whether the blows hurt it or not.\\r\\n\\r\\nâ\\x80\\x9cOh, _please_ mind what youâ\\x80\\x99re doing!â\\x80\\x9d cried Alice, jumping up and down\\r\\nin an agony of terror. â\\x80\\x9cOh, there goes his _precious_ nose!â\\x80\\x9d as an\\r\\nunusually large saucepan flew close by it, and very nearly carried it\\r\\noff.\\r\\n\\r\\nâ\\x80\\x9cIf everybody minded their own business,â\\x80\\x9d the Duchess said in a hoarse\\r\\ngrowl, â\\x80\\x9cthe world would go round a deal faster than it does.â\\x80\\x9d\\r\\n\\r\\nâ\\x80\\x9cWhich would _not_ be an advantage,â\\x80\\x9d said Alice, who felt very glad to\\r\\nget an opportunity of showing off a little of her knowledge. â\\x80\\x9cJust\\r\\nthink of what work it would make with the day and night! You see the\\r\\nearth takes twenty-four hours to turn round on its axisâ\\x80\\x94â\\x80\\x9d\\r\\n\\r\\nâ\\x80\\x9cTalking of axes,â\\x80\\x9d said the Duchess, â\\x80\\x9cchop off her head!â\\x80\\x9d\\r\\n\\r\\nAlice glanced rather anxiously at the cook, to see if she meant to take\\r\\nthe hint; but the cook was busily stirring the soup, and seemed not to\\r\\nbe listening, so she went on again: â\\x80\\x9cTwenty-four hours, I _think_; or\\r\\nis it twelve? Iâ\\x80\\x94â\\x80\\x9d\\r\\n\\r\\nâ\\x80\\x9cOh, donâ\\x80\\x99t bother _me_,â\\x80\\x9d said the Duchess; â\\x80\\x9cI never could abide\\r\\nfigures!â\\x80\\x9d And with that she began nursing her child again, singing a\\r\\nsort of lullaby to it as she did so, and giving it a violent shake at\\r\\nthe end of every line:\\r\\n\\r\\nâ\\x80\\x9cSpeak roughly to your little boy,\\r\\n    And beat him when he sneezes:\\r\\nHe only does it to annoy,\\r\\n    Because he knows it teases.â\\x80\\x9d\\r\\n\\r\\n\\r\\nCHORUS.\\r\\n(In which the cook and the baby joined):\\r\\n\\r\\n\\r\\nâ\\x80\\x9cWow! wow! wow!â\\x80\\x9d\\r\\n\\r\\n\\r\\nWhile the Duchess sang the second verse of the song, she kept tossing\\r\\nthe baby violently up and down, and the poor little thing howled so,\\r\\nthat Alice could hardly hear the words:â\\x80\\x94\\r\\n\\r\\nâ\\x80\\x9cI speak severely to my boy,\\r\\n    I beat him when he sneezes;\\r\\nFor he can thoroughly enjoy\\r\\n    The pepper when he pleases!â\\x80\\x9d\\r\\n\\r\\n\\r\\nCHORUS.\\r\\n\\r\\n\\r\\nâ\\x80\\x9cWow! wow! wow!â\\x80\\x9d\\r\\n\\r\\n\\r\\nâ\\x80\\x9cHere! you may nurse it a bit, if you like!â\\x80\\x9d the Duchess said to Alice,\\r\\nflinging the baby at her as she spoke. â\\x80\\x9cI must go and get ready to play\\r\\ncroquet with the Queen,â\\x80\\x9d and she hurried out of the room. The cook\\r\\nthrew a frying-pan after her as she went out, but it just missed her.\\r\\n\\r\\nAlice caught the baby with some difficulty, as it was a queer-shaped\\r\\nlittle creature, and held out its arms and legs in all directions,\\r\\nâ\\x80\\x9cjust like a star-fish,â\\x80\\x9d thought Alice. The poor little thing was\\r\\nsnorting like a steam-engine when she caught it, and kept doubling\\r\\nitself up and straightening itself out again, so that altogether, for\\r\\nthe first minute or two, it was as much as she could do to hold it.\\r\\n\\r\\nAs soon as she had made out the proper way of nursing it, (which was to\\r\\ntwist it up into a sort of knot, and then keep tight hold of its right\\r\\near and left foot, so as to prevent its undoing itself,) she carried it\\r\\nout into the open air. â\\x80\\x9cIf I donâ\\x80\\x99t take this child away with me,â\\x80\\x9d\\r\\nthought Alice, â\\x80\\x9ctheyâ\\x80\\x99re sure to kill it in a day or two: wouldnâ\\x80\\x99t it be\\r\\nmurder to leave it behind?â\\x80\\x9d She said the last words out loud, and the\\r\\nlittle thing grunted in reply (it had left off sneezing by this time).\\r\\nâ\\x80\\x9cDonâ\\x80\\x99t grunt,â\\x80\\x9d said Alice; â\\x80\\x9cthatâ\\x80\\x99s not at all a proper way of\\r\\nexpressing yourself.â\\x80\\x9d\\r\\n\\r\\nThe baby grunted again, and Alice looked very anxiously into its face\\r\\nto see what was the matter with it. There could be no doubt that it had\\r\\na _very_ turn-up nose, much more like a snout than a real nose; also\\r\\nits eyes were getting extremely small for a baby: altogether Alice did\\r\\nnot like the look of the thing at all. â\\x80\\x9cBut perhaps it was only\\r\\nsobbing,â\\x80\\x9d she thought, and looked into its eyes again, to see if there\\r\\nwere any tears.\\r\\n\\r\\nNo, there were no tears. â\\x80\\x9cIf youâ\\x80\\x99re going to turn into a pig, my dear,â\\x80\\x9d\\r\\nsaid Alice, seriously, â\\x80\\x9cIâ\\x80\\x99ll have nothing more to do with you. Mind\\r\\nnow!â\\x80\\x9d The poor little thing sobbed again (or grunted, it was impossible\\r\\nto say which), and they went on for some while in silence.\\r\\n\\r\\nAlice was just beginning to think to herself, â\\x80\\x9cNow, what am I to do\\r\\nwith this creature when I get it home?â\\x80\\x9d when it grunted again, so\\r\\nviolently, that she looked down into its face in some alarm. This time\\r\\nthere could be _no_ mistake about it: it was neither more nor less than\\r\\na pig, and she felt that it would be quite absurd for her to carry it\\r\\nfurther.\\r\\n\\r\\nSo she set the little creature down, and felt quite relieved to see it\\r\\ntrot away quietly into the wood. â\\x80\\x9cIf it had grown up,â\\x80\\x9d she said to\\r\\nherself, â\\x80\\x9cit would have made a dreadfully ugly child: but it makes\\r\\nrather a handsome pig, I think.â\\x80\\x9d And she began thinking over other\\r\\nchildren she knew, who might do very well as pigs, and was just saying\\r\\nto herself, â\\x80\\x9cif one only knew the right way to change themâ\\x80\\x94â\\x80\\x9d when she\\r\\nwas a little startled by seeing the Cheshire Cat sitting on a bough of\\r\\na tree a few yards off.\\r\\n\\r\\nThe Cat only grinned when it saw Alice. It looked good-natured, she\\r\\nthought: still it had _very_ long claws and a great many teeth, so she\\r\\nfelt that it ought to be treated with respect.\\r\\n\\r\\nâ\\x80\\x9cCheshire Puss,â\\x80\\x9d she began, rather timidly, as she did not at all know\\r\\nwhether it would like the name: however, it only grinned a little\\r\\nwider. â\\x80\\x9cCome, itâ\\x80\\x99s pleased so far,â\\x80\\x9d thought Alice, and she went on.\\r\\nâ\\x80\\x9cWould you tell me, please, which way I ought to go from here?â\\x80\\x9d\\r\\n\\r\\nâ\\x80\\x9cThat depends a good deal on where you want to get to,â\\x80\\x9d said the Cat.\\r\\n\\r\\nâ\\x80\\x9cI donâ\\x80\\x99t much care whereâ\\x80\\x94â\\x80\\x9d said Alice.\\r\\n\\r\\nâ\\x80\\x9cThen it doesnâ\\x80\\x99t matter which way you go,â\\x80\\x9d said the Cat.\\r\\n\\r\\nâ\\x80\\x9câ\\x80\\x94so long as I get _somewhere_,â\\x80\\x9d Alice added as an explanation.\\r\\n\\r\\nâ\\x80\\x9cOh, youâ\\x80\\x99re sure to do that,â\\x80\\x9d said the Cat, â\\x80\\x9cif you only walk long\\r\\nenough.â\\x80\\x9d\\r\\n\\r\\nAlice felt that this could not be denied, so she tried another\\r\\nquestion. â\\x80\\x9cWhat sort of people live about here?â\\x80\\x9d\\r\\n\\r\\nâ\\x80\\x9cIn _that_ direction,â\\x80\\x9d the Cat said, waving its right paw round, â\\x80\\x9clives\\r\\na Hatter: and in _that_ direction,â\\x80\\x9d waving the other paw, â\\x80\\x9clives a\\r\\nMarch Hare. Visit either you like: theyâ\\x80\\x99re both mad.â\\x80\\x9d\\r\\n\\r\\nâ\\x80\\x9cBut I donâ\\x80\\x99t want to go among mad people,â\\x80\\x9d Alice remarked.\\r\\n\\r\\nâ\\x80\\x9cOh, you canâ\\x80\\x99t help that,â\\x80\\x9d said the Cat: â\\x80\\x9cweâ\\x80\\x99re all mad here. Iâ\\x80\\x99m mad.\\r\\nYouâ\\x80\\x99re mad.â\\x80\\x9d\\r\\n\\r\\nâ\\x80\\x9cHow do you know Iâ\\x80\\x99m mad?â\\x80\\x9d said Alice.\\r\\n\\r\\nâ\\x80\\x9cYou must be,â\\x80\\x9d said the Cat, â\\x80\\x9cor you wouldnâ\\x80\\x99t have come here.â\\x80\\x9d\\r\\n\\r\\nAlice didnâ\\x80\\x99t think that proved it at all; however, she went on â\\x80\\x9cAnd how\\r\\ndo you know that youâ\\x80\\x99re mad?â\\x80\\x9d\\r\\n\\r\\nâ\\x80\\x9cTo begin with,â\\x80\\x9d said the Cat, â\\x80\\x9ca dogâ\\x80\\x99s not mad. You grant that?â\\x80\\x9d\\r\\n\\r\\nâ\\x80\\x9cI suppose so,â\\x80\\x9d said Alice.\\r\\n\\r\\nâ\\x80\\x9cWell, then,â\\x80\\x9d the Cat went on, â\\x80\\x9cyou see, a dog growls when itâ\\x80\\x99s angry,\\r\\nand wags its tail when itâ\\x80\\x99s pleased. Now _I_ growl when Iâ\\x80\\x99m pleased,\\r\\nand wag my tail when Iâ\\x80\\x99m angry. Therefore Iâ\\x80\\x99m mad.â\\x80\\x9d\\r\\n\\r\\nâ\\x80\\x9c_I_ call it purring, not growling,â\\x80\\x9d said Alice.\\r\\n\\r\\nâ\\x80\\x9cCall it what you like,â\\x80\\x9d said the Cat. â\\x80\\x9cDo you play croquet with the\\r\\nQueen to-day?â\\x80\\x9d\\r\\n\\r\\nâ\\x80\\x9cI should like it very much,â\\x80\\x9d said Alice, â\\x80\\x9cbut I havenâ\\x80\\x99t been invited\\r\\nyet.â\\x80\\x9d\\r\\n\\r\\nâ\\x80\\x9cYouâ\\x80\\x99ll see me there,â\\x80\\x9d said the Cat, and vanished.\\r\\n\\r\\nAlice was not much surprised at this, she was getting so used to queer\\r\\nthings happening. While she was looking at the place where it had been,\\r\\nit suddenly appeared again.\\r\\n\\r\\nâ\\x80\\x9cBy-the-bye, what became of the baby?â\\x80\\x9d said the Cat. â\\x80\\x9cIâ\\x80\\x99d nearly\\r\\nforgotten to ask.â\\x80\\x9d\\r\\n\\r\\nâ\\x80\\x9cIt turned into a pig,â\\x80\\x9d Alice quietly said, just as if it had come back\\r\\nin a natural way.\\r\\n\\r\\nâ\\x80\\x9cI thought it would,â\\x80\\x9d said the Cat, and vanished again.\\r\\n\\r\\nAlice waited a little, half expecting to see it again, but it did not\\r\\nappear, and after a minute or two she walked on in the direction in\\r\\nwhich the March Hare was said to live. â\\x80\\x9cIâ\\x80\\x99ve seen hatters before,â\\x80\\x9d she\\r\\nsaid to herself; â\\x80\\x9cthe March Hare will be much the most interesting, and\\r\\nperhaps as this is May it wonâ\\x80\\x99t be raving madâ\\x80\\x94at least not so mad as it\\r\\nwas in March.â\\x80\\x9d As she said this, she looked up, and there was the Cat\\r\\nagain, sitting on a branch of a tree.\\r\\n\\r\\nâ\\x80\\x9cDid you say pig, or fig?â\\x80\\x9d said the Cat.\\r\\n\\r\\nâ\\x80\\x9cI said pig,â\\x80\\x9d replied Alice; â\\x80\\x9cand I wish you wouldnâ\\x80\\x99t keep appearing\\r\\nand vanishing so suddenly: you make one quite giddy.â\\x80\\x9d\\r\\n\\r\\nâ\\x80\\x9cAll right,â\\x80\\x9d said the Cat; and this time it vanished quite slowly,\\r\\nbeginning with the end of the tail, and ending with the grin, which\\r\\nremained some time after the rest of it had gone.\\r\\n\\r\\nâ\\x80\\x9cWell! Iâ\\x80\\x99ve often seen a cat without a grin,â\\x80\\x9d thought Alice; â\\x80\\x9cbut a\\r\\ngrin without a cat! Itâ\\x80\\x99s the most curious thing I ever saw in my life!â\\x80\\x9d\\r\\n\\r\\nShe had not gone much farther before she came in sight of the house of\\r\\nthe March Hare: she thought it must be the right house, because the\\r\\nchimneys were shaped like ears and the roof was thatched with fur. It\\r\\nwas so large a house, that she did not like to go nearer till she had\\r\\nnibbled some more of the lefthand bit of mushroom, and raised herself\\r\\nto about two feet high: even then she walked up towards it rather\\r\\ntimidly, saying to herself â\\x80\\x9cSuppose it should be raving mad after all!\\r\\nI almost wish Iâ\\x80\\x99d gone to see the Hatter instead!â\\x80\\x9d\\r\\n\\r\\n\\r\\n\\r\\n\\r\\nCHAPTER VII.\\r\\nA Mad Tea-Party\\r\\n\\r\\n\\r\\nThere was a table set out under a tree in front of the house, and the\\r\\nMarch Hare and the Hatter were having tea at it: a Dormouse was sitting\\r\\nbetween them, fast asleep, and the other two were using it as a\\r\\ncushion, resting their elbows on it, and talking over its head. â\\x80\\x9cVery\\r\\nuncomfortable for the Dormouse,â\\x80\\x9d thought Alice; â\\x80\\x9conly, as itâ\\x80\\x99s asleep,\\r\\nI suppose it doesnâ\\x80\\x99t mind.â\\x80\\x9d\\r\\n\\r\\nThe table was a large one, but the three were all crowded together at\\r\\none corner of it: â\\x80\\x9cNo room! No room!â\\x80\\x9d they cried out when they saw\\r\\nAlice coming. â\\x80\\x9cThereâ\\x80\\x99s _plenty_ of room!â\\x80\\x9d said Alice indignantly, and\\r\\nshe sat down in a large arm-chair at one end of the table.\\r\\n\\r\\nâ\\x80\\x9cHave some wine,â\\x80\\x9d the March Hare said in an encouraging tone.\\r\\n\\r\\nAlice looked all round the table, but there was nothing on it but tea.\\r\\nâ\\x80\\x9cI donâ\\x80\\x99t see any wine,â\\x80\\x9d she remarked.\\r\\n\\r\\nâ\\x80\\x9cThere isnâ\\x80\\x99t any,â\\x80\\x9d said the March Hare.\\r\\n\\r\\nâ\\x80\\x9cThen it wasnâ\\x80\\x99t very civil of you to offer it,â\\x80\\x9d said Alice angrily.\\r\\n\\r\\nâ\\x80\\x9cIt wasnâ\\x80\\x99t very civil of you to sit down without being invited,â\\x80\\x9d said\\r\\nthe March Hare.\\r\\n\\r\\nâ\\x80\\x9cI didnâ\\x80\\x99t know it was _your_ table,â\\x80\\x9d said Alice; â\\x80\\x9citâ\\x80\\x99s laid for a great\\r\\nmany more than three.â\\x80\\x9d\\r\\n\\r\\nâ\\x80\\x9cYour hair wants cutting,â\\x80\\x9d said the Hatter. He had been looking at\\r\\nAlice for some time with great curiosity, and this was his first\\r\\nspeech.\\r\\n\\r\\nâ\\x80\\x9cYou should learn not to make personal remarks,â\\x80\\x9d Alice said with some\\r\\nseverity; â\\x80\\x9citâ\\x80\\x99s very rude.â\\x80\\x9d\\r\\n\\r\\nThe Hatter opened his eyes very wide on hearing this; but all he _said_\\r\\nwas, â\\x80\\x9cWhy is a raven like a writing-desk?â\\x80\\x9d\\r\\n\\r\\nâ\\x80\\x9cCome, we shall have some fun now!â\\x80\\x9d thought Alice. â\\x80\\x9cIâ\\x80\\x99m glad theyâ\\x80\\x99ve\\r\\nbegun asking riddles.â\\x80\\x94I believe I can guess that,â\\x80\\x9d she added aloud.\\r\\n\\r\\nâ\\x80\\x9cDo you mean that you think you can find out the answer to it?â\\x80\\x9d said\\r\\nthe March Hare.\\r\\n\\r\\nâ\\x80\\x9cExactly so,â\\x80\\x9d said Alice.\\r\\n\\r\\nâ\\x80\\x9cThen you should say what you mean,â\\x80\\x9d the March Hare went on.\\r\\n\\r\\nâ\\x80\\x9cI do,â\\x80\\x9d Alice hastily replied; â\\x80\\x9cat leastâ\\x80\\x94at least I mean what I\\r\\nsayâ\\x80\\x94thatâ\\x80\\x99s the same thing, you know.â\\x80\\x9d\\r\\n\\r\\nâ\\x80\\x9cNot the same thing a bit!â\\x80\\x9d said the Hatter. â\\x80\\x9cYou might just as well\\r\\nsay that â\\x80\\x98I see what I eatâ\\x80\\x99 is the same thing as â\\x80\\x98I eat what I seeâ\\x80\\x99!â\\x80\\x9d\\r\\n\\r\\nâ\\x80\\x9cYou might just as well say,â\\x80\\x9d added the March Hare, â\\x80\\x9cthat â\\x80\\x98I like what\\r\\nI getâ\\x80\\x99 is the same thing as â\\x80\\x98I get what I likeâ\\x80\\x99!â\\x80\\x9d\\r\\n\\r\\nâ\\x80\\x9cYou might just as well say,â\\x80\\x9d added the Dormouse, who seemed to be\\r\\ntalking in his sleep, â\\x80\\x9cthat â\\x80\\x98I breathe when I sleepâ\\x80\\x99 is the same thing\\r\\nas â\\x80\\x98I sleep when I breatheâ\\x80\\x99!â\\x80\\x9d\\r\\n\\r\\nâ\\x80\\x9cIt _is_ the same thing with you,â\\x80\\x9d said the Hatter, and here the\\r\\nconversation dropped, and the party sat silent for a minute, while\\r\\nAlice thought over all she could remember about ravens and\\r\\nwriting-desks, which wasnâ\\x80\\x99t much.\\r\\n\\r\\nThe Hatter was the first to break the silence. â\\x80\\x9cWhat day of the month\\r\\nis it?â\\x80\\x9d he said, turning to Alice: he had taken his watch out of his\\r\\npocket, and was looking at it uneasily, shaking it every now and then,\\r\\nand holding it to his ear.\\r\\n\\r\\nAlice considered a little, and then said â\\x80\\x9cThe fourth.â\\x80\\x9d\\r\\n\\r\\nâ\\x80\\x9cTwo days wrong!â\\x80\\x9d sighed the Hatter. â\\x80\\x9cI told you butter wouldnâ\\x80\\x99t suit\\r\\nthe works!â\\x80\\x9d he added looking angrily at the March Hare.\\r\\n\\r\\nâ\\x80\\x9cIt was the _best_ butter,â\\x80\\x9d the March Hare meekly replied.\\r\\n\\r\\nâ\\x80\\x9cYes, but some crumbs must have got in as well,â\\x80\\x9d the Hatter grumbled:\\r\\nâ\\x80\\x9cyou shouldnâ\\x80\\x99t have put it in with the bread-knife.â\\x80\\x9d\\r\\n\\r\\nThe March Hare took the watch and looked at it gloomily: then he dipped\\r\\nit into his cup of tea, and looked at it again: but he could think of\\r\\nnothing better to say than his first remark, â\\x80\\x9cIt was the _best_ butter,\\r\\nyou know.â\\x80\\x9d\\r\\n\\r\\nAlice had been looking over his shoulder with some curiosity. â\\x80\\x9cWhat a\\r\\nfunny watch!â\\x80\\x9d she remarked. â\\x80\\x9cIt tells the day of the month, and doesnâ\\x80\\x99t\\r\\ntell what oâ\\x80\\x99clock it is!â\\x80\\x9d\\r\\n\\r\\nâ\\x80\\x9cWhy should it?â\\x80\\x9d muttered the Hatter. â\\x80\\x9cDoes _your_ watch tell you what\\r\\nyear it is?â\\x80\\x9d\\r\\n\\r\\nâ\\x80\\x9cOf course not,â\\x80\\x9d Alice replied very readily: â\\x80\\x9cbut thatâ\\x80\\x99s because it\\r\\nstays the same year for such a long time together.â\\x80\\x9d\\r\\n\\r\\nâ\\x80\\x9cWhich is just the case with _mine_,â\\x80\\x9d said the Hatter.\\r\\n\\r\\nAlice felt dreadfully puzzled. The Hatterâ\\x80\\x99s remark seemed to have no\\r\\nsort of meaning in it, and yet it was certainly English. â\\x80\\x9cI donâ\\x80\\x99t quite\\r\\nunderstand you,â\\x80\\x9d she said, as politely as she could.\\r\\n\\r\\nâ\\x80\\x9cThe Dormouse is asleep again,â\\x80\\x9d said the Hatter, and he poured a little\\r\\nhot tea upon its nose.\\r\\n\\r\\nThe Dormouse shook its head impatiently, and said, without opening its\\r\\neyes, â\\x80\\x9cOf course, of course; just what I was going to remark myself.â\\x80\\x9d\\r\\n\\r\\nâ\\x80\\x9cHave you guessed the riddle yet?â\\x80\\x9d the Hatter said, turning to Alice\\r\\nagain.\\r\\n\\r\\nâ\\x80\\x9cNo, I give it up,â\\x80\\x9d Alice replied: â\\x80\\x9cwhatâ\\x80\\x99s the answer?â\\x80\\x9d\\r\\n\\r\\nâ\\x80\\x9cI havenâ\\x80\\x99t the slightest idea,â\\x80\\x9d said the Hatter.\\r\\n\\r\\nâ\\x80\\x9cNor I,â\\x80\\x9d said the March Hare.\\r\\n\\r\\nAlice sighed wearily. â\\x80\\x9cI think you might do something better with the\\r\\ntime,â\\x80\\x9d she said, â\\x80\\x9cthan waste it in asking riddles that have no\\r\\nanswers.â\\x80\\x9d\\r\\n\\r\\nâ\\x80\\x9cIf you knew Time as well as I do,â\\x80\\x9d said the Hatter, â\\x80\\x9cyou wouldnâ\\x80\\x99t talk\\r\\nabout wasting _it_. Itâ\\x80\\x99s _him_.â\\x80\\x9d\\r\\n\\r\\nâ\\x80\\x9cI donâ\\x80\\x99t know what you mean,â\\x80\\x9d said Alice.\\r\\n\\r\\nâ\\x80\\x9cOf course you donâ\\x80\\x99t!â\\x80\\x9d the Hatter said, tossing his head\\r\\ncontemptuously. â\\x80\\x9cI dare say you never even spoke to Time!â\\x80\\x9d\\r\\n\\r\\nâ\\x80\\x9cPerhaps not,â\\x80\\x9d Alice cautiously replied: â\\x80\\x9cbut I know I have to beat\\r\\ntime when I learn music.â\\x80\\x9d\\r\\n\\r\\nâ\\x80\\x9cAh! that accounts for it,â\\x80\\x9d said the Hatter. â\\x80\\x9cHe wonâ\\x80\\x99t stand beating.\\r\\nNow, if you only kept on good terms with him, heâ\\x80\\x99d do almost anything\\r\\nyou liked with the clock. For instance, suppose it were nine oâ\\x80\\x99clock in\\r\\nthe morning, just time to begin lessons: youâ\\x80\\x99d only have to whisper a\\r\\nhint to Time, and round goes the clock in a twinkling! Half-past one,\\r\\ntime for dinner!â\\x80\\x9d\\r\\n\\r\\n(â\\x80\\x9cI only wish it was,â\\x80\\x9d the March Hare said to itself in a whisper.)\\r\\n\\r\\nâ\\x80\\x9cThat would be grand, certainly,â\\x80\\x9d said Alice thoughtfully: â\\x80\\x9cbut thenâ\\x80\\x94I\\r\\nshouldnâ\\x80\\x99t be hungry for it, you know.â\\x80\\x9d\\r\\n\\r\\nâ\\x80\\x9cNot at first, perhaps,â\\x80\\x9d said the Hatter: â\\x80\\x9cbut you could keep it to\\r\\nhalf-past one as long as you liked.â\\x80\\x9d\\r\\n\\r\\nâ\\x80\\x9cIs that the way _you_ manage?â\\x80\\x9d Alice asked.\\r\\n\\r\\nThe Hatter shook his head mournfully. â\\x80\\x9cNot I!â\\x80\\x9d he replied. â\\x80\\x9cWe\\r\\nquarrelled last Marchâ\\x80\\x94just before _he_ went mad, you knowâ\\x80\\x94â\\x80\\x9d (pointing\\r\\nwith his tea spoon at the March Hare,) â\\x80\\x9câ\\x80\\x94it was at the great concert\\r\\ngiven by the Queen of Hearts, and I had to sing\\r\\n\\r\\nâ\\x80\\x98Twinkle, twinkle, little bat!\\r\\nHow I wonder what youâ\\x80\\x99re at!â\\x80\\x99\\r\\n\\r\\n\\r\\nYou know the song, perhaps?â\\x80\\x9d\\r\\n\\r\\nâ\\x80\\x9cIâ\\x80\\x99ve heard something like it,â\\x80\\x9d said Alice.\\r\\n\\r\\nâ\\x80\\x9cIt goes on, you know,â\\x80\\x9d the Hatter continued, â\\x80\\x9cin this way:â\\x80\\x94\\r\\n\\r\\nâ\\x80\\x98Up above the world you fly,\\r\\nLike a tea-tray in the sky.\\r\\n                    Twinkle, twinkleâ\\x80\\x94â\\x80\\x99â\\x80\\x9d\\r\\n\\r\\n\\r\\nHere the Dormouse shook itself, and began singing in its sleep\\r\\nâ\\x80\\x9c_Twinkle, twinkle, twinkle, twinkle_â\\x80\\x94â\\x80\\x9d and went on so long that they\\r\\nhad to pinch it to make it stop.\\r\\n\\r\\nâ\\x80\\x9cWell, Iâ\\x80\\x99d hardly finished the first verse,â\\x80\\x9d said the Hatter, â\\x80\\x9cwhen the\\r\\nQueen jumped up and bawled out, â\\x80\\x98Heâ\\x80\\x99s murdering the time! Off with his\\r\\nhead!â\\x80\\x99â\\x80\\x9d\\r\\n\\r\\nâ\\x80\\x9cHow dreadfully savage!â\\x80\\x9d exclaimed Alice.\\r\\n\\r\\nâ\\x80\\x9cAnd ever since that,â\\x80\\x9d the Hatter went on in a mournful tone, â\\x80\\x9che wonâ\\x80\\x99t\\r\\ndo a thing I ask! Itâ\\x80\\x99s always six oâ\\x80\\x99clock now.â\\x80\\x9d\\r\\n\\r\\nA bright idea came into Aliceâ\\x80\\x99s head. â\\x80\\x9cIs that the reason so many\\r\\ntea-things are put out here?â\\x80\\x9d she asked.\\r\\n\\r\\nâ\\x80\\x9cYes, thatâ\\x80\\x99s it,â\\x80\\x9d said the Hatter with a sigh: â\\x80\\x9citâ\\x80\\x99s always tea-time,\\r\\nand weâ\\x80\\x99ve no time to wash the things between whiles.â\\x80\\x9d\\r\\n\\r\\nâ\\x80\\x9cThen you keep moving round, I suppose?â\\x80\\x9d said Alice.\\r\\n\\r\\nâ\\x80\\x9cExactly so,â\\x80\\x9d said the Hatter: â\\x80\\x9cas the things get used up.â\\x80\\x9d\\r\\n\\r\\nâ\\x80\\x9cBut what happens when you come to the beginning again?â\\x80\\x9d Alice ventured\\r\\nto ask.\\r\\n\\r\\nâ\\x80\\x9cSuppose we change the subject,â\\x80\\x9d the March Hare interrupted, yawning.\\r\\nâ\\x80\\x9cIâ\\x80\\x99m getting tired of this. I vote the young lady tells us a story.â\\x80\\x9d\\r\\n\\r\\nâ\\x80\\x9cIâ\\x80\\x99m afraid I donâ\\x80\\x99t know one,â\\x80\\x9d said Alice, rather alarmed at the\\r\\nproposal.\\r\\n\\r\\nâ\\x80\\x9cThen the Dormouse shall!â\\x80\\x9d they both cried. â\\x80\\x9cWake up, Dormouse!â\\x80\\x9d And\\r\\nthey pinched it on both sides at once.\\r\\n\\r\\nThe Dormouse slowly opened his eyes. â\\x80\\x9cI wasnâ\\x80\\x99t asleep,â\\x80\\x9d he said in a\\r\\nhoarse, feeble voice: â\\x80\\x9cI heard every word you fellows were saying.â\\x80\\x9d\\r\\n\\r\\nâ\\x80\\x9cTell us a story!â\\x80\\x9d said the March Hare.\\r\\n\\r\\nâ\\x80\\x9cYes, please do!â\\x80\\x9d pleaded Alice.\\r\\n\\r\\nâ\\x80\\x9cAnd be quick about it,â\\x80\\x9d added the Hatter, â\\x80\\x9cor youâ\\x80\\x99ll be asleep again\\r\\nbefore itâ\\x80\\x99s done.â\\x80\\x9d\\r\\n\\r\\nâ\\x80\\x9cOnce upon a time there were three little sisters,â\\x80\\x9d the Dormouse began\\r\\nin a great hurry; â\\x80\\x9cand their names were Elsie, Lacie, and Tillie; and\\r\\nthey lived at the bottom of a wellâ\\x80\\x94â\\x80\\x9d\\r\\n\\r\\nâ\\x80\\x9cWhat did they live on?â\\x80\\x9d said Alice, who always took a great interest\\r\\nin questions of eating and drinking.\\r\\n\\r\\nâ\\x80\\x9cThey lived on treacle,â\\x80\\x9d said the Dormouse, after thinking a minute or\\r\\ntwo.\\r\\n\\r\\nâ\\x80\\x9cThey couldnâ\\x80\\x99t have done that, you know,â\\x80\\x9d Alice gently remarked;\\r\\nâ\\x80\\x9ctheyâ\\x80\\x99d have been ill.â\\x80\\x9d\\r\\n\\r\\nâ\\x80\\x9cSo they were,â\\x80\\x9d said the Dormouse; â\\x80\\x9c_very_ ill.â\\x80\\x9d\\r\\n\\r\\nAlice tried to fancy to herself what such an extraordinary ways of\\r\\nliving would be like, but it puzzled her too much, so she went on: â\\x80\\x9cBut\\r\\nwhy did they live at the bottom of a well?â\\x80\\x9d\\r\\n\\r\\nâ\\x80\\x9cTake some more tea,â\\x80\\x9d the March Hare said to Alice, very earnestly.\\r\\n\\r\\nâ\\x80\\x9cIâ\\x80\\x99ve had nothing yet,â\\x80\\x9d Alice replied in an offended tone, â\\x80\\x9cso I canâ\\x80\\x99t\\r\\ntake more.â\\x80\\x9d\\r\\n\\r\\nâ\\x80\\x9cYou mean you canâ\\x80\\x99t take _less_,â\\x80\\x9d said the Hatter: â\\x80\\x9citâ\\x80\\x99s very easy to\\r\\ntake _more_ than nothing.â\\x80\\x9d\\r\\n\\r\\nâ\\x80\\x9cNobody asked _your_ opinion,â\\x80\\x9d said Alice.\\r\\n\\r\\nâ\\x80\\x9cWhoâ\\x80\\x99s making personal remarks now?â\\x80\\x9d the Hatter asked triumphantly.\\r\\n\\r\\nAlice did not quite know what to say to this: so she helped herself to\\r\\nsome tea and bread-and-butter, and then turned to the Dormouse, and\\r\\nrepeated her question. â\\x80\\x9cWhy did they live at the bottom of a well?â\\x80\\x9d\\r\\n\\r\\nThe Dormouse again took a minute or two to think about it, and then\\r\\nsaid, â\\x80\\x9cIt was a treacle-well.â\\x80\\x9d\\r\\n\\r\\nâ\\x80\\x9cThereâ\\x80\\x99s no such thing!â\\x80\\x9d Alice was beginning very angrily, but the\\r\\nHatter and the March Hare went â\\x80\\x9cSh! sh!â\\x80\\x9d and the Dormouse sulkily\\r\\nremarked, â\\x80\\x9cIf you canâ\\x80\\x99t be civil, youâ\\x80\\x99d better finish the story for\\r\\nyourself.â\\x80\\x9d\\r\\n\\r\\nâ\\x80\\x9cNo, please go on!â\\x80\\x9d Alice said very humbly; â\\x80\\x9cI wonâ\\x80\\x99t interrupt again. I\\r\\ndare say there may be _one_.â\\x80\\x9d\\r\\n\\r\\nâ\\x80\\x9cOne, indeed!â\\x80\\x9d said the Dormouse indignantly. However, he consented to\\r\\ngo on. â\\x80\\x9cAnd so these three little sistersâ\\x80\\x94they were learning to draw,\\r\\nyou knowâ\\x80\\x94â\\x80\\x9d\\r\\n\\r\\nâ\\x80\\x9cWhat did they draw?â\\x80\\x9d said Alice, quite forgetting her promise.\\r\\n\\r\\nâ\\x80\\x9cTreacle,â\\x80\\x9d said the Dormouse, without considering at all this time.\\r\\n\\r\\nâ\\x80\\x9cI want a clean cup,â\\x80\\x9d interrupted the Hatter: â\\x80\\x9cletâ\\x80\\x99s all move one place\\r\\non.â\\x80\\x9d\\r\\n\\r\\nHe moved on as he spoke, and the Dormouse followed him: the March Hare\\r\\nmoved into the Dormouseâ\\x80\\x99s place, and Alice rather unwillingly took the\\r\\nplace of the March Hare. The Hatter was the only one who got any\\r\\nadvantage from the change: and Alice was a good deal worse off than\\r\\nbefore, as the March Hare had just upset the milk-jug into his plate.\\r\\n\\r\\nAlice did not wish to offend the Dormouse again, so she began very\\r\\ncautiously: â\\x80\\x9cBut I donâ\\x80\\x99t understand. Where did they draw the treacle\\r\\nfrom?â\\x80\\x9d\\r\\n\\r\\nâ\\x80\\x9cYou can draw water out of a water-well,â\\x80\\x9d said the Hatter; â\\x80\\x9cso I should\\r\\nthink you could draw treacle out of a treacle-wellâ\\x80\\x94eh, stupid?â\\x80\\x9d\\r\\n\\r\\nâ\\x80\\x9cBut they were _in_ the well,â\\x80\\x9d Alice said to the Dormouse, not choosing\\r\\nto notice this last remark.\\r\\n\\r\\nâ\\x80\\x9cOf course they were,â\\x80\\x9d said the Dormouse; â\\x80\\x9câ\\x80\\x94well in.â\\x80\\x9d\\r\\n\\r\\nThis answer so confused poor Alice, that she let the Dormouse go on for\\r\\nsome time without interrupting it.\\r\\n\\r\\nâ\\x80\\x9cThey were learning to draw,â\\x80\\x9d the Dormouse went on, yawning and rubbing\\r\\nits eyes, for it was getting very sleepy; â\\x80\\x9cand they drew all manner of\\r\\nthingsâ\\x80\\x94everything that begins with an Mâ\\x80\\x94â\\x80\\x9d\\r\\n\\r\\nâ\\x80\\x9cWhy with an M?â\\x80\\x9d said Alice.\\r\\n\\r\\nâ\\x80\\x9cWhy not?â\\x80\\x9d said the March Hare.\\r\\n\\r\\nAlice was silent.\\r\\n\\r\\nThe Dormouse had closed its eyes by this time, and was going off into a\\r\\ndoze; but, on being pinched by the Hatter, it woke up again with a\\r\\nlittle shriek, and went on: â\\x80\\x9câ\\x80\\x94that begins with an M, such as\\r\\nmouse-traps, and the moon, and memory, and muchnessâ\\x80\\x94you know you say\\r\\nthings are â\\x80\\x9cmuch of a muchnessâ\\x80\\x9dâ\\x80\\x94did you ever see such a thing as a\\r\\ndrawing of a muchness?â\\x80\\x9d\\r\\n\\r\\nâ\\x80\\x9cReally, now you ask me,â\\x80\\x9d said Alice, very much confused, â\\x80\\x9cI donâ\\x80\\x99t\\r\\nthinkâ\\x80\\x94â\\x80\\x9d\\r\\n\\r\\nâ\\x80\\x9cThen you shouldnâ\\x80\\x99t talk,â\\x80\\x9d said the Hatter.\\r\\n\\r\\nThis piece of rudeness was more than Alice could bear: she got up in\\r\\ngreat disgust, and walked off; the Dormouse fell asleep instantly, and\\r\\nneither of the others took the least notice of her going, though she\\r\\nlooked back once or twice, half hoping that they would call after her:\\r\\nthe last time she saw them, they were trying to put the Dormouse into\\r\\nthe teapot.\\r\\n\\r\\nâ\\x80\\x9cAt any rate Iâ\\x80\\x99ll never go _there_ again!â\\x80\\x9d said Alice as she picked her\\r\\nway through the wood. â\\x80\\x9cItâ\\x80\\x99s the stupidest tea-party I ever was at in\\r\\nall my life!â\\x80\\x9d\\r\\n\\r\\nJust as she said this, she noticed that one of the trees had a door\\r\\nleading right into it. â\\x80\\x9cThatâ\\x80\\x99s very curious!â\\x80\\x9d she thought. â\\x80\\x9cBut\\r\\neverythingâ\\x80\\x99s curious today. I think I may as well go in at once.â\\x80\\x9d And\\r\\nin she went.\\r\\n\\r\\nOnce more she found herself in the long hall, and close to the little\\r\\nglass table. â\\x80\\x9cNow, Iâ\\x80\\x99ll manage better this time,â\\x80\\x9d she said to herself,\\r\\nand began by taking the little golden key, and unlocking the door that\\r\\nled into the garden. Then she went to work nibbling at the mushroom\\r\\n(she had kept a piece of it in her pocket) till she was about a foot\\r\\nhigh: then she walked down the little passage: and _then_â\\x80\\x94she found\\r\\nherself at last in the beautiful garden, among the bright flower-beds\\r\\nand the cool fountains.\\r\\n\\r\\n\\r\\n\\r\\n\\r\\nCHAPTER VIII.\\r\\nThe Queenâ\\x80\\x99s Croquet-Ground\\r\\n\\r\\n\\r\\nA large rose-tree stood near the entrance of the garden: the roses\\r\\ngrowing on it were white, but there were three gardeners at it, busily\\r\\npainting them red. Alice thought this a very curious thing, and she\\r\\nwent nearer to watch them, and just as she came up to them she heard\\r\\none of them say, â\\x80\\x9cLook out now, Five! Donâ\\x80\\x99t go splashing paint over me\\r\\nlike that!â\\x80\\x9d\\r\\n\\r\\nâ\\x80\\x9cI couldnâ\\x80\\x99t help it,â\\x80\\x9d said Five, in a sulky tone; â\\x80\\x9cSeven jogged my\\r\\nelbow.â\\x80\\x9d\\r\\n\\r\\nOn which Seven looked up and said, â\\x80\\x9cThatâ\\x80\\x99s right, Five! Always lay the\\r\\nblame on others!â\\x80\\x9d\\r\\n\\r\\nâ\\x80\\x9c_Youâ\\x80\\x99d_ better not talk!â\\x80\\x9d said Five. â\\x80\\x9cI heard the Queen say only\\r\\nyesterday you deserved to be beheaded!â\\x80\\x9d\\r\\n\\r\\nâ\\x80\\x9cWhat for?â\\x80\\x9d said the one who had spoken first.\\r\\n\\r\\nâ\\x80\\x9cThatâ\\x80\\x99s none of _your_ business, Two!â\\x80\\x9d said Seven.\\r\\n\\r\\nâ\\x80\\x9cYes, it _is_ his business!â\\x80\\x9d said Five, â\\x80\\x9cand Iâ\\x80\\x99ll tell himâ\\x80\\x94it was for\\r\\nbringing the cook tulip-roots instead of onions.â\\x80\\x9d\\r\\n\\r\\nSeven flung down his brush, and had just begun â\\x80\\x9cWell, of all the unjust\\r\\nthingsâ\\x80\\x94â\\x80\\x9d when his eye chanced to fall upon Alice, as she stood watching\\r\\nthem, and he checked himself suddenly: the others looked round also,\\r\\nand all of them bowed low.\\r\\n\\r\\nâ\\x80\\x9cWould you tell me,â\\x80\\x9d said Alice, a little timidly, â\\x80\\x9cwhy you are\\r\\npainting those roses?â\\x80\\x9d\\r\\n\\r\\nFive and Seven said nothing, but looked at Two. Two began in a low\\r\\nvoice, â\\x80\\x9cWhy the fact is, you see, Miss, this here ought to have been a\\r\\n_red_ rose-tree, and we put a white one in by mistake; and if the Queen\\r\\nwas to find it out, we should all have our heads cut off, you know. So\\r\\nyou see, Miss, weâ\\x80\\x99re doing our best, afore she comes, toâ\\x80\\x94â\\x80\\x9d At this\\r\\nmoment Five, who had been anxiously looking across the garden, called\\r\\nout â\\x80\\x9cThe Queen! The Queen!â\\x80\\x9d and the three gardeners instantly threw\\r\\nthemselves flat upon their faces. There was a sound of many footsteps,\\r\\nand Alice looked round, eager to see the Queen.\\r\\n\\r\\nFirst came ten soldiers carrying clubs; these were all shaped like the\\r\\nthree gardeners, oblong and flat, with their hands and feet at the\\r\\ncorners: next the ten courtiers; these were ornamented all over with\\r\\ndiamonds, and walked two and two, as the soldiers did. After these came\\r\\nthe royal children; there were ten of them, and the little dears came\\r\\njumping merrily along hand in hand, in couples: they were all\\r\\nornamented with hearts. Next came the guests, mostly Kings and Queens,\\r\\nand among them Alice recognised the White Rabbit: it was talking in a\\r\\nhurried nervous manner, smiling at everything that was said, and went\\r\\nby without noticing her. Then followed the Knave of Hearts, carrying\\r\\nthe Kingâ\\x80\\x99s crown on a crimson velvet cushion; and, last of all this\\r\\ngrand procession, came THE KING AND QUEEN OF HEARTS.\\r\\n\\r\\nAlice was rather doubtful whether she ought not to lie down on her face\\r\\nlike the three gardeners, but she could not remember ever having heard\\r\\nof such a rule at processions; â\\x80\\x9cand besides, what would be the use of a\\r\\nprocession,â\\x80\\x9d thought she, â\\x80\\x9cif people had all to lie down upon their\\r\\nfaces, so that they couldnâ\\x80\\x99t see it?â\\x80\\x9d So she stood still where she was,\\r\\nand waited.\\r\\n\\r\\nWhen the procession came opposite to Alice, they all stopped and looked\\r\\nat her, and the Queen said severely â\\x80\\x9cWho is this?â\\x80\\x9d She said it to the\\r\\nKnave of Hearts, who only bowed and smiled in reply.\\r\\n\\r\\nâ\\x80\\x9cIdiot!â\\x80\\x9d said the Queen, tossing her head impatiently; and, turning to\\r\\nAlice, she went on, â\\x80\\x9cWhatâ\\x80\\x99s your name, child?â\\x80\\x9d\\r\\n\\r\\nâ\\x80\\x9cMy name is Alice, so please your Majesty,â\\x80\\x9d said Alice very politely;\\r\\nbut she added, to herself, â\\x80\\x9cWhy, theyâ\\x80\\x99re only a pack of cards, after\\r\\nall. I neednâ\\x80\\x99t be afraid of them!â\\x80\\x9d\\r\\n\\r\\nâ\\x80\\x9cAnd who are _these?_â\\x80\\x9d said the Queen, pointing to the three gardeners\\r\\nwho were lying round the rose-tree; for, you see, as they were lying on\\r\\ntheir faces, and the pattern on their backs was the same as the rest of\\r\\nthe pack, she could not tell whether they were gardeners, or soldiers,\\r\\nor courtiers, or three of her own children.\\r\\n\\r\\nâ\\x80\\x9cHow should _I_ know?â\\x80\\x9d said Alice, surprised at her own courage. â\\x80\\x9cItâ\\x80\\x99s\\r\\nno business of _mine_.â\\x80\\x9d\\r\\n\\r\\nThe Queen turned crimson with fury, and, after glaring at her for a\\r\\nmoment like a wild beast, screamed â\\x80\\x9cOff with her head! Offâ\\x80\\x94â\\x80\\x9d\\r\\n\\r\\nâ\\x80\\x9cNonsense!â\\x80\\x9d said Alice, very loudly and decidedly, and the Queen was\\r\\nsilent.\\r\\n\\r\\nThe King laid his hand upon her arm, and timidly said â\\x80\\x9cConsider, my\\r\\ndear: she is only a child!â\\x80\\x9d\\r\\n\\r\\nThe Queen turned angrily away from him, and said to the Knave â\\x80\\x9cTurn\\r\\nthem over!â\\x80\\x9d\\r\\n\\r\\nThe Knave did so, very carefully, with one foot.\\r\\n\\r\\nâ\\x80\\x9cGet up!â\\x80\\x9d said the Queen, in a shrill, loud voice, and the three\\r\\ngardeners instantly jumped up, and began bowing to the King, the Queen,\\r\\nthe royal children, and everybody else.\\r\\n\\r\\nâ\\x80\\x9cLeave off that!â\\x80\\x9d screamed the Queen. â\\x80\\x9cYou make me giddy.â\\x80\\x9d And then,\\r\\nturning to the rose-tree, she went on, â\\x80\\x9cWhat _have_ you been doing\\r\\nhere?â\\x80\\x9d\\r\\n\\r\\nâ\\x80\\x9cMay it please your Majesty,â\\x80\\x9d said Two, in a very humble tone, going\\r\\ndown on one knee as he spoke, â\\x80\\x9cwe were tryingâ\\x80\\x94â\\x80\\x9d\\r\\n\\r\\nâ\\x80\\x9c_I_ see!â\\x80\\x9d said the Queen, who had meanwhile been examining the roses.\\r\\nâ\\x80\\x9cOff with their heads!â\\x80\\x9d and the procession moved on, three of the\\r\\nsoldiers remaining behind to execute the unfortunate gardeners, who ran\\r\\nto Alice for protection.\\r\\n\\r\\nâ\\x80\\x9cYou shanâ\\x80\\x99t be beheaded!â\\x80\\x9d said Alice, and she put them into a large\\r\\nflower-pot that stood near. The three soldiers wandered about for a\\r\\nminute or two, looking for them, and then quietly marched off after the\\r\\nothers.\\r\\n\\r\\nâ\\x80\\x9cAre their heads off?â\\x80\\x9d shouted the Queen.\\r\\n\\r\\nâ\\x80\\x9cTheir heads are gone, if it please your Majesty!â\\x80\\x9d the soldiers shouted\\r\\nin reply.\\r\\n\\r\\nâ\\x80\\x9cThatâ\\x80\\x99s right!â\\x80\\x9d shouted the Queen. â\\x80\\x9cCan you play croquet?â\\x80\\x9d\\r\\n\\r\\nThe soldiers were silent, and looked at Alice, as the question was\\r\\nevidently meant for her.\\r\\n\\r\\nâ\\x80\\x9cYes!â\\x80\\x9d shouted Alice.\\r\\n\\r\\nâ\\x80\\x9cCome on, then!â\\x80\\x9d roared the Queen, and Alice joined the procession,\\r\\nwondering very much what would happen next.\\r\\n\\r\\nâ\\x80\\x9cItâ\\x80\\x99sâ\\x80\\x94itâ\\x80\\x99s a very fine day!â\\x80\\x9d said a timid voice at her side. She was\\r\\nwalking by the White Rabbit, who was peeping anxiously into her face.\\r\\n\\r\\nâ\\x80\\x9cVery,â\\x80\\x9d said Alice: â\\x80\\x9câ\\x80\\x94whereâ\\x80\\x99s the Duchess?â\\x80\\x9d\\r\\n\\r\\nâ\\x80\\x9cHush! Hush!â\\x80\\x9d said the Rabbit in a low, hurried tone. He looked\\r\\nanxiously over his shoulder as he spoke, and then raised himself upon\\r\\ntiptoe, put his mouth close to her ear, and whispered â\\x80\\x9cSheâ\\x80\\x99s under\\r\\nsentence of execution.â\\x80\\x9d\\r\\n\\r\\nâ\\x80\\x9cWhat for?â\\x80\\x9d said Alice.\\r\\n\\r\\nâ\\x80\\x9cDid you say â\\x80\\x98What a pity!â\\x80\\x99?â\\x80\\x9d the Rabbit asked.\\r\\n\\r\\nâ\\x80\\x9cNo, I didnâ\\x80\\x99t,â\\x80\\x9d said Alice: â\\x80\\x9cI donâ\\x80\\x99t think itâ\\x80\\x99s at all a pity. I said\\r\\nâ\\x80\\x98What for?â\\x80\\x99â\\x80\\x9d\\r\\n\\r\\nâ\\x80\\x9cShe boxed the Queenâ\\x80\\x99s earsâ\\x80\\x94â\\x80\\x9d the Rabbit began. Alice gave a little\\r\\nscream of laughter. â\\x80\\x9cOh, hush!â\\x80\\x9d the Rabbit whispered in a frightened\\r\\ntone. â\\x80\\x9cThe Queen will hear you! You see, she came rather late, and the\\r\\nQueen saidâ\\x80\\x94â\\x80\\x9d\\r\\n\\r\\nâ\\x80\\x9cGet to your places!â\\x80\\x9d shouted the Queen in a voice of thunder, and\\r\\npeople began running about in all directions, tumbling up against each\\r\\nother; however, they got settled down in a minute or two, and the game\\r\\nbegan. Alice thought she had never seen such a curious croquet-ground\\r\\nin her life; it was all ridges and furrows; the balls were live\\r\\nhedgehogs, the mallets live flamingoes, and the soldiers had to double\\r\\nthemselves up and to stand on their hands and feet, to make the arches.\\r\\n\\r\\nThe chief difficulty Alice found at first was in managing her flamingo:\\r\\nshe succeeded in getting its body tucked away, comfortably enough,\\r\\nunder her arm, with its legs hanging down, but generally, just as she\\r\\nhad got its neck nicely straightened out, and was going to give the\\r\\nhedgehog a blow with its head, it _would_ twist itself round and look\\r\\nup in her face, with such a puzzled expression that she could not help\\r\\nbursting out laughing: and when she had got its head down, and was\\r\\ngoing to begin again, it was very provoking to find that the hedgehog\\r\\nhad unrolled itself, and was in the act of crawling away: besides all\\r\\nthis, there was generally a ridge or furrow in the way wherever she\\r\\nwanted to send the hedgehog to, and, as the doubled-up soldiers were\\r\\nalways getting up and walking off to other parts of the ground, Alice\\r\\nsoon came to the conclusion that it was a very difficult game indeed.\\r\\n\\r\\nThe players all played at once without waiting for turns, quarrelling\\r\\nall the while, and fighting for the hedgehogs; and in a very short time\\r\\nthe Queen was in a furious passion, and went stamping about, and\\r\\nshouting â\\x80\\x9cOff with his head!â\\x80\\x9d or â\\x80\\x9cOff with her head!â\\x80\\x9d about once in a\\r\\nminute.\\r\\n\\r\\nAlice began to feel very uneasy: to be sure, she had not as yet had any\\r\\ndispute with the Queen, but she knew that it might happen any minute,\\r\\nâ\\x80\\x9cand then,â\\x80\\x9d thought she, â\\x80\\x9cwhat would become of me? Theyâ\\x80\\x99re dreadfully\\r\\nfond of beheading people here; the great wonder is, that thereâ\\x80\\x99s any\\r\\none left alive!â\\x80\\x9d\\r\\n\\r\\nShe was looking about for some way of escape, and wondering whether she\\r\\ncould get away without being seen, when she noticed a curious\\r\\nappearance in the air: it puzzled her very much at first, but, after\\r\\nwatching it a minute or two, she made it out to be a grin, and she said\\r\\nto herself â\\x80\\x9cItâ\\x80\\x99s the Cheshire Cat: now I shall have somebody to talk\\r\\nto.â\\x80\\x9d\\r\\n\\r\\nâ\\x80\\x9cHow are you getting on?â\\x80\\x9d said the Cat, as soon as there was mouth\\r\\nenough for it to speak with.\\r\\n\\r\\nAlice waited till the eyes appeared, and then nodded. â\\x80\\x9cItâ\\x80\\x99s no use\\r\\nspeaking to it,â\\x80\\x9d she thought, â\\x80\\x9ctill its ears have come, or at least one\\r\\nof them.â\\x80\\x9d In another minute the whole head appeared, and then Alice put\\r\\ndown her flamingo, and began an account of the game, feeling very glad\\r\\nshe had someone to listen to her. The Cat seemed to think that there\\r\\nwas enough of it now in sight, and no more of it appeared.\\r\\n\\r\\nâ\\x80\\x9cI donâ\\x80\\x99t think they play at all fairly,â\\x80\\x9d Alice began, in rather a\\r\\ncomplaining tone, â\\x80\\x9cand they all quarrel so dreadfully one canâ\\x80\\x99t hear\\r\\noneself speakâ\\x80\\x94and they donâ\\x80\\x99t seem to have any rules in particular; at\\r\\nleast, if there are, nobody attends to themâ\\x80\\x94and youâ\\x80\\x99ve no idea how\\r\\nconfusing it is all the things being alive; for instance, thereâ\\x80\\x99s the\\r\\narch Iâ\\x80\\x99ve got to go through next walking about at the other end of the\\r\\ngroundâ\\x80\\x94and I should have croqueted the Queenâ\\x80\\x99s hedgehog just now, only\\r\\nit ran away when it saw mine coming!â\\x80\\x9d\\r\\n\\r\\nâ\\x80\\x9cHow do you like the Queen?â\\x80\\x9d said the Cat in a low voice.\\r\\n\\r\\nâ\\x80\\x9cNot at all,â\\x80\\x9d said Alice: â\\x80\\x9csheâ\\x80\\x99s so extremelyâ\\x80\\x94â\\x80\\x9d Just then she noticed\\r\\nthat the Queen was close behind her, listening: so she went on,\\r\\nâ\\x80\\x9câ\\x80\\x94likely to win, that itâ\\x80\\x99s hardly worth while finishing the game.â\\x80\\x9d\\r\\n\\r\\nThe Queen smiled and passed on.\\r\\n\\r\\nâ\\x80\\x9cWho _are_ you talking to?â\\x80\\x9d said the King, going up to Alice, and\\r\\nlooking at the Catâ\\x80\\x99s head with great curiosity.\\r\\n\\r\\nâ\\x80\\x9cItâ\\x80\\x99s a friend of mineâ\\x80\\x94a Cheshire Cat,â\\x80\\x9d said Alice: â\\x80\\x9callow me to\\r\\nintroduce it.â\\x80\\x9d\\r\\n\\r\\nâ\\x80\\x9cI donâ\\x80\\x99t like the look of it at all,â\\x80\\x9d said the King: â\\x80\\x9chowever, it may\\r\\nkiss my hand if it likes.â\\x80\\x9d\\r\\n\\r\\nâ\\x80\\x9cIâ\\x80\\x99d rather not,â\\x80\\x9d the Cat remarked.\\r\\n\\r\\nâ\\x80\\x9cDonâ\\x80\\x99t be impertinent,â\\x80\\x9d said the King, â\\x80\\x9cand donâ\\x80\\x99t look at me like\\r\\nthat!â\\x80\\x9d He got behind Alice as he spoke.\\r\\n\\r\\nâ\\x80\\x9cA cat may look at a king,â\\x80\\x9d said Alice. â\\x80\\x9cIâ\\x80\\x99ve read that in some book,\\r\\nbut I donâ\\x80\\x99t remember where.â\\x80\\x9d\\r\\n\\r\\nâ\\x80\\x9cWell, it must be removed,â\\x80\\x9d said the King very decidedly, and he called\\r\\nthe Queen, who was passing at the moment, â\\x80\\x9cMy dear! I wish you would\\r\\nhave this cat removed!â\\x80\\x9d\\r\\n\\r\\nThe Queen had only one way of settling all difficulties, great or\\r\\nsmall. â\\x80\\x9cOff with his head!â\\x80\\x9d she said, without even looking round.\\r\\n\\r\\nâ\\x80\\x9cIâ\\x80\\x99ll fetch the executioner myself,â\\x80\\x9d said the King eagerly, and he\\r\\nhurried off.\\r\\n\\r\\nAlice thought she might as well go back, and see how the game was going\\r\\non, as she heard the Queenâ\\x80\\x99s voice in the distance, screaming with\\r\\npassion. She had already heard her sentence three of the players to be\\r\\nexecuted for having missed their turns, and she did not like the look\\r\\nof things at all, as the game was in such confusion that she never knew\\r\\nwhether it was her turn or not. So she went in search of her hedgehog.\\r\\n\\r\\nThe hedgehog was engaged in a fight with another hedgehog, which seemed\\r\\nto Alice an excellent opportunity for croqueting one of them with the\\r\\nother: the only difficulty was, that her flamingo was gone across to\\r\\nthe other side of the garden, where Alice could see it trying in a\\r\\nhelpless sort of way to fly up into a tree.\\r\\n\\r\\nBy the time she had caught the flamingo and brought it back, the fight\\r\\nwas over, and both the hedgehogs were out of sight: â\\x80\\x9cbut it doesnâ\\x80\\x99t\\r\\nmatter much,â\\x80\\x9d thought Alice, â\\x80\\x9cas all the arches are gone from this side\\r\\nof the ground.â\\x80\\x9d So she tucked it away under her arm, that it might not\\r\\nescape again, and went back for a little more conversation with her\\r\\nfriend.\\r\\n\\r\\nWhen she got back to the Cheshire Cat, she was surprised to find quite\\r\\na large crowd collected round it: there was a dispute going on between\\r\\nthe executioner, the King, and the Queen, who were all talking at once,\\r\\nwhile all the rest were quite silent, and looked very uncomfortable.\\r\\n\\r\\nThe moment Alice appeared, she was appealed to by all three to settle\\r\\nthe question, and they repeated their arguments to her, though, as they\\r\\nall spoke at once, she found it very hard indeed to make out exactly\\r\\nwhat they said.\\r\\n\\r\\nThe executionerâ\\x80\\x99s argument was, that you couldnâ\\x80\\x99t cut off a head unless\\r\\nthere was a body to cut it off from: that he had never had to do such a\\r\\nthing before, and he wasnâ\\x80\\x99t going to begin at _his_ time of life.\\r\\n\\r\\nThe Kingâ\\x80\\x99s argument was, that anything that had a head could be\\r\\nbeheaded, and that you werenâ\\x80\\x99t to talk nonsense.\\r\\n\\r\\nThe Queenâ\\x80\\x99s argument was, that if something wasnâ\\x80\\x99t done about it in\\r\\nless than no time sheâ\\x80\\x99d have everybody executed, all round. (It was\\r\\nthis last remark that had made the whole party look so grave and\\r\\nanxious.)\\r\\n\\r\\nAlice could think of nothing else to say but â\\x80\\x9cIt belongs to the\\r\\nDuchess: youâ\\x80\\x99d better ask _her_ about it.â\\x80\\x9d\\r\\n\\r\\nâ\\x80\\x9cSheâ\\x80\\x99s in prison,â\\x80\\x9d the Queen said to the executioner: â\\x80\\x9cfetch her here.â\\x80\\x9d\\r\\nAnd the executioner went off like an arrow.\\r\\n\\r\\nThe Catâ\\x80\\x99s head began fading away the moment he was gone, and, by the\\r\\ntime he had come back with the Duchess, it had entirely disappeared; so\\r\\nthe King and the executioner ran wildly up and down looking for it,\\r\\nwhile the rest of the party went back to the game.\\r\\n\\r\\n\\r\\n\\r\\n\\r\\nCHAPTER IX.\\r\\nThe Mock Turtleâ\\x80\\x99s Story\\r\\n\\r\\n\\r\\nâ\\x80\\x9cYou canâ\\x80\\x99t think how glad I am to see you again, you dear old thing!â\\x80\\x9d\\r\\nsaid the Duchess, as she tucked her arm affectionately into Aliceâ\\x80\\x99s,\\r\\nand they walked off together.\\r\\n\\r\\nAlice was very glad to find her in such a pleasant temper, and thought\\r\\nto herself that perhaps it was only the pepper that had made her so\\r\\nsavage when they met in the kitchen.\\r\\n\\r\\nâ\\x80\\x9cWhen _Iâ\\x80\\x99m_ a Duchess,â\\x80\\x9d she said to herself, (not in a very hopeful\\r\\ntone though), â\\x80\\x9cI wonâ\\x80\\x99t have any pepper in my kitchen _at all_. Soup\\r\\ndoes very well withoutâ\\x80\\x94Maybe itâ\\x80\\x99s always pepper that makes people\\r\\nhot-tempered,â\\x80\\x9d she went on, very much pleased at having found out a new\\r\\nkind of rule, â\\x80\\x9cand vinegar that makes them sourâ\\x80\\x94and camomile that makes\\r\\nthem bitterâ\\x80\\x94andâ\\x80\\x94and barley-sugar and such things that make children\\r\\nsweet-tempered. I only wish people knew _that_: then they wouldnâ\\x80\\x99t be\\r\\nso stingy about it, you knowâ\\x80\\x94â\\x80\\x9d\\r\\n\\r\\nShe had quite forgotten the Duchess by this time, and was a little\\r\\nstartled when she heard her voice close to her ear. â\\x80\\x9cYouâ\\x80\\x99re thinking\\r\\nabout something, my dear, and that makes you forget to talk. I canâ\\x80\\x99t\\r\\ntell you just now what the moral of that is, but I shall remember it in\\r\\na bit.â\\x80\\x9d\\r\\n\\r\\nâ\\x80\\x9cPerhaps it hasnâ\\x80\\x99t one,â\\x80\\x9d Alice ventured to remark.\\r\\n\\r\\nâ\\x80\\x9cTut, tut, child!â\\x80\\x9d said the Duchess. â\\x80\\x9cEverythingâ\\x80\\x99s got a moral, if only\\r\\nyou can find it.â\\x80\\x9d And she squeezed herself up closer to Aliceâ\\x80\\x99s side as\\r\\nshe spoke.\\r\\n\\r\\nAlice did not much like keeping so close to her: first, because the\\r\\nDuchess was _very_ ugly; and secondly, because she was exactly the\\r\\nright height to rest her chin upon Aliceâ\\x80\\x99s shoulder, and it was an\\r\\nuncomfortably sharp chin. However, she did not like to be rude, so she\\r\\nbore it as well as she could.\\r\\n\\r\\nâ\\x80\\x9cThe gameâ\\x80\\x99s going on rather better now,â\\x80\\x9d she said, by way of keeping up\\r\\nthe conversation a little.\\r\\n\\r\\nâ\\x80\\x9câ\\x80\\x99Tis so,â\\x80\\x9d said the Duchess: â\\x80\\x9cand the moral of that isâ\\x80\\x94â\\x80\\x98Oh, â\\x80\\x99tis love,\\r\\nâ\\x80\\x99tis love, that makes the world go round!â\\x80\\x99â\\x80\\x9d\\r\\n\\r\\nâ\\x80\\x9cSomebody said,â\\x80\\x9d Alice whispered, â\\x80\\x9cthat itâ\\x80\\x99s done by everybody minding\\r\\ntheir own business!â\\x80\\x9d\\r\\n\\r\\nâ\\x80\\x9cAh, well! It means much the same thing,â\\x80\\x9d said the Duchess, digging her\\r\\nsharp little chin into Aliceâ\\x80\\x99s shoulder as she added, â\\x80\\x9cand the moral of\\r\\n_that_ isâ\\x80\\x94â\\x80\\x98Take care of the sense, and the sounds will take care of\\r\\nthemselves.â\\x80\\x99â\\x80\\x9d\\r\\n\\r\\nâ\\x80\\x9cHow fond she is of finding morals in things!â\\x80\\x9d Alice thought to\\r\\nherself.\\r\\n\\r\\nâ\\x80\\x9cI dare say youâ\\x80\\x99re wondering why I donâ\\x80\\x99t put my arm round your waist,â\\x80\\x9d\\r\\nthe Duchess said after a pause: â\\x80\\x9cthe reason is, that Iâ\\x80\\x99m doubtful about\\r\\nthe temper of your flamingo. Shall I try the experiment?â\\x80\\x9d\\r\\n\\r\\nâ\\x80\\x9cHe might bite,â\\x80\\x9d Alice cautiously replied, not feeling at all anxious\\r\\nto have the experiment tried.\\r\\n\\r\\nâ\\x80\\x9cVery true,â\\x80\\x9d said the Duchess: â\\x80\\x9cflamingoes and mustard both bite. And\\r\\nthe moral of that isâ\\x80\\x94â\\x80\\x98Birds of a feather flock together.â\\x80\\x99â\\x80\\x9d\\r\\n\\r\\nâ\\x80\\x9cOnly mustard isnâ\\x80\\x99t a bird,â\\x80\\x9d Alice remarked.\\r\\n\\r\\nâ\\x80\\x9cRight, as usual,â\\x80\\x9d said the Duchess: â\\x80\\x9cwhat a clear way you have of\\r\\nputting things!â\\x80\\x9d\\r\\n\\r\\nâ\\x80\\x9cItâ\\x80\\x99s a mineral, I _think_,â\\x80\\x9d said Alice.\\r\\n\\r\\nâ\\x80\\x9cOf course it is,â\\x80\\x9d said the Duchess, who seemed ready to agree to\\r\\neverything that Alice said; â\\x80\\x9cthereâ\\x80\\x99s a large mustard-mine near here.\\r\\nAnd the moral of that isâ\\x80\\x94â\\x80\\x98The more there is of mine, the less there is\\r\\nof yours.â\\x80\\x99â\\x80\\x9d\\r\\n\\r\\nâ\\x80\\x9cOh, I know!â\\x80\\x9d exclaimed Alice, who had not attended to this last\\r\\nremark, â\\x80\\x9citâ\\x80\\x99s a vegetable. It doesnâ\\x80\\x99t look like one, but it is.â\\x80\\x9d\\r\\n\\r\\nâ\\x80\\x9cI quite agree with you,â\\x80\\x9d said the Duchess; â\\x80\\x9cand the moral of that\\r\\nisâ\\x80\\x94â\\x80\\x98Be what you would seem to beâ\\x80\\x99â\\x80\\x94or if youâ\\x80\\x99d like it put more\\r\\nsimplyâ\\x80\\x94â\\x80\\x98Never imagine yourself not to be otherwise than what it might\\r\\nappear to others that what you were or might have been was not\\r\\notherwise than what you had been would have appeared to them to be\\r\\notherwise.â\\x80\\x99â\\x80\\x9d\\r\\n\\r\\nâ\\x80\\x9cI think I should understand that better,â\\x80\\x9d Alice said very politely,\\r\\nâ\\x80\\x9cif I had it written down: but I canâ\\x80\\x99t quite follow it as you say it.â\\x80\\x9d\\r\\n\\r\\nâ\\x80\\x9cThatâ\\x80\\x99s nothing to what I could say if I chose,â\\x80\\x9d the Duchess replied,\\r\\nin a pleased tone.\\r\\n\\r\\nâ\\x80\\x9cPray donâ\\x80\\x99t trouble yourself to say it any longer than that,â\\x80\\x9d said\\r\\nAlice.\\r\\n\\r\\nâ\\x80\\x9cOh, donâ\\x80\\x99t talk about trouble!â\\x80\\x9d said the Duchess. â\\x80\\x9cI make you a present\\r\\nof everything Iâ\\x80\\x99ve said as yet.â\\x80\\x9d\\r\\n\\r\\nâ\\x80\\x9cA cheap sort of present!â\\x80\\x9d thought Alice. â\\x80\\x9cIâ\\x80\\x99m glad they donâ\\x80\\x99t give\\r\\nbirthday presents like that!â\\x80\\x9d But she did not venture to say it out\\r\\nloud.\\r\\n\\r\\nâ\\x80\\x9cThinking again?â\\x80\\x9d the Duchess asked, with another dig of her sharp\\r\\nlittle chin.\\r\\n\\r\\nâ\\x80\\x9cIâ\\x80\\x99ve a right to think,â\\x80\\x9d said Alice sharply, for she was beginning to\\r\\nfeel a little worried.\\r\\n\\r\\nâ\\x80\\x9cJust about as much right,â\\x80\\x9d said the Duchess, â\\x80\\x9cas pigs have to fly; and\\r\\nthe mâ\\x80\\x94â\\x80\\x9d\\r\\n\\r\\nBut here, to Aliceâ\\x80\\x99s great surprise, the Duchessâ\\x80\\x99s voice died away,\\r\\neven in the middle of her favourite word â\\x80\\x98moral,â\\x80\\x99 and the arm that was\\r\\nlinked into hers began to tremble. Alice looked up, and there stood the\\r\\nQueen in front of them, with her arms folded, frowning like a\\r\\nthunderstorm.\\r\\n\\r\\nâ\\x80\\x9cA fine day, your Majesty!â\\x80\\x9d the Duchess began in a low, weak voice.\\r\\n\\r\\nâ\\x80\\x9cNow, I give you fair warning,â\\x80\\x9d shouted the Queen, stamping on the\\r\\nground as she spoke; â\\x80\\x9ceither you or your head must be off, and that in\\r\\nabout half no time! Take your choice!â\\x80\\x9d\\r\\n\\r\\nThe Duchess took her choice, and was gone in a moment.\\r\\n\\r\\nâ\\x80\\x9cLetâ\\x80\\x99s go on with the game,â\\x80\\x9d the Queen said to Alice; and Alice was too\\r\\nmuch frightened to say a word, but slowly followed her back to the\\r\\ncroquet-ground.\\r\\n\\r\\nThe other guests had taken advantage of the Queenâ\\x80\\x99s absence, and were\\r\\nresting in the shade: however, the moment they saw her, they hurried\\r\\nback to the game, the Queen merely remarking that a momentâ\\x80\\x99s delay\\r\\nwould cost them their lives.\\r\\n\\r\\nAll the time they were playing the Queen never left off quarrelling\\r\\nwith the other players, and shouting â\\x80\\x9cOff with his head!â\\x80\\x9d or â\\x80\\x9cOff with\\r\\nher head!â\\x80\\x9d Those whom she sentenced were taken into custody by the\\r\\nsoldiers, who of course had to leave off being arches to do this, so\\r\\nthat by the end of half an hour or so there were no arches left, and\\r\\nall the players, except the King, the Queen, and Alice, were in custody\\r\\nand under sentence of execution.\\r\\n\\r\\nThen the Queen left off, quite out of breath, and said to Alice, â\\x80\\x9cHave\\r\\nyou seen the Mock Turtle yet?â\\x80\\x9d\\r\\n\\r\\nâ\\x80\\x9cNo,â\\x80\\x9d said Alice. â\\x80\\x9cI donâ\\x80\\x99t even know what a Mock Turtle is.â\\x80\\x9d\\r\\n\\r\\nâ\\x80\\x9cItâ\\x80\\x99s the thing Mock Turtle Soup is made from,â\\x80\\x9d said the Queen.\\r\\n\\r\\nâ\\x80\\x9cI never saw one, or heard of one,â\\x80\\x9d said Alice.\\r\\n\\r\\nâ\\x80\\x9cCome on, then,â\\x80\\x9d said the Queen, â\\x80\\x9cand he shall tell you his history,â\\x80\\x9d\\r\\n\\r\\nAs they walked off together, Alice heard the King say in a low voice,\\r\\nto the company generally, â\\x80\\x9cYou are all pardoned.â\\x80\\x9d â\\x80\\x9cCome, _thatâ\\x80\\x99s_ a\\r\\ngood thing!â\\x80\\x9d she said to herself, for she had felt quite unhappy at the\\r\\nnumber of executions the Queen had ordered.\\r\\n\\r\\nThey very soon came upon a Gryphon, lying fast asleep in the sun. (If\\r\\nyou donâ\\x80\\x99t know what a Gryphon is, look at the picture.) â\\x80\\x9cUp, lazy\\r\\nthing!â\\x80\\x9d said the Queen, â\\x80\\x9cand take this young lady to see the Mock\\r\\nTurtle, and to hear his history. I must go back and see after some\\r\\nexecutions I have ordered;â\\x80\\x9d and she walked off, leaving Alice alone\\r\\nwith the Gryphon. Alice did not quite like the look of the creature,\\r\\nbut on the whole she thought it would be quite as safe to stay with it\\r\\nas to go after that savage Queen: so she waited.\\r\\n\\r\\nThe Gryphon sat up and rubbed its eyes: then it watched the Queen till\\r\\nshe was out of sight: then it chuckled. â\\x80\\x9cWhat fun!â\\x80\\x9d said the Gryphon,\\r\\nhalf to itself, half to Alice.\\r\\n\\r\\nâ\\x80\\x9cWhat _is_ the fun?â\\x80\\x9d said Alice.\\r\\n\\r\\nâ\\x80\\x9cWhy, _she_,â\\x80\\x9d said the Gryphon. â\\x80\\x9cItâ\\x80\\x99s all her fancy, that: they never\\r\\nexecutes nobody, you know. Come on!â\\x80\\x9d\\r\\n\\r\\nâ\\x80\\x9cEverybody says â\\x80\\x98come on!â\\x80\\x99 here,â\\x80\\x9d thought Alice, as she went slowly\\r\\nafter it: â\\x80\\x9cI never was so ordered about in all my life, never!â\\x80\\x9d\\r\\n\\r\\nThey had not gone far before they saw the Mock Turtle in the distance,\\r\\nsitting sad and lonely on a little ledge of rock, and, as they came\\r\\nnearer, Alice could hear him sighing as if his heart would break. She\\r\\npitied him deeply. â\\x80\\x9cWhat is his sorrow?â\\x80\\x9d she asked the Gryphon, and the\\r\\nGryphon answered, very nearly in the same words as before, â\\x80\\x9cItâ\\x80\\x99s all\\r\\nhis fancy, that: he hasnâ\\x80\\x99t got no sorrow, you know. Come on!â\\x80\\x9d\\r\\n\\r\\nSo they went up to the Mock Turtle, who looked at them with large eyes\\r\\nfull of tears, but said nothing.\\r\\n\\r\\nâ\\x80\\x9cThis here young lady,â\\x80\\x9d said the Gryphon, â\\x80\\x9cshe wants for to know your\\r\\nhistory, she do.â\\x80\\x9d\\r\\n\\r\\nâ\\x80\\x9cIâ\\x80\\x99ll tell it her,â\\x80\\x9d said the Mock Turtle in a deep, hollow tone: â\\x80\\x9csit\\r\\ndown, both of you, and donâ\\x80\\x99t speak a word till Iâ\\x80\\x99ve finished.â\\x80\\x9d\\r\\n\\r\\nSo they sat down, and nobody spoke for some minutes. Alice thought to\\r\\nherself, â\\x80\\x9cI donâ\\x80\\x99t see how he can _ever_ finish, if he doesnâ\\x80\\x99t begin.â\\x80\\x9d\\r\\nBut she waited patiently.\\r\\n\\r\\nâ\\x80\\x9cOnce,â\\x80\\x9d said the Mock Turtle at last, with a deep sigh, â\\x80\\x9cI was a real\\r\\nTurtle.â\\x80\\x9d\\r\\n\\r\\nThese words were followed by a very long silence, broken only by an\\r\\noccasional exclamation of â\\x80\\x9cHjckrrh!â\\x80\\x9d from the Gryphon, and the constant\\r\\nheavy sobbing of the Mock Turtle. Alice was very nearly getting up and\\r\\nsaying, â\\x80\\x9cThank you, sir, for your interesting story,â\\x80\\x9d but she could not\\r\\nhelp thinking there _must_ be more to come, so she sat still and said\\r\\nnothing.\\r\\n\\r\\nâ\\x80\\x9cWhen we were little,â\\x80\\x9d the Mock Turtle went on at last, more calmly,\\r\\nthough still sobbing a little now and then, â\\x80\\x9cwe went to school in the\\r\\nsea. The master was an old Turtleâ\\x80\\x94we used to call him Tortoiseâ\\x80\\x94â\\x80\\x9d\\r\\n\\r\\nâ\\x80\\x9cWhy did you call him Tortoise, if he wasnâ\\x80\\x99t one?â\\x80\\x9d Alice asked.\\r\\n\\r\\nâ\\x80\\x9cWe called him Tortoise because he taught us,â\\x80\\x9d said the Mock Turtle\\r\\nangrily: â\\x80\\x9creally you are very dull!â\\x80\\x9d\\r\\n\\r\\nâ\\x80\\x9cYou ought to be ashamed of yourself for asking such a simple\\r\\nquestion,â\\x80\\x9d added the Gryphon; and then they both sat silent and looked\\r\\nat poor Alice, who felt ready to sink into the earth. At last the\\r\\nGryphon said to the Mock Turtle, â\\x80\\x9cDrive on, old fellow! Donâ\\x80\\x99t be all\\r\\nday about it!â\\x80\\x9d and he went on in these words:\\r\\n\\r\\nâ\\x80\\x9cYes, we went to school in the sea, though you maynâ\\x80\\x99t believe itâ\\x80\\x94â\\x80\\x9d\\r\\n\\r\\nâ\\x80\\x9cI never said I didnâ\\x80\\x99t!â\\x80\\x9d interrupted Alice.\\r\\n\\r\\nâ\\x80\\x9cYou did,â\\x80\\x9d said the Mock Turtle.\\r\\n\\r\\nâ\\x80\\x9cHold your tongue!â\\x80\\x9d added the Gryphon, before Alice could speak again.\\r\\nThe Mock Turtle went on.\\r\\n\\r\\nâ\\x80\\x9cWe had the best of educationsâ\\x80\\x94in fact, we went to school every dayâ\\x80\\x94â\\x80\\x9d\\r\\n\\r\\nâ\\x80\\x9c_Iâ\\x80\\x99ve_ been to a day-school, too,â\\x80\\x9d said Alice; â\\x80\\x9cyou neednâ\\x80\\x99t be so\\r\\nproud as all that.â\\x80\\x9d\\r\\n\\r\\nâ\\x80\\x9cWith extras?â\\x80\\x9d asked the Mock Turtle a little anxiously.\\r\\n\\r\\nâ\\x80\\x9cYes,â\\x80\\x9d said Alice, â\\x80\\x9cwe learned French and music.â\\x80\\x9d\\r\\n\\r\\nâ\\x80\\x9cAnd washing?â\\x80\\x9d said the Mock Turtle.\\r\\n\\r\\nâ\\x80\\x9cCertainly not!â\\x80\\x9d said Alice indignantly.\\r\\n\\r\\nâ\\x80\\x9cAh! then yours wasnâ\\x80\\x99t a really good school,â\\x80\\x9d said the Mock Turtle in a\\r\\ntone of great relief. â\\x80\\x9cNow at _ours_ they had at the end of the bill,\\r\\nâ\\x80\\x98French, music, _and washing_â\\x80\\x94extra.â\\x80\\x99â\\x80\\x9d\\r\\n\\r\\nâ\\x80\\x9cYou couldnâ\\x80\\x99t have wanted it much,â\\x80\\x9d said Alice; â\\x80\\x9cliving at the bottom\\r\\nof the sea.â\\x80\\x9d\\r\\n\\r\\nâ\\x80\\x9cI couldnâ\\x80\\x99t afford to learn it.â\\x80\\x9d said the Mock Turtle with a sigh. â\\x80\\x9cI\\r\\nonly took the regular course.â\\x80\\x9d\\r\\n\\r\\nâ\\x80\\x9cWhat was that?â\\x80\\x9d inquired Alice.\\r\\n\\r\\nâ\\x80\\x9cReeling and Writhing, of course, to begin with,â\\x80\\x9d the Mock Turtle\\r\\nreplied; â\\x80\\x9cand then the different branches of Arithmeticâ\\x80\\x94Ambition,\\r\\nDistraction, Uglification, and Derision.â\\x80\\x9d\\r\\n\\r\\nâ\\x80\\x9cI never heard of â\\x80\\x98Uglification,â\\x80\\x99â\\x80\\x9d Alice ventured to say. â\\x80\\x9cWhat is it?â\\x80\\x9d\\r\\n\\r\\nThe Gryphon lifted up both its paws in surprise. â\\x80\\x9cWhat! Never heard of\\r\\nuglifying!â\\x80\\x9d it exclaimed. â\\x80\\x9cYou know what to beautify is, I suppose?â\\x80\\x9d\\r\\n\\r\\nâ\\x80\\x9cYes,â\\x80\\x9d said Alice doubtfully: â\\x80\\x9cit meansâ\\x80\\x94toâ\\x80\\x94makeâ\\x80\\x94anythingâ\\x80\\x94prettier.â\\x80\\x9d\\r\\n\\r\\nâ\\x80\\x9cWell, then,â\\x80\\x9d the Gryphon went on, â\\x80\\x9cif you donâ\\x80\\x99t know what to uglify\\r\\nis, you _are_ a simpleton.â\\x80\\x9d\\r\\n\\r\\nAlice did not feel encouraged to ask any more questions about it, so\\r\\nshe turned to the Mock Turtle, and said â\\x80\\x9cWhat else had you to learn?â\\x80\\x9d\\r\\n\\r\\nâ\\x80\\x9cWell, there was Mystery,â\\x80\\x9d the Mock Turtle replied, counting off the\\r\\nsubjects on his flappers, â\\x80\\x9câ\\x80\\x94Mystery, ancient and modern, with\\r\\nSeaography: then Drawlingâ\\x80\\x94the Drawling-master was an old conger-eel,\\r\\nthat used to come once a week: _he_ taught us Drawling, Stretching, and\\r\\nFainting in Coils.â\\x80\\x9d\\r\\n\\r\\nâ\\x80\\x9cWhat was _that_ like?â\\x80\\x9d said Alice.\\r\\n\\r\\nâ\\x80\\x9cWell, I canâ\\x80\\x99t show it you myself,â\\x80\\x9d the Mock Turtle said: â\\x80\\x9cIâ\\x80\\x99m too\\r\\nstiff. And the Gryphon never learnt it.â\\x80\\x9d\\r\\n\\r\\nâ\\x80\\x9cHadnâ\\x80\\x99t time,â\\x80\\x9d said the Gryphon: â\\x80\\x9cI went to the Classics master,\\r\\nthough. He was an old crab, _he_ was.â\\x80\\x9d\\r\\n\\r\\nâ\\x80\\x9cI never went to him,â\\x80\\x9d the Mock Turtle said with a sigh: â\\x80\\x9che taught\\r\\nLaughing and Grief, they used to say.â\\x80\\x9d\\r\\n\\r\\nâ\\x80\\x9cSo he did, so he did,â\\x80\\x9d said the Gryphon, sighing in his turn; and both\\r\\ncreatures hid their faces in their paws.\\r\\n\\r\\nâ\\x80\\x9cAnd how many hours a day did you do lessons?â\\x80\\x9d said Alice, in a hurry\\r\\nto change the subject.\\r\\n\\r\\nâ\\x80\\x9cTen hours the first day,â\\x80\\x9d said the Mock Turtle: â\\x80\\x9cnine the next, and so\\r\\non.â\\x80\\x9d\\r\\n\\r\\nâ\\x80\\x9cWhat a curious plan!â\\x80\\x9d exclaimed Alice.\\r\\n\\r\\nâ\\x80\\x9cThatâ\\x80\\x99s the reason theyâ\\x80\\x99re called lessons,â\\x80\\x9d the Gryphon remarked:\\r\\nâ\\x80\\x9cbecause they lessen from day to day.â\\x80\\x9d\\r\\n\\r\\nThis was quite a new idea to Alice, and she thought it over a little\\r\\nbefore she made her next remark. â\\x80\\x9cThen the eleventh day must have been\\r\\na holiday?â\\x80\\x9d\\r\\n\\r\\nâ\\x80\\x9cOf course it was,â\\x80\\x9d said the Mock Turtle.\\r\\n\\r\\nâ\\x80\\x9cAnd how did you manage on the twelfth?â\\x80\\x9d Alice went on eagerly.\\r\\n\\r\\nâ\\x80\\x9cThatâ\\x80\\x99s enough about lessons,â\\x80\\x9d the Gryphon interrupted in a very\\r\\ndecided tone: â\\x80\\x9ctell her something about the games now.â\\x80\\x9d\\r\\n\\r\\n\\r\\n\\r\\n\\r\\nCHAPTER X.\\r\\nThe Lobster Quadrille\\r\\n\\r\\n\\r\\nThe Mock Turtle sighed deeply, and drew the back of one flapper across\\r\\nhis eyes. He looked at Alice, and tried to speak, but for a minute or\\r\\ntwo sobs choked his voice. â\\x80\\x9cSame as if he had a bone in his throat,â\\x80\\x9d\\r\\nsaid the Gryphon: and it set to work shaking him and punching him in\\r\\nthe back. At last the Mock Turtle recovered his voice, and, with tears\\r\\nrunning down his cheeks, he went on again:â\\x80\\x94\\r\\n\\r\\nâ\\x80\\x9cYou may not have lived much under the seaâ\\x80\\x94â\\x80\\x9d (â\\x80\\x9cI havenâ\\x80\\x99t,â\\x80\\x9d said\\r\\nAlice)â\\x80\\x94â\\x80\\x9cand perhaps you were never even introduced to a lobsterâ\\x80\\x94â\\x80\\x9d\\r\\n(Alice began to say â\\x80\\x9cI once tastedâ\\x80\\x94â\\x80\\x9d but checked herself hastily, and\\r\\nsaid â\\x80\\x9cNo, neverâ\\x80\\x9d) â\\x80\\x9câ\\x80\\x94so you can have no idea what a delightful thing a\\r\\nLobster Quadrille is!â\\x80\\x9d\\r\\n\\r\\nâ\\x80\\x9cNo, indeed,â\\x80\\x9d said Alice. â\\x80\\x9cWhat sort of a dance is it?â\\x80\\x9d\\r\\n\\r\\nâ\\x80\\x9cWhy,â\\x80\\x9d said the Gryphon, â\\x80\\x9cyou first form into a line along the\\r\\nsea-shoreâ\\x80\\x94â\\x80\\x9d\\r\\n\\r\\nâ\\x80\\x9cTwo lines!â\\x80\\x9d cried the Mock Turtle. â\\x80\\x9cSeals, turtles, salmon, and so on;\\r\\nthen, when youâ\\x80\\x99ve cleared all the jelly-fish out of the wayâ\\x80\\x94â\\x80\\x9d\\r\\n\\r\\nâ\\x80\\x9c_That_ generally takes some time,â\\x80\\x9d interrupted the Gryphon.\\r\\n\\r\\nâ\\x80\\x9câ\\x80\\x94you advance twiceâ\\x80\\x94â\\x80\\x9d\\r\\n\\r\\nâ\\x80\\x9cEach with a lobster as a partner!â\\x80\\x9d cried the Gryphon.\\r\\n\\r\\nâ\\x80\\x9cOf course,â\\x80\\x9d the Mock Turtle said: â\\x80\\x9cadvance twice, set to partnersâ\\x80\\x94â\\x80\\x9d\\r\\n\\r\\nâ\\x80\\x9câ\\x80\\x94change lobsters, and retire in same order,â\\x80\\x9d continued the Gryphon.\\r\\n\\r\\nâ\\x80\\x9cThen, you know,â\\x80\\x9d the Mock Turtle went on, â\\x80\\x9cyou throw theâ\\x80\\x94â\\x80\\x9d\\r\\n\\r\\nâ\\x80\\x9cThe lobsters!â\\x80\\x9d shouted the Gryphon, with a bound into the air.\\r\\n\\r\\nâ\\x80\\x9câ\\x80\\x94as far out to sea as you canâ\\x80\\x94â\\x80\\x9d\\r\\n\\r\\nâ\\x80\\x9cSwim after them!â\\x80\\x9d screamed the Gryphon.\\r\\n\\r\\nâ\\x80\\x9cTurn a somersault in the sea!â\\x80\\x9d cried the Mock Turtle, capering wildly\\r\\nabout.\\r\\n\\r\\nâ\\x80\\x9cChange lobsters again!â\\x80\\x9d yelled the Gryphon at the top of its voice.\\r\\n\\r\\nâ\\x80\\x9cBack to land again, and thatâ\\x80\\x99s all the first figure,â\\x80\\x9d said the Mock\\r\\nTurtle, suddenly dropping his voice; and the two creatures, who had\\r\\nbeen jumping about like mad things all this time, sat down again very\\r\\nsadly and quietly, and looked at Alice.\\r\\n\\r\\nâ\\x80\\x9cIt must be a very pretty dance,â\\x80\\x9d said Alice timidly.\\r\\n\\r\\nâ\\x80\\x9cWould you like to see a little of it?â\\x80\\x9d said the Mock Turtle.\\r\\n\\r\\nâ\\x80\\x9cVery much indeed,â\\x80\\x9d said Alice.\\r\\n\\r\\nâ\\x80\\x9cCome, letâ\\x80\\x99s try the first figure!â\\x80\\x9d said the Mock Turtle to the\\r\\nGryphon. â\\x80\\x9cWe can do without lobsters, you know. Which shall sing?â\\x80\\x9d\\r\\n\\r\\nâ\\x80\\x9cOh, _you_ sing,â\\x80\\x9d said the Gryphon. â\\x80\\x9cIâ\\x80\\x99ve forgotten the words.â\\x80\\x9d\\r\\n\\r\\nSo they began solemnly dancing round and round Alice, every now and\\r\\nthen treading on her toes when they passed too close, and waving their\\r\\nforepaws to mark the time, while the Mock Turtle sang this, very slowly\\r\\nand sadly:â\\x80\\x94\\r\\n\\r\\nâ\\x80\\x9cWill you walk a little faster?â\\x80\\x9d said a whiting to a snail.\\r\\nâ\\x80\\x9cThereâ\\x80\\x99s a porpoise close behind us, and heâ\\x80\\x99s treading on my tail.\\r\\nSee how eagerly the lobsters and the turtles all advance!\\r\\nThey are waiting on the shingleâ\\x80\\x94will you come and join the dance?\\r\\nWill you, wonâ\\x80\\x99t you, will you, wonâ\\x80\\x99t you, will you join the dance?\\r\\nWill you, wonâ\\x80\\x99t you, will you, wonâ\\x80\\x99t you, wonâ\\x80\\x99t you join the dance?\\r\\n\\r\\nâ\\x80\\x9cYou can really have no notion how delightful it will be\\r\\nWhen they take us up and throw us, with the lobsters, out to sea!â\\x80\\x9d\\r\\nBut the snail replied â\\x80\\x9cToo far, too far!â\\x80\\x9d and gave a look askanceâ\\x80\\x94\\r\\nSaid he thanked the whiting kindly, but he would not join the dance.\\r\\nWould not, could not, would not, could not, would not join the dance.\\r\\nWould not, could not, would not, could not, could not join the dance.\\r\\n\\r\\nâ\\x80\\x9cWhat matters it how far we go?â\\x80\\x9d his scaly friend replied.\\r\\nâ\\x80\\x9cThere is another shore, you know, upon the other side.\\r\\nThe further off from England the nearer is to Franceâ\\x80\\x94\\r\\nThen turn not pale, beloved snail, but come and join the dance.\\r\\nWill you, wonâ\\x80\\x99t you, will you, wonâ\\x80\\x99t you, will you join the dance?\\r\\nWill you, wonâ\\x80\\x99t you, will you, wonâ\\x80\\x99t you, wonâ\\x80\\x99t you join the dance?â\\x80\\x9d\\r\\n\\r\\n\\r\\nâ\\x80\\x9cThank you, itâ\\x80\\x99s a very interesting dance to watch,â\\x80\\x9d said Alice,\\r\\nfeeling very glad that it was over at last: â\\x80\\x9cand I do so like that\\r\\ncurious song about the whiting!â\\x80\\x9d\\r\\n\\r\\nâ\\x80\\x9cOh, as to the whiting,â\\x80\\x9d said the Mock Turtle, â\\x80\\x9ctheyâ\\x80\\x94youâ\\x80\\x99ve seen them,\\r\\nof course?â\\x80\\x9d\\r\\n\\r\\nâ\\x80\\x9cYes,â\\x80\\x9d said Alice, â\\x80\\x9cIâ\\x80\\x99ve often seen them at dinnâ\\x80\\x94â\\x80\\x9d she checked herself\\r\\nhastily.\\r\\n\\r\\nâ\\x80\\x9cI donâ\\x80\\x99t know where Dinn may be,â\\x80\\x9d said the Mock Turtle, â\\x80\\x9cbut if youâ\\x80\\x99ve\\r\\nseen them so often, of course you know what theyâ\\x80\\x99re like.â\\x80\\x9d\\r\\n\\r\\nâ\\x80\\x9cI believe so,â\\x80\\x9d Alice replied thoughtfully. â\\x80\\x9cThey have their tails in\\r\\ntheir mouthsâ\\x80\\x94and theyâ\\x80\\x99re all over crumbs.â\\x80\\x9d\\r\\n\\r\\nâ\\x80\\x9cYouâ\\x80\\x99re wrong about the crumbs,â\\x80\\x9d said the Mock Turtle: â\\x80\\x9ccrumbs would\\r\\nall wash off in the sea. But they _have_ their tails in their mouths;\\r\\nand the reason isâ\\x80\\x94â\\x80\\x9d here the Mock Turtle yawned and shut his\\r\\neyes.â\\x80\\x94â\\x80\\x9cTell her about the reason and all that,â\\x80\\x9d he said to the Gryphon.\\r\\n\\r\\nâ\\x80\\x9cThe reason is,â\\x80\\x9d said the Gryphon, â\\x80\\x9cthat they _would_ go with the\\r\\nlobsters to the dance. So they got thrown out to sea. So they had to\\r\\nfall a long way. So they got their tails fast in their mouths. So they\\r\\ncouldnâ\\x80\\x99t get them out again. Thatâ\\x80\\x99s all.â\\x80\\x9d\\r\\n\\r\\nâ\\x80\\x9cThank you,â\\x80\\x9d said Alice, â\\x80\\x9citâ\\x80\\x99s very interesting. I never knew so much\\r\\nabout a whiting before.â\\x80\\x9d\\r\\n\\r\\nâ\\x80\\x9cI can tell you more than that, if you like,â\\x80\\x9d said the Gryphon. â\\x80\\x9cDo you\\r\\nknow why itâ\\x80\\x99s called a whiting?â\\x80\\x9d\\r\\n\\r\\nâ\\x80\\x9cI never thought about it,â\\x80\\x9d said Alice. â\\x80\\x9cWhy?â\\x80\\x9d\\r\\n\\r\\nâ\\x80\\x9c_It does the boots and shoes_,â\\x80\\x9d the Gryphon replied very solemnly.\\r\\n\\r\\nAlice was thoroughly puzzled. â\\x80\\x9cDoes the boots and shoes!â\\x80\\x9d she repeated\\r\\nin a wondering tone.\\r\\n\\r\\nâ\\x80\\x9cWhy, what are _your_ shoes done with?â\\x80\\x9d said the Gryphon. â\\x80\\x9cI mean, what\\r\\nmakes them so shiny?â\\x80\\x9d\\r\\n\\r\\nAlice looked down at them, and considered a little before she gave her\\r\\nanswer. â\\x80\\x9cTheyâ\\x80\\x99re done with blacking, I believe.â\\x80\\x9d\\r\\n\\r\\nâ\\x80\\x9cBoots and shoes under the sea,â\\x80\\x9d the Gryphon went on in a deep voice,\\r\\nâ\\x80\\x9care done with a whiting. Now you know.â\\x80\\x9d\\r\\n\\r\\nâ\\x80\\x9cAnd what are they made of?â\\x80\\x9d Alice asked in a tone of great curiosity.\\r\\n\\r\\nâ\\x80\\x9cSoles and eels, of course,â\\x80\\x9d the Gryphon replied rather impatiently:\\r\\nâ\\x80\\x9cany shrimp could have told you that.â\\x80\\x9d\\r\\n\\r\\nâ\\x80\\x9cIf Iâ\\x80\\x99d been the whiting,â\\x80\\x9d said Alice, whose thoughts were still\\r\\nrunning on the song, â\\x80\\x9cIâ\\x80\\x99d have said to the porpoise, â\\x80\\x98Keep back,\\r\\nplease: we donâ\\x80\\x99t want _you_ with us!â\\x80\\x99â\\x80\\x9d\\r\\n\\r\\nâ\\x80\\x9cThey were obliged to have him with them,â\\x80\\x9d the Mock Turtle said: â\\x80\\x9cno\\r\\nwise fish would go anywhere without a porpoise.â\\x80\\x9d\\r\\n\\r\\nâ\\x80\\x9cWouldnâ\\x80\\x99t it really?â\\x80\\x9d said Alice in a tone of great surprise.\\r\\n\\r\\nâ\\x80\\x9cOf course not,â\\x80\\x9d said the Mock Turtle: â\\x80\\x9cwhy, if a fish came to _me_,\\r\\nand told me he was going a journey, I should say â\\x80\\x98With what porpoise?â\\x80\\x99â\\x80\\x9d\\r\\n\\r\\nâ\\x80\\x9cDonâ\\x80\\x99t you mean â\\x80\\x98purposeâ\\x80\\x99?â\\x80\\x9d said Alice.\\r\\n\\r\\nâ\\x80\\x9cI mean what I say,â\\x80\\x9d the Mock Turtle replied in an offended tone. And\\r\\nthe Gryphon added â\\x80\\x9cCome, letâ\\x80\\x99s hear some of _your_ adventures.â\\x80\\x9d\\r\\n\\r\\nâ\\x80\\x9cI could tell you my adventuresâ\\x80\\x94beginning from this morning,â\\x80\\x9d said\\r\\nAlice a little timidly: â\\x80\\x9cbut itâ\\x80\\x99s no use going back to yesterday,\\r\\nbecause I was a different person then.â\\x80\\x9d\\r\\n\\r\\nâ\\x80\\x9cExplain all that,â\\x80\\x9d said the Mock Turtle.\\r\\n\\r\\nâ\\x80\\x9cNo, no! The adventures first,â\\x80\\x9d said the Gryphon in an impatient tone:\\r\\nâ\\x80\\x9cexplanations take such a dreadful time.â\\x80\\x9d\\r\\n\\r\\nSo Alice began telling them her adventures from the time when she first\\r\\nsaw the White Rabbit. She was a little nervous about it just at first,\\r\\nthe two creatures got so close to her, one on each side, and opened\\r\\ntheir eyes and mouths so _very_ wide, but she gained courage as she\\r\\nwent on. Her listeners were perfectly quiet till she got to the part\\r\\nabout her repeating â\\x80\\x9c_You are old, Father William_,â\\x80\\x9d to the\\r\\nCaterpillar, and the words all coming different, and then the Mock\\r\\nTurtle drew a long breath, and said â\\x80\\x9cThatâ\\x80\\x99s very curious.â\\x80\\x9d\\r\\n\\r\\nâ\\x80\\x9cItâ\\x80\\x99s all about as curious as it can be,â\\x80\\x9d said the Gryphon.\\r\\n\\r\\nâ\\x80\\x9cIt all came different!â\\x80\\x9d the Mock Turtle repeated thoughtfully. â\\x80\\x9cI\\r\\nshould like to hear her try and repeat something now. Tell her to\\r\\nbegin.â\\x80\\x9d He looked at the Gryphon as if he thought it had some kind of\\r\\nauthority over Alice.\\r\\n\\r\\nâ\\x80\\x9cStand up and repeat â\\x80\\x98â\\x80\\x99_Tis the voice of the sluggard_,â\\x80\\x99â\\x80\\x9d said the\\r\\nGryphon.\\r\\n\\r\\nâ\\x80\\x9cHow the creatures order one about, and make one repeat lessons!â\\x80\\x9d\\r\\nthought Alice; â\\x80\\x9cI might as well be at school at once.â\\x80\\x9d However, she got\\r\\nup, and began to repeat it, but her head was so full of the Lobster\\r\\nQuadrille, that she hardly knew what she was saying, and the words came\\r\\nvery queer indeed:â\\x80\\x94\\r\\n\\r\\nâ\\x80\\x9câ\\x80\\x99Tis the voice of the Lobster; I heard him declare,\\r\\nâ\\x80\\x9cYou have baked me too brown, I must sugar my hair.â\\x80\\x9d\\r\\nAs a duck with its eyelids, so he with his nose\\r\\nTrims his belt and his buttons, and turns out his toes.â\\x80\\x9d\\r\\n\\r\\n[later editions continued as follows\\r\\nWhen the sands are all dry, he is gay as a lark,\\r\\nAnd will talk in contemptuous tones of the Shark,\\r\\nBut, when the tide rises and sharks are around,\\r\\nHis voice has a timid and tremulous sound.]\\r\\n\\r\\n\\r\\nâ\\x80\\x9cThatâ\\x80\\x99s different from what _I_ used to say when I was a child,â\\x80\\x9d said\\r\\nthe Gryphon.\\r\\n\\r\\nâ\\x80\\x9cWell, I never heard it before,â\\x80\\x9d said the Mock Turtle; â\\x80\\x9cbut it sounds\\r\\nuncommon nonsense.â\\x80\\x9d\\r\\n\\r\\nAlice said nothing; she had sat down with her face in her hands,\\r\\nwondering if anything would _ever_ happen in a natural way again.\\r\\n\\r\\nâ\\x80\\x9cI should like to have it explained,â\\x80\\x9d said the Mock Turtle.\\r\\n\\r\\nâ\\x80\\x9cShe canâ\\x80\\x99t explain it,â\\x80\\x9d said the Gryphon hastily. â\\x80\\x9cGo on with the next\\r\\nverse.â\\x80\\x9d\\r\\n\\r\\nâ\\x80\\x9cBut about his toes?â\\x80\\x9d the Mock Turtle persisted. â\\x80\\x9cHow _could_ he turn\\r\\nthem out with his nose, you know?â\\x80\\x9d\\r\\n\\r\\nâ\\x80\\x9cItâ\\x80\\x99s the first position in dancing.â\\x80\\x9d Alice said; but was dreadfully\\r\\npuzzled by the whole thing, and longed to change the subject.\\r\\n\\r\\nâ\\x80\\x9cGo on with the next verse,â\\x80\\x9d the Gryphon repeated impatiently: â\\x80\\x9cit\\r\\nbegins â\\x80\\x98_I passed by his garden_.â\\x80\\x99â\\x80\\x9d\\r\\n\\r\\nAlice did not dare to disobey, though she felt sure it would all come\\r\\nwrong, and she went on in a trembling voice:â\\x80\\x94\\r\\n\\r\\nâ\\x80\\x9cI passed by his garden, and marked, with one eye,\\r\\nHow the Owl and the Panther were sharing a pieâ\\x80\\x94â\\x80\\x9d\\r\\n\\r\\n[later editions continued as follows\\r\\nThe Panther took pie-crust, and gravy, and meat,\\r\\nWhile the Owl had the dish as its share of the treat.\\r\\nWhen the pie was all finished, the Owl, as a boon,\\r\\nWas kindly permitted to pocket the spoon:\\r\\nWhile the Panther received knife and fork with a growl,\\r\\nAnd concluded the banquetâ\\x80\\x94]\\r\\n\\r\\n\\r\\nâ\\x80\\x9cWhat _is_ the use of repeating all that stuff,â\\x80\\x9d the Mock Turtle\\r\\ninterrupted, â\\x80\\x9cif you donâ\\x80\\x99t explain it as you go on? Itâ\\x80\\x99s by far the\\r\\nmost confusing thing _I_ ever heard!â\\x80\\x9d\\r\\n\\r\\nâ\\x80\\x9cYes, I think youâ\\x80\\x99d better leave off,â\\x80\\x9d said the Gryphon: and Alice was\\r\\nonly too glad to do so.\\r\\n\\r\\nâ\\x80\\x9cShall we try another figure of the Lobster Quadrille?â\\x80\\x9d the Gryphon\\r\\nwent on. â\\x80\\x9cOr would you like the Mock Turtle to sing you a song?â\\x80\\x9d\\r\\n\\r\\nâ\\x80\\x9cOh, a song, please, if the Mock Turtle would be so kind,â\\x80\\x9d Alice\\r\\nreplied, so eagerly that the Gryphon said, in a rather offended tone,\\r\\nâ\\x80\\x9cHm! No accounting for tastes! Sing her â\\x80\\x98_Turtle Soup_,â\\x80\\x99 will you, old\\r\\nfellow?â\\x80\\x9d\\r\\n\\r\\nThe Mock Turtle sighed deeply, and began, in a voice sometimes choked\\r\\nwith sobs, to sing this:â\\x80\\x94\\r\\n\\r\\nâ\\x80\\x9cBeautiful Soup, so rich and green,\\r\\nWaiting in a hot tureen!\\r\\nWho for such dainties would not stoop?\\r\\nSoup of the evening, beautiful Soup!\\r\\nSoup of the evening, beautiful Soup!\\r\\n    Beauâ\\x80\\x94ootiful Sooâ\\x80\\x94oop!\\r\\n    Beauâ\\x80\\x94ootiful Sooâ\\x80\\x94oop!\\r\\nSooâ\\x80\\x94oop of the eâ\\x80\\x94eâ\\x80\\x94evening,\\r\\n    Beautiful, beautiful Soup!\\r\\n\\r\\nâ\\x80\\x9cBeautiful Soup! Who cares for fish,\\r\\nGame, or any other dish?\\r\\nWho would not give all else for two p\\r\\nennyworth only of beautiful Soup?\\r\\nPennyworth only of beautiful Soup?\\r\\n    Beauâ\\x80\\x94ootiful Sooâ\\x80\\x94oop!\\r\\n    Beauâ\\x80\\x94ootiful Sooâ\\x80\\x94oop!\\r\\nSooâ\\x80\\x94oop of the eâ\\x80\\x94eâ\\x80\\x94evening,\\r\\n    Beautiful, beautiâ\\x80\\x94FUL SOUP!â\\x80\\x9d\\r\\n\\r\\n\\r\\nâ\\x80\\x9cChorus again!â\\x80\\x9d cried the Gryphon, and the Mock Turtle had just begun\\r\\nto repeat it, when a cry of â\\x80\\x9cThe trialâ\\x80\\x99s beginning!â\\x80\\x9d was heard in the\\r\\ndistance.\\r\\n\\r\\nâ\\x80\\x9cCome on!â\\x80\\x9d cried the Gryphon, and, taking Alice by the hand, it hurried\\r\\noff, without waiting for the end of the song.\\r\\n\\r\\nâ\\x80\\x9cWhat trial is it?â\\x80\\x9d Alice panted as she ran; but the Gryphon only\\r\\nanswered â\\x80\\x9cCome on!â\\x80\\x9d and ran the faster, while more and more faintly\\r\\ncame, carried on the breeze that followed them, the melancholy words:â\\x80\\x94\\r\\n\\r\\nâ\\x80\\x9cSooâ\\x80\\x94oop of the eâ\\x80\\x94eâ\\x80\\x94evening,\\r\\n    Beautiful, beautiful Soup!â\\x80\\x9d\\r\\n\\r\\n\\r\\n\\r\\n\\r\\nCHAPTER XI.\\r\\nWho Stole the Tarts?\\r\\n\\r\\n\\r\\nThe King and Queen of Hearts were seated on their throne when they\\r\\narrived, with a great crowd assembled about themâ\\x80\\x94all sorts of little\\r\\nbirds and beasts, as well as the whole pack of cards: the Knave was\\r\\nstanding before them, in chains, with a soldier on each side to guard\\r\\nhim; and near the King was the White Rabbit, with a trumpet in one\\r\\nhand, and a scroll of parchment in the other. In the very middle of the\\r\\ncourt was a table, with a large dish of tarts upon it: they looked so\\r\\ngood, that it made Alice quite hungry to look at themâ\\x80\\x94â\\x80\\x9cI wish theyâ\\x80\\x99d\\r\\nget the trial done,â\\x80\\x9d she thought, â\\x80\\x9cand hand round the refreshments!â\\x80\\x9d\\r\\nBut there seemed to be no chance of this, so she began looking at\\r\\neverything about her, to pass away the time.\\r\\n\\r\\nAlice had never been in a court of justice before, but she had read\\r\\nabout them in books, and she was quite pleased to find that she knew\\r\\nthe name of nearly everything there. â\\x80\\x9cThatâ\\x80\\x99s the judge,â\\x80\\x9d she said to\\r\\nherself, â\\x80\\x9cbecause of his great wig.â\\x80\\x9d\\r\\n\\r\\nThe judge, by the way, was the King; and as he wore his crown over the\\r\\nwig, (look at the frontispiece if you want to see how he did it,) he\\r\\ndid not look at all comfortable, and it was certainly not becoming.\\r\\n\\r\\nâ\\x80\\x9cAnd thatâ\\x80\\x99s the jury-box,â\\x80\\x9d thought Alice, â\\x80\\x9cand those twelve creatures,â\\x80\\x9d\\r\\n(she was obliged to say â\\x80\\x9ccreatures,â\\x80\\x9d you see, because some of them were\\r\\nanimals, and some were birds,) â\\x80\\x9cI suppose they are the jurors.â\\x80\\x9d She\\r\\nsaid this last word two or three times over to herself, being rather\\r\\nproud of it: for she thought, and rightly too, that very few little\\r\\ngirls of her age knew the meaning of it at all. However, â\\x80\\x9cjury-menâ\\x80\\x9d\\r\\nwould have done just as well.\\r\\n\\r\\nThe twelve jurors were all writing very busily on slates. â\\x80\\x9cWhat are\\r\\nthey doing?â\\x80\\x9d Alice whispered to the Gryphon. â\\x80\\x9cThey canâ\\x80\\x99t have anything\\r\\nto put down yet, before the trialâ\\x80\\x99s begun.â\\x80\\x9d\\r\\n\\r\\nâ\\x80\\x9cTheyâ\\x80\\x99re putting down their names,â\\x80\\x9d the Gryphon whispered in reply,\\r\\nâ\\x80\\x9cfor fear they should forget them before the end of the trial.â\\x80\\x9d\\r\\n\\r\\nâ\\x80\\x9cStupid things!â\\x80\\x9d Alice began in a loud, indignant voice, but she\\r\\nstopped hastily, for the White Rabbit cried out, â\\x80\\x9cSilence in the\\r\\ncourt!â\\x80\\x9d and the King put on his spectacles and looked anxiously round,\\r\\nto make out who was talking.\\r\\n\\r\\nAlice could see, as well as if she were looking over their shoulders,\\r\\nthat all the jurors were writing down â\\x80\\x9cstupid things!â\\x80\\x9d on their slates,\\r\\nand she could even make out that one of them didnâ\\x80\\x99t know how to spell\\r\\nâ\\x80\\x9cstupid,â\\x80\\x9d and that he had to ask his neighbour to tell him. â\\x80\\x9cA nice\\r\\nmuddle their slatesâ\\x80\\x99ll be in before the trialâ\\x80\\x99s over!â\\x80\\x9d thought Alice.\\r\\n\\r\\nOne of the jurors had a pencil that squeaked. This of course, Alice\\r\\ncould _not_ stand, and she went round the court and got behind him, and\\r\\nvery soon found an opportunity of taking it away. She did it so quickly\\r\\nthat the poor little juror (it was Bill, the Lizard) could not make out\\r\\nat all what had become of it; so, after hunting all about for it, he\\r\\nwas obliged to write with one finger for the rest of the day; and this\\r\\nwas of very little use, as it left no mark on the slate.\\r\\n\\r\\nâ\\x80\\x9cHerald, read the accusation!â\\x80\\x9d said the King.\\r\\n\\r\\nOn this the White Rabbit blew three blasts on the trumpet, and then\\r\\nunrolled the parchment scroll, and read as follows:â\\x80\\x94\\r\\n\\r\\nâ\\x80\\x9cThe Queen of Hearts, she made some tarts,\\r\\n    All on a summer day:\\r\\nThe Knave of Hearts, he stole those tarts,\\r\\n    And took them quite away!â\\x80\\x9d\\r\\n\\r\\n\\r\\nâ\\x80\\x9cConsider your verdict,â\\x80\\x9d the King said to the jury.\\r\\n\\r\\nâ\\x80\\x9cNot yet, not yet!â\\x80\\x9d the Rabbit hastily interrupted. â\\x80\\x9cThereâ\\x80\\x99s a great\\r\\ndeal to come before that!â\\x80\\x9d\\r\\n\\r\\nâ\\x80\\x9cCall the first witness,â\\x80\\x9d said the King; and the White Rabbit blew\\r\\nthree blasts on the trumpet, and called out, â\\x80\\x9cFirst witness!â\\x80\\x9d\\r\\n\\r\\nThe first witness was the Hatter. He came in with a teacup in one hand\\r\\nand a piece of bread-and-butter in the other. â\\x80\\x9cI beg pardon, your\\r\\nMajesty,â\\x80\\x9d he began, â\\x80\\x9cfor bringing these in: but I hadnâ\\x80\\x99t quite finished\\r\\nmy tea when I was sent for.â\\x80\\x9d\\r\\n\\r\\nâ\\x80\\x9cYou ought to have finished,â\\x80\\x9d said the King. â\\x80\\x9cWhen did you begin?â\\x80\\x9d\\r\\n\\r\\nThe Hatter looked at the March Hare, who had followed him into the\\r\\ncourt, arm-in-arm with the Dormouse. â\\x80\\x9cFourteenth of March, I _think_ it\\r\\nwas,â\\x80\\x9d he said.\\r\\n\\r\\nâ\\x80\\x9cFifteenth,â\\x80\\x9d said the March Hare.\\r\\n\\r\\nâ\\x80\\x9cSixteenth,â\\x80\\x9d added the Dormouse.\\r\\n\\r\\nâ\\x80\\x9cWrite that down,â\\x80\\x9d the King said to the jury, and the jury eagerly\\r\\nwrote down all three dates on their slates, and then added them up, and\\r\\nreduced the answer to shillings and pence.\\r\\n\\r\\nâ\\x80\\x9cTake off your hat,â\\x80\\x9d the King said to the Hatter.\\r\\n\\r\\nâ\\x80\\x9cIt isnâ\\x80\\x99t mine,â\\x80\\x9d said the Hatter.\\r\\n\\r\\nâ\\x80\\x9c_Stolen!_â\\x80\\x9d the King exclaimed, turning to the jury, who instantly made\\r\\na memorandum of the fact.\\r\\n\\r\\nâ\\x80\\x9cI keep them to sell,â\\x80\\x9d the Hatter added as an explanation; â\\x80\\x9cIâ\\x80\\x99ve none\\r\\nof my own. Iâ\\x80\\x99m a hatter.â\\x80\\x9d\\r\\n\\r\\nHere the Queen put on her spectacles, and began staring at the Hatter,\\r\\nwho turned pale and fidgeted.\\r\\n\\r\\nâ\\x80\\x9cGive your evidence,â\\x80\\x9d said the King; â\\x80\\x9cand donâ\\x80\\x99t be nervous, or Iâ\\x80\\x99ll\\r\\nhave you executed on the spot.â\\x80\\x9d\\r\\n\\r\\nThis did not seem to encourage the witness at all: he kept shifting\\r\\nfrom one foot to the other, looking uneasily at the Queen, and in his\\r\\nconfusion he bit a large piece out of his teacup instead of the\\r\\nbread-and-butter.\\r\\n\\r\\nJust at this moment Alice felt a very curious sensation, which puzzled\\r\\nher a good deal until she made out what it was: she was beginning to\\r\\ngrow larger again, and she thought at first she would get up and leave\\r\\nthe court; but on second thoughts she decided to remain where she was\\r\\nas long as there was room for her.\\r\\n\\r\\nâ\\x80\\x9cI wish you wouldnâ\\x80\\x99t squeeze so.â\\x80\\x9d said the Dormouse, who was sitting\\r\\nnext to her. â\\x80\\x9cI can hardly breathe.â\\x80\\x9d\\r\\n\\r\\nâ\\x80\\x9cI canâ\\x80\\x99t help it,â\\x80\\x9d said Alice very meekly: â\\x80\\x9cIâ\\x80\\x99m growing.â\\x80\\x9d\\r\\n\\r\\nâ\\x80\\x9cYouâ\\x80\\x99ve no right to grow _here_,â\\x80\\x9d said the Dormouse.\\r\\n\\r\\nâ\\x80\\x9cDonâ\\x80\\x99t talk nonsense,â\\x80\\x9d said Alice more boldly: â\\x80\\x9cyou know youâ\\x80\\x99re growing\\r\\ntoo.â\\x80\\x9d\\r\\n\\r\\nâ\\x80\\x9cYes, but _I_ grow at a reasonable pace,â\\x80\\x9d said the Dormouse: â\\x80\\x9cnot in\\r\\nthat ridiculous fashion.â\\x80\\x9d And he got up very sulkily and crossed over\\r\\nto the other side of the court.\\r\\n\\r\\nAll this time the Queen had never left off staring at the Hatter, and,\\r\\njust as the Dormouse crossed the court, she said to one of the officers\\r\\nof the court, â\\x80\\x9cBring me the list of the singers in the last concert!â\\x80\\x9d\\r\\non which the wretched Hatter trembled so, that he shook both his shoes\\r\\noff.\\r\\n\\r\\nâ\\x80\\x9cGive your evidence,â\\x80\\x9d the King repeated angrily, â\\x80\\x9cor Iâ\\x80\\x99ll have you\\r\\nexecuted, whether youâ\\x80\\x99re nervous or not.â\\x80\\x9d\\r\\n\\r\\nâ\\x80\\x9cIâ\\x80\\x99m a poor man, your Majesty,â\\x80\\x9d the Hatter began, in a trembling voice,\\r\\nâ\\x80\\x9câ\\x80\\x94and I hadnâ\\x80\\x99t begun my teaâ\\x80\\x94not above a week or soâ\\x80\\x94and what with the\\r\\nbread-and-butter getting so thinâ\\x80\\x94and the twinkling of the teaâ\\x80\\x94â\\x80\\x9d\\r\\n\\r\\nâ\\x80\\x9cThe twinkling of the _what?_â\\x80\\x9d said the King.\\r\\n\\r\\nâ\\x80\\x9cIt _began_ with the tea,â\\x80\\x9d the Hatter replied.\\r\\n\\r\\nâ\\x80\\x9cOf course twinkling begins with a T!â\\x80\\x9d said the King sharply. â\\x80\\x9cDo you\\r\\ntake me for a dunce? Go on!â\\x80\\x9d\\r\\n\\r\\nâ\\x80\\x9cIâ\\x80\\x99m a poor man,â\\x80\\x9d the Hatter went on, â\\x80\\x9cand most things twinkled after\\r\\nthatâ\\x80\\x94only the March Hare saidâ\\x80\\x94â\\x80\\x9d\\r\\n\\r\\nâ\\x80\\x9cI didnâ\\x80\\x99t!â\\x80\\x9d the March Hare interrupted in a great hurry.\\r\\n\\r\\nâ\\x80\\x9cYou did!â\\x80\\x9d said the Hatter.\\r\\n\\r\\nâ\\x80\\x9cI deny it!â\\x80\\x9d said the March Hare.\\r\\n\\r\\nâ\\x80\\x9cHe denies it,â\\x80\\x9d said the King: â\\x80\\x9cleave out that part.â\\x80\\x9d\\r\\n\\r\\nâ\\x80\\x9cWell, at any rate, the Dormouse saidâ\\x80\\x94â\\x80\\x9d the Hatter went on, looking\\r\\nanxiously round to see if he would deny it too: but the Dormouse denied\\r\\nnothing, being fast asleep.\\r\\n\\r\\nâ\\x80\\x9cAfter that,â\\x80\\x9d continued the Hatter, â\\x80\\x9cI cut some more bread-and-butterâ\\x80\\x94â\\x80\\x9d\\r\\n\\r\\nâ\\x80\\x9cBut what did the Dormouse say?â\\x80\\x9d one of the jury asked.\\r\\n\\r\\nâ\\x80\\x9cThat I canâ\\x80\\x99t remember,â\\x80\\x9d said the Hatter.\\r\\n\\r\\nâ\\x80\\x9cYou _must_ remember,â\\x80\\x9d remarked the King, â\\x80\\x9cor Iâ\\x80\\x99ll have you executed.â\\x80\\x9d\\r\\n\\r\\nThe miserable Hatter dropped his teacup and bread-and-butter, and went\\r\\ndown on one knee. â\\x80\\x9cIâ\\x80\\x99m a poor man, your Majesty,â\\x80\\x9d he began.\\r\\n\\r\\nâ\\x80\\x9cYouâ\\x80\\x99re a _very_ poor _speaker_,â\\x80\\x9d said the King.\\r\\n\\r\\nHere one of the guinea-pigs cheered, and was immediately suppressed by\\r\\nthe officers of the court. (As that is rather a hard word, I will just\\r\\nexplain to you how it was done. They had a large canvas bag, which tied\\r\\nup at the mouth with strings: into this they slipped the guinea-pig,\\r\\nhead first, and then sat upon it.)\\r\\n\\r\\nâ\\x80\\x9cIâ\\x80\\x99m glad Iâ\\x80\\x99ve seen that done,â\\x80\\x9d thought Alice. â\\x80\\x9cIâ\\x80\\x99ve so often read in\\r\\nthe newspapers, at the end of trials, â\\x80\\x9cThere was some attempts at\\r\\napplause, which was immediately suppressed by the officers of the\\r\\ncourt,â\\x80\\x9d and I never understood what it meant till now.â\\x80\\x9d\\r\\n\\r\\nâ\\x80\\x9cIf thatâ\\x80\\x99s all you know about it, you may stand down,â\\x80\\x9d continued the\\r\\nKing.\\r\\n\\r\\nâ\\x80\\x9cI canâ\\x80\\x99t go no lower,â\\x80\\x9d said the Hatter: â\\x80\\x9cIâ\\x80\\x99m on the floor, as it is.â\\x80\\x9d\\r\\n\\r\\nâ\\x80\\x9cThen you may _sit_ down,â\\x80\\x9d the King replied.\\r\\n\\r\\nHere the other guinea-pig cheered, and was suppressed.\\r\\n\\r\\nâ\\x80\\x9cCome, that finished the guinea-pigs!â\\x80\\x9d thought Alice. â\\x80\\x9cNow we shall get\\r\\non better.â\\x80\\x9d\\r\\n\\r\\nâ\\x80\\x9cIâ\\x80\\x99d rather finish my tea,â\\x80\\x9d said the Hatter, with an anxious look at\\r\\nthe Queen, who was reading the list of singers.\\r\\n\\r\\nâ\\x80\\x9cYou may go,â\\x80\\x9d said the King, and the Hatter hurriedly left the court,\\r\\nwithout even waiting to put his shoes on.\\r\\n\\r\\nâ\\x80\\x9câ\\x80\\x94and just take his head off outside,â\\x80\\x9d the Queen added to one of the\\r\\nofficers: but the Hatter was out of sight before the officer could get\\r\\nto the door.\\r\\n\\r\\nâ\\x80\\x9cCall the next witness!â\\x80\\x9d said the King.\\r\\n\\r\\nThe next witness was the Duchessâ\\x80\\x99s cook. She carried the pepper-box in\\r\\nher hand, and Alice guessed who it was, even before she got into the\\r\\ncourt, by the way the people near the door began sneezing all at once.\\r\\n\\r\\nâ\\x80\\x9cGive your evidence,â\\x80\\x9d said the King.\\r\\n\\r\\nâ\\x80\\x9cShanâ\\x80\\x99t,â\\x80\\x9d said the cook.\\r\\n\\r\\nThe King looked anxiously at the White Rabbit, who said in a low voice,\\r\\nâ\\x80\\x9cYour Majesty must cross-examine _this_ witness.â\\x80\\x9d\\r\\n\\r\\nâ\\x80\\x9cWell, if I must, I must,â\\x80\\x9d the King said, with a melancholy air, and,\\r\\nafter folding his arms and frowning at the cook till his eyes were\\r\\nnearly out of sight, he said in a deep voice, â\\x80\\x9cWhat are tarts made of?â\\x80\\x9d\\r\\n\\r\\nâ\\x80\\x9cPepper, mostly,â\\x80\\x9d said the cook.\\r\\n\\r\\nâ\\x80\\x9cTreacle,â\\x80\\x9d said a sleepy voice behind her.\\r\\n\\r\\nâ\\x80\\x9cCollar that Dormouse,â\\x80\\x9d the Queen shrieked out. â\\x80\\x9cBehead that Dormouse!\\r\\nTurn that Dormouse out of court! Suppress him! Pinch him! Off with his\\r\\nwhiskers!â\\x80\\x9d\\r\\n\\r\\nFor some minutes the whole court was in confusion, getting the Dormouse\\r\\nturned out, and, by the time they had settled down again, the cook had\\r\\ndisappeared.\\r\\n\\r\\nâ\\x80\\x9cNever mind!â\\x80\\x9d said the King, with an air of great relief. â\\x80\\x9cCall the\\r\\nnext witness.â\\x80\\x9d And he added in an undertone to the Queen, â\\x80\\x9cReally, my\\r\\ndear, _you_ must cross-examine the next witness. It quite makes my\\r\\nforehead ache!â\\x80\\x9d\\r\\n\\r\\nAlice watched the White Rabbit as he fumbled over the list, feeling\\r\\nvery curious to see what the next witness would be like, â\\x80\\x9câ\\x80\\x94for they\\r\\nhavenâ\\x80\\x99t got much evidence _yet_,â\\x80\\x9d she said to herself. Imagine her\\r\\nsurprise, when the White Rabbit read out, at the top of his shrill\\r\\nlittle voice, the name â\\x80\\x9cAlice!â\\x80\\x9d\\r\\n\\r\\n\\r\\n\\r\\n\\r\\nCHAPTER XII.\\r\\nAliceâ\\x80\\x99s Evidence\\r\\n\\r\\n\\r\\nâ\\x80\\x9cHere!â\\x80\\x9d cried Alice, quite forgetting in the flurry of the moment how\\r\\nlarge she had grown in the last few minutes, and she jumped up in such\\r\\na hurry that she tipped over the jury-box with the edge of her skirt,\\r\\nupsetting all the jurymen on to the heads of the crowd below, and there\\r\\nthey lay sprawling about, reminding her very much of a globe of\\r\\ngoldfish she had accidentally upset the week before.\\r\\n\\r\\nâ\\x80\\x9cOh, I _beg_ your pardon!â\\x80\\x9d she exclaimed in a tone of great dismay, and\\r\\nbegan picking them up again as quickly as she could, for the accident\\r\\nof the goldfish kept running in her head, and she had a vague sort of\\r\\nidea that they must be collected at once and put back into the\\r\\njury-box, or they would die.\\r\\n\\r\\nâ\\x80\\x9cThe trial cannot proceed,â\\x80\\x9d said the King in a very grave voice, â\\x80\\x9cuntil\\r\\nall the jurymen are back in their proper placesâ\\x80\\x94_all_,â\\x80\\x9d he repeated\\r\\nwith great emphasis, looking hard at Alice as he said so.\\r\\n\\r\\nAlice looked at the jury-box, and saw that, in her haste, she had put\\r\\nthe Lizard in head downwards, and the poor little thing was waving its\\r\\ntail about in a melancholy way, being quite unable to move. She soon\\r\\ngot it out again, and put it right; â\\x80\\x9cnot that it signifies much,â\\x80\\x9d she\\r\\nsaid to herself; â\\x80\\x9cI should think it would be _quite_ as much use in the\\r\\ntrial one way up as the other.â\\x80\\x9d\\r\\n\\r\\nAs soon as the jury had a little recovered from the shock of being\\r\\nupset, and their slates and pencils had been found and handed back to\\r\\nthem, they set to work very diligently to write out a history of the\\r\\naccident, all except the Lizard, who seemed too much overcome to do\\r\\nanything but sit with its mouth open, gazing up into the roof of the\\r\\ncourt.\\r\\n\\r\\nâ\\x80\\x9cWhat do you know about this business?â\\x80\\x9d the King said to Alice.\\r\\n\\r\\nâ\\x80\\x9cNothing,â\\x80\\x9d said Alice.\\r\\n\\r\\nâ\\x80\\x9cNothing _whatever?_â\\x80\\x9d persisted the King.\\r\\n\\r\\nâ\\x80\\x9cNothing whatever,â\\x80\\x9d said Alice.\\r\\n\\r\\nâ\\x80\\x9cThatâ\\x80\\x99s very important,â\\x80\\x9d the King said, turning to the jury. They were\\r\\njust beginning to write this down on their slates, when the White\\r\\nRabbit interrupted: â\\x80\\x9c_Un_important, your Majesty means, of course,â\\x80\\x9d he\\r\\nsaid in a very respectful tone, but frowning and making faces at him as\\r\\nhe spoke.\\r\\n\\r\\nâ\\x80\\x9c_Un_important, of course, I meant,â\\x80\\x9d the King hastily said, and went on\\r\\nto himself in an undertone,\\r\\n\\r\\nâ\\x80\\x9cimportantâ\\x80\\x94unimportantâ\\x80\\x94unimportantâ\\x80\\x94importantâ\\x80\\x94â\\x80\\x9d as if he were trying\\r\\nwhich word sounded best.\\r\\n\\r\\nSome of the jury wrote it down â\\x80\\x9cimportant,â\\x80\\x9d and some â\\x80\\x9cunimportant.â\\x80\\x9d\\r\\nAlice could see this, as she was near enough to look over their slates;\\r\\nâ\\x80\\x9cbut it doesnâ\\x80\\x99t matter a bit,â\\x80\\x9d she thought to herself.\\r\\n\\r\\nAt this moment the King, who had been for some time busily writing in\\r\\nhis note-book, cackled out â\\x80\\x9cSilence!â\\x80\\x9d and read out from his book, â\\x80\\x9cRule\\r\\nForty-two. _All persons more than a mile high to leave the court_.â\\x80\\x9d\\r\\n\\r\\nEverybody looked at Alice.\\r\\n\\r\\nâ\\x80\\x9c_Iâ\\x80\\x99m_ not a mile high,â\\x80\\x9d said Alice.\\r\\n\\r\\nâ\\x80\\x9cYou are,â\\x80\\x9d said the King.\\r\\n\\r\\nâ\\x80\\x9cNearly two miles high,â\\x80\\x9d added the Queen.\\r\\n\\r\\nâ\\x80\\x9cWell, I shanâ\\x80\\x99t go, at any rate,â\\x80\\x9d said Alice: â\\x80\\x9cbesides, thatâ\\x80\\x99s not a\\r\\nregular rule: you invented it just now.â\\x80\\x9d\\r\\n\\r\\nâ\\x80\\x9cItâ\\x80\\x99s the oldest rule in the book,â\\x80\\x9d said the King.\\r\\n\\r\\nâ\\x80\\x9cThen it ought to be Number One,â\\x80\\x9d said Alice.\\r\\n\\r\\nThe King turned pale, and shut his note-book hastily. â\\x80\\x9cConsider your\\r\\nverdict,â\\x80\\x9d he said to the jury, in a low, trembling voice.\\r\\n\\r\\nâ\\x80\\x9cThereâ\\x80\\x99s more evidence to come yet, please your Majesty,â\\x80\\x9d said the\\r\\nWhite Rabbit, jumping up in a great hurry; â\\x80\\x9cthis paper has just been\\r\\npicked up.â\\x80\\x9d\\r\\n\\r\\nâ\\x80\\x9cWhatâ\\x80\\x99s in it?â\\x80\\x9d said the Queen.\\r\\n\\r\\nâ\\x80\\x9cI havenâ\\x80\\x99t opened it yet,â\\x80\\x9d said the White Rabbit, â\\x80\\x9cbut it seems to be a\\r\\nletter, written by the prisoner toâ\\x80\\x94to somebody.â\\x80\\x9d\\r\\n\\r\\nâ\\x80\\x9cIt must have been that,â\\x80\\x9d said the King, â\\x80\\x9cunless it was written to\\r\\nnobody, which isnâ\\x80\\x99t usual, you know.â\\x80\\x9d\\r\\n\\r\\nâ\\x80\\x9cWho is it directed to?â\\x80\\x9d said one of the jurymen.\\r\\n\\r\\nâ\\x80\\x9cIt isnâ\\x80\\x99t directed at all,â\\x80\\x9d said the White Rabbit; â\\x80\\x9cin fact, thereâ\\x80\\x99s\\r\\nnothing written on the _outside_.â\\x80\\x9d He unfolded the paper as he spoke,\\r\\nand added â\\x80\\x9cIt isnâ\\x80\\x99t a letter, after all: itâ\\x80\\x99s a set of verses.â\\x80\\x9d\\r\\n\\r\\nâ\\x80\\x9cAre they in the prisonerâ\\x80\\x99s handwriting?â\\x80\\x9d asked another of the jurymen.\\r\\n\\r\\nâ\\x80\\x9cNo, theyâ\\x80\\x99re not,â\\x80\\x9d said the White Rabbit, â\\x80\\x9cand thatâ\\x80\\x99s the queerest\\r\\nthing about it.â\\x80\\x9d (The jury all looked puzzled.)\\r\\n\\r\\nâ\\x80\\x9cHe must have imitated somebody elseâ\\x80\\x99s hand,â\\x80\\x9d said the King. (The jury\\r\\nall brightened up again.)\\r\\n\\r\\nâ\\x80\\x9cPlease your Majesty,â\\x80\\x9d said the Knave, â\\x80\\x9cI didnâ\\x80\\x99t write it, and they\\r\\ncanâ\\x80\\x99t prove I did: thereâ\\x80\\x99s no name signed at the end.â\\x80\\x9d\\r\\n\\r\\nâ\\x80\\x9cIf you didnâ\\x80\\x99t sign it,â\\x80\\x9d said the King, â\\x80\\x9cthat only makes the matter\\r\\nworse. You _must_ have meant some mischief, or else youâ\\x80\\x99d have signed\\r\\nyour name like an honest man.â\\x80\\x9d\\r\\n\\r\\nThere was a general clapping of hands at this: it was the first really\\r\\nclever thing the King had said that day.\\r\\n\\r\\nâ\\x80\\x9cThat _proves_ his guilt,â\\x80\\x9d said the Queen.\\r\\n\\r\\nâ\\x80\\x9cIt proves nothing of the sort!â\\x80\\x9d said Alice. â\\x80\\x9cWhy, you donâ\\x80\\x99t even know\\r\\nwhat theyâ\\x80\\x99re about!â\\x80\\x9d\\r\\n\\r\\nâ\\x80\\x9cRead them,â\\x80\\x9d said the King.\\r\\n\\r\\nThe White Rabbit put on his spectacles. â\\x80\\x9cWhere shall I begin, please\\r\\nyour Majesty?â\\x80\\x9d he asked.\\r\\n\\r\\nâ\\x80\\x9cBegin at the beginning,â\\x80\\x9d the King said gravely, â\\x80\\x9cand go on till you\\r\\ncome to the end: then stop.â\\x80\\x9d\\r\\n\\r\\nThese were the verses the White Rabbit read:â\\x80\\x94\\r\\n\\r\\nâ\\x80\\x9cThey told me you had been to her,\\r\\n    And mentioned me to him:\\r\\nShe gave me a good character,\\r\\n    But said I could not swim.\\r\\n\\r\\nHe sent them word I had not gone\\r\\n    (We know it to be true):\\r\\nIf she should push the matter on,\\r\\n    What would become of you?\\r\\n\\r\\nI gave her one, they gave him two,\\r\\n    You gave us three or more;\\r\\nThey all returned from him to you,\\r\\n    Though they were mine before.\\r\\n\\r\\nIf I or she should chance to be\\r\\n    Involved in this affair,\\r\\nHe trusts to you to set them free,\\r\\n    Exactly as we were.\\r\\n\\r\\nMy notion was that you had been\\r\\n    (Before she had this fit)\\r\\nAn obstacle that came between\\r\\n    Him, and ourselves, and it.\\r\\n\\r\\nDonâ\\x80\\x99t let him know she liked them best,\\r\\n    For this must ever be\\r\\nA secret, kept from all the rest,\\r\\n    Between yourself and me.â\\x80\\x9d\\r\\n\\r\\n\\r\\nâ\\x80\\x9cThatâ\\x80\\x99s the most important piece of evidence weâ\\x80\\x99ve heard yet,â\\x80\\x9d said the\\r\\nKing, rubbing his hands; â\\x80\\x9cso now let the juryâ\\x80\\x94â\\x80\\x9d\\r\\n\\r\\nâ\\x80\\x9cIf any one of them can explain it,â\\x80\\x9d said Alice, (she had grown so\\r\\nlarge in the last few minutes that she wasnâ\\x80\\x99t a bit afraid of\\r\\ninterrupting him,) â\\x80\\x9cIâ\\x80\\x99ll give him sixpence. _I_ donâ\\x80\\x99t believe thereâ\\x80\\x99s\\r\\nan atom of meaning in it.â\\x80\\x9d\\r\\n\\r\\nThe jury all wrote down on their slates, â\\x80\\x9c_She_ doesnâ\\x80\\x99t believe thereâ\\x80\\x99s\\r\\nan atom of meaning in it,â\\x80\\x9d but none of them attempted to explain the\\r\\npaper.\\r\\n\\r\\nâ\\x80\\x9cIf thereâ\\x80\\x99s no meaning in it,â\\x80\\x9d said the King, â\\x80\\x9cthat saves a world of\\r\\ntrouble, you know, as we neednâ\\x80\\x99t try to find any. And yet I donâ\\x80\\x99t\\r\\nknow,â\\x80\\x9d he went on, spreading out the verses on his knee, and looking at\\r\\nthem with one eye; â\\x80\\x9cI seem to see some meaning in them, after all.\\r\\nâ\\x80\\x9câ\\x80\\x94_said I could not swim_â\\x80\\x94â\\x80\\x9d you canâ\\x80\\x99t swim, can you?â\\x80\\x9d he added, turning\\r\\nto the Knave.\\r\\n\\r\\nThe Knave shook his head sadly. â\\x80\\x9cDo I look like it?â\\x80\\x9d he said. (Which he\\r\\ncertainly did _not_, being made entirely of cardboard.)\\r\\n\\r\\nâ\\x80\\x9cAll right, so far,â\\x80\\x9d said the King, and he went on muttering over the\\r\\nverses to himself: â\\x80\\x9câ\\x80\\x98_We know it to be true_â\\x80\\x94â\\x80\\x99 thatâ\\x80\\x99s the jury, of\\r\\ncourseâ\\x80\\x94â\\x80\\x98_I gave her one, they gave him two_â\\x80\\x94â\\x80\\x99 why, that must be what he\\r\\ndid with the tarts, you knowâ\\x80\\x94â\\x80\\x9d\\r\\n\\r\\nâ\\x80\\x9cBut, it goes on â\\x80\\x98_they all returned from him to you_,â\\x80\\x99â\\x80\\x9d said Alice.\\r\\n\\r\\nâ\\x80\\x9cWhy, there they are!â\\x80\\x9d said the King triumphantly, pointing to the\\r\\ntarts on the table. â\\x80\\x9cNothing can be clearer than _that_. Then\\r\\nagainâ\\x80\\x94â\\x80\\x98_before she had this fit_â\\x80\\x94â\\x80\\x99 you never had fits, my dear, I\\r\\nthink?â\\x80\\x9d he said to the Queen.\\r\\n\\r\\nâ\\x80\\x9cNever!â\\x80\\x9d said the Queen furiously, throwing an inkstand at the Lizard\\r\\nas she spoke. (The unfortunate little Bill had left off writing on his\\r\\nslate with one finger, as he found it made no mark; but he now hastily\\r\\nbegan again, using the ink, that was trickling down his face, as long\\r\\nas it lasted.)\\r\\n\\r\\nâ\\x80\\x9cThen the words donâ\\x80\\x99t _fit_ you,â\\x80\\x9d said the King, looking round the\\r\\ncourt with a smile. There was a dead silence.\\r\\n\\r\\nâ\\x80\\x9cItâ\\x80\\x99s a pun!â\\x80\\x9d the King added in an offended tone, and everybody\\r\\nlaughed, â\\x80\\x9cLet the jury consider their verdict,â\\x80\\x9d the King said, for\\r\\nabout the twentieth time that day.\\r\\n\\r\\nâ\\x80\\x9cNo, no!â\\x80\\x9d said the Queen. â\\x80\\x9cSentence firstâ\\x80\\x94verdict afterwards.â\\x80\\x9d\\r\\n\\r\\nâ\\x80\\x9cStuff and nonsense!â\\x80\\x9d said Alice loudly. â\\x80\\x9cThe idea of having the\\r\\nsentence first!â\\x80\\x9d\\r\\n\\r\\nâ\\x80\\x9cHold your tongue!â\\x80\\x9d said the Queen, turning purple.\\r\\n\\r\\nâ\\x80\\x9cI wonâ\\x80\\x99t!â\\x80\\x9d said Alice.\\r\\n\\r\\nâ\\x80\\x9cOff with her head!â\\x80\\x9d the Queen shouted at the top of her voice. Nobody\\r\\nmoved.\\r\\n\\r\\nâ\\x80\\x9cWho cares for you?â\\x80\\x9d said Alice, (she had grown to her full size by\\r\\nthis time.) â\\x80\\x9cYouâ\\x80\\x99re nothing but a pack of cards!â\\x80\\x9d\\r\\n\\r\\nAt this the whole pack rose up into the air, and came flying down upon\\r\\nher: she gave a little scream, half of fright and half of anger, and\\r\\ntried to beat them off, and found herself lying on the bank, with her\\r\\nhead in the lap of her sister, who was gently brushing away some dead\\r\\nleaves that had fluttered down from the trees upon her face.\\r\\n\\r\\nâ\\x80\\x9cWake up, Alice dear!â\\x80\\x9d said her sister; â\\x80\\x9cWhy, what a long sleep youâ\\x80\\x99ve\\r\\nhad!â\\x80\\x9d\\r\\n\\r\\nâ\\x80\\x9cOh, Iâ\\x80\\x99ve had such a curious dream!â\\x80\\x9d said Alice, and she told her\\r\\nsister, as well as she could remember them, all these strange\\r\\nAdventures of hers that you have just been reading about; and when she\\r\\nhad finished, her sister kissed her, and said, â\\x80\\x9cIt _was_ a curious\\r\\ndream, dear, certainly: but now run in to your tea; itâ\\x80\\x99s getting late.â\\x80\\x9d\\r\\nSo Alice got up and ran off, thinking while she ran, as well she might,\\r\\nwhat a wonderful dream it had been.\\r\\n\\r\\n\\r\\nBut her sister sat still just as she left her, leaning her head on her\\r\\nhand, watching the setting sun, and thinking of little Alice and all\\r\\nher wonderful Adventures, till she too began dreaming after a fashion,\\r\\nand this was her dream:â\\x80\\x94\\r\\n\\r\\nFirst, she dreamed of little Alice herself, and once again the tiny\\r\\nhands were clasped upon her knee, and the bright eager eyes were\\r\\nlooking up into hersâ\\x80\\x94she could hear the very tones of her voice, and\\r\\nsee that queer little toss of her head to keep back the wandering hair\\r\\nthat _would_ always get into her eyesâ\\x80\\x94and still as she listened, or\\r\\nseemed to listen, the whole place around her became alive with the\\r\\nstrange creatures of her little sisterâ\\x80\\x99s dream.\\r\\n\\r\\nThe long grass rustled at her feet as the White Rabbit hurried byâ\\x80\\x94the\\r\\nfrightened Mouse splashed his way through the neighbouring poolâ\\x80\\x94she\\r\\ncould hear the rattle of the teacups as the March Hare and his friends\\r\\nshared their never-ending meal, and the shrill voice of the Queen\\r\\nordering off her unfortunate guests to executionâ\\x80\\x94once more the pig-baby\\r\\nwas sneezing on the Duchessâ\\x80\\x99s knee, while plates and dishes crashed\\r\\naround itâ\\x80\\x94once more the shriek of the Gryphon, the squeaking of the\\r\\nLizardâ\\x80\\x99s slate-pencil, and the choking of the suppressed guinea-pigs,\\r\\nfilled the air, mixed up with the distant sobs of the miserable Mock\\r\\nTurtle.\\r\\n\\r\\nSo she sat on, with closed eyes, and half believed herself in\\r\\nWonderland, though she knew she had but to open them again, and all\\r\\nwould change to dull realityâ\\x80\\x94the grass would be only rustling in the\\r\\nwind, and the pool rippling to the waving of the reedsâ\\x80\\x94the rattling\\r\\nteacups would change to tinkling sheep-bells, and the Queenâ\\x80\\x99s shrill\\r\\ncries to the voice of the shepherd boyâ\\x80\\x94and the sneeze of the baby, the\\r\\nshriek of the Gryphon, and all the other queer noises, would change\\r\\n(she knew) to the confused clamour of the busy farm-yardâ\\x80\\x94while the\\r\\nlowing of the cattle in the distance would take the place of the Mock\\r\\nTurtleâ\\x80\\x99s heavy sobs.\\r\\n\\r\\nLastly, she pictured to herself how this same little sister of hers\\r\\nwould, in the after-time, be herself a grown woman; and how she would\\r\\nkeep, through all her riper years, the simple and loving heart of her\\r\\nchildhood: and how she would gather about her other little children,\\r\\nand make _their_ eyes bright and eager with many a strange tale,\\r\\nperhaps even with the dream of Wonderland of long ago: and how she\\r\\nwould feel with all their simple sorrows, and find a pleasure in all\\r\\ntheir simple joys, remembering her own child-life, and the happy summer\\r\\ndays.\\r\\n\\r\\nTHE END \\r\\n\\r\\n\\r\\n\\r\\n\\r\\n*** END OF THE PROJECT GUTENBERG EBOOK ALICEâ\\x80\\x99S ADVENTURES IN WONDERLAND ***\\r\\n\\r\\n***** This file should be named 11-0.txt or 11-0.zip *****\\r\\nThis and all associated files of various formats will be found in:\\r\\n    https://www.gutenberg.org/1/11/\\r\\n\\r\\nUpdated editions will replace the previous one--the old editions will\\r\\nbe renamed.\\r\\n\\r\\nCreating the works from print editions not protected by U.S. copyright\\r\\nlaw means that no one owns a United States copyright in these works,\\r\\nso the Foundation (and you!) can copy and distribute it in the\\r\\nUnited States without permission and without paying copyright\\r\\nroyalties. Special rules, set forth in the General Terms of Use part\\r\\nof this license, apply to copying and distributing Project\\r\\nGutenberg-tm electronic works to protect the PROJECT GUTENBERG-tm\\r\\nconcept and trademark. Project Gutenberg is a registered trademark,\\r\\nand may not be used if you charge for an eBook, except by following\\r\\nthe terms of the trademark license, including paying royalties for use\\r\\nof the Project Gutenberg trademark. If you do not charge anything for\\r\\ncopies of this eBook, complying with the trademark license is very\\r\\neasy. You may use this eBook for nearly any purpose such as creation\\r\\nof derivative works, reports, performances and research. Project\\r\\nGutenberg eBooks may be modified and printed and given away--you may\\r\\ndo practically ANYTHING in the United States with eBooks not protected\\r\\nby U.S. copyright law. Redistribution is subject to the trademark\\r\\nlicense, especially commercial redistribution.\\r\\n\\r\\nSTART: FULL LICENSE\\r\\n\\r\\nTHE FULL PROJECT GUTENBERG LICENSE\\r\\nPLEASE READ THIS BEFORE YOU DISTRIBUTE OR USE THIS WORK\\r\\n\\r\\nTo protect the Project Gutenberg-tm mission of promoting the free\\r\\ndistribution of electronic works, by using or distributing this work\\r\\n(or any other work associated in any way with the phrase \"Project\\r\\nGutenberg\"), you agree to comply with all the terms of the Full\\r\\nProject Gutenberg-tm License available with this file or online at\\r\\nwww.gutenberg.org/license.\\r\\n\\r\\nSection 1. General Terms of Use and Redistributing Project\\r\\nGutenberg-tm electronic works\\r\\n\\r\\n1.A. By reading or using any part of this Project Gutenberg-tm\\r\\nelectronic work, you indicate that you have read, understand, agree to\\r\\nand accept all the terms of this license and intellectual property\\r\\n(trademark/copyright) agreement. If you do not agree to abide by all\\r\\nthe terms of this agreement, you must cease using and return or\\r\\ndestroy all copies of Project Gutenberg-tm electronic works in your\\r\\npossession. If you paid a fee for obtaining a copy of or access to a\\r\\nProject Gutenberg-tm electronic work and you do not agree to be bound\\r\\nby the terms of this agreement, you may obtain a refund from the\\r\\nperson or entity to whom you paid the fee as set forth in paragraph\\r\\n1.E.8.\\r\\n\\r\\n1.B. \"Project Gutenberg\" is a registered trademark. It may only be\\r\\nused on or associated in any way with an electronic work by people who\\r\\nagree to be bound by the terms of this agreement. There are a few\\r\\nthings that you can do with most Project Gutenberg-tm electronic works\\r\\neven without complying with the full terms of this agreement. See\\r\\nparagraph 1.C below. There are a lot of things you can do with Project\\r\\nGutenberg-tm electronic works if you follow the terms of this\\r\\nagreement and help preserve free future access to Project Gutenberg-tm\\r\\nelectronic works. See paragraph 1.E below.\\r\\n\\r\\n1.C. The Project Gutenberg Literary Archive Foundation (\"the\\r\\nFoundation\" or PGLAF), owns a compilation copyright in the collection\\r\\nof Project Gutenberg-tm electronic works. Nearly all the individual\\r\\nworks in the collection are in the public domain in the United\\r\\nStates. If an individual work is unprotected by copyright law in the\\r\\nUnited States and you are located in the United States, we do not\\r\\nclaim a right to prevent you from copying, distributing, performing,\\r\\ndisplaying or creating derivative works based on the work as long as\\r\\nall references to Project Gutenberg are removed. Of course, we hope\\r\\nthat you will support the Project Gutenberg-tm mission of promoting\\r\\nfree access to electronic works by freely sharing Project Gutenberg-tm\\r\\nworks in compliance with the terms of this agreement for keeping the\\r\\nProject Gutenberg-tm name associated with the work. You can easily\\r\\ncomply with the terms of this agreement by keeping this work in the\\r\\nsame format with its attached full Project Gutenberg-tm License when\\r\\nyou share it without charge with others.\\r\\n\\r\\n1.D. The copyright laws of the place where you are located also govern\\r\\nwhat you can do with this work. Copyright laws in most countries are\\r\\nin a constant state of change. If you are outside the United States,\\r\\ncheck the laws of your country in addition to the terms of this\\r\\nagreement before downloading, copying, displaying, performing,\\r\\ndistributing or creating derivative works based on this work or any\\r\\nother Project Gutenberg-tm work. The Foundation makes no\\r\\nrepresentations concerning the copyright status of any work in any\\r\\ncountry other than the United States.\\r\\n\\r\\n1.E. Unless you have removed all references to Project Gutenberg:\\r\\n\\r\\n1.E.1. The following sentence, with active links to, or other\\r\\nimmediate access to, the full Project Gutenberg-tm License must appear\\r\\nprominently whenever any copy of a Project Gutenberg-tm work (any work\\r\\non which the phrase \"Project Gutenberg\" appears, or with which the\\r\\nphrase \"Project Gutenberg\" is associated) is accessed, displayed,\\r\\nperformed, viewed, copied or distributed:\\r\\n\\r\\n  This eBook is for the use of anyone anywhere in the United States and\\r\\n  most other parts of the world at no cost and with almost no\\r\\n  restrictions whatsoever. You may copy it, give it away or re-use it\\r\\n  under the terms of the Project Gutenberg License included with this\\r\\n  eBook or online at www.gutenberg.org. If you are not located in the\\r\\n  United States, you will have to check the laws of the country where\\r\\n  you are located before using this eBook.\\r\\n\\r\\n1.E.2. If an individual Project Gutenberg-tm electronic work is\\r\\nderived from texts not protected by U.S. copyright law (does not\\r\\ncontain a notice indicating that it is posted with permission of the\\r\\ncopyright holder), the work can be copied and distributed to anyone in\\r\\nthe United States without paying any fees or charges. If you are\\r\\nredistributing or providing access to a work with the phrase \"Project\\r\\nGutenberg\" associated with or appearing on the work, you must comply\\r\\neither with the requirements of paragraphs 1.E.1 through 1.E.7 or\\r\\nobtain permission for the use of the work and the Project Gutenberg-tm\\r\\ntrademark as set forth in paragraphs 1.E.8 or 1.E.9.\\r\\n\\r\\n1.E.3. If an individual Project Gutenberg-tm electronic work is posted\\r\\nwith the permission of the copyright holder, your use and distribution\\r\\nmust comply with both paragraphs 1.E.1 through 1.E.7 and any\\r\\nadditional terms imposed by the copyright holder. Additional terms\\r\\nwill be linked to the Project Gutenberg-tm License for all works\\r\\nposted with the permission of the copyright holder found at the\\r\\nbeginning of this work.\\r\\n\\r\\n1.E.4. Do not unlink or detach or remove the full Project Gutenberg-tm\\r\\nLicense terms from this work, or any files containing a part of this\\r\\nwork or any other work associated with Project Gutenberg-tm.\\r\\n\\r\\n1.E.5. Do not copy, display, perform, distribute or redistribute this\\r\\nelectronic work, or any part of this electronic work, without\\r\\nprominently displaying the sentence set forth in paragraph 1.E.1 with\\r\\nactive links or immediate access to the full terms of the Project\\r\\nGutenberg-tm License.\\r\\n\\r\\n1.E.6. You may convert to and distribute this work in any binary,\\r\\ncompressed, marked up, nonproprietary or proprietary form, including\\r\\nany word processing or hypertext form. However, if you provide access\\r\\nto or distribute copies of a Project Gutenberg-tm work in a format\\r\\nother than \"Plain Vanilla ASCII\" or other format used in the official\\r\\nversion posted on the official Project Gutenberg-tm website\\r\\n(www.gutenberg.org), you must, at no additional cost, fee or expense\\r\\nto the user, provide a copy, a means of exporting a copy, or a means\\r\\nof obtaining a copy upon request, of the work in its original \"Plain\\r\\nVanilla ASCII\" or other form. Any alternate format must include the\\r\\nfull Project Gutenberg-tm License as specified in paragraph 1.E.1.\\r\\n\\r\\n1.E.7. Do not charge a fee for access to, viewing, displaying,\\r\\nperforming, copying or distributing any Project Gutenberg-tm works\\r\\nunless you comply with paragraph 1.E.8 or 1.E.9.\\r\\n\\r\\n1.E.8. You may charge a reasonable fee for copies of or providing\\r\\naccess to or distributing Project Gutenberg-tm electronic works\\r\\nprovided that:\\r\\n\\r\\n* You pay a royalty fee of 20% of the gross profits you derive from\\r\\n  the use of Project Gutenberg-tm works calculated using the method\\r\\n  you already use to calculate your applicable taxes. The fee is owed\\r\\n  to the owner of the Project Gutenberg-tm trademark, but he has\\r\\n  agreed to donate royalties under this paragraph to the Project\\r\\n  Gutenberg Literary Archive Foundation. Royalty payments must be paid\\r\\n  within 60 days following each date on which you prepare (or are\\r\\n  legally required to prepare) your periodic tax returns. Royalty\\r\\n  payments should be clearly marked as such and sent to the Project\\r\\n  Gutenberg Literary Archive Foundation at the address specified in\\r\\n  Section 4, \"Information about donations to the Project Gutenberg\\r\\n  Literary Archive Foundation.\"\\r\\n\\r\\n* You provide a full refund of any money paid by a user who notifies\\r\\n  you in writing (or by e-mail) within 30 days of receipt that s/he\\r\\n  does not agree to the terms of the full Project Gutenberg-tm\\r\\n  License. You must require such a user to return or destroy all\\r\\n  copies of the works possessed in a physical medium and discontinue\\r\\n  all use of and all access to other copies of Project Gutenberg-tm\\r\\n  works.\\r\\n\\r\\n* You provide, in accordance with paragraph 1.F.3, a full refund of\\r\\n  any money paid for a work or a replacement copy, if a defect in the\\r\\n  electronic work is discovered and reported to you within 90 days of\\r\\n  receipt of the work.\\r\\n\\r\\n* You comply with all other terms of this agreement for free\\r\\n  distribution of Project Gutenberg-tm works.\\r\\n\\r\\n1.E.9. If you wish to charge a fee or distribute a Project\\r\\nGutenberg-tm electronic work or group of works on different terms than\\r\\nare set forth in this agreement, you must obtain permission in writing\\r\\nfrom the Project Gutenberg Literary Archive Foundation, the manager of\\r\\nthe Project Gutenberg-tm trademark. Contact the Foundation as set\\r\\nforth in Section 3 below.\\r\\n\\r\\n1.F.\\r\\n\\r\\n1.F.1. Project Gutenberg volunteers and employees expend considerable\\r\\neffort to identify, do copyright research on, transcribe and proofread\\r\\nworks not protected by U.S. copyright law in creating the Project\\r\\nGutenberg-tm collection. Despite these efforts, Project Gutenberg-tm\\r\\nelectronic works, and the medium on which they may be stored, may\\r\\ncontain \"Defects,\" such as, but not limited to, incomplete, inaccurate\\r\\nor corrupt data, transcription errors, a copyright or other\\r\\nintellectual property infringement, a defective or damaged disk or\\r\\nother medium, a computer virus, or computer codes that damage or\\r\\ncannot be read by your equipment.\\r\\n\\r\\n1.F.2. LIMITED WARRANTY, DISCLAIMER OF DAMAGES - Except for the \"Right\\r\\nof Replacement or Refund\" described in paragraph 1.F.3, the Project\\r\\nGutenberg Literary Archive Foundation, the owner of the Project\\r\\nGutenberg-tm trademark, and any other party distributing a Project\\r\\nGutenberg-tm electronic work under this agreement, disclaim all\\r\\nliability to you for damages, costs and expenses, including legal\\r\\nfees. YOU AGREE THAT YOU HAVE NO REMEDIES FOR NEGLIGENCE, STRICT\\r\\nLIABILITY, BREACH OF WARRANTY OR BREACH OF CONTRACT EXCEPT THOSE\\r\\nPROVIDED IN PARAGRAPH 1.F.3. YOU AGREE THAT THE FOUNDATION, THE\\r\\nTRADEMARK OWNER, AND ANY DISTRIBUTOR UNDER THIS AGREEMENT WILL NOT BE\\r\\nLIABLE TO YOU FOR ACTUAL, DIRECT, INDIRECT, CONSEQUENTIAL, PUNITIVE OR\\r\\nINCIDENTAL DAMAGES EVEN IF YOU GIVE NOTICE OF THE POSSIBILITY OF SUCH\\r\\nDAMAGE.\\r\\n\\r\\n1.F.3. LIMITED RIGHT OF REPLACEMENT OR REFUND - If you discover a\\r\\ndefect in this electronic work within 90 days of receiving it, you can\\r\\nreceive a refund of the money (if any) you paid for it by sending a\\r\\nwritten explanation to the person you received the work from. If you\\r\\nreceived the work on a physical medium, you must return the medium\\r\\nwith your written explanation. The person or entity that provided you\\r\\nwith the defective work may elect to provide a replacement copy in\\r\\nlieu of a refund. If you received the work electronically, the person\\r\\nor entity providing it to you may choose to give you a second\\r\\nopportunity to receive the work electronically in lieu of a refund. If\\r\\nthe second copy is also defective, you may demand a refund in writing\\r\\nwithout further opportunities to fix the problem.\\r\\n\\r\\n1.F.4. Except for the limited right of replacement or refund set forth\\r\\nin paragraph 1.F.3, this work is provided to you \\'AS-IS\\', WITH NO\\r\\nOTHER WARRANTIES OF ANY KIND, EXPRESS OR IMPLIED, INCLUDING BUT NOT\\r\\nLIMITED TO WARRANTIES OF MERCHANTABILITY OR FITNESS FOR ANY PURPOSE.\\r\\n\\r\\n1.F.5. Some states do not allow disclaimers of certain implied\\r\\nwarranties or the exclusion or limitation of certain types of\\r\\ndamages. If any disclaimer or limitation set forth in this agreement\\r\\nviolates the law of the state applicable to this agreement, the\\r\\nagreement shall be interpreted to make the maximum disclaimer or\\r\\nlimitation permitted by the applicable state law. The invalidity or\\r\\nunenforceability of any provision of this agreement shall not void the\\r\\nremaining provisions.\\r\\n\\r\\n1.F.6. INDEMNITY - You agree to indemnify and hold the Foundation, the\\r\\ntrademark owner, any agent or employee of the Foundation, anyone\\r\\nproviding copies of Project Gutenberg-tm electronic works in\\r\\naccordance with this agreement, and any volunteers associated with the\\r\\nproduction, promotion and distribution of Project Gutenberg-tm\\r\\nelectronic works, harmless from all liability, costs and expenses,\\r\\nincluding legal fees, that arise directly or indirectly from any of\\r\\nthe following which you do or cause to occur: (a) distribution of this\\r\\nor any Project Gutenberg-tm work, (b) alteration, modification, or\\r\\nadditions or deletions to any Project Gutenberg-tm work, and (c) any\\r\\nDefect you cause.\\r\\n\\r\\nSection 2. Information about the Mission of Project Gutenberg-tm\\r\\n\\r\\nProject Gutenberg-tm is synonymous with the free distribution of\\r\\nelectronic works in formats readable by the widest variety of\\r\\ncomputers including obsolete, old, middle-aged and new computers. It\\r\\nexists because of the efforts of hundreds of volunteers and donations\\r\\nfrom people in all walks of life.\\r\\n\\r\\nVolunteers and financial support to provide volunteers with the\\r\\nassistance they need are critical to reaching Project Gutenberg-tm\\'s\\r\\ngoals and ensuring that the Project Gutenberg-tm collection will\\r\\nremain freely available for generations to come. In 2001, the Project\\r\\nGutenberg Literary Archive Foundation was created to provide a secure\\r\\nand permanent future for Project Gutenberg-tm and future\\r\\ngenerations. To learn more about the Project Gutenberg Literary\\r\\nArchive Foundation and how your efforts and donations can help, see\\r\\nSections 3 and 4 and the Foundation information page at\\r\\nwww.gutenberg.org\\r\\n\\r\\nSection 3. Information about the Project Gutenberg Literary\\r\\nArchive Foundation\\r\\n\\r\\nThe Project Gutenberg Literary Archive Foundation is a non-profit\\r\\n501(c)(3) educational corporation organized under the laws of the\\r\\nstate of Mississippi and granted tax exempt status by the Internal\\r\\nRevenue Service. The Foundation\\'s EIN or federal tax identification\\r\\nnumber is 64-6221541. Contributions to the Project Gutenberg Literary\\r\\nArchive Foundation are tax deductible to the full extent permitted by\\r\\nU.S. federal laws and your state\\'s laws.\\r\\n\\r\\nThe Foundation\\'s business office is located at 809 North 1500 West,\\r\\nSalt Lake City, UT 84116, (801) 596-1887. Email contact links and up\\r\\nto date contact information can be found at the Foundation\\'s website\\r\\nand official page at www.gutenberg.org/contact\\r\\n\\r\\nSection 4. Information about Donations to the Project Gutenberg\\r\\nLiterary Archive Foundation\\r\\n\\r\\nProject Gutenberg-tm depends upon and cannot survive without\\r\\nwidespread public support and donations to carry out its mission of\\r\\nincreasing the number of public domain and licensed works that can be\\r\\nfreely distributed in machine-readable form accessible by the widest\\r\\narray of equipment including outdated equipment. Many small donations\\r\\n($1 to $5,000) are particularly important to maintaining tax exempt\\r\\nstatus with the IRS.\\r\\n\\r\\nThe Foundation is committed to complying with the laws regulating\\r\\ncharities and charitable donations in all 50 states of the United\\r\\nStates. Compliance requirements are not uniform and it takes a\\r\\nconsiderable effort, much paperwork and many fees to meet and keep up\\r\\nwith these requirements. We do not solicit donations in locations\\r\\nwhere we have not received written confirmation of compliance. To SEND\\r\\nDONATIONS or determine the status of compliance for any particular\\r\\nstate visit www.gutenberg.org/donate\\r\\n\\r\\nWhile we cannot and do not solicit contributions from states where we\\r\\nhave not met the solicitation requirements, we know of no prohibition\\r\\nagainst accepting unsolicited donations from donors in such states who\\r\\napproach us with offers to donate.\\r\\n\\r\\nInternational donations are gratefully accepted, but we cannot make\\r\\nany statements concerning tax treatment of donations received from\\r\\noutside the United States. U.S. laws alone swamp our small staff.\\r\\n\\r\\nPlease check the Project Gutenberg web pages for current donation\\r\\nmethods and addresses. Donations are accepted in a number of other\\r\\nways including checks, online payments and credit card donations. To\\r\\ndonate, please visit: www.gutenberg.org/donate\\r\\n\\r\\nSection 5. General Information About Project Gutenberg-tm electronic works\\r\\n\\r\\nProfessor Michael S. Hart was the originator of the Project\\r\\nGutenberg-tm concept of a library of electronic works that could be\\r\\nfreely shared with anyone. For forty years, he produced and\\r\\ndistributed Project Gutenberg-tm eBooks with only a loose network of\\r\\nvolunteer support.\\r\\n\\r\\nProject Gutenberg-tm eBooks are often created from several printed\\r\\neditions, all of which are confirmed as not protected by copyright in\\r\\nthe U.S. unless a copyright notice is included. Thus, we do not\\r\\nnecessarily keep eBooks in compliance with any particular paper\\r\\nedition.\\r\\n\\r\\nMost people start at our website which has the main PG search\\r\\nfacility: www.gutenberg.org\\r\\n\\r\\nThis website includes information about Project Gutenberg-tm,\\r\\nincluding how to make donations to the Project Gutenberg Literary\\r\\nArchive Foundation, how to help produce our new eBooks, and how to\\r\\nsubscribe to our email newsletter to hear about new eBooks.\\r\\n\\r\\n\\r\\n'"
            ],
            "application/vnd.google.colaboratory.intrinsic+json": {
              "type": "string"
            }
          },
          "metadata": {},
          "execution_count": 60
        }
      ]
    },
    {
      "cell_type": "code",
      "source": [
        "text = '''Alice took up the fan and gloves, and, as the hall was very hot, she\n",
        "kept fanning herself all the time she went on talking: “Dear, dear! How\n",
        "queer everything is to-day! And yesterday things went on just as usual.\n",
        "I wonder if I’ve been changed in the night? Let me think: was I the\n",
        "same when I got up this morning? I almost think I can remember feeling\n",
        "a little different. But if I’m not the same, the next question is, Who\n",
        "in the world am I? Ah, _that’s_ the great puzzle!” And she began\n",
        "thinking over all the children she knew that were of the same age as\n",
        "herself, to see if she could have been changed for any of them.\n",
        "\n",
        "“I’m sure I’m not Ada,” she said, “for her hair goes in such long\n",
        "ringlets, and mine doesn’t go in ringlets at all; and I’m sure I can’t\n",
        "be Mabel, for I know all sorts of things, and she, oh! she knows such a\n",
        "very little! Besides, _she’s_ she, and _I’m_ I, and—oh dear, how\n",
        "puzzling it all is! I’ll try if I know all the things I used to know.\n",
        "Let me see: four times five is twelve, and four times six is thirteen,\n",
        "and four times seven is—oh dear! I shall never get to twenty at that\n",
        "rate! However, the Multiplication Table doesn’t signify: let’s try\n",
        "Geography. London is the capital of Paris, and Paris is the capital of\n",
        "Rome, and Rome—no, _that’s_ all wrong, I’m certain! I must have been\n",
        "changed for Mabel! I’ll try and say ‘_How doth the little_—’” and she\n",
        "crossed her hands on her lap as if she were saying lessons, and began\n",
        "to repeat it, but her voice sounded hoarse and strange, and the words\n",
        "did not come the same as they used to do:—\n",
        "'''"
      ],
      "metadata": {
        "id": "JmQeR5JzmHIC"
      },
      "execution_count": 61,
      "outputs": []
    },
    {
      "cell_type": "code",
      "source": [
        "doc = nlp(text)"
      ],
      "metadata": {
        "id": "PcqIk2l2lVjl"
      },
      "execution_count": 62,
      "outputs": []
    },
    {
      "cell_type": "code",
      "source": [
        "matches = matcher(doc)\n",
        "for match_id, start, end in matches:\n",
        "  d=string_id = nlp.vocab.strings[match_id]\n",
        "  span = doc[start:end]\n",
        "  print(match_id, string_id, start, end, span.text)"
      ],
      "metadata": {
        "colab": {
          "base_uri": "https://localhost:8080/"
        },
        "id": "oq_oX3WllaLO",
        "outputId": "37b5d68e-db31-4d0c-bfe7-c6e3298c4ef5"
      },
      "execution_count": 63,
      "outputs": [
        {
          "output_type": "stream",
          "name": "stdout",
          "text": [
            "6895354335150655416 Matching 0 1 Alice\n"
          ]
        }
      ]
    },
    {
      "cell_type": "code",
      "source": [
        "for token in doc:\n",
        "  print(token.text, token.pos_)"
      ],
      "metadata": {
        "colab": {
          "base_uri": "https://localhost:8080/"
        },
        "id": "QOD-UAGkl7RB",
        "outputId": "c147a270-229a-4863-9bd4-3d6cdae7ad47"
      },
      "execution_count": 64,
      "outputs": [
        {
          "output_type": "stream",
          "name": "stdout",
          "text": [
            "Alice PROPN\n",
            "took VERB\n",
            "up ADP\n",
            "the DET\n",
            "fan NOUN\n",
            "and CCONJ\n",
            "gloves NOUN\n",
            ", PUNCT\n",
            "and CCONJ\n",
            ", PUNCT\n",
            "as SCONJ\n",
            "the DET\n",
            "hall NOUN\n",
            "was AUX\n",
            "very ADV\n",
            "hot ADJ\n",
            ", PUNCT\n",
            "she PRON\n",
            "\n",
            " SPACE\n",
            "kept VERB\n",
            "fanning VERB\n",
            "herself PRON\n",
            "all DET\n",
            "the DET\n",
            "time NOUN\n",
            "she PRON\n",
            "went VERB\n",
            "on ADP\n",
            "talking VERB\n",
            ": PUNCT\n",
            "“ PUNCT\n",
            "Dear ADJ\n",
            ", PUNCT\n",
            "dear ADJ\n",
            "! PUNCT\n",
            "How SCONJ\n",
            "\n",
            " SPACE\n",
            "queer ADJ\n",
            "everything PRON\n",
            "is AUX\n",
            "to ADP\n",
            "- PUNCT\n",
            "day NOUN\n",
            "! PUNCT\n",
            "And CCONJ\n",
            "yesterday NOUN\n",
            "things NOUN\n",
            "went VERB\n",
            "on ADP\n",
            "just ADV\n",
            "as ADV\n",
            "usual ADJ\n",
            ". PUNCT\n",
            "\n",
            " SPACE\n",
            "I PRON\n",
            "wonder VERB\n",
            "if SCONJ\n",
            "I PRON\n",
            "’ve AUX\n",
            "been AUX\n",
            "changed VERB\n",
            "in ADP\n",
            "the DET\n",
            "night NOUN\n",
            "? PUNCT\n",
            "Let VERB\n",
            "me PRON\n",
            "think VERB\n",
            ": PUNCT\n",
            "was AUX\n",
            "I PRON\n",
            "the DET\n",
            "\n",
            " SPACE\n",
            "same ADJ\n",
            "when SCONJ\n",
            "I PRON\n",
            "got VERB\n",
            "up ADP\n",
            "this DET\n",
            "morning NOUN\n",
            "? PUNCT\n",
            "I PRON\n",
            "almost ADV\n",
            "think VERB\n",
            "I PRON\n",
            "can AUX\n",
            "remember VERB\n",
            "feeling VERB\n",
            "\n",
            " SPACE\n",
            "a DET\n",
            "little ADJ\n",
            "different ADJ\n",
            ". PUNCT\n",
            "But CCONJ\n",
            "if SCONJ\n",
            "I PRON\n",
            "’m VERB\n",
            "not PART\n",
            "the DET\n",
            "same ADJ\n",
            ", PUNCT\n",
            "the DET\n",
            "next ADJ\n",
            "question NOUN\n",
            "is AUX\n",
            ", PUNCT\n",
            "Who PRON\n",
            "\n",
            " SPACE\n",
            "in ADP\n",
            "the DET\n",
            "world NOUN\n",
            "am AUX\n",
            "I PRON\n",
            "? PUNCT\n",
            "Ah INTJ\n",
            ", PUNCT\n",
            "_ PUNCT\n",
            "that PRON\n",
            "’s VERB\n",
            "_ PUNCT\n",
            "the DET\n",
            "great ADJ\n",
            "puzzle NOUN\n",
            "! PUNCT\n",
            "” PUNCT\n",
            "And CCONJ\n",
            "she PRON\n",
            "began VERB\n",
            "\n",
            " SPACE\n",
            "thinking VERB\n",
            "over ADP\n",
            "all DET\n",
            "the DET\n",
            "children NOUN\n",
            "she PRON\n",
            "knew VERB\n",
            "that PRON\n",
            "were AUX\n",
            "of ADP\n",
            "the DET\n",
            "same ADJ\n",
            "age NOUN\n",
            "as ADP\n",
            "\n",
            " SPACE\n",
            "herself PRON\n",
            ", PUNCT\n",
            "to PART\n",
            "see VERB\n",
            "if SCONJ\n",
            "she PRON\n",
            "could AUX\n",
            "have AUX\n",
            "been AUX\n",
            "changed VERB\n",
            "for ADP\n",
            "any PRON\n",
            "of ADP\n",
            "them PRON\n",
            ". PUNCT\n",
            "\n",
            "\n",
            " SPACE\n",
            "“ PUNCT\n",
            "I PRON\n",
            "’m VERB\n",
            "sure ADJ\n",
            "I PRON\n",
            "’m VERB\n",
            "not PART\n",
            "Ada PROPN\n",
            ", PUNCT\n",
            "” PUNCT\n",
            "she PRON\n",
            "said VERB\n",
            ", PUNCT\n",
            "“ PUNCT\n",
            "for SCONJ\n",
            "her PRON\n",
            "hair NOUN\n",
            "goes VERB\n",
            "in ADP\n",
            "such ADJ\n",
            "long ADJ\n",
            "\n",
            " SPACE\n",
            "ringlets NOUN\n",
            ", PUNCT\n",
            "and CCONJ\n",
            "mine NOUN\n",
            "does AUX\n",
            "n’t PART\n",
            "go VERB\n",
            "in ADP\n",
            "ringlets NOUN\n",
            "at ADV\n",
            "all ADV\n",
            "; PUNCT\n",
            "and CCONJ\n",
            "I PRON\n",
            "’m VERB\n",
            "sure ADJ\n",
            "I PRON\n",
            "ca AUX\n",
            "n’t AUX\n",
            "\n",
            " SPACE\n",
            "be AUX\n",
            "Mabel PROPN\n",
            ", PUNCT\n",
            "for SCONJ\n",
            "I PRON\n",
            "know VERB\n",
            "all DET\n",
            "sorts NOUN\n",
            "of ADP\n",
            "things NOUN\n",
            ", PUNCT\n",
            "and CCONJ\n",
            "she PRON\n",
            ", PUNCT\n",
            "oh INTJ\n",
            "! PUNCT\n",
            "she PRON\n",
            "knows VERB\n",
            "such DET\n",
            "a DET\n",
            "\n",
            " SPACE\n",
            "very ADV\n",
            "little ADJ\n",
            "! PUNCT\n",
            "Besides ADV\n",
            ", PUNCT\n",
            "_ PUNCT\n",
            "she PRON\n",
            "’s VERB\n",
            "_ PUNCT\n",
            "she PRON\n",
            ", PUNCT\n",
            "and CCONJ\n",
            "_ PUNCT\n",
            "I PRON\n",
            "’m VERB\n",
            "_ PUNCT\n",
            "I PRON\n",
            ", PUNCT\n",
            "and CCONJ\n",
            "— PUNCT\n",
            "oh INTJ\n",
            "dear ADJ\n",
            ", PUNCT\n",
            "how SCONJ\n",
            "\n",
            " SPACE\n",
            "puzzling VERB\n",
            "it PRON\n",
            "all PRON\n",
            "is AUX\n",
            "! PUNCT\n",
            "I PRON\n",
            "’ll AUX\n",
            "try VERB\n",
            "if SCONJ\n",
            "I PRON\n",
            "know VERB\n",
            "all DET\n",
            "the DET\n",
            "things NOUN\n",
            "I PRON\n",
            "used VERB\n",
            "to PART\n",
            "know VERB\n",
            ". PUNCT\n",
            "\n",
            " SPACE\n",
            "Let VERB\n",
            "me PRON\n",
            "see VERB\n",
            ": PUNCT\n",
            "four NUM\n",
            "times NOUN\n",
            "five NUM\n",
            "is AUX\n",
            "twelve NUM\n",
            ", PUNCT\n",
            "and CCONJ\n",
            "four NUM\n",
            "times NOUN\n",
            "six NUM\n",
            "is AUX\n",
            "thirteen NUM\n",
            ", PUNCT\n",
            "\n",
            " SPACE\n",
            "and CCONJ\n",
            "four NUM\n",
            "times NOUN\n",
            "seven NUM\n",
            "is AUX\n",
            "— PUNCT\n",
            "oh INTJ\n",
            "dear INTJ\n",
            "! PUNCT\n",
            "I PRON\n",
            "shall AUX\n",
            "never ADV\n",
            "get VERB\n",
            "to ADP\n",
            "twenty NUM\n",
            "at ADP\n",
            "that DET\n",
            "\n",
            " SPACE\n",
            "rate NOUN\n",
            "! PUNCT\n",
            "However ADV\n",
            ", PUNCT\n",
            "the DET\n",
            "Multiplication PROPN\n",
            "Table PROPN\n",
            "does AUX\n",
            "n’t PART\n",
            "signify VERB\n",
            ": PUNCT\n",
            "let VERB\n",
            "’s PRON\n",
            "try VERB\n",
            "\n",
            " SPACE\n",
            "Geography PROPN\n",
            ". PUNCT\n",
            "London PROPN\n",
            "is AUX\n",
            "the DET\n",
            "capital NOUN\n",
            "of ADP\n",
            "Paris PROPN\n",
            ", PUNCT\n",
            "and CCONJ\n",
            "Paris PROPN\n",
            "is AUX\n",
            "the DET\n",
            "capital NOUN\n",
            "of ADP\n",
            "\n",
            " SPACE\n",
            "Rome PROPN\n",
            ", PUNCT\n",
            "and CCONJ\n",
            "Rome PROPN\n",
            "— PUNCT\n",
            "no INTJ\n",
            ", PUNCT\n",
            "_ NOUN\n",
            "that PRON\n",
            "’s VERB\n",
            "_ PROPN\n",
            "all ADV\n",
            "wrong ADJ\n",
            ", PUNCT\n",
            "I PRON\n",
            "’m VERB\n",
            "certain ADJ\n",
            "! PUNCT\n",
            "I PRON\n",
            "must AUX\n",
            "have AUX\n",
            "been AUX\n",
            "\n",
            " SPACE\n",
            "changed VERB\n",
            "for ADP\n",
            "Mabel PROPN\n",
            "! PUNCT\n",
            "I PRON\n",
            "’ll AUX\n",
            "try VERB\n",
            "and CCONJ\n",
            "say VERB\n",
            "‘ PUNCT\n",
            "_ X\n",
            "How SCONJ\n",
            "doth ADP\n",
            "the DET\n",
            "little ADJ\n",
            "_ NOUN\n",
            "— PUNCT\n",
            "’ PUNCT\n",
            "” PUNCT\n",
            "and CCONJ\n",
            "she PRON\n",
            "\n",
            " SPACE\n",
            "crossed VERB\n",
            "her PRON\n",
            "hands NOUN\n",
            "on ADP\n",
            "her PRON\n",
            "lap NOUN\n",
            "as SCONJ\n",
            "if SCONJ\n",
            "she PRON\n",
            "were AUX\n",
            "saying VERB\n",
            "lessons NOUN\n",
            ", PUNCT\n",
            "and CCONJ\n",
            "began VERB\n",
            "\n",
            " SPACE\n",
            "to PART\n",
            "repeat VERB\n",
            "it PRON\n",
            ", PUNCT\n",
            "but CCONJ\n",
            "her PRON\n",
            "voice NOUN\n",
            "sounded VERB\n",
            "hoarse ADJ\n",
            "and CCONJ\n",
            "strange ADJ\n",
            ", PUNCT\n",
            "and CCONJ\n",
            "the DET\n",
            "words NOUN\n",
            "\n",
            " SPACE\n",
            "did AUX\n",
            "not PART\n",
            "come VERB\n",
            "the DET\n",
            "same ADJ\n",
            "as SCONJ\n",
            "they PRON\n",
            "used VERB\n",
            "to PART\n",
            "do VERB\n",
            ": PUNCT\n",
            "— PUNCT\n",
            "\n",
            " SPACE\n"
          ]
        }
      ]
    },
    {
      "cell_type": "code",
      "source": [
        "#Phrase Matcher\n",
        "#had to import text\n",
        "from spacy.matcher import PhraseMatcher"
      ],
      "metadata": {
        "id": "5P2yO44UmyvH"
      },
      "execution_count": 65,
      "outputs": []
    },
    {
      "cell_type": "code",
      "source": [
        "matcher = PhraseMatcher(nlp.vocab, attr=\"LOWER\")\n",
        "\n"
      ],
      "metadata": {
        "id": "rdKC3AhurIs9"
      },
      "execution_count": 77,
      "outputs": []
    },
    {
      "cell_type": "code",
      "source": [
        "phrase_list=['it!','much!']"
      ],
      "metadata": {
        "id": "XYetXjvasyus"
      },
      "execution_count": 78,
      "outputs": []
    },
    {
      "cell_type": "code",
      "source": [
        "pattern = [nlp.make_doc(text) for text in phrase_list]\n",
        "\n"
      ],
      "metadata": {
        "id": "VtP2lySMr1fH"
      },
      "execution_count": 79,
      "outputs": []
    },
    {
      "cell_type": "code",
      "source": [
        "matcher.add(\"phrase_match\", pattern)\n"
      ],
      "metadata": {
        "id": "0WyYNS1zs1KX"
      },
      "execution_count": 80,
      "outputs": []
    },
    {
      "cell_type": "code",
      "source": [
        "doc = nlp(text)\n",
        "matches = matcher(doc)"
      ],
      "metadata": {
        "id": "bZPh2QkGs4L0"
      },
      "execution_count": 81,
      "outputs": []
    },
    {
      "cell_type": "code",
      "source": [
        "for match_id, start, end in matches:\n",
        "  span = doc[start:end]\n",
        "  print(start,end, span.text)"
      ],
      "metadata": {
        "id": "dDYv7uyRsGkW"
      },
      "execution_count": 82,
      "outputs": []
    },
    {
      "cell_type": "code",
      "source": [
        "#Entity Matcher"
      ],
      "metadata": {
        "id": "wqaLwtHLsZae"
      },
      "execution_count": 83,
      "outputs": []
    },
    {
      "cell_type": "code",
      "source": [
        "import spacy\n",
        "from spacy.pipeline import EntityRuler\n",
        "from spacy.lang.en import English"
      ],
      "metadata": {
        "id": "kbaezYQOtO2K"
      },
      "execution_count": 84,
      "outputs": []
    },
    {
      "cell_type": "code",
      "source": [
        "text = \"\"\"The First Estate includes the clergy (church leaders), the Second Estate included the nobles, and the Third Estate included the commoners.\n",
        "          The Third Estate paid most of the taxes, while the nobility lived lives of luxury and got all the high-ranking jobs.\"\"\""
      ],
      "metadata": {
        "id": "EY2Zw3d4thq0"
      },
      "execution_count": 85,
      "outputs": []
    },
    {
      "cell_type": "code",
      "source": [
        "nlp = English()\n",
        "ruler = nlp.add_pipe('entity_ruler')"
      ],
      "metadata": {
        "id": "2uEBAbb-uRyH"
      },
      "execution_count": 86,
      "outputs": []
    },
    {
      "cell_type": "code",
      "source": [
        "patterns = [{\"label\":\"NOUN\",\"pattern\":\"church\"},{\"label\":\"ORG\",\"pattern\":[{\"lower\":\"the\"},{\"lower\":{\"IN\":[\"first\",'second','third']}},{\"ORTH\":\"Estate\"}]}]\n"
      ],
      "metadata": {
        "id": "sup_ZhH0ufRA"
      },
      "execution_count": 87,
      "outputs": []
    },
    {
      "cell_type": "code",
      "source": [
        "ruler.add_patterns(patterns)"
      ],
      "metadata": {
        "id": "WFMcbWomvHKx"
      },
      "execution_count": 88,
      "outputs": []
    },
    {
      "cell_type": "code",
      "source": [
        "doc = nlp(text)"
      ],
      "metadata": {
        "id": "OHKynDBHvNiG"
      },
      "execution_count": 89,
      "outputs": []
    },
    {
      "cell_type": "code",
      "source": [
        "for ent in doc.ents:\n",
        "  print(ent.text, ent.label_, ent.ent_id_)"
      ],
      "metadata": {
        "colab": {
          "base_uri": "https://localhost:8080/"
        },
        "id": "z_bu-4rRvPtm",
        "outputId": "f2f50380-3cd1-41a6-a3bd-fee0c3456a74"
      },
      "execution_count": 90,
      "outputs": [
        {
          "output_type": "stream",
          "name": "stdout",
          "text": [
            "The First Estate ORG \n",
            "church NOUN \n",
            "the Second Estate ORG \n",
            "the Third Estate ORG \n",
            "The Third Estate ORG \n"
          ]
        }
      ]
    },
    {
      "cell_type": "markdown",
      "source": [
        "#NER - Named Entity Recognition"
      ],
      "metadata": {
        "id": "C43JBl5wyfNn"
      }
    },
    {
      "cell_type": "code",
      "source": [
        "!python -m spacy download en_core_web_lg"
      ],
      "metadata": {
        "colab": {
          "base_uri": "https://localhost:8080/"
        },
        "id": "xw9h1jlnvfOb",
        "outputId": "c6191f0e-56cd-4a43-bf9e-69e2ddc00774"
      },
      "execution_count": 91,
      "outputs": [
        {
          "output_type": "stream",
          "name": "stdout",
          "text": [
            "2023-09-20 08:53:22.874519: W tensorflow/compiler/tf2tensorrt/utils/py_utils.cc:38] TF-TRT Warning: Could not find TensorRT\n",
            "Collecting en-core-web-lg==3.6.0\n",
            "  Downloading https://github.com/explosion/spacy-models/releases/download/en_core_web_lg-3.6.0/en_core_web_lg-3.6.0-py3-none-any.whl (587.7 MB)\n",
            "\u001b[2K     \u001b[90m━━━━━━━━━━━━━━━━━━━━━━━━━━━━━━━━━━━━━━━\u001b[0m \u001b[32m587.7/587.7 MB\u001b[0m \u001b[31m1.8 MB/s\u001b[0m eta \u001b[36m0:00:00\u001b[0m\n",
            "\u001b[?25hRequirement already satisfied: spacy<3.7.0,>=3.6.0 in /usr/local/lib/python3.10/dist-packages (from en-core-web-lg==3.6.0) (3.6.1)\n",
            "Requirement already satisfied: spacy-legacy<3.1.0,>=3.0.11 in /usr/local/lib/python3.10/dist-packages (from spacy<3.7.0,>=3.6.0->en-core-web-lg==3.6.0) (3.0.12)\n",
            "Requirement already satisfied: spacy-loggers<2.0.0,>=1.0.0 in /usr/local/lib/python3.10/dist-packages (from spacy<3.7.0,>=3.6.0->en-core-web-lg==3.6.0) (1.0.4)\n",
            "Requirement already satisfied: murmurhash<1.1.0,>=0.28.0 in /usr/local/lib/python3.10/dist-packages (from spacy<3.7.0,>=3.6.0->en-core-web-lg==3.6.0) (1.0.9)\n",
            "Requirement already satisfied: cymem<2.1.0,>=2.0.2 in /usr/local/lib/python3.10/dist-packages (from spacy<3.7.0,>=3.6.0->en-core-web-lg==3.6.0) (2.0.7)\n",
            "Requirement already satisfied: preshed<3.1.0,>=3.0.2 in /usr/local/lib/python3.10/dist-packages (from spacy<3.7.0,>=3.6.0->en-core-web-lg==3.6.0) (3.0.8)\n",
            "Requirement already satisfied: thinc<8.2.0,>=8.1.8 in /usr/local/lib/python3.10/dist-packages (from spacy<3.7.0,>=3.6.0->en-core-web-lg==3.6.0) (8.1.12)\n",
            "Requirement already satisfied: wasabi<1.2.0,>=0.9.1 in /usr/local/lib/python3.10/dist-packages (from spacy<3.7.0,>=3.6.0->en-core-web-lg==3.6.0) (1.1.2)\n",
            "Requirement already satisfied: srsly<3.0.0,>=2.4.3 in /usr/local/lib/python3.10/dist-packages (from spacy<3.7.0,>=3.6.0->en-core-web-lg==3.6.0) (2.4.7)\n",
            "Requirement already satisfied: catalogue<2.1.0,>=2.0.6 in /usr/local/lib/python3.10/dist-packages (from spacy<3.7.0,>=3.6.0->en-core-web-lg==3.6.0) (2.0.9)\n",
            "Requirement already satisfied: typer<0.10.0,>=0.3.0 in /usr/local/lib/python3.10/dist-packages (from spacy<3.7.0,>=3.6.0->en-core-web-lg==3.6.0) (0.9.0)\n",
            "Requirement already satisfied: pathy>=0.10.0 in /usr/local/lib/python3.10/dist-packages (from spacy<3.7.0,>=3.6.0->en-core-web-lg==3.6.0) (0.10.2)\n",
            "Requirement already satisfied: smart-open<7.0.0,>=5.2.1 in /usr/local/lib/python3.10/dist-packages (from spacy<3.7.0,>=3.6.0->en-core-web-lg==3.6.0) (6.4.0)\n",
            "Requirement already satisfied: tqdm<5.0.0,>=4.38.0 in /usr/local/lib/python3.10/dist-packages (from spacy<3.7.0,>=3.6.0->en-core-web-lg==3.6.0) (4.66.1)\n",
            "Requirement already satisfied: numpy>=1.15.0 in /usr/local/lib/python3.10/dist-packages (from spacy<3.7.0,>=3.6.0->en-core-web-lg==3.6.0) (1.23.5)\n",
            "Requirement already satisfied: requests<3.0.0,>=2.13.0 in /usr/local/lib/python3.10/dist-packages (from spacy<3.7.0,>=3.6.0->en-core-web-lg==3.6.0) (2.31.0)\n",
            "Requirement already satisfied: pydantic!=1.8,!=1.8.1,<3.0.0,>=1.7.4 in /usr/local/lib/python3.10/dist-packages (from spacy<3.7.0,>=3.6.0->en-core-web-lg==3.6.0) (1.10.12)\n",
            "Requirement already satisfied: jinja2 in /usr/local/lib/python3.10/dist-packages (from spacy<3.7.0,>=3.6.0->en-core-web-lg==3.6.0) (3.1.2)\n",
            "Requirement already satisfied: setuptools in /usr/local/lib/python3.10/dist-packages (from spacy<3.7.0,>=3.6.0->en-core-web-lg==3.6.0) (68.2.2)\n",
            "Requirement already satisfied: packaging>=20.0 in /usr/local/lib/python3.10/dist-packages (from spacy<3.7.0,>=3.6.0->en-core-web-lg==3.6.0) (23.1)\n",
            "Requirement already satisfied: langcodes<4.0.0,>=3.2.0 in /usr/local/lib/python3.10/dist-packages (from spacy<3.7.0,>=3.6.0->en-core-web-lg==3.6.0) (3.3.0)\n",
            "Requirement already satisfied: typing-extensions>=4.2.0 in /usr/local/lib/python3.10/dist-packages (from pydantic!=1.8,!=1.8.1,<3.0.0,>=1.7.4->spacy<3.7.0,>=3.6.0->en-core-web-lg==3.6.0) (4.5.0)\n",
            "Requirement already satisfied: charset-normalizer<4,>=2 in /usr/local/lib/python3.10/dist-packages (from requests<3.0.0,>=2.13.0->spacy<3.7.0,>=3.6.0->en-core-web-lg==3.6.0) (3.2.0)\n",
            "Requirement already satisfied: idna<4,>=2.5 in /usr/local/lib/python3.10/dist-packages (from requests<3.0.0,>=2.13.0->spacy<3.7.0,>=3.6.0->en-core-web-lg==3.6.0) (3.4)\n",
            "Requirement already satisfied: urllib3<3,>=1.21.1 in /usr/local/lib/python3.10/dist-packages (from requests<3.0.0,>=2.13.0->spacy<3.7.0,>=3.6.0->en-core-web-lg==3.6.0) (2.0.4)\n",
            "Requirement already satisfied: certifi>=2017.4.17 in /usr/local/lib/python3.10/dist-packages (from requests<3.0.0,>=2.13.0->spacy<3.7.0,>=3.6.0->en-core-web-lg==3.6.0) (2023.7.22)\n",
            "Requirement already satisfied: blis<0.8.0,>=0.7.8 in /usr/local/lib/python3.10/dist-packages (from thinc<8.2.0,>=8.1.8->spacy<3.7.0,>=3.6.0->en-core-web-lg==3.6.0) (0.7.10)\n",
            "Requirement already satisfied: confection<1.0.0,>=0.0.1 in /usr/local/lib/python3.10/dist-packages (from thinc<8.2.0,>=8.1.8->spacy<3.7.0,>=3.6.0->en-core-web-lg==3.6.0) (0.1.2)\n",
            "Requirement already satisfied: click<9.0.0,>=7.1.1 in /usr/local/lib/python3.10/dist-packages (from typer<0.10.0,>=0.3.0->spacy<3.7.0,>=3.6.0->en-core-web-lg==3.6.0) (8.1.7)\n",
            "Requirement already satisfied: MarkupSafe>=2.0 in /usr/local/lib/python3.10/dist-packages (from jinja2->spacy<3.7.0,>=3.6.0->en-core-web-lg==3.6.0) (2.1.3)\n",
            "Installing collected packages: en-core-web-lg\n",
            "Successfully installed en-core-web-lg-3.6.0\n",
            "\u001b[33mWARNING: Running pip as the 'root' user can result in broken permissions and conflicting behaviour with the system package manager. It is recommended to use a virtual environment instead: https://pip.pypa.io/warnings/venv\u001b[0m\u001b[33m\n",
            "\u001b[0m\u001b[38;5;2m✔ Download and installation successful\u001b[0m\n",
            "You can now load the package via spacy.load('en_core_web_lg')\n"
          ]
        }
      ]
    },
    {
      "cell_type": "code",
      "source": [
        "!pip install lxml\n",
        "!pip install beautifulsoup4"
      ],
      "metadata": {
        "colab": {
          "base_uri": "https://localhost:8080/"
        },
        "id": "k29YbXXTyyuu",
        "outputId": "1d8d6b4e-b313-424e-f933-aca2f9b17f59"
      },
      "execution_count": 92,
      "outputs": [
        {
          "output_type": "stream",
          "name": "stdout",
          "text": [
            "Requirement already satisfied: lxml in /usr/local/lib/python3.10/dist-packages (4.9.3)\n",
            "\u001b[33mWARNING: Running pip as the 'root' user can result in broken permissions and conflicting behaviour with the system package manager. It is recommended to use a virtual environment instead: https://pip.pypa.io/warnings/venv\u001b[0m\u001b[33m\n",
            "\u001b[0mRequirement already satisfied: beautifulsoup4 in /usr/local/lib/python3.10/dist-packages (4.11.2)\n",
            "Requirement already satisfied: soupsieve>1.2 in /usr/local/lib/python3.10/dist-packages (from beautifulsoup4) (2.5)\n",
            "\u001b[33mWARNING: Running pip as the 'root' user can result in broken permissions and conflicting behaviour with the system package manager. It is recommended to use a virtual environment instead: https://pip.pypa.io/warnings/venv\u001b[0m\u001b[33m\n",
            "\u001b[0m"
          ]
        }
      ]
    },
    {
      "cell_type": "code",
      "source": [
        "text = \"\"\"In early 2001, Musk became involved with the nonprofit Mars Society and discussed funding plans to place a growth-chamber for plants on Mars.\n",
        "\n",
        "In October of the same year, he traveled to Moscow with Jim Cantrell.\n",
        "\n",
        "He met with the companies NPO Lavochkin and Kosmotras; however, Musk was seen as a novice.\n",
        "\n",
        "In February 2002, the group returned to Russia with Mike Griffin (president of In-Q-Tel) to look for three ICBMs.\n",
        "\"\"\""
      ],
      "metadata": {
        "id": "NgOHEuXEzAAW"
      },
      "execution_count": 94,
      "outputs": []
    },
    {
      "cell_type": "code",
      "source": [
        "nlp = spacy.load('en_core_web_lg')\n",
        "doc = nlp(text)"
      ],
      "metadata": {
        "id": "lhteAeQhzo2-"
      },
      "execution_count": 95,
      "outputs": []
    },
    {
      "cell_type": "code",
      "source": [
        "for ent in doc.ents:\n",
        "  print(ent.text, ent.label_)"
      ],
      "metadata": {
        "colab": {
          "base_uri": "https://localhost:8080/"
        },
        "id": "5T-MoL8Fz8Tr",
        "outputId": "3735b060-7d2d-4156-abd2-b24fbe9e01ef"
      },
      "execution_count": 96,
      "outputs": [
        {
          "output_type": "stream",
          "name": "stdout",
          "text": [
            "early 2001 DATE\n",
            "Musk PERSON\n",
            "Mars Society ORG\n",
            "Mars LOC\n",
            "October DATE\n",
            "the same year DATE\n",
            "Moscow GPE\n",
            "Jim Cantrell PERSON\n",
            "NPO ORG\n",
            "Lavochkin PRODUCT\n",
            "Kosmotras PERSON\n",
            "Musk PERSON\n",
            "February 2002 DATE\n",
            "Russia GPE\n",
            "Mike Griffin PERSON\n",
            "three CARDINAL\n"
          ]
        }
      ]
    },
    {
      "cell_type": "code",
      "source": [
        "spacy.explain(\"ORG\")"
      ],
      "metadata": {
        "colab": {
          "base_uri": "https://localhost:8080/",
          "height": 36
        },
        "id": "OnqBZsZoz8eD",
        "outputId": "095f5fad-c4d1-4781-c5fa-ce1a99699f36"
      },
      "execution_count": 97,
      "outputs": [
        {
          "output_type": "execute_result",
          "data": {
            "text/plain": [
              "'Companies, agencies, institutions, etc.'"
            ],
            "application/vnd.google.colaboratory.intrinsic+json": {
              "type": "string"
            }
          },
          "metadata": {},
          "execution_count": 97
        }
      ]
    },
    {
      "cell_type": "code",
      "source": [
        "spacy.explain(\"LOC\")"
      ],
      "metadata": {
        "colab": {
          "base_uri": "https://localhost:8080/",
          "height": 36
        },
        "id": "_X5eBUOEz8gG",
        "outputId": "b19e3215-d478-4577-ef84-3d6f356b3346"
      },
      "execution_count": 98,
      "outputs": [
        {
          "output_type": "execute_result",
          "data": {
            "text/plain": [
              "'Non-GPE locations, mountain ranges, bodies of water'"
            ],
            "application/vnd.google.colaboratory.intrinsic+json": {
              "type": "string"
            }
          },
          "metadata": {},
          "execution_count": 98
        }
      ]
    },
    {
      "cell_type": "code",
      "source": [
        "from bs4 import BeautifulSoup\n",
        "import requests\n",
        "from spacy import displacy"
      ],
      "metadata": {
        "id": "ovk4E1Emz8h9"
      },
      "execution_count": 100,
      "outputs": []
    },
    {
      "cell_type": "code",
      "source": [
        "url = \"https://www.bbc.com/news/world-asia-india-66851211\""
      ],
      "metadata": {
        "id": "voeqOvyoz8lb"
      },
      "execution_count": 101,
      "outputs": []
    },
    {
      "cell_type": "code",
      "source": [
        "html_content = requests.get(url).text"
      ],
      "metadata": {
        "id": "DTmUd6UU6x10"
      },
      "execution_count": 102,
      "outputs": []
    },
    {
      "cell_type": "code",
      "source": [
        "html_content"
      ],
      "metadata": {
        "colab": {
          "base_uri": "https://localhost:8080/",
          "height": 123
        },
        "id": "mdUcPnzI64vh",
        "outputId": "ee4587f0-506e-4deb-bca9-8e2f02775a5f"
      },
      "execution_count": 103,
      "outputs": [
        {
          "output_type": "execute_result",
          "data": {
            "text/plain": [
              "'<!DOCTYPE html><html lang=\"en-GB\" class=\"no-js\"><head><meta charSet=\"utf-8\" /><meta name=\"viewport\" content=\"width=device-width, initial-scale=1\" /><title data-rh=\"true\">Special session: Modi introduces women&#x27;s bill in new India parliament - BBC News</title><meta data-rh=\"true\" name=\"description\" content=\"Prime minister Modi praises bill as &quot;special moment&quot; for his country, ahead of general elections.\"/><meta data-rh=\"true\" name=\"theme-color\" content=\"#FFFFFF\"/><meta data-rh=\"true\" property=\"article:author\" content=\"https://www.facebook.com/bbcnews\"/><meta data-rh=\"true\" property=\"fb:admins\" content=\"100004154058350\"/><meta data-rh=\"true\" property=\"fb:app_id\" content=\"1609039196070050\"/><meta data-rh=\"true\" property=\"fb:pages\" content=\"1143803202301544,317278538359186,1392506827668140,742734325867560,185246968166196,156060587793370,137920769558355,193435954068976,21263239760,156400551056385,929399697073756,154344434967,228735667216,80758950658,260212261199,294662213128,1086451581439054,283348121682053,295830058648,239931389545417,304314573046,310719525611571,647687225371774,1159932557403143,286567251709437,1731770190373618,125309456546,163571453661989,285361880228,512423982152360,238003846549831,176663550714,260967092113,118450564909230,100978706649892,15286229625,122103087870579,120655094632228,102814153147070,124715648647,153132638110668,150467675018739\"/><meta data-rh=\"true\" property=\"og:description\" content=\"Prime minister Modi praises bill as &quot;special moment&quot; for his country, ahead of general elections.\"/><meta data-rh=\"true\" property=\"og:image\" content=\"https://ichef.bbci.co.uk/news/1024/branded_news/2E42/production/_131124811_gettyimages-1653682262.jpg\"/><meta data-rh=\"true\" property=\"og:image:alt\" content=\"India&#x27;s Prime Minister Narendra Modi waits to welcome leaders of the G20 countries at the Bharat Mandapam in New Delhi on September 9, 2023. (Photo by Ludovic MARIN / POOL / AFP) (Photo by LUDOVIC MARIN/POOL/AFP via Getty Images)\"/><meta data-rh=\"true\" property=\"og:locale\" content=\"en_GB\"/><meta data-rh=\"true\" property=\"og:site_name\" content=\"BBC News\"/><meta data-rh=\"true\" property=\"og:title\" content=\"Special session: Modi introduces women&#x27;s bill in new India parliament\"/><meta data-rh=\"true\" property=\"og:type\" content=\"article\"/><meta data-rh=\"true\" property=\"og:url\" content=\"https://www.bbc.com/news/world-asia-india-66851211\"/><meta data-rh=\"true\" property=\"article:section\" content=\"India\"/><meta data-rh=\"true\" name=\"twitter:card\" content=\"summary_large_image\"/><meta data-rh=\"true\" name=\"twitter:creator\" content=\"@BBCWorld\"/><meta data-rh=\"true\" name=\"twitter:description\" content=\"Prime minister Modi praises bill as &quot;special moment&quot; for his country, ahead of general elections.\"/><meta data-rh=\"true\" name=\"twitter:domain\" content=\"www.bbc.com\"/><meta data-rh=\"true\" name=\"twitter:image:src\" content=\"https://ichef.bbci.co.uk/news/1024/branded_news/2E42/production/_131124811_gettyimages-1653682262.jpg\"/><meta data-rh=\"true\" name=\"twitter:image:alt\" content=\"India&#x27;s Prime Minister Narendra Modi waits to welcome leaders of the G20 countries at the Bharat Mandapam in New Delhi on September 9, 2023. (Photo by Ludovic MARIN / POOL / AFP) (Photo by LUDOVIC MARIN/POOL/AFP via Getty Images)\"/><meta data-rh=\"true\" name=\"twitter:site\" content=\"@BBCWorld\"/><meta data-rh=\"true\" name=\"twitter:title\" content=\"Special session: Modi introduces women&#x27;s bill in new India parliament\"/><meta data-rh=\"true\" type=\"metaTags\" name=\"application-name\" content=\"BBC News\"/><meta data-rh=\"true\" type=\"metaTags\" name=\"mobile-web-app-capable\" content=\"yes\"/><meta data-rh=\"true\" type=\"metaTags\" name=\"msapplication-TileImage\" content=\"BBC News\"/><meta data-rh=\"true\" type=\"metaTags\" name=\"msapplication-TileColor\" content=\"#bb1919\"/><meta data-rh=\"true\" type=\"metaTags\" name=\"cleartype\" http-equiv=\"cleartype\" content=\"on\"/><meta data-rh=\"true\" type=\"metaTags\" name=\"msapplication-TileImage\" content=\"https://static.files.bbci.co.uk/core/website/assets/static/icons/windows-phone/news/windows-phone-icon-270x270.23502b4459eb7a6ab2ab.png\"/><link data-rh=\"true\" rel=\"canonical\" href=\"https://www.bbc.com/news/world-asia-india-66851211\"/><link data-rh=\"true\" rel=\"amphtml\" href=\"https://www.bbc.com/news/world-asia-india-66851211.amp\"/><link data-rh=\"true\" rel=\"alternate\" hrefLang=\"en-gb\" href=\"https://www.bbc.co.uk/news/world-asia-india-66851211\"/><link data-rh=\"true\" rel=\"alternate\" hrefLang=\"en\" href=\"https://www.bbc.com/news/world-asia-india-66851211\"/><link data-rh=\"true\" rel=\"manifest\" href=\"https://static.files.bbci.co.uk/core/manifest.8d4237cbd18eb052a5fa59995d4624b88fd4c643.json\"/><script data-rh=\"true\" type=\"application/ld+json\">{\"@context\":\"http://schema.org\",\"@type\":\"ReportageNewsArticle\",\"url\":\"https://www.bbc.com/news/world-asia-india-66851211\",\"publisher\":{\"@type\":\"NewsMediaOrganization\",\"name\":\"BBC News\",\"publishingPrinciples\":\"http://www.bbc.co.uk/news/help-41670342\",\"logo\":{\"@type\":\"ImageObject\",\"url\":\"https://static.files.bbci.co.uk/ws/simorgh-assets/public/news/images/metadata/poster-1024x576.png\"}},\"datePublished\":\"2023-09-19T12:57:25.000Z\",\"dateModified\":\"2023-09-19T14:39:40.000Z\",\"description\":\"Prime minister Modi praises bill as \\\\\"special moment\\\\\" for his country, ahead of general elections.\",\"headline\":\"Special session: Modi introduces women\\'s bill in new India parliament\",\"image\":{\"@type\":\"ImageObject\",\"width\":1024,\"height\":576,\"url\":\"https://ichef.bbci.co.uk/news/1024/branded_news/2E42/production/_131124811_gettyimages-1653682262.jpg\"},\"thumbnailUrl\":\"https://ichef.bbci.co.uk/news/1024/branded_news/2E42/production/_131124811_gettyimages-1653682262.jpg\",\"mainEntityOfPage\":\"https://www.bbc.com/news/world-asia-india-66851211\",\"author\":{\"@type\":\"NewsMediaOrganization\",\"name\":\"BBC News\",\"noBylinesPolicy\":\"http://www.bbc.co.uk/news/help-41670342#authorexpertise\",\"logo\":{\"@type\":\"ImageObject\",\"url\":\"https://static.files.bbci.co.uk/ws/simorgh-assets/public/news/images/metadata/poster-1024x576.png\"}}}</script><script nonce=\"w/Bw40ulE7hZ4FcZ/nODBP/1IYajRkCMPmC4XpYcUMVwml+LJC\">\\n/**\\n* https://gist.github.com/samthor/64b114e4a4f539915a95b91ffd340acc\\n*/\\n(function() {\\n  var check = document.createElement(\\'script\\');\\n  if (!(\\'noModule\\' in check) && \\'onbeforeload\\' in check) {\\n    var support = false;\\n    document.addEventListener(\\'beforeload\\', function(e) {\\n      if (e.target === check) {\\n        support = true;\\n      } else if (!e.target.hasAttribute(\\'nomodule\\') || !support) {\\n        return;\\n      }\\n      e.preventDefault();\\n    }, true);\\n\\n    check.type = \\'module\\';\\n    check.src = \\'.\\';\\n    document.head.appendChild(check);\\n    check.remove();\\n  }\\n}());\\n</script><script nonce=\"w/Bw40ulE7hZ4FcZ/nODBP/1IYajRkCMPmC4XpYcUMVwml+LJC\">document.querySelector(\"html\").classList.remove(\"no-js\")</script><script nonce=\"w/Bw40ulE7hZ4FcZ/nODBP/1IYajRkCMPmC4XpYcUMVwml+LJC\">window.addEventListener(\\'unload\\', function(event) { });</script><style data-emotion=\"ssrcss-global 1g2i4d1\">html,body,div,span,applet,object,iframe,h1,h2,h3,h4,h5,h6,p,blockquote,pre,a,abbr,acronym,address,big,cite,code,del,dfn,em,img,ins,kbd,q,s,samp,small,strike,strong,sub,sup,tt,var,b,u,i,center,dl,dt,dd,ol,ul,li,fieldset,form,label,legend,table,caption,tbody,tfoot,thead,tr,th,td,article,aside,canvas,details,embed,figure,figcaption,footer,header,hgroup,main,menu,nav,output,ruby,section,summary,time,mark,audio,video{margin:0;padding:0;border:0;font-size:100%;font:inherit;vertical-align:baseline;}article,aside,details,figcaption,figure,footer,header,hgroup,main,menu,nav,section{display:block;}body{line-height:1;-webkit-text-size-adjust:none;-moz-text-size-adjust:none;-ms-text-size-adjust:none;text-size-adjust:none;}ol,ul{list-style:none;}blockquote,q{quotes:none;}blockquote::before,blockquote::after,q::before,q::after{content:\\'\\';content:none;}table{border-collapse:collapse;border-spacing:0;}button{-webkit-appearance:none;-moz-appearance:none;-ms-appearance:none;appearance:none;margin:0;padding:0;background:none;border-radius:0;border:0;font-family:inherit;color:inherit;}@font-face{font-family:\\'ReithSans\\';src:url(https://static.files.bbci.co.uk/fonts/reith/2.512/BBCReithSans_W_Rg.woff2) format(\\'woff2\\'),url(https://static.files.bbci.co.uk/fonts/reith/2.512/BBCReithSans_W_Rg.woff) format(\\'woff\\');font-display:swap;}@font-face{font-family:\\'ReithSans\\';src:url(https://static.files.bbci.co.uk/fonts/reith/2.512/BBCReithSans_W_It.woff2) format(\\'woff2\\'),url(https://static.files.bbci.co.uk/fonts/reith/2.512/BBCReithSans_W_It.woff) format(\\'woff\\');font-display:swap;font-style:italic;}@font-face{font-family:\\'ReithSans\\';src:url(https://static.files.bbci.co.uk/fonts/reith/2.512/BBCReithSans_W_Bd.woff2) format(\\'woff2\\'),url(https://static.files.bbci.co.uk/fonts/reith/2.512/BBCReithSans_W_Bd.woff) format(\\'woff\\');font-display:swap;font-weight:700;}@font-face{font-family:\\'ReithSans\\';src:url(https://static.files.bbci.co.uk/fonts/reith/2.512/BBCReithSans_W_BdIt.woff2) format(\\'woff2\\'),url(https://static.files.bbci.co.uk/fonts/reith/2.512/BBCReithSans_W_BdIt.woff) format(\\'woff\\');font-display:swap;font-style:italic;font-weight:700;}@font-face{font-family:\\'ReithSans\\';src:url(https://static.files.bbci.co.uk/fonts/reith/2.512/BBCReithSans_W_Lt.woff2) format(\\'woff2\\'),url(https://static.files.bbci.co.uk/fonts/reith/2.512/BBCReithSans_W_Lt.woff) format(\\'woff\\');font-display:swap;font-weight:300;}@font-face{font-family:\\'ReithSans\\';src:url(https://static.files.bbci.co.uk/fonts/reith/2.512/BBCReithSans_W_LtIt.woff2) format(\\'woff2\\'),url(https://static.files.bbci.co.uk/fonts/reith/2.512/BBCReithSans_W_LtIt.woff) format(\\'woff\\');font-display:swap;font-style:italic;font-weight:300;}@font-face{font-family:\\'ReithSans\\';src:url(https://static.files.bbci.co.uk/fonts/reith/2.512/BBCReithSans_W_ExBd.woff2) format(\\'woff2\\'),url(https://static.files.bbci.co.uk/fonts/reith/2.512/BBCReithSans_W_ExBd.woff) format(\\'woff\\');font-display:swap;font-weight:800;}@font-face{font-family:\\'ReithSans\\';src:url(https://static.files.bbci.co.uk/fonts/reith/2.512/BBCReithSans_W_ExBdIt.woff2) format(\\'woff2\\'),url(https://static.files.bbci.co.uk/fonts/reith/2.512/BBCReithSans_W_ExBdIt.woff) format(\\'woff\\');font-display:swap;font-style:italic;font-weight:800;}@font-face{font-family:\\'ReithSans\\';src:url(https://static.files.bbci.co.uk/fonts/reith/2.512/BBCReithSans_W_Md.woff2) format(\\'woff2\\'),url(https://static.files.bbci.co.uk/fonts/reith/2.512/BBCReithSans_W_Md.woff) format(\\'woff\\');font-display:swap;font-weight:500;}@font-face{font-family:\\'ReithSans\\';src:url(https://static.files.bbci.co.uk/fonts/reith/2.512/BBCReithSans_W_MdIt.woff2) format(\\'woff2\\'),url(https://static.files.bbci.co.uk/fonts/reith/2.512/BBCReithSans_W_MdIt.woff) format(\\'woff\\');font-display:swap;font-style:italic;font-weight:500;}@font-face{font-family:\\'ReithSerif\\';src:url(https://static.files.bbci.co.uk/fonts/reith/2.512/BBCReithSerif_W_Rg.woff2) format(\\'woff2\\'),url(https://static.files.bbci.co.uk/fonts/reith/2.512/BBCReithSerif_W_Rg.woff) format(\\'woff\\');font-display:swap;}@font-face{font-family:\\'ReithSerif\\';src:url(https://static.files.bbci.co.uk/fonts/reith/2.512/BBCReithSerif_W_It.woff2) format(\\'woff2\\'),url(https://static.files.bbci.co.uk/fonts/reith/2.512/BBCReithSerif_W_It.woff) format(\\'woff\\');font-display:swap;font-style:italic;}@font-face{font-family:\\'ReithSerif\\';src:url(https://static.files.bbci.co.uk/fonts/reith/2.512/BBCReithSerif_W_Bd.woff2) format(\\'woff2\\'),url(https://static.files.bbci.co.uk/fonts/reith/2.512/BBCReithSerif_W_Bd.woff) format(\\'woff\\');font-display:swap;font-weight:700;}@font-face{font-family:\\'ReithSerif\\';src:url(https://static.files.bbci.co.uk/fonts/reith/2.512/BBCReithSerif_W_BdIt.woff2) format(\\'woff2\\'),url(https://static.files.bbci.co.uk/fonts/reith/2.512/BBCReithSerif_W_BdIt.woff) format(\\'woff\\');font-display:swap;font-style:italic;font-weight:700;}@font-face{font-family:\\'ReithSerif\\';src:url(https://static.files.bbci.co.uk/fonts/reith/2.512/BBCReithSerif_W_Lt.woff2) format(\\'woff2\\'),url(https://static.files.bbci.co.uk/fonts/reith/2.512/BBCReithSerif_W_Lt.woff) format(\\'woff\\');font-display:swap;font-weight:300;}@font-face{font-family:\\'ReithSerif\\';src:url(https://static.files.bbci.co.uk/fonts/reith/2.512/BBCReithSerif_W_LtIt.woff2) format(\\'woff2\\'),url(https://static.files.bbci.co.uk/fonts/reith/2.512/BBCReithSerif_W_LtIt.woff) format(\\'woff\\');font-display:swap;font-style:italic;font-weight:300;}@font-face{font-family:\\'ReithSerif\\';src:url(https://static.files.bbci.co.uk/fonts/reith/2.512/BBCReithSerif_W_ExBd.woff2) format(\\'woff2\\'),url(https://static.files.bbci.co.uk/fonts/reith/2.512/BBCReithSerif_W_ExBd.woff) format(\\'woff\\');font-display:swap;font-weight:800;}@font-face{font-family:\\'ReithSerif\\';src:url(https://static.files.bbci.co.uk/fonts/reith/2.512/BBCReithSerif_W_ExBdIt.woff2) format(\\'woff2\\'),url(https://static.files.bbci.co.uk/fonts/reith/2.512/BBCReithSerif_W_ExBdIt.woff) format(\\'woff\\');font-display:swap;font-style:italic;font-weight:800;}@font-face{font-family:\\'ReithSerif\\';src:url(https://static.files.bbci.co.uk/fonts/reith/2.512/BBCReithSerif_W_Md.woff2) format(\\'woff2\\'),url(https://static.files.bbci.co.uk/fonts/reith/2.512/BBCReithSerif_W_Md.woff) format(\\'woff\\');font-display:swap;font-weight:500;}@font-face{font-family:\\'ReithSerif\\';src:url(https://static.files.bbci.co.uk/fonts/reith/2.512/BBCReithSerif_W_MdIt.woff2) format(\\'woff2\\'),url(https://static.files.bbci.co.uk/fonts/reith/2.512/BBCReithSerif_W_MdIt.woff) format(\\'woff\\');font-display:swap;font-style:italic;font-weight:500;}body{background-color:#FFFFFF;}:focus-visible{box-shadow:0 0 0 0.125rem #FFFFFF;outline:0.125rem solid #000000;outline-offset:0.125rem;}</style><style data-emotion=\"ssrcss 181c4hk-SectionWrapper 4rxmy3-PageStack l6cntj-ContentStack irv5dn-Zone 1oe5f4g-ChameleonGlobalNavigation 1ocoo3l-Wrap vvyq0-GlobalNavigationContent 1oqq2r6-GlobalNavigationItem bm51oc-NavigationLink-LogoLink fj0f8c-LogoIconWrapper 1f39n02-VisuallyHidden 159k2oa-ChameleonUl 11zd2mu-ChameleonAccessibilityLink ksfdkf-GlobalNavigationItem 76eozk-AccountOptionsList jo7vq7-GlobalNavigationProduct-GlobalNavigationNonProductItem-GlobalNavigationAccount tpup1o-NavigationLink-AccountLink 17cn1ks-AccountIconWrapper xi5oyi-StyledIcon qgttmg-AccountText hr8a74-VerticalSeparator ls269v-ChameleonGlobalNavigationLinkList-En 13wzjg6-GlobalNavigationProduct 11dlz1y-NavigationLink 12ta03h-NavItemHoverState 19w6k2s-GlobalNavigationProduct 1p8labd-NavItemHoverState 10wdlej-NavItemHoverState 6mftle-NavItemHoverState 1l58p0q-NavItemHoverState 1v60727-NavItemHoverState qtp2tt-NavItemHoverState 11uo6b-GlobalNavigationProduct 1tvynlg-NavigationLink-MenuToggleControlLink 1xfakeq-NavItemHoverState 13dpa8i-DotsMenuIconWrapper 69nf57-LastGlobalNavigationItem 5am6e6-GlobalNavigationItem-GlobalNavigationBurger 1myt22i-BurgerMenuIconWrapper 15a3kwz-GlobalNavigationItem s2g7dp-NavigationLink-SearchLink mwl823-IconWrapper-SearchIconWrapper 1tt7th2-SearchText lwaunq-ChameleonDrawerComponentWrapper 14awlky-ChameleonMenuComponentWrapper 1obp207-MenuWrapper 16zd8gh-ChameleonMenuLinkList-En ixmh02-ChameleonNavigationProduct d01d8o-MenuLink 1rh0zde-MenuLink 12f4060-MenuLink 8luduf-MenuLink 1etr8ix-MenuLink l0tei5-MenuLink 1lvt90n-MenuLink usoec7-MenuLink jjaetm-MenuLink z3vxb8-MenuLink 1i8v1n4-CallToActionLink 1hfawy1-IconWrapper 1hgui5j-TextWrapper 73ydgk-ProductNavigationContainer 110xoo0-Masthead 12x0ma7-ContentWrapper 1vyfvn-LogoLink h8vckg-Logo as2ggt-Navigation fx11vr-MainNavBarContainer wq2axq-MenuContainer-PrimaryNavBarContainer 17vmgpw-PrimaryListContainer cxrkrf-ToggleContainer t4t8q-StyledToggle 1m4972l-IconWrapper 196zlx0-MenuListContainer min3p3-StyledMenuList 1hqd1wy-StyledMenuItem gh5gdl-StyledLink 1yycgk3-LinkTextContainer 1mu64ez-StyledLink 1yjaqc9-ToggleContainer 1gc2tn4-MenuContainer-MoreMenuWrapper 6tbwbt-MoreMenuListContainer lnnv4y-MenuListContainer 19kzj3r-StyledMenuList 1jh5vyj-StyledMenuItem s5hlxv-StyledLink 11roo6y-LinkTextContainer 1jvb50f-MenuContainer-SecondaryNavBarContainer s8e6ra-MenuListContainer zx1e83-StyledMenuList s23s7z-StyledMenuItem ojmjjh-StyledLink 1gr85n1-LinkTextContainer 12oaa2e-StyledLink 1gt3c8g-LeaderboardDiv q03fby-ContainerWithSidebarWrapper 1ki8hfp-StyledZone pv1rh6-ArticleWrapper 1eqcsb1-HeadingWrapper 15xko80-StyledHeading 1xpwu3-MetadataStripContainer 13nu8ri-GroupChildrenForWrapping 30fcoe-MetadataStripItem m5j4pi-MetadataContent 1pvwv4b-MetadataSnippet 1if1g9v-MetadataText 1mh4yp1-IconContainer 11faxz6-TagShareWrapper 1ynay8h-StyledInformationPanel i42p3a-Button 1a1fy59-IconWrapper 1bpq5d-StyledPanelContent 4pcgwu-ContentWrapper tt825r-CloseButtonWrapper 1iwzhjp-Button 16sh5ob-PanelWrapper 1t42267-StyledTitleArea 1v2rvfo-Button 1tz2bh9-IconWrapper 18h2t1m-StyledLink 1y79c70-ComponentWrapper 4qvfmb-StyledFigure ab5fd8-StyledFigureContainer 11kpz0x-Placeholder evoj7m-Image tvuve5-StyledFigureCopyright 1mget3o-StyledFigureCaption y7krbn-Stack 11r1m41-RichTextComponentWrapper 7uxr49-RichTextContainer 1q0x1qg-Paragraph hmf8ql-BoldText k17ofw-InlineLink xza2yt-ComponentWrapper xbdn93-ItalicText lr8ohi-Placeholder 19w8cxh-ComponentWrapper-HeadlineComponentWrapper y2fd7s-StyledHeading 1o5f7ft-BulletListContainer 1qmkvfu-TopicListWrapper 1szabdv-StyledTagContainer 50vlbt-TopicListHeaderWrapper q4zz1q-StyledHeading 17ehax8-Cluster 1ujonwb-ClusterItems w6az1r-StyledLink 5i1hhv-LinksComponentWrapper msolhr-LinksWrapper 1lqqmgw-LinksHeadingWrapper 1ypkflt-EndOfContentLinksGrid 547yr3-PromoItem 2z5yft-Promo 1i933za-PromoSwitchLayoutAtBreakpoints 1d68cot-PromoContent 1f3bvyz-Stack 1mrs5ns-PromoLink 17zglt8-PromoHeadline z60stg-PromoImageContainer 17h6w1t-PromoImageContainerInner fec6qv-ImageWrapper 115e9m-StyledZone ykosa2-OnwardJourneysContainerWrapper 13jb8nu-PromoGroupWrapper 1020bd1-Stack 2pgqep-PromoItem 1enzf19-PromoCompact kgm8vt-PromoGroupWrapper 6kxrmq-PromoPortrait 1v1new6-PromoContent 1bns0x8-Placeholder fw358t-PromoGroupWrapper 1ibzzbt-Container smcys4-Wrapper 1giogr2-Number 9n6uek-ColumnWrapper 18cjaf3-Headline 1y7k614-FooterStack 44tgo1-ServiceBar 1a6riyw-ServiceBarTitle lny69r-StyledHeading 1lx08fz-ServiceLinkList 16gfcx-StyledLink fjeiuk-StyledIconContainer 1gyzvqx-GlobalFooterStyling wjed5-Stack 1iurs7n-Columns 18ullcu-Link-NavigationLink x3nlsb-ClusterItems 1xssqxs-Link-LegalLink odwm7b-Link\">.ssrcss-181c4hk-SectionWrapper{display:-webkit-box;display:-webkit-flex;display:-ms-flexbox;display:flex;height:100vh;-webkit-flex-direction:column;-ms-flex-direction:column;flex-direction:column;}.ssrcss-4rxmy3-PageStack{min-height:100vh;display:-webkit-box;display:-webkit-flex;display:-ms-flexbox;display:flex;-webkit-flex-direction:column;-ms-flex-direction:column;flex-direction:column;}.ssrcss-l6cntj-ContentStack{-webkit-flex:1 0 auto;-ms-flex:1 0 auto;flex:1 0 auto;}.ssrcss-1oe5f4g-ChameleonGlobalNavigation{font-family:ReithSans,Helvetica,Arial,freesans,sans-serif;font-weight:700;font-feature-settings:\\'\\';font-size:0.8125rem;line-height:1.2307692307692308;background:#FFFFFF;color:#000000;box-shadow:0 0.0625rem 0 rgba(0,0,0,0.15);position:relative;z-index:1;}.ssrcss-1ocoo3l-Wrap{box-sizing:border-box;margin:0 auto;padding:0 0.5rem;max-width:63rem;}@media (min-width: 25rem){.ssrcss-1ocoo3l-Wrap{padding-right:1rem;padding-left:1rem;}}@media (min-width: 80rem){.ssrcss-1ocoo3l-Wrap{max-width:80rem;}}.ssrcss-vvyq0-GlobalNavigationContent{display:-webkit-box;display:-webkit-flex;display:-ms-flexbox;display:flex;-webkit-box-pack:justify;-webkit-justify-content:space-between;justify-content:space-between;position:relative;}@media (max-width: 37.5rem){.ssrcss-vvyq0-GlobalNavigationContent{padding:0 0.25rem;}}.ssrcss-1oqq2r6-GlobalNavigationItem{display:-webkit-box;display:-webkit-flex;display:-ms-flexbox;display:flex;-webkit-order:1;-ms-flex-order:1;order:1;-webkit-align-self:center;-ms-flex-item-align:center;align-self:center;}@media (min-width: 37.5rem){.ssrcss-1oqq2r6-GlobalNavigationItem{-webkit-order:0;-ms-flex-order:0;order:0;}}.ssrcss-1oqq2r6-GlobalNavigationItem:hover>*>*::after,.ssrcss-1oqq2r6-GlobalNavigationItem:focus>*>*::after,.ssrcss-1oqq2r6-GlobalNavigationItem[data-open=\\'true\\']{width:100%;opacity:100%;}.ssrcss-bm51oc-NavigationLink-LogoLink{display:block;height:100%;line-height:4rem;-webkit-text-decoration:inherit;text-decoration:inherit;color:inherit;white-space:nowrap;text-align:center;min-width:3rem;padding:0;}.ssrcss-bm51oc-NavigationLink-LogoLink:hover .e1gviwgp19::after,.ssrcss-bm51oc-NavigationLink-LogoLink:focus .e1gviwgp19::after,.ssrcss-bm51oc-NavigationLink-LogoLink[data-open=\\'true\\'] .e1gviwgp19::after{width:100%;opacity:1;}@media (min-width: 23.4375rem){.ssrcss-bm51oc-NavigationLink-LogoLink{text-align:center;min-width:2.5rem;}}.ssrcss-fj0f8c-LogoIconWrapper{display:-webkit-inline-box;display:-webkit-inline-flex;display:-ms-inline-flexbox;display:inline-flex;width:7rem;height:2.0625rem;vertical-align:middle;}@media (min-width: 37.5rem){.ssrcss-fj0f8c-LogoIconWrapper{margin-right:0.75rem;}}@media (min-width: 63rem){.ssrcss-fj0f8c-LogoIconWrapper{margin-right:1.25rem;}}.ssrcss-1f39n02-VisuallyHidden{position:absolute;overflow:hidden;margin:0;width:1px;height:1px;-webkit-clip-path:inset(100%);clip-path:inset(100%);clip:rect(1px, 1px, 1px, 1px);white-space:nowrap;}.ssrcss-159k2oa-ChameleonUl{position:absolute;left:0;right:0;top:4.375rem;}.ssrcss-11zd2mu-ChameleonAccessibilityLink{position:absolute;overflow:hidden;margin:0;width:1px;height:1px;-webkit-clip-path:inset(100%);clip-path:inset(100%);clip:rect(1px, 1px, 1px, 1px);white-space:nowrap;}.ssrcss-11zd2mu-ChameleonAccessibilityLink:focus{position:static;overflow:visible;width:auto;height:auto;-webkit-clip-path:none;clip-path:none;clip:auto;white-space:inherit;font-family:ReithSans,Helvetica,Arial,freesans,sans-serif;font-weight:700;font-feature-settings:\\'\\';font-size:0.8125rem;line-height:1.2307692307692308;display:block;top:0;left:0;z-index:1;padding:1rem;background:#FFFFFF;border:1px solid #8A8C8E;-webkit-text-decoration:none;text-decoration:none;color:inherit;margin:auto;width:-webkit-max-content;width:-moz-max-content;width:max-content;}@media (min-width: 37.5rem){.ssrcss-11zd2mu-ChameleonAccessibilityLink:focus{position:absolute;}}.ssrcss-ksfdkf-GlobalNavigationItem{display:-webkit-box;display:-webkit-flex;display:-ms-flexbox;display:flex;-webkit-order:0;-ms-flex-order:0;order:0;-webkit-align-self:center;-ms-flex-item-align:center;align-self:center;}@media (min-width: 37.5rem){.ssrcss-ksfdkf-GlobalNavigationItem{-webkit-order:0;-ms-flex-order:0;order:0;width:100%;}}.ssrcss-ksfdkf-GlobalNavigationItem:hover>*>*::after,.ssrcss-ksfdkf-GlobalNavigationItem:focus>*>*::after,.ssrcss-ksfdkf-GlobalNavigationItem[data-open=\\'true\\']{width:100%;opacity:100%;}.ssrcss-76eozk-AccountOptionsList{display:-webkit-box;display:-webkit-flex;display:-ms-flexbox;display:flex;}.ssrcss-76eozk-AccountOptionsList >li{display:-webkit-box;display:-webkit-flex;display:-ms-flexbox;display:flex;}.ssrcss-jo7vq7-GlobalNavigationProduct-GlobalNavigationNonProductItem-GlobalNavigationAccount{color:#000000;text-align:center;text-align:left;}.ssrcss-jo7vq7-GlobalNavigationProduct-GlobalNavigationNonProductItem-GlobalNavigationAccount:focus>*>*::after,.ssrcss-jo7vq7-GlobalNavigationProduct-GlobalNavigationNonProductItem-GlobalNavigationAccount[data-open=\\'true\\']{width:100%;opacity:100%;}@media (min-width: 37.5rem){.ssrcss-jo7vq7-GlobalNavigationProduct-GlobalNavigationNonProductItem-GlobalNavigationAccount{min-width:3rem;}}.ssrcss-tpup1o-NavigationLink-AccountLink{display:block;height:100%;line-height:4rem;-webkit-text-decoration:inherit;text-decoration:inherit;color:inherit;white-space:nowrap;text-align:center;min-width:3rem;box-sizing:border-box;white-space:nowrap;overflow:hidden;text-overflow:ellipsis;min-width:2.5rem;position:relative;-webkit-text-decoration:none;text-decoration:none;display:inline-block;text-align:left;}.ssrcss-tpup1o-NavigationLink-AccountLink:hover .e1gviwgp19::after,.ssrcss-tpup1o-NavigationLink-AccountLink:focus .e1gviwgp19::after,.ssrcss-tpup1o-NavigationLink-AccountLink[data-open=\\'true\\'] .e1gviwgp19::after{width:100%;opacity:1;}@media (min-width: 23.4375rem){.ssrcss-tpup1o-NavigationLink-AccountLink{text-align:center;min-width:2.5rem;}}.ssrcss-tpup1o-NavigationLink-AccountLink::after{content:\\'\\';display:block;background-color:#0071F1;position:absolute;right:0;left:0;bottom:0.625rem;height:0.125rem;width:66%;opacity:0;}@media (forced-colors: active){.ssrcss-tpup1o-NavigationLink-AccountLink:hover,.ssrcss-tpup1o-NavigationLink-AccountLink:focus,.ssrcss-tpup1o-NavigationLink-AccountLink[data-open=\\'true\\']{margin-bottom:-1px;border-bottom:1px solid currentcolor!important;}}.ssrcss-tpup1o-NavigationLink-AccountLink:hover::after,.ssrcss-tpup1o-NavigationLink-AccountLink:focus::after,.ssrcss-tpup1o-NavigationLink-AccountLink[data-open=\\'true\\']::after{width:100%;opacity:1;}@media (prefers-reduced-motion: no-preference){.ssrcss-tpup1o-NavigationLink-AccountLink::after{-webkit-transition:width 0.2s,opacity 0.2s;transition:width 0.2s,opacity 0.2s;transition-timing-function:cubic-bezier(0.75, 0, 0.15, 1);}}@media (min-width: 23.4375rem){.ssrcss-tpup1o-NavigationLink-AccountLink{min-width:3rem;text-align:center;}}@media (min-width: 63rem){.ssrcss-tpup1o-NavigationLink-AccountLink{width:8.5rem;text-align:left;}}@media (min-width: 80rem){.ssrcss-tpup1o-NavigationLink-AccountLink{width:11rem;}}.ssrcss-17cn1ks-AccountIconWrapper{display:inline-block;width:2rem;height:2rem;vertical-align:-0.6875rem;}@media (min-width: 63rem){.ssrcss-17cn1ks-AccountIconWrapper{width:1.75rem;height:1.75rem;vertical-align:-0.5625rem;}}.ssrcss-xi5oyi-StyledIcon{display:block;height:100%;width:100%;fill:currentcolor;}.ssrcss-qgttmg-AccountText{position:absolute;overflow:hidden;margin:0;width:1px;height:1px;-webkit-clip-path:inset(100%);clip-path:inset(100%);clip:rect(1px, 1px, 1px, 1px);white-space:nowrap;}@media (min-width: 63rem){.ssrcss-qgttmg-AccountText{position:static;overflow:visible;width:auto;height:auto;-webkit-clip-path:none;clip-path:none;clip:auto;white-space:inherit;margin-left:0.5rem;}}.ssrcss-hr8a74-VerticalSeparator{display:none;}@media (min-width: 37.5rem){.ssrcss-hr8a74-VerticalSeparator{display:block;border-left:0.0625rem solid #E6E8EA;height:1.5rem;margin-top:1.25rem;}}.ssrcss-ls269v-ChameleonGlobalNavigationLinkList-En{-webkit-flex:auto;-ms-flex:auto;flex:auto;display:-webkit-box;display:-webkit-flex;display:-ms-flexbox;display:flex;-webkit-box-pack:justify;-webkit-justify-content:space-between;justify-content:space-between;}.ssrcss-ls269v-ChameleonGlobalNavigationLinkList-En >li{display:none;}@media (min-width: 37.5rem){.ssrcss-ls269v-ChameleonGlobalNavigationLinkList-En >li:nth-of-type(8){display:-webkit-box;display:-webkit-flex;display:-ms-flexbox;display:flex;-webkit-box-pack:space-evenly;-ms-flex-pack:space-evenly;-webkit-justify-content:space-evenly;justify-content:space-evenly;}}@media (min-width: 37.5rem){.ssrcss-ls269v-ChameleonGlobalNavigationLinkList-En >li:nth-of-type(1),.ssrcss-ls269v-ChameleonGlobalNavigationLinkList-En li:nth-of-type(2),.ssrcss-ls269v-ChameleonGlobalNavigationLinkList-En li:nth-of-type(3){display:-webkit-box;display:-webkit-flex;display:-ms-flexbox;display:flex;-webkit-box-pack:space-evenly;-ms-flex-pack:space-evenly;-webkit-justify-content:space-evenly;justify-content:space-evenly;}}@media (min-width: 37.5rem){.ssrcss-ls269v-ChameleonGlobalNavigationLinkList-En >li:nth-of-type(4){display:-webkit-box;display:-webkit-flex;display:-ms-flexbox;display:flex;-webkit-box-pack:space-evenly;-ms-flex-pack:space-evenly;-webkit-justify-content:space-evenly;justify-content:space-evenly;}}@media (min-width: 41.25rem){.ssrcss-ls269v-ChameleonGlobalNavigationLinkList-En >li:nth-of-type(5){display:-webkit-box;display:-webkit-flex;display:-ms-flexbox;display:flex;-webkit-box-pack:space-evenly;-ms-flex-pack:space-evenly;-webkit-justify-content:space-evenly;justify-content:space-evenly;}}@media (min-width: 45.5rem){.ssrcss-ls269v-ChameleonGlobalNavigationLinkList-En >li:nth-of-type(6){display:-webkit-box;display:-webkit-flex;display:-ms-flexbox;display:flex;-webkit-box-pack:space-evenly;-ms-flex-pack:space-evenly;-webkit-justify-content:space-evenly;justify-content:space-evenly;}}@media (min-width: 48rem){.ssrcss-ls269v-ChameleonGlobalNavigationLinkList-En >li:nth-of-type(7){display:-webkit-box;display:-webkit-flex;display:-ms-flexbox;display:flex;-webkit-box-pack:space-evenly;-ms-flex-pack:space-evenly;-webkit-justify-content:space-evenly;justify-content:space-evenly;}}.ssrcss-13wzjg6-GlobalNavigationProduct{color:#000000;text-align:center;margin-left:0.5rem;}.ssrcss-13wzjg6-GlobalNavigationProduct:focus>*>*::after,.ssrcss-13wzjg6-GlobalNavigationProduct[data-open=\\'true\\']{width:100%;opacity:100%;}@media (min-width: 37.5rem){.ssrcss-13wzjg6-GlobalNavigationProduct{min-width:3rem;}}.ssrcss-11dlz1y-NavigationLink{display:block;height:100%;line-height:4rem;-webkit-text-decoration:inherit;text-decoration:inherit;color:inherit;white-space:nowrap;text-align:center;min-width:3rem;}.ssrcss-11dlz1y-NavigationLink:hover .e1gviwgp19::after,.ssrcss-11dlz1y-NavigationLink:focus .e1gviwgp19::after,.ssrcss-11dlz1y-NavigationLink[data-open=\\'true\\'] .e1gviwgp19::after{width:100%;opacity:1;}@media (min-width: 23.4375rem){.ssrcss-11dlz1y-NavigationLink{text-align:center;min-width:2.5rem;}}.ssrcss-12ta03h-NavItemHoverState{position:relative;-webkit-text-decoration:none;text-decoration:none;display:inline-block;}.ssrcss-12ta03h-NavItemHoverState::after{content:\\'\\';display:block;background-color:#000000;position:absolute;right:0;left:0;bottom:0.625rem;height:0.125rem;width:66%;opacity:0;}@media (forced-colors: active){.ssrcss-12ta03h-NavItemHoverState:hover,.ssrcss-12ta03h-NavItemHoverState:focus,.ssrcss-12ta03h-NavItemHoverState[data-open=\\'true\\']{margin-bottom:-1px;border-bottom:1px solid currentcolor!important;}}.ssrcss-12ta03h-NavItemHoverState:hover::after,.ssrcss-12ta03h-NavItemHoverState:focus::after,.ssrcss-12ta03h-NavItemHoverState[data-open=\\'true\\']::after{width:100%;opacity:1;}@media (prefers-reduced-motion: no-preference){.ssrcss-12ta03h-NavItemHoverState::after{-webkit-transition:width 0.2s,opacity 0.2s;transition:width 0.2s,opacity 0.2s;transition-timing-function:cubic-bezier(0.75, 0, 0.15, 1);}}.ssrcss-19w6k2s-GlobalNavigationProduct{color:#000000;text-align:center;}.ssrcss-19w6k2s-GlobalNavigationProduct:focus>*>*::after,.ssrcss-19w6k2s-GlobalNavigationProduct[data-open=\\'true\\']{width:100%;opacity:100%;}@media (min-width: 37.5rem){.ssrcss-19w6k2s-GlobalNavigationProduct{min-width:3rem;}}.ssrcss-1p8labd-NavItemHoverState{position:relative;-webkit-text-decoration:none;text-decoration:none;display:inline-block;}.ssrcss-1p8labd-NavItemHoverState::after{content:\\'\\';display:block;background-color:#EB1212;position:absolute;right:0;left:0;bottom:0.625rem;height:0.125rem;width:66%;opacity:0;}@media (forced-colors: active){.ssrcss-1p8labd-NavItemHoverState:hover,.ssrcss-1p8labd-NavItemHoverState:focus,.ssrcss-1p8labd-NavItemHoverState[data-open=\\'true\\']{margin-bottom:-1px;border-bottom:1px solid currentcolor!important;}}.ssrcss-1p8labd-NavItemHoverState:hover::after,.ssrcss-1p8labd-NavItemHoverState:focus::after,.ssrcss-1p8labd-NavItemHoverState[data-open=\\'true\\']::after{width:100%;opacity:1;}@media (prefers-reduced-motion: no-preference){.ssrcss-1p8labd-NavItemHoverState::after{-webkit-transition:width 0.2s,opacity 0.2s;transition:width 0.2s,opacity 0.2s;transition-timing-function:cubic-bezier(0.75, 0, 0.15, 1);}}.ssrcss-10wdlej-NavItemHoverState{position:relative;-webkit-text-decoration:none;text-decoration:none;display:inline-block;}.ssrcss-10wdlej-NavItemHoverState::after{content:\\'\\';display:block;background-color:#FFD230;position:absolute;right:0;left:0;bottom:0.625rem;height:0.125rem;width:66%;opacity:0;}@media (forced-colors: active){.ssrcss-10wdlej-NavItemHoverState:hover,.ssrcss-10wdlej-NavItemHoverState:focus,.ssrcss-10wdlej-NavItemHoverState[data-open=\\'true\\']{margin-bottom:-1px;border-bottom:1px solid currentcolor!important;}}.ssrcss-10wdlej-NavItemHoverState:hover::after,.ssrcss-10wdlej-NavItemHoverState:focus::after,.ssrcss-10wdlej-NavItemHoverState[data-open=\\'true\\']::after{width:100%;opacity:1;}@media (prefers-reduced-motion: no-preference){.ssrcss-10wdlej-NavItemHoverState::after{-webkit-transition:width 0.2s,opacity 0.2s;transition:width 0.2s,opacity 0.2s;transition-timing-function:cubic-bezier(0.75, 0, 0.15, 1);}}.ssrcss-6mftle-NavItemHoverState{position:relative;-webkit-text-decoration:none;text-decoration:none;display:inline-block;}.ssrcss-6mftle-NavItemHoverState::after{content:\\'\\';display:block;background-color:#0068FF;position:absolute;right:0;left:0;bottom:0.625rem;height:0.125rem;width:66%;opacity:0;}@media (forced-colors: active){.ssrcss-6mftle-NavItemHoverState:hover,.ssrcss-6mftle-NavItemHoverState:focus,.ssrcss-6mftle-NavItemHoverState[data-open=\\'true\\']{margin-bottom:-1px;border-bottom:1px solid currentcolor!important;}}.ssrcss-6mftle-NavItemHoverState:hover::after,.ssrcss-6mftle-NavItemHoverState:focus::after,.ssrcss-6mftle-NavItemHoverState[data-open=\\'true\\']::after{width:100%;opacity:1;}@media (prefers-reduced-motion: no-preference){.ssrcss-6mftle-NavItemHoverState::after{-webkit-transition:width 0.2s,opacity 0.2s;transition:width 0.2s,opacity 0.2s;transition-timing-function:cubic-bezier(0.75, 0, 0.15, 1);}}.ssrcss-1l58p0q-NavItemHoverState{position:relative;-webkit-text-decoration:none;text-decoration:none;display:inline-block;}.ssrcss-1l58p0q-NavItemHoverState::after{content:\\'\\';display:block;background-color:#0052A1;position:absolute;right:0;left:0;bottom:0.625rem;height:0.125rem;width:66%;opacity:0;}@media (forced-colors: active){.ssrcss-1l58p0q-NavItemHoverState:hover,.ssrcss-1l58p0q-NavItemHoverState:focus,.ssrcss-1l58p0q-NavItemHoverState[data-open=\\'true\\']{margin-bottom:-1px;border-bottom:1px solid currentcolor!important;}}.ssrcss-1l58p0q-NavItemHoverState:hover::after,.ssrcss-1l58p0q-NavItemHoverState:focus::after,.ssrcss-1l58p0q-NavItemHoverState[data-open=\\'true\\']::after{width:100%;opacity:1;}@media (prefers-reduced-motion: no-preference){.ssrcss-1l58p0q-NavItemHoverState::after{-webkit-transition:width 0.2s,opacity 0.2s;transition:width 0.2s,opacity 0.2s;transition-timing-function:cubic-bezier(0.75, 0, 0.15, 1);}}.ssrcss-1v60727-NavItemHoverState{position:relative;-webkit-text-decoration:none;text-decoration:none;display:inline-block;}.ssrcss-1v60727-NavItemHoverState::after{content:\\'\\';display:block;background-color:#589E50;position:absolute;right:0;left:0;bottom:0.625rem;height:0.125rem;width:66%;opacity:0;}@media (forced-colors: active){.ssrcss-1v60727-NavItemHoverState:hover,.ssrcss-1v60727-NavItemHoverState:focus,.ssrcss-1v60727-NavItemHoverState[data-open=\\'true\\']{margin-bottom:-1px;border-bottom:1px solid currentcolor!important;}}.ssrcss-1v60727-NavItemHoverState:hover::after,.ssrcss-1v60727-NavItemHoverState:focus::after,.ssrcss-1v60727-NavItemHoverState[data-open=\\'true\\']::after{width:100%;opacity:1;}@media (prefers-reduced-motion: no-preference){.ssrcss-1v60727-NavItemHoverState::after{-webkit-transition:width 0.2s,opacity 0.2s;transition:width 0.2s,opacity 0.2s;transition-timing-function:cubic-bezier(0.75, 0, 0.15, 1);}}.ssrcss-qtp2tt-NavItemHoverState{position:relative;-webkit-text-decoration:none;text-decoration:none;display:inline-block;}.ssrcss-qtp2tt-NavItemHoverState::after{content:\\'\\';display:block;background-color:#002856;position:absolute;right:0;left:0;bottom:0.625rem;height:0.125rem;width:66%;opacity:0;}@media (forced-colors: active){.ssrcss-qtp2tt-NavItemHoverState:hover,.ssrcss-qtp2tt-NavItemHoverState:focus,.ssrcss-qtp2tt-NavItemHoverState[data-open=\\'true\\']{margin-bottom:-1px;border-bottom:1px solid currentcolor!important;}}.ssrcss-qtp2tt-NavItemHoverState:hover::after,.ssrcss-qtp2tt-NavItemHoverState:focus::after,.ssrcss-qtp2tt-NavItemHoverState[data-open=\\'true\\']::after{width:100%;opacity:1;}@media (prefers-reduced-motion: no-preference){.ssrcss-qtp2tt-NavItemHoverState::after{-webkit-transition:width 0.2s,opacity 0.2s;transition:width 0.2s,opacity 0.2s;transition-timing-function:cubic-bezier(0.75, 0, 0.15, 1);}}.ssrcss-11uo6b-GlobalNavigationProduct{color:#000000;text-align:center;}.ssrcss-11uo6b-GlobalNavigationProduct:focus>*>*::after,.ssrcss-11uo6b-GlobalNavigationProduct[data-open=\\'true\\']{width:100%;opacity:100%;}@media (min-width: 37.5rem){.ssrcss-11uo6b-GlobalNavigationProduct{min-width:3rem;}}@media (min-width: 37.5rem){.ssrcss-11uo6b-GlobalNavigationProduct{max-width:3rem;-webkit-box-pack:end;-ms-flex-pack:end;-webkit-justify-content:flex-end;justify-content:flex-end;}}.ssrcss-1tvynlg-NavigationLink-MenuToggleControlLink{display:block;height:100%;line-height:4rem;-webkit-text-decoration:inherit;text-decoration:inherit;color:inherit;white-space:nowrap;text-align:center;min-width:3rem;min-width:2.5rem;}.ssrcss-1tvynlg-NavigationLink-MenuToggleControlLink:hover .e1gviwgp19::after,.ssrcss-1tvynlg-NavigationLink-MenuToggleControlLink:focus .e1gviwgp19::after,.ssrcss-1tvynlg-NavigationLink-MenuToggleControlLink[data-open=\\'true\\'] .e1gviwgp19::after{width:100%;opacity:1;}@media (min-width: 23.4375rem){.ssrcss-1tvynlg-NavigationLink-MenuToggleControlLink{text-align:center;min-width:2.5rem;}}@media (min-width: 23.4375rem){.ssrcss-1tvynlg-NavigationLink-MenuToggleControlLink{min-width:3rem;}}.ssrcss-1xfakeq-NavItemHoverState{position:relative;-webkit-text-decoration:none;text-decoration:none;display:inline-block;}.ssrcss-1xfakeq-NavItemHoverState::after{content:\\'\\';display:block;background-color:#000000;position:absolute;right:0;left:0;bottom:0.625rem;height:0.125rem;width:66%;opacity:0;}@media (forced-colors: active){.ssrcss-1xfakeq-NavItemHoverState:hover,.ssrcss-1xfakeq-NavItemHoverState:focus,.ssrcss-1xfakeq-NavItemHoverState[data-open=\\'true\\']{margin-bottom:-1px;border-bottom:1px solid currentcolor!important;}}.ssrcss-1xfakeq-NavItemHoverState:hover::after,.ssrcss-1xfakeq-NavItemHoverState:focus::after,.ssrcss-1xfakeq-NavItemHoverState[data-open=\\'true\\']::after{width:100%;opacity:1;}@media (prefers-reduced-motion: no-preference){.ssrcss-1xfakeq-NavItemHoverState::after{-webkit-transition:width 0.2s,opacity 0.2s;transition:width 0.2s,opacity 0.2s;transition-timing-function:cubic-bezier(0.75, 0, 0.15, 1);}}@media (min-width: 37.5rem){.ssrcss-1xfakeq-NavItemHoverState{width:2rem;}}.ssrcss-13dpa8i-DotsMenuIconWrapper{display:none;}@media (min-width: 37.5rem){.ssrcss-13dpa8i-DotsMenuIconWrapper{display:inline-block;width:1.25rem;height:0.25rem;}.ssrcss-13dpa8i-DotsMenuIconWrapper>svg{vertical-align:0.1875rem;}}.ssrcss-69nf57-LastGlobalNavigationItem{display:-webkit-box;display:-webkit-flex;display:-ms-flexbox;display:flex;-webkit-order:2;-ms-flex-order:2;order:2;-webkit-align-self:center;-ms-flex-item-align:center;align-self:center;}@media (min-width: 37.5rem){.ssrcss-69nf57-LastGlobalNavigationItem{-webkit-order:0;-ms-flex-order:0;order:0;}}.ssrcss-5am6e6-GlobalNavigationItem-GlobalNavigationBurger{display:-webkit-box;display:-webkit-flex;display:-ms-flexbox;display:flex;-webkit-align-self:center;-ms-flex-item-align:center;align-self:center;width:2.5rem;}@media (min-width: 37.5rem){.ssrcss-5am6e6-GlobalNavigationItem-GlobalNavigationBurger{-webkit-order:0;-ms-flex-order:0;order:0;}}.ssrcss-5am6e6-GlobalNavigationItem-GlobalNavigationBurger:hover>*>*::after,.ssrcss-5am6e6-GlobalNavigationItem-GlobalNavigationBurger:focus>*>*::after,.ssrcss-5am6e6-GlobalNavigationItem-GlobalNavigationBurger[data-open=\\'true\\']{width:100%;opacity:100%;}@media (min-width: 23.4375rem){.ssrcss-5am6e6-GlobalNavigationItem-GlobalNavigationBurger{width:3rem;}}@media (min-width: 37.5rem){.ssrcss-5am6e6-GlobalNavigationItem-GlobalNavigationBurger{display:none;}}.ssrcss-1myt22i-BurgerMenuIconWrapper{display:-webkit-inline-box;display:-webkit-inline-flex;display:-ms-inline-flexbox;display:inline-flex;width:1.5rem;height:1.375rem;vertical-align:-0.5em;-webkit-box-pack:space-evenly;-ms-flex-pack:space-evenly;-webkit-justify-content:space-evenly;justify-content:space-evenly;}@media (min-width: 37.5rem){.ssrcss-1myt22i-BurgerMenuIconWrapper{display:none;}}.ssrcss-15a3kwz-GlobalNavigationItem{display:-webkit-box;display:-webkit-flex;display:-ms-flexbox;display:flex;-webkit-align-self:center;-ms-flex-item-align:center;align-self:center;}@media (min-width: 37.5rem){.ssrcss-15a3kwz-GlobalNavigationItem{-webkit-order:0;-ms-flex-order:0;order:0;}}.ssrcss-15a3kwz-GlobalNavigationItem:hover>*>*::after,.ssrcss-15a3kwz-GlobalNavigationItem:focus>*>*::after,.ssrcss-15a3kwz-GlobalNavigationItem[data-open=\\'true\\']{width:100%;opacity:100%;}.ssrcss-s2g7dp-NavigationLink-SearchLink{display:block;height:100%;line-height:4rem;-webkit-text-decoration:inherit;text-decoration:inherit;color:inherit;white-space:nowrap;text-align:center;min-width:3rem;background:none;min-width:2.5rem;text-align:right;position:relative;-webkit-text-decoration:none;text-decoration:none;display:inline-block;}.ssrcss-s2g7dp-NavigationLink-SearchLink:hover .e1gviwgp19::after,.ssrcss-s2g7dp-NavigationLink-SearchLink:focus .e1gviwgp19::after,.ssrcss-s2g7dp-NavigationLink-SearchLink[data-open=\\'true\\'] .e1gviwgp19::after{width:100%;opacity:1;}@media (min-width: 23.4375rem){.ssrcss-s2g7dp-NavigationLink-SearchLink{text-align:center;min-width:2.5rem;}}.ssrcss-s2g7dp-NavigationLink-SearchLink::after{content:\\'\\';display:block;background-color:#000000;position:absolute;right:0;left:0;bottom:0.625rem;height:0.125rem;width:66%;opacity:0;}@media (forced-colors: active){.ssrcss-s2g7dp-NavigationLink-SearchLink:hover,.ssrcss-s2g7dp-NavigationLink-SearchLink:focus,.ssrcss-s2g7dp-NavigationLink-SearchLink[data-open=\\'true\\']{margin-bottom:-1px;border-bottom:1px solid currentcolor!important;}}.ssrcss-s2g7dp-NavigationLink-SearchLink:hover::after,.ssrcss-s2g7dp-NavigationLink-SearchLink:focus::after,.ssrcss-s2g7dp-NavigationLink-SearchLink[data-open=\\'true\\']::after{width:100%;opacity:1;}@media (prefers-reduced-motion: no-preference){.ssrcss-s2g7dp-NavigationLink-SearchLink::after{-webkit-transition:width 0.2s,opacity 0.2s;transition:width 0.2s,opacity 0.2s;transition-timing-function:cubic-bezier(0.75, 0, 0.15, 1);}}@media (min-width: 23.4375rem){.ssrcss-s2g7dp-NavigationLink-SearchLink{min-width:3rem;width:3rem;text-align:center;}}@media (min-width: 80rem){.ssrcss-s2g7dp-NavigationLink-SearchLink{background:#E6E8EA;display:-webkit-box;display:-webkit-flex;display:-ms-flexbox;display:flex;-webkit-align-items:center;-webkit-box-align:center;-ms-flex-align:center;align-items:center;height:1rem;padding:0.75rem 0.625rem;margin-left:0.5rem;min-width:11.25rem;}.ssrcss-s2g7dp-NavigationLink-SearchLink::after{display:none;}}.ssrcss-mwl823-IconWrapper-SearchIconWrapper{display:inline-block;width:1.625rem;height:1.625rem;vertical-align:middle;color:#000000;width:1.75rem;height:1.8125rem;}@media (min-width: 80rem){.ssrcss-mwl823-IconWrapper-SearchIconWrapper{width:1.375rem;height:1.375rem;}}@media (min-width: 80rem){.ssrcss-mwl823-IconWrapper-SearchIconWrapper{width:1rem;height:1rem;vertical-align:-0.25rem;}}.ssrcss-1tt7th2-SearchText{padding-left:0.5rem;color:#000000;position:absolute;overflow:hidden;margin:0;width:1px;height:1px;-webkit-clip-path:inset(100%);clip-path:inset(100%);clip:rect(1px, 1px, 1px, 1px);white-space:nowrap;}@media (min-width: 80rem){.ssrcss-1tt7th2-SearchText{position:static;overflow:visible;width:auto;height:auto;-webkit-clip-path:none;clip-path:none;clip:auto;white-space:inherit;}}.ssrcss-lwaunq-ChameleonDrawerComponentWrapper{overflow:hidden;visibility:hidden;}@media (prefers-reduced-motion: no-preference){.ssrcss-lwaunq-ChameleonDrawerComponentWrapper>*{transition-property:max-height,height;transition-timing-function:cubic-bezier(0.75, 0, 0.15, 1);transition-delay:0s,0s,0.4s;transition-duration:0.4s,0.4s,0s;}.ssrcss-lwaunq-ChameleonDrawerComponentWrapper>*{transition-property:max-height,height,display;}@media (min-width: 37.5rem){.ssrcss-lwaunq-ChameleonDrawerComponentWrapper>*{transition-duration:0.2s,0.2s,0s;}}}.ssrcss-lwaunq-ChameleonDrawerComponentWrapper:focus{outline:5px auto -webkit-focus-ring-color;}.ssrcss-14awlky-ChameleonMenuComponentWrapper{height:0;}.ssrcss-14awlky-ChameleonMenuComponentWrapper:target{visibility:visible;display:block;height:24rem;}@media (min-width: 37.5rem){.ssrcss-14awlky-ChameleonMenuComponentWrapper:target{height:4.0625rem;}}@media (min-width: 37.5rem) and (max-width: 41.1875rem){.ssrcss-14awlky-ChameleonMenuComponentWrapper:target{height:8.125rem;}}@media (min-width: 41.25rem){.ssrcss-14awlky-ChameleonMenuComponentWrapper:target{height:4.0625rem;}}.ssrcss-1obp207-MenuWrapper{display:-webkit-box;display:-webkit-flex;display:-ms-flexbox;display:flex;-webkit-box-pack:justify;-webkit-justify-content:space-between;justify-content:space-between;}.ssrcss-16zd8gh-ChameleonMenuLinkList-En{display:-webkit-box;display:-webkit-flex;display:-ms-flexbox;display:flex;-webkit-flex:auto;-ms-flex:auto;flex:auto;-webkit-align-items:center;-webkit-box-align:center;-ms-flex-align:center;align-items:center;-webkit-box-flex-wrap:wrap;-webkit-flex-wrap:wrap;-ms-flex-wrap:wrap;flex-wrap:wrap;}.ssrcss-16zd8gh-ChameleonMenuLinkList-En:focus{outline:none;}.ssrcss-16zd8gh-ChameleonMenuLinkList-En>li{display:-webkit-box;display:-webkit-flex;display:-ms-flexbox;display:flex;-webkit-align-items:center;-webkit-box-align:center;-ms-flex-align:center;align-items:center;-webkit-flex-basis:50%;-ms-flex-preferred-size:50%;flex-basis:50%;}@media (min-width: 37.5rem){.ssrcss-16zd8gh-ChameleonMenuLinkList-En>li{-webkit-flex-basis:auto;-ms-flex-preferred-size:auto;flex-basis:auto;}}@supports (display: grid){.ssrcss-16zd8gh-ChameleonMenuLinkList-En{display:grid;grid-gap:0 0.5rem;gap:0 0.5rem;grid-template-columns:repeat(2, minmax(7.5rem, 1fr));}@media (min-width: 37.5rem){.ssrcss-16zd8gh-ChameleonMenuLinkList-En{display:-webkit-box;display:-webkit-flex;display:-ms-flexbox;display:flex;-webkit-box-flex-wrap:wrap;-webkit-flex-wrap:wrap;-ms-flex-wrap:wrap;flex-wrap:wrap;}}.ssrcss-16zd8gh-ChameleonMenuLinkList-En>li{min-width:initial;}}@media (min-width: 37.5rem){.ssrcss-16zd8gh-ChameleonMenuLinkList-En >li:nth-of-type(1),.ssrcss-16zd8gh-ChameleonMenuLinkList-En li:nth-of-type(2),.ssrcss-16zd8gh-ChameleonMenuLinkList-En li:nth-of-type(3){display:none;}}@media (min-width: 37.5rem){.ssrcss-16zd8gh-ChameleonMenuLinkList-En >li{padding-right:1.25rem;}.ssrcss-16zd8gh-ChameleonMenuLinkList-En >li:nth-of-type(4){display:none;}}@media (min-width: 41.25rem){.ssrcss-16zd8gh-ChameleonMenuLinkList-En >li:nth-of-type(5){display:none;}}@media (min-width: 45.5rem){.ssrcss-16zd8gh-ChameleonMenuLinkList-En >li:nth-of-type(6){display:none;}}@media (min-width: 48rem){.ssrcss-16zd8gh-ChameleonMenuLinkList-En >li:nth-of-type(7){display:none;}}.ssrcss-ixmh02-ChameleonNavigationProduct{height:4rem;-webkit-align-items:stretch;-webkit-box-align:stretch;-ms-flex-align:stretch;align-items:stretch;}.ssrcss-ixmh02-ChameleonNavigationProduct:focus>*::after,.ssrcss-ixmh02-ChameleonNavigationProduct[data-open=\\'true\\']{width:100%;opacity:100%;}.ssrcss-d01d8o-MenuLink{font-size:1rem;line-height:1.375;display:-webkit-box;display:-webkit-flex;display:-ms-flexbox;display:flex;-webkit-box-pack:center;-ms-flex-pack:center;-webkit-justify-content:center;justify-content:center;-webkit-align-items:center;-webkit-box-align:center;-ms-flex-align:center;align-items:center;margin:0.125rem;-webkit-text-decoration:inherit;text-decoration:inherit;color:#000000;white-space:nowrap;position:relative;height:100%;}.ssrcss-d01d8o-MenuLink::after{content:\\'\\';display:block;background-color:#141414;position:absolute;right:0;left:0;bottom:0.75rem;height:0.125rem;width:0;opacity:0;}.ssrcss-d01d8o-MenuLink:hover::after,.ssrcss-d01d8o-MenuLink:focus::after,.ssrcss-d01d8o-MenuLink[data-open=\\'true\\']::after{width:100%;opacity:1;}@media (min-width: 37.5rem){.ssrcss-d01d8o-MenuLink{font-size:0.8125rem;line-height:1.2307692307692308;}}@media (min-width: 56.25rem){.ssrcss-d01d8o-MenuLink{margin:0.375rem;}}@media (prefers-reduced-motion: no-preference){.ssrcss-d01d8o-MenuLink::after{-webkit-transition:width 0.2s,opacity 0.2s;transition:width 0.2s,opacity 0.2s;transition-timing-function:cubic-bezier(0.75, 0, 0.15, 1);}}.ssrcss-1rh0zde-MenuLink{font-size:1rem;line-height:1.375;display:-webkit-box;display:-webkit-flex;display:-ms-flexbox;display:flex;-webkit-box-pack:center;-ms-flex-pack:center;-webkit-justify-content:center;justify-content:center;-webkit-align-items:center;-webkit-box-align:center;-ms-flex-align:center;align-items:center;margin:0.125rem;-webkit-text-decoration:inherit;text-decoration:inherit;color:#000000;white-space:nowrap;position:relative;height:100%;}.ssrcss-1rh0zde-MenuLink::after{content:\\'\\';display:block;background-color:#EB1212;position:absolute;right:0;left:0;bottom:0.75rem;height:0.125rem;width:0;opacity:0;}.ssrcss-1rh0zde-MenuLink:hover::after,.ssrcss-1rh0zde-MenuLink:focus::after,.ssrcss-1rh0zde-MenuLink[data-open=\\'true\\']::after{width:100%;opacity:1;}@media (min-width: 37.5rem){.ssrcss-1rh0zde-MenuLink{font-size:0.8125rem;line-height:1.2307692307692308;}}@media (min-width: 56.25rem){.ssrcss-1rh0zde-MenuLink{margin:0.375rem;}}@media (prefers-reduced-motion: no-preference){.ssrcss-1rh0zde-MenuLink::after{-webkit-transition:width 0.2s,opacity 0.2s;transition:width 0.2s,opacity 0.2s;transition-timing-function:cubic-bezier(0.75, 0, 0.15, 1);}}.ssrcss-12f4060-MenuLink{font-size:1rem;line-height:1.375;display:-webkit-box;display:-webkit-flex;display:-ms-flexbox;display:flex;-webkit-box-pack:center;-ms-flex-pack:center;-webkit-justify-content:center;justify-content:center;-webkit-align-items:center;-webkit-box-align:center;-ms-flex-align:center;align-items:center;margin:0.125rem;-webkit-text-decoration:inherit;text-decoration:inherit;color:#000000;white-space:nowrap;position:relative;height:100%;}.ssrcss-12f4060-MenuLink::after{content:\\'\\';display:block;background-color:#FFD230;position:absolute;right:0;left:0;bottom:0.75rem;height:0.125rem;width:0;opacity:0;}.ssrcss-12f4060-MenuLink:hover::after,.ssrcss-12f4060-MenuLink:focus::after,.ssrcss-12f4060-MenuLink[data-open=\\'true\\']::after{width:100%;opacity:1;}@media (min-width: 37.5rem){.ssrcss-12f4060-MenuLink{font-size:0.8125rem;line-height:1.2307692307692308;}}@media (min-width: 56.25rem){.ssrcss-12f4060-MenuLink{margin:0.375rem;}}@media (prefers-reduced-motion: no-preference){.ssrcss-12f4060-MenuLink::after{-webkit-transition:width 0.2s,opacity 0.2s;transition:width 0.2s,opacity 0.2s;transition-timing-function:cubic-bezier(0.75, 0, 0.15, 1);}}.ssrcss-8luduf-MenuLink{font-size:1rem;line-height:1.375;display:-webkit-box;display:-webkit-flex;display:-ms-flexbox;display:flex;-webkit-box-pack:center;-ms-flex-pack:center;-webkit-justify-content:center;justify-content:center;-webkit-align-items:center;-webkit-box-align:center;-ms-flex-align:center;align-items:center;margin:0.125rem;-webkit-text-decoration:inherit;text-decoration:inherit;color:#000000;white-space:nowrap;position:relative;height:100%;}.ssrcss-8luduf-MenuLink::after{content:\\'\\';display:block;background-color:#0068FF;position:absolute;right:0;left:0;bottom:0.75rem;height:0.125rem;width:0;opacity:0;}.ssrcss-8luduf-MenuLink:hover::after,.ssrcss-8luduf-MenuLink:focus::after,.ssrcss-8luduf-MenuLink[data-open=\\'true\\']::after{width:100%;opacity:1;}@media (min-width: 37.5rem){.ssrcss-8luduf-MenuLink{font-size:0.8125rem;line-height:1.2307692307692308;}}@media (min-width: 56.25rem){.ssrcss-8luduf-MenuLink{margin:0.375rem;}}@media (prefers-reduced-motion: no-preference){.ssrcss-8luduf-MenuLink::after{-webkit-transition:width 0.2s,opacity 0.2s;transition:width 0.2s,opacity 0.2s;transition-timing-function:cubic-bezier(0.75, 0, 0.15, 1);}}.ssrcss-1etr8ix-MenuLink{font-size:1rem;line-height:1.375;display:-webkit-box;display:-webkit-flex;display:-ms-flexbox;display:flex;-webkit-box-pack:center;-ms-flex-pack:center;-webkit-justify-content:center;justify-content:center;-webkit-align-items:center;-webkit-box-align:center;-ms-flex-align:center;align-items:center;margin:0.125rem;-webkit-text-decoration:inherit;text-decoration:inherit;color:#000000;white-space:nowrap;position:relative;height:100%;}.ssrcss-1etr8ix-MenuLink::after{content:\\'\\';display:block;background-color:#0052A1;position:absolute;right:0;left:0;bottom:0.75rem;height:0.125rem;width:0;opacity:0;}.ssrcss-1etr8ix-MenuLink:hover::after,.ssrcss-1etr8ix-MenuLink:focus::after,.ssrcss-1etr8ix-MenuLink[data-open=\\'true\\']::after{width:100%;opacity:1;}@media (min-width: 37.5rem){.ssrcss-1etr8ix-MenuLink{font-size:0.8125rem;line-height:1.2307692307692308;}}@media (min-width: 56.25rem){.ssrcss-1etr8ix-MenuLink{margin:0.375rem;}}@media (prefers-reduced-motion: no-preference){.ssrcss-1etr8ix-MenuLink::after{-webkit-transition:width 0.2s,opacity 0.2s;transition:width 0.2s,opacity 0.2s;transition-timing-function:cubic-bezier(0.75, 0, 0.15, 1);}}.ssrcss-l0tei5-MenuLink{font-size:1rem;line-height:1.375;display:-webkit-box;display:-webkit-flex;display:-ms-flexbox;display:flex;-webkit-box-pack:center;-ms-flex-pack:center;-webkit-justify-content:center;justify-content:center;-webkit-align-items:center;-webkit-box-align:center;-ms-flex-align:center;align-items:center;margin:0.125rem;-webkit-text-decoration:inherit;text-decoration:inherit;color:#000000;white-space:nowrap;position:relative;height:100%;}.ssrcss-l0tei5-MenuLink::after{content:\\'\\';display:block;background-color:#589E50;position:absolute;right:0;left:0;bottom:0.75rem;height:0.125rem;width:0;opacity:0;}.ssrcss-l0tei5-MenuLink:hover::after,.ssrcss-l0tei5-MenuLink:focus::after,.ssrcss-l0tei5-MenuLink[data-open=\\'true\\']::after{width:100%;opacity:1;}@media (min-width: 37.5rem){.ssrcss-l0tei5-MenuLink{font-size:0.8125rem;line-height:1.2307692307692308;}}@media (min-width: 56.25rem){.ssrcss-l0tei5-MenuLink{margin:0.375rem;}}@media (prefers-reduced-motion: no-preference){.ssrcss-l0tei5-MenuLink::after{-webkit-transition:width 0.2s,opacity 0.2s;transition:width 0.2s,opacity 0.2s;transition-timing-function:cubic-bezier(0.75, 0, 0.15, 1);}}.ssrcss-1lvt90n-MenuLink{font-size:1rem;line-height:1.375;display:-webkit-box;display:-webkit-flex;display:-ms-flexbox;display:flex;-webkit-box-pack:center;-ms-flex-pack:center;-webkit-justify-content:center;justify-content:center;-webkit-align-items:center;-webkit-box-align:center;-ms-flex-align:center;align-items:center;margin:0.125rem;-webkit-text-decoration:inherit;text-decoration:inherit;color:#000000;white-space:nowrap;position:relative;height:100%;}.ssrcss-1lvt90n-MenuLink::after{content:\\'\\';display:block;background-color:#002856;position:absolute;right:0;left:0;bottom:0.75rem;height:0.125rem;width:0;opacity:0;}.ssrcss-1lvt90n-MenuLink:hover::after,.ssrcss-1lvt90n-MenuLink:focus::after,.ssrcss-1lvt90n-MenuLink[data-open=\\'true\\']::after{width:100%;opacity:1;}@media (min-width: 37.5rem){.ssrcss-1lvt90n-MenuLink{font-size:0.8125rem;line-height:1.2307692307692308;}}@media (min-width: 56.25rem){.ssrcss-1lvt90n-MenuLink{margin:0.375rem;}}@media (prefers-reduced-motion: no-preference){.ssrcss-1lvt90n-MenuLink::after{-webkit-transition:width 0.2s,opacity 0.2s;transition:width 0.2s,opacity 0.2s;transition-timing-function:cubic-bezier(0.75, 0, 0.15, 1);}}.ssrcss-usoec7-MenuLink{font-size:1rem;line-height:1.375;display:-webkit-box;display:-webkit-flex;display:-ms-flexbox;display:flex;-webkit-box-pack:center;-ms-flex-pack:center;-webkit-justify-content:center;justify-content:center;-webkit-align-items:center;-webkit-box-align:center;-ms-flex-align:center;align-items:center;margin:0.125rem;-webkit-text-decoration:inherit;text-decoration:inherit;color:#000000;white-space:nowrap;position:relative;height:100%;}.ssrcss-usoec7-MenuLink::after{content:\\'\\';display:block;background-color:#482878;position:absolute;right:0;left:0;bottom:0.75rem;height:0.125rem;width:0;opacity:0;}.ssrcss-usoec7-MenuLink:hover::after,.ssrcss-usoec7-MenuLink:focus::after,.ssrcss-usoec7-MenuLink[data-open=\\'true\\']::after{width:100%;opacity:1;}@media (min-width: 37.5rem){.ssrcss-usoec7-MenuLink{font-size:0.8125rem;line-height:1.2307692307692308;}}@media (min-width: 56.25rem){.ssrcss-usoec7-MenuLink{margin:0.375rem;}}@media (prefers-reduced-motion: no-preference){.ssrcss-usoec7-MenuLink::after{-webkit-transition:width 0.2s,opacity 0.2s;transition:width 0.2s,opacity 0.2s;transition-timing-function:cubic-bezier(0.75, 0, 0.15, 1);}}.ssrcss-jjaetm-MenuLink{font-size:1rem;line-height:1.375;display:-webkit-box;display:-webkit-flex;display:-ms-flexbox;display:flex;-webkit-box-pack:center;-ms-flex-pack:center;-webkit-justify-content:center;justify-content:center;-webkit-align-items:center;-webkit-box-align:center;-ms-flex-align:center;align-items:center;margin:0.125rem;-webkit-text-decoration:inherit;text-decoration:inherit;color:#000000;white-space:nowrap;position:relative;height:100%;}.ssrcss-jjaetm-MenuLink::after{content:\\'\\';display:block;background-color:#149EDC;position:absolute;right:0;left:0;bottom:0.75rem;height:0.125rem;width:0;opacity:0;}.ssrcss-jjaetm-MenuLink:hover::after,.ssrcss-jjaetm-MenuLink:focus::after,.ssrcss-jjaetm-MenuLink[data-open=\\'true\\']::after{width:100%;opacity:1;}@media (min-width: 37.5rem){.ssrcss-jjaetm-MenuLink{font-size:0.8125rem;line-height:1.2307692307692308;}}@media (min-width: 56.25rem){.ssrcss-jjaetm-MenuLink{margin:0.375rem;}}@media (prefers-reduced-motion: no-preference){.ssrcss-jjaetm-MenuLink::after{-webkit-transition:width 0.2s,opacity 0.2s;transition:width 0.2s,opacity 0.2s;transition-timing-function:cubic-bezier(0.75, 0, 0.15, 1);}}.ssrcss-z3vxb8-MenuLink{font-size:1rem;line-height:1.375;display:-webkit-box;display:-webkit-flex;display:-ms-flexbox;display:flex;-webkit-box-pack:center;-ms-flex-pack:center;-webkit-justify-content:center;justify-content:center;-webkit-align-items:center;-webkit-box-align:center;-ms-flex-align:center;align-items:center;margin:0.125rem;-webkit-text-decoration:inherit;text-decoration:inherit;color:#000000;white-space:nowrap;position:relative;height:100%;}.ssrcss-z3vxb8-MenuLink::after{content:\\'\\';display:block;background-color:#FA6400;position:absolute;right:0;left:0;bottom:0.75rem;height:0.125rem;width:0;opacity:0;}.ssrcss-z3vxb8-MenuLink:hover::after,.ssrcss-z3vxb8-MenuLink:focus::after,.ssrcss-z3vxb8-MenuLink[data-open=\\'true\\']::after{width:100%;opacity:1;}@media (min-width: 37.5rem){.ssrcss-z3vxb8-MenuLink{font-size:0.8125rem;line-height:1.2307692307692308;}}@media (min-width: 56.25rem){.ssrcss-z3vxb8-MenuLink{margin:0.375rem;}}@media (prefers-reduced-motion: no-preference){.ssrcss-z3vxb8-MenuLink::after{-webkit-transition:width 0.2s,opacity 0.2s;transition:width 0.2s,opacity 0.2s;transition-timing-function:cubic-bezier(0.75, 0, 0.15, 1);}}.ssrcss-1i8v1n4-CallToActionLink{font-family:ReithSans,Helvetica,Arial,freesans,sans-serif;font-weight:700;font-size:1rem;line-height:1.25;box-sizing:border-box;display:-webkit-inline-box;display:-webkit-inline-flex;display:-ms-inline-flexbox;display:inline-flex;-webkit-align-items:center;-webkit-box-align:center;-ms-flex-align:center;align-items:center;-webkit-box-pack:center;-ms-flex-pack:center;-webkit-justify-content:center;justify-content:center;padding:calc(0.5rem - 2px) calc(0.75rem - 2px);border:2px solid transparent;min-height:2.75rem!important;text-align:center;-webkit-text-decoration:none;text-decoration:none;line-height:1.375!important;-webkit-transition:0.2s;transition:0.2s;background:transparent;color:#141414;}@media (min-width: 37.5rem){.ssrcss-1i8v1n4-CallToActionLink{font-size:1.125rem;line-height:1.222222222222222;}}.ssrcss-1i8v1n4-CallToActionLink:focus-visible{outline:none;box-shadow:none;}.ssrcss-1i8v1n4-CallToActionLink .esxl4sy2{border-bottom:2px solid transparent;-webkit-transition:border-bottom 0.2s;transition:border-bottom 0.2s;}@supports (text-underline-offset: 0.25em){.ssrcss-1i8v1n4-CallToActionLink .esxl4sy2{border-bottom:none;-webkit-text-decoration:underline transparent;text-decoration:underline transparent;text-decoration-thickness:2px;text-decoration-skip-ink:none;text-underline-offset:0.3125em;-webkit-transition:text-decoration 0.2s;transition:text-decoration 0.2s;}}.ssrcss-1i8v1n4-CallToActionLink:hover,.ssrcss-1i8v1n4-CallToActionLink:focus,.ssrcss-1i8v1n4-CallToActionLink:active{cursor:pointer;background:#0051AD;color:#FFFFFF;box-shadow:0 0 0 0.125rem #0051AD;}.ssrcss-1i8v1n4-CallToActionLink:hover .esxl4sy2,.ssrcss-1i8v1n4-CallToActionLink:focus .esxl4sy2,.ssrcss-1i8v1n4-CallToActionLink:active .esxl4sy2{border-bottom:2px solid currentcolor;}@supports (text-underline-offset: 0.25em){.ssrcss-1i8v1n4-CallToActionLink:hover .esxl4sy2,.ssrcss-1i8v1n4-CallToActionLink:focus .esxl4sy2,.ssrcss-1i8v1n4-CallToActionLink:active .esxl4sy2{border-bottom:none;-webkit-text-decoration:underline currentcolor;text-decoration:underline currentcolor;text-decoration-thickness:2px;text-decoration-skip-ink:none;text-underline-offset:0.3125em;}}.ssrcss-1i8v1n4-CallToActionLink:focus{box-shadow:0 0 0 0.125rem #FFFFFF;outline:0.125rem solid #000000;outline-offset:0.125rem;box-shadow:0 0 0 0.125rem #0051AD,0 0 0 calc(0.125rem + 0.125rem) #FFFFFF;outline-offset:calc(0.125rem + 0.125rem);}.ssrcss-1hfawy1-IconWrapper{display:inline-block;width:1.125rem;height:1.125rem;min-width:1.25rem;vertical-align:middle;}.ssrcss-73ydgk-ProductNavigationContainer{font-family:ReithSans,Helvetica,Arial,freesans,sans-serif;font-weight:400;font-feature-settings:\\'\\';font-size:1rem;line-height:1.375;background-color:#B80000;color:#FFFFFF;position:relative;}.ssrcss-110xoo0-Masthead{font-size:1rem;line-height:1.375;font-family:ReithSans,Helvetica,Arial,freesans,sans-serif;font-weight:700;font-feature-settings:\\'\\';background:#B80000;color:#FFFFFF;}.ssrcss-12x0ma7-ContentWrapper{display:-webkit-box;display:-webkit-flex;display:-ms-flexbox;display:flex;-webkit-align-items:center;-webkit-box-align:center;-ms-flex-align:center;align-items:center;-webkit-box-pack:justify;-webkit-justify-content:space-between;justify-content:space-between;}.ssrcss-1vyfvn-LogoLink{display:-webkit-box;display:-webkit-flex;display:-ms-flexbox;display:flex;-webkit-align-items:center;-webkit-box-align:center;-ms-flex-align:center;align-items:center;width:auto;-webkit-text-decoration:none;text-decoration:none;color:inherit;}@media all and (-ms-high-contrast: none),(-ms-high-contrast: active){.ssrcss-1vyfvn-LogoLink{width:100%;}}.ssrcss-h8vckg-Logo{display:block;padding:0.75rem 0;height:1.625rem;fill:currentcolor;max-width:10rem;}@media (min-width: 25rem){.ssrcss-h8vckg-Logo{padding:0.875rem 0;height:1.75rem;max-width:15.5rem;}}@media (min-width: 37.5rem){.ssrcss-h8vckg-Logo{padding:1rem 0;height:1.75rem;max-width:initial;}}@media (min-width: 37.5rem){.ssrcss-as2ggt-Navigation{border-top:0.0625rem solid #DB7F7F;}}.ssrcss-fx11vr-MainNavBarContainer{color:#141414;}html.no-js .ssrcss-fx11vr-MainNavBarContainer{border-bottom:0.25rem solid #B80000;}@media (min-width: 37.5rem){.ssrcss-wq2axq-MenuContainer-PrimaryNavBarContainer{background-color:#B80000;}}.ssrcss-17vmgpw-PrimaryListContainer{margin:0 -0.5rem;}@media (min-width: 25rem){.ssrcss-17vmgpw-PrimaryListContainer{margin:0 -1rem;}}@media (min-width: 37.5rem){.ssrcss-17vmgpw-PrimaryListContainer{display:-webkit-box;display:-webkit-flex;display:-ms-flexbox;display:flex;-webkit-box-pack:justify;-webkit-justify-content:space-between;justify-content:space-between;background-color:#B80000;margin:0;}.ssrcss-17vmgpw-PrimaryListContainer .e14xdrat1 .eis6szr3:not(:last-of-type) .eis6szr2 .eis6szr1{border-right-style:solid;border-right-width:0.0625rem;border-right-color:#DB7F7F;}}.ssrcss-cxrkrf-ToggleContainer{position:absolute;right:0.5rem;top:0.25rem;border:0.0625rem solid;border-color:#DB7F7F;border-bottom-color:#DB7F7F;background-color:#B80000;}@media (min-width: 25rem){.ssrcss-cxrkrf-ToggleContainer{top:0.5rem;}}@media (min-width: 37.5rem){.ssrcss-cxrkrf-ToggleContainer{display:none;}}.ssrcss-cxrkrf-ToggleContainer .ekfn8591:active,.ssrcss-cxrkrf-ToggleContainer .ekfn8591:focus{color:#141414;background-color:#FFFFFF;}@media (hover: hover){.ssrcss-cxrkrf-ToggleContainer .ekfn8591:hover{color:#141414;background-color:#FFFFFF;}}.ssrcss-t4t8q-StyledToggle{font-family:ReithSans,Helvetica,Arial,freesans,sans-serif;font-weight:400;font-feature-settings:\\'\\';font-size:1rem;line-height:1.375;-webkit-text-decoration:none;text-decoration:none;display:-webkit-box;display:-webkit-flex;display:-ms-flexbox;display:flex;-webkit-align-items:center;-webkit-box-align:center;-ms-flex-align:center;align-items:center;position:relative;padding:0.5rem;cursor:pointer;color:#FFFFFF;background-color:#B80000;border:none;}html.no-js .ssrcss-t4t8q-StyledToggle{background-color:#FFFFFF;color:#141414;}@media (min-width: 37.5rem) and (pointer: coarse){.ssrcss-t4t8q-StyledToggle{padding-top:0.75rem;padding-bottom:0.75rem;}}.ssrcss-1m4972l-IconWrapper{display:inline-block;width:1rem;height:1rem;margin-right:0.5rem;}.ssrcss-196zlx0-MenuListContainer{display:none;background-color:#FFFFFF;}html.no-js .ssrcss-196zlx0-MenuListContainer{display:block;}@media (min-width: 37.5rem){.ssrcss-196zlx0-MenuListContainer{margin-left:-0.5rem;margin-right:-0.5rem;padding:0.5rem 0;}}@media (min-width: 37.5rem){.ssrcss-196zlx0-MenuListContainer{background-color:transparent;display:block;padding:0;margin:0;-webkit-flex-basis:100%;-ms-flex-preferred-size:100%;flex-basis:100%;}@media (pointer: coarse){.ssrcss-196zlx0-MenuListContainer{overflow-x:scroll;-webkit-overflow-scrolling:touch;-ms-overflow-style:-ms-autohiding-scrollbar;-ms-overflow-style:none;scrollbar-width:none;}.ssrcss-196zlx0-MenuListContainer::-webkit-scrollbar{display:none;}}}.ssrcss-min3p3-StyledMenuList{font-family:ReithSans,Helvetica,Arial,freesans,sans-serif;font-weight:400;font-feature-settings:\\'\\';}@media (min-width: 37.5rem){.ssrcss-min3p3-StyledMenuList{display:-webkit-box;display:-webkit-flex;display:-ms-flexbox;display:flex;-webkit-box-flex-wrap:wrap;-webkit-flex-wrap:wrap;-ms-flex-wrap:wrap;flex-wrap:wrap;position:relative;left:-0.5rem;}@media (pointer: coarse){.ssrcss-min3p3-StyledMenuList{-webkit-box-flex-wrap:nowrap;-webkit-flex-wrap:nowrap;-ms-flex-wrap:nowrap;flex-wrap:nowrap;}}}.ssrcss-1hqd1wy-StyledMenuItem{border-bottom-width:0.0625rem;border-bottom-style:solid;border-bottom-color:#8A8C8E;position:relative;break-inside:avoid;margin:0;padding:0;}@media (min-width: 37.5rem){.ssrcss-1hqd1wy-StyledMenuItem{border-bottom:none;}}@media (min-width: 37.5rem){.ssrcss-1hqd1wy-StyledMenuItem{-webkit-flex:none;-ms-flex:none;flex:none;}}.ssrcss-gh5gdl-StyledLink{color:#141414;-webkit-text-decoration:none;text-decoration:none;display:block;padding:0.5rem 0;padding-left:0.5rem;}.ssrcss-gh5gdl-StyledLink:hover,.ssrcss-gh5gdl-StyledLink:focus{background-color:#E6E8EA;color:#141414;}.ssrcss-gh5gdl-StyledLink::after{content:none;position:absolute;left:0;bottom:0;width:0.25rem;height:100%;background-color:#B80000;}.ssrcss-gh5gdl-StyledLink:hover::after,.ssrcss-gh5gdl-StyledLink:focus::after,.ssrcss-gh5gdl-StyledLink:active::after{content:\\'\\';}@media (min-width: 25rem){.ssrcss-gh5gdl-StyledLink{padding-left:1rem;}}@media (min-width: 37.5rem){.ssrcss-gh5gdl-StyledLink{width:auto;padding-left:0.5rem;}}@media (min-width: 37.5rem){.ssrcss-gh5gdl-StyledLink:hover,.ssrcss-gh5gdl-StyledLink:focus{background-color:transparent;color:#FFFFFF;}}@media (min-width: 37.5rem){.ssrcss-gh5gdl-StyledLink::after{background-color:#FFFFFF;width:100%;height:0.25rem;}}@media (min-width: 37.5rem){.ssrcss-gh5gdl-StyledLink{width:auto;color:#FFFFFF;padding:0.5rem 0;}}@media (min-width: 37.5rem) and (pointer: coarse){.ssrcss-gh5gdl-StyledLink{padding:0.6875rem 0;}}.ssrcss-1yycgk3-LinkTextContainer{padding:0;}@media (min-width: 37.5rem){.ssrcss-1yycgk3-LinkTextContainer{padding:0 0.45rem;}}.ssrcss-1mu64ez-StyledLink{color:#141414;-webkit-text-decoration:none;text-decoration:none;display:block;padding:0.5rem 0;padding-left:0.5rem;}.ssrcss-1mu64ez-StyledLink:hover,.ssrcss-1mu64ez-StyledLink:focus{background-color:#E6E8EA;color:#141414;}.ssrcss-1mu64ez-StyledLink::after{content:\\'\\';position:absolute;left:0;bottom:0;width:0.25rem;height:100%;background-color:#B80000;}.ssrcss-1mu64ez-StyledLink:hover::after,.ssrcss-1mu64ez-StyledLink:focus::after,.ssrcss-1mu64ez-StyledLink:active::after{content:\\'\\';}@media (min-width: 25rem){.ssrcss-1mu64ez-StyledLink{padding-left:1rem;}}@media (min-width: 37.5rem){.ssrcss-1mu64ez-StyledLink{width:auto;padding-left:0.5rem;}}@media (min-width: 37.5rem){.ssrcss-1mu64ez-StyledLink:hover,.ssrcss-1mu64ez-StyledLink:focus{background-color:transparent;color:#FFFFFF;}}@media (min-width: 37.5rem){.ssrcss-1mu64ez-StyledLink::after{background-color:#FFFFFF;width:100%;height:0.25rem;}}@media (min-width: 37.5rem){.ssrcss-1mu64ez-StyledLink{width:auto;color:#FFFFFF;padding:0.5rem 0;}}@media (min-width: 37.5rem) and (pointer: coarse){.ssrcss-1mu64ez-StyledLink{padding:0.6875rem 0;}}.ssrcss-1yjaqc9-ToggleContainer{display:none;border-left:0.0625rem solid;border-left-color:#DB7F7F;background-color:#B80000;}html.no-js .ssrcss-1yjaqc9-ToggleContainer{background-color:#FFFFFF;}@media (min-width: 37.5rem){.ssrcss-1yjaqc9-ToggleContainer{display:-webkit-box;display:-webkit-flex;display:-ms-flexbox;display:flex;-webkit-flex-shrink:0;-ms-flex-negative:0;flex-shrink:0;-webkit-align-items:flex-start;-webkit-box-align:flex-start;-ms-flex-align:flex-start;align-items:flex-start;}}.ssrcss-1yjaqc9-ToggleContainer .ekfn8591:hover::after,.ssrcss-1yjaqc9-ToggleContainer .ekfn8591:focus::after,.ssrcss-1yjaqc9-ToggleContainer .ekfn8591:active::after{position:absolute;bottom:0;left:0;width:100%;content:\\'\\';height:0.25rem;background-color:#FFFFFF;}html.no-js .ssrcss-1yjaqc9-ToggleContainer .ekfn8591:hover::after,html.no-js .ssrcss-1yjaqc9-ToggleContainer .ekfn8591:focus::after,html.no-js .ssrcss-1yjaqc9-ToggleContainer .ekfn8591:active::after{background-color:#FFFFFF;}.ssrcss-1gc2tn4-MenuContainer-MoreMenuWrapper{background-color:#FFFFFF;}.ssrcss-6tbwbt-MoreMenuListContainer{margin:0 -0.5rem;}@media (min-width: 25rem){.ssrcss-6tbwbt-MoreMenuListContainer{margin:0 -1rem;}}@media (min-width: 37.5rem){.ssrcss-6tbwbt-MoreMenuListContainer{margin:0;}}.ssrcss-lnnv4y-MenuListContainer{display:none;background-color:#FFFFFF;}html.no-js .ssrcss-lnnv4y-MenuListContainer{display:block;}@media (min-width: 37.5rem){.ssrcss-lnnv4y-MenuListContainer{margin-left:-0.5rem;margin-right:-0.5rem;padding:0.5rem 0;}}.ssrcss-19kzj3r-StyledMenuList{font-family:ReithSans,Helvetica,Arial,freesans,sans-serif;font-weight:400;font-feature-settings:\\'\\';}@media (min-width: 37.5rem){.ssrcss-19kzj3r-StyledMenuList{-webkit-column-count:3;column-count:3;-webkit-column-gap:1rem;column-gap:1rem;-webkit-column-rule:0.0625rem solid #8A8C8E;column-rule:0.0625rem solid #8A8C8E;}}@media (min-width: 56.25rem){.ssrcss-19kzj3r-StyledMenuList{-webkit-column-count:4;column-count:4;}}@media (min-width: 80rem){.ssrcss-19kzj3r-StyledMenuList{-webkit-column-count:6;column-count:6;}}.ssrcss-1jh5vyj-StyledMenuItem{border-bottom-width:0.0625rem;border-bottom-style:solid;border-bottom-color:#8A8C8E;position:relative;break-inside:avoid;margin:0;padding:0;}@media (min-width: 37.5rem){.ssrcss-1jh5vyj-StyledMenuItem{border-bottom:none;}}.ssrcss-s5hlxv-StyledLink{color:#141414;-webkit-text-decoration:none;text-decoration:none;display:block;padding:0.5rem 0;padding-left:0.5rem;}.ssrcss-s5hlxv-StyledLink:hover,.ssrcss-s5hlxv-StyledLink:focus{background-color:#E6E8EA;color:#141414;}.ssrcss-s5hlxv-StyledLink::after{content:none;position:absolute;left:0;bottom:0;width:0.25rem;height:100%;background-color:#B80000;}.ssrcss-s5hlxv-StyledLink:hover::after,.ssrcss-s5hlxv-StyledLink:focus::after,.ssrcss-s5hlxv-StyledLink:active::after{content:\\'\\';}@media (min-width: 25rem){.ssrcss-s5hlxv-StyledLink{padding-left:1rem;}}@media (min-width: 37.5rem){.ssrcss-s5hlxv-StyledLink{width:auto;padding-left:0.5rem;}}.ssrcss-1jvb50f-MenuContainer-SecondaryNavBarContainer{background-color:#FFFFFF;}.ssrcss-1jvb50f-MenuContainer-SecondaryNavBarContainer .e14xdrat1{white-space:nowrap;}.ssrcss-1jvb50f-MenuContainer-SecondaryNavBarContainer .e14xdrat1 .eis6szr3:not(:last-of-type) .eis6szr2 .eis6szr1:only-child{border-right-style:solid;border-right-width:0.0625rem;border-right-color:#8A8C8E;}.ssrcss-s8e6ra-MenuListContainer{display:none;background-color:#FFFFFF;display:block;margin-left:-0.5rem;}html.no-js .ssrcss-s8e6ra-MenuListContainer{display:block;}@media (min-width: 37.5rem){.ssrcss-s8e6ra-MenuListContainer{margin-left:-0.5rem;margin-right:-0.5rem;padding:0.5rem 0;}}@media (min-width: 37.5rem){.ssrcss-s8e6ra-MenuListContainer{padding:0;display:block;}}@media (pointer: coarse){.ssrcss-s8e6ra-MenuListContainer{overflow-x:scroll;-webkit-overflow-scrolling:touch;-ms-overflow-style:-ms-autohiding-scrollbar;-ms-overflow-style:none;scrollbar-width:none;}.ssrcss-s8e6ra-MenuListContainer::-webkit-scrollbar{display:none;}}.ssrcss-zx1e83-StyledMenuList{font-family:ReithSans,Helvetica,Arial,freesans,sans-serif;font-weight:400;font-feature-settings:\\'\\';display:-webkit-box;display:-webkit-flex;display:-ms-flexbox;display:flex;-webkit-box-flex-wrap:wrap;-webkit-flex-wrap:wrap;-ms-flex-wrap:wrap;flex-wrap:wrap;}@media (min-width: 37.5rem){.ssrcss-zx1e83-StyledMenuList{margin-left:0;}}@media (pointer: coarse){.ssrcss-zx1e83-StyledMenuList{-webkit-box-flex-wrap:nowrap;-webkit-flex-wrap:nowrap;-ms-flex-wrap:nowrap;flex-wrap:nowrap;}}.ssrcss-s23s7z-StyledMenuItem{border-bottom-width:0.0625rem;border-bottom-style:solid;border-bottom-color:#8A8C8E;position:relative;break-inside:avoid;margin:0;padding:0;border:none;}@media (min-width: 37.5rem){.ssrcss-s23s7z-StyledMenuItem{border-bottom:none;}}.ssrcss-ojmjjh-StyledLink{color:#141414;-webkit-text-decoration:none;text-decoration:none;display:block;padding:0.5rem 0;padding-left:0.5rem;display:-webkit-box;display:-webkit-flex;display:-ms-flexbox;display:flex;-webkit-align-items:center;-webkit-box-align:center;-ms-flex-align:center;align-items:center;width:auto;}.ssrcss-ojmjjh-StyledLink:hover,.ssrcss-ojmjjh-StyledLink:focus{background-color:#E6E8EA;color:#141414;}.ssrcss-ojmjjh-StyledLink::after{content:none;position:absolute;left:0;bottom:0;width:0.25rem;height:100%;background-color:#B80000;}.ssrcss-ojmjjh-StyledLink:hover::after,.ssrcss-ojmjjh-StyledLink:focus::after,.ssrcss-ojmjjh-StyledLink:active::after{content:\\'\\';}@media (min-width: 25rem){.ssrcss-ojmjjh-StyledLink{padding-left:1rem;}}@media (min-width: 37.5rem){.ssrcss-ojmjjh-StyledLink{width:auto;padding-left:0.5rem;}}.ssrcss-ojmjjh-StyledLink:hover,.ssrcss-ojmjjh-StyledLink:focus{background-color:transparent;color:#141414;}.ssrcss-ojmjjh-StyledLink::after{width:100%;height:0.25rem;}@media (min-width: 0rem){.ssrcss-ojmjjh-StyledLink{padding:0.5rem 0;}}@media (min-width: 25rem){.ssrcss-ojmjjh-StyledLink{padding:0.6875rem 0;}}@media (min-width: 37.5rem){.ssrcss-ojmjjh-StyledLink{padding:0.5rem 0;}}@media (min-width: 37.5rem) and (pointer: coarse){.ssrcss-ojmjjh-StyledLink{padding:0.6875rem 0;}}.ssrcss-1gr85n1-LinkTextContainer{padding:0 0.45rem;}.ssrcss-12oaa2e-StyledLink{color:#141414;-webkit-text-decoration:none;text-decoration:none;display:block;padding:0.5rem 0;padding-left:0.5rem;display:-webkit-box;display:-webkit-flex;display:-ms-flexbox;display:flex;-webkit-align-items:center;-webkit-box-align:center;-ms-flex-align:center;align-items:center;width:auto;}.ssrcss-12oaa2e-StyledLink:hover,.ssrcss-12oaa2e-StyledLink:focus{background-color:#E6E8EA;color:#141414;}.ssrcss-12oaa2e-StyledLink::after{content:\\'\\';position:absolute;left:0;bottom:0;width:0.25rem;height:100%;background-color:#B80000;}.ssrcss-12oaa2e-StyledLink:hover::after,.ssrcss-12oaa2e-StyledLink:focus::after,.ssrcss-12oaa2e-StyledLink:active::after{content:\\'\\';}@media (min-width: 25rem){.ssrcss-12oaa2e-StyledLink{padding-left:1rem;}}@media (min-width: 37.5rem){.ssrcss-12oaa2e-StyledLink{width:auto;padding-left:0.5rem;}}.ssrcss-12oaa2e-StyledLink:hover,.ssrcss-12oaa2e-StyledLink:focus{background-color:transparent;color:#141414;}.ssrcss-12oaa2e-StyledLink::after{width:100%;height:0.25rem;}@media (min-width: 0rem){.ssrcss-12oaa2e-StyledLink{padding:0.5rem 0;}}@media (min-width: 25rem){.ssrcss-12oaa2e-StyledLink{padding:0.6875rem 0;}}@media (min-width: 37.5rem){.ssrcss-12oaa2e-StyledLink{padding:0.5rem 0;}}@media (min-width: 37.5rem) and (pointer: coarse){.ssrcss-12oaa2e-StyledLink{padding:0.6875rem 0;}}.ssrcss-1gt3c8g-LeaderboardDiv{height:83px;background-color:#eeeeee;}@media (min-width: 37.5rem){.ssrcss-1gt3c8g-LeaderboardDiv{height:123px;}}@media (min-width: 63rem){.ssrcss-1gt3c8g-LeaderboardDiv{height:283px;}}@media (min-width: 56.25rem){.ssrcss-q03fby-ContainerWithSidebarWrapper{display:grid;grid-gap:1rem;grid-template-columns:minmax(0, 1fr) 18.75rem;}}.ssrcss-1ki8hfp-StyledZone{max-width:50rem;}.ssrcss-pv1rh6-ArticleWrapper{font-family:ReithSans,Helvetica,Arial,freesans,sans-serif;font-weight:400;font-feature-settings:\\'\\';font-size:1rem;line-height:1.375;color:#141414;margin:1rem 0 1.5rem 0;padding-bottom:1.5rem;}.ssrcss-1eqcsb1-HeadingWrapper{padding-bottom:1rem;margin-top:2.5rem;}.ssrcss-1eqcsb1-HeadingWrapper >*:not([hidden]):not(style):not(.visually-hidden)~*:not([hidden]):not(style):not(.visually-hidden){margin-top:1rem;}.ssrcss-15xko80-StyledHeading{font-family:ReithSerif,Helvetica,Arial,freesans,sans-serif;font-weight:500;font-feature-settings:\\'\\';font-size:2rem;line-height:1.125;margin:0;color:#141414;}@media (min-width: 37.5rem){.ssrcss-15xko80-StyledHeading{font-size:2.75rem;line-height:1.0909090909090908;}}.ssrcss-15xko80-StyledHeading:focus{outline-style:none;}.ssrcss-15xko80-StyledHeading:focus-visible{outline-style:auto;}.ssrcss-1xpwu3-MetadataStripContainer{font-family:ReithSans,Helvetica,Arial,freesans,sans-serif;font-weight:400;font-feature-settings:\\'\\';font-size:0.8125rem;line-height:1.2307692307692308;display:-webkit-box;display:-webkit-flex;display:-ms-flexbox;display:flex;max-width:100%;-webkit-box-flex-wrap:wrap-reverse;-webkit-flex-wrap:wrap-reverse;-ms-flex-wrap:wrap-reverse;flex-wrap:wrap-reverse;margin-top:-0.25rem;color:#545658;overflow:hidden;list-style:none;padding:0;}.ssrcss-13nu8ri-GroupChildrenForWrapping{display:-webkit-box;display:-webkit-flex;display:-ms-flexbox;display:flex;max-width:100%;-webkit-box-flex-wrap:wrap;-webkit-flex-wrap:wrap;-ms-flex-wrap:wrap;flex-wrap:wrap;}.ssrcss-30fcoe-MetadataStripItem{display:-webkit-inline-box;display:-webkit-inline-flex;display:-ms-inline-flexbox;display:inline-flex;-webkit-align-items:center;-webkit-box-align:center;-ms-flex-align:center;align-items:center;white-space:nowrap;margin-top:0.25rem;margin-right:0.875rem;max-width:100%;position:relative;}.ssrcss-30fcoe-MetadataStripItem::before{content:\\'\\';border:0.0625rem solid #8A8C8E;background-color:#8A8C8E;position:absolute;left:-0.5rem;}.ssrcss-m5j4pi-MetadataContent{display:inline-block;max-width:100%;}.ssrcss-1pvwv4b-MetadataSnippet{display:inline-block;max-width:100%;vertical-align:bottom;}.ssrcss-1if1g9v-MetadataText{display:block;max-width:100%;overflow:hidden;text-overflow:ellipsis;white-space:nowrap;vertical-align:bottom;}.ssrcss-1mh4yp1-IconContainer{display:inline-block;width:1em;height:1em;vertical-align:-0.125em;padding-right:0.25em;}.ssrcss-11faxz6-TagShareWrapper{display:-webkit-box;display:-webkit-flex;display:-ms-flexbox;display:flex;}.ssrcss-11faxz6-TagShareWrapper >*:not([hidden]):not(style):not(.visually-hidden)~*:not([hidden]):not(style):not(.visually-hidden){margin-left:0.5rem;}.ssrcss-1ynay8h-StyledInformationPanel{display:inline-block;}html.no-js .ssrcss-1ynay8h-StyledInformationPanel{display:none;}.ssrcss-i42p3a-Button{font-family:ReithSans,Helvetica,Arial,freesans,sans-serif;font-weight:700;font-size:1rem;line-height:1.25;display:-webkit-box;display:-webkit-flex;display:-ms-flexbox;display:flex;-webkit-align-items:center;-webkit-box-align:center;-ms-flex-align:center;align-items:center;-webkit-box-pack:center;-ms-flex-pack:center;-webkit-justify-content:center;justify-content:center;padding:calc(0.5rem - 2px) calc(0.75rem - 2px);border:2px solid transparent;min-height:2.75rem!important;text-align:center;line-height:1.375!important;-webkit-transition:0.2s;transition:0.2s;background:#EB0000;color:#FFFFFF;box-shadow:0 0 0 0 #EB0000;}@media (min-width: 37.5rem){.ssrcss-i42p3a-Button{font-size:1.125rem;line-height:1.222222222222222;}}.ssrcss-i42p3a-Button:focus-visible{outline:none;box-shadow:none;}.ssrcss-i42p3a-Button:disabled{opacity:0.2;cursor:auto;}.ssrcss-i42p3a-Button:hover:enabled,.ssrcss-i42p3a-Button:focus:enabled,.ssrcss-i42p3a-Button:active:enabled{position:relative;z-index:1;cursor:pointer;background:#B80000;color:#FFFFFF;box-shadow:0 0 0 0.125rem #B80000;}.ssrcss-i42p3a-Button:focus:enabled{box-shadow:0 0 0 0.125rem #FFFFFF;outline:0.125rem solid #000000;outline-offset:0.125rem;box-shadow:0 0 0 0.125rem #B80000,0 0 0 calc(0.125rem + 0.125rem) #FFFFFF;outline-offset:calc(0.125rem + 0.125rem);}.ssrcss-1a1fy59-IconWrapper{display:inline-block;width:1em;height:1em;min-width:1.25rem;vertical-align:-0.125em;}.ssrcss-1bpq5d-StyledPanelContent{font-family:ReithSans,Helvetica,Arial,freesans,sans-serif;font-weight:400;font-feature-settings:\\'\\';font-size:1rem;line-height:1.375;background-color:#FFFFFF;color:#141414;border:0.0625rem solid #8A8C8E;position:absolute;top:calc(100% + 1.5rem);left:0;width:15rem;width:-webkit-max-content;width:-moz-max-content;width:max-content;max-width:80vw;z-index:1000;}@supports (clip-path: inset(100%)){.ssrcss-1bpq5d-StyledPanelContent::after{background-color:#FFFFFF;}.ssrcss-1bpq5d-StyledPanelContent::before{background-color:#8A8C8E;}}.ssrcss-1bpq5d-StyledPanelContent::before,.ssrcss-1bpq5d-StyledPanelContent::after{content:\\'\\';display:inline-block;position:absolute;-webkit-clip-path:polygon(0 100%, 50% 0, 100% 100%);clip-path:polygon(0 100%, 50% 0, 100% 100%);width:1rem;height:0.75rem;left:1rem;}.ssrcss-1bpq5d-StyledPanelContent::after{top:calc(-0.75rem + 0.0625rem);}.ssrcss-1bpq5d-StyledPanelContent::before{top:calc(-0.75rem - 0.0625rem);}.ssrcss-tt825r-CloseButtonWrapper{float:right;}.ssrcss-1iwzhjp-Button{font-family:ReithSans,Helvetica,Arial,freesans,sans-serif;font-weight:700;font-size:1rem;line-height:1.25;display:-webkit-box;display:-webkit-flex;display:-ms-flexbox;display:flex;-webkit-align-items:center;-webkit-box-align:center;-ms-flex-align:center;align-items:center;-webkit-box-pack:center;-ms-flex-pack:center;-webkit-justify-content:center;justify-content:center;padding:calc(0.5rem - 2px) calc(0.75rem - 2px);border:2px solid transparent;min-height:2.75rem!important;text-align:center;line-height:1.375!important;-webkit-transition:0.2s;transition:0.2s;background:transparent;color:#141414;}@media (min-width: 37.5rem){.ssrcss-1iwzhjp-Button{font-size:1.125rem;line-height:1.222222222222222;}}.ssrcss-1iwzhjp-Button:focus-visible{outline:none;box-shadow:none;}.ssrcss-1iwzhjp-Button:disabled{opacity:0.2;cursor:auto;}.ssrcss-1iwzhjp-Button:hover:enabled,.ssrcss-1iwzhjp-Button:focus:enabled,.ssrcss-1iwzhjp-Button:active:enabled{position:relative;z-index:1;cursor:pointer;background:#B80000;color:#FFFFFF;}.ssrcss-1iwzhjp-Button:focus:enabled{box-shadow:0 0 0 0.125rem #FFFFFF;outline:0.125rem solid #000000;outline-offset:0.125rem;}.ssrcss-16sh5ob-PanelWrapper{padding:0.75rem;display:inline-block;}.ssrcss-1t42267-StyledTitleArea{font-family:ReithSans,Helvetica,Arial,freesans,sans-serif;font-weight:700;font-feature-settings:\\'\\';font-size:1rem;line-height:1.25;padding-bottom:1rem;position:absolute;overflow:hidden;margin:0;width:1px;height:1px;-webkit-clip-path:inset(100%);clip-path:inset(100%);clip:rect(1px, 1px, 1px, 1px);white-space:nowrap;white-space:pre-line;}@media (min-width: 37.5rem){.ssrcss-1t42267-StyledTitleArea{font-size:1.125rem;line-height:1.222222222222222;}}.ssrcss-1v2rvfo-Button{font-family:ReithSans,Helvetica,Arial,freesans,sans-serif;font-weight:700;font-size:1rem;line-height:1.25;display:-webkit-box;display:-webkit-flex;display:-ms-flexbox;display:flex;-webkit-align-items:center;-webkit-box-align:center;-ms-flex-align:center;align-items:center;-webkit-box-pack:center;-ms-flex-pack:center;-webkit-justify-content:center;justify-content:center;width:100%;padding:calc(0.5rem - 2px) calc(0.75rem - 2px);border:2px solid transparent;min-height:2.75rem!important;text-align:center;line-height:1.375!important;-webkit-transition:0.2s;transition:0.2s;background:#EB0000;color:#FFFFFF;box-shadow:0 0 0 0 #EB0000;}@media (min-width: 37.5rem){.ssrcss-1v2rvfo-Button{font-size:1.125rem;line-height:1.222222222222222;}}.ssrcss-1v2rvfo-Button:focus-visible{outline:none;box-shadow:none;}.ssrcss-1v2rvfo-Button:disabled{opacity:0.2;cursor:auto;}.ssrcss-1v2rvfo-Button:hover:enabled,.ssrcss-1v2rvfo-Button:focus:enabled,.ssrcss-1v2rvfo-Button:active:enabled{position:relative;z-index:1;cursor:pointer;background:#B80000;color:#FFFFFF;box-shadow:0 0 0 0.125rem #B80000;}.ssrcss-1v2rvfo-Button:focus:enabled{box-shadow:0 0 0 0.125rem #FFFFFF;outline:0.125rem solid #000000;outline-offset:0.125rem;box-shadow:0 0 0 0.125rem #B80000,0 0 0 calc(0.125rem + 0.125rem) #FFFFFF;outline-offset:calc(0.125rem + 0.125rem);}.ssrcss-1tz2bh9-IconWrapper{display:inline-block;width:1em;height:1em;padding-right:0.5rem;min-width:1.25rem;vertical-align:-0.125em;}.ssrcss-18h2t1m-StyledLink{color:#141414;display:inline-block;font-weight:bolder;margin-top:0.5rem;padding:0.75rem 0;width:100%;}.ssrcss-18h2t1m-StyledLink:hover,.ssrcss-18h2t1m-StyledLink:focus{-webkit-text-decoration:underline;text-decoration:underline;color:#B80000;}.ssrcss-18h2t1m-StyledLink:visited{color:#545658;}.ssrcss-18h2t1m-StyledLink:visited:hover,.ssrcss-18h2t1m-StyledLink:visited:focus{color:#B80000;}.ssrcss-1y79c70-ComponentWrapper{margin:1.5rem 0;}.ssrcss-4qvfmb-StyledFigure{font-family:ReithSans,Helvetica,Arial,freesans,sans-serif;font-weight:400;font-feature-settings:\\'\\';margin:0;}.sbdocs .ssrcss-4qvfmb-StyledFigure{margin:1.5rem 0;}.ssrcss-ab5fd8-StyledFigureContainer{position:relative;}.ssrcss-11kpz0x-Placeholder{position:relative;display:block;padding-bottom:56.25%;background-color:#F6F6F6;}.ssrcss-11kpz0x-Placeholder img{overflow:hidden;position:absolute;top:0;right:0;bottom:0;left:0;display:-webkit-box;display:-webkit-flex;display:-ms-flexbox;display:flex;-webkit-box-pack:center;-ms-flex-pack:center;-webkit-justify-content:center;justify-content:center;-webkit-align-items:center;-webkit-box-align:center;-ms-flex-align:center;align-items:center;width:100%;height:100%;object-fit:cover;}.ssrcss-evoj7m-Image{display:block;width:100%;height:auto;}.ssrcss-tvuve5-StyledFigureCopyright{font-size:0.75rem;line-height:1.3333333333333333;text-transform:uppercase;position:absolute;bottom:0;left:0;background:#141414;color:#F6F6F6;padding:0.25rem;text-transform:uppercase;}.ssrcss-1mget3o-StyledFigureCaption{font-size:0.875rem;line-height:1.2857142857142858;color:#545658;border-left:1px solid #8A8C8E;margin-top:0.5rem;padding-left:0.5rem;}.ssrcss-y7krbn-Stack >*:not([hidden]):not(style):not(.visually-hidden)~*:not([hidden]):not(style):not(.visually-hidden){margin-top:1.5rem;}.ssrcss-11r1m41-RichTextComponentWrapper{margin:1rem 0;max-width:36.25rem;}.ssrcss-11r1m41-RichTextComponentWrapper:first-of-type{margin:1.5rem 0 1rem;}.ssrcss-7uxr49-RichTextContainer{color:#141414;overflow-wrap:break-word;}.ssrcss-7uxr49-RichTextContainer >*:not([hidden]):not(style):not(.visually-hidden)~*:not([hidden]):not(style):not(.visually-hidden){margin-top:1rem;}.ssrcss-1q0x1qg-Paragraph{margin:0;}.ssrcss-hmf8ql-BoldText{font-weight:bold;}.ssrcss-k17ofw-InlineLink:link{color:#141414;}.ssrcss-k17ofw-InlineLink:visited{color:#545658;}.ssrcss-k17ofw-InlineLink:link,.ssrcss-k17ofw-InlineLink:visited{font-weight:700;border-bottom:1px solid #8A8C8E;-webkit-text-decoration:none;text-decoration:none;}@supports (text-underline-offset: 0.25em){.ssrcss-k17ofw-InlineLink:link,.ssrcss-k17ofw-InlineLink:visited{border-bottom:none;-webkit-text-decoration:underline #8A8C8E;text-decoration:underline #8A8C8E;text-decoration-thickness:1px;text-decoration-skip-ink:none;text-underline-offset:0.25em;}}.ssrcss-k17ofw-InlineLink:link:hover,.ssrcss-k17ofw-InlineLink:visited:hover,.ssrcss-k17ofw-InlineLink:link:focus,.ssrcss-k17ofw-InlineLink:visited:focus{border-bottom-color:currentcolor;border-bottom-width:2px;text-decoration-color:currentcolor;text-decoration-thickness:2px;color:#B80000;}.ssrcss-xza2yt-ComponentWrapper{margin:1.5rem 0;max-width:50rem;}.ssrcss-xbdn93-ItalicText{font-style:italic;}.ssrcss-lr8ohi-Placeholder{position:relative;display:block;padding-bottom:0.3125%;background-color:#F6F6F6;}.ssrcss-lr8ohi-Placeholder img{overflow:hidden;position:absolute;top:0;right:0;bottom:0;left:0;display:-webkit-box;display:-webkit-flex;display:-ms-flexbox;display:flex;-webkit-box-pack:center;-ms-flex-pack:center;-webkit-justify-content:center;justify-content:center;-webkit-align-items:center;-webkit-box-align:center;-ms-flex-align:center;align-items:center;width:100%;height:100%;object-fit:cover;}.ssrcss-19w8cxh-ComponentWrapper-HeadlineComponentWrapper{margin:1.5rem 0;max-width:50rem;margin:2.5rem 0 1.5rem;max-width:36.25rem;}.ssrcss-y2fd7s-StyledHeading{font-family:ReithSans,Helvetica,Arial,freesans,sans-serif;font-weight:700;font-feature-settings:\\'\\';font-size:1.5rem;line-height:1.1666666666666667;margin:0;color:#141414;}@media (min-width: 37.5rem){.ssrcss-y2fd7s-StyledHeading{font-size:2rem;line-height:1.125;}}.ssrcss-y2fd7s-StyledHeading:focus{outline-style:none;}.ssrcss-y2fd7s-StyledHeading:focus-visible{outline-style:auto;}.ssrcss-1o5f7ft-BulletListContainer{margin-left:1.5rem;}.ssrcss-1o5f7ft-BulletListContainer *:not([hidden]):not(style):not(.visually-hidden)~*:not([hidden]):not(style):not(.visually-hidden){margin-top:1rem;}.ssrcss-1o5f7ft-BulletListContainer ul{list-style-type:disc;}.ssrcss-1o5f7ft-BulletListContainer ol{list-style-type:decimal;}.ssrcss-1qmkvfu-TopicListWrapper{margin:1.5rem 0;padding-top:1.5rem;font-size:0.875rem;line-height:1.2857142857142858;max-width:36.25rem;}.ssrcss-1szabdv-StyledTagContainer{font-family:ReithSans,Helvetica,Arial,freesans,sans-serif;font-weight:700;font-feature-settings:\\'\\';font-size:1rem;line-height:1.25;}@media (min-width: 37.5rem){.ssrcss-1szabdv-StyledTagContainer{font-size:1.125rem;line-height:1.222222222222222;}}.ssrcss-50vlbt-TopicListHeaderWrapper{margin-bottom:1rem;}.ssrcss-q4zz1q-StyledHeading{font-family:ReithSans,Helvetica,Arial,freesans,sans-serif;font-weight:700;font-feature-settings:\\'\\';font-size:1.25rem;line-height:1.2;margin:0;color:#141414;}@media (min-width: 37.5rem){.ssrcss-q4zz1q-StyledHeading{font-size:1.5rem;line-height:1.1666666666666667;}}.ssrcss-q4zz1q-StyledHeading:focus{outline-style:none;}.ssrcss-q4zz1q-StyledHeading:focus-visible{outline-style:auto;}.ssrcss-17ehax8-Cluster{overflow:hidden;}@supports (gap: 1rem){.ssrcss-17ehax8-Cluster{overflow:initial;}}.ssrcss-1ujonwb-ClusterItems{padding:0;list-style:none;margin:calc(0.5rem / 2 * -1);display:-webkit-box;display:-webkit-flex;display:-ms-flexbox;display:flex;-webkit-box-flex-wrap:wrap;-webkit-flex-wrap:wrap;-ms-flex-wrap:wrap;flex-wrap:wrap;}.ssrcss-1ujonwb-ClusterItems >*{margin:calc(0.5rem / 2);}@supports (gap: 1rem){.ssrcss-1ujonwb-ClusterItems{gap:0.5rem;margin:0;}.ssrcss-1ujonwb-ClusterItems >*{margin:0;}}.ssrcss-w6az1r-StyledLink{-webkit-align-items:center;-webkit-box-align:center;-ms-flex-align:center;align-items:center;background:#F6F6F6;box-sizing:border-box;color:#141414;display:-webkit-inline-box;display:-webkit-inline-flex;display:-ms-inline-flexbox;display:inline-flex;min-height:2.75rem;padding:0.5rem 1rem;-webkit-text-decoration:none;text-decoration:none;word-break:break-word;}.ssrcss-w6az1r-StyledLink:focus,.ssrcss-w6az1r-StyledLink:hover{color:#B80000;-webkit-text-decoration:underline;text-decoration:underline;}.ssrcss-5i1hhv-LinksComponentWrapper{margin:1.5rem 0;max-width:36.25rem;}.ssrcss-msolhr-LinksWrapper{margin:1.5rem 0;padding:1.5rem 0;font-size:0.875rem;line-height:1.2857142857142858;}.ssrcss-1lqqmgw-LinksHeadingWrapper{margin-bottom:1rem;}.ssrcss-1ypkflt-EndOfContentLinksGrid{display:grid;grid-column-gap:1rem;grid-template-columns:minmax(0, 1fr);}.ssrcss-547yr3-PromoItem{background:#F6F6F6;margin-bottom:1rem;}.ssrcss-2z5yft-Promo{font-family:ReithSans,Helvetica,Arial,freesans,sans-serif;font-weight:400;font-feature-settings:\\'\\';font-size:0.875rem;line-height:1.2857142857142858;position:relative;height:100%;background:#F6F6F6;outline:solid transparent;color:#545658;}.ssrcss-2z5yft-Promo a:not(.exn3ah91){z-index:2;position:relative;}@media (min-width: 0rem) and (max-width: 24.9375rem){.ssrcss-1i933za-PromoSwitchLayoutAtBreakpoints{display:-webkit-box;display:-webkit-flex;display:-ms-flexbox;display:flex;-webkit-flex-direction:column;-ms-flex-direction:column;flex-direction:column;height:100%;}.ssrcss-1i933za-PromoSwitchLayoutAtBreakpoints .en81kx34{-webkit-flex:none;-ms-flex:none;flex:none;}.ssrcss-1i933za-PromoSwitchLayoutAtBreakpoints .exn3ah99{-webkit-order:2;-ms-flex-order:2;order:2;-webkit-flex:1 0 auto;-ms-flex:1 0 auto;flex:1 0 auto;padding-top:0.5rem;}@media (min-width: 56.25rem){.ssrcss-1i933za-PromoSwitchLayoutAtBreakpoints .exn3ah99{padding-top:0.75rem;}}}@media (min-width: 25rem) and (max-width: 37.4375rem){.ssrcss-1i933za-PromoSwitchLayoutAtBreakpoints{display:-webkit-box;display:-webkit-flex;display:-ms-flexbox;display:flex;-webkit-flex-direction:column;-ms-flex-direction:column;flex-direction:column;height:100%;}.ssrcss-1i933za-PromoSwitchLayoutAtBreakpoints .en81kx34{-webkit-flex:none;-ms-flex:none;flex:none;}.ssrcss-1i933za-PromoSwitchLayoutAtBreakpoints .exn3ah99{-webkit-order:2;-ms-flex-order:2;order:2;-webkit-flex:1 0 auto;-ms-flex:1 0 auto;flex:1 0 auto;padding-top:0.5rem;}@media (min-width: 56.25rem){.ssrcss-1i933za-PromoSwitchLayoutAtBreakpoints .exn3ah99{padding-top:0.75rem;}}}@media (min-width: 37.5rem) and (max-width: 56.1875rem){.ssrcss-1i933za-PromoSwitchLayoutAtBreakpoints{display:-webkit-box;display:-webkit-flex;display:-ms-flexbox;display:flex;-webkit-flex-direction:row;-ms-flex-direction:row;flex-direction:row;}.ssrcss-1i933za-PromoSwitchLayoutAtBreakpoints .en81kx34{-webkit-flex:0 0 33%;-ms-flex:0 0 33%;flex:0 0 33%;box-sizing:border-box;max-width:33%;}.ssrcss-1i933za-PromoSwitchLayoutAtBreakpoints .exn3ah99{-webkit-flex:0 0 67%;-ms-flex:0 0 67%;flex:0 0 67%;box-sizing:border-box;max-width:67%;}.ssrcss-1i933za-PromoSwitchLayoutAtBreakpoints .en81kx34{padding-right:0;}@media (min-width: 56.25rem){.ssrcss-1i933za-PromoSwitchLayoutAtBreakpoints .en81kx34{padding-right:0.5rem;}}.ssrcss-1i933za-PromoSwitchLayoutAtBreakpoints .exn3ah99{-webkit-order:2;-ms-flex-order:2;order:2;padding-left:0.5rem;}}@media (min-width: 56.25rem) and (max-width: 62.9375rem){.ssrcss-1i933za-PromoSwitchLayoutAtBreakpoints{display:-webkit-box;display:-webkit-flex;display:-ms-flexbox;display:flex;-webkit-flex-direction:row;-ms-flex-direction:row;flex-direction:row;}.ssrcss-1i933za-PromoSwitchLayoutAtBreakpoints .en81kx34{-webkit-flex:0 0 33%;-ms-flex:0 0 33%;flex:0 0 33%;box-sizing:border-box;max-width:33%;}.ssrcss-1i933za-PromoSwitchLayoutAtBreakpoints .exn3ah99{-webkit-flex:0 0 67%;-ms-flex:0 0 67%;flex:0 0 67%;box-sizing:border-box;max-width:67%;}.ssrcss-1i933za-PromoSwitchLayoutAtBreakpoints .en81kx34{padding-right:0;}@media (min-width: 56.25rem){.ssrcss-1i933za-PromoSwitchLayoutAtBreakpoints .en81kx34{padding-right:0.5rem;}}.ssrcss-1i933za-PromoSwitchLayoutAtBreakpoints .exn3ah99{-webkit-order:2;-ms-flex-order:2;order:2;padding-left:0.5rem;}}@media (min-width: 63rem) and (max-width: 79.9375rem){.ssrcss-1i933za-PromoSwitchLayoutAtBreakpoints{display:-webkit-box;display:-webkit-flex;display:-ms-flexbox;display:flex;-webkit-flex-direction:row;-ms-flex-direction:row;flex-direction:row;}.ssrcss-1i933za-PromoSwitchLayoutAtBreakpoints .en81kx34{-webkit-flex:0 0 33%;-ms-flex:0 0 33%;flex:0 0 33%;box-sizing:border-box;max-width:33%;}.ssrcss-1i933za-PromoSwitchLayoutAtBreakpoints .exn3ah99{-webkit-flex:0 0 67%;-ms-flex:0 0 67%;flex:0 0 67%;box-sizing:border-box;max-width:67%;}.ssrcss-1i933za-PromoSwitchLayoutAtBreakpoints .en81kx34{padding-right:0;}@media (min-width: 56.25rem){.ssrcss-1i933za-PromoSwitchLayoutAtBreakpoints .en81kx34{padding-right:0.5rem;}}.ssrcss-1i933za-PromoSwitchLayoutAtBreakpoints .exn3ah99{-webkit-order:2;-ms-flex-order:2;order:2;padding-left:0.5rem;}}@media (min-width: 80rem){.ssrcss-1i933za-PromoSwitchLayoutAtBreakpoints{display:-webkit-box;display:-webkit-flex;display:-ms-flexbox;display:flex;-webkit-flex-direction:row;-ms-flex-direction:row;flex-direction:row;}.ssrcss-1i933za-PromoSwitchLayoutAtBreakpoints .en81kx34{-webkit-flex:0 0 33%;-ms-flex:0 0 33%;flex:0 0 33%;box-sizing:border-box;max-width:33%;}.ssrcss-1i933za-PromoSwitchLayoutAtBreakpoints .exn3ah99{-webkit-flex:0 0 67%;-ms-flex:0 0 67%;flex:0 0 67%;box-sizing:border-box;max-width:67%;}.ssrcss-1i933za-PromoSwitchLayoutAtBreakpoints .en81kx34{padding-right:0;}@media (min-width: 56.25rem){.ssrcss-1i933za-PromoSwitchLayoutAtBreakpoints .en81kx34{padding-right:0.5rem;}}.ssrcss-1i933za-PromoSwitchLayoutAtBreakpoints .exn3ah99{-webkit-order:2;-ms-flex-order:2;order:2;padding-left:0.5rem;}}.ssrcss-1d68cot-PromoContent{box-sizing:border-box;padding:0.5rem!important;display:-webkit-box;display:-webkit-flex;display:-ms-flexbox;display:flex;-webkit-flex-direction:column;-ms-flex-direction:column;flex-direction:column;-webkit-box-pack:justify;-webkit-justify-content:space-between;justify-content:space-between;word-wrap:break-word;overflow-wrap:break-word;}@media (min-width: 56.25rem){.ssrcss-1d68cot-PromoContent{padding:0.75rem!important;}}.ssrcss-1d68cot-PromoContent >*{-webkit-flex:none;-ms-flex:none;flex:none;}.ssrcss-1d68cot-PromoContent >*:not([hidden]):not(style):not(.visually-hidden)~*:not([hidden]):not(style):not(.visually-hidden){margin-top:0.5rem;}.ssrcss-1f3bvyz-Stack >*:not([hidden]):not(style):not(.visually-hidden)~*:not([hidden]):not(style):not(.visually-hidden){margin-top:0.5rem;}.ssrcss-1mrs5ns-PromoLink{display:block;font-size:1rem;line-height:1.25;color:#141414;}@media (min-width: 37.5rem){.ssrcss-1mrs5ns-PromoLink{font-size:1.125rem;line-height:1.222222222222222;}}.ssrcss-1mrs5ns-PromoLink:link{-webkit-text-decoration:none;text-decoration:none;color:#141414;}.ssrcss-1mrs5ns-PromoLink:visited{color:#545658;}.ssrcss-1mrs5ns-PromoLink:link:hover .exn3ah96,.ssrcss-1mrs5ns-PromoLink:visited:hover .exn3ah96,.ssrcss-1mrs5ns-PromoLink:link:focus .exn3ah96,.ssrcss-1mrs5ns-PromoLink:visited:focus .exn3ah96,.ssrcss-1mrs5ns-PromoLink:link:hover .exn3ah95,.ssrcss-1mrs5ns-PromoLink:visited:hover .exn3ah95,.ssrcss-1mrs5ns-PromoLink:link:focus .exn3ah95,.ssrcss-1mrs5ns-PromoLink:visited:focus .exn3ah95{-webkit-text-decoration:underline;text-decoration:underline;color:#B80000;}@supports (text-decoration-color: transparent){.ssrcss-1mrs5ns-PromoLink:link:hover .exn3ah96,.ssrcss-1mrs5ns-PromoLink:visited:hover .exn3ah96,.ssrcss-1mrs5ns-PromoLink:link:focus .exn3ah96,.ssrcss-1mrs5ns-PromoLink:visited:focus .exn3ah96,.ssrcss-1mrs5ns-PromoLink:link:hover .exn3ah95,.ssrcss-1mrs5ns-PromoLink:visited:hover .exn3ah95,.ssrcss-1mrs5ns-PromoLink:link:focus .exn3ah95,.ssrcss-1mrs5ns-PromoLink:visited:focus .exn3ah95{text-decoration-line:underline;text-decoration-thickness:2px;}}.ssrcss-1mrs5ns-PromoLink::after{content:\\'\\';position:absolute;top:0;right:0;bottom:0;left:0;z-index:2;}.ssrcss-17zglt8-PromoHeadline{font-family:ReithSerif,Helvetica,Arial,freesans,sans-serif;font-weight:500;font-feature-settings:\\'\\';display:inline;}.ssrcss-z60stg-PromoImageContainer{opacity:1;}.ssrcss-17h6w1t-PromoImageContainerInner{position:relative;overflow:hidden;}.ssrcss-fec6qv-ImageWrapper{overflow:hidden;-webkit-transform:translateZ(0) scale(1);-moz-transform:translateZ(0) scale(1);-ms-transform:translateZ(0) scale(1);transform:translateZ(0) scale(1);}.ssrcss-ykosa2-OnwardJourneysContainerWrapper{box-sizing:border-box;}@media (min-width: 0rem) and (max-width: 24.9375rem){.ssrcss-ykosa2-OnwardJourneysContainerWrapper{margin-top:1rem;margin-bottom:1.5rem;}}@media (min-width: 25rem) and (max-width: 37.4375rem){.ssrcss-ykosa2-OnwardJourneysContainerWrapper{margin-top:1rem;margin-bottom:1.5rem;}}@media (min-width: 37.5rem) and (max-width: 56.1875rem){.ssrcss-ykosa2-OnwardJourneysContainerWrapper{margin-top:1rem;margin-bottom:1.5rem;}}@media (min-width: 56.25rem) and (max-width: 62.9375rem){.ssrcss-ykosa2-OnwardJourneysContainerWrapper{margin-top:1rem;margin-bottom:1.5rem;}}@media (min-width: 63rem) and (max-width: 79.9375rem){.ssrcss-ykosa2-OnwardJourneysContainerWrapper{margin-top:1rem;margin-bottom:1.5rem;}}@media (min-width: 80rem){.ssrcss-ykosa2-OnwardJourneysContainerWrapper{margin-top:1rem;margin-bottom:1.5rem;}}@media (min-width: 0rem) and (max-width: 24.9375rem){.ssrcss-ykosa2-OnwardJourneysContainerWrapper{padding-top:0.75rem;}}@media (min-width: 25rem) and (max-width: 37.4375rem){.ssrcss-ykosa2-OnwardJourneysContainerWrapper{padding-top:0.75rem;}}@media (min-width: 37.5rem) and (max-width: 56.1875rem){.ssrcss-ykosa2-OnwardJourneysContainerWrapper{padding-top:0.75rem;}}@media (min-width: 56.25rem) and (max-width: 62.9375rem){.ssrcss-ykosa2-OnwardJourneysContainerWrapper{padding-top:0.75rem;}}@media (min-width: 63rem) and (max-width: 79.9375rem){.ssrcss-ykosa2-OnwardJourneysContainerWrapper{padding-top:0.75rem;}}@media (min-width: 80rem){.ssrcss-ykosa2-OnwardJourneysContainerWrapper{padding-top:0.75rem;}}.ssrcss-13jb8nu-PromoGroupWrapper{font-family:ReithSans,Helvetica,Arial,freesans,sans-serif;font-weight:400;font-feature-settings:\\'\\';font-size:1rem;line-height:1.375;color:#141414;}@media (min-width: 0rem) and (max-width: 24.9375rem){.ssrcss-13jb8nu-PromoGroupWrapper{margin-top:1rem;}}@media (min-width: 25rem) and (max-width: 37.4375rem){.ssrcss-13jb8nu-PromoGroupWrapper{margin-top:1rem;}}@media (min-width: 37.5rem) and (max-width: 56.1875rem){.ssrcss-13jb8nu-PromoGroupWrapper{margin-top:1rem;}}@media (min-width: 56.25rem) and (max-width: 62.9375rem){.ssrcss-13jb8nu-PromoGroupWrapper{margin-top:1rem;}}@media (min-width: 63rem) and (max-width: 79.9375rem){.ssrcss-13jb8nu-PromoGroupWrapper{margin-top:1rem;}}@media (min-width: 80rem){.ssrcss-13jb8nu-PromoGroupWrapper{margin-top:1rem;}}.ssrcss-13jb8nu-PromoGroupWrapper >ul,.ssrcss-13jb8nu-PromoGroupWrapper ol{display:grid;-webkit-column-gap:1rem;column-gap:1rem;}@media (min-width: 0rem) and (max-width: 24.9375rem){.ssrcss-13jb8nu-PromoGroupWrapper >ul,.ssrcss-13jb8nu-PromoGroupWrapper ol{grid-template-columns:1fr;}}@media (min-width: 25rem) and (max-width: 37.4375rem){.ssrcss-13jb8nu-PromoGroupWrapper >ul,.ssrcss-13jb8nu-PromoGroupWrapper ol{grid-template-columns:1fr;}}@media (min-width: 37.5rem) and (max-width: 56.1875rem){.ssrcss-13jb8nu-PromoGroupWrapper >ul,.ssrcss-13jb8nu-PromoGroupWrapper ol{grid-template-columns:repeat(3, 1fr);false padding-bottom:1.5rem;}}@media (min-width: 56.25rem) and (max-width: 62.9375rem){.ssrcss-13jb8nu-PromoGroupWrapper >ul,.ssrcss-13jb8nu-PromoGroupWrapper ol{grid-template-columns:1fr;}}@media (min-width: 63rem) and (max-width: 79.9375rem){.ssrcss-13jb8nu-PromoGroupWrapper >ul,.ssrcss-13jb8nu-PromoGroupWrapper ol{grid-template-columns:1fr;}}@media (min-width: 80rem){.ssrcss-13jb8nu-PromoGroupWrapper >ul,.ssrcss-13jb8nu-PromoGroupWrapper ol{grid-template-columns:1fr;}}.ssrcss-13jb8nu-PromoGroupWrapper >ul >*:not([hidden]):not(style):not(.visually-hidden)~*:not([hidden]):not(style):not(.visually-hidden),.ssrcss-13jb8nu-PromoGroupWrapper ol >*:not([hidden]):not(style):not(.visually-hidden)~*:not([hidden]):not(style):not(.visually-hidden){margin-top:0;}.ssrcss-1020bd1-Stack{margin:0;padding:0;list-style:none;}.ssrcss-1020bd1-Stack >*:not([hidden]):not(style):not(.visually-hidden)~*:not([hidden]):not(style):not(.visually-hidden){margin-top:1rem;}@media (min-width: 25rem){.ssrcss-1020bd1-Stack >*:not([hidden]):not(style):not(.visually-hidden)~*:not([hidden]):not(style):not(.visually-hidden){margin-top:1.5rem;}}@media (min-width: 0rem) and (max-width: 24.9375rem){.ssrcss-2pgqep-PromoItem{margin-bottom:1rem;}}@media (min-width: 25rem) and (max-width: 37.4375rem){.ssrcss-2pgqep-PromoItem{margin-bottom:1rem;}}@media (min-width: 37.5rem) and (max-width: 56.1875rem){.ssrcss-2pgqep-PromoItem{margin-bottom:1rem;}}@media (min-width: 56.25rem) and (max-width: 62.9375rem){.ssrcss-2pgqep-PromoItem{margin-bottom:1rem;}}@media (min-width: 63rem) and (max-width: 79.9375rem){.ssrcss-2pgqep-PromoItem{margin-bottom:1rem;}}@media (min-width: 80rem){.ssrcss-2pgqep-PromoItem{margin-bottom:1rem;}}.ssrcss-1enzf19-PromoCompact{display:-webkit-box;display:-webkit-flex;display:-ms-flexbox;display:flex;-webkit-flex-direction:column;-ms-flex-direction:column;flex-direction:column;height:100%;}.ssrcss-1enzf19-PromoCompact .exn3ah99{-webkit-flex:1 0 auto;-ms-flex:1 0 auto;flex:1 0 auto;}.ssrcss-1enzf19-PromoCompact .en81kx34{display:none;}.ssrcss-1enzf19-PromoCompact .exn3ah97{display:inline-block;}.ssrcss-kgm8vt-PromoGroupWrapper{font-family:ReithSans,Helvetica,Arial,freesans,sans-serif;font-weight:400;font-feature-settings:\\'\\';font-size:1rem;line-height:1.375;color:#141414;}@media (min-width: 0rem) and (max-width: 24.9375rem){.ssrcss-kgm8vt-PromoGroupWrapper{margin-top:1rem;}}@media (min-width: 25rem) and (max-width: 37.4375rem){.ssrcss-kgm8vt-PromoGroupWrapper{margin-top:1rem;}}@media (min-width: 37.5rem) and (max-width: 56.1875rem){.ssrcss-kgm8vt-PromoGroupWrapper{margin-top:1rem;}}@media (min-width: 56.25rem) and (max-width: 62.9375rem){.ssrcss-kgm8vt-PromoGroupWrapper{margin-top:1rem;}}@media (min-width: 63rem) and (max-width: 79.9375rem){.ssrcss-kgm8vt-PromoGroupWrapper{margin-top:1rem;}}@media (min-width: 80rem){.ssrcss-kgm8vt-PromoGroupWrapper{margin-top:1rem;}}.ssrcss-kgm8vt-PromoGroupWrapper >ul,.ssrcss-kgm8vt-PromoGroupWrapper ol{display:grid;-webkit-column-gap:1rem;column-gap:1rem;}@media (min-width: 0rem) and (max-width: 24.9375rem){.ssrcss-kgm8vt-PromoGroupWrapper >ul,.ssrcss-kgm8vt-PromoGroupWrapper ol{grid-template-columns:repeat(2, 1fr);false padding-bottom:1.5rem;}}@media (min-width: 25rem) and (max-width: 37.4375rem){.ssrcss-kgm8vt-PromoGroupWrapper >ul,.ssrcss-kgm8vt-PromoGroupWrapper ol{grid-template-columns:repeat(2, 1fr);false padding-bottom:1.5rem;}}@media (min-width: 37.5rem) and (max-width: 56.1875rem){.ssrcss-kgm8vt-PromoGroupWrapper >ul,.ssrcss-kgm8vt-PromoGroupWrapper ol{grid-template-columns:repeat(3, 1fr);false padding-bottom:1.5rem;}}@media (min-width: 56.25rem) and (max-width: 62.9375rem){.ssrcss-kgm8vt-PromoGroupWrapper >ul,.ssrcss-kgm8vt-PromoGroupWrapper ol{grid-template-columns:1fr;}}@media (min-width: 63rem) and (max-width: 79.9375rem){.ssrcss-kgm8vt-PromoGroupWrapper >ul,.ssrcss-kgm8vt-PromoGroupWrapper ol{grid-template-columns:1fr;}}@media (min-width: 80rem){.ssrcss-kgm8vt-PromoGroupWrapper >ul,.ssrcss-kgm8vt-PromoGroupWrapper ol{grid-template-columns:1fr;}}.ssrcss-kgm8vt-PromoGroupWrapper >ul >*:not([hidden]):not(style):not(.visually-hidden)~*:not([hidden]):not(style):not(.visually-hidden),.ssrcss-kgm8vt-PromoGroupWrapper ol >*:not([hidden]):not(style):not(.visually-hidden)~*:not([hidden]):not(style):not(.visually-hidden){margin-top:0;}.ssrcss-6kxrmq-PromoPortrait{display:-webkit-box;display:-webkit-flex;display:-ms-flexbox;display:flex;-webkit-flex-direction:column;-ms-flex-direction:column;flex-direction:column;height:100%;}.ssrcss-6kxrmq-PromoPortrait .en81kx34{-webkit-flex:none;-ms-flex:none;flex:none;}.ssrcss-6kxrmq-PromoPortrait .exn3ah99{-webkit-order:2;-ms-flex-order:2;order:2;-webkit-flex:1 0 auto;-ms-flex:1 0 auto;flex:1 0 auto;padding-top:0.5rem;}@media (min-width: 56.25rem){.ssrcss-6kxrmq-PromoPortrait .exn3ah99{padding-top:0.75rem;}}.ssrcss-1v1new6-PromoContent{box-sizing:border-box;padding:0.5rem!important;display:-webkit-box;display:-webkit-flex;display:-ms-flexbox;display:flex;-webkit-flex-direction:column;-ms-flex-direction:column;flex-direction:column;-webkit-box-pack:justify;-webkit-justify-content:space-between;justify-content:space-between;word-wrap:break-word;overflow-wrap:break-word;}@media (min-width: 56.25rem){.ssrcss-1v1new6-PromoContent{padding:0.75rem!important;}}.ssrcss-1v1new6-PromoContent >*{-webkit-flex:none;-ms-flex:none;flex:none;}.ssrcss-1v1new6-PromoContent >*:not([hidden]):not(style):not(.visually-hidden)~*:not([hidden]):not(style):not(.visually-hidden){margin-top:1rem;}.ssrcss-1bns0x8-Placeholder{position:relative;display:block;padding-bottom:56.1038961038961%;background-color:#F6F6F6;}.ssrcss-1bns0x8-Placeholder img{overflow:hidden;position:absolute;top:0;right:0;bottom:0;left:0;display:-webkit-box;display:-webkit-flex;display:-ms-flexbox;display:flex;-webkit-box-pack:center;-ms-flex-pack:center;-webkit-justify-content:center;justify-content:center;-webkit-align-items:center;-webkit-box-align:center;-ms-flex-align:center;align-items:center;width:100%;height:100%;object-fit:cover;}.ssrcss-fw358t-PromoGroupWrapper{font-family:ReithSans,Helvetica,Arial,freesans,sans-serif;font-weight:400;font-feature-settings:\\'\\';font-size:1rem;line-height:1.375;color:#141414;}@media (min-width: 0rem) and (max-width: 24.9375rem){.ssrcss-fw358t-PromoGroupWrapper{margin-top:1rem;}}@media (min-width: 25rem) and (max-width: 37.4375rem){.ssrcss-fw358t-PromoGroupWrapper{margin-top:1rem;}}@media (min-width: 37.5rem) and (max-width: 56.1875rem){.ssrcss-fw358t-PromoGroupWrapper{margin-top:1rem;}}@media (min-width: 56.25rem) and (max-width: 62.9375rem){.ssrcss-fw358t-PromoGroupWrapper{margin-top:1rem;}}@media (min-width: 63rem) and (max-width: 79.9375rem){.ssrcss-fw358t-PromoGroupWrapper{margin-top:1rem;}}@media (min-width: 80rem){.ssrcss-fw358t-PromoGroupWrapper{margin-top:1rem;}}.ssrcss-fw358t-PromoGroupWrapper >ul,.ssrcss-fw358t-PromoGroupWrapper ol{display:grid;-webkit-column-gap:1rem;column-gap:1rem;}@media (min-width: 0rem) and (max-width: 24.9375rem){.ssrcss-fw358t-PromoGroupWrapper >ul,.ssrcss-fw358t-PromoGroupWrapper ol{grid-template-columns:1fr;}}@media (min-width: 25rem) and (max-width: 37.4375rem){.ssrcss-fw358t-PromoGroupWrapper >ul,.ssrcss-fw358t-PromoGroupWrapper ol{grid-template-columns:1fr;}}@media (min-width: 37.5rem) and (max-width: 56.1875rem){.ssrcss-fw358t-PromoGroupWrapper >ul,.ssrcss-fw358t-PromoGroupWrapper ol{grid-template-columns:repeat(2, 1fr);false padding-bottom:1.5rem;}}@media (min-width: 56.25rem) and (max-width: 62.9375rem){.ssrcss-fw358t-PromoGroupWrapper >ul,.ssrcss-fw358t-PromoGroupWrapper ol{grid-template-columns:1fr;}}@media (min-width: 63rem) and (max-width: 79.9375rem){.ssrcss-fw358t-PromoGroupWrapper >ul,.ssrcss-fw358t-PromoGroupWrapper ol{grid-template-columns:1fr;}}@media (min-width: 80rem){.ssrcss-fw358t-PromoGroupWrapper >ul,.ssrcss-fw358t-PromoGroupWrapper ol{grid-template-columns:1fr;}}.ssrcss-fw358t-PromoGroupWrapper >ul >*:not([hidden]):not(style):not(.visually-hidden)~*:not([hidden]):not(style):not(.visually-hidden),.ssrcss-fw358t-PromoGroupWrapper ol >*:not([hidden]):not(style):not(.visually-hidden)~*:not([hidden]):not(style):not(.visually-hidden){margin-top:0;}.ssrcss-1ibzzbt-Container{font-family:ReithSans,Helvetica,Arial,freesans,sans-serif;font-weight:400;font-feature-settings:\\'\\';font-size:1rem;line-height:1.375;-webkit-align-items:center;-webkit-box-align:center;-ms-flex-align:center;align-items:center;color:#B80000;display:-webkit-box;display:-webkit-flex;display:-ms-flexbox;display:flex;height:calc(100% - 2rem);padding:1rem;position:relative;background:#F6F6F6;}.ssrcss-smcys4-Wrapper{display:-webkit-box;display:-webkit-flex;display:-ms-flexbox;display:flex;-webkit-align-items:start;-webkit-box-align:start;-ms-flex-align:start;align-items:start;height:100%;}.ssrcss-1giogr2-Number{font-size:2rem;line-height:1.125;line-height:1;min-width:2.375rem;padding-right:0.5rem;}@media (min-width: 37.5rem){.ssrcss-1giogr2-Number{font-size:2.75rem;line-height:1.0909090909090908;}}@media (min-width: 37.5rem){.ssrcss-1giogr2-Number{margin-top:-0.25rem;min-width:3.25rem;}}.ssrcss-9n6uek-ColumnWrapper{display:-webkit-box;display:-webkit-flex;display:-ms-flexbox;display:flex;-webkit-align-items:start;-webkit-box-align:start;-ms-flex-align:start;align-items:start;-webkit-flex-direction:column;-ms-flex-direction:column;flex-direction:column;height:100%;}.ssrcss-18cjaf3-Headline{font-family:ReithSerif,Helvetica,Arial,freesans,sans-serif;font-weight:500;font-feature-settings:\\'\\';font-size:1rem;line-height:1.25;line-height:1.25rem;overflow-wrap:anywhere;}@media (min-width: 37.5rem){.ssrcss-18cjaf3-Headline{font-size:1.125rem;line-height:1.222222222222222;}}.ssrcss-18cjaf3-Headline:link{color:#141414;-webkit-text-decoration:none;text-decoration:none;}.ssrcss-18cjaf3-Headline:visited{color:#545658;}.ssrcss-18cjaf3-Headline:hover,.ssrcss-18cjaf3-Headline:focus{-webkit-text-decoration:underline;text-decoration:underline;color:#B80000;}@supports (text-decoration-color: transparent){.ssrcss-18cjaf3-Headline:hover,.ssrcss-18cjaf3-Headline:focus{text-decoration-line:underline;text-decoration-thickness:2px;}}.ssrcss-18cjaf3-Headline svg{display:inline-block;height:0.875em;width:0.875em;vertical-align:-0.0625em;margin-right:0.25em;}.ssrcss-18cjaf3-Headline::before{inset:0px;content:\\'\\';overflow:hidden;position:absolute;white-space:nowrap;z-index:1;}.ssrcss-1y7k614-FooterStack{-webkit-flex:none;-ms-flex:none;flex:none;}.ssrcss-44tgo1-ServiceBar{font-family:ReithSans,Helvetica,Arial,freesans,sans-serif;font-weight:400;font-feature-settings:\\'\\';font-size:0.8125rem;line-height:1.2307692307692308;background:#141414;color:#F6F6F6;}.ssrcss-1a6riyw-ServiceBarTitle{padding-top:1rem;}.ssrcss-lny69r-StyledHeading{font-family:ReithSans,Helvetica,Arial,freesans,sans-serif;font-weight:700;font-feature-settings:\\'\\';font-size:1.125rem;line-height:1.222222222222222;margin:0;color:#F6F6F6;}@media (min-width: 37.5rem){.ssrcss-lny69r-StyledHeading{font-size:1.25rem;line-height:1.2;}}.ssrcss-lny69r-StyledHeading:focus{outline-style:none;}.ssrcss-lny69r-StyledHeading:focus-visible{outline-style:auto;}.ssrcss-1lx08fz-ServiceLinkList{display:-webkit-box;display:-webkit-flex;display:-ms-flexbox;display:flex;-webkit-flex-direction:column;-ms-flex-direction:column;flex-direction:column;-webkit-box-flex-wrap:wrap;-webkit-flex-wrap:wrap;-ms-flex-wrap:wrap;flex-wrap:wrap;}@media (min-width: 37.5rem){.ssrcss-1lx08fz-ServiceLinkList{-webkit-flex-direction:row;-ms-flex-direction:row;flex-direction:row;}.ssrcss-1lx08fz-ServiceLinkList>li{-webkit-flex:50%;-ms-flex:50%;flex:50%;}}@media (min-width: 56.25rem){.ssrcss-1lx08fz-ServiceLinkList{-webkit-box-pack:justify;-webkit-justify-content:space-between;justify-content:space-between;}.ssrcss-1lx08fz-ServiceLinkList>li{-webkit-flex:1;-ms-flex:1;flex:1;}}.ssrcss-16gfcx-StyledLink{font-family:ReithSans,Helvetica,Arial,freesans,sans-serif;font-weight:700;font-feature-settings:\\'\\';-webkit-text-decoration:none;text-decoration:none;color:#F6F6F6;display:block;padding:0.75rem 0;}.ssrcss-16gfcx-StyledLink:hover,.ssrcss-16gfcx-StyledLink:focus{-webkit-text-decoration:underline;text-decoration:underline;}.ssrcss-fjeiuk-StyledIconContainer{display:inline-block;padding-right:0.5rem;width:1.75rem;height:1.75rem;vertical-align:-0.4em;}.ssrcss-1gyzvqx-GlobalFooterStyling{font-family:ReithSans,Helvetica,Arial,freesans,sans-serif;font-weight:400;font-feature-settings:\\'\\';font-size:0.8125rem;line-height:1.2307692307692308;padding:1rem 0;background:#141414;border-top:1px solid #8A8C8E;color:#F6F6F6;}.ssrcss-wjed5-Stack >*:not([hidden]):not(style):not(.visually-hidden)~*:not([hidden]):not(style):not(.visually-hidden){border-top:1px solid #8A8C8E;padding-top:1rem;margin-top:1rem;}.ssrcss-1iurs7n-Columns{-webkit-columns:5.625rem;columns:5.625rem;-webkit-column-rule:1px solid #8A8C8E;column-rule:1px solid #8A8C8E;-webkit-column-gap:1.5rem;column-gap:1.5rem;gap:1.5rem;}@media (min-width: 37.5rem){.ssrcss-1iurs7n-Columns{-webkit-column-gap:2.5rem;column-gap:2.5rem;gap:2.5rem;}}@media (min-width: 80rem){.ssrcss-1iurs7n-Columns{-webkit-columns:8rem;columns:8rem;}}.ssrcss-1iurs7n-Columns>li{break-inside:avoid-column;}.ssrcss-18ullcu-Link-NavigationLink{font-family:ReithSans,Helvetica,Arial,freesans,sans-serif;font-weight:700;font-feature-settings:\\'\\';-webkit-text-decoration:none;text-decoration:none;color:#F6F6F6;display:block;padding:0.75rem 0;}.ssrcss-18ullcu-Link-NavigationLink:hover,.ssrcss-18ullcu-Link-NavigationLink:focus{-webkit-text-decoration:underline;text-decoration:underline;}.ssrcss-x3nlsb-ClusterItems{padding:0;list-style:none;margin:calc(1.5rem / 2 * -1);display:-webkit-box;display:-webkit-flex;display:-ms-flexbox;display:flex;-webkit-box-flex-wrap:wrap;-webkit-flex-wrap:wrap;-ms-flex-wrap:wrap;flex-wrap:wrap;}.ssrcss-x3nlsb-ClusterItems >*{margin:calc(1.5rem / 2);}@supports (gap: 1rem){.ssrcss-x3nlsb-ClusterItems{gap:1.5rem;margin:0;}.ssrcss-x3nlsb-ClusterItems >*{margin:0;}}.ssrcss-1xssqxs-Link-LegalLink{font-family:ReithSans,Helvetica,Arial,freesans,sans-serif;font-weight:700;font-feature-settings:\\'\\';-webkit-text-decoration:none;text-decoration:none;color:#F6F6F6;display:block;margin:-0.75rem -0.5rem;padding:0.75rem 0.5rem;}.ssrcss-1xssqxs-Link-LegalLink:hover,.ssrcss-1xssqxs-Link-LegalLink:focus{-webkit-text-decoration:underline;text-decoration:underline;}@media (min-width: 25rem){.ssrcss-1xssqxs-Link-LegalLink{margin:-0.75rem;padding:0.75rem;}}.ssrcss-odwm7b-Link{font-family:ReithSans,Helvetica,Arial,freesans,sans-serif;font-weight:700;font-feature-settings:\\'\\';-webkit-text-decoration:none;text-decoration:none;color:#F6F6F6;}.ssrcss-odwm7b-Link:hover,.ssrcss-odwm7b-Link:focus{-webkit-text-decoration:underline;text-decoration:underline;}</style></head><body><div id=\"root\"><div class=\"ssrcss-181c4hk-SectionWrapper eustbbg0\"><div class=\"ssrcss-4rxmy3-PageStack e1mcntqj2\"><div class=\"ssrcss-l6cntj-ContentStack e1mcntqj0\"><div class=\"ssrcss-irv5dn-Zone e1mcntqj4\"><header id=\"header-content\" data-testid=\"header-content\"><nav aria-label=\"BBC\" class=\"ssrcss-1oe5f4g-ChameleonGlobalNavigation e140xmwz0\"><div class=\"ssrcss-1ocoo3l-Wrap e42f8511\"><div class=\"ssrcss-vvyq0-GlobalNavigationContent e1gviwgp26\"><div class=\"ssrcss-1oqq2r6-GlobalNavigationItem e1gviwgp24\"><a href=\"https://www.bbc.com\" class=\"ssrcss-bm51oc-NavigationLink-LogoLink e1gviwgp15\"><span class=\"ssrcss-fj0f8c-LogoIconWrapper e1gviwgp11\"><svg xmlns=\"http://www.w3.org/2000/svg\" viewBox=\"0 0 112 32\" width=\"112\" height=\"32\" fill=\"currentColor\"><path d=\"M111.99999,4.44444577e-05 L111.99999,32.0000444 L79.9999905,32.0000444 L79.9999905,4.44444577e-05 L111.99999,4.44444577e-05 Z M72.0000119,-3.55271368e-15 L72.0000119,32 L40.0000119,32 L40.0000119,-3.55271368e-15 L72.0000119,-3.55271368e-15 Z M32,-3.55271368e-15 L32,32 L-1.13686838e-13,32 L-1.13686838e-13,-3.55271368e-15 L32,-3.55271368e-15 Z M97.469329,6.80826869 C96.0294397,6.80826869 94.7294393,7.02226876 93.5693278,7.44982444 C92.4089942,7.87782457 91.4137717,8.49471364 90.5841047,9.30049166 C89.7538823,10.1067141 89.1188821,11.07327 88.6785486,12.199937 C88.2378818,13.3269373 88.0177706,14.5896043 88.0177706,15.9876048 C88.0177706,17.4188274 88.2296596,18.7062722 88.6531042,19.8493837 C89.0763265,20.9929396 89.6861045,21.9591621 90.482438,22.748829 C91.2784383,23.5383848 92.2522163,24.1430516 93.4042167,24.5624962 C94.5558837,24.9819408 95.8516619,25.1917186 97.2914401,25.1917186 C98.3752182,25.1917186 99.4086629,25.072163 100.391219,24.8338296 C101.37333,24.5956073 102.237108,24.2706072 102.982664,23.8592738 L102.982664,23.8592738 L102.982664,20.4292727 C101.40733,21.4001619 99.6881074,21.8851621 97.8251069,21.8851621 C96.6054399,21.8851621 95.567884,21.6549398 94.7126615,21.194273 C93.8572168,20.7338284 93.2049944,20.0633837 92.7564387,19.1831613 C92.3073275,18.3032721 92.0831052,17.2380496 92.0831052,15.9876048 C92.0831052,14.7377155 92.3156608,13.6766041 92.7816609,12.8044927 C93.2474389,11.9327147 93.916328,11.2664922 94.7888838,10.8058254 C95.6609951,10.3453809 96.715551,10.1148252 97.9521069,10.1148252 C98.8496628,10.1148252 99.7052186,10.2342697 100.518108,10.4726031 C101.331219,10.7112699 102.084664,11.0609366 102.779442,11.5212701 L102.779442,11.5212701 L102.779442,8.01738016 C102.017219,7.62260227 101.191441,7.32260218 100.302219,7.11671323 C99.4129963,6.91126872 98.4685515,6.80826869 97.469329,6.80826869 Z M55.7552388,7.00000208 L49.0000146,7.00000208 L49.0000146,25.0000021 L56.1713501,25.0000021 C57.590906,25.0000021 58.8063508,24.7903407 59.8181289,24.3706739 C60.8297959,23.9513405 61.6087961,23.3553403 62.1555741,22.5832289 C62.7020187,21.8114509 62.9754632,20.8882284 62.9754632,19.8140059 C62.9754632,18.7232278 62.6941298,17.7960053 62.1312407,17.0321162 C61.5681294,16.2686715 60.7563514,15.7104491 59.6957955,15.3580046 C60.4625736,14.9891156 61.0420182,14.4894488 61.4335738,13.8601152 C61.8252406,13.2307817 62.0210185,12.4881148 62.0210185,11.6321146 C62.0210185,10.1385586 61.4742405,8.99311379 60.3812402,8.19578022 C59.2877954,7.39889109 57.745795,7.00000208 55.7552388,7.00000208 L55.7552388,7.00000208 Z M15.7552269,7.00000208 L9.00000268,7.00000208 L9.00000268,25.0000021 L16.1713381,25.0000021 C17.5908941,25.0000021 18.8062278,24.7903407 19.8182281,24.3706739 C20.8296729,23.9513405 21.6087842,23.3553403 22.1555621,22.5832289 C22.7021179,21.8114509 22.9755624,20.8882284 22.9755624,19.8140059 C22.9755624,18.7232278 22.6941179,17.7960053 22.1311177,17.0321162 C21.5682286,16.2686715 20.7563395,15.7104491 19.6957836,15.3580046 C20.4625616,14.9891156 21.0418952,14.4894488 21.4335619,13.8601152 C21.8252287,13.2307817 22.0210066,12.4881148 22.0210066,11.6321146 C22.0210066,10.1385586 21.4741175,8.99311379 20.3811172,8.19578022 C19.2877835,7.39889109 17.7457831,7.00000208 15.7552269,7.00000208 L15.7552269,7.00000208 Z M55.8775833,17.2209385 C58.1128062,17.2209385 59.2308065,18.0434943 59.2308065,19.6881614 C59.2308065,20.4602728 58.9369175,21.0518285 58.3496951,21.4629397 C57.7622505,21.8743843 56.9216947,22.0797177 55.8286944,22.0797177 L55.8286944,22.0797177 L52.6469157,22.0797177 L52.6469157,17.2209385 Z M15.8775714,17.2209385 C18.1129054,17.2209385 19.2307946,18.0434943 19.2307946,19.6881614 C19.2307946,20.4602728 18.9370167,21.0518285 18.3496832,21.4629397 C17.7622386,21.8743843 16.9216828,22.0797177 15.8286825,22.0797177 L15.8286825,22.0797177 L12.6469038,22.0797177 L12.6469038,17.2209385 Z M55.412572,9.92028073 C57.3541282,9.92028073 58.3252396,10.6338365 58.3252396,12.0600591 C58.3252396,12.7988371 58.0763506,13.373504 57.5786838,13.7846152 C57.0807948,14.1960598 56.3587946,14.4013932 55.412572,14.4013932 L55.412572,14.4013932 L52.6469046,14.4013932 L52.6469046,9.92028073 Z M15.4125601,9.92028073 C17.3541163,9.92028073 18.3252277,10.6338365 18.3252277,12.0600591 C18.3252277,12.7988371 18.0762276,13.373504 17.5786719,13.7846152 C17.0807829,14.1960598 16.3587826,14.4013932 15.4125601,14.4013932 L15.4125601,14.4013932 L12.6468927,14.4013932 L12.6468927,9.92028073 Z\"></path></svg><span class=\"visually-hidden ssrcss-1f39n02-VisuallyHidden e16en2lz0\">BBC Homepage</span></span></a></div><ul role=\"list\" class=\"ssrcss-159k2oa-ChameleonUl e3mdvhu1\"><li><a href=\"#main-heading\" class=\"ssrcss-11zd2mu-ChameleonAccessibilityLink e3mdvhu0\">Skip to content</a></li><li><a href=\"https://www.bbc.co.uk/accessibility/\" class=\"ssrcss-11zd2mu-ChameleonAccessibilityLink e3mdvhu0\">Accessibility Help</a></li></ul><div class=\"ssrcss-ksfdkf-GlobalNavigationItem e1gviwgp24\"><ul role=\"list\" class=\"ssrcss-76eozk-AccountOptionsList e1gviwgp0\"><li class=\"ssrcss-jo7vq7-GlobalNavigationProduct-GlobalNavigationNonProductItem-GlobalNavigationAccount e1gviwgp20\"><a href=\"https://account.bbc.com/account?lang=en-GB&amp;ptrt=https://www.bbc.com/news/world-asia-india-66851211\" class=\"ssrcss-tpup1o-NavigationLink-AccountLink e1gviwgp14\" language=\"en-GB\"><span class=\"ssrcss-17cn1ks-AccountIconWrapper e1gviwgp6\"><svg viewBox=\"0 0 32 32\" width=\"1em\" height=\"1em\" class=\"ssrcss-xi5oyi-StyledIcon e161cein1\" focusable=\"false\" aria-hidden=\"true\"><path fill-rule=\"evenodd\" d=\"M16 17.5a7.878 7.878 0 0 1-8-7.75A7.878 7.878 0 0 1 16 2a7.878 7.878 0 0 1 8 7.75 7.878 7.878 0 0 1-8 7.75ZM2 30c0-5.883 7.519-10 14.014-10C22.48 20 30 24.12 30 29.994c0 .005-28 .007-28 .005Z\"></path></svg></span><span class=\"ssrcss-qgttmg-AccountText e1gviwgp4\">Your account</span></a></li></ul><div class=\"ssrcss-hr8a74-VerticalSeparator e1gviwgp12\"></div><ul role=\"list\" class=\"ssrcss-ls269v-ChameleonGlobalNavigationLinkList-En e16i5fd20\"><li class=\"ssrcss-13wzjg6-GlobalNavigationProduct e1gviwgp23\"><a href=\"https://www.bbc.com\" class=\"ssrcss-11dlz1y-NavigationLink e1gviwgp18\"><span class=\"ssrcss-12ta03h-NavItemHoverState e1gviwgp19\">Home</span></a></li><li class=\"ssrcss-19w6k2s-GlobalNavigationProduct e1gviwgp23\"><a href=\"https://www.bbc.com/news\" class=\"ssrcss-11dlz1y-NavigationLink e1gviwgp18\"><span class=\"ssrcss-1p8labd-NavItemHoverState e1gviwgp19\">News</span></a></li><li class=\"ssrcss-19w6k2s-GlobalNavigationProduct e1gviwgp23\"><a href=\"https://www.bbc.com/sport\" class=\"ssrcss-11dlz1y-NavigationLink e1gviwgp18\"><span class=\"ssrcss-10wdlej-NavItemHoverState e1gviwgp19\">Sport</span></a></li><li class=\"ssrcss-19w6k2s-GlobalNavigationProduct e1gviwgp23\"><a href=\"https://www.bbc.com/reel\" class=\"ssrcss-11dlz1y-NavigationLink e1gviwgp18\"><span class=\"ssrcss-6mftle-NavItemHoverState e1gviwgp19\">Reel</span></a></li><li class=\"ssrcss-19w6k2s-GlobalNavigationProduct e1gviwgp23\"><a href=\"https://www.bbc.com/worklife\" class=\"ssrcss-11dlz1y-NavigationLink e1gviwgp18\"><span class=\"ssrcss-1l58p0q-NavItemHoverState e1gviwgp19\">Worklife</span></a></li><li class=\"ssrcss-19w6k2s-GlobalNavigationProduct e1gviwgp23\"><a href=\"https://www.bbc.com/travel\" class=\"ssrcss-11dlz1y-NavigationLink e1gviwgp18\"><span class=\"ssrcss-1v60727-NavItemHoverState e1gviwgp19\">Travel</span></a></li><li class=\"ssrcss-19w6k2s-GlobalNavigationProduct e1gviwgp23\"><a href=\"https://www.bbc.com/future\" class=\"ssrcss-11dlz1y-NavigationLink e1gviwgp18\"><span class=\"ssrcss-qtp2tt-NavItemHoverState e1gviwgp19\">Future</span></a></li><li id=\"more-menu-button\" class=\"ssrcss-11uo6b-GlobalNavigationProduct e1gviwgp23\"><a href=\"#chameleon-global-navigation-more-menu\" class=\"ssrcss-1tvynlg-NavigationLink-MenuToggleControlLink e1gviwgp1\"><span class=\"ssrcss-1xfakeq-NavItemHoverState e1gviwgp19\"><span class=\"ssrcss-13dpa8i-DotsMenuIconWrapper e1gviwgp7\"><svg width=\"20\" height=\"4\" viewBox=\"0 0 20 4\" xmlns=\"http://www.w3.org/2000/svg\" fill=\"currentColor\"><g transform=\"translate(-14.000000, -22.000000)\"><path d=\"M18,22 L18,26 L14,26 L14,22 L18,22 Z M34,22 L34,26 L30,26 L30,22 L34,22 Z M26,22 L26,26 L22,26 L22,22 L26,22 Z\"></path></g></svg><span class=\"visually-hidden ssrcss-1f39n02-VisuallyHidden e16en2lz0\">More menu</span></span></span></a></li></ul></div><div class=\"ssrcss-69nf57-LastGlobalNavigationItem e1gviwgp25\"><div class=\"ssrcss-5am6e6-GlobalNavigationItem-GlobalNavigationBurger e1gviwgp21\"><a href=\"#chameleon-global-navigation-more-menu\" class=\"ssrcss-1tvynlg-NavigationLink-MenuToggleControlLink e1gviwgp1\"><span class=\"ssrcss-12ta03h-NavItemHoverState e1gviwgp19\"><span class=\"ssrcss-1myt22i-BurgerMenuIconWrapper e1gviwgp8\"><svg width=\"1.5em\" height=\"1.375em\" viewBox=\"0 0 24 22\" version=\"1.1\" xmlns=\"http://www.w3.org/2000/svg\" fill=\"currentColor\"><path d=\"M24,18 L24,22 L0,22 L0,18 L24,18 Z M24,9 L24,13 L0,13 L0,9 L24,9 Z M24,0 L24,4 L0,4 L0,0 L24,0 Z\"></path></svg><span class=\"visually-hidden ssrcss-1f39n02-VisuallyHidden e16en2lz0\">More menu</span></span></span></a></div><div role=\"search\" aria-label=\"Search BBC\" class=\"ssrcss-15a3kwz-GlobalNavigationItem e1gviwgp24\"><a href=\"https://www.bbc.co.uk/search?d=NEWS_GNL\" class=\"ssrcss-s2g7dp-NavigationLink-SearchLink e1gviwgp17\"><span class=\"ssrcss-mwl823-IconWrapper-SearchIconWrapper e1gviwgp9\"><svg viewBox=\"0 0 32 32\" width=\"1em\" height=\"1em\" class=\"ssrcss-xi5oyi-StyledIcon e161cein1\" focusable=\"false\" aria-hidden=\"true\"><path d=\"m30.6 28.1-8.3-8.3c1.5-2 2.4-4.4 2.4-7.2C24.7 6 19.6 1 13 1S1.4 6.1 1.4 12.7 6.5 24.3 13 24.3c2.3 0 4.4-.6 6.2-1.8l8.5 8.5 2.9-2.9zM4 12.6c0-5.2 3.9-9.1 9-9.1s9 3.9 9 9.1c0 5.2-3.9 9.1-9 9.1s-9-3.9-9-9.1z\"></path></svg></span><span class=\"ssrcss-1tt7th2-SearchText e1gviwgp16\">Search BBC</span></a></div></div></div></div><div tabindex=\"-1\" class=\"ssrcss-lwaunq-ChameleonDrawerComponentWrapper e17bpw4v0\"><div id=\"chameleon-global-navigation-more-menu\" rows=\"6\" class=\"ssrcss-14awlky-ChameleonMenuComponentWrapper e1y2z29v3\"><div class=\"ssrcss-1ocoo3l-Wrap e42f8511\"><div class=\"ssrcss-1obp207-MenuWrapper e1y2z29v0\"><ul tabindex=\"-1\" role=\"list\" class=\"ssrcss-16zd8gh-ChameleonMenuLinkList-En er9xynn0\"><li class=\"ssrcss-ixmh02-ChameleonNavigationProduct e1y2z29v2\"><a href=\"https://www.bbc.com\" class=\"ssrcss-d01d8o-MenuLink e1y2z29v1\">Home</a></li><li class=\"ssrcss-ixmh02-ChameleonNavigationProduct e1y2z29v2\"><a href=\"https://www.bbc.com/news\" class=\"ssrcss-1rh0zde-MenuLink e1y2z29v1\">News</a></li><li class=\"ssrcss-ixmh02-ChameleonNavigationProduct e1y2z29v2\"><a href=\"https://www.bbc.com/sport\" class=\"ssrcss-12f4060-MenuLink e1y2z29v1\">Sport</a></li><li class=\"ssrcss-ixmh02-ChameleonNavigationProduct e1y2z29v2\"><a href=\"https://www.bbc.com/reel\" class=\"ssrcss-8luduf-MenuLink e1y2z29v1\">Reel</a></li><li class=\"ssrcss-ixmh02-ChameleonNavigationProduct e1y2z29v2\"><a href=\"https://www.bbc.com/worklife\" class=\"ssrcss-1etr8ix-MenuLink e1y2z29v1\">Worklife</a></li><li class=\"ssrcss-ixmh02-ChameleonNavigationProduct e1y2z29v2\"><a href=\"https://www.bbc.com/travel\" class=\"ssrcss-l0tei5-MenuLink e1y2z29v1\">Travel</a></li><li class=\"ssrcss-ixmh02-ChameleonNavigationProduct e1y2z29v2\"><a href=\"https://www.bbc.com/future\" class=\"ssrcss-1lvt90n-MenuLink e1y2z29v1\">Future</a></li><li class=\"ssrcss-ixmh02-ChameleonNavigationProduct e1y2z29v2\"><a href=\"https://www.bbc.com/culture\" class=\"ssrcss-usoec7-MenuLink e1y2z29v1\">Culture</a></li><li class=\"ssrcss-ixmh02-ChameleonNavigationProduct e1y2z29v2\"><a href=\"https://www.bbc.com/culture/music\" class=\"ssrcss-d01d8o-MenuLink e1y2z29v1\">Music</a></li><li class=\"ssrcss-ixmh02-ChameleonNavigationProduct e1y2z29v2\"><a href=\"https://www.bbc.co.uk/schedules/p00fzl9m\" class=\"ssrcss-d01d8o-MenuLink e1y2z29v1\">TV</a></li><li class=\"ssrcss-ixmh02-ChameleonNavigationProduct e1y2z29v2\"><a href=\"https://www.bbc.com/weather\" class=\"ssrcss-jjaetm-MenuLink e1y2z29v1\">Weather</a></li><li class=\"ssrcss-ixmh02-ChameleonNavigationProduct e1y2z29v2\"><a href=\"https://www.bbc.co.uk/sounds\" class=\"ssrcss-z3vxb8-MenuLink e1y2z29v1\">Sounds</a></li></ul><div><a href=\"#more-menu-button\" class=\"ssrcss-1i8v1n4-CallToActionLink esxl4sy1\"><span data-testid=\"actions:close\" class=\"ssrcss-1hfawy1-IconWrapper esxl4sy0\"><svg viewBox=\"0 0 32 32\" width=\"1em\" height=\"1em\" class=\"ssrcss-xi5oyi-StyledIcon e161cein1\" focusable=\"false\" aria-hidden=\"true\"><path d=\"m30 4.6-2.8-2.8L2 27.4l2.8 2.8L30 4.6zM4.8 1.8 1.9 4.7l25.2 25.5 2.9-2.9L4.8 1.8z\"></path></svg><span class=\"visually-hidden ssrcss-1f39n02-VisuallyHidden e16en2lz0\"><span class=\"ssrcss-1hgui5j-TextWrapper esxl4sy2\">Close menu</span></span></span></a></div></div></div></div></div></nav><div class=\"ssrcss-73ydgk-ProductNavigationContainer e19b3odl3\"><div class=\"ssrcss-110xoo0-Masthead esbu9dd2\"><div class=\"ssrcss-1ocoo3l-Wrap e42f8511\"><div class=\"ssrcss-12x0ma7-ContentWrapper esbu9dd0\"><a href=\"/news\" class=\"ssrcss-1vyfvn-LogoLink esbu9dd4\"><svg viewBox=\"0 0 430.6 111\" class=\"ssrcss-h8vckg-Logo esbu9dd5\" role=\"presentation\" preserveAspectRatio=\"xMinYMid meet\" focusable=\"false\" aria-hidden=\"true\"><path d=\"M69 108.5c-7.7-12.4-15.6-24.8-23.5-37.2C37.6 58.9 29.7 46.8 22 35.1v73.4H0V2.2h23.2c8 12 15.9 24 23.7 36.1 7.8 12 15.5 24.3 23.3 36.6V2.2h22v106.3H69zM113.2 2.2h73.1v19h-50.2v23h44.6v19h-44.6v26.2h53.1v19h-76V2.2zm178 106.3c-3.4-12-6.7-24-9.9-36s-6.4-24-9.4-36c-3 12-6 24-9.2 36-3.2 12-6.4 24-9.8 36h-24.2c-5.1-17.3-9.9-34.9-14.6-52.6-4.7-17.7-9.1-35.6-13.2-53.7h25c2.5 13.8 5.1 27.6 7.9 41.3 2.8 13.8 5.7 27.3 8.8 40.6 6.6-25.9 12.9-51.7 18.9-77.5h22.3c3 12.7 6 25.3 9.1 38 3.1 12.6 6.3 25.2 9.6 37.8 3-13.1 5.8-26.4 8.6-39.8 2.8-13.5 5.3-27 7.7-40.4h24.5c-4.2 18-8.6 35.9-13.2 53.7-4.7 17.7-9.5 35.3-14.6 52.6h-24.3zm95.3 2.3c-5.8 0-11.6-.6-17.3-1.9-5.7-1.3-11.2-3.3-16.4-6.1V82.2c10.1 6.3 21.8 9.7 33.7 9.7 6.7 0 11.9-1.1 15.4-3.4 3.4-2 5.4-5.6 5.3-9.5.2-2.7-.8-5.3-2.6-7.2-2-1.9-4.3-3.3-6.9-4.2-3.2-1.1-6.4-2.1-9.7-2.9-5.3-1.2-10.4-2.8-15.5-4.8-4.1-1.6-7.9-3.7-11.3-6.3-3-2.3-5.4-5.3-7-8.8-1.7-3.9-2.5-8.1-2.4-12.3-.2-6.2 1.6-12.3 5.1-17.4 3.7-5 8.7-8.9 14.5-11.2 6.2-2.6 13.7-3.9 22.3-3.9 5.6 0 11.2.6 16.7 1.9 5.1 1.2 10 2.9 14.7 5.2v20.2c-4.6-2.8-9.6-4.9-14.8-6.2-5.4-1.5-11-2.2-16.6-2.2-6 0-10.7 1-14 3.1-3.2 1.8-5.1 5.3-5 8.9-.1 2.4.7 4.8 2.4 6.6 1.9 1.8 4.2 3.2 6.8 4 2.9 1 6.4 2.1 10.3 3 5.1 1.3 9.8 2.7 14.1 4.2 4.1 1.4 8 3.4 11.5 5.9 3.3 2.3 5.9 5.5 7.7 9.1 2 4.2 2.9 8.9 2.8 13.5 0 7-1.7 13.1-5.2 18.1-3.8 5.2-9 9.2-15 11.4-6.5 2.7-14.4 4.1-23.6 4.1z\"></path></svg><span class=\"visually-hidden ssrcss-1f39n02-VisuallyHidden e16en2lz0\">BBC News</span></a></div></div></div><nav aria-label=\"BBC News\" class=\"ssrcss-as2ggt-Navigation e19b3odl1\"><div class=\"ssrcss-fx11vr-MainNavBarContainer e12m6nm70\"><div class=\"e17d5osh1 ssrcss-wq2axq-MenuContainer-PrimaryNavBarContainer ebbwlb0\"><div class=\"ssrcss-1ocoo3l-Wrap e42f8511\"><div id=\"product-navigation-menu\" class=\"ssrcss-17vmgpw-PrimaryListContainer e17d5osh0\"><div class=\"ssrcss-cxrkrf-ToggleContainer etzr2fk0\"><a href=\"#product-navigation-menu\" class=\"ssrcss-t4t8q-StyledToggle ekfn8591\"><span data-testid=\"actions:list-view-text\" class=\"ssrcss-1m4972l-IconWrapper ekfn8590\"><svg viewBox=\"0 0 32 32\" width=\"1em\" height=\"1em\" class=\"ssrcss-xi5oyi-StyledIcon e161cein1\" focusable=\"false\" aria-hidden=\"true\"><path d=\"M1 7.5h30V1.9H1v5.6zm0 22.6h30v-5.6H1v5.6zm0-11.3h30v-5.6H1v5.6z\"></path></svg></span>Menu</a></div><div hidden=\"\" class=\"ssrcss-196zlx0-MenuListContainer e14xdrat2\"><ul role=\"list\" class=\"ssrcss-min3p3-StyledMenuList e14xdrat1\"><li class=\"ssrcss-1hqd1wy-StyledMenuItem eis6szr3\"><a href=\"/news\" class=\"ssrcss-gh5gdl-StyledLink eis6szr2\"><span class=\"ssrcss-1yycgk3-LinkTextContainer eis6szr1\">Home</span></a></li><li class=\"ssrcss-1hqd1wy-StyledMenuItem eis6szr3\"><a href=\"/news/world-60525350\" class=\"ssrcss-gh5gdl-StyledLink eis6szr2\"><span class=\"ssrcss-1yycgk3-LinkTextContainer eis6szr1\">War in Ukraine</span></a></li><li class=\"ssrcss-1hqd1wy-StyledMenuItem eis6szr3\"><a href=\"/news/science-environment-56837908\" class=\"ssrcss-gh5gdl-StyledLink eis6szr2\"><span class=\"ssrcss-1yycgk3-LinkTextContainer eis6szr1\">Climate</span></a></li><li class=\"ssrcss-1hqd1wy-StyledMenuItem eis6szr3\"><a href=\"/news/av/10462520\" class=\"ssrcss-gh5gdl-StyledLink eis6szr2\"><span class=\"ssrcss-1yycgk3-LinkTextContainer eis6szr1\">Video</span></a></li><li class=\"ssrcss-1hqd1wy-StyledMenuItem eis6szr3\"><a href=\"/news/world\" class=\"ssrcss-1mu64ez-StyledLink eis6szr2\"><span class=\"ssrcss-1yycgk3-LinkTextContainer eis6szr1\">World</span></a></li><li class=\"ssrcss-1hqd1wy-StyledMenuItem eis6szr3\"><a href=\"/news/world/us_and_canada\" class=\"ssrcss-gh5gdl-StyledLink eis6szr2\"><span class=\"ssrcss-1yycgk3-LinkTextContainer eis6szr1\">US &amp; Canada</span></a></li><li class=\"ssrcss-1hqd1wy-StyledMenuItem eis6szr3\"><a href=\"/news/uk\" class=\"ssrcss-gh5gdl-StyledLink eis6szr2\"><span class=\"ssrcss-1yycgk3-LinkTextContainer eis6szr1\">UK</span></a></li><li class=\"ssrcss-1hqd1wy-StyledMenuItem eis6szr3\"><a href=\"/news/business\" class=\"ssrcss-gh5gdl-StyledLink eis6szr2\"><span class=\"ssrcss-1yycgk3-LinkTextContainer eis6szr1\">Business</span></a></li><li class=\"ssrcss-1hqd1wy-StyledMenuItem eis6szr3\"><a href=\"/news/technology\" class=\"ssrcss-gh5gdl-StyledLink eis6szr2\"><span class=\"ssrcss-1yycgk3-LinkTextContainer eis6szr1\">Tech</span></a></li><li class=\"ssrcss-1hqd1wy-StyledMenuItem eis6szr3\"><a href=\"/news/science_and_environment\" class=\"ssrcss-gh5gdl-StyledLink eis6szr2\"><span class=\"ssrcss-1yycgk3-LinkTextContainer eis6szr1\">Science</span></a></li></ul></div><div class=\"ssrcss-1yjaqc9-ToggleContainer enbola60\"><a href=\"#product-navigation-more-menu\" class=\"ssrcss-t4t8q-StyledToggle ekfn8591\"><span data-testid=\"actions:list-view-text\" class=\"ssrcss-1m4972l-IconWrapper ekfn8590\"><svg viewBox=\"0 0 32 32\" width=\"1em\" height=\"1em\" class=\"ssrcss-xi5oyi-StyledIcon e161cein1\" focusable=\"false\" aria-hidden=\"true\"><path d=\"M1 7.5h30V1.9H1v5.6zm0 22.6h30v-5.6H1v5.6zm0-11.3h30v-5.6H1v5.6z\"></path></svg></span>More</a></div></div></div></div><div class=\"e1135wx61 ssrcss-1gc2tn4-MenuContainer-MoreMenuWrapper ebbwlb0\"><div class=\"ssrcss-1ocoo3l-Wrap e42f8511\"><div id=\"product-navigation-more-menu\" class=\"ssrcss-6tbwbt-MoreMenuListContainer e1135wx60\"><div hidden=\"\" class=\"ssrcss-lnnv4y-MenuListContainer e14xdrat2\"><ul role=\"list\" class=\"ssrcss-19kzj3r-StyledMenuList e14xdrat1\"><li class=\"ssrcss-1jh5vyj-StyledMenuItem eis6szr3\"><a href=\"/news/entertainment_and_arts\" class=\"ssrcss-s5hlxv-StyledLink eis6szr2\"><span class=\"ssrcss-11roo6y-LinkTextContainer eis6szr1\">Entertainment &amp; Arts</span></a></li><li class=\"ssrcss-1jh5vyj-StyledMenuItem eis6szr3\"><a href=\"/news/health\" class=\"ssrcss-s5hlxv-StyledLink eis6szr2\"><span class=\"ssrcss-11roo6y-LinkTextContainer eis6szr1\">Health</span></a></li><li class=\"ssrcss-1jh5vyj-StyledMenuItem eis6szr3\"><a href=\"/news/in_pictures\" class=\"ssrcss-s5hlxv-StyledLink eis6szr2\"><span class=\"ssrcss-11roo6y-LinkTextContainer eis6szr1\">In Pictures</span></a></li><li class=\"ssrcss-1jh5vyj-StyledMenuItem eis6szr3\"><a href=\"/news/reality_check\" class=\"ssrcss-s5hlxv-StyledLink eis6szr2\"><span class=\"ssrcss-11roo6y-LinkTextContainer eis6szr1\">BBC Verify</span></a></li><li class=\"ssrcss-1jh5vyj-StyledMenuItem eis6szr3\"><a href=\"/news/world_radio_and_tv\" class=\"ssrcss-s5hlxv-StyledLink eis6szr2\"><span class=\"ssrcss-11roo6y-LinkTextContainer eis6szr1\">World News TV</span></a></li><li class=\"ssrcss-1jh5vyj-StyledMenuItem eis6szr3\"><a href=\"/news/newsbeat\" class=\"ssrcss-s5hlxv-StyledLink eis6szr2\"><span class=\"ssrcss-11roo6y-LinkTextContainer eis6szr1\">Newsbeat</span></a></li></ul></div></div></div></div></div><div class=\"e19jy4800 ssrcss-1jvb50f-MenuContainer-SecondaryNavBarContainer ebbwlb0\"><div class=\"ssrcss-1ocoo3l-Wrap e42f8511\"><div hidden=\"\" class=\"ssrcss-s8e6ra-MenuListContainer e14xdrat2\"><ul role=\"list\" class=\"ssrcss-zx1e83-StyledMenuList e14xdrat1\"><li class=\"ssrcss-s23s7z-StyledMenuItem eis6szr3\"><a href=\"/news/world/asia\" class=\"ssrcss-ojmjjh-StyledLink eis6szr2\"><span class=\"ssrcss-1gr85n1-LinkTextContainer eis6szr1\">Asia</span></a></li><li class=\"ssrcss-s23s7z-StyledMenuItem eis6szr3\"><a href=\"/news/world/asia/china\" class=\"ssrcss-ojmjjh-StyledLink eis6szr2\"><span class=\"ssrcss-1gr85n1-LinkTextContainer eis6szr1\">China</span></a></li><li class=\"ssrcss-s23s7z-StyledMenuItem eis6szr3\"><a href=\"/news/world/asia/india\" class=\"ssrcss-12oaa2e-StyledLink eis6szr2\"><span class=\"ssrcss-1gr85n1-LinkTextContainer eis6szr1\">India</span></a></li></ul></div></div></div></nav></div></header></div><div class=\"ssrcss-irv5dn-Zone e1mcntqj4\"><aside id=\"interstitial-aside-content\" data-testid=\"interstitial-aside-content\" aria-label=\"interstitial\" aria-hidden=\"true\" label=\"interstitial\"></aside><aside id=\"leaderboard-aside-content\" data-testid=\"leaderboard-aside-content\" aria-label=\"leaderboard\" aria-hidden=\"true\" label=\"leaderboard\"><div id=\"dotcom-leaderboard\" class=\"dotcom-ad ssrcss-1gt3c8g-LeaderboardDiv eturukr0\"></div></aside><aside id=\"sponsor-aside-content\" data-testid=\"sponsor-aside-content\" aria-label=\"sponsor\" aria-hidden=\"true\" label=\"sponsor\"></aside><aside id=\"piano-header-aside-content\" data-testid=\"piano-header-aside-content\" aria-label=\"piano-header\" aria-hidden=\"true\" label=\"piano-header\"></aside></div><div class=\"ssrcss-1ocoo3l-Wrap e42f8511\"><div width=\"300\" class=\"ssrcss-q03fby-ContainerWithSidebarWrapper e1jl38b40\"><div class=\"ssrcss-1ki8hfp-StyledZone e1mcntqj3\"><main id=\"main-content\" data-testid=\"main-content\"><article class=\"ssrcss-pv1rh6-ArticleWrapper e1nh2i2l6\"><header class=\"ssrcss-1eqcsb1-HeadingWrapper e1nh2i2l5\"><h1 tabindex=\"-1\" id=\"main-heading\" class=\"ssrcss-15xko80-StyledHeading e10rt3ze0\">Special session: Modi introduces women&#x27;s bill in new India parliament</h1><div><ul role=\"list\" class=\"ssrcss-1xpwu3-MetadataStripContainer eh44mf03\"><div class=\"ssrcss-13nu8ri-GroupChildrenForWrapping eh44mf02\"><li role=\"listitem\" class=\"ssrcss-30fcoe-MetadataStripItem eh44mf01\"><div class=\"visually-hidden ssrcss-1f39n02-VisuallyHidden e16en2lz0\">Published</div><div class=\"ssrcss-m5j4pi-MetadataContent eh44mf00\"><span class=\"ssrcss-1pvwv4b-MetadataSnippet e4wm5bw3\"><span class=\"ssrcss-1if1g9v-MetadataText e4wm5bw1\"><time data-testid=\"timestamp\" dateTime=\"2023-09-19T14:39:40.000Z\"><span data-testid=\"time-and-date:clock\" class=\"ssrcss-1mh4yp1-IconContainer e4wm5bw0\"><svg viewBox=\"0 0 32 32\" width=\"1em\" height=\"1em\" class=\"ssrcss-xi5oyi-StyledIcon e161cein1\" focusable=\"false\" aria-hidden=\"true\"><path d=\"M16 31c8.5 0 15-6.5 15-15S24.5 1 16 1 1 7.5 1 16s6.5 15 15 15zm0-2.7C9 28.3 3.7 23 3.7 16S9 3.7 16 3.7C23 3.7 28.3 9 28.3 16S23 28.3 16 28.3zm6.2-6.7 1-1.5-5.7-4.5-.6-8.6H15l-.7 10.5 7.9 4.1z\"></path></svg></span>18 hours ago</time></span></span></div></li></div></ul></div><div class=\"ssrcss-11faxz6-TagShareWrapper e1nh2i2l0\"><div class=\"ssrcss-1ynay8h-StyledInformationPanel eu74mg86\"><div><div><button width=\"content-length\" type=\"button\" aria-haspopup=\"true\" aria-expanded=\"false\" class=\"ssrcss-i42p3a-Button eoocusk1\"><span data-testid=\"actions:share\" class=\"ssrcss-1a1fy59-IconWrapper eoocusk0\"><svg viewBox=\"0 0 32 32\" width=\"1em\" height=\"1em\" class=\"ssrcss-xi5oyi-StyledIcon e161cein1\" focusable=\"false\" aria-hidden=\"true\"><path d=\"M7.8 17 25.3 7l-1.2-2.3L6.6 15l1.2 2zm-1.2 0 17.5 10.3 1.2-2.3L7.8 15l-1.2 2zm5.6-1c0-2.7-2.2-5-5-5-2.7 0-4.9 2.2-4.9 5 0 2.7 2.2 4.9 4.9 4.9 2.8 0 5-2.2 5-4.9zM29.7 5.9c0-2.7-2.2-5-5-5-2.7 0-4.9 2.2-4.9 5 0 2.7 2.2 4.9 4.9 4.9 2.8 0 5-2.2 5-4.9zm0 20.2c0-2.7-2.2-5-5-5-2.7 0-4.9 2.2-4.9 5 0 2.7 2.2 4.9 4.9 4.9 2.8.1 5-2.2 5-4.9z\"></path></svg><span class=\"visually-hidden ssrcss-1f39n02-VisuallyHidden e16en2lz0\">Share</span></span></button></div></div><div hidden=\"\" role=\"group\" aria-labelledby=\"share-tools-panel\" data-testid=\"information-panel-content\" class=\"ssrcss-1bpq5d-StyledPanelContent eu74mg85\"><div class=\"ssrcss-4pcgwu-ContentWrapper eu74mg84\"><div class=\"ssrcss-tt825r-CloseButtonWrapper eu74mg82\"><button width=\"content-length\" type=\"button\" class=\"ssrcss-1iwzhjp-Button eoocusk1\"><span data-testid=\"actions:close\" class=\"ssrcss-1a1fy59-IconWrapper eoocusk0\"><svg viewBox=\"0 0 32 32\" width=\"1em\" height=\"1em\" class=\"ssrcss-xi5oyi-StyledIcon e161cein1\" focusable=\"false\" aria-hidden=\"true\"><path d=\"m30 4.6-2.8-2.8L2 27.4l2.8 2.8L30 4.6zM4.8 1.8 1.9 4.7l25.2 25.5 2.9-2.9L4.8 1.8z\"></path></svg><span class=\"visually-hidden ssrcss-1f39n02-VisuallyHidden e16en2lz0\">close panel</span></span></button></div><div class=\"ssrcss-16sh5ob-PanelWrapper eu74mg83\"><div id=\"share-tools-panel\" aria-hidden=\"true\" class=\"ssrcss-1t42267-StyledTitleArea eu74mg81\">Share page</div><div><div><button width=\"full\" type=\"button\" aria-label=\"Copy link\" class=\"ssrcss-1v2rvfo-Button eoocusk1\"><span data-testid=\"actions:link\" class=\"ssrcss-1tz2bh9-IconWrapper eoocusk0\"><svg viewBox=\"0 0 32 32\" width=\"1em\" height=\"1em\" class=\"ssrcss-xi5oyi-StyledIcon e161cein1\" focusable=\"false\" aria-hidden=\"true\"><path d=\"m20.7 9.5-11 11.1 1.8 1.8 11.1-11.1-1.9-1.8zm.6 6.3-2 2c2.1 1.4 5.9.8 8.7-2l.6-.6c3-3 3.9-7.6-.1-11.7-4-4-8.6-3-11.6 0l-.6.5c-3 3-3.5 6.7-2 8.7l2-2c-.3-1.1-.2-2.7 2-4.9l.6-.6c2.4-2.4 5.4-2.5 7.9 0 2.5 2.6 2.4 5.5 0 7.9l-.6.6c-2.2 2.3-3.9 2.4-4.9 2.1zm-5.5 5.5c.3 1 .2 2.7-2 4.8l-.6.6c-2.4 2.4-5.4 2.5-7.9 0s-2.4-5.5 0-7.9l.6-.6c2.1-2.1 3.8-2.3 4.9-2l2-2c-2-1.4-5.7-.9-8.7 2l-.6.6c-3 3-4 7.6 0 11.6s8.6 3.1 11.7.1l.6-.6c2.9-2.9 3.5-6.7 2-8.7l-2 2.1z\"></path></svg></span>Copy link</button></div></div><a href=\"https://www.bbc.co.uk/usingthebbc/terms/can-i-share-things-from-the-bbc\" class=\"ssrcss-18h2t1m-StyledLink ezys19s0\">About sharing</a></div></div></div></div></div></header><div data-component=\"image-block\" class=\"ssrcss-1y79c70-ComponentWrapper ep2nwvo1\"><figure class=\"ssrcss-4qvfmb-StyledFigure e34k3c23\"><div class=\"ssrcss-ab5fd8-StyledFigureContainer e34k3c21\"><span class=\"ssrcss-11kpz0x-Placeholder etlorgc0\"><picture><source srcSet=\"https://ichef.bbci.co.uk/news/240/cpsprodpb/13BCA/production/_131124808_gettyimages-1653682262.jpg.webp 240w, https://ichef.bbci.co.uk/news/320/cpsprodpb/13BCA/production/_131124808_gettyimages-1653682262.jpg.webp 320w, https://ichef.bbci.co.uk/news/480/cpsprodpb/13BCA/production/_131124808_gettyimages-1653682262.jpg.webp 480w, https://ichef.bbci.co.uk/news/624/cpsprodpb/13BCA/production/_131124808_gettyimages-1653682262.jpg.webp 624w, https://ichef.bbci.co.uk/news/800/cpsprodpb/13BCA/production/_131124808_gettyimages-1653682262.jpg.webp 800w, https://ichef.bbci.co.uk/news/976/cpsprodpb/13BCA/production/_131124808_gettyimages-1653682262.jpg.webp 976w\" type=\"image/webp\"/><img alt=\"India&#x27;s Prime Minister Narendra Modi waits to welcome leaders of the G20 countries at the Bharat Mandapam in New Delhi on September 9, 2023. (Photo by Ludovic MARIN / POOL / AFP) (Photo by LUDOVIC MARIN/POOL/AFP via Getty Images)\" srcSet=\"https://ichef.bbci.co.uk/news/240/cpsprodpb/13BCA/production/_131124808_gettyimages-1653682262.jpg 240w, https://ichef.bbci.co.uk/news/320/cpsprodpb/13BCA/production/_131124808_gettyimages-1653682262.jpg 320w, https://ichef.bbci.co.uk/news/480/cpsprodpb/13BCA/production/_131124808_gettyimages-1653682262.jpg 480w, https://ichef.bbci.co.uk/news/624/cpsprodpb/13BCA/production/_131124808_gettyimages-1653682262.jpg 624w, https://ichef.bbci.co.uk/news/800/cpsprodpb/13BCA/production/_131124808_gettyimages-1653682262.jpg 800w, https://ichef.bbci.co.uk/news/976/cpsprodpb/13BCA/production/_131124808_gettyimages-1653682262.jpg 976w\" src=\"https://ichef.bbci.co.uk/news/976/cpsprodpb/13BCA/production/_131124808_gettyimages-1653682262.jpg\" width=\"976\" height=\"549\" loading=\"eager\" class=\"ssrcss-evoj7m-Image edrdn950\"/></picture></span><span role=\"text\" class=\"ssrcss-tvuve5-StyledFigureCopyright e34k3c20\"><span class=\"visually-hidden ssrcss-1f39n02-VisuallyHidden e16en2lz0\">Image source, </span>Getty Images</span></div><figcaption class=\"ssrcss-1mget3o-StyledFigureCaption e34k3c22\"><span class=\"visually-hidden ssrcss-1f39n02-VisuallyHidden e16en2lz0\">Image caption, </span><div spacing=\"6\" class=\"ssrcss-y7krbn-Stack e1y4nx260\">PM Modi is set to walk to the new building</div></figcaption></figure></div><div data-component=\"text-block\" class=\"ssrcss-11r1m41-RichTextComponentWrapper ep2nwvo0\"><div class=\"ssrcss-7uxr49-RichTextContainer e5tfeyi1\"><p class=\"ssrcss-1q0x1qg-Paragraph e1jhz7w10\"><b class=\"ssrcss-hmf8ql-BoldText e5tfeyi3\">The Indian government has introduced a bill guaranteeing a third of seats for women in the lower house of parliament and state assemblies.</b></p></div></div><div data-component=\"text-block\" class=\"ssrcss-11r1m41-RichTextComponentWrapper ep2nwvo0\"><div class=\"ssrcss-7uxr49-RichTextContainer e5tfeyi1\"><p class=\"ssrcss-1q0x1qg-Paragraph e1jhz7w10\">The contentious bill, first proposed in 1996, has been pending for decades amid opposition from some political parties.</p></div></div><div data-component=\"text-block\" class=\"ssrcss-11r1m41-RichTextComponentWrapper ep2nwvo0\"><div class=\"ssrcss-7uxr49-RichTextContainer e5tfeyi1\"><p class=\"ssrcss-1q0x1qg-Paragraph e1jhz7w10\">Its revival is expected to boost the governing Bharatiya Janata Party&#x27;s fortunes in general elections next May.</p></div></div><div data-component=\"text-block\" class=\"ssrcss-11r1m41-RichTextComponentWrapper ep2nwvo0\"><div class=\"ssrcss-7uxr49-RichTextContainer e5tfeyi1\"><p class=\"ssrcss-1q0x1qg-Paragraph e1jhz7w10\">The bill was tabled at the new Indian parliament&#x27;s first session and is still some way from becoming law.</p></div></div><div data-component=\"text-block\" class=\"ssrcss-11r1m41-RichTextComponentWrapper ep2nwvo0\"><div class=\"ssrcss-7uxr49-RichTextContainer e5tfeyi1\"><p class=\"ssrcss-1q0x1qg-Paragraph e1jhz7w10\">It would require the approval of both houses of parliament and a majority of state legislatures, as well as the Indian president&#x27;s signature.</p></div></div><div data-component=\"text-block\" class=\"ssrcss-11r1m41-RichTextComponentWrapper ep2nwvo0\"><div class=\"ssrcss-7uxr49-RichTextContainer e5tfeyi1\"><p class=\"ssrcss-1q0x1qg-Paragraph e1jhz7w10\">Reported plans to increase the overall  number of constituencies could further complicate its implementation.</p></div></div><div id=\"piano-inline1\"></div><div data-component=\"text-block\" class=\"ssrcss-11r1m41-RichTextComponentWrapper ep2nwvo0\"><div class=\"ssrcss-7uxr49-RichTextContainer e5tfeyi1\"><p class=\"ssrcss-1q0x1qg-Paragraph e1jhz7w10\">In his opening speech at the new parliament building, Mr Modi praised the proposed legislation and said it was a special moment for the country. </p></div></div><div data-component=\"text-block\" class=\"ssrcss-11r1m41-RichTextComponentWrapper ep2nwvo0\"><div class=\"ssrcss-7uxr49-RichTextContainer e5tfeyi1\"><p class=\"ssrcss-1q0x1qg-Paragraph e1jhz7w10\">&quot;The world understands that only talking of women-led development is not enough. This is a positive step taken on that front,&quot; he told politicians as he appealed to them to support the bill.</p></div></div><div data-component=\"text-block\" class=\"ssrcss-11r1m41-RichTextComponentWrapper ep2nwvo0\"><div class=\"ssrcss-7uxr49-RichTextContainer e5tfeyi1\"><p class=\"ssrcss-1q0x1qg-Paragraph e1jhz7w10\">The PM also took a swipe at the opposition and said that the previous Congress party-led governments had failed to clear the bill when they were in power.  </p></div></div><div data-component=\"text-block\" class=\"ssrcss-11r1m41-RichTextComponentWrapper ep2nwvo0\"><div class=\"ssrcss-7uxr49-RichTextContainer e5tfeyi1\"><p class=\"ssrcss-1q0x1qg-Paragraph e1jhz7w10\">&quot;There have been discussions around women&#x27;s reservations for years. We can say with pride that we have scripted history,&quot; he said. </p></div></div><div data-component=\"text-block\" class=\"ssrcss-11r1m41-RichTextComponentWrapper ep2nwvo0\"><div class=\"ssrcss-7uxr49-RichTextContainer e5tfeyi1\"><p class=\"ssrcss-1q0x1qg-Paragraph e1jhz7w10\">Mr Modi <a href=\"https://www.bbc.com/news/world-asia-india-65718127\" class=\"ssrcss-k17ofw-InlineLink e1kn3p7n0\">inaugurated the new parliament building</a> in May but no business was held there until now.</p></div></div><div data-component=\"text-block\" class=\"ssrcss-11r1m41-RichTextComponentWrapper ep2nwvo0\"><div class=\"ssrcss-7uxr49-RichTextContainer e5tfeyi1\"><p class=\"ssrcss-1q0x1qg-Paragraph e1jhz7w10\">He called a five-day special session which began on Monday but the first day&#x27;s sitting was held in the old parliament building.</p></div></div><div id=\"piano-inline2\"></div><div data-component=\"text-block\" class=\"ssrcss-11r1m41-RichTextComponentWrapper ep2nwvo0\"><div class=\"ssrcss-7uxr49-RichTextContainer e5tfeyi1\"><p class=\"ssrcss-1q0x1qg-Paragraph e1jhz7w10\">On Tuesday morning, members from both houses assembled for a photo session at the old building, <a href=\"https://twitter.com/ANI/status/1703697050419052547\" class=\"ssrcss-k17ofw-InlineLink e1kn3p7n0\">followed by an event commemorating parliament&#x27;s legacy</a> in the Central Hall of the British-era building.</p></div></div><div data-component=\"text-block\" class=\"ssrcss-11r1m41-RichTextComponentWrapper ep2nwvo0\"><div class=\"ssrcss-7uxr49-RichTextContainer e5tfeyi1\"><p class=\"ssrcss-1q0x1qg-Paragraph e1jhz7w10\">They then moved to the new parliament as <a href=\"https://twitter.com/DDNewslive/status/1704000388905509118\" class=\"ssrcss-k17ofw-InlineLink e1kn3p7n0\">the office of the lower house of parliament officially designated</a> it as the Parliament House of India. </p></div></div><div data-component=\"image-block\" class=\"ssrcss-xza2yt-ComponentWrapper ep2nwvo1\"><figure class=\"ssrcss-4qvfmb-StyledFigure e34k3c23\"><div class=\"ssrcss-ab5fd8-StyledFigureContainer e34k3c21\"><span class=\"ssrcss-11kpz0x-Placeholder etlorgc0\"><span><noscript><picture><source srcSet=\"https://ichef.bbci.co.uk/news/240/cpsprodpb/7B76/production/_129860613_newparliament3.jpg.webp 240w, https://ichef.bbci.co.uk/news/320/cpsprodpb/7B76/production/_129860613_newparliament3.jpg.webp 320w, https://ichef.bbci.co.uk/news/480/cpsprodpb/7B76/production/_129860613_newparliament3.jpg.webp 480w, https://ichef.bbci.co.uk/news/624/cpsprodpb/7B76/production/_129860613_newparliament3.jpg.webp 624w, https://ichef.bbci.co.uk/news/800/cpsprodpb/7B76/production/_129860613_newparliament3.jpg.webp 800w, https://ichef.bbci.co.uk/news/976/cpsprodpb/7B76/production/_129860613_newparliament3.jpg.webp 976w\" type=\"image/webp\"/><img alt=\"Political row\" srcSet=\"https://ichef.bbci.co.uk/news/240/cpsprodpb/7B76/production/_129860613_newparliament3.jpg 240w, https://ichef.bbci.co.uk/news/320/cpsprodpb/7B76/production/_129860613_newparliament3.jpg 320w, https://ichef.bbci.co.uk/news/480/cpsprodpb/7B76/production/_129860613_newparliament3.jpg 480w, https://ichef.bbci.co.uk/news/624/cpsprodpb/7B76/production/_129860613_newparliament3.jpg 624w, https://ichef.bbci.co.uk/news/800/cpsprodpb/7B76/production/_129860613_newparliament3.jpg 800w, https://ichef.bbci.co.uk/news/976/cpsprodpb/7B76/production/_129860613_newparliament3.jpg 976w\" src=\"https://ichef.bbci.co.uk/news/976/cpsprodpb/7B76/production/_129860613_newparliament3.jpg\" width=\"976\" height=\"549\" loading=\"lazy\" class=\"ssrcss-evoj7m-Image edrdn950\"/></picture></noscript></span></span><span role=\"text\" class=\"ssrcss-tvuve5-StyledFigureCopyright e34k3c20\"><span class=\"visually-hidden ssrcss-1f39n02-VisuallyHidden e16en2lz0\">Image source, </span>Government of India</span></div><figcaption class=\"ssrcss-1mget3o-StyledFigureCaption e34k3c22\"><span class=\"visually-hidden ssrcss-1f39n02-VisuallyHidden e16en2lz0\">Image caption, </span><div spacing=\"6\" class=\"ssrcss-y7krbn-Stack e1y4nx260\">The new parliament can seat 1,272 members</div></figcaption></figure></div><div data-component=\"text-block\" class=\"ssrcss-11r1m41-RichTextComponentWrapper ep2nwvo0\"><div class=\"ssrcss-7uxr49-RichTextContainer e5tfeyi1\"><p class=\"ssrcss-1q0x1qg-Paragraph e1jhz7w10\">The proceedings are being held amid criticism from opposition leaders who claim that the government has not disclosed all the business that could come up during the week.</p></div></div><div data-component=\"text-block\" class=\"ssrcss-11r1m41-RichTextComponentWrapper ep2nwvo0\"><div class=\"ssrcss-7uxr49-RichTextContainer e5tfeyi1\"><p class=\"ssrcss-1q0x1qg-Paragraph e1jhz7w10\">According to the government, eight bills have been listed for discussion during the session - but this agenda could be changed or expanded during the course of the week.</p></div></div><div data-component=\"text-block\" class=\"ssrcss-11r1m41-RichTextComponentWrapper ep2nwvo0\"><div class=\"ssrcss-7uxr49-RichTextContainer e5tfeyi1\"><p class=\"ssrcss-1q0x1qg-Paragraph e1jhz7w10\">The new parliament building is part of the government&#x27;s ambitious Central Vista project in Delhi to replace colonial-era government buildings.</p></div></div><div data-component=\"text-block\" class=\"ssrcss-11r1m41-RichTextComponentWrapper ep2nwvo0\"><div class=\"ssrcss-7uxr49-RichTextContainer e5tfeyi1\"><p class=\"ssrcss-1q0x1qg-Paragraph e1jhz7w10\">Built in front of the old parliament, the new four-storey building - constructed at an estimated cost of 9.7bn rupees ($117m; Â£94m) - is much bigger and has the capacity to seat 1,272 MPs.</p></div></div><div id=\"piano-inline3\"></div><div data-component=\"text-block\" class=\"ssrcss-11r1m41-RichTextComponentWrapper ep2nwvo0\"><div class=\"ssrcss-7uxr49-RichTextContainer e5tfeyi1\"><p class=\"ssrcss-1q0x1qg-Paragraph e1jhz7w10\">The Lok Sabha chamber, which will seat the lower house of the parliament, is designed in the likeness of a peacock, India&#x27;s national bird. The Rajya Sabha chamber, which will seat the upper house, is designed to resemble the lotus - India&#x27;s national flower and also Mr Modi&#x27;s Bharatiya Janata Party&#x27;s election symbol.</p></div></div><div data-component=\"text-block\" class=\"ssrcss-11r1m41-RichTextComponentWrapper ep2nwvo0\"><div class=\"ssrcss-7uxr49-RichTextContainer e5tfeyi1\"><p class=\"ssrcss-1q0x1qg-Paragraph e1jhz7w10\">The current parliament building will be converted into a museum.</p></div></div><div data-component=\"text-block\" class=\"ssrcss-11r1m41-RichTextComponentWrapper ep2nwvo0\"><div class=\"ssrcss-7uxr49-RichTextContainer e5tfeyi1\"><p class=\"ssrcss-1q0x1qg-Paragraph e1jhz7w10\"><i class=\"ssrcss-xbdn93-ItalicText e5tfeyi2\">BBC News India is now on YouTube. </i><a href=\"https://www.youtube.com/@bbcnewsindia\" class=\"ssrcss-k17ofw-InlineLink e1kn3p7n0\">Click here</a><i class=\"ssrcss-xbdn93-ItalicText e5tfeyi2\"> to subscribe and watch our documentaries, explainers and features.</i></p></div></div><div data-component=\"image-block\" class=\"ssrcss-xza2yt-ComponentWrapper ep2nwvo1\"><figure class=\"ssrcss-4qvfmb-StyledFigure e34k3c23\"><div class=\"ssrcss-ab5fd8-StyledFigureContainer e34k3c21\"><span class=\"ssrcss-lr8ohi-Placeholder etlorgc0\"><span><noscript><picture><source srcSet=\"https://ichef.bbci.co.uk/news/240/cpsprodpb/13E83/production/_103693518_086b2036-0a30-4a6f-a4a0-94c46832b58f.jpg.webp 240w, https://ichef.bbci.co.uk/news/320/cpsprodpb/13E83/production/_103693518_086b2036-0a30-4a6f-a4a0-94c46832b58f.jpg.webp 320w, https://ichef.bbci.co.uk/news/480/cpsprodpb/13E83/production/_103693518_086b2036-0a30-4a6f-a4a0-94c46832b58f.jpg.webp 480w, https://ichef.bbci.co.uk/news/624/cpsprodpb/13E83/production/_103693518_086b2036-0a30-4a6f-a4a0-94c46832b58f.jpg.webp 624w, https://ichef.bbci.co.uk/news/800/cpsprodpb/13E83/production/_103693518_086b2036-0a30-4a6f-a4a0-94c46832b58f.jpg.webp 800w, https://ichef.bbci.co.uk/news/976/cpsprodpb/13E83/production/_103693518_086b2036-0a30-4a6f-a4a0-94c46832b58f.jpg.webp 976w\" type=\"image/webp\"/><img alt=\"Presentational grey line\" srcSet=\"https://ichef.bbci.co.uk/news/240/cpsprodpb/13E83/production/_103693518_086b2036-0a30-4a6f-a4a0-94c46832b58f.jpg 240w, https://ichef.bbci.co.uk/news/320/cpsprodpb/13E83/production/_103693518_086b2036-0a30-4a6f-a4a0-94c46832b58f.jpg 320w, https://ichef.bbci.co.uk/news/480/cpsprodpb/13E83/production/_103693518_086b2036-0a30-4a6f-a4a0-94c46832b58f.jpg 480w, https://ichef.bbci.co.uk/news/624/cpsprodpb/13E83/production/_103693518_086b2036-0a30-4a6f-a4a0-94c46832b58f.jpg 624w, https://ichef.bbci.co.uk/news/800/cpsprodpb/13E83/production/_103693518_086b2036-0a30-4a6f-a4a0-94c46832b58f.jpg 800w, https://ichef.bbci.co.uk/news/976/cpsprodpb/13E83/production/_103693518_086b2036-0a30-4a6f-a4a0-94c46832b58f.jpg 976w\" src=\"https://ichef.bbci.co.uk/news/640/cpsprodpb/13E83/production/_103693518_086b2036-0a30-4a6f-a4a0-94c46832b58f.jpg\" width=\"640\" height=\"2\" loading=\"lazy\" class=\"ssrcss-evoj7m-Image edrdn950\"/></picture></noscript></span></span></div></figure></div><div data-component=\"subheadline-block\" class=\"ssrcss-19w8cxh-ComponentWrapper-HeadlineComponentWrapper egtrm1f0\"><h2 tabindex=\"-1\" id=\"Read-more-India-stories-from-the-BBC\" class=\"ssrcss-y2fd7s-StyledHeading e10rt3ze0\"><span role=\"text\">Read more India stories from the BBC:</span></h2></div><div data-component=\"unordered-list-block\" class=\"ssrcss-11r1m41-RichTextComponentWrapper ep2nwvo0\"><div class=\"ssrcss-7uxr49-RichTextContainer e5tfeyi1\"><div class=\"ssrcss-1o5f7ft-BulletListContainer e5tfeyi0\"><ul role=\"list\"><li><a href=\"https://www.bbc.co.uk/news/world-asia-india-66808808\" class=\"ssrcss-k17ofw-InlineLink e1kn3p7n0\">How important are India&#x27;s Moon mission findings?</a></li><li><a href=\"https://www.bbc.co.uk/news/uk-66848041\" class=\"ssrcss-k17ofw-InlineLink e1kn3p7n0\">Canada accuses India of role in Sikh leader&#x27;s murder</a></li><li><a href=\"https://www.bbc.co.uk/news/world-asia-india-66851075\" class=\"ssrcss-k17ofw-InlineLink e1kn3p7n0\">Anger in India as Trudeau points finger over murder</a></li><li><a href=\"https://www.bbc.com/sport/cricket/66837123\" class=\"ssrcss-k17ofw-InlineLink e1kn3p7n0\">India bowl out Sri Lanka for 50 and win Asia Cup</a></li><li><a href=\"https://www.bbc.co.uk/news/world-asia-india-66805347\" class=\"ssrcss-k17ofw-InlineLink e1kn3p7n0\">India calls X a &#x27;habitual non-compliant platform&#x27;</a></li></ul></div></div></div><div data-component=\"image-block\" class=\"ssrcss-xza2yt-ComponentWrapper ep2nwvo1\"><figure class=\"ssrcss-4qvfmb-StyledFigure e34k3c23\"><div class=\"ssrcss-ab5fd8-StyledFigureContainer e34k3c21\"><span class=\"ssrcss-lr8ohi-Placeholder etlorgc0\"><span><noscript><picture><source srcSet=\"https://ichef.bbci.co.uk/news/240/cpsprodpb/13E83/production/_103693518_086b2036-0a30-4a6f-a4a0-94c46832b58f.jpg.webp 240w, https://ichef.bbci.co.uk/news/320/cpsprodpb/13E83/production/_103693518_086b2036-0a30-4a6f-a4a0-94c46832b58f.jpg.webp 320w, https://ichef.bbci.co.uk/news/480/cpsprodpb/13E83/production/_103693518_086b2036-0a30-4a6f-a4a0-94c46832b58f.jpg.webp 480w, https://ichef.bbci.co.uk/news/624/cpsprodpb/13E83/production/_103693518_086b2036-0a30-4a6f-a4a0-94c46832b58f.jpg.webp 624w, https://ichef.bbci.co.uk/news/800/cpsprodpb/13E83/production/_103693518_086b2036-0a30-4a6f-a4a0-94c46832b58f.jpg.webp 800w, https://ichef.bbci.co.uk/news/976/cpsprodpb/13E83/production/_103693518_086b2036-0a30-4a6f-a4a0-94c46832b58f.jpg.webp 976w\" type=\"image/webp\"/><img alt=\"Presentational grey line\" srcSet=\"https://ichef.bbci.co.uk/news/240/cpsprodpb/13E83/production/_103693518_086b2036-0a30-4a6f-a4a0-94c46832b58f.jpg 240w, https://ichef.bbci.co.uk/news/320/cpsprodpb/13E83/production/_103693518_086b2036-0a30-4a6f-a4a0-94c46832b58f.jpg 320w, https://ichef.bbci.co.uk/news/480/cpsprodpb/13E83/production/_103693518_086b2036-0a30-4a6f-a4a0-94c46832b58f.jpg 480w, https://ichef.bbci.co.uk/news/624/cpsprodpb/13E83/production/_103693518_086b2036-0a30-4a6f-a4a0-94c46832b58f.jpg 624w, https://ichef.bbci.co.uk/news/800/cpsprodpb/13E83/production/_103693518_086b2036-0a30-4a6f-a4a0-94c46832b58f.jpg 800w, https://ichef.bbci.co.uk/news/976/cpsprodpb/13E83/production/_103693518_086b2036-0a30-4a6f-a4a0-94c46832b58f.jpg 976w\" src=\"https://ichef.bbci.co.uk/news/640/cpsprodpb/13E83/production/_103693518_086b2036-0a30-4a6f-a4a0-94c46832b58f.jpg\" width=\"640\" height=\"2\" loading=\"lazy\" class=\"ssrcss-evoj7m-Image edrdn950\"/></picture></noscript></span></span></div></figure></div><div data-component=\"topic-list\" class=\"ssrcss-1qmkvfu-TopicListWrapper etw6iwl1\"><div class=\"ssrcss-1szabdv-StyledTagContainer ed0g1kj1\"><div class=\"ssrcss-50vlbt-TopicListHeaderWrapper etw6iwl0\"><h2 class=\"ssrcss-q4zz1q-StyledHeading e10rt3ze0\">Related Topics</h2></div><div class=\"ssrcss-17ehax8-Cluster e1ihwmse1\"><ul role=\"list\" spacing=\"2\" class=\"ssrcss-1ujonwb-ClusterItems e1ihwmse0\"><li><a href=\"/news/topics/c5rznn0nvvyt\" class=\"ssrcss-w6az1r-StyledLink ed0g1kj0\">Asia</a></li><li><a href=\"/news/topics/cg41ylwvgmyt\" class=\"ssrcss-w6az1r-StyledLink ed0g1kj0\">Narendra Modi</a></li><li><a href=\"/news/topics/cmmqq736zwyt\" class=\"ssrcss-w6az1r-StyledLink ed0g1kj0\">Delhi</a></li><li><a href=\"/news/topics/cny6mpy4mj9t\" class=\"ssrcss-w6az1r-StyledLink ed0g1kj0\">India</a></li></ul></div></div></div><div data-component=\"links-block\" class=\"ssrcss-5i1hhv-LinksComponentWrapper e3eyuya0\"><section class=\"ssrcss-msolhr-LinksWrapper e3eyuya5\"><div class=\"ssrcss-1lqqmgw-LinksHeadingWrapper e3eyuya4\"><h2 class=\"ssrcss-q4zz1q-StyledHeading e10rt3ze0\">More on this story</h2></div><ul role=\"list\" class=\"ssrcss-1ypkflt-EndOfContentLinksGrid e3eyuya2\"><li class=\"ssrcss-547yr3-PromoItem e3eyuya1\"><div class=\"ssrcss-2z5yft-Promo e1vyq2e80\"><div class=\"ssrcss-1i933za-PromoSwitchLayoutAtBreakpoints et5qctl0\"><div class=\"ssrcss-1d68cot-PromoContent exn3ah99\"><div spacing=\"2\" class=\"ssrcss-1f3bvyz-Stack e1y4nx260\"><a href=\"/news/world-asia-india-65718127\" class=\"ssrcss-1mrs5ns-PromoLink exn3ah91\"><span role=\"text\"><p class=\"ssrcss-17zglt8-PromoHeadline exn3ah96\"><span aria-hidden=\"false\">Modi opens new India parliament amid boycott</span></p></span></a></div><div spacing=\"2\" class=\"ssrcss-1f3bvyz-Stack e1y4nx260\"><div><ul role=\"list\" class=\"ssrcss-1xpwu3-MetadataStripContainer eh44mf03\"><div class=\"ssrcss-13nu8ri-GroupChildrenForWrapping eh44mf02\"><li role=\"listitem\" class=\"ssrcss-30fcoe-MetadataStripItem eh44mf01\"><div class=\"visually-hidden ssrcss-1f39n02-VisuallyHidden e16en2lz0\">Published</div><div class=\"ssrcss-m5j4pi-MetadataContent eh44mf00\"><span class=\"ssrcss-1pvwv4b-MetadataSnippet e4wm5bw3\"><span class=\"ssrcss-1if1g9v-MetadataText e4wm5bw1\">28 May</span></span></div></li></div></ul></div></div></div><div class=\"ssrcss-z60stg-PromoImageContainer en81kx34\"><div class=\"ssrcss-17h6w1t-PromoImageContainerInner en81kx32\"><div class=\"ssrcss-fec6qv-ImageWrapper en81kx33\"><span class=\"ssrcss-11kpz0x-Placeholder etlorgc0\"><span><noscript><picture><source srcSet=\"https://ichef.bbci.co.uk/news/240/cpsprodpb/7B76/production/_129860613_newparliament3.jpg.webp 240w, https://ichef.bbci.co.uk/news/320/cpsprodpb/7B76/production/_129860613_newparliament3.jpg.webp 320w, https://ichef.bbci.co.uk/news/480/cpsprodpb/7B76/production/_129860613_newparliament3.jpg.webp 480w, https://ichef.bbci.co.uk/news/624/cpsprodpb/7B76/production/_129860613_newparliament3.jpg.webp 624w, https://ichef.bbci.co.uk/news/800/cpsprodpb/7B76/production/_129860613_newparliament3.jpg.webp 800w, https://ichef.bbci.co.uk/news/976/cpsprodpb/7B76/production/_129860613_newparliament3.jpg.webp 976w\" type=\"image/webp\"/><img alt=\"Political row\" srcSet=\"https://ichef.bbci.co.uk/news/240/cpsprodpb/7B76/production/_129860613_newparliament3.jpg 240w, https://ichef.bbci.co.uk/news/320/cpsprodpb/7B76/production/_129860613_newparliament3.jpg 320w, https://ichef.bbci.co.uk/news/480/cpsprodpb/7B76/production/_129860613_newparliament3.jpg 480w, https://ichef.bbci.co.uk/news/624/cpsprodpb/7B76/production/_129860613_newparliament3.jpg 624w, https://ichef.bbci.co.uk/news/800/cpsprodpb/7B76/production/_129860613_newparliament3.jpg 800w, https://ichef.bbci.co.uk/news/976/cpsprodpb/7B76/production/_129860613_newparliament3.jpg 976w\" src=\"https://ichef.bbci.co.uk/news/976/cpsprodpb/7B76/production/_129860613_newparliament3.jpg\" width=\"976\" height=\"549\" loading=\"lazy\" class=\"ssrcss-evoj7m-Image edrdn950\"/></picture></noscript></span></span></div></div></div></div></div></li><li class=\"ssrcss-547yr3-PromoItem e3eyuya1\"><div class=\"ssrcss-2z5yft-Promo e1vyq2e80\"><div class=\"ssrcss-1i933za-PromoSwitchLayoutAtBreakpoints et5qctl0\"><div class=\"ssrcss-1d68cot-PromoContent exn3ah99\"><div spacing=\"2\" class=\"ssrcss-1f3bvyz-Stack e1y4nx260\"><a href=\"/news/world-asia-india-66805344\" class=\"ssrcss-1mrs5ns-PromoLink exn3ah91\"><span role=\"text\"><p class=\"ssrcss-17zglt8-PromoHeadline exn3ah96\"><span aria-hidden=\"false\">Tributes to India&#x27;s parliament at special session</span></p></span></a></div><div spacing=\"2\" class=\"ssrcss-1f3bvyz-Stack e1y4nx260\"><div><ul role=\"list\" class=\"ssrcss-1xpwu3-MetadataStripContainer eh44mf03\"><div class=\"ssrcss-13nu8ri-GroupChildrenForWrapping eh44mf02\"><li role=\"listitem\" class=\"ssrcss-30fcoe-MetadataStripItem eh44mf01\"><div class=\"visually-hidden ssrcss-1f39n02-VisuallyHidden e16en2lz0\">Published</div><div class=\"ssrcss-m5j4pi-MetadataContent eh44mf00\"><span class=\"ssrcss-1pvwv4b-MetadataSnippet e4wm5bw3\"><span class=\"ssrcss-1if1g9v-MetadataText e4wm5bw1\">1 day ago</span></span></div></li></div></ul></div></div></div><div class=\"ssrcss-z60stg-PromoImageContainer en81kx34\"><div class=\"ssrcss-17h6w1t-PromoImageContainerInner en81kx32\"><div class=\"ssrcss-fec6qv-ImageWrapper en81kx33\"><span class=\"ssrcss-11kpz0x-Placeholder etlorgc0\"><span><noscript><picture><source srcSet=\"https://ichef.bbci.co.uk/news/240/cpsprodpb/BC7B/production/_131115284_gettyimages-1673562423.jpg.webp 240w, https://ichef.bbci.co.uk/news/320/cpsprodpb/BC7B/production/_131115284_gettyimages-1673562423.jpg.webp 320w, https://ichef.bbci.co.uk/news/480/cpsprodpb/BC7B/production/_131115284_gettyimages-1673562423.jpg.webp 480w, https://ichef.bbci.co.uk/news/624/cpsprodpb/BC7B/production/_131115284_gettyimages-1673562423.jpg.webp 624w, https://ichef.bbci.co.uk/news/800/cpsprodpb/BC7B/production/_131115284_gettyimages-1673562423.jpg.webp 800w, https://ichef.bbci.co.uk/news/976/cpsprodpb/BC7B/production/_131115284_gettyimages-1673562423.jpg.webp 976w\" type=\"image/webp\"/><img alt=\"India&#x27;s Prime Minister Narendra Modi addresses the media representatives upon his arrival to attend the special session of the parliament in New Delhi on September 18, 2023.\" srcSet=\"https://ichef.bbci.co.uk/news/240/cpsprodpb/BC7B/production/_131115284_gettyimages-1673562423.jpg 240w, https://ichef.bbci.co.uk/news/320/cpsprodpb/BC7B/production/_131115284_gettyimages-1673562423.jpg 320w, https://ichef.bbci.co.uk/news/480/cpsprodpb/BC7B/production/_131115284_gettyimages-1673562423.jpg 480w, https://ichef.bbci.co.uk/news/624/cpsprodpb/BC7B/production/_131115284_gettyimages-1673562423.jpg 624w, https://ichef.bbci.co.uk/news/800/cpsprodpb/BC7B/production/_131115284_gettyimages-1673562423.jpg 800w, https://ichef.bbci.co.uk/news/976/cpsprodpb/BC7B/production/_131115284_gettyimages-1673562423.jpg 976w\" src=\"https://ichef.bbci.co.uk/news/976/cpsprodpb/BC7B/production/_131115284_gettyimages-1673562423.jpg\" width=\"976\" height=\"549\" loading=\"lazy\" class=\"ssrcss-evoj7m-Image edrdn950\"/></picture></noscript></span></span></div></div></div></div></div></li></ul></section></div></article></main><aside id=\"mpu-main-aside-content\" data-testid=\"mpu-main-aside-content\" aria-label=\"mpu-main\" aria-hidden=\"true\" label=\"mpu-main\"></aside><aside id=\"content-rec-aside-content\" data-testid=\"content-rec-aside-content\" aria-label=\"content-rec\" aria-hidden=\"true\" label=\"content-rec\"></aside></div><div class=\"ssrcss-115e9m-StyledZone e1mcntqj3\"><aside id=\"topStories-label-aside-content\" data-testid=\"topStories-label-aside-content\" aria-labelledby=\"topStories-label\"><div data-component=\"topStories\" class=\"ssrcss-ykosa2-OnwardJourneysContainerWrapper e1ia0oo99\"><h2 id=\"topStories-label\" class=\"ssrcss-q4zz1q-StyledHeading e10rt3ze0\">Top Stories</h2><div class=\"ssrcss-13jb8nu-PromoGroupWrapper e1ia0oo98\"><ul role=\"list\" spacing=\"responsive\" class=\"ssrcss-1020bd1-Stack e1y4nx260\"><li class=\"ssrcss-2pgqep-PromoItem e1ia0oo97\"><div class=\"ssrcss-2z5yft-Promo e1vyq2e80\"><div class=\"ssrcss-1enzf19-PromoCompact e18gnqux0\"><div class=\"ssrcss-1d68cot-PromoContent exn3ah99\"><div spacing=\"2\" class=\"ssrcss-1f3bvyz-Stack e1y4nx260\"><a href=\"/news/world-europe-66863702\" class=\"ssrcss-1mrs5ns-PromoLink exn3ah91\"><span role=\"text\"><p class=\"ssrcss-17zglt8-PromoHeadline exn3ah96\"><span aria-hidden=\"false\">Ceasefire deal as Karabakh forces agree to disarm</span></p></span></a></div><div spacing=\"2\" class=\"ssrcss-1f3bvyz-Stack e1y4nx260\"><div><ul role=\"list\" class=\"ssrcss-1xpwu3-MetadataStripContainer eh44mf03\"><div class=\"ssrcss-13nu8ri-GroupChildrenForWrapping eh44mf02\"><li role=\"listitem\" class=\"ssrcss-30fcoe-MetadataStripItem eh44mf01\"><div class=\"visually-hidden ssrcss-1f39n02-VisuallyHidden e16en2lz0\">Published</div><div class=\"ssrcss-m5j4pi-MetadataContent eh44mf00\"><span class=\"ssrcss-1pvwv4b-MetadataSnippet e4wm5bw3\"><span class=\"ssrcss-1if1g9v-MetadataText e4wm5bw1\">9 minutes ago</span></span></div></li></div></ul></div></div></div></div></div></li><li class=\"ssrcss-2pgqep-PromoItem e1ia0oo97\"><div class=\"ssrcss-2z5yft-Promo e1vyq2e80\"><div class=\"ssrcss-1enzf19-PromoCompact e18gnqux0\"><div class=\"ssrcss-1d68cot-PromoContent exn3ah99\"><div spacing=\"2\" class=\"ssrcss-1f3bvyz-Stack e1y4nx260\"><a href=\"/news/world-us-canada-66861588\" class=\"ssrcss-1mrs5ns-PromoLink exn3ah91\"><span role=\"text\"><p class=\"ssrcss-17zglt8-PromoHeadline exn3ah96\"><span aria-hidden=\"false\">US child dies from fentanyl kept under nursery mat</span></p></span></a></div><div spacing=\"2\" class=\"ssrcss-1f3bvyz-Stack e1y4nx260\"><div><ul role=\"list\" class=\"ssrcss-1xpwu3-MetadataStripContainer eh44mf03\"><div class=\"ssrcss-13nu8ri-GroupChildrenForWrapping eh44mf02\"><li role=\"listitem\" class=\"ssrcss-30fcoe-MetadataStripItem eh44mf01\"><div class=\"visually-hidden ssrcss-1f39n02-VisuallyHidden e16en2lz0\">Published</div><div class=\"ssrcss-m5j4pi-MetadataContent eh44mf00\"><span class=\"ssrcss-1pvwv4b-MetadataSnippet e4wm5bw3\"><span class=\"ssrcss-1if1g9v-MetadataText e4wm5bw1\">1 hour ago</span></span></div></li></div></ul></div></div></div></div></div></li><li class=\"ssrcss-2pgqep-PromoItem e1ia0oo97\"><div class=\"ssrcss-2z5yft-Promo e1vyq2e80\"><div class=\"ssrcss-1enzf19-PromoCompact e18gnqux0\"><div class=\"ssrcss-1d68cot-PromoContent exn3ah99\"><div spacing=\"2\" class=\"ssrcss-1f3bvyz-Stack e1y4nx260\"><a href=\"/news/world-us-canada-66777096\" class=\"ssrcss-1mrs5ns-PromoLink exn3ah91\"><span role=\"text\"><p class=\"ssrcss-17zglt8-PromoHeadline exn3ah96\"><span aria-hidden=\"false\">Musk woos world leaders, courting controversy</span></p></span></a></div><div spacing=\"2\" class=\"ssrcss-1f3bvyz-Stack e1y4nx260\"><div><ul role=\"list\" class=\"ssrcss-1xpwu3-MetadataStripContainer eh44mf03\"><div class=\"ssrcss-13nu8ri-GroupChildrenForWrapping eh44mf02\"><li role=\"listitem\" class=\"ssrcss-30fcoe-MetadataStripItem eh44mf01\"><div class=\"visually-hidden ssrcss-1f39n02-VisuallyHidden e16en2lz0\">Published</div><div class=\"ssrcss-m5j4pi-MetadataContent eh44mf00\"><span class=\"ssrcss-1pvwv4b-MetadataSnippet e4wm5bw3\"><span class=\"ssrcss-1if1g9v-MetadataText e4wm5bw1\">10 hours ago</span></span></div></li></div></ul></div></div></div></div></div></li></ul></div></div></aside><aside id=\"mpu-side-aside-content\" data-testid=\"mpu-side-aside-content\" aria-label=\"mpu-side\" aria-hidden=\"true\" label=\"mpu-side\"></aside><aside id=\"onwardJourneysExperimental-label-aside-content\" data-testid=\"onwardJourneysExperimental-label-aside-content\" aria-labelledby=\"onwardJourneysExperimental-label\"></aside><aside id=\"features-label-aside-content\" data-testid=\"features-label-aside-content\" aria-labelledby=\"features-label\"><div data-component=\"features\" class=\"ssrcss-ykosa2-OnwardJourneysContainerWrapper e1ia0oo99\"><h2 id=\"features-label\" class=\"ssrcss-q4zz1q-StyledHeading e10rt3ze0\">Features</h2><div class=\"ssrcss-kgm8vt-PromoGroupWrapper e1ia0oo98\"><ul role=\"list\" spacing=\"responsive\" class=\"ssrcss-1020bd1-Stack e1y4nx260\"><li class=\"ssrcss-2pgqep-PromoItem e1ia0oo97\"><div class=\"ssrcss-2z5yft-Promo e1vyq2e80\"><div class=\"ssrcss-6kxrmq-PromoPortrait et3mn3r0\"><div class=\"ssrcss-1v1new6-PromoContent exn3ah99\"><div spacing=\"2\" class=\"ssrcss-1f3bvyz-Stack e1y4nx260\"><a href=\"/news/world-europe-66852070\" class=\"ssrcss-1mrs5ns-PromoLink exn3ah91\"><span role=\"text\"><p class=\"ssrcss-17zglt8-PromoHeadline exn3ah96\"><span aria-hidden=\"false\">Why has fighting broken out in Nagorno-Karabakh?</span></p></span></a></div></div><div class=\"ssrcss-z60stg-PromoImageContainer en81kx34\"><div class=\"ssrcss-17h6w1t-PromoImageContainerInner en81kx32\"><div class=\"ssrcss-fec6qv-ImageWrapper en81kx33\"><span class=\"ssrcss-1bns0x8-Placeholder etlorgc0\"><span><noscript><img alt=\"Damage to residential buildings and vehicles during the latest fighting\" src=\"https://ichef.bbci.co.uk/news/385/cpsprodpb/0426/production/_131126010_nagornocar.jpg\" width=\"385\" height=\"216\" loading=\"lazy\" class=\"ssrcss-evoj7m-Image edrdn950\"/></noscript></span></span></div></div></div></div></div></li><li class=\"ssrcss-2pgqep-PromoItem e1ia0oo97\"><div class=\"ssrcss-2z5yft-Promo e1vyq2e80\"><div class=\"ssrcss-6kxrmq-PromoPortrait et3mn3r0\"><div class=\"ssrcss-1v1new6-PromoContent exn3ah99\"><div spacing=\"2\" class=\"ssrcss-1f3bvyz-Stack e1y4nx260\"><a href=\"https://www.bbc.com/news/world-australia-66793592\" class=\"ssrcss-1mrs5ns-PromoLink exn3ah91\"><span role=\"text\"><p class=\"ssrcss-17zglt8-PromoHeadline exn3ah96\"><span aria-hidden=\"false\">A haunted Australia stares down bushfire disaster again</span></p></span></a></div></div><div class=\"ssrcss-z60stg-PromoImageContainer en81kx34\"><div class=\"ssrcss-17h6w1t-PromoImageContainerInner en81kx32\"><div class=\"ssrcss-fec6qv-ImageWrapper en81kx33\"><span class=\"ssrcss-1bns0x8-Placeholder etlorgc0\"><span><noscript><img alt=\"A firefighter silhouetted against a blaze\" src=\"https://ichef.bbci.co.uk/news/385/cpsprodpb/11334/production/_131125407_87cbf5fa36ecf4eb0229d2b4a9871f2fdbea0fb90_0_5568_37121000x667.jpg\" width=\"385\" height=\"216\" loading=\"lazy\" class=\"ssrcss-evoj7m-Image edrdn950\"/></noscript></span></span></div></div></div></div></div></li><li class=\"ssrcss-2pgqep-PromoItem e1ia0oo97\"><div class=\"ssrcss-2z5yft-Promo e1vyq2e80\"><div class=\"ssrcss-6kxrmq-PromoPortrait et3mn3r0\"><div class=\"ssrcss-1v1new6-PromoContent exn3ah99\"><div spacing=\"2\" class=\"ssrcss-1f3bvyz-Stack e1y4nx260\"><a href=\"/news/world-us-canada-66777096\" class=\"ssrcss-1mrs5ns-PromoLink exn3ah91\"><span role=\"text\"><p class=\"ssrcss-17zglt8-PromoHeadline exn3ah96\"><span aria-hidden=\"false\">Musk woos world leaders, courting controversy</span></p></span></a></div></div><div class=\"ssrcss-z60stg-PromoImageContainer en81kx34\"><div class=\"ssrcss-17h6w1t-PromoImageContainerInner en81kx32\"><div class=\"ssrcss-fec6qv-ImageWrapper en81kx33\"><span class=\"ssrcss-1bns0x8-Placeholder etlorgc0\"><span><noscript><img alt=\"From left: Recep Tayyip Erdogan, Emmanuel Macron, Benjamin Netanyahu, Elon Musk\" src=\"https://ichef.bbci.co.uk/news/385/cpsprodpb/109AD/production/_131131086_06_elon_musk_index_image_976x549.png\" width=\"385\" height=\"216\" loading=\"lazy\" class=\"ssrcss-evoj7m-Image edrdn950\"/></noscript></span></span></div></div></div></div></div></li><li class=\"dotcom-ad-container ssrcss-2pgqep-PromoItem e1ia0oo97\" hidden=\"\"><div id=\"dotcom-infeed_news_story\" class=\"dotcom-ad\"></div></li><li class=\"ssrcss-2pgqep-PromoItem e1ia0oo97\"><div class=\"ssrcss-2z5yft-Promo e1vyq2e80\"><div class=\"ssrcss-6kxrmq-PromoPortrait et3mn3r0\"><div class=\"ssrcss-1v1new6-PromoContent exn3ah99\"><div spacing=\"2\" class=\"ssrcss-1f3bvyz-Stack e1y4nx260\"><a href=\"/news/world-middle-east-66817873\" class=\"ssrcss-1mrs5ns-PromoLink exn3ah91\"><span role=\"text\"><p class=\"ssrcss-17zglt8-PromoHeadline exn3ah96\"><span aria-hidden=\"false\">&#x27;I was in Iran&#x27;s police - then joined protesters&#x27;</span></p></span></a></div></div><div class=\"ssrcss-z60stg-PromoImageContainer en81kx34\"><div class=\"ssrcss-17h6w1t-PromoImageContainerInner en81kx32\"><div class=\"ssrcss-fec6qv-ImageWrapper en81kx33\"><span class=\"ssrcss-1bns0x8-Placeholder etlorgc0\"><span><noscript><img alt=\"Omid Moradi\" src=\"https://ichef.bbci.co.uk/news/385/cpsprodpb/01C4/production/_131125400_whatsappimage2023-08-23at12.50.50pm.jpg\" width=\"385\" height=\"216\" loading=\"lazy\" class=\"ssrcss-evoj7m-Image edrdn950\"/></noscript></span></span></div></div></div></div></div></li><li class=\"ssrcss-2pgqep-PromoItem e1ia0oo97\"><div class=\"ssrcss-2z5yft-Promo e1vyq2e80\"><div class=\"ssrcss-6kxrmq-PromoPortrait et3mn3r0\"><div class=\"ssrcss-1v1new6-PromoContent exn3ah99\"><div spacing=\"2\" class=\"ssrcss-1f3bvyz-Stack e1y4nx260\"><a href=\"/news/business-66841602\" class=\"ssrcss-1mrs5ns-PromoLink exn3ah91\"><span role=\"text\"><p class=\"ssrcss-17zglt8-PromoHeadline exn3ah96\"><span aria-hidden=\"false\">Forget LA â\\x80\\x93 itâ\\x80\\x99s British film studios that are in demand</span></p></span></a></div></div><div class=\"ssrcss-z60stg-PromoImageContainer en81kx34\"><div class=\"ssrcss-17h6w1t-PromoImageContainerInner en81kx32\"><div class=\"ssrcss-fec6qv-ImageWrapper en81kx33\"><span class=\"ssrcss-1bns0x8-Placeholder etlorgc0\"><span><noscript><img alt=\"Margot Robbie on set in the Barbie movie\" src=\"https://ichef.bbci.co.uk/news/385/cpsprodpb/17D6B/production/_131134679_rev-1-bar-tt2-004_high_res_jpeg-63.jpg\" width=\"385\" height=\"216\" loading=\"lazy\" class=\"ssrcss-evoj7m-Image edrdn950\"/></noscript></span></span></div></div></div></div></div></li><li class=\"ssrcss-2pgqep-PromoItem e1ia0oo97\"><div class=\"ssrcss-2z5yft-Promo e1vyq2e80\"><div class=\"ssrcss-6kxrmq-PromoPortrait et3mn3r0\"><div class=\"ssrcss-1v1new6-PromoContent exn3ah99\"><div spacing=\"2\" class=\"ssrcss-1f3bvyz-Stack e1y4nx260\"><a href=\"/news/world-europe-66818492\" class=\"ssrcss-1mrs5ns-PromoLink exn3ah91\"><span role=\"text\"><p class=\"ssrcss-17zglt8-PromoHeadline exn3ah96\"><span aria-hidden=\"false\">Russia superyacht symbolises challenge of seizing assets</span></p></span></a></div></div><div class=\"ssrcss-z60stg-PromoImageContainer en81kx34\"><div class=\"ssrcss-17h6w1t-PromoImageContainerInner en81kx32\"><div class=\"ssrcss-fec6qv-ImageWrapper en81kx33\"><span class=\"ssrcss-1bns0x8-Placeholder etlorgc0\"><span><noscript><img alt=\"The Alfa Nero superyacht moored in Antigua&#x27;s Falmouth Harbour\" src=\"https://ichef.bbci.co.uk/news/385/cpsprodpb/DD43/production/_131134665_alfanero.jpg\" width=\"385\" height=\"216\" loading=\"lazy\" class=\"ssrcss-evoj7m-Image edrdn950\"/></noscript></span></span></div></div></div></div></div></li><li class=\"ssrcss-2pgqep-PromoItem e1ia0oo97\"><div class=\"ssrcss-2z5yft-Promo e1vyq2e80\"><div class=\"ssrcss-6kxrmq-PromoPortrait et3mn3r0\"><div class=\"ssrcss-1v1new6-PromoContent exn3ah99\"><div spacing=\"2\" class=\"ssrcss-1f3bvyz-Stack e1y4nx260\"><a href=\"https://www.bbc.com/future/article/20230912-how-i-hacked-my-brain?utm_source=bbc-news&amp;utm_medium=right-hand-slot\" class=\"ssrcss-1mrs5ns-PromoLink exn3ah91\"><span role=\"text\"><p class=\"ssrcss-17zglt8-PromoHeadline exn3ah96\"><span aria-hidden=\"false\">How I rewired my brain in six weeks</span></p></span></a></div></div><div class=\"ssrcss-z60stg-PromoImageContainer en81kx34\"><div class=\"ssrcss-17h6w1t-PromoImageContainerInner en81kx32\"><div class=\"ssrcss-fec6qv-ImageWrapper en81kx33\"><span class=\"ssrcss-1bns0x8-Placeholder etlorgc0\"><span><noscript><img alt=\"A woman stands in a flowering meadow with her eyes closed\" src=\"https://ichef.bbci.co.uk/news/385/cpsprodpb/30A4/production/_131125421_brain-rewiring.jpg\" width=\"385\" height=\"216\" loading=\"lazy\" class=\"ssrcss-evoj7m-Image edrdn950\"/></noscript></span></span></div></div></div></div></div></li><li class=\"ssrcss-2pgqep-PromoItem e1ia0oo97\"><div class=\"ssrcss-2z5yft-Promo e1vyq2e80\"><div class=\"ssrcss-6kxrmq-PromoPortrait et3mn3r0\"><div class=\"ssrcss-1v1new6-PromoContent exn3ah99\"><div spacing=\"2\" class=\"ssrcss-1f3bvyz-Stack e1y4nx260\"><a href=\"/news/world-us-canada-66856568\" class=\"ssrcss-1mrs5ns-PromoLink exn3ah91\"><span role=\"text\"><p class=\"ssrcss-17zglt8-PromoHeadline exn3ah96\"><span aria-hidden=\"false\">Why Western nations fear India-Canada row</span></p></span></a></div></div><div class=\"ssrcss-z60stg-PromoImageContainer en81kx34\"><div class=\"ssrcss-17h6w1t-PromoImageContainerInner en81kx32\"><div class=\"ssrcss-fec6qv-ImageWrapper en81kx33\"><span class=\"ssrcss-1bns0x8-Placeholder etlorgc0\"><span><noscript><img alt=\"Rishi Sunak and Joe Biden\" src=\"https://ichef.bbci.co.uk/news/385/cpsprodpb/EBE8/production/_131129306_sunak_biden_getty.png\" width=\"385\" height=\"216\" loading=\"lazy\" class=\"ssrcss-evoj7m-Image edrdn950\"/></noscript></span></span></div></div></div></div></div></li><li class=\"ssrcss-2pgqep-PromoItem e1ia0oo97\"><div class=\"ssrcss-2z5yft-Promo e1vyq2e80\"><div class=\"ssrcss-6kxrmq-PromoPortrait et3mn3r0\"><div class=\"ssrcss-1v1new6-PromoContent exn3ah99\"><div spacing=\"2\" class=\"ssrcss-1f3bvyz-Stack e1y4nx260\"><a href=\"/news/world-africa-66787944\" class=\"ssrcss-1mrs5ns-PromoLink exn3ah91\"><span role=\"text\"><p class=\"ssrcss-17zglt8-PromoHeadline exn3ah96\"><span aria-hidden=\"false\">Ghanaian man who fought slavery celebrated in the UK</span></p></span></a></div></div><div class=\"ssrcss-z60stg-PromoImageContainer en81kx34\"><div class=\"ssrcss-17h6w1t-PromoImageContainerInner en81kx32\"><div class=\"ssrcss-fec6qv-ImageWrapper en81kx33\"><span class=\"ssrcss-1bns0x8-Placeholder etlorgc0\"><span><noscript><img alt=\"Ottobah Cugoano in a painting by Richard Cosway in 1784\" src=\"https://ichef.bbci.co.uk/news/385/cpsprodpb/69A2/production/_131124072_crop976_2.jpg\" width=\"385\" height=\"216\" loading=\"lazy\" class=\"ssrcss-evoj7m-Image edrdn950\"/></noscript></span></span></div></div></div></div></div></li></ul></div></div></aside><aside id=\"native-aside-content\" data-testid=\"native-aside-content\" aria-label=\"native\" aria-hidden=\"true\" label=\"native\"></aside><aside id=\"elsewhere-label-aside-content\" data-testid=\"elsewhere-label-aside-content\" aria-labelledby=\"elsewhere-label\"><div data-component=\"elsewhere\" class=\"ssrcss-ykosa2-OnwardJourneysContainerWrapper e1ia0oo99\"><h2 id=\"elsewhere-label\" class=\"ssrcss-q4zz1q-StyledHeading e10rt3ze0\">Elsewhere on the BBC</h2><div class=\"ssrcss-kgm8vt-PromoGroupWrapper e1ia0oo98\"><ul role=\"list\" spacing=\"responsive\" class=\"ssrcss-1020bd1-Stack e1y4nx260\"><li class=\"ssrcss-2pgqep-PromoItem e1ia0oo97\"><div class=\"ssrcss-2z5yft-Promo e1vyq2e80\"><div class=\"ssrcss-6kxrmq-PromoPortrait et3mn3r0\"><div class=\"ssrcss-1v1new6-PromoContent exn3ah99\"><div spacing=\"2\" class=\"ssrcss-1f3bvyz-Stack e1y4nx260\"><a href=\"https://www.bbc.com/travel/article/20230907-le-touquet-the-most-british-of-french-resorts\" class=\"ssrcss-1mrs5ns-PromoLink exn3ah91\"><span role=\"text\"><p class=\"ssrcss-17zglt8-PromoHeadline exn3ah96\"><span aria-hidden=\"false\">The &#x27;most British of French resorts&#x27;</span></p></span></a></div></div><div class=\"ssrcss-z60stg-PromoImageContainer en81kx34\"><div class=\"ssrcss-17h6w1t-PromoImageContainerInner en81kx32\"><div class=\"ssrcss-fec6qv-ImageWrapper en81kx33\"><span class=\"ssrcss-1bns0x8-Placeholder etlorgc0\"><span><noscript><img alt=\"stores\" src=\"https://ichef.bbci.co.uk/ace/standard/480/cpsprodpb/5699/production/_131096122_the&#x27;mostbritishoffrenchresorts&#x27;.jpg\" width=\"385\" height=\"216\" loading=\"lazy\" class=\"ssrcss-evoj7m-Image edrdn950\"/></noscript></span></span></div></div></div></div></div></li><li class=\"ssrcss-2pgqep-PromoItem e1ia0oo97\"><div class=\"ssrcss-2z5yft-Promo e1vyq2e80\"><div class=\"ssrcss-6kxrmq-PromoPortrait et3mn3r0\"><div class=\"ssrcss-1v1new6-PromoContent exn3ah99\"><div spacing=\"2\" class=\"ssrcss-1f3bvyz-Stack e1y4nx260\"><a href=\"https://www.bbc.com/worklife/article/20230907-how-much-it-costs-to-attend-the-burning-man-festival\" class=\"ssrcss-1mrs5ns-PromoLink exn3ah91\"><span role=\"text\"><p class=\"ssrcss-17zglt8-PromoHeadline exn3ah96\"><span aria-hidden=\"false\">How expensive is Burning Man?</span></p></span></a></div></div><div class=\"ssrcss-z60stg-PromoImageContainer en81kx34\"><div class=\"ssrcss-17h6w1t-PromoImageContainerInner en81kx32\"><div class=\"ssrcss-fec6qv-ImageWrapper en81kx33\"><span class=\"ssrcss-1bns0x8-Placeholder etlorgc0\"><span><noscript><img alt=\"woman on bike\" src=\"https://ichef.bbci.co.uk/ace/standard/480/cpsprodpb/16809/production/_131096129_howexpensiveisburningman.jpg\" width=\"385\" height=\"216\" loading=\"lazy\" class=\"ssrcss-evoj7m-Image edrdn950\"/></noscript></span></span></div></div></div></div></div></li><li class=\"ssrcss-2pgqep-PromoItem e1ia0oo97\"><div class=\"ssrcss-2z5yft-Promo e1vyq2e80\"><div class=\"ssrcss-6kxrmq-PromoPortrait et3mn3r0\"><div class=\"ssrcss-1v1new6-PromoContent exn3ah99\"><div spacing=\"2\" class=\"ssrcss-1f3bvyz-Stack e1y4nx260\"><a href=\"https://www.bbc.com/culture/article/20230908-the-boy-and-the-heron-review-miyazakis-last-film-is-a-masterpiece\" class=\"ssrcss-1mrs5ns-PromoLink exn3ah91\"><span role=\"text\"><p class=\"ssrcss-17zglt8-PromoHeadline exn3ah96\"><span aria-hidden=\"false\">Miyazaki&#x27;s &#x27;last&#x27; film is a masterpiece</span></p></span></a></div></div><div class=\"ssrcss-z60stg-PromoImageContainer en81kx34\"><div class=\"ssrcss-17h6w1t-PromoImageContainerInner en81kx32\"><div class=\"ssrcss-fec6qv-ImageWrapper en81kx33\"><span class=\"ssrcss-1bns0x8-Placeholder etlorgc0\"><span><noscript><img alt=\"cartoon\" src=\"https://ichef.bbci.co.uk/ace/standard/480/cpsprodpb/12D71/production/_131096177_miyazaki&#x27;s&#x27;last&#x27;filmisamasterpiece.jpg\" width=\"385\" height=\"216\" loading=\"lazy\" class=\"ssrcss-evoj7m-Image edrdn950\"/></noscript></span></span></div></div></div></div></div></li></ul></div></div></aside><aside id=\"piano-sidebar-aside-content\" data-testid=\"piano-sidebar-aside-content\" aria-label=\"piano-sidebar\" aria-hidden=\"true\" label=\"piano-sidebar\"></aside><aside id=\"mostRead-label-aside-content\" data-testid=\"mostRead-label-aside-content\" aria-labelledby=\"mostRead-label\"><div data-component=\"mostRead\" class=\"ssrcss-ykosa2-OnwardJourneysContainerWrapper e1ia0oo99\"><h2 id=\"mostRead-label\" class=\"ssrcss-q4zz1q-StyledHeading e10rt3ze0\">Most Read</h2><div class=\"ssrcss-fw358t-PromoGroupWrapper e1ia0oo98\"><ol role=\"list\" spacing=\"responsive\" class=\"ssrcss-1020bd1-Stack e1y4nx260\"><li class=\"ssrcss-2pgqep-PromoItem e1ia0oo97\"><div class=\"ssrcss-1ibzzbt-Container e1qjxmbq5\"><div class=\"ssrcss-smcys4-Wrapper e1qjxmbq2\"><span class=\"ssrcss-1giogr2-Number e1qjxmbq3\">1</span><div class=\"ssrcss-9n6uek-ColumnWrapper e1qjxmbq1\"><a href=\"/news/world-us-canada-66856568\" class=\"ssrcss-18cjaf3-Headline e1qjxmbq4\">Why Western nations fear India-Canada row</a></div></div></div></li><li class=\"ssrcss-2pgqep-PromoItem e1ia0oo97\"><div class=\"ssrcss-1ibzzbt-Container e1qjxmbq5\"><div class=\"ssrcss-smcys4-Wrapper e1qjxmbq2\"><span class=\"ssrcss-1giogr2-Number e1qjxmbq3\">2</span><div class=\"ssrcss-9n6uek-ColumnWrapper e1qjxmbq1\"><a href=\"/news/world-europe-66851975\" class=\"ssrcss-18cjaf3-Headline e1qjxmbq4\">Azerbaijan targets Nagorno-Karabakh for second day</a></div></div></div></li><li class=\"ssrcss-2pgqep-PromoItem e1ia0oo97\"><div class=\"ssrcss-1ibzzbt-Container e1qjxmbq5\"><div class=\"ssrcss-smcys4-Wrapper e1qjxmbq2\"><span class=\"ssrcss-1giogr2-Number e1qjxmbq3\">3</span><div class=\"ssrcss-9n6uek-ColumnWrapper e1qjxmbq1\"><a href=\"/news/world-us-canada-66862067\" class=\"ssrcss-18cjaf3-Headline e1qjxmbq4\">Bijou Phillips to divorce Danny Masterson - reports</a></div></div></div></li><li class=\"ssrcss-2pgqep-PromoItem e1ia0oo97\"><div class=\"ssrcss-1ibzzbt-Container e1qjxmbq5\"><div class=\"ssrcss-smcys4-Wrapper e1qjxmbq2\"><span class=\"ssrcss-1giogr2-Number e1qjxmbq3\">4</span><div class=\"ssrcss-9n6uek-ColumnWrapper e1qjxmbq1\"><a href=\"/news/world-us-canada-66861588\" class=\"ssrcss-18cjaf3-Headline e1qjxmbq4\">US child dies from fentanyl kept under nursery mat</a></div></div></div></li><li class=\"ssrcss-2pgqep-PromoItem e1ia0oo97\"><div class=\"ssrcss-1ibzzbt-Container e1qjxmbq5\"><div class=\"ssrcss-smcys4-Wrapper e1qjxmbq2\"><span class=\"ssrcss-1giogr2-Number e1qjxmbq3\">5</span><div class=\"ssrcss-9n6uek-ColumnWrapper e1qjxmbq1\"><a href=\"/news/world-us-canada-66777096\" class=\"ssrcss-18cjaf3-Headline e1qjxmbq4\">Musk woos world leaders, courting controversy</a></div></div></div></li><li class=\"ssrcss-2pgqep-PromoItem e1ia0oo97\"><div class=\"ssrcss-1ibzzbt-Container e1qjxmbq5\"><div class=\"ssrcss-smcys4-Wrapper e1qjxmbq2\"><span class=\"ssrcss-1giogr2-Number e1qjxmbq3\">6</span><div class=\"ssrcss-9n6uek-ColumnWrapper e1qjxmbq1\"><a href=\"/news/world-asia-india-66844028\" class=\"ssrcss-18cjaf3-Headline e1qjxmbq4\">Torture, rape, killings: An Indian state&#x27;s brutal conflict</a></div></div></div></li><li class=\"ssrcss-2pgqep-PromoItem e1ia0oo97\"><div class=\"ssrcss-1ibzzbt-Container e1qjxmbq5\"><div class=\"ssrcss-smcys4-Wrapper e1qjxmbq2\"><span class=\"ssrcss-1giogr2-Number e1qjxmbq3\">7</span><div class=\"ssrcss-9n6uek-ColumnWrapper e1qjxmbq1\"><a href=\"/news/business-66857146\" class=\"ssrcss-18cjaf3-Headline e1qjxmbq4\">&#x27;King of Crypto&#x27; parents sued over missing millions</a></div></div></div></li><li class=\"ssrcss-2pgqep-PromoItem e1ia0oo97\"><div class=\"ssrcss-1ibzzbt-Container e1qjxmbq5\"><div class=\"ssrcss-smcys4-Wrapper e1qjxmbq2\"><span class=\"ssrcss-1giogr2-Number e1qjxmbq3\">8</span><div class=\"ssrcss-9n6uek-ColumnWrapper e1qjxmbq1\"><a href=\"/news/world-europe-66818492\" class=\"ssrcss-18cjaf3-Headline e1qjxmbq4\">Russia superyacht symbolises challenge of seizing assets</a></div></div></div></li><li class=\"ssrcss-2pgqep-PromoItem e1ia0oo97\"><div class=\"ssrcss-1ibzzbt-Container e1qjxmbq5\"><div class=\"ssrcss-smcys4-Wrapper e1qjxmbq2\"><span class=\"ssrcss-1giogr2-Number e1qjxmbq3\">9</span><div class=\"ssrcss-9n6uek-ColumnWrapper e1qjxmbq1\"><a href=\"/news/world-66859639\" class=\"ssrcss-18cjaf3-Headline e1qjxmbq4\">Russian &#x27;evil cannot be trusted&#x27; - Zelensky tells UN</a></div></div></div></li><li class=\"ssrcss-2pgqep-PromoItem e1ia0oo97\"><div class=\"ssrcss-1ibzzbt-Container e1qjxmbq5\"><div class=\"ssrcss-smcys4-Wrapper e1qjxmbq2\"><span class=\"ssrcss-1giogr2-Number e1qjxmbq3\">10</span><div class=\"ssrcss-9n6uek-ColumnWrapper e1qjxmbq1\"><a href=\"/news/world-us-canada-66857467\" class=\"ssrcss-18cjaf3-Headline e1qjxmbq4\">Ex-NFL player missing after mother found murdered</a></div></div></div></li></ol></div></div></aside><aside id=\"mpu_bottom-aside-content\" data-testid=\"mpu_bottom-aside-content\" aria-label=\"mpu_bottom\" aria-hidden=\"true\" label=\"mpu_bottom\"></aside><aside id=\"adsense-aside-content\" data-testid=\"adsense-aside-content\" aria-label=\"adsense\" aria-hidden=\"true\" label=\"adsense\"></aside></div></div></div></div><div class=\"ssrcss-1y7k614-FooterStack e1mcntqj1\"><div class=\"ssrcss-irv5dn-Zone e1mcntqj4\"><aside id=\"piano-footer-aside-content\" data-testid=\"piano-footer-aside-content\" aria-label=\"piano-footer\" aria-hidden=\"true\" label=\"piano-footer\"></aside><footer id=\"footer-content\" data-testid=\"footer-content\"><nav aria-label=\"BBC News Services\" class=\"ssrcss-44tgo1-ServiceBar env7qt33\"><div class=\"ssrcss-1ocoo3l-Wrap e42f8511\"><div class=\"ssrcss-1a6riyw-ServiceBarTitle env7qt34\"><h2 class=\"ssrcss-lny69r-StyledHeading e10rt3ze0\">BBC News Services</h2></div><ul role=\"list\" class=\"ssrcss-1lx08fz-ServiceLinkList env7qt31\"><li><a href=\"https://www.bbc.co.uk/news/10628994\" class=\"ssrcss-16gfcx-StyledLink env7qt32\"><span class=\"ssrcss-fjeiuk-StyledIconContainer env7qt30\"><svg viewBox=\"0 0 32 32\" width=\"1em\" height=\"1em\" class=\"ssrcss-xi5oyi-StyledIcon e161cein1\" focusable=\"false\" aria-hidden=\"true\"><path d=\"M7.7 29.2c0 1.2.7 1.9 1.9 1.9h12.9c1.2 0 1.9-.7 1.9-1.9V2.8c0-1.2-.7-1.9-1.9-1.9H9.6c-1.2.1-1.9.7-1.9 1.9v26.4zM22 24.3H10V5.2h12v19.1zM14.1 2.5h3.8v1.1h-3.8V2.5zM16 29.2c-.9 0-1.5-.6-1.5-1.5s.6-1.5 1.5-1.5 1.5.6 1.5 1.5-.6 1.5-1.5 1.5z\"></path></svg></span>On your mobile</a></li><li><a href=\"https://www.bbc.co.uk/news/help-50068132\" class=\"ssrcss-16gfcx-StyledLink env7qt32\"><span class=\"ssrcss-fjeiuk-StyledIconContainer env7qt30\"><svg viewBox=\"0 0 32 32\" width=\"1em\" height=\"1em\" class=\"ssrcss-xi5oyi-StyledIcon e161cein1\" focusable=\"false\" aria-hidden=\"true\"><path d=\"M9.6 28.8v2.6h12.8v-2.6H9.6zm5.1-3.4v3.8h2.6v-3.8h-2.6zm6.6-17.7c0-.3 0-.5-.2-.8l-1.4-5.1C19.4.9 18.8.6 17.9.6h-3.8c-.8 0-1.5.3-1.8 1.2l-1.4 5.1c-.1.3-.2.5-.2.8v10.9c0 .4.2 1 .4 1.4l.9 1.3c.3.4.7.7 1.3.7h5.3c.6 0 1-.3 1.3-.7l.9-1.3c.3-.4.4-1 .4-1.4V7.7zm-2.7 18.9c2.3 0 4.1-1.1 5.3-2.7l.9-1.3c.8-1.2 1.3-3 1.3-4.2v-4.5h-2.6v4.4c0 .8-.3 2-.8 2.7l-.9 1.3c-.7 1-1.7 1.6-3.1 1.6h-5.3c-1.4 0-2.4-.6-3.1-1.6l-1-1.3c-.5-.7-.8-1.9-.8-2.7v-4.4H5.8v4.5c0 1.2.5 3.1 1.3 4.2l.9 1.3c1.2 1.7 2.9 2.7 5.3 2.7h5.3z\"></path></svg></span>On smart speakers</a></li><li><a href=\"https://www.bbc.co.uk/news/10628323\" class=\"ssrcss-16gfcx-StyledLink env7qt32\"><span class=\"ssrcss-fjeiuk-StyledIconContainer env7qt30\"><svg viewBox=\"0 0 32 32\" width=\"1em\" height=\"1em\" class=\"ssrcss-xi5oyi-StyledIcon e161cein1\" focusable=\"false\" aria-hidden=\"true\"><path d=\"m27.9 10.7.6 1.8v15.8H3.6V12.5l.6-1.8H1V31h30V10.7h-3.1zM16 23.3l13.4-10.8-1.5-1.8-11.9 9-11.9-9-1.5 1.8L16 23.3zm12.4-10.9V1H3.6v11.7h2.7v-9h19.5v8.8h2.6z\"></path></svg></span>Get news alerts</a></li><li><a href=\"https://www.bbc.co.uk/news/20039682\" class=\"ssrcss-16gfcx-StyledLink env7qt32\"><span class=\"ssrcss-fjeiuk-StyledIconContainer env7qt30\"><svg viewBox=\"0 0 32 32\" width=\"1em\" height=\"1em\" class=\"ssrcss-xi5oyi-StyledIcon e161cein1\" focusable=\"false\" aria-hidden=\"true\"><path d=\"M1 27.9h30V4.1H1v23.8zm2.6-2.6V6.6h24.8v18.7H3.6zM16 19.8 29.4 7.2l-1.5-1.5L16 15.8 4.1 5.7 2.6 7.2 16 19.8z\"></path></svg></span>Contact BBC News</a></li></ul></div></nav><div class=\"ssrcss-1gyzvqx-GlobalFooterStyling ejnx8uh0\"><div class=\"ssrcss-1ocoo3l-Wrap e42f8511\"><div spacing=\"4\" class=\"ssrcss-wjed5-Stack e1y4nx260\"><ul role=\"list\" class=\"ssrcss-1iurs7n-Columns e130hpyp1\"><li><a href=\"https://www.bbc.com\" class=\"ssrcss-18ullcu-Link-NavigationLink e130hpyp0\">Home</a></li><li><a href=\"https://www.bbc.com/news\" class=\"ssrcss-18ullcu-Link-NavigationLink e130hpyp0\">News</a></li><li><a href=\"https://www.bbc.com/sport\" class=\"ssrcss-18ullcu-Link-NavigationLink e130hpyp0\">Sport</a></li><li><a href=\"https://www.bbc.com/reel\" class=\"ssrcss-18ullcu-Link-NavigationLink e130hpyp0\">Reel</a></li><li><a href=\"https://www.bbc.com/worklife\" class=\"ssrcss-18ullcu-Link-NavigationLink e130hpyp0\">Worklife</a></li><li><a href=\"https://www.bbc.com/travel\" class=\"ssrcss-18ullcu-Link-NavigationLink e130hpyp0\">Travel</a></li><li><a href=\"https://www.bbc.com/future\" class=\"ssrcss-18ullcu-Link-NavigationLink e130hpyp0\">Future</a></li><li><a href=\"https://www.bbc.com/culture\" class=\"ssrcss-18ullcu-Link-NavigationLink e130hpyp0\">Culture</a></li><li><a href=\"https://www.bbc.com/culture/music\" class=\"ssrcss-18ullcu-Link-NavigationLink e130hpyp0\">Music</a></li><li><a href=\"https://www.bbc.co.uk/schedules/p00fzl9m\" class=\"ssrcss-18ullcu-Link-NavigationLink e130hpyp0\">TV</a></li><li><a href=\"https://www.bbc.com/weather\" class=\"ssrcss-18ullcu-Link-NavigationLink e130hpyp0\">Weather</a></li><li><a href=\"https://www.bbc.co.uk/sounds\" class=\"ssrcss-18ullcu-Link-NavigationLink e130hpyp0\">Sounds</a></li></ul><div spacing=\"6\" class=\"ssrcss-y7krbn-Stack e1y4nx260\"><div class=\"ssrcss-17ehax8-Cluster e1ihwmse1\"><ul role=\"list\" spacing=\"6\" class=\"ssrcss-x3nlsb-ClusterItems e1ihwmse0\"><li><a href=\"https://www.bbc.co.uk/usingthebbc/terms\" class=\"ssrcss-1xssqxs-Link-LegalLink e1nhpvv71\">Terms of Use</a></li><li><a href=\"https://www.bbc.co.uk/aboutthebbc\" class=\"ssrcss-1xssqxs-Link-LegalLink e1nhpvv71\">About the BBC</a></li><li><a href=\"https://www.bbc.com/usingthebbc/privacy\" class=\"ssrcss-1xssqxs-Link-LegalLink e1nhpvv71\">Privacy Policy</a></li><li><a href=\"https://www.bbc.com/usingthebbc/cookies\" class=\"ssrcss-1xssqxs-Link-LegalLink e1nhpvv71\">Cookies</a></li><li><a href=\"https://www.bbc.co.uk/accessibility\" class=\"ssrcss-1xssqxs-Link-LegalLink e1nhpvv71\">Accessibility Help</a></li><li><a href=\"https://www.bbc.co.uk/iplayer/guidance\" class=\"ssrcss-1xssqxs-Link-LegalLink e1nhpvv71\">Parental Guidance</a></li><li><a href=\"https://www.bbc.co.uk/contact\" class=\"ssrcss-1xssqxs-Link-LegalLink e1nhpvv71\">Contact the BBC</a></li><li><a href=\"https://www.bbc.co.uk/bbcnewsletter\" class=\"ssrcss-1xssqxs-Link-LegalLink e1nhpvv71\">Get Personalised Newsletters</a></li><li><a href=\"https://www.bbc.co.uk/news/help-41670342\" class=\"ssrcss-1xssqxs-Link-LegalLink e1nhpvv71\">Why you can trust the BBC</a></li><li><a href=\"https://www.bbcglobalnews.com/home/\" class=\"ssrcss-1xssqxs-Link-LegalLink e1nhpvv71\">Advertise with us</a></li></ul></div><p class=\"ssrcss-1q0x1qg-Paragraph e1jhz7w10\">Â© 2023 BBC. The BBC is not responsible for the content of external sites. <a href=\"https://www.bbc.co.uk/editorialguidelines/guidance/feeds-and-links\" class=\"ssrcss-odwm7b-Link e14mg4ud0\">Read about our approach to external linking.</a></p></div></div></div></div></footer></div></div></div></div></div><script nonce=\"w/Bw40ulE7hZ4FcZ/nODBP/1IYajRkCMPmC4XpYcUMVwml+LJC\">window.__WEBAPP_CONFIG__=\"{\\\\\"staticBaseUrl\\\\\":\\\\\"https://static.files.bbci.co.uk/core\\\\\",\\\\\"apiUrl\\\\\":\\\\\"/wc-data\\\\\",\\\\\"hostUrl\\\\\":\\\\\"https://www.bbc.co.uk\\\\\",\\\\\"cdnHostUrl\\\\\":\\\\\"https://web-cdn.api.bbci.co.uk\\\\\",\\\\\"reportingEndpoint\\\\\":\\\\\"https://webcore.bbc-reporting-api.app/report-endpoint\\\\\",\\\\\"webVitalsSampleRate\\\\\":20,\\\\\"manifestName\\\\\":\\\\\"manifest.8d4237cbd18eb052a5fa59995d4624b88fd4c643.json\\\\\"}\";</script><script nonce=\"w/Bw40ulE7hZ4FcZ/nODBP/1IYajRkCMPmC4XpYcUMVwml+LJC\">window.__INITIAL_DATA__=\"{\\\\\"data\\\\\":{\\\\\"chameleon-global-navigation?country=us&language=en-GB\\\\\":{\\\\\"name\\\\\":\\\\\"chameleon-global-navigation\\\\\",\\\\\"props\\\\\":{\\\\\"country\\\\\":\\\\\"us\\\\\",\\\\\"language\\\\\":\\\\\"en-GB\\\\\"},\\\\\"data\\\\\":{\\\\\"accessibilityLinks\\\\\":[{\\\\\"label\\\\\":\\\\\"Skip to content\\\\\",\\\\\"url\\\\\":\\\\\"#main-heading\\\\\"},{\\\\\"label\\\\\":\\\\\"Accessibility Help\\\\\",\\\\\"url\\\\\":\\\\\"https://www.bbc.co.uk/accessibility/\\\\\"}],\\\\\"signInLabel\\\\\":\\\\\"Sign in\\\\\",\\\\\"accountLabel\\\\\":\\\\\"Your account\\\\\",\\\\\"menuLabel\\\\\":\\\\\"Menu\\\\\",\\\\\"moreLabel\\\\\":\\\\\"More\\\\\",\\\\\"moreMenuLabel\\\\\":\\\\\"More menu\\\\\",\\\\\"closeButtonLabel\\\\\":\\\\\"Close menu\\\\\",\\\\\"disclaimer\\\\\":{\\\\\"text\\\\\":\\\\\"Â© 2023 BBC. The BBC is not responsible for the content of external sites.\\\\\",\\\\\"link\\\\\":{\\\\\"url\\\\\":\\\\\"https://www.bbc.co.uk/editorialguidelines/guidance/feeds-and-links\\\\\",\\\\\"text\\\\\":\\\\\"Read about our approach to external linking.\\\\\"}},\\\\\"legalLinks\\\\\":[{\\\\\"url\\\\\":\\\\\"https://www.bbc.co.uk/usingthebbc/terms\\\\\",\\\\\"label\\\\\":\\\\\"Terms of Use\\\\\"},{\\\\\"url\\\\\":\\\\\"https://www.bbc.co.uk/aboutthebbc\\\\\",\\\\\"label\\\\\":\\\\\"About the BBC\\\\\"},{\\\\\"url\\\\\":\\\\\"https://www.bbc.com/usingthebbc/privacy\\\\\",\\\\\"label\\\\\":\\\\\"Privacy Policy\\\\\"},{\\\\\"url\\\\\":\\\\\"https://www.bbc.com/usingthebbc/cookies\\\\\",\\\\\"label\\\\\":\\\\\"Cookies\\\\\"},{\\\\\"url\\\\\":\\\\\"https://www.bbc.co.uk/accessibility\\\\\",\\\\\"label\\\\\":\\\\\"Accessibility Help\\\\\"},{\\\\\"url\\\\\":\\\\\"https://www.bbc.co.uk/iplayer/guidance\\\\\",\\\\\"label\\\\\":\\\\\"Parental Guidance\\\\\"},{\\\\\"url\\\\\":\\\\\"https://www.bbc.co.uk/contact\\\\\",\\\\\"label\\\\\":\\\\\"Contact the BBC\\\\\"},{\\\\\"url\\\\\":\\\\\"https://www.bbc.co.uk/bbcnewsletter\\\\\",\\\\\"label\\\\\":\\\\\"Get Personalised Newsletters\\\\\"},{\\\\\"url\\\\\":\\\\\"https://www.bbc.co.uk/news/help-41670342\\\\\",\\\\\"label\\\\\":\\\\\"Why you can trust the BBC\\\\\"},{\\\\\"url\\\\\":\\\\\"https://www.bbcglobalnews.com/home/\\\\\",\\\\\"label\\\\\":\\\\\"Advertise with us\\\\\"},{\\\\\"opens\\\\\":\\\\\"privacy-management\\\\\",\\\\\"label\\\\\":\\\\\"Do not share or sell my info\\\\\"}],\\\\\"homepageLink\\\\\":{\\\\\"label\\\\\":\\\\\"BBC Homepage\\\\\",\\\\\"url\\\\\":\\\\\"https://www.bbc.com\\\\\"},\\\\\"searchLink\\\\\":{\\\\\"label\\\\\":\\\\\"Search\\\\\",\\\\\"url\\\\\":\\\\\"https://www.bbc.co.uk/search\\\\\"},\\\\\"chameleonSearchLink\\\\\":{\\\\\"label\\\\\":\\\\\"Search BBC\\\\\",\\\\\"url\\\\\":\\\\\"https://www.bbc.co.uk/search\\\\\"},\\\\\"navigationLinks\\\\\":[{\\\\\"label\\\\\":\\\\\"Home\\\\\",\\\\\"url\\\\\":\\\\\"https://www.bbc.com\\\\\",\\\\\"accent\\\\\":\\\\\"#007BC7\\\\\"},{\\\\\"label\\\\\":\\\\\"News\\\\\",\\\\\"url\\\\\":\\\\\"https://www.bbc.com/news\\\\\",\\\\\"accent\\\\\":\\\\\"#BB1919\\\\\"},{\\\\\"label\\\\\":\\\\\"Sport\\\\\",\\\\\"url\\\\\":\\\\\"https://www.bbc.com/sport\\\\\",\\\\\"accent\\\\\":\\\\\"#FFD230\\\\\"},{\\\\\"label\\\\\":\\\\\"Reel\\\\\",\\\\\"url\\\\\":\\\\\"https://www.bbc.com/reel\\\\\",\\\\\"accent\\\\\":\\\\\"#0068FF\\\\\"},{\\\\\"label\\\\\":\\\\\"Worklife\\\\\",\\\\\"url\\\\\":\\\\\"https://www.bbc.com/worklife\\\\\",\\\\\"accent\\\\\":\\\\\"#0052A1\\\\\"},{\\\\\"label\\\\\":\\\\\"Travel\\\\\",\\\\\"url\\\\\":\\\\\"https://www.bbc.com/travel\\\\\",\\\\\"accent\\\\\":\\\\\"#589E50\\\\\"},{\\\\\"label\\\\\":\\\\\"Future\\\\\",\\\\\"url\\\\\":\\\\\"https://www.bbc.com/future\\\\\",\\\\\"accent\\\\\":\\\\\"#002856\\\\\"},{\\\\\"label\\\\\":\\\\\"Culture\\\\\",\\\\\"url\\\\\":\\\\\"https://www.bbc.com/culture\\\\\",\\\\\"accent\\\\\":\\\\\"#482878\\\\\"},{\\\\\"label\\\\\":\\\\\"Music\\\\\",\\\\\"url\\\\\":\\\\\"https://www.bbc.com/culture/music\\\\\"},{\\\\\"label\\\\\":\\\\\"TV\\\\\",\\\\\"url\\\\\":\\\\\"https://www.bbc.co.uk/schedules/p00fzl9m\\\\\"},{\\\\\"label\\\\\":\\\\\"Weather\\\\\",\\\\\"url\\\\\":\\\\\"https://www.bbc.com/weather\\\\\",\\\\\"accent\\\\\":\\\\\"#88CCEE\\\\\"},{\\\\\"label\\\\\":\\\\\"Sounds\\\\\",\\\\\"url\\\\\":\\\\\"https://www.bbc.co.uk/sounds\\\\\",\\\\\"accent\\\\\":\\\\\"#FF4900\\\\\"}],\\\\\"chameleonNavigationLinks\\\\\":[{\\\\\"label\\\\\":\\\\\"Home\\\\\",\\\\\"url\\\\\":\\\\\"https://www.bbc.com\\\\\"},{\\\\\"label\\\\\":\\\\\"News\\\\\",\\\\\"url\\\\\":\\\\\"https://www.bbc.com/news\\\\\",\\\\\"accent\\\\\":\\\\\"#EB1212\\\\\"},{\\\\\"label\\\\\":\\\\\"Sport\\\\\",\\\\\"url\\\\\":\\\\\"https://www.bbc.com/sport\\\\\",\\\\\"accent\\\\\":\\\\\"#FFD230\\\\\"},{\\\\\"label\\\\\":\\\\\"Reel\\\\\",\\\\\"url\\\\\":\\\\\"https://www.bbc.com/reel\\\\\",\\\\\"accent\\\\\":\\\\\"#0068FF\\\\\"},{\\\\\"label\\\\\":\\\\\"Worklife\\\\\",\\\\\"url\\\\\":\\\\\"https://www.bbc.com/worklife\\\\\",\\\\\"accent\\\\\":\\\\\"#0052A1\\\\\"},{\\\\\"label\\\\\":\\\\\"Travel\\\\\",\\\\\"url\\\\\":\\\\\"https://www.bbc.com/travel\\\\\",\\\\\"accent\\\\\":\\\\\"#589E50\\\\\"},{\\\\\"label\\\\\":\\\\\"Future\\\\\",\\\\\"url\\\\\":\\\\\"https://www.bbc.com/future\\\\\",\\\\\"accent\\\\\":\\\\\"#002856\\\\\"},{\\\\\"label\\\\\":\\\\\"Culture\\\\\",\\\\\"url\\\\\":\\\\\"https://www.bbc.com/culture\\\\\",\\\\\"accent\\\\\":\\\\\"#482878\\\\\"},{\\\\\"label\\\\\":\\\\\"Music\\\\\",\\\\\"url\\\\\":\\\\\"https://www.bbc.com/culture/music\\\\\"},{\\\\\"label\\\\\":\\\\\"TV\\\\\",\\\\\"url\\\\\":\\\\\"https://www.bbc.co.uk/schedules/p00fzl9m\\\\\"},{\\\\\"label\\\\\":\\\\\"Weather\\\\\",\\\\\"url\\\\\":\\\\\"https://www.bbc.com/weather\\\\\",\\\\\"accent\\\\\":\\\\\"#149EDC\\\\\"},{\\\\\"label\\\\\":\\\\\"Sounds\\\\\",\\\\\"url\\\\\":\\\\\"https://www.bbc.co.uk/sounds\\\\\",\\\\\"accent\\\\\":\\\\\"#FA6400\\\\\"}]},\\\\\"importance\\\\\":\\\\\"PRIMARY\\\\\",\\\\\"isPersonalised\\\\\":false,\\\\\"hasFetcher\\\\\":true},\\\\\"product-navigation?assetUri=%2Fnews%2Fworld-asia-india-66851211&capability=article&country=us&fixedSecondaryNavigation=false&onlyShowSecondaryNav=false&product=news&showProductNavigation=true\\\\\":{\\\\\"name\\\\\":\\\\\"product-navigation\\\\\",\\\\\"props\\\\\":{\\\\\"product\\\\\":\\\\\"news\\\\\",\\\\\"showProductNavigation\\\\\":true,\\\\\"capability\\\\\":\\\\\"article\\\\\",\\\\\"onlyShowSecondaryNav\\\\\":false,\\\\\"fixedSecondaryNavigation\\\\\":false,\\\\\"country\\\\\":\\\\\"us\\\\\",\\\\\"assetUri\\\\\":\\\\\"/news/world-asia-india-66851211\\\\\"},\\\\\"data\\\\\":{\\\\\"masthead\\\\\":{\\\\\"link\\\\\":{\\\\\"url\\\\\":\\\\\"/news\\\\\"},\\\\\"logo\\\\\":\\\\\"logo:news\\\\\",\\\\\"text\\\\\":\\\\\"BBC News\\\\\"},\\\\\"productNav\\\\\":{\\\\\"primary\\\\\":[{\\\\\"label\\\\\":\\\\\"Home\\\\\",\\\\\"url\\\\\":\\\\\"/news\\\\\",\\\\\"selected\\\\\":false,\\\\\"hidden\\\\\":false},{\\\\\"label\\\\\":\\\\\"War in Ukraine\\\\\",\\\\\"url\\\\\":\\\\\"/news/world-60525350\\\\\",\\\\\"selected\\\\\":false,\\\\\"hidden\\\\\":false},{\\\\\"label\\\\\":\\\\\"Climate\\\\\",\\\\\"url\\\\\":\\\\\"/news/science-environment-56837908\\\\\",\\\\\"selected\\\\\":false,\\\\\"hidden\\\\\":false},{\\\\\"label\\\\\":\\\\\"Video\\\\\",\\\\\"url\\\\\":\\\\\"/news/av/10462520\\\\\",\\\\\"selected\\\\\":false,\\\\\"hidden\\\\\":false},{\\\\\"label\\\\\":\\\\\"World\\\\\",\\\\\"url\\\\\":\\\\\"/news/world\\\\\",\\\\\"selected\\\\\":true,\\\\\"hidden\\\\\":false},{\\\\\"label\\\\\":\\\\\"US & Canada\\\\\",\\\\\"url\\\\\":\\\\\"/news/world/us_and_canada\\\\\",\\\\\"selected\\\\\":false,\\\\\"hidden\\\\\":false},{\\\\\"label\\\\\":\\\\\"UK\\\\\",\\\\\"url\\\\\":\\\\\"/news/uk\\\\\",\\\\\"selected\\\\\":false,\\\\\"hidden\\\\\":false},{\\\\\"label\\\\\":\\\\\"Business\\\\\",\\\\\"url\\\\\":\\\\\"/news/business\\\\\",\\\\\"selected\\\\\":false,\\\\\"hidden\\\\\":false},{\\\\\"label\\\\\":\\\\\"Tech\\\\\",\\\\\"url\\\\\":\\\\\"/news/technology\\\\\",\\\\\"selected\\\\\":false,\\\\\"hidden\\\\\":false},{\\\\\"label\\\\\":\\\\\"Science\\\\\",\\\\\"url\\\\\":\\\\\"/news/science_and_environment\\\\\",\\\\\"selected\\\\\":false,\\\\\"hidden\\\\\":false}],\\\\\"secondary\\\\\":[{\\\\\"label\\\\\":\\\\\"Asia\\\\\",\\\\\"url\\\\\":\\\\\"/news/world/asia\\\\\",\\\\\"selected\\\\\":false,\\\\\"hidden\\\\\":false},{\\\\\"label\\\\\":\\\\\"China\\\\\",\\\\\"url\\\\\":\\\\\"/news/world/asia/china\\\\\",\\\\\"selected\\\\\":false,\\\\\"hidden\\\\\":false},{\\\\\"label\\\\\":\\\\\"India\\\\\",\\\\\"url\\\\\":\\\\\"/news/world/asia/india\\\\\",\\\\\"selected\\\\\":true,\\\\\"hidden\\\\\":false}],\\\\\"more\\\\\":[{\\\\\"title\\\\\":\\\\\"\\\\\",\\\\\"items\\\\\":[{\\\\\"label\\\\\":\\\\\"Entertainment & Arts\\\\\",\\\\\"url\\\\\":\\\\\"/news/entertainment_and_arts\\\\\",\\\\\"selected\\\\\":false,\\\\\"hidden\\\\\":false},{\\\\\"label\\\\\":\\\\\"Health\\\\\",\\\\\"url\\\\\":\\\\\"/news/health\\\\\",\\\\\"selected\\\\\":false,\\\\\"hidden\\\\\":false},{\\\\\"label\\\\\":\\\\\"In Pictures\\\\\",\\\\\"url\\\\\":\\\\\"/news/in_pictures\\\\\",\\\\\"selected\\\\\":false,\\\\\"hidden\\\\\":false},{\\\\\"label\\\\\":\\\\\"BBC Verify\\\\\",\\\\\"url\\\\\":\\\\\"/news/reality_check\\\\\",\\\\\"selected\\\\\":false,\\\\\"hidden\\\\\":false},{\\\\\"label\\\\\":\\\\\"World News TV\\\\\",\\\\\"url\\\\\":\\\\\"/news/world_radio_and_tv\\\\\",\\\\\"selected\\\\\":false,\\\\\"hidden\\\\\":false},{\\\\\"label\\\\\":\\\\\"Newsbeat\\\\\",\\\\\"url\\\\\":\\\\\"/news/newsbeat\\\\\",\\\\\"selected\\\\\":false,\\\\\"hidden\\\\\":false}]}],\\\\\"breadcrumbs\\\\\":[],\\\\\"noJSLink\\\\\":null,\\\\\"withExpandedHitArea\\\\\":false}},\\\\\"importance\\\\\":\\\\\"SECONDARY\\\\\",\\\\\"isPersonalised\\\\\":false,\\\\\"hasFetcher\\\\\":true},\\\\\"dotcom-ad?allowAdvertising=true&enableDotcomAds=true&slot=leaderboard\\\\\":{\\\\\"name\\\\\":\\\\\"dotcom-ad\\\\\",\\\\\"props\\\\\":{\\\\\"slot\\\\\":\\\\\"leaderboard\\\\\",\\\\\"enableDotcomAds\\\\\":true,\\\\\"allowAdvertising\\\\\":true},\\\\\"data\\\\\":{},\\\\\"importance\\\\\":\\\\\"SECONDARY\\\\\",\\\\\"isPersonalised\\\\\":false,\\\\\"hasFetcher\\\\\":false},\\\\\"article?analyticsDataSource=CPS&currentPageAnalyticsDestination=NEWS_GNL&env=live&experienceComposition=%5B%22long-form%22%5D&experienceResourceId=urn%3Abbc%3Acps%3Acurie%3Aasset%3A2bc450d2-af1e-4bb8-84d4-838c2994731a&host=www.bbc.com&isAdvertisingEnabled=true&isIdt2Enabled=true&isRiddleEnabled=true&isUk=false&isUploaderEnabled=true&language=en-GB&leftAligned=true&name=news.world.asia.india.story.66851211.page&producer=NEWS&service=news&shouldSendUASEvent=true&uri=%2Fnews%2Fworld-asia-india-66851211&withTimestampBlock=false\\\\\":{\\\\\"name\\\\\":\\\\\"article\\\\\",\\\\\"props\\\\\":{\\\\\"isUploaderEnabled\\\\\":true,\\\\\"isRiddleEnabled\\\\\":true,\\\\\"isIdt2Enabled\\\\\":true,\\\\\"uri\\\\\":\\\\\"/news/world-asia-india-66851211\\\\\",\\\\\"analyticsDataSource\\\\\":\\\\\"CPS\\\\\",\\\\\"withTimestampBlock\\\\\":false,\\\\\"shouldSendUASEvent\\\\\":true,\\\\\"leftAligned\\\\\":true,\\\\\"isAdvertisingEnabled\\\\\":true,\\\\\"isUk\\\\\":false,\\\\\"service\\\\\":\\\\\"news\\\\\",\\\\\"host\\\\\":\\\\\"www.bbc.com\\\\\",\\\\\"language\\\\\":\\\\\"en-GB\\\\\",\\\\\"env\\\\\":\\\\\"live\\\\\",\\\\\"currentPageAnalyticsDestination\\\\\":\\\\\"NEWS_GNL\\\\\",\\\\\"experienceComposition\\\\\":[\\\\\"long-form\\\\\"],\\\\\"name\\\\\":\\\\\"news.world.asia.india.story.66851211.page\\\\\",\\\\\"producer\\\\\":\\\\\"NEWS\\\\\",\\\\\"experienceResourceId\\\\\":\\\\\"urn:bbc:cps:curie:asset:2bc450d2-af1e-4bb8-84d4-838c2994731a\\\\\"},\\\\\"data\\\\\":{\\\\\"metadata\\\\\":{\\\\\"id\\\\\":\\\\\"urn:bbc:ares::asset:news/world-asia-india-66851211\\\\\",\\\\\"assetId\\\\\":\\\\\"66851211\\\\\",\\\\\"curie\\\\\":\\\\\"http://www.bbc.co.uk/asset/2bc450d2-af1e-4bb8-84d4-838c2994731a\\\\\",\\\\\"locators\\\\\":{\\\\\"canonicalUrl\\\\\":\\\\\"https://www.bbc.co.uk/news/world-asia-india-66851211\\\\\"},\\\\\"seoHeadline\\\\\":\\\\\"Special session: Modi introduces women\\'s bill in new India parliament\\\\\",\\\\\"promoHeadline\\\\\":{\\\\\"blocks\\\\\":[{\\\\\"type\\\\\":\\\\\"text\\\\\",\\\\\"model\\\\\":{\\\\\"blocks\\\\\":[{\\\\\"type\\\\\":\\\\\"paragraph\\\\\",\\\\\"model\\\\\":{\\\\\"text\\\\\":\\\\\"Decades-old women MPs bill tabled before India poll\\\\\",\\\\\"blocks\\\\\":[{\\\\\"type\\\\\":\\\\\"fragment\\\\\",\\\\\"model\\\\\":{\\\\\"text\\\\\":\\\\\"Decades-old women MPs bill tabled before India poll\\\\\",\\\\\"attributes\\\\\":[]}}]}}]}}]},\\\\\"indexImage\\\\\":{\\\\\"blocks\\\\\":[{\\\\\"type\\\\\":\\\\\"altText\\\\\",\\\\\"model\\\\\":{\\\\\"blocks\\\\\":[{\\\\\"type\\\\\":\\\\\"text\\\\\",\\\\\"model\\\\\":{\\\\\"blocks\\\\\":[{\\\\\"type\\\\\":\\\\\"fragment\\\\\",\\\\\"model\\\\\":{\\\\\"text\\\\\":\\\\\"India\\'s Prime Minister Narendra Modi waits to welcome leaders of the G20 countries at the Bharat Mandapam in New Delhi on September 9, 2023. (Photo by Ludovic MARIN / POOL / AFP) (Photo by LUDOVIC MARIN/POOL/AFP via Getty Images)\\\\\",\\\\\"attributes\\\\\":[]}}]}}]}},{\\\\\"type\\\\\":\\\\\"rawImage\\\\\",\\\\\"model\\\\\":{\\\\\"height\\\\\":549,\\\\\"width\\\\\":976,\\\\\"locator\\\\\":\\\\\"2E42/production/_131124811_gettyimages-1653682262.jpg\\\\\",\\\\\"originCode\\\\\":\\\\\"cpsprodpb\\\\\",\\\\\"copyrightHolder\\\\\":\\\\\"Getty Images\\\\\"}},{\\\\\"type\\\\\":\\\\\"caption\\\\\",\\\\\"model\\\\\":{\\\\\"blocks\\\\\":[{\\\\\"type\\\\\":\\\\\"text\\\\\",\\\\\"model\\\\\":{\\\\\"blocks\\\\\":[{\\\\\"type\\\\\":\\\\\"fragment\\\\\",\\\\\"model\\\\\":{\\\\\"text\\\\\":\\\\\"PM Modi is set to walk to the new building\\\\\",\\\\\"attributes\\\\\":[]}}]}}]}}],\\\\\"alt\\\\\":\\\\\"India\\'s Prime Minister Narendra Modi waits to welcome leaders of the G20 countries at the Bharat Mandapam in New Delhi on September 9, 2023. (Photo by Ludovic MARIN / POOL / AFP) (Photo by LUDOVIC MARIN/POOL/AFP via Getty Images)\\\\\",\\\\\"originalSrc\\\\\":\\\\\"https://c.files.bbci.co.uk/2E42/production/_131124811_gettyimages-1653682262.jpg\\\\\",\\\\\"iChefRecipe\\\\\":\\\\\"https://ichef.bbci.co.uk/news/$recipe/branded_news/2E42/production/_131124811_gettyimages-1653682262.jpg\\\\\",\\\\\"width\\\\\":976,\\\\\"height\\\\\":549,\\\\\"isEditorialImage\\\\\":true},\\\\\"type\\\\\":\\\\\"STY\\\\\",\\\\\"options\\\\\":{\\\\\"isIgorSeoTagsEnabled\\\\\":false,\\\\\"includeComments\\\\\":false,\\\\\"allowRightHandSide\\\\\":true,\\\\\"isFactCheck\\\\\":false,\\\\\"allowDateStamp\\\\\":true,\\\\\"suitableForSyndication\\\\\":true,\\\\\"hasNewsTracker\\\\\":false,\\\\\"allowRelatedStoriesBox\\\\\":true,\\\\\"isKeyContent\\\\\":false,\\\\\"allowHeadline\\\\\":true,\\\\\"allowAdvertising\\\\\":true,\\\\\"hasContentWarning\\\\\":false,\\\\\"isBreakingNews\\\\\":false,\\\\\"allowPrintingSharingLinks\\\\\":true},\\\\\"languageCode\\\\\":\\\\\"en-gb\\\\\",\\\\\"assetUri\\\\\":\\\\\"/news/world-asia-india-66851211\\\\\",\\\\\"description\\\\\":\\\\\"Prime minister Modi praises bill as \\\\\\\\\\\\\"special moment\\\\\\\\\\\\\" for his country, ahead of general elections.\\\\\",\\\\\"lastUpdated\\\\\":1695134390832,\\\\\"firstPublished\\\\\":1695128245000,\\\\\"lastPublished\\\\\":1695134380000,\\\\\"analytics\\\\\":{\\\\\"page\\\\\":{\\\\\"name\\\\\":\\\\\"news.world.asia.india.story.66851211.page\\\\\",\\\\\"contentId\\\\\":\\\\\"urn:bbc:cps:curie:asset:2bc450d2-af1e-4bb8-84d4-838c2994731a\\\\\",\\\\\"section\\\\\":\\\\\"world::asia::india\\\\\",\\\\\"producer\\\\\":\\\\\"NEWS\\\\\",\\\\\"additionalProperties\\\\\":{\\\\\"custom_var_1\\\\\":\\\\\"2023-09-19T12:57:25.000Z\\\\\",\\\\\"custom_var_2\\\\\":\\\\\"2023-09-19T14:39:40.000Z\\\\\",\\\\\"custom_var_3\\\\\":\\\\\"Narendra+Modi~India+Parliament~India~Delhi~South+Asia~Asia\\\\\",\\\\\"custom_var_4\\\\\":\\\\\"103fc7e4-3a8d-491c-9a75-3c37c299d48f~1059fd6c-a631-406b-95fd-c6e0cf0f0c28~5a08f030-710f-4168-acee-67294a90fc75~65cb5b06-fd93-4667-8ce6-94373a564409~755f36fe-2126-4225-92bf-ac459c3c8832~ba90754a-9033-4e9c-990b-d1139e5070a3\\\\\",\\\\\"comments_enabled\\\\\":false,\\\\\"uploader_format\\\\\":false}}},\\\\\"site\\\\\":{\\\\\"name\\\\\":\\\\\"BBC News\\\\\",\\\\\"uri\\\\\":\\\\\"/news\\\\\"},\\\\\"consumableInPlace\\\\\":false,\\\\\"consumableOnRedButton\\\\\":true,\\\\\"consumableOnlyOnRedButton\\\\\":false,\\\\\"home\\\\\":\\\\\"http://www.bbc.co.uk/ontologies/passport/home/News\\\\\",\\\\\"urn\\\\\":\\\\\"urn:bbc:cps:curie:asset:2bc450d2-af1e-4bb8-84d4-838c2994731a\\\\\",\\\\\"blockTypes\\\\\":[\\\\\"image\\\\\",\\\\\"paragraph\\\\\",\\\\\"crosshead\\\\\",\\\\\"list\\\\\",\\\\\"listItem\\\\\",\\\\\"group\\\\\"],\\\\\"section\\\\\":{\\\\\"name\\\\\":\\\\\"India\\\\\",\\\\\"uri\\\\\":\\\\\"/news/world/asia/india\\\\\"},\\\\\"timestampRelative\\\\\":\\\\\"18 hours ago\\\\\",\\\\\"publishedDateTime\\\\\":\\\\\"2023-09-19T14:39:40.000Z\\\\\",\\\\\"translations\\\\\":{\\\\\"attribution\\\\\":\\\\\"Attribution\\\\\",\\\\\"audio\\\\\":\\\\\"Audio\\\\\",\\\\\"aroundTheBBC\\\\\":\\\\\"Around the BBC\\\\\",\\\\\"externalLinksWarningText\\\\\":\\\\\"The BBC is not responsible for the content of external sites.\\\\\",\\\\\"published\\\\\":\\\\\"Published\\\\\",\\\\\"relatedInternetLinks\\\\\":\\\\\"Related Internet Links\\\\\",\\\\\"seeAlsos\\\\\":\\\\\"More on this story\\\\\",\\\\\"socialEmbed\\\\\":{\\\\\"instagram\\\\\":{\\\\\"warningText\\\\\":null,\\\\\"linkText\\\\\":null},\\\\\"facebook\\\\\":{\\\\\"warningText\\\\\":\\\\\"The BBC is not responsible for the content of external sites.\\\\\",\\\\\"linkText\\\\\":\\\\\"View original post on Facebook\\\\\"},\\\\\"twitter\\\\\":{\\\\\"warningText\\\\\":\\\\\"The BBC is not responsible for the content of external sites.\\\\\",\\\\\"linkText\\\\\":\\\\\"View original tweet on Twitter\\\\\"},\\\\\"youtube\\\\\":{\\\\\"warningText\\\\\":\\\\\"Warning: Third party content may contain adverts\\\\\",\\\\\"linkText\\\\\":null}},\\\\\"tagList\\\\\":\\\\\"Related Topics\\\\\",\\\\\"updated\\\\\":\\\\\"Updated\\\\\",\\\\\"video\\\\\":\\\\\"Video\\\\\",\\\\\"atAGlance\\\\\":\\\\\"At a glance\\\\\",\\\\\"byline\\\\\":{\\\\\"expertise\\\\\":\\\\\"Expertise\\\\\",\\\\\"reportingFrom\\\\\":\\\\\"Reporting from\\\\\"},\\\\\"quizDataCollectionMessage\\\\\":\\\\\"What information do we collect from this quiz?\\\\\"}},\\\\\"headline\\\\\":\\\\\"Special session: Modi introduces women\\'s bill in new India parliament\\\\\",\\\\\"content\\\\\":{\\\\\"model\\\\\":{\\\\\"blocks\\\\\":[{\\\\\"type\\\\\":\\\\\"image\\\\\",\\\\\"model\\\\\":{\\\\\"caption\\\\\":{\\\\\"type\\\\\":\\\\\"text\\\\\",\\\\\"model\\\\\":{\\\\\"blocks\\\\\":[{\\\\\"type\\\\\":\\\\\"fragment\\\\\",\\\\\"model\\\\\":{\\\\\"text\\\\\":\\\\\"PM Modi is set to walk to the new building\\\\\",\\\\\"attributes\\\\\":[]}}]}},\\\\\"image\\\\\":{\\\\\"alt\\\\\":\\\\\"India\\'s Prime Minister Narendra Modi waits to welcome leaders of the G20 countries at the Bharat Mandapam in New Delhi on September 9, 2023. (Photo by Ludovic MARIN / POOL / AFP) (Photo by LUDOVIC MARIN/POOL/AFP via Getty Images)\\\\\",\\\\\"copyright\\\\\":\\\\\"Getty Images\\\\\",\\\\\"height\\\\\":549,\\\\\"width\\\\\":976,\\\\\"src\\\\\":\\\\\"https://ichef.bbci.co.uk/news/976/cpsprodpb/13BCA/production/_131124808_gettyimages-1653682262.jpg\\\\\",\\\\\"srcSet\\\\\":\\\\\"https://ichef.bbci.co.uk/news/240/cpsprodpb/13BCA/production/_131124808_gettyimages-1653682262.jpg.webp 240w, https://ichef.bbci.co.uk/news/320/cpsprodpb/13BCA/production/_131124808_gettyimages-1653682262.jpg.webp 320w, https://ichef.bbci.co.uk/news/480/cpsprodpb/13BCA/production/_131124808_gettyimages-1653682262.jpg.webp 480w, https://ichef.bbci.co.uk/news/624/cpsprodpb/13BCA/production/_131124808_gettyimages-1653682262.jpg.webp 624w, https://ichef.bbci.co.uk/news/800/cpsprodpb/13BCA/production/_131124808_gettyimages-1653682262.jpg.webp 800w, https://ichef.bbci.co.uk/news/976/cpsprodpb/13BCA/production/_131124808_gettyimages-1653682262.jpg.webp 976w\\\\\",\\\\\"mimeType\\\\\":\\\\\"image/webp\\\\\",\\\\\"fallbackSrcSets\\\\\":[{\\\\\"mimeType\\\\\":\\\\\"image/jpeg\\\\\",\\\\\"srcSet\\\\\":\\\\\"https://ichef.bbci.co.uk/news/240/cpsprodpb/13BCA/production/_131124808_gettyimages-1653682262.jpg 240w, https://ichef.bbci.co.uk/news/320/cpsprodpb/13BCA/production/_131124808_gettyimages-1653682262.jpg 320w, https://ichef.bbci.co.uk/news/480/cpsprodpb/13BCA/production/_131124808_gettyimages-1653682262.jpg 480w, https://ichef.bbci.co.uk/news/624/cpsprodpb/13BCA/production/_131124808_gettyimages-1653682262.jpg 624w, https://ichef.bbci.co.uk/news/800/cpsprodpb/13BCA/production/_131124808_gettyimages-1653682262.jpg 800w, https://ichef.bbci.co.uk/news/976/cpsprodpb/13BCA/production/_131124808_gettyimages-1653682262.jpg 976w\\\\\"}]},\\\\\"emphasiseImage\\\\\":true}},{\\\\\"type\\\\\":\\\\\"text\\\\\",\\\\\"model\\\\\":{\\\\\"blocks\\\\\":[{\\\\\"type\\\\\":\\\\\"paragraph\\\\\",\\\\\"model\\\\\":{\\\\\"text\\\\\":\\\\\"The Indian government has introduced a bill guaranteeing a third of seats for women in the lower house of parliament and state assemblies.\\\\\",\\\\\"blocks\\\\\":[{\\\\\"type\\\\\":\\\\\"fragment\\\\\",\\\\\"model\\\\\":{\\\\\"text\\\\\":\\\\\"The Indian government has introduced a bill guaranteeing a third of seats for women in the lower house of parliament and state assemblies.\\\\\",\\\\\"attributes\\\\\":[\\\\\"bold\\\\\"]}}]}}]}},{\\\\\"type\\\\\":\\\\\"text\\\\\",\\\\\"model\\\\\":{\\\\\"blocks\\\\\":[{\\\\\"type\\\\\":\\\\\"paragraph\\\\\",\\\\\"model\\\\\":{\\\\\"text\\\\\":\\\\\"The contentious bill, first proposed in 1996, has been pending for decades amid opposition from some political parties.\\\\\",\\\\\"blocks\\\\\":[{\\\\\"type\\\\\":\\\\\"fragment\\\\\",\\\\\"model\\\\\":{\\\\\"text\\\\\":\\\\\"The contentious bill, first proposed in 1996, has been pending for decades amid opposition from some political parties.\\\\\",\\\\\"attributes\\\\\":[]}}]}}]}},{\\\\\"type\\\\\":\\\\\"text\\\\\",\\\\\"model\\\\\":{\\\\\"blocks\\\\\":[{\\\\\"type\\\\\":\\\\\"paragraph\\\\\",\\\\\"model\\\\\":{\\\\\"text\\\\\":\\\\\"Its revival is expected to boost the governing Bharatiya Janata Party\\'s fortunes in general elections next May.\\\\\",\\\\\"blocks\\\\\":[{\\\\\"type\\\\\":\\\\\"fragment\\\\\",\\\\\"model\\\\\":{\\\\\"text\\\\\":\\\\\"Its revival is expected to boost the governing Bharatiya Janata Party\\'s fortunes in general elections next May.\\\\\",\\\\\"attributes\\\\\":[]}}]}}]}},{\\\\\"type\\\\\":\\\\\"text\\\\\",\\\\\"model\\\\\":{\\\\\"blocks\\\\\":[{\\\\\"type\\\\\":\\\\\"paragraph\\\\\",\\\\\"model\\\\\":{\\\\\"text\\\\\":\\\\\"The bill was tabled at the new Indian parliament\\'s first session and is still some way from becoming law.\\\\\",\\\\\"blocks\\\\\":[{\\\\\"type\\\\\":\\\\\"fragment\\\\\",\\\\\"model\\\\\":{\\\\\"text\\\\\":\\\\\"The bill was tabled at the new Indian parliament\\'s first session and is still some way from becoming law.\\\\\",\\\\\"attributes\\\\\":[]}}]}}]}},{\\\\\"type\\\\\":\\\\\"text\\\\\",\\\\\"model\\\\\":{\\\\\"blocks\\\\\":[{\\\\\"type\\\\\":\\\\\"paragraph\\\\\",\\\\\"model\\\\\":{\\\\\"text\\\\\":\\\\\"It would require the approval of both houses of parliament and a majority of state legislatures, as well as the Indian president\\'s signature.\\\\\",\\\\\"blocks\\\\\":[{\\\\\"type\\\\\":\\\\\"fragment\\\\\",\\\\\"model\\\\\":{\\\\\"text\\\\\":\\\\\"It would require the approval of both houses of parliament and a majority of state legislatures, as well as the Indian president\\'s signature.\\\\\",\\\\\"attributes\\\\\":[]}}]}}]}},{\\\\\"type\\\\\":\\\\\"text\\\\\",\\\\\"model\\\\\":{\\\\\"blocks\\\\\":[{\\\\\"type\\\\\":\\\\\"paragraph\\\\\",\\\\\"model\\\\\":{\\\\\"text\\\\\":\\\\\"Reported plans to increase the overall  number of constituencies could further complicate its implementation.\\\\\",\\\\\"blocks\\\\\":[{\\\\\"type\\\\\":\\\\\"fragment\\\\\",\\\\\"model\\\\\":{\\\\\"text\\\\\":\\\\\"Reported plans to increase the overall  number of constituencies could further complicate its implementation.\\\\\",\\\\\"attributes\\\\\":[]}}]}}]}},{\\\\\"type\\\\\":\\\\\"text\\\\\",\\\\\"model\\\\\":{\\\\\"blocks\\\\\":[{\\\\\"type\\\\\":\\\\\"paragraph\\\\\",\\\\\"model\\\\\":{\\\\\"text\\\\\":\\\\\"In his opening speech at the new parliament building, Mr Modi praised the proposed legislation and said it was a special moment for the country. \\\\\",\\\\\"blocks\\\\\":[{\\\\\"type\\\\\":\\\\\"fragment\\\\\",\\\\\"model\\\\\":{\\\\\"text\\\\\":\\\\\"In his opening speech at the new parliament building, Mr Modi praised the proposed legislation and said it was a special moment for the country. \\\\\",\\\\\"attributes\\\\\":[]}}]}}]}},{\\\\\"type\\\\\":\\\\\"text\\\\\",\\\\\"model\\\\\":{\\\\\"blocks\\\\\":[{\\\\\"type\\\\\":\\\\\"paragraph\\\\\",\\\\\"model\\\\\":{\\\\\"text\\\\\":\\\\\"\\\\\\\\\\\\\"The world understands that only talking of women-led development is not enough. This is a positive step taken on that front,\\\\\\\\\\\\\" he told politicians as he appealed to them to support the bill.\\\\\",\\\\\"blocks\\\\\":[{\\\\\"type\\\\\":\\\\\"fragment\\\\\",\\\\\"model\\\\\":{\\\\\"text\\\\\":\\\\\"\\\\\\\\\\\\\"The world understands that only talking of women-led development is not enough. This is a positive step taken on that front,\\\\\\\\\\\\\" he told politicians as he appealed to them to support the bill.\\\\\",\\\\\"attributes\\\\\":[]}}]}}]}},{\\\\\"type\\\\\":\\\\\"text\\\\\",\\\\\"model\\\\\":{\\\\\"blocks\\\\\":[{\\\\\"type\\\\\":\\\\\"paragraph\\\\\",\\\\\"model\\\\\":{\\\\\"text\\\\\":\\\\\"The PM also took a swipe at the opposition and said that the previous Congress party-led governments had failed to clear the bill when they were in power.  \\\\\",\\\\\"blocks\\\\\":[{\\\\\"type\\\\\":\\\\\"fragment\\\\\",\\\\\"model\\\\\":{\\\\\"text\\\\\":\\\\\"The PM also took a swipe at the opposition and said that the previous Congress party-led governments had failed to clear the bill when they were in power.  \\\\\",\\\\\"attributes\\\\\":[]}}]}}]}},{\\\\\"type\\\\\":\\\\\"text\\\\\",\\\\\"model\\\\\":{\\\\\"blocks\\\\\":[{\\\\\"type\\\\\":\\\\\"paragraph\\\\\",\\\\\"model\\\\\":{\\\\\"text\\\\\":\\\\\"\\\\\\\\\\\\\"There have been discussions around women\\'s reservations for years. We can say with pride that we have scripted history,\\\\\\\\\\\\\" he said. \\\\\",\\\\\"blocks\\\\\":[{\\\\\"type\\\\\":\\\\\"fragment\\\\\",\\\\\"model\\\\\":{\\\\\"text\\\\\":\\\\\"\\\\\\\\\\\\\"There have been discussions around women\\'s reservations for years. We can say with pride that we have scripted history,\\\\\\\\\\\\\" he said. \\\\\",\\\\\"attributes\\\\\":[]}}]}}]}},{\\\\\"type\\\\\":\\\\\"text\\\\\",\\\\\"model\\\\\":{\\\\\"blocks\\\\\":[{\\\\\"type\\\\\":\\\\\"paragraph\\\\\",\\\\\"model\\\\\":{\\\\\"text\\\\\":\\\\\"Mr Modi inaugurated the new parliament building in May but no business was held there until now.\\\\\",\\\\\"blocks\\\\\":[{\\\\\"type\\\\\":\\\\\"fragment\\\\\",\\\\\"model\\\\\":{\\\\\"text\\\\\":\\\\\"Mr Modi \\\\\",\\\\\"attributes\\\\\":[]}},{\\\\\"type\\\\\":\\\\\"urlLink\\\\\",\\\\\"model\\\\\":{\\\\\"text\\\\\":\\\\\"inaugurated the new parliament building\\\\\",\\\\\"locator\\\\\":\\\\\"https://www.bbc.com/news/world-asia-india-65718127\\\\\",\\\\\"blocks\\\\\":[{\\\\\"type\\\\\":\\\\\"fragment\\\\\",\\\\\"model\\\\\":{\\\\\"text\\\\\":\\\\\"inaugurated the new parliament building\\\\\",\\\\\"attributes\\\\\":[]}}]}},{\\\\\"type\\\\\":\\\\\"fragment\\\\\",\\\\\"model\\\\\":{\\\\\"text\\\\\":\\\\\" in May but no business was held there until now.\\\\\",\\\\\"attributes\\\\\":[]}}]}}]}},{\\\\\"type\\\\\":\\\\\"text\\\\\",\\\\\"model\\\\\":{\\\\\"blocks\\\\\":[{\\\\\"type\\\\\":\\\\\"paragraph\\\\\",\\\\\"model\\\\\":{\\\\\"text\\\\\":\\\\\"He called a five-day special session which began on Monday but the first day\\'s sitting was held in the old parliament building.\\\\\",\\\\\"blocks\\\\\":[{\\\\\"type\\\\\":\\\\\"fragment\\\\\",\\\\\"model\\\\\":{\\\\\"text\\\\\":\\\\\"He called a five-day special session which began on Monday but the first day\\'s sitting was held in the old parliament building.\\\\\",\\\\\"attributes\\\\\":[]}}]}}]}},{\\\\\"type\\\\\":\\\\\"text\\\\\",\\\\\"model\\\\\":{\\\\\"blocks\\\\\":[{\\\\\"type\\\\\":\\\\\"paragraph\\\\\",\\\\\"model\\\\\":{\\\\\"text\\\\\":\\\\\"On Tuesday morning, members from both houses assembled for a photo session at the old building, followed by an event commemorating parliament\\'s legacy in the Central Hall of the British-era building.\\\\\",\\\\\"blocks\\\\\":[{\\\\\"type\\\\\":\\\\\"fragment\\\\\",\\\\\"model\\\\\":{\\\\\"text\\\\\":\\\\\"On Tuesday morning, members from both houses assembled for a photo session at the old building, \\\\\",\\\\\"attributes\\\\\":[]}},{\\\\\"type\\\\\":\\\\\"urlLink\\\\\",\\\\\"model\\\\\":{\\\\\"text\\\\\":\\\\\"followed by an event commemorating parliament\\'s legacy\\\\\",\\\\\"locator\\\\\":\\\\\"https://twitter.com/ANI/status/1703697050419052547\\\\\",\\\\\"blocks\\\\\":[{\\\\\"type\\\\\":\\\\\"fragment\\\\\",\\\\\"model\\\\\":{\\\\\"text\\\\\":\\\\\"followed by an event commemorating parliament\\'s legacy\\\\\",\\\\\"attributes\\\\\":[]}}]}},{\\\\\"type\\\\\":\\\\\"fragment\\\\\",\\\\\"model\\\\\":{\\\\\"text\\\\\":\\\\\" in the Central Hall of the British-era building.\\\\\",\\\\\"attributes\\\\\":[]}}]}}]}},{\\\\\"type\\\\\":\\\\\"text\\\\\",\\\\\"model\\\\\":{\\\\\"blocks\\\\\":[{\\\\\"type\\\\\":\\\\\"paragraph\\\\\",\\\\\"model\\\\\":{\\\\\"text\\\\\":\\\\\"They then moved to the new parliament as the office of the lower house of parliament officially designated it as the Parliament House of India. \\\\\",\\\\\"blocks\\\\\":[{\\\\\"type\\\\\":\\\\\"fragment\\\\\",\\\\\"model\\\\\":{\\\\\"text\\\\\":\\\\\"They then moved to the new parliament as \\\\\",\\\\\"attributes\\\\\":[]}},{\\\\\"type\\\\\":\\\\\"urlLink\\\\\",\\\\\"model\\\\\":{\\\\\"text\\\\\":\\\\\"the office of the lower house of parliament officially designated\\\\\",\\\\\"locator\\\\\":\\\\\"https://twitter.com/DDNewslive/status/1704000388905509118\\\\\",\\\\\"blocks\\\\\":[{\\\\\"type\\\\\":\\\\\"fragment\\\\\",\\\\\"model\\\\\":{\\\\\"text\\\\\":\\\\\"the office of the lower house of parliament officially designated\\\\\",\\\\\"attributes\\\\\":[]}}]}},{\\\\\"type\\\\\":\\\\\"fragment\\\\\",\\\\\"model\\\\\":{\\\\\"text\\\\\":\\\\\" it as the Parliament House of India. \\\\\",\\\\\"attributes\\\\\":[]}}]}}]}},{\\\\\"type\\\\\":\\\\\"image\\\\\",\\\\\"model\\\\\":{\\\\\"caption\\\\\":{\\\\\"type\\\\\":\\\\\"text\\\\\",\\\\\"model\\\\\":{\\\\\"blocks\\\\\":[{\\\\\"type\\\\\":\\\\\"fragment\\\\\",\\\\\"model\\\\\":{\\\\\"text\\\\\":\\\\\"The new parliament can seat 1,272 members\\\\\",\\\\\"attributes\\\\\":[]}}]}},\\\\\"image\\\\\":{\\\\\"alt\\\\\":\\\\\"Political row\\\\\",\\\\\"copyright\\\\\":\\\\\"Government of India\\\\\",\\\\\"height\\\\\":549,\\\\\"width\\\\\":976,\\\\\"src\\\\\":\\\\\"https://ichef.bbci.co.uk/news/976/cpsprodpb/7B76/production/_129860613_newparliament3.jpg\\\\\",\\\\\"srcSet\\\\\":\\\\\"https://ichef.bbci.co.uk/news/240/cpsprodpb/7B76/production/_129860613_newparliament3.jpg.webp 240w, https://ichef.bbci.co.uk/news/320/cpsprodpb/7B76/production/_129860613_newparliament3.jpg.webp 320w, https://ichef.bbci.co.uk/news/480/cpsprodpb/7B76/production/_129860613_newparliament3.jpg.webp 480w, https://ichef.bbci.co.uk/news/624/cpsprodpb/7B76/production/_129860613_newparliament3.jpg.webp 624w, https://ichef.bbci.co.uk/news/800/cpsprodpb/7B76/production/_129860613_newparliament3.jpg.webp 800w, https://ichef.bbci.co.uk/news/976/cpsprodpb/7B76/production/_129860613_newparliament3.jpg.webp 976w\\\\\",\\\\\"mimeType\\\\\":\\\\\"image/webp\\\\\",\\\\\"fallbackSrcSets\\\\\":[{\\\\\"mimeType\\\\\":\\\\\"image/jpeg\\\\\",\\\\\"srcSet\\\\\":\\\\\"https://ichef.bbci.co.uk/news/240/cpsprodpb/7B76/production/_129860613_newparliament3.jpg 240w, https://ichef.bbci.co.uk/news/320/cpsprodpb/7B76/production/_129860613_newparliament3.jpg 320w, https://ichef.bbci.co.uk/news/480/cpsprodpb/7B76/production/_129860613_newparliament3.jpg 480w, https://ichef.bbci.co.uk/news/624/cpsprodpb/7B76/production/_129860613_newparliament3.jpg 624w, https://ichef.bbci.co.uk/news/800/cpsprodpb/7B76/production/_129860613_newparliament3.jpg 800w, https://ichef.bbci.co.uk/news/976/cpsprodpb/7B76/production/_129860613_newparliament3.jpg 976w\\\\\"}]}}},{\\\\\"type\\\\\":\\\\\"text\\\\\",\\\\\"model\\\\\":{\\\\\"blocks\\\\\":[{\\\\\"type\\\\\":\\\\\"paragraph\\\\\",\\\\\"model\\\\\":{\\\\\"text\\\\\":\\\\\"The proceedings are being held amid criticism from opposition leaders who claim that the government has not disclosed all the business that could come up during the week.\\\\\",\\\\\"blocks\\\\\":[{\\\\\"type\\\\\":\\\\\"fragment\\\\\",\\\\\"model\\\\\":{\\\\\"text\\\\\":\\\\\"The proceedings are being held amid criticism from opposition leaders who claim that the government has not disclosed all the business that could come up during the week.\\\\\",\\\\\"attributes\\\\\":[]}}]}}]}},{\\\\\"type\\\\\":\\\\\"text\\\\\",\\\\\"model\\\\\":{\\\\\"blocks\\\\\":[{\\\\\"type\\\\\":\\\\\"paragraph\\\\\",\\\\\"model\\\\\":{\\\\\"text\\\\\":\\\\\"According to the government, eight bills have been listed for discussion during the session - but this agenda could be changed or expanded during the course of the week.\\\\\",\\\\\"blocks\\\\\":[{\\\\\"type\\\\\":\\\\\"fragment\\\\\",\\\\\"model\\\\\":{\\\\\"text\\\\\":\\\\\"According to the government, eight bills have been listed for discussion during the session - but this agenda could be changed or expanded during the course of the week.\\\\\",\\\\\"attributes\\\\\":[]}}]}}]}},{\\\\\"type\\\\\":\\\\\"text\\\\\",\\\\\"model\\\\\":{\\\\\"blocks\\\\\":[{\\\\\"type\\\\\":\\\\\"paragraph\\\\\",\\\\\"model\\\\\":{\\\\\"text\\\\\":\\\\\"The new parliament building is part of the government\\'s ambitious Central Vista project in Delhi to replace colonial-era government buildings.\\\\\",\\\\\"blocks\\\\\":[{\\\\\"type\\\\\":\\\\\"fragment\\\\\",\\\\\"model\\\\\":{\\\\\"text\\\\\":\\\\\"The new parliament building is part of the government\\'s ambitious Central Vista project in Delhi to replace colonial-era government buildings.\\\\\",\\\\\"attributes\\\\\":[]}}]}}]}},{\\\\\"type\\\\\":\\\\\"text\\\\\",\\\\\"model\\\\\":{\\\\\"blocks\\\\\":[{\\\\\"type\\\\\":\\\\\"paragraph\\\\\",\\\\\"model\\\\\":{\\\\\"text\\\\\":\\\\\"Built in front of the old parliament, the new four-storey building - constructed at an estimated cost of 9.7bn rupees ($117m; Â£94m) - is much bigger and has the capacity to seat 1,272 MPs.\\\\\",\\\\\"blocks\\\\\":[{\\\\\"type\\\\\":\\\\\"fragment\\\\\",\\\\\"model\\\\\":{\\\\\"text\\\\\":\\\\\"Built in front of the old parliament, the new four-storey building - constructed at an estimated cost of 9.7bn rupees ($117m; Â£94m) - is much bigger and has the capacity to seat 1,272 MPs.\\\\\",\\\\\"attributes\\\\\":[]}}]}}]}},{\\\\\"type\\\\\":\\\\\"text\\\\\",\\\\\"model\\\\\":{\\\\\"blocks\\\\\":[{\\\\\"type\\\\\":\\\\\"paragraph\\\\\",\\\\\"model\\\\\":{\\\\\"text\\\\\":\\\\\"The Lok Sabha chamber, which will seat the lower house of the parliament, is designed in the likeness of a peacock, India\\'s national bird. The Rajya Sabha chamber, which will seat the upper house, is designed to resemble the lotus - India\\'s national flower and also Mr Modi\\'s Bharatiya Janata Party\\'s election symbol.\\\\\",\\\\\"blocks\\\\\":[{\\\\\"type\\\\\":\\\\\"fragment\\\\\",\\\\\"model\\\\\":{\\\\\"text\\\\\":\\\\\"The Lok Sabha chamber, which will seat the lower house of the parliament, is designed in the likeness of a peacock, India\\'s national bird. The Rajya Sabha chamber, which will seat the upper house, is designed to resemble the lotus - India\\'s national flower and also Mr Modi\\'s Bharatiya Janata Party\\'s election symbol.\\\\\",\\\\\"attributes\\\\\":[]}}]}}]}},{\\\\\"type\\\\\":\\\\\"text\\\\\",\\\\\"model\\\\\":{\\\\\"blocks\\\\\":[{\\\\\"type\\\\\":\\\\\"paragraph\\\\\",\\\\\"model\\\\\":{\\\\\"text\\\\\":\\\\\"The current parliament building will be converted into a museum.\\\\\",\\\\\"blocks\\\\\":[{\\\\\"type\\\\\":\\\\\"fragment\\\\\",\\\\\"model\\\\\":{\\\\\"text\\\\\":\\\\\"The current parliament building will be converted into a museum.\\\\\",\\\\\"attributes\\\\\":[]}}]}}]}},{\\\\\"type\\\\\":\\\\\"text\\\\\",\\\\\"model\\\\\":{\\\\\"blocks\\\\\":[{\\\\\"type\\\\\":\\\\\"paragraph\\\\\",\\\\\"model\\\\\":{\\\\\"text\\\\\":\\\\\"BBC News India is now on YouTube. Click here to subscribe and watch our documentaries, explainers and features.\\\\\",\\\\\"blocks\\\\\":[{\\\\\"type\\\\\":\\\\\"fragment\\\\\",\\\\\"model\\\\\":{\\\\\"text\\\\\":\\\\\"BBC News India is now on YouTube. \\\\\",\\\\\"attributes\\\\\":[\\\\\"italic\\\\\"]}},{\\\\\"type\\\\\":\\\\\"urlLink\\\\\",\\\\\"model\\\\\":{\\\\\"text\\\\\":\\\\\"Click here\\\\\",\\\\\"locator\\\\\":\\\\\"https://www.youtube.com/@bbcnewsindia\\\\\",\\\\\"blocks\\\\\":[{\\\\\"type\\\\\":\\\\\"fragment\\\\\",\\\\\"model\\\\\":{\\\\\"text\\\\\":\\\\\"Click here\\\\\",\\\\\"attributes\\\\\":[]}}]}},{\\\\\"type\\\\\":\\\\\"fragment\\\\\",\\\\\"model\\\\\":{\\\\\"text\\\\\":\\\\\" to subscribe and watch our documentaries, explainers and features.\\\\\",\\\\\"attributes\\\\\":[\\\\\"italic\\\\\"]}}]}}]}},{\\\\\"type\\\\\":\\\\\"image\\\\\",\\\\\"model\\\\\":{\\\\\"image\\\\\":{\\\\\"alt\\\\\":\\\\\"Presentational grey line\\\\\",\\\\\"copyright\\\\\":null,\\\\\"height\\\\\":2,\\\\\"width\\\\\":640,\\\\\"src\\\\\":\\\\\"https://ichef.bbci.co.uk/news/640/cpsprodpb/13E83/production/_103693518_086b2036-0a30-4a6f-a4a0-94c46832b58f.jpg\\\\\",\\\\\"srcSet\\\\\":\\\\\"https://ichef.bbci.co.uk/news/240/cpsprodpb/13E83/production/_103693518_086b2036-0a30-4a6f-a4a0-94c46832b58f.jpg.webp 240w, https://ichef.bbci.co.uk/news/320/cpsprodpb/13E83/production/_103693518_086b2036-0a30-4a6f-a4a0-94c46832b58f.jpg.webp 320w, https://ichef.bbci.co.uk/news/480/cpsprodpb/13E83/production/_103693518_086b2036-0a30-4a6f-a4a0-94c46832b58f.jpg.webp 480w, https://ichef.bbci.co.uk/news/624/cpsprodpb/13E83/production/_103693518_086b2036-0a30-4a6f-a4a0-94c46832b58f.jpg.webp 624w, https://ichef.bbci.co.uk/news/800/cpsprodpb/13E83/production/_103693518_086b2036-0a30-4a6f-a4a0-94c46832b58f.jpg.webp 800w, https://ichef.bbci.co.uk/news/976/cpsprodpb/13E83/production/_103693518_086b2036-0a30-4a6f-a4a0-94c46832b58f.jpg.webp 976w\\\\\",\\\\\"mimeType\\\\\":\\\\\"image/webp\\\\\",\\\\\"fallbackSrcSets\\\\\":[{\\\\\"mimeType\\\\\":\\\\\"image/jpeg\\\\\",\\\\\"srcSet\\\\\":\\\\\"https://ichef.bbci.co.uk/news/240/cpsprodpb/13E83/production/_103693518_086b2036-0a30-4a6f-a4a0-94c46832b58f.jpg 240w, https://ichef.bbci.co.uk/news/320/cpsprodpb/13E83/production/_103693518_086b2036-0a30-4a6f-a4a0-94c46832b58f.jpg 320w, https://ichef.bbci.co.uk/news/480/cpsprodpb/13E83/production/_103693518_086b2036-0a30-4a6f-a4a0-94c46832b58f.jpg 480w, https://ichef.bbci.co.uk/news/624/cpsprodpb/13E83/production/_103693518_086b2036-0a30-4a6f-a4a0-94c46832b58f.jpg 624w, https://ichef.bbci.co.uk/news/800/cpsprodpb/13E83/production/_103693518_086b2036-0a30-4a6f-a4a0-94c46832b58f.jpg 800w, https://ichef.bbci.co.uk/news/976/cpsprodpb/13E83/production/_103693518_086b2036-0a30-4a6f-a4a0-94c46832b58f.jpg 976w\\\\\"}]}}},{\\\\\"type\\\\\":\\\\\"subheadline\\\\\",\\\\\"model\\\\\":{\\\\\"blocks\\\\\":[{\\\\\"type\\\\\":\\\\\"text\\\\\",\\\\\"model\\\\\":{\\\\\"blocks\\\\\":[{\\\\\"type\\\\\":\\\\\"paragraph\\\\\",\\\\\"model\\\\\":{\\\\\"text\\\\\":\\\\\"Read more India stories from the BBC:\\\\\",\\\\\"blocks\\\\\":[{\\\\\"type\\\\\":\\\\\"fragment\\\\\",\\\\\"model\\\\\":{\\\\\"text\\\\\":\\\\\"Read more India stories from the BBC:\\\\\",\\\\\"attributes\\\\\":[]}}]}}]}}],\\\\\"level\\\\\":2,\\\\\"fontScale\\\\\":\\\\\"headlineSmall\\\\\",\\\\\"id\\\\\":\\\\\"Read-more-India-stories-from-the-BBC\\\\\",\\\\\"isFocusable\\\\\":true}},{\\\\\"type\\\\\":\\\\\"unorderedList\\\\\",\\\\\"model\\\\\":{\\\\\"blocks\\\\\":[{\\\\\"type\\\\\":\\\\\"listItem\\\\\",\\\\\"model\\\\\":{\\\\\"blocks\\\\\":[{\\\\\"type\\\\\":\\\\\"urlLink\\\\\",\\\\\"model\\\\\":{\\\\\"text\\\\\":\\\\\"How important are India\\'s Moon mission findings?\\\\\",\\\\\"locator\\\\\":\\\\\"https://www.bbc.co.uk/news/world-asia-india-66808808\\\\\",\\\\\"blocks\\\\\":[{\\\\\"type\\\\\":\\\\\"fragment\\\\\",\\\\\"model\\\\\":{\\\\\"text\\\\\":\\\\\"How important are India\\'s Moon mission findings?\\\\\",\\\\\"attributes\\\\\":[]}}]}}]}},{\\\\\"type\\\\\":\\\\\"listItem\\\\\",\\\\\"model\\\\\":{\\\\\"blocks\\\\\":[{\\\\\"type\\\\\":\\\\\"urlLink\\\\\",\\\\\"model\\\\\":{\\\\\"text\\\\\":\\\\\"Canada accuses India of role in Sikh leader\\'s murder\\\\\",\\\\\"locator\\\\\":\\\\\"https://www.bbc.co.uk/news/uk-66848041\\\\\",\\\\\"blocks\\\\\":[{\\\\\"type\\\\\":\\\\\"fragment\\\\\",\\\\\"model\\\\\":{\\\\\"text\\\\\":\\\\\"Canada accuses India of role in Sikh leader\\'s murder\\\\\",\\\\\"attributes\\\\\":[]}}]}}]}},{\\\\\"type\\\\\":\\\\\"listItem\\\\\",\\\\\"model\\\\\":{\\\\\"blocks\\\\\":[{\\\\\"type\\\\\":\\\\\"urlLink\\\\\",\\\\\"model\\\\\":{\\\\\"text\\\\\":\\\\\"Anger in India as Trudeau points finger over murder\\\\\",\\\\\"locator\\\\\":\\\\\"https://www.bbc.co.uk/news/world-asia-india-66851075\\\\\",\\\\\"blocks\\\\\":[{\\\\\"type\\\\\":\\\\\"fragment\\\\\",\\\\\"model\\\\\":{\\\\\"text\\\\\":\\\\\"Anger in India as Trudeau points finger over murder\\\\\",\\\\\"attributes\\\\\":[]}}]}}]}},{\\\\\"type\\\\\":\\\\\"listItem\\\\\",\\\\\"model\\\\\":{\\\\\"blocks\\\\\":[{\\\\\"type\\\\\":\\\\\"urlLink\\\\\",\\\\\"model\\\\\":{\\\\\"text\\\\\":\\\\\"India bowl out Sri Lanka for 50 and win Asia Cup\\\\\",\\\\\"locator\\\\\":\\\\\"https://www.bbc.com/sport/cricket/66837123\\\\\",\\\\\"blocks\\\\\":[{\\\\\"type\\\\\":\\\\\"fragment\\\\\",\\\\\"model\\\\\":{\\\\\"text\\\\\":\\\\\"India bowl out Sri Lanka for 50 and win Asia Cup\\\\\",\\\\\"attributes\\\\\":[]}}]}}]}},{\\\\\"type\\\\\":\\\\\"listItem\\\\\",\\\\\"model\\\\\":{\\\\\"blocks\\\\\":[{\\\\\"type\\\\\":\\\\\"urlLink\\\\\",\\\\\"model\\\\\":{\\\\\"text\\\\\":\\\\\"India calls X a \\'habitual non-compliant platform\\'\\\\\",\\\\\"locator\\\\\":\\\\\"https://www.bbc.co.uk/news/world-asia-india-66805347\\\\\",\\\\\"blocks\\\\\":[{\\\\\"type\\\\\":\\\\\"fragment\\\\\",\\\\\"model\\\\\":{\\\\\"text\\\\\":\\\\\"India calls X a \\'habitual non-compliant platform\\'\\\\\",\\\\\"attributes\\\\\":[]}}]}}]}}]}},{\\\\\"type\\\\\":\\\\\"image\\\\\",\\\\\"model\\\\\":{\\\\\"image\\\\\":{\\\\\"alt\\\\\":\\\\\"Presentational grey line\\\\\",\\\\\"copyright\\\\\":null,\\\\\"height\\\\\":2,\\\\\"width\\\\\":640,\\\\\"src\\\\\":\\\\\"https://ichef.bbci.co.uk/news/640/cpsprodpb/13E83/production/_103693518_086b2036-0a30-4a6f-a4a0-94c46832b58f.jpg\\\\\",\\\\\"srcSet\\\\\":\\\\\"https://ichef.bbci.co.uk/news/240/cpsprodpb/13E83/production/_103693518_086b2036-0a30-4a6f-a4a0-94c46832b58f.jpg.webp 240w, https://ichef.bbci.co.uk/news/320/cpsprodpb/13E83/production/_103693518_086b2036-0a30-4a6f-a4a0-94c46832b58f.jpg.webp 320w, https://ichef.bbci.co.uk/news/480/cpsprodpb/13E83/production/_103693518_086b2036-0a30-4a6f-a4a0-94c46832b58f.jpg.webp 480w, https://ichef.bbci.co.uk/news/624/cpsprodpb/13E83/production/_103693518_086b2036-0a30-4a6f-a4a0-94c46832b58f.jpg.webp 624w, https://ichef.bbci.co.uk/news/800/cpsprodpb/13E83/production/_103693518_086b2036-0a30-4a6f-a4a0-94c46832b58f.jpg.webp 800w, https://ichef.bbci.co.uk/news/976/cpsprodpb/13E83/production/_103693518_086b2036-0a30-4a6f-a4a0-94c46832b58f.jpg.webp 976w\\\\\",\\\\\"mimeType\\\\\":\\\\\"image/webp\\\\\",\\\\\"fallbackSrcSets\\\\\":[{\\\\\"mimeType\\\\\":\\\\\"image/jpeg\\\\\",\\\\\"srcSet\\\\\":\\\\\"https://ichef.bbci.co.uk/news/240/cpsprodpb/13E83/production/_103693518_086b2036-0a30-4a6f-a4a0-94c46832b58f.jpg 240w, https://ichef.bbci.co.uk/news/320/cpsprodpb/13E83/production/_103693518_086b2036-0a30-4a6f-a4a0-94c46832b58f.jpg 320w, https://ichef.bbci.co.uk/news/480/cpsprodpb/13E83/production/_103693518_086b2036-0a30-4a6f-a4a0-94c46832b58f.jpg 480w, https://ichef.bbci.co.uk/news/624/cpsprodpb/13E83/production/_103693518_086b2036-0a30-4a6f-a4a0-94c46832b58f.jpg 624w, https://ichef.bbci.co.uk/news/800/cpsprodpb/13E83/production/_103693518_086b2036-0a30-4a6f-a4a0-94c46832b58f.jpg 800w, https://ichef.bbci.co.uk/news/976/cpsprodpb/13E83/production/_103693518_086b2036-0a30-4a6f-a4a0-94c46832b58f.jpg 976w\\\\\"}]}}},{\\\\\"type\\\\\":\\\\\"topicList\\\\\",\\\\\"model\\\\\":{\\\\\"topics\\\\\":[{\\\\\"title\\\\\":\\\\\"Asia\\\\\",\\\\\"url\\\\\":\\\\\"/news/topics/c5rznn0nvvyt\\\\\",\\\\\"isEvent\\\\\":false},{\\\\\"title\\\\\":\\\\\"Narendra Modi\\\\\",\\\\\"url\\\\\":\\\\\"/news/topics/cg41ylwvgmyt\\\\\",\\\\\"isEvent\\\\\":false},{\\\\\"title\\\\\":\\\\\"Delhi\\\\\",\\\\\"url\\\\\":\\\\\"/news/topics/cmmqq736zwyt\\\\\",\\\\\"isEvent\\\\\":false},{\\\\\"title\\\\\":\\\\\"India\\\\\",\\\\\"url\\\\\":\\\\\"/news/topics/cny6mpy4mj9t\\\\\",\\\\\"isEvent\\\\\":false}]}},{\\\\\"type\\\\\":\\\\\"links\\\\\",\\\\\"model\\\\\":{\\\\\"blocks\\\\\":[{\\\\\"type\\\\\":\\\\\"link\\\\\",\\\\\"model\\\\\":{\\\\\"headline\\\\\":\\\\\"Modi opens new India parliament amid boycott\\\\\",\\\\\"image\\\\\":{\\\\\"alt\\\\\":\\\\\"Political row\\\\\",\\\\\"copyright\\\\\":\\\\\"Government of India\\\\\",\\\\\"height\\\\\":549,\\\\\"width\\\\\":976,\\\\\"src\\\\\":\\\\\"https://ichef.bbci.co.uk/news/976/cpsprodpb/7B76/production/_129860613_newparliament3.jpg\\\\\",\\\\\"srcSet\\\\\":\\\\\"https://ichef.bbci.co.uk/news/240/cpsprodpb/7B76/production/_129860613_newparliament3.jpg.webp 240w, https://ichef.bbci.co.uk/news/320/cpsprodpb/7B76/production/_129860613_newparliament3.jpg.webp 320w, https://ichef.bbci.co.uk/news/480/cpsprodpb/7B76/production/_129860613_newparliament3.jpg.webp 480w, https://ichef.bbci.co.uk/news/624/cpsprodpb/7B76/production/_129860613_newparliament3.jpg.webp 624w, https://ichef.bbci.co.uk/news/800/cpsprodpb/7B76/production/_129860613_newparliament3.jpg.webp 800w, https://ichef.bbci.co.uk/news/976/cpsprodpb/7B76/production/_129860613_newparliament3.jpg.webp 976w\\\\\",\\\\\"mimeType\\\\\":\\\\\"image/webp\\\\\",\\\\\"fallbackSrcSets\\\\\":[{\\\\\"mimeType\\\\\":\\\\\"image/jpeg\\\\\",\\\\\"srcSet\\\\\":\\\\\"https://ichef.bbci.co.uk/news/240/cpsprodpb/7B76/production/_129860613_newparliament3.jpg 240w, https://ichef.bbci.co.uk/news/320/cpsprodpb/7B76/production/_129860613_newparliament3.jpg 320w, https://ichef.bbci.co.uk/news/480/cpsprodpb/7B76/production/_129860613_newparliament3.jpg 480w, https://ichef.bbci.co.uk/news/624/cpsprodpb/7B76/production/_129860613_newparliament3.jpg 624w, https://ichef.bbci.co.uk/news/800/cpsprodpb/7B76/production/_129860613_newparliament3.jpg 800w, https://ichef.bbci.co.uk/news/976/cpsprodpb/7B76/production/_129860613_newparliament3.jpg 976w\\\\\"}]},\\\\\"metadataStripItems\\\\\":[{\\\\\"label\\\\\":\\\\\"Published\\\\\",\\\\\"text\\\\\":\\\\\"28 May\\\\\"}],\\\\\"url\\\\\":\\\\\"/news/world-asia-india-65718127\\\\\",\\\\\"service\\\\\":\\\\\"news\\\\\"}},{\\\\\"type\\\\\":\\\\\"link\\\\\",\\\\\"model\\\\\":{\\\\\"headline\\\\\":\\\\\"Tributes to India\\'s parliament at special session\\\\\",\\\\\"image\\\\\":{\\\\\"alt\\\\\":\\\\\"India\\'s Prime Minister Narendra Modi addresses the media representatives upon his arrival to attend the special session of the parliament in New Delhi on September 18, 2023.\\\\\",\\\\\"copyright\\\\\":\\\\\"Getty Images\\\\\",\\\\\"height\\\\\":549,\\\\\"width\\\\\":976,\\\\\"src\\\\\":\\\\\"https://ichef.bbci.co.uk/news/976/cpsprodpb/BC7B/production/_131115284_gettyimages-1673562423.jpg\\\\\",\\\\\"srcSet\\\\\":\\\\\"https://ichef.bbci.co.uk/news/240/cpsprodpb/BC7B/production/_131115284_gettyimages-1673562423.jpg.webp 240w, https://ichef.bbci.co.uk/news/320/cpsprodpb/BC7B/production/_131115284_gettyimages-1673562423.jpg.webp 320w, https://ichef.bbci.co.uk/news/480/cpsprodpb/BC7B/production/_131115284_gettyimages-1673562423.jpg.webp 480w, https://ichef.bbci.co.uk/news/624/cpsprodpb/BC7B/production/_131115284_gettyimages-1673562423.jpg.webp 624w, https://ichef.bbci.co.uk/news/800/cpsprodpb/BC7B/production/_131115284_gettyimages-1673562423.jpg.webp 800w, https://ichef.bbci.co.uk/news/976/cpsprodpb/BC7B/production/_131115284_gettyimages-1673562423.jpg.webp 976w\\\\\",\\\\\"mimeType\\\\\":\\\\\"image/webp\\\\\",\\\\\"fallbackSrcSets\\\\\":[{\\\\\"mimeType\\\\\":\\\\\"image/jpeg\\\\\",\\\\\"srcSet\\\\\":\\\\\"https://ichef.bbci.co.uk/news/240/cpsprodpb/BC7B/production/_131115284_gettyimages-1673562423.jpg 240w, https://ichef.bbci.co.uk/news/320/cpsprodpb/BC7B/production/_131115284_gettyimages-1673562423.jpg 320w, https://ichef.bbci.co.uk/news/480/cpsprodpb/BC7B/production/_131115284_gettyimages-1673562423.jpg 480w, https://ichef.bbci.co.uk/news/624/cpsprodpb/BC7B/production/_131115284_gettyimages-1673562423.jpg 624w, https://ichef.bbci.co.uk/news/800/cpsprodpb/BC7B/production/_131115284_gettyimages-1673562423.jpg 800w, https://ichef.bbci.co.uk/news/976/cpsprodpb/BC7B/production/_131115284_gettyimages-1673562423.jpg 976w\\\\\"}]},\\\\\"metadataStripItems\\\\\":[{\\\\\"label\\\\\":\\\\\"Published\\\\\",\\\\\"text\\\\\":\\\\\"1 day ago\\\\\"}],\\\\\"url\\\\\":\\\\\"/news/world-asia-india-66805344\\\\\",\\\\\"service\\\\\":\\\\\"news\\\\\"}}],\\\\\"isAfterContent\\\\\":true,\\\\\"title\\\\\":\\\\\"More on this story\\\\\"}}]}},\\\\\"contributor\\\\\":null,\\\\\"relatedUrls\\\\\":[],\\\\\"topics\\\\\":[{\\\\\"title\\\\\":\\\\\"Asia\\\\\",\\\\\"url\\\\\":\\\\\"/news/topics/c5rznn0nvvyt\\\\\",\\\\\"isEvent\\\\\":false},{\\\\\"title\\\\\":\\\\\"Narendra Modi\\\\\",\\\\\"url\\\\\":\\\\\"/news/topics/cg41ylwvgmyt\\\\\",\\\\\"isEvent\\\\\":false},{\\\\\"title\\\\\":\\\\\"Delhi\\\\\",\\\\\"url\\\\\":\\\\\"/news/topics/cmmqq736zwyt\\\\\",\\\\\"isEvent\\\\\":false},{\\\\\"title\\\\\":\\\\\"India\\\\\",\\\\\"url\\\\\":\\\\\"/news/topics/cny6mpy4mj9t\\\\\",\\\\\"isEvent\\\\\":false}]},\\\\\"importance\\\\\":\\\\\"PRIMARY\\\\\",\\\\\"isPersonalised\\\\\":false,\\\\\"hasFetcher\\\\\":true},\\\\\"onward-journeys?analyticsDataSource=CPS&columnsByBreakpoint=%7B%22base%22%3A1%2C%22medium%22%3A3%2C%22large%22%3A1%7D&country=us&dataType=onwardJourneys&enableDotcomAds=true&id=topStories&isUk=false&language=en-GB&limit=3&promoSize=small&region=us&sectionHeader=%7B%22text%22%3A%22Top%20Stories%22%7D&service=news&showTimestamp=true\\\\\":{\\\\\"name\\\\\":\\\\\"onward-journeys\\\\\",\\\\\"props\\\\\":{\\\\\"analyticsDataSource\\\\\":\\\\\"CPS\\\\\",\\\\\"columnsByBreakpoint\\\\\":{\\\\\"base\\\\\":1,\\\\\"medium\\\\\":3,\\\\\"large\\\\\":1},\\\\\"dataType\\\\\":\\\\\"onwardJourneys\\\\\",\\\\\"isUk\\\\\":false,\\\\\"id\\\\\":\\\\\"topStories\\\\\",\\\\\"limit\\\\\":3,\\\\\"promoSize\\\\\":\\\\\"small\\\\\",\\\\\"region\\\\\":\\\\\"us\\\\\",\\\\\"sectionHeader\\\\\":{\\\\\"text\\\\\":\\\\\"Top Stories\\\\\"},\\\\\"service\\\\\":\\\\\"news\\\\\",\\\\\"showTimestamp\\\\\":true,\\\\\"enableDotcomAds\\\\\":true,\\\\\"country\\\\\":\\\\\"us\\\\\",\\\\\"language\\\\\":\\\\\"en-GB\\\\\"},\\\\\"data\\\\\":{\\\\\"promos\\\\\":[{\\\\\"headline\\\\\":\\\\\"Ceasefire deal as Karabakh forces agree to disarm\\\\\",\\\\\"tracking\\\\\":{\\\\\"container\\\\\":\\\\\"cps_topStories\\\\\",\\\\\"label\\\\\":\\\\\"Ceasefire deal as Karabakh forces agree to disarm\\\\\",\\\\\"url\\\\\":\\\\\"/news/world-europe-66863702\\\\\",\\\\\"source\\\\\":\\\\\"news\\\\\",\\\\\"metadata\\\\\":{\\\\\"PAR\\\\\":\\\\\"cps_topStories::1\\\\\",\\\\\"CHD\\\\\":\\\\\"promo::1\\\\\",\\\\\"EXT\\\\\":0},\\\\\"group\\\\\":{\\\\\"name\\\\\":\\\\\"CPS Top Stories\\\\\",\\\\\"type\\\\\":\\\\\"promo group\\\\\",\\\\\"item_count\\\\\":3},\\\\\"item\\\\\":{\\\\\"type\\\\\":\\\\\"promo\\\\\",\\\\\"link\\\\\":\\\\\"/news/world-europe-66863702\\\\\",\\\\\"text\\\\\":\\\\\"Ceasefire deal as Karabakh forces agree to disarm\\\\\",\\\\\"media_type\\\\\":\\\\\"article\\\\\",\\\\\"attribution\\\\\":\\\\\"news\\\\\",\\\\\"position\\\\\":1}},\\\\\"metadataStripItems\\\\\":[{\\\\\"label\\\\\":\\\\\"Published\\\\\",\\\\\"text\\\\\":\\\\\"9 minutes ago\\\\\"}],\\\\\"url\\\\\":\\\\\"/news/world-europe-66863702\\\\\",\\\\\"service\\\\\":\\\\\"news\\\\\"},{\\\\\"headline\\\\\":\\\\\"US child dies from fentanyl kept under nursery mat\\\\\",\\\\\"tracking\\\\\":{\\\\\"container\\\\\":\\\\\"cps_topStories\\\\\",\\\\\"label\\\\\":\\\\\"US child dies from fentanyl kept under nursery mat\\\\\",\\\\\"url\\\\\":\\\\\"/news/world-us-canada-66861588\\\\\",\\\\\"source\\\\\":\\\\\"news\\\\\",\\\\\"metadata\\\\\":{\\\\\"PAR\\\\\":\\\\\"cps_topStories::1\\\\\",\\\\\"CHD\\\\\":\\\\\"promo::2\\\\\",\\\\\"EXT\\\\\":0},\\\\\"group\\\\\":{\\\\\"name\\\\\":\\\\\"CPS Top Stories\\\\\",\\\\\"type\\\\\":\\\\\"promo group\\\\\",\\\\\"item_count\\\\\":3},\\\\\"item\\\\\":{\\\\\"type\\\\\":\\\\\"promo\\\\\",\\\\\"link\\\\\":\\\\\"/news/world-us-canada-66861588\\\\\",\\\\\"text\\\\\":\\\\\"US child dies from fentanyl kept under nursery mat\\\\\",\\\\\"media_type\\\\\":\\\\\"article\\\\\",\\\\\"attribution\\\\\":\\\\\"news\\\\\",\\\\\"position\\\\\":2}},\\\\\"metadataStripItems\\\\\":[{\\\\\"label\\\\\":\\\\\"Published\\\\\",\\\\\"text\\\\\":\\\\\"1 hour ago\\\\\"}],\\\\\"url\\\\\":\\\\\"/news/world-us-canada-66861588\\\\\",\\\\\"service\\\\\":\\\\\"news\\\\\"},{\\\\\"headline\\\\\":\\\\\"Musk woos world leaders, courting controversy\\\\\",\\\\\"tracking\\\\\":{\\\\\"container\\\\\":\\\\\"cps_topStories\\\\\",\\\\\"label\\\\\":\\\\\"Musk woos world leaders, courting controversy\\\\\",\\\\\"url\\\\\":\\\\\"/news/world-us-canada-66777096\\\\\",\\\\\"source\\\\\":\\\\\"news\\\\\",\\\\\"metadata\\\\\":{\\\\\"PAR\\\\\":\\\\\"cps_topStories::1\\\\\",\\\\\"CHD\\\\\":\\\\\"promo::3\\\\\",\\\\\"EXT\\\\\":0},\\\\\"group\\\\\":{\\\\\"name\\\\\":\\\\\"CPS Top Stories\\\\\",\\\\\"type\\\\\":\\\\\"promo group\\\\\",\\\\\"item_count\\\\\":3},\\\\\"item\\\\\":{\\\\\"type\\\\\":\\\\\"promo\\\\\",\\\\\"link\\\\\":\\\\\"/news/world-us-canada-66777096\\\\\",\\\\\"text\\\\\":\\\\\"Musk woos world leaders, courting controversy\\\\\",\\\\\"media_type\\\\\":\\\\\"article\\\\\",\\\\\"attribution\\\\\":\\\\\"news\\\\\",\\\\\"position\\\\\":3}},\\\\\"metadataStripItems\\\\\":[{\\\\\"label\\\\\":\\\\\"Published\\\\\",\\\\\"text\\\\\":\\\\\"10 hours ago\\\\\"}],\\\\\"url\\\\\":\\\\\"/news/world-us-canada-66777096\\\\\",\\\\\"service\\\\\":\\\\\"news\\\\\"}],\\\\\"sectionHeader\\\\\":\\\\\"Top Stories\\\\\"},\\\\\"importance\\\\\":\\\\\"SECONDARY\\\\\",\\\\\"isPersonalised\\\\\":false,\\\\\"hasFetcher\\\\\":true},\\\\\"onward-journeys-experimental?experienceResourceId=urn%3Abbc%3Acps%3Acurie%3Aasset%3A2bc450d2-af1e-4bb8-84d4-838c2994731a&isExperimentEnabled=false\\\\\":{\\\\\"name\\\\\":\\\\\"onward-journeys-experimental\\\\\",\\\\\"props\\\\\":{\\\\\"isExperimentEnabled\\\\\":false,\\\\\"experienceResourceId\\\\\":\\\\\"urn:bbc:cps:curie:asset:2bc450d2-af1e-4bb8-84d4-838c2994731a\\\\\"},\\\\\"data\\\\\":{},\\\\\"importance\\\\\":\\\\\"SECONDARY\\\\\",\\\\\"isPersonalised\\\\\":false,\\\\\"hasFetcher\\\\\":false},\\\\\"onward-journeys?analyticsDataSource=CPS&columnsByBreakpoint=%7B%22base%22%3A2%2C%22medium%22%3A3%2C%22large%22%3A1%7D&country=us&dataType=onwardJourneys&enableDotcomAds=true&id=features&insertAdSlotAtIndex=3&isUk=false&language=en-GB&limit=9&region=us&section=%2Fnews%2Fworld%2Fasia%2Findia&sectionHeader=%7B%22text%22%3A%22Features%22%7D&service=news&showImage=true&showLoadingState=false\\\\\":{\\\\\"name\\\\\":\\\\\"onward-journeys\\\\\",\\\\\"props\\\\\":{\\\\\"analyticsDataSource\\\\\":\\\\\"CPS\\\\\",\\\\\"columnsByBreakpoint\\\\\":{\\\\\"base\\\\\":2,\\\\\"medium\\\\\":3,\\\\\"large\\\\\":1},\\\\\"dataType\\\\\":\\\\\"onwardJourneys\\\\\",\\\\\"isUk\\\\\":false,\\\\\"id\\\\\":\\\\\"features\\\\\",\\\\\"insertAdSlotAtIndex\\\\\":3,\\\\\"limit\\\\\":9,\\\\\"region\\\\\":\\\\\"us\\\\\",\\\\\"section\\\\\":\\\\\"/news/world/asia/india\\\\\",\\\\\"sectionHeader\\\\\":{\\\\\"text\\\\\":\\\\\"Features\\\\\"},\\\\\"service\\\\\":\\\\\"news\\\\\",\\\\\"showImage\\\\\":true,\\\\\"showLoadingState\\\\\":false,\\\\\"enableDotcomAds\\\\\":true,\\\\\"country\\\\\":\\\\\"us\\\\\",\\\\\"language\\\\\":\\\\\"en-GB\\\\\"},\\\\\"data\\\\\":{\\\\\"promos\\\\\":[{\\\\\"headline\\\\\":\\\\\"Why has fighting broken out in Nagorno-Karabakh?\\\\\",\\\\\"image\\\\\":{\\\\\"alt\\\\\":\\\\\"Damage to residential buildings and vehicles during the latest fighting\\\\\",\\\\\"height\\\\\":216,\\\\\"src\\\\\":\\\\\"https://ichef.bbci.co.uk/news/385/cpsprodpb/0426/production/_131126010_nagornocar.jpg\\\\\",\\\\\"width\\\\\":385},\\\\\"tracking\\\\\":{\\\\\"container\\\\\":\\\\\"cps_features\\\\\",\\\\\"label\\\\\":\\\\\"Why has fighting broken out in Nagorno-Karabakh?\\\\\",\\\\\"url\\\\\":\\\\\"/news/world-europe-66852070\\\\\",\\\\\"source\\\\\":\\\\\"news\\\\\",\\\\\"metadata\\\\\":{\\\\\"PAR\\\\\":\\\\\"cps_features::1\\\\\",\\\\\"CHD\\\\\":\\\\\"promo::1\\\\\",\\\\\"EXT\\\\\":0},\\\\\"group\\\\\":{\\\\\"name\\\\\":\\\\\"CPS Features\\\\\",\\\\\"type\\\\\":\\\\\"promo group\\\\\",\\\\\"item_count\\\\\":9},\\\\\"item\\\\\":{\\\\\"type\\\\\":\\\\\"promo\\\\\",\\\\\"link\\\\\":\\\\\"/news/world-europe-66852070\\\\\",\\\\\"text\\\\\":\\\\\"Why has fighting broken out in Nagorno-Karabakh?\\\\\",\\\\\"media_type\\\\\":\\\\\"article\\\\\",\\\\\"attribution\\\\\":\\\\\"news\\\\\",\\\\\"position\\\\\":1}},\\\\\"metadataStripItems\\\\\":[],\\\\\"url\\\\\":\\\\\"/news/world-europe-66852070\\\\\",\\\\\"service\\\\\":\\\\\"news\\\\\"},{\\\\\"headline\\\\\":\\\\\"A haunted Australia stares down bushfire disaster again\\\\\",\\\\\"image\\\\\":{\\\\\"alt\\\\\":\\\\\"A firefighter silhouetted against a blaze\\\\\",\\\\\"height\\\\\":216,\\\\\"src\\\\\":\\\\\"https://ichef.bbci.co.uk/news/385/cpsprodpb/11334/production/_131125407_87cbf5fa36ecf4eb0229d2b4a9871f2fdbea0fb90_0_5568_37121000x667.jpg\\\\\",\\\\\"width\\\\\":385},\\\\\"tracking\\\\\":{\\\\\"container\\\\\":\\\\\"cps_features\\\\\",\\\\\"label\\\\\":\\\\\"A haunted Australia stares down bushfire disaster again\\\\\",\\\\\"url\\\\\":\\\\\"https://www.bbc.com/news/world-australia-66793592\\\\\",\\\\\"source\\\\\":\\\\\"news\\\\\",\\\\\"metadata\\\\\":{\\\\\"PAR\\\\\":\\\\\"cps_features::1\\\\\",\\\\\"CHD\\\\\":\\\\\"promo::2\\\\\",\\\\\"EXT\\\\\":0},\\\\\"group\\\\\":{\\\\\"name\\\\\":\\\\\"CPS Features\\\\\",\\\\\"type\\\\\":\\\\\"promo group\\\\\",\\\\\"item_count\\\\\":9},\\\\\"item\\\\\":{\\\\\"type\\\\\":\\\\\"promo\\\\\",\\\\\"link\\\\\":\\\\\"https://www.bbc.com/news/world-australia-66793592\\\\\",\\\\\"text\\\\\":\\\\\"A haunted Australia stares down bushfire disaster again\\\\\",\\\\\"media_type\\\\\":\\\\\"link\\\\\",\\\\\"attribution\\\\\":\\\\\"news\\\\\",\\\\\"position\\\\\":2}},\\\\\"metadataStripItems\\\\\":[],\\\\\"url\\\\\":\\\\\"https://www.bbc.com/news/world-australia-66793592\\\\\",\\\\\"service\\\\\":\\\\\"news\\\\\"},{\\\\\"headline\\\\\":\\\\\"Musk woos world leaders, courting controversy\\\\\",\\\\\"image\\\\\":{\\\\\"alt\\\\\":\\\\\"From left: Recep Tayyip Erdogan, Emmanuel Macron, Benjamin Netanyahu, Elon Musk\\\\\",\\\\\"height\\\\\":216,\\\\\"src\\\\\":\\\\\"https://ichef.bbci.co.uk/news/385/cpsprodpb/109AD/production/_131131086_06_elon_musk_index_image_976x549.png\\\\\",\\\\\"width\\\\\":385},\\\\\"tracking\\\\\":{\\\\\"container\\\\\":\\\\\"cps_features\\\\\",\\\\\"label\\\\\":\\\\\"Musk woos world leaders, courting controversy\\\\\",\\\\\"url\\\\\":\\\\\"/news/world-us-canada-66777096\\\\\",\\\\\"source\\\\\":\\\\\"news\\\\\",\\\\\"metadata\\\\\":{\\\\\"PAR\\\\\":\\\\\"cps_features::1\\\\\",\\\\\"CHD\\\\\":\\\\\"promo::3\\\\\",\\\\\"EXT\\\\\":0},\\\\\"group\\\\\":{\\\\\"name\\\\\":\\\\\"CPS Features\\\\\",\\\\\"type\\\\\":\\\\\"promo group\\\\\",\\\\\"item_count\\\\\":9},\\\\\"item\\\\\":{\\\\\"type\\\\\":\\\\\"promo\\\\\",\\\\\"link\\\\\":\\\\\"/news/world-us-canada-66777096\\\\\",\\\\\"text\\\\\":\\\\\"Musk woos world leaders, courting controversy\\\\\",\\\\\"media_type\\\\\":\\\\\"article\\\\\",\\\\\"attribution\\\\\":\\\\\"news\\\\\",\\\\\"position\\\\\":3}},\\\\\"metadataStripItems\\\\\":[],\\\\\"url\\\\\":\\\\\"/news/world-us-canada-66777096\\\\\",\\\\\"service\\\\\":\\\\\"news\\\\\"},{\\\\\"headline\\\\\":\\\\\"\\'I was in Iran\\'s police - then joined protesters\\'\\\\\",\\\\\"image\\\\\":{\\\\\"alt\\\\\":\\\\\"Omid Moradi\\\\\",\\\\\"height\\\\\":216,\\\\\"src\\\\\":\\\\\"https://ichef.bbci.co.uk/news/385/cpsprodpb/01C4/production/_131125400_whatsappimage2023-08-23at12.50.50pm.jpg\\\\\",\\\\\"width\\\\\":385},\\\\\"tracking\\\\\":{\\\\\"container\\\\\":\\\\\"cps_features\\\\\",\\\\\"label\\\\\":\\\\\"\\'I was in Iran\\'s police - then joined protesters\\'\\\\\",\\\\\"url\\\\\":\\\\\"/news/world-middle-east-66817873\\\\\",\\\\\"source\\\\\":\\\\\"news\\\\\",\\\\\"metadata\\\\\":{\\\\\"PAR\\\\\":\\\\\"cps_features::1\\\\\",\\\\\"CHD\\\\\":\\\\\"promo::4\\\\\",\\\\\"EXT\\\\\":0},\\\\\"group\\\\\":{\\\\\"name\\\\\":\\\\\"CPS Features\\\\\",\\\\\"type\\\\\":\\\\\"promo group\\\\\",\\\\\"item_count\\\\\":9},\\\\\"item\\\\\":{\\\\\"type\\\\\":\\\\\"promo\\\\\",\\\\\"link\\\\\":\\\\\"/news/world-middle-east-66817873\\\\\",\\\\\"text\\\\\":\\\\\"\\'I was in Iran\\'s police - then joined protesters\\'\\\\\",\\\\\"media_type\\\\\":\\\\\"article\\\\\",\\\\\"attribution\\\\\":\\\\\"news\\\\\",\\\\\"position\\\\\":4}},\\\\\"metadataStripItems\\\\\":[],\\\\\"url\\\\\":\\\\\"/news/world-middle-east-66817873\\\\\",\\\\\"service\\\\\":\\\\\"news\\\\\"},{\\\\\"headline\\\\\":\\\\\"Forget LA â\\x80\\x93 itâ\\x80\\x99s British film studios that are in demand\\\\\",\\\\\"image\\\\\":{\\\\\"alt\\\\\":\\\\\"Margot Robbie on set in the Barbie movie\\\\\",\\\\\"height\\\\\":216,\\\\\"src\\\\\":\\\\\"https://ichef.bbci.co.uk/news/385/cpsprodpb/17D6B/production/_131134679_rev-1-bar-tt2-004_high_res_jpeg-63.jpg\\\\\",\\\\\"width\\\\\":385},\\\\\"tracking\\\\\":{\\\\\"container\\\\\":\\\\\"cps_features\\\\\",\\\\\"label\\\\\":\\\\\"Forget LA â\\x80\\x93 itâ\\x80\\x99s British film studios that are in demand\\\\\",\\\\\"url\\\\\":\\\\\"/news/business-66841602\\\\\",\\\\\"source\\\\\":\\\\\"news\\\\\",\\\\\"metadata\\\\\":{\\\\\"PAR\\\\\":\\\\\"cps_features::1\\\\\",\\\\\"CHD\\\\\":\\\\\"promo::5\\\\\",\\\\\"EXT\\\\\":0},\\\\\"group\\\\\":{\\\\\"name\\\\\":\\\\\"CPS Features\\\\\",\\\\\"type\\\\\":\\\\\"promo group\\\\\",\\\\\"item_count\\\\\":9},\\\\\"item\\\\\":{\\\\\"type\\\\\":\\\\\"promo\\\\\",\\\\\"link\\\\\":\\\\\"/news/business-66841602\\\\\",\\\\\"text\\\\\":\\\\\"Forget LA â\\x80\\x93 itâ\\x80\\x99s British film studios that are in demand\\\\\",\\\\\"media_type\\\\\":\\\\\"article\\\\\",\\\\\"attribution\\\\\":\\\\\"news\\\\\",\\\\\"position\\\\\":5}},\\\\\"metadataStripItems\\\\\":[],\\\\\"url\\\\\":\\\\\"/news/business-66841602\\\\\",\\\\\"service\\\\\":\\\\\"news\\\\\"},{\\\\\"headline\\\\\":\\\\\"Russia superyacht symbolises challenge of seizing assets\\\\\",\\\\\"image\\\\\":{\\\\\"alt\\\\\":\\\\\"The Alfa Nero superyacht moored in Antigua\\'s Falmouth Harbour\\\\\",\\\\\"height\\\\\":216,\\\\\"src\\\\\":\\\\\"https://ichef.bbci.co.uk/news/385/cpsprodpb/DD43/production/_131134665_alfanero.jpg\\\\\",\\\\\"width\\\\\":385},\\\\\"tracking\\\\\":{\\\\\"container\\\\\":\\\\\"cps_features\\\\\",\\\\\"label\\\\\":\\\\\"Russia superyacht symbolises challenge of seizing assets\\\\\",\\\\\"url\\\\\":\\\\\"/news/world-europe-66818492\\\\\",\\\\\"source\\\\\":\\\\\"news\\\\\",\\\\\"metadata\\\\\":{\\\\\"PAR\\\\\":\\\\\"cps_features::1\\\\\",\\\\\"CHD\\\\\":\\\\\"promo::6\\\\\",\\\\\"EXT\\\\\":0},\\\\\"group\\\\\":{\\\\\"name\\\\\":\\\\\"CPS Features\\\\\",\\\\\"type\\\\\":\\\\\"promo group\\\\\",\\\\\"item_count\\\\\":9},\\\\\"item\\\\\":{\\\\\"type\\\\\":\\\\\"promo\\\\\",\\\\\"link\\\\\":\\\\\"/news/world-europe-66818492\\\\\",\\\\\"text\\\\\":\\\\\"Russia superyacht symbolises challenge of seizing assets\\\\\",\\\\\"media_type\\\\\":\\\\\"article\\\\\",\\\\\"attribution\\\\\":\\\\\"news\\\\\",\\\\\"position\\\\\":6}},\\\\\"metadataStripItems\\\\\":[],\\\\\"url\\\\\":\\\\\"/news/world-europe-66818492\\\\\",\\\\\"service\\\\\":\\\\\"news\\\\\"},{\\\\\"headline\\\\\":\\\\\"How I rewired my brain in six weeks\\\\\",\\\\\"image\\\\\":{\\\\\"alt\\\\\":\\\\\"A woman stands in a flowering meadow with her eyes closed\\\\\",\\\\\"height\\\\\":216,\\\\\"src\\\\\":\\\\\"https://ichef.bbci.co.uk/news/385/cpsprodpb/30A4/production/_131125421_brain-rewiring.jpg\\\\\",\\\\\"width\\\\\":385},\\\\\"tracking\\\\\":{\\\\\"container\\\\\":\\\\\"cps_features\\\\\",\\\\\"label\\\\\":\\\\\"How I rewired my brain in six weeks\\\\\",\\\\\"url\\\\\":\\\\\"https://www.bbc.com/future/article/20230912-how-i-hacked-my-brain?utm_source=bbc-news&utm_medium=right-hand-slot\\\\\",\\\\\"source\\\\\":\\\\\"future\\\\\",\\\\\"metadata\\\\\":{\\\\\"PAR\\\\\":\\\\\"cps_features::1\\\\\",\\\\\"CHD\\\\\":\\\\\"promo::7\\\\\",\\\\\"EXT\\\\\":0},\\\\\"group\\\\\":{\\\\\"name\\\\\":\\\\\"CPS Features\\\\\",\\\\\"type\\\\\":\\\\\"promo group\\\\\",\\\\\"item_count\\\\\":9},\\\\\"item\\\\\":{\\\\\"type\\\\\":\\\\\"promo\\\\\",\\\\\"link\\\\\":\\\\\"https://www.bbc.com/future/article/20230912-how-i-hacked-my-brain?utm_source=bbc-news&utm_medium=right-hand-slot\\\\\",\\\\\"text\\\\\":\\\\\"How I rewired my brain in six weeks\\\\\",\\\\\"media_type\\\\\":\\\\\"link\\\\\",\\\\\"attribution\\\\\":\\\\\"future\\\\\",\\\\\"position\\\\\":7}},\\\\\"metadataStripItems\\\\\":[],\\\\\"url\\\\\":\\\\\"https://www.bbc.com/future/article/20230912-how-i-hacked-my-brain?utm_source=bbc-news&utm_medium=right-hand-slot\\\\\",\\\\\"service\\\\\":\\\\\"bbc\\\\\"},{\\\\\"headline\\\\\":\\\\\"Why Western nations fear India-Canada row\\\\\",\\\\\"image\\\\\":{\\\\\"alt\\\\\":\\\\\"Rishi Sunak and Joe Biden\\\\\",\\\\\"height\\\\\":216,\\\\\"src\\\\\":\\\\\"https://ichef.bbci.co.uk/news/385/cpsprodpb/EBE8/production/_131129306_sunak_biden_getty.png\\\\\",\\\\\"width\\\\\":385},\\\\\"tracking\\\\\":{\\\\\"container\\\\\":\\\\\"cps_features\\\\\",\\\\\"label\\\\\":\\\\\"Why Western nations fear India-Canada row\\\\\",\\\\\"url\\\\\":\\\\\"/news/world-us-canada-66856568\\\\\",\\\\\"source\\\\\":\\\\\"news\\\\\",\\\\\"metadata\\\\\":{\\\\\"PAR\\\\\":\\\\\"cps_features::1\\\\\",\\\\\"CHD\\\\\":\\\\\"promo::8\\\\\",\\\\\"EXT\\\\\":0},\\\\\"group\\\\\":{\\\\\"name\\\\\":\\\\\"CPS Features\\\\\",\\\\\"type\\\\\":\\\\\"promo group\\\\\",\\\\\"item_count\\\\\":9},\\\\\"item\\\\\":{\\\\\"type\\\\\":\\\\\"promo\\\\\",\\\\\"link\\\\\":\\\\\"/news/world-us-canada-66856568\\\\\",\\\\\"text\\\\\":\\\\\"Why Western nations fear India-Canada row\\\\\",\\\\\"media_type\\\\\":\\\\\"article\\\\\",\\\\\"attribution\\\\\":\\\\\"news\\\\\",\\\\\"position\\\\\":8}},\\\\\"metadataStripItems\\\\\":[],\\\\\"url\\\\\":\\\\\"/news/world-us-canada-66856568\\\\\",\\\\\"service\\\\\":\\\\\"news\\\\\"},{\\\\\"headline\\\\\":\\\\\"Ghanaian man who fought slavery celebrated in the UK\\\\\",\\\\\"image\\\\\":{\\\\\"alt\\\\\":\\\\\"Ottobah Cugoano in a painting by Richard Cosway in 1784\\\\\",\\\\\"height\\\\\":216,\\\\\"src\\\\\":\\\\\"https://ichef.bbci.co.uk/news/385/cpsprodpb/69A2/production/_131124072_crop976_2.jpg\\\\\",\\\\\"width\\\\\":385},\\\\\"tracking\\\\\":{\\\\\"container\\\\\":\\\\\"cps_features\\\\\",\\\\\"label\\\\\":\\\\\"Ghanaian man who fought slavery celebrated in the UK\\\\\",\\\\\"url\\\\\":\\\\\"/news/world-africa-66787944\\\\\",\\\\\"source\\\\\":\\\\\"news\\\\\",\\\\\"metadata\\\\\":{\\\\\"PAR\\\\\":\\\\\"cps_features::1\\\\\",\\\\\"CHD\\\\\":\\\\\"promo::9\\\\\",\\\\\"EXT\\\\\":0},\\\\\"group\\\\\":{\\\\\"name\\\\\":\\\\\"CPS Features\\\\\",\\\\\"type\\\\\":\\\\\"promo group\\\\\",\\\\\"item_count\\\\\":9},\\\\\"item\\\\\":{\\\\\"type\\\\\":\\\\\"promo\\\\\",\\\\\"link\\\\\":\\\\\"/news/world-africa-66787944\\\\\",\\\\\"text\\\\\":\\\\\"Ghanaian man who fought slavery celebrated in the UK\\\\\",\\\\\"media_type\\\\\":\\\\\"article\\\\\",\\\\\"attribution\\\\\":\\\\\"news\\\\\",\\\\\"position\\\\\":9}},\\\\\"metadataStripItems\\\\\":[],\\\\\"url\\\\\":\\\\\"/news/world-africa-66787944\\\\\",\\\\\"service\\\\\":\\\\\"news\\\\\"}],\\\\\"sectionHeader\\\\\":\\\\\"Features\\\\\"},\\\\\"importance\\\\\":\\\\\"SECONDARY\\\\\",\\\\\"isPersonalised\\\\\":false,\\\\\"hasFetcher\\\\\":true},\\\\\"onward-journeys?analyticsDataSource=CPS&columnsByBreakpoint=%7B%22base%22%3A2%2C%22medium%22%3A3%2C%22large%22%3A1%7D&country=us&dataType=contentSummaries&enableDotcomAds=true&id=elsewhere&isUk=false&language=en-GB&limit=4&region=us&sectionHeader=%7B%22text%22%3A%22Elsewhere%20on%20the%20BBC%22%7D&service=news&showDescription=true&showImage=true&showLoadingState=false&urn=urn%3Abbc%3Acps%3Acurie%3Aasset%3A6b29b3bc-3068-4fa0-88aa-86174f0b5249\\\\\":{\\\\\"name\\\\\":\\\\\"onward-journeys\\\\\",\\\\\"props\\\\\":{\\\\\"analyticsDataSource\\\\\":\\\\\"CPS\\\\\",\\\\\"columnsByBreakpoint\\\\\":{\\\\\"base\\\\\":2,\\\\\"medium\\\\\":3,\\\\\"large\\\\\":1},\\\\\"dataType\\\\\":\\\\\"contentSummaries\\\\\",\\\\\"isUk\\\\\":false,\\\\\"id\\\\\":\\\\\"elsewhere\\\\\",\\\\\"limit\\\\\":4,\\\\\"region\\\\\":\\\\\"us\\\\\",\\\\\"sectionHeader\\\\\":{\\\\\"text\\\\\":\\\\\"Elsewhere on the BBC\\\\\"},\\\\\"service\\\\\":\\\\\"news\\\\\",\\\\\"showDescription\\\\\":true,\\\\\"showImage\\\\\":true,\\\\\"showLoadingState\\\\\":false,\\\\\"urn\\\\\":\\\\\"urn:bbc:cps:curie:asset:6b29b3bc-3068-4fa0-88aa-86174f0b5249\\\\\",\\\\\"enableDotcomAds\\\\\":true,\\\\\"country\\\\\":\\\\\"us\\\\\",\\\\\"language\\\\\":\\\\\"en-GB\\\\\"},\\\\\"data\\\\\":{\\\\\"promos\\\\\":[{\\\\\"headline\\\\\":\\\\\"The \\'most British of French resorts\\'\\\\\",\\\\\"image\\\\\":{\\\\\"alt\\\\\":\\\\\"stores\\\\\",\\\\\"src\\\\\":\\\\\"https://ichef.bbci.co.uk/ace/standard/480/cpsprodpb/5699/production/_131096122_the\\'mostbritishoffrenchresorts\\'.jpg\\\\\",\\\\\"height\\\\\":216,\\\\\"width\\\\\":385},\\\\\"isLive\\\\\":false,\\\\\"tracking\\\\\":{\\\\\"container\\\\\":\\\\\"cps_elsewhere_urn:bbc:cps:curie:asset:6b29b3bc-3068-4fa0-88aa-86174f0b5249\\\\\",\\\\\"label\\\\\":\\\\\"The \\'most British of French resorts\\'\\\\\",\\\\\"url\\\\\":\\\\\"https://www.bbc.com/travel/article/20230907-le-touquet-the-most-british-of-french-resorts\\\\\",\\\\\"source\\\\\":\\\\\"travel\\\\\",\\\\\"metadata\\\\\":{\\\\\"PAR\\\\\":\\\\\"cps_elsewhere_urn:bbc:cps:curie:asset:6b29b3bc-3068-4fa0-88aa-86174f0b5249::1\\\\\",\\\\\"CHD\\\\\":\\\\\"promo::1\\\\\",\\\\\"EXT\\\\\":0},\\\\\"group\\\\\":{\\\\\"name\\\\\":\\\\\"CPS Elsewhere on the BBC\\\\\",\\\\\"type\\\\\":\\\\\"promo group\\\\\",\\\\\"item_count\\\\\":3,\\\\\"resource_id\\\\\":\\\\\"urn:bbc:cps:curie:asset:6b29b3bc-3068-4fa0-88aa-86174f0b5249\\\\\"},\\\\\"item\\\\\":{\\\\\"type\\\\\":\\\\\"promo\\\\\",\\\\\"link\\\\\":\\\\\"https://www.bbc.com/travel/article/20230907-le-touquet-the-most-british-of-french-resorts\\\\\",\\\\\"text\\\\\":\\\\\"The \\'most British of French resorts\\'\\\\\",\\\\\"media_type\\\\\":\\\\\"link\\\\\",\\\\\"attribution\\\\\":\\\\\"travel\\\\\",\\\\\"position\\\\\":1,\\\\\"resource_id\\\\\":\\\\\"urn:bbc:cps:curie:asset:6b29b3bc-3068-4fa0-88aa-86174f0b5249:1\\\\\"}},\\\\\"url\\\\\":\\\\\"https://www.bbc.com/travel/article/20230907-le-touquet-the-most-british-of-french-resorts\\\\\",\\\\\"service\\\\\":\\\\\"bbc\\\\\"},{\\\\\"headline\\\\\":\\\\\"How expensive is Burning Man?\\\\\",\\\\\"image\\\\\":{\\\\\"alt\\\\\":\\\\\"woman on bike\\\\\",\\\\\"src\\\\\":\\\\\"https://ichef.bbci.co.uk/ace/standard/480/cpsprodpb/16809/production/_131096129_howexpensiveisburningman.jpg\\\\\",\\\\\"height\\\\\":216,\\\\\"width\\\\\":385},\\\\\"isLive\\\\\":false,\\\\\"tracking\\\\\":{\\\\\"container\\\\\":\\\\\"cps_elsewhere_urn:bbc:cps:curie:asset:6b29b3bc-3068-4fa0-88aa-86174f0b5249\\\\\",\\\\\"label\\\\\":\\\\\"How expensive is Burning Man?\\\\\",\\\\\"url\\\\\":\\\\\"https://www.bbc.com/worklife/article/20230907-how-much-it-costs-to-attend-the-burning-man-festival\\\\\",\\\\\"source\\\\\":\\\\\"worklife\\\\\",\\\\\"metadata\\\\\":{\\\\\"PAR\\\\\":\\\\\"cps_elsewhere_urn:bbc:cps:curie:asset:6b29b3bc-3068-4fa0-88aa-86174f0b5249::1\\\\\",\\\\\"CHD\\\\\":\\\\\"promo::2\\\\\",\\\\\"EXT\\\\\":0},\\\\\"group\\\\\":{\\\\\"name\\\\\":\\\\\"CPS Elsewhere on the BBC\\\\\",\\\\\"type\\\\\":\\\\\"promo group\\\\\",\\\\\"item_count\\\\\":3,\\\\\"resource_id\\\\\":\\\\\"urn:bbc:cps:curie:asset:6b29b3bc-3068-4fa0-88aa-86174f0b5249\\\\\"},\\\\\"item\\\\\":{\\\\\"type\\\\\":\\\\\"promo\\\\\",\\\\\"link\\\\\":\\\\\"https://www.bbc.com/worklife/article/20230907-how-much-it-costs-to-attend-the-burning-man-festival\\\\\",\\\\\"text\\\\\":\\\\\"How expensive is Burning Man?\\\\\",\\\\\"media_type\\\\\":\\\\\"link\\\\\",\\\\\"attribution\\\\\":\\\\\"worklife\\\\\",\\\\\"position\\\\\":2,\\\\\"resource_id\\\\\":\\\\\"urn:bbc:cps:curie:asset:6b29b3bc-3068-4fa0-88aa-86174f0b5249:2\\\\\"}},\\\\\"url\\\\\":\\\\\"https://www.bbc.com/worklife/article/20230907-how-much-it-costs-to-attend-the-burning-man-festival\\\\\",\\\\\"service\\\\\":\\\\\"bbc\\\\\"},{\\\\\"headline\\\\\":\\\\\"Miyazaki\\'s \\'last\\' film is a masterpiece\\\\\",\\\\\"image\\\\\":{\\\\\"alt\\\\\":\\\\\"cartoon\\\\\",\\\\\"src\\\\\":\\\\\"https://ichef.bbci.co.uk/ace/standard/480/cpsprodpb/12D71/production/_131096177_miyazaki\\'s\\'last\\'filmisamasterpiece.jpg\\\\\",\\\\\"height\\\\\":216,\\\\\"width\\\\\":385},\\\\\"isLive\\\\\":false,\\\\\"tracking\\\\\":{\\\\\"container\\\\\":\\\\\"cps_elsewhere_urn:bbc:cps:curie:asset:6b29b3bc-3068-4fa0-88aa-86174f0b5249\\\\\",\\\\\"label\\\\\":\\\\\"Miyazaki\\'s \\'last\\' film is a masterpiece\\\\\",\\\\\"url\\\\\":\\\\\"https://www.bbc.com/culture/article/20230908-the-boy-and-the-heron-review-miyazakis-last-film-is-a-masterpiece\\\\\",\\\\\"source\\\\\":\\\\\"culture\\\\\",\\\\\"metadata\\\\\":{\\\\\"PAR\\\\\":\\\\\"cps_elsewhere_urn:bbc:cps:curie:asset:6b29b3bc-3068-4fa0-88aa-86174f0b5249::1\\\\\",\\\\\"CHD\\\\\":\\\\\"promo::3\\\\\",\\\\\"EXT\\\\\":0},\\\\\"group\\\\\":{\\\\\"name\\\\\":\\\\\"CPS Elsewhere on the BBC\\\\\",\\\\\"type\\\\\":\\\\\"promo group\\\\\",\\\\\"item_count\\\\\":3,\\\\\"resource_id\\\\\":\\\\\"urn:bbc:cps:curie:asset:6b29b3bc-3068-4fa0-88aa-86174f0b5249\\\\\"},\\\\\"item\\\\\":{\\\\\"type\\\\\":\\\\\"promo\\\\\",\\\\\"link\\\\\":\\\\\"https://www.bbc.com/culture/article/20230908-the-boy-and-the-heron-review-miyazakis-last-film-is-a-masterpiece\\\\\",\\\\\"text\\\\\":\\\\\"Miyazaki\\'s \\'last\\' film is a masterpiece\\\\\",\\\\\"media_type\\\\\":\\\\\"link\\\\\",\\\\\"attribution\\\\\":\\\\\"culture\\\\\",\\\\\"position\\\\\":3,\\\\\"resource_id\\\\\":\\\\\"urn:bbc:cps:curie:asset:6b29b3bc-3068-4fa0-88aa-86174f0b5249:3\\\\\"}},\\\\\"url\\\\\":\\\\\"https://www.bbc.com/culture/article/20230908-the-boy-and-the-heron-review-miyazakis-last-film-is-a-masterpiece\\\\\",\\\\\"service\\\\\":\\\\\"bbc\\\\\"}],\\\\\"sectionHeader\\\\\":\\\\\"Elsewhere on the BBC\\\\\"},\\\\\"importance\\\\\":\\\\\"SECONDARY\\\\\",\\\\\"isPersonalised\\\\\":false,\\\\\"hasFetcher\\\\\":true},\\\\\"onward-journeys?analyticsDataSource=CPS&columnsByBreakpoint=%7B%22medium%22%3A2%2C%22large%22%3A1%7D&dataType=onwardJourneys&edition=us&enableDotcomAds=true&expiresInMs=3600000&id=mostRead&isRanking=true&isUk=false&language=en-GB&sectionHeader=%7B%22text%22%3A%22Most%20Read%22%7D&service=news\\\\\":{\\\\\"name\\\\\":\\\\\"onward-journeys\\\\\",\\\\\"props\\\\\":{\\\\\"analyticsDataSource\\\\\":\\\\\"CPS\\\\\",\\\\\"columnsByBreakpoint\\\\\":{\\\\\"medium\\\\\":2,\\\\\"large\\\\\":1},\\\\\"dataType\\\\\":\\\\\"onwardJourneys\\\\\",\\\\\"edition\\\\\":\\\\\"us\\\\\",\\\\\"expiresInMs\\\\\":3600000,\\\\\"isUk\\\\\":false,\\\\\"id\\\\\":\\\\\"mostRead\\\\\",\\\\\"isRanking\\\\\":true,\\\\\"sectionHeader\\\\\":{\\\\\"text\\\\\":\\\\\"Most Read\\\\\"},\\\\\"service\\\\\":\\\\\"news\\\\\",\\\\\"enableDotcomAds\\\\\":true,\\\\\"language\\\\\":\\\\\"en-GB\\\\\"},\\\\\"data\\\\\":{\\\\\"promos\\\\\":[{\\\\\"headline\\\\\":\\\\\"Why Western nations fear India-Canada row\\\\\",\\\\\"tracking\\\\\":{\\\\\"container\\\\\":\\\\\"cps_mostRead\\\\\",\\\\\"label\\\\\":\\\\\"Why Western nations fear India-Canada row\\\\\",\\\\\"url\\\\\":\\\\\"/news/world-us-canada-66856568\\\\\",\\\\\"source\\\\\":\\\\\"news\\\\\",\\\\\"metadata\\\\\":{\\\\\"PAR\\\\\":\\\\\"cps_mostRead::1\\\\\",\\\\\"CHD\\\\\":\\\\\"promo::1\\\\\",\\\\\"EXT\\\\\":0},\\\\\"group\\\\\":{\\\\\"name\\\\\":\\\\\"CPS Most Read\\\\\",\\\\\"type\\\\\":\\\\\"promo group\\\\\",\\\\\"item_count\\\\\":10},\\\\\"item\\\\\":{\\\\\"type\\\\\":\\\\\"promo\\\\\",\\\\\"link\\\\\":\\\\\"/news/world-us-canada-66856568\\\\\",\\\\\"text\\\\\":\\\\\"Why Western nations fear India-Canada row\\\\\",\\\\\"media_type\\\\\":\\\\\"article\\\\\",\\\\\"attribution\\\\\":\\\\\"news\\\\\",\\\\\"position\\\\\":1}},\\\\\"metadataStripItems\\\\\":[],\\\\\"rank\\\\\":1,\\\\\"url\\\\\":\\\\\"/news/world-us-canada-66856568\\\\\",\\\\\"service\\\\\":\\\\\"news\\\\\"},{\\\\\"headline\\\\\":\\\\\"Azerbaijan targets Nagorno-Karabakh for second day\\\\\",\\\\\"tracking\\\\\":{\\\\\"container\\\\\":\\\\\"cps_mostRead\\\\\",\\\\\"label\\\\\":\\\\\"Azerbaijan targets Nagorno-Karabakh for second day\\\\\",\\\\\"url\\\\\":\\\\\"/news/world-europe-66851975\\\\\",\\\\\"source\\\\\":\\\\\"news\\\\\",\\\\\"metadata\\\\\":{\\\\\"PAR\\\\\":\\\\\"cps_mostRead::1\\\\\",\\\\\"CHD\\\\\":\\\\\"promo::2\\\\\",\\\\\"EXT\\\\\":0},\\\\\"group\\\\\":{\\\\\"name\\\\\":\\\\\"CPS Most Read\\\\\",\\\\\"type\\\\\":\\\\\"promo group\\\\\",\\\\\"item_count\\\\\":10},\\\\\"item\\\\\":{\\\\\"type\\\\\":\\\\\"promo\\\\\",\\\\\"link\\\\\":\\\\\"/news/world-europe-66851975\\\\\",\\\\\"text\\\\\":\\\\\"Azerbaijan targets Nagorno-Karabakh for second day\\\\\",\\\\\"media_type\\\\\":\\\\\"article\\\\\",\\\\\"attribution\\\\\":\\\\\"news\\\\\",\\\\\"position\\\\\":2}},\\\\\"metadataStripItems\\\\\":[],\\\\\"rank\\\\\":2,\\\\\"url\\\\\":\\\\\"/news/world-europe-66851975\\\\\",\\\\\"service\\\\\":\\\\\"news\\\\\"},{\\\\\"headline\\\\\":\\\\\"Bijou Phillips to divorce Danny Masterson - reports\\\\\",\\\\\"tracking\\\\\":{\\\\\"container\\\\\":\\\\\"cps_mostRead\\\\\",\\\\\"label\\\\\":\\\\\"Bijou Phillips to divorce Danny Masterson - reports\\\\\",\\\\\"url\\\\\":\\\\\"/news/world-us-canada-66862067\\\\\",\\\\\"source\\\\\":\\\\\"news\\\\\",\\\\\"metadata\\\\\":{\\\\\"PAR\\\\\":\\\\\"cps_mostRead::1\\\\\",\\\\\"CHD\\\\\":\\\\\"promo::3\\\\\",\\\\\"EXT\\\\\":0},\\\\\"group\\\\\":{\\\\\"name\\\\\":\\\\\"CPS Most Read\\\\\",\\\\\"type\\\\\":\\\\\"promo group\\\\\",\\\\\"item_count\\\\\":10},\\\\\"item\\\\\":{\\\\\"type\\\\\":\\\\\"promo\\\\\",\\\\\"link\\\\\":\\\\\"/news/world-us-canada-66862067\\\\\",\\\\\"text\\\\\":\\\\\"Bijou Phillips to divorce Danny Masterson - reports\\\\\",\\\\\"media_type\\\\\":\\\\\"article\\\\\",\\\\\"attribution\\\\\":\\\\\"news\\\\\",\\\\\"position\\\\\":3}},\\\\\"metadataStripItems\\\\\":[],\\\\\"rank\\\\\":3,\\\\\"url\\\\\":\\\\\"/news/world-us-canada-66862067\\\\\",\\\\\"service\\\\\":\\\\\"news\\\\\"},{\\\\\"headline\\\\\":\\\\\"US child dies from fentanyl kept under nursery mat\\\\\",\\\\\"tracking\\\\\":{\\\\\"container\\\\\":\\\\\"cps_mostRead\\\\\",\\\\\"label\\\\\":\\\\\"US child dies from fentanyl kept under nursery mat\\\\\",\\\\\"url\\\\\":\\\\\"/news/world-us-canada-66861588\\\\\",\\\\\"source\\\\\":\\\\\"news\\\\\",\\\\\"metadata\\\\\":{\\\\\"PAR\\\\\":\\\\\"cps_mostRead::1\\\\\",\\\\\"CHD\\\\\":\\\\\"promo::4\\\\\",\\\\\"EXT\\\\\":0},\\\\\"group\\\\\":{\\\\\"name\\\\\":\\\\\"CPS Most Read\\\\\",\\\\\"type\\\\\":\\\\\"promo group\\\\\",\\\\\"item_count\\\\\":10},\\\\\"item\\\\\":{\\\\\"type\\\\\":\\\\\"promo\\\\\",\\\\\"link\\\\\":\\\\\"/news/world-us-canada-66861588\\\\\",\\\\\"text\\\\\":\\\\\"US child dies from fentanyl kept under nursery mat\\\\\",\\\\\"media_type\\\\\":\\\\\"article\\\\\",\\\\\"attribution\\\\\":\\\\\"news\\\\\",\\\\\"position\\\\\":4}},\\\\\"metadataStripItems\\\\\":[],\\\\\"rank\\\\\":4,\\\\\"url\\\\\":\\\\\"/news/world-us-canada-66861588\\\\\",\\\\\"service\\\\\":\\\\\"news\\\\\"},{\\\\\"headline\\\\\":\\\\\"Musk woos world leaders, courting controversy\\\\\",\\\\\"tracking\\\\\":{\\\\\"container\\\\\":\\\\\"cps_mostRead\\\\\",\\\\\"label\\\\\":\\\\\"Musk woos world leaders, courting controversy\\\\\",\\\\\"url\\\\\":\\\\\"/news/world-us-canada-66777096\\\\\",\\\\\"source\\\\\":\\\\\"news\\\\\",\\\\\"metadata\\\\\":{\\\\\"PAR\\\\\":\\\\\"cps_mostRead::1\\\\\",\\\\\"CHD\\\\\":\\\\\"promo::5\\\\\",\\\\\"EXT\\\\\":0},\\\\\"group\\\\\":{\\\\\"name\\\\\":\\\\\"CPS Most Read\\\\\",\\\\\"type\\\\\":\\\\\"promo group\\\\\",\\\\\"item_count\\\\\":10},\\\\\"item\\\\\":{\\\\\"type\\\\\":\\\\\"promo\\\\\",\\\\\"link\\\\\":\\\\\"/news/world-us-canada-66777096\\\\\",\\\\\"text\\\\\":\\\\\"Musk woos world leaders, courting controversy\\\\\",\\\\\"media_type\\\\\":\\\\\"article\\\\\",\\\\\"attribution\\\\\":\\\\\"news\\\\\",\\\\\"position\\\\\":5}},\\\\\"metadataStripItems\\\\\":[],\\\\\"rank\\\\\":5,\\\\\"url\\\\\":\\\\\"/news/world-us-canada-66777096\\\\\",\\\\\"service\\\\\":\\\\\"news\\\\\"},{\\\\\"headline\\\\\":\\\\\"Torture, rape, killings: An Indian state\\'s brutal conflict\\\\\",\\\\\"tracking\\\\\":{\\\\\"container\\\\\":\\\\\"cps_mostRead\\\\\",\\\\\"label\\\\\":\\\\\"Torture, rape, killings: An Indian state\\'s brutal conflict\\\\\",\\\\\"url\\\\\":\\\\\"/news/world-asia-india-66844028\\\\\",\\\\\"source\\\\\":\\\\\"news\\\\\",\\\\\"metadata\\\\\":{\\\\\"PAR\\\\\":\\\\\"cps_mostRead::1\\\\\",\\\\\"CHD\\\\\":\\\\\"promo::6\\\\\",\\\\\"EXT\\\\\":0},\\\\\"group\\\\\":{\\\\\"name\\\\\":\\\\\"CPS Most Read\\\\\",\\\\\"type\\\\\":\\\\\"promo group\\\\\",\\\\\"item_count\\\\\":10},\\\\\"item\\\\\":{\\\\\"type\\\\\":\\\\\"promo\\\\\",\\\\\"link\\\\\":\\\\\"/news/world-asia-india-66844028\\\\\",\\\\\"text\\\\\":\\\\\"Torture, rape, killings: An Indian state\\'s brutal conflict\\\\\",\\\\\"media_type\\\\\":\\\\\"article\\\\\",\\\\\"attribution\\\\\":\\\\\"news\\\\\",\\\\\"position\\\\\":6}},\\\\\"metadataStripItems\\\\\":[],\\\\\"rank\\\\\":6,\\\\\"url\\\\\":\\\\\"/news/world-asia-india-66844028\\\\\",\\\\\"service\\\\\":\\\\\"news\\\\\"},{\\\\\"headline\\\\\":\\\\\"\\'King of Crypto\\' parents sued over missing millions\\\\\",\\\\\"tracking\\\\\":{\\\\\"container\\\\\":\\\\\"cps_mostRead\\\\\",\\\\\"label\\\\\":\\\\\"\\'King of Crypto\\' parents sued over missing millions\\\\\",\\\\\"url\\\\\":\\\\\"/news/business-66857146\\\\\",\\\\\"source\\\\\":\\\\\"news\\\\\",\\\\\"metadata\\\\\":{\\\\\"PAR\\\\\":\\\\\"cps_mostRead::1\\\\\",\\\\\"CHD\\\\\":\\\\\"promo::7\\\\\",\\\\\"EXT\\\\\":0},\\\\\"group\\\\\":{\\\\\"name\\\\\":\\\\\"CPS Most Read\\\\\",\\\\\"type\\\\\":\\\\\"promo group\\\\\",\\\\\"item_count\\\\\":10},\\\\\"item\\\\\":{\\\\\"type\\\\\":\\\\\"promo\\\\\",\\\\\"link\\\\\":\\\\\"/news/business-66857146\\\\\",\\\\\"text\\\\\":\\\\\"\\'King of Crypto\\' parents sued over missing millions\\\\\",\\\\\"media_type\\\\\":\\\\\"article\\\\\",\\\\\"attribution\\\\\":\\\\\"news\\\\\",\\\\\"position\\\\\":7}},\\\\\"metadataStripItems\\\\\":[],\\\\\"rank\\\\\":7,\\\\\"url\\\\\":\\\\\"/news/business-66857146\\\\\",\\\\\"service\\\\\":\\\\\"news\\\\\"},{\\\\\"headline\\\\\":\\\\\"Russia superyacht symbolises challenge of seizing assets\\\\\",\\\\\"tracking\\\\\":{\\\\\"container\\\\\":\\\\\"cps_mostRead\\\\\",\\\\\"label\\\\\":\\\\\"Russia superyacht symbolises challenge of seizing assets\\\\\",\\\\\"url\\\\\":\\\\\"/news/world-europe-66818492\\\\\",\\\\\"source\\\\\":\\\\\"news\\\\\",\\\\\"metadata\\\\\":{\\\\\"PAR\\\\\":\\\\\"cps_mostRead::1\\\\\",\\\\\"CHD\\\\\":\\\\\"promo::8\\\\\",\\\\\"EXT\\\\\":0},\\\\\"group\\\\\":{\\\\\"name\\\\\":\\\\\"CPS Most Read\\\\\",\\\\\"type\\\\\":\\\\\"promo group\\\\\",\\\\\"item_count\\\\\":10},\\\\\"item\\\\\":{\\\\\"type\\\\\":\\\\\"promo\\\\\",\\\\\"link\\\\\":\\\\\"/news/world-europe-66818492\\\\\",\\\\\"text\\\\\":\\\\\"Russia superyacht symbolises challenge of seizing assets\\\\\",\\\\\"media_type\\\\\":\\\\\"article\\\\\",\\\\\"attribution\\\\\":\\\\\"news\\\\\",\\\\\"position\\\\\":8}},\\\\\"metadataStripItems\\\\\":[],\\\\\"rank\\\\\":8,\\\\\"url\\\\\":\\\\\"/news/world-europe-66818492\\\\\",\\\\\"service\\\\\":\\\\\"news\\\\\"},{\\\\\"headline\\\\\":\\\\\"Russian \\'evil cannot be trusted\\' - Zelensky tells UN\\\\\",\\\\\"tracking\\\\\":{\\\\\"container\\\\\":\\\\\"cps_mostRead\\\\\",\\\\\"label\\\\\":\\\\\"Russian \\'evil cannot be trusted\\' - Zelensky tells UN\\\\\",\\\\\"url\\\\\":\\\\\"/news/world-66859639\\\\\",\\\\\"source\\\\\":\\\\\"news\\\\\",\\\\\"metadata\\\\\":{\\\\\"PAR\\\\\":\\\\\"cps_mostRead::1\\\\\",\\\\\"CHD\\\\\":\\\\\"promo::9\\\\\",\\\\\"EXT\\\\\":0},\\\\\"group\\\\\":{\\\\\"name\\\\\":\\\\\"CPS Most Read\\\\\",\\\\\"type\\\\\":\\\\\"promo group\\\\\",\\\\\"item_count\\\\\":10},\\\\\"item\\\\\":{\\\\\"type\\\\\":\\\\\"promo\\\\\",\\\\\"link\\\\\":\\\\\"/news/world-66859639\\\\\",\\\\\"text\\\\\":\\\\\"Russian \\'evil cannot be trusted\\' - Zelensky tells UN\\\\\",\\\\\"media_type\\\\\":\\\\\"article\\\\\",\\\\\"attribution\\\\\":\\\\\"news\\\\\",\\\\\"position\\\\\":9}},\\\\\"metadataStripItems\\\\\":[],\\\\\"rank\\\\\":9,\\\\\"url\\\\\":\\\\\"/news/world-66859639\\\\\",\\\\\"service\\\\\":\\\\\"news\\\\\"},{\\\\\"headline\\\\\":\\\\\"Ex-NFL player missing after mother found murdered\\\\\",\\\\\"tracking\\\\\":{\\\\\"container\\\\\":\\\\\"cps_mostRead\\\\\",\\\\\"label\\\\\":\\\\\"Ex-NFL player missing after mother found murdered\\\\\",\\\\\"url\\\\\":\\\\\"/news/world-us-canada-66857467\\\\\",\\\\\"source\\\\\":\\\\\"news\\\\\",\\\\\"metadata\\\\\":{\\\\\"PAR\\\\\":\\\\\"cps_mostRead::1\\\\\",\\\\\"CHD\\\\\":\\\\\"promo::10\\\\\",\\\\\"EXT\\\\\":0},\\\\\"group\\\\\":{\\\\\"name\\\\\":\\\\\"CPS Most Read\\\\\",\\\\\"type\\\\\":\\\\\"promo group\\\\\",\\\\\"item_count\\\\\":10},\\\\\"item\\\\\":{\\\\\"type\\\\\":\\\\\"promo\\\\\",\\\\\"link\\\\\":\\\\\"/news/world-us-canada-66857467\\\\\",\\\\\"text\\\\\":\\\\\"Ex-NFL player missing after mother found murdered\\\\\",\\\\\"media_type\\\\\":\\\\\"article\\\\\",\\\\\"attribution\\\\\":\\\\\"news\\\\\",\\\\\"position\\\\\":10}},\\\\\"metadataStripItems\\\\\":[],\\\\\"rank\\\\\":10,\\\\\"url\\\\\":\\\\\"/news/world-us-canada-66857467\\\\\",\\\\\"service\\\\\":\\\\\"news\\\\\"}],\\\\\"sectionHeader\\\\\":\\\\\"Most Read\\\\\"},\\\\\"importance\\\\\":\\\\\"SECONDARY\\\\\",\\\\\"isPersonalised\\\\\":false,\\\\\"hasFetcher\\\\\":true},\\\\\"service-bar?language=en-GB&product=news\\\\\":{\\\\\"name\\\\\":\\\\\"service-bar\\\\\",\\\\\"props\\\\\":{\\\\\"product\\\\\":\\\\\"news\\\\\",\\\\\"language\\\\\":\\\\\"en-GB\\\\\"},\\\\\"data\\\\\":{\\\\\"title\\\\\":\\\\\"BBC News Services\\\\\",\\\\\"serviceLinks\\\\\":[{\\\\\"text\\\\\":\\\\\"On your mobile\\\\\",\\\\\"url\\\\\":\\\\\"https://www.bbc.co.uk/news/10628994\\\\\",\\\\\"type\\\\\":\\\\\"devices-and-inputs:smartphone\\\\\"},{\\\\\"text\\\\\":\\\\\"On smart speakers\\\\\",\\\\\"url\\\\\":\\\\\"https://www.bbc.co.uk/news/help-50068132\\\\\",\\\\\"type\\\\\":\\\\\"devices-and-inputs:microphone\\\\\"},{\\\\\"text\\\\\":\\\\\"Get news alerts\\\\\",\\\\\"url\\\\\":\\\\\"https://www.bbc.co.uk/news/10628323\\\\\",\\\\\"type\\\\\":\\\\\"content-types:newsletter\\\\\"},{\\\\\"text\\\\\":\\\\\"Contact BBC News\\\\\",\\\\\"url\\\\\":\\\\\"https://www.bbc.co.uk/news/20039682\\\\\",\\\\\"type\\\\\":\\\\\"participate:email\\\\\"}]},\\\\\"importance\\\\\":\\\\\"SECONDARY\\\\\",\\\\\"isPersonalised\\\\\":false,\\\\\"hasFetcher\\\\\":true},\\\\\"global-footer?country=us&language=en-GB\\\\\":{\\\\\"name\\\\\":\\\\\"global-footer\\\\\",\\\\\"props\\\\\":{\\\\\"country\\\\\":\\\\\"us\\\\\",\\\\\"language\\\\\":\\\\\"en-GB\\\\\"},\\\\\"data\\\\\":{\\\\\"accessibilityLinks\\\\\":[{\\\\\"label\\\\\":\\\\\"Skip to content\\\\\",\\\\\"url\\\\\":\\\\\"#main-heading\\\\\"},{\\\\\"label\\\\\":\\\\\"Accessibility Help\\\\\",\\\\\"url\\\\\":\\\\\"https://www.bbc.co.uk/accessibility/\\\\\"}],\\\\\"signInLabel\\\\\":\\\\\"Sign in\\\\\",\\\\\"accountLabel\\\\\":\\\\\"Your account\\\\\",\\\\\"menuLabel\\\\\":\\\\\"Menu\\\\\",\\\\\"moreLabel\\\\\":\\\\\"More\\\\\",\\\\\"moreMenuLabel\\\\\":\\\\\"More menu\\\\\",\\\\\"closeButtonLabel\\\\\":\\\\\"Close menu\\\\\",\\\\\"disclaimer\\\\\":{\\\\\"text\\\\\":\\\\\"Â© 2023 BBC. The BBC is not responsible for the content of external sites.\\\\\",\\\\\"link\\\\\":{\\\\\"url\\\\\":\\\\\"https://www.bbc.co.uk/editorialguidelines/guidance/feeds-and-links\\\\\",\\\\\"text\\\\\":\\\\\"Read about our approach to external linking.\\\\\"}},\\\\\"legalLinks\\\\\":[{\\\\\"url\\\\\":\\\\\"https://www.bbc.co.uk/usingthebbc/terms\\\\\",\\\\\"label\\\\\":\\\\\"Terms of Use\\\\\"},{\\\\\"url\\\\\":\\\\\"https://www.bbc.co.uk/aboutthebbc\\\\\",\\\\\"label\\\\\":\\\\\"About the BBC\\\\\"},{\\\\\"url\\\\\":\\\\\"https://www.bbc.com/usingthebbc/privacy\\\\\",\\\\\"label\\\\\":\\\\\"Privacy Policy\\\\\"},{\\\\\"url\\\\\":\\\\\"https://www.bbc.com/usingthebbc/cookies\\\\\",\\\\\"label\\\\\":\\\\\"Cookies\\\\\"},{\\\\\"url\\\\\":\\\\\"https://www.bbc.co.uk/accessibility\\\\\",\\\\\"label\\\\\":\\\\\"Accessibility Help\\\\\"},{\\\\\"url\\\\\":\\\\\"https://www.bbc.co.uk/iplayer/guidance\\\\\",\\\\\"label\\\\\":\\\\\"Parental Guidance\\\\\"},{\\\\\"url\\\\\":\\\\\"https://www.bbc.co.uk/contact\\\\\",\\\\\"label\\\\\":\\\\\"Contact the BBC\\\\\"},{\\\\\"url\\\\\":\\\\\"https://www.bbc.co.uk/bbcnewsletter\\\\\",\\\\\"label\\\\\":\\\\\"Get Personalised Newsletters\\\\\"},{\\\\\"url\\\\\":\\\\\"https://www.bbc.co.uk/news/help-41670342\\\\\",\\\\\"label\\\\\":\\\\\"Why you can trust the BBC\\\\\"},{\\\\\"url\\\\\":\\\\\"https://www.bbcglobalnews.com/home/\\\\\",\\\\\"label\\\\\":\\\\\"Advertise with us\\\\\"},{\\\\\"opens\\\\\":\\\\\"privacy-management\\\\\",\\\\\"label\\\\\":\\\\\"Do not share or sell my info\\\\\"}],\\\\\"homepageLink\\\\\":{\\\\\"label\\\\\":\\\\\"BBC Homepage\\\\\",\\\\\"url\\\\\":\\\\\"https://www.bbc.com\\\\\"},\\\\\"searchLink\\\\\":{\\\\\"label\\\\\":\\\\\"Search\\\\\",\\\\\"url\\\\\":\\\\\"https://www.bbc.co.uk/search\\\\\"},\\\\\"chameleonSearchLink\\\\\":{\\\\\"label\\\\\":\\\\\"Search BBC\\\\\",\\\\\"url\\\\\":\\\\\"https://www.bbc.co.uk/search\\\\\"},\\\\\"navigationLinks\\\\\":[{\\\\\"label\\\\\":\\\\\"Home\\\\\",\\\\\"url\\\\\":\\\\\"https://www.bbc.com\\\\\",\\\\\"accent\\\\\":\\\\\"#007BC7\\\\\"},{\\\\\"label\\\\\":\\\\\"News\\\\\",\\\\\"url\\\\\":\\\\\"https://www.bbc.com/news\\\\\",\\\\\"accent\\\\\":\\\\\"#BB1919\\\\\"},{\\\\\"label\\\\\":\\\\\"Sport\\\\\",\\\\\"url\\\\\":\\\\\"https://www.bbc.com/sport\\\\\",\\\\\"accent\\\\\":\\\\\"#FFD230\\\\\"},{\\\\\"label\\\\\":\\\\\"Reel\\\\\",\\\\\"url\\\\\":\\\\\"https://www.bbc.com/reel\\\\\",\\\\\"accent\\\\\":\\\\\"#0068FF\\\\\"},{\\\\\"label\\\\\":\\\\\"Worklife\\\\\",\\\\\"url\\\\\":\\\\\"https://www.bbc.com/worklife\\\\\",\\\\\"accent\\\\\":\\\\\"#0052A1\\\\\"},{\\\\\"label\\\\\":\\\\\"Travel\\\\\",\\\\\"url\\\\\":\\\\\"https://www.bbc.com/travel\\\\\",\\\\\"accent\\\\\":\\\\\"#589E50\\\\\"},{\\\\\"label\\\\\":\\\\\"Future\\\\\",\\\\\"url\\\\\":\\\\\"https://www.bbc.com/future\\\\\",\\\\\"accent\\\\\":\\\\\"#002856\\\\\"},{\\\\\"label\\\\\":\\\\\"Culture\\\\\",\\\\\"url\\\\\":\\\\\"https://www.bbc.com/culture\\\\\",\\\\\"accent\\\\\":\\\\\"#482878\\\\\"},{\\\\\"label\\\\\":\\\\\"Music\\\\\",\\\\\"url\\\\\":\\\\\"https://www.bbc.com/culture/music\\\\\"},{\\\\\"label\\\\\":\\\\\"TV\\\\\",\\\\\"url\\\\\":\\\\\"https://www.bbc.co.uk/schedules/p00fzl9m\\\\\"},{\\\\\"label\\\\\":\\\\\"Weather\\\\\",\\\\\"url\\\\\":\\\\\"https://www.bbc.com/weather\\\\\",\\\\\"accent\\\\\":\\\\\"#88CCEE\\\\\"},{\\\\\"label\\\\\":\\\\\"Sounds\\\\\",\\\\\"url\\\\\":\\\\\"https://www.bbc.co.uk/sounds\\\\\",\\\\\"accent\\\\\":\\\\\"#FF4900\\\\\"}],\\\\\"chameleonNavigationLinks\\\\\":[{\\\\\"label\\\\\":\\\\\"Home\\\\\",\\\\\"url\\\\\":\\\\\"https://www.bbc.com\\\\\"},{\\\\\"label\\\\\":\\\\\"News\\\\\",\\\\\"url\\\\\":\\\\\"https://www.bbc.com/news\\\\\",\\\\\"accent\\\\\":\\\\\"#EB1212\\\\\"},{\\\\\"label\\\\\":\\\\\"Sport\\\\\",\\\\\"url\\\\\":\\\\\"https://www.bbc.com/sport\\\\\",\\\\\"accent\\\\\":\\\\\"#FFD230\\\\\"},{\\\\\"label\\\\\":\\\\\"Reel\\\\\",\\\\\"url\\\\\":\\\\\"https://www.bbc.com/reel\\\\\",\\\\\"accent\\\\\":\\\\\"#0068FF\\\\\"},{\\\\\"label\\\\\":\\\\\"Worklife\\\\\",\\\\\"url\\\\\":\\\\\"https://www.bbc.com/worklife\\\\\",\\\\\"accent\\\\\":\\\\\"#0052A1\\\\\"},{\\\\\"label\\\\\":\\\\\"Travel\\\\\",\\\\\"url\\\\\":\\\\\"https://www.bbc.com/travel\\\\\",\\\\\"accent\\\\\":\\\\\"#589E50\\\\\"},{\\\\\"label\\\\\":\\\\\"Future\\\\\",\\\\\"url\\\\\":\\\\\"https://www.bbc.com/future\\\\\",\\\\\"accent\\\\\":\\\\\"#002856\\\\\"},{\\\\\"label\\\\\":\\\\\"Culture\\\\\",\\\\\"url\\\\\":\\\\\"https://www.bbc.com/culture\\\\\",\\\\\"accent\\\\\":\\\\\"#482878\\\\\"},{\\\\\"label\\\\\":\\\\\"Music\\\\\",\\\\\"url\\\\\":\\\\\"https://www.bbc.com/culture/music\\\\\"},{\\\\\"label\\\\\":\\\\\"TV\\\\\",\\\\\"url\\\\\":\\\\\"https://www.bbc.co.uk/schedules/p00fzl9m\\\\\"},{\\\\\"label\\\\\":\\\\\"Weather\\\\\",\\\\\"url\\\\\":\\\\\"https://www.bbc.com/weather\\\\\",\\\\\"accent\\\\\":\\\\\"#149EDC\\\\\"},{\\\\\"label\\\\\":\\\\\"Sounds\\\\\",\\\\\"url\\\\\":\\\\\"https://www.bbc.co.uk/sounds\\\\\",\\\\\"accent\\\\\":\\\\\"#FA6400\\\\\"}]},\\\\\"importance\\\\\":\\\\\"PRIMARY\\\\\",\\\\\"isPersonalised\\\\\":false,\\\\\"hasFetcher\\\\\":true}},\\\\\"paths\\\\\":[{\\\\\"path\\\\\":\\\\\"/news/:id\\\\\",\\\\\"routeHasCustomCsp\\\\\":false}],\\\\\"page\\\\\":{\\\\\"metadata\\\\\":{\\\\\"title\\\\\":\\\\\"BBC\\\\\",\\\\\"description\\\\\":\\\\\"BBC Page\\\\\"},\\\\\"featureToggles\\\\\":{\\\\\"sfv-tipo-curations\\\\\":false,\\\\\"live-experience-crowd-count\\\\\":false,\\\\\"for-you-iplayer-sounds-history\\\\\":true,\\\\\"apps-news-abl-article-recommendations\\\\\":false,\\\\\"enable-comments-container\\\\\":false,\\\\\"articles-telescope\\\\\":false,\\\\\"articles-flourish\\\\\":false,\\\\\"for-you-continue-listening\\\\\":true,\\\\\"global-container-polling\\\\\":false,\\\\\"articles-uploader\\\\\":true,\\\\\"bitesize-preview-navigation-data\\\\\":false,\\\\\"sfv-toucan\\\\\":true,\\\\\"articles-riddle\\\\\":true,\\\\\"enableElectionBanner\\\\\":false,\\\\\"for-you-marketing-billboard\\\\\":true,\\\\\"live-tabbed-layout\\\\\":false,\\\\\"live-experience-msi\\\\\":false,\\\\\"regional-external-links\\\\\":true,\\\\\"for-you-iplayer-sounds-trending\\\\\":true,\\\\\"articles-team-selector\\\\\":false,\\\\\"articles-idt2\\\\\":true,\\\\\"live-media-header\\\\\":false,\\\\\"articles-sign-in-experiment\\\\\":false,\\\\\"for-you-news-sports-trending\\\\\":true,\\\\\"for-you-continue-watching\\\\\":true,\\\\\"for-you-recommended-watching\\\\\":true,\\\\\"media-auth-tokens\\\\\":true,\\\\\"articles-vj-interactives\\\\\":false,\\\\\"sfv-common-article-format\\\\\":false,\\\\\"live-multimedia\\\\\":false,\\\\\"live-reactions\\\\\":false,\\\\\"articles-player-rater\\\\\":false,\\\\\"for-you-content-from-followed-topics\\\\\":true,\\\\\"for-you-survey-banner\\\\\":true,\\\\\"sfv-machine-recommendations\\\\\":false,\\\\\"sfv-autoplay-muted\\\\\":false,\\\\\"sfv-survey-banner\\\\\":false,\\\\\"for-you-recommended-listening\\\\\":true,\\\\\"enableDotcomAds\\\\\":true,\\\\\"enableComscoreMmx\\\\\":false,\\\\\"allowAdvertising\\\\\":true},\\\\\"entry\\\\\":{\\\\\"pageLayout\\\\\":\\\\\"ThreeColumnWithHero\\\\\",\\\\\"pageContent\\\\\":{\\\\\"zones\\\\\":[{\\\\\"name\\\\\":\\\\\"top\\\\\",\\\\\"landmarks\\\\\":[{\\\\\"element\\\\\":\\\\\"header\\\\\",\\\\\"containers\\\\\":[{\\\\\"name\\\\\":\\\\\"consent-banner\\\\\",\\\\\"importance\\\\\":\\\\\"TERTIARY\\\\\",\\\\\"hasFetcher\\\\\":true,\\\\\"props\\\\\":[]},{\\\\\"name\\\\\":\\\\\"chameleon-global-navigation\\\\\",\\\\\"importance\\\\\":\\\\\"PRIMARY\\\\\",\\\\\"hasFetcher\\\\\":true,\\\\\"props\\\\\":[{\\\\\"__typename\\\\\":\\\\\"LiteralProp\\\\\",\\\\\"name\\\\\":\\\\\"showServiceIdentifiers\\\\\",\\\\\"value\\\\\":false},{\\\\\"__typename\\\\\":\\\\\"LiteralProp\\\\\",\\\\\"name\\\\\":\\\\\"idctaConfigUrl\\\\\",\\\\\"value\\\\\":\\\\\"https://idcta.api.bbc.com/idcta/config\\\\\"},{\\\\\"__typename\\\\\":\\\\\"StoreReader\\\\\",\\\\\"lookup\\\\\":\\\\\"page.destination\\\\\",\\\\\"name\\\\\":\\\\\"currentPageAnalyticsDestination\\\\\",\\\\\"store\\\\\":\\\\\"analytics\\\\\"},{\\\\\"__typename\\\\\":\\\\\"StoreReader\\\\\",\\\\\"name\\\\\":\\\\\"showServiceIdentifiers\\\\\",\\\\\"store\\\\\":\\\\\"global-navigation\\\\\",\\\\\"lookup\\\\\":\\\\\"showServiceIdentifiers\\\\\"}],\\\\\"levers\\\\\":{\\\\\"servicePalette\\\\\":\\\\\"serviceNeutralLight\\\\\",\\\\\"corePalette\\\\\":\\\\\"light\\\\\",\\\\\"fontPalette\\\\\":\\\\\"sansSimple\\\\\"},\\\\\"fetchParams\\\\\":[{\\\\\"__typename\\\\\":\\\\\"RequestContext\\\\\",\\\\\"name\\\\\":\\\\\"country\\\\\",\\\\\"lookup\\\\\":\\\\\"country\\\\\"},{\\\\\"__typename\\\\\":\\\\\"RequestContext\\\\\",\\\\\"name\\\\\":\\\\\"language\\\\\",\\\\\"lookup\\\\\":\\\\\"language\\\\\"},{\\\\\"__typename\\\\\":\\\\\"RouteParam\\\\\",\\\\\"name\\\\\":\\\\\"service\\\\\",\\\\\"lookup\\\\\":\\\\\"service\\\\\"},{\\\\\"__typename\\\\\":\\\\\"LiteralProp\\\\\",\\\\\"name\\\\\":\\\\\"service\\\\\"},{\\\\\"__typename\\\\\":\\\\\"StoreReader\\\\\",\\\\\"name\\\\\":\\\\\"variant\\\\\",\\\\\"store\\\\\":\\\\\"global-navigation\\\\\",\\\\\"lookup\\\\\":\\\\\"variant\\\\\"}]},{\\\\\"name\\\\\":\\\\\"product-navigation\\\\\",\\\\\"importance\\\\\":\\\\\"SECONDARY\\\\\",\\\\\"hasFetcher\\\\\":true,\\\\\"levers\\\\\":{\\\\\"servicePalette\\\\\":\\\\\"newsLight\\\\\",\\\\\"corePalette\\\\\":\\\\\"light\\\\\",\\\\\"fontPalette\\\\\":\\\\\"mixedInformative\\\\\"},\\\\\"props\\\\\":[{\\\\\"__typename\\\\\":\\\\\"LiteralProp\\\\\",\\\\\"name\\\\\":\\\\\"product\\\\\",\\\\\"value\\\\\":\\\\\"news\\\\\"},{\\\\\"__typename\\\\\":\\\\\"LiteralProp\\\\\",\\\\\"name\\\\\":\\\\\"showProductNavigation\\\\\",\\\\\"value\\\\\":true},{\\\\\"__typename\\\\\":\\\\\"LiteralProp\\\\\",\\\\\"name\\\\\":\\\\\"capability\\\\\",\\\\\"value\\\\\":\\\\\"article\\\\\"},{\\\\\"__typename\\\\\":\\\\\"LiteralProp\\\\\",\\\\\"name\\\\\":\\\\\"onlyShowSecondaryNav\\\\\",\\\\\"value\\\\\":false},{\\\\\"__typename\\\\\":\\\\\"LiteralProp\\\\\",\\\\\"name\\\\\":\\\\\"fixedSecondaryNavigation\\\\\",\\\\\"value\\\\\":false},{\\\\\"__typename\\\\\":\\\\\"RequestContext\\\\\",\\\\\"name\\\\\":\\\\\"country\\\\\",\\\\\"lookup\\\\\":\\\\\"country\\\\\"},{\\\\\"__typename\\\\\":\\\\\"StoreReader\\\\\",\\\\\"name\\\\\":\\\\\"assetUri\\\\\",\\\\\"lookup\\\\\":\\\\\"assetUri\\\\\",\\\\\"store\\\\\":\\\\\"product-navigation\\\\\"},{\\\\\"__typename\\\\\":\\\\\"StoreReader\\\\\",\\\\\"name\\\\\":\\\\\"sectionName\\\\\",\\\\\"lookup\\\\\":\\\\\"sectionName\\\\\",\\\\\"store\\\\\":\\\\\"product-navigation\\\\\"}]}]}],\\\\\"additionalProperties\\\\\":{}},{\\\\\"name\\\\\":\\\\\"hero\\\\\",\\\\\"landmarks\\\\\":[{\\\\\"element\\\\\":\\\\\"aside\\\\\",\\\\\"label\\\\\":\\\\\"interstitial\\\\\",\\\\\"ariaHidden\\\\\":true,\\\\\"containers\\\\\":[{\\\\\"name\\\\\":\\\\\"dotcom-ad\\\\\",\\\\\"importance\\\\\":\\\\\"TERTIARY\\\\\",\\\\\"hasFetcher\\\\\":false,\\\\\"props\\\\\":[{\\\\\"__typename\\\\\":\\\\\"LiteralProp\\\\\",\\\\\"name\\\\\":\\\\\"slot\\\\\",\\\\\"value\\\\\":\\\\\"interstitial\\\\\"},{\\\\\"__typename\\\\\":\\\\\"FeatureToggle\\\\\",\\\\\"name\\\\\":\\\\\"enableDotcomAds\\\\\",\\\\\"lookup\\\\\":\\\\\"enableDotcomAds\\\\\"},{\\\\\"__typename\\\\\":\\\\\"FeatureToggle\\\\\",\\\\\"name\\\\\":\\\\\"allowAdvertising\\\\\",\\\\\"lookup\\\\\":\\\\\"allowAdvertising\\\\\"}]}]},{\\\\\"element\\\\\":\\\\\"aside\\\\\",\\\\\"label\\\\\":\\\\\"leaderboard\\\\\",\\\\\"ariaHidden\\\\\":true,\\\\\"containers\\\\\":[{\\\\\"name\\\\\":\\\\\"dotcom-ad\\\\\",\\\\\"importance\\\\\":\\\\\"SECONDARY\\\\\",\\\\\"hasFetcher\\\\\":false,\\\\\"props\\\\\":[{\\\\\"__typename\\\\\":\\\\\"LiteralProp\\\\\",\\\\\"name\\\\\":\\\\\"slot\\\\\",\\\\\"value\\\\\":\\\\\"leaderboard\\\\\"},{\\\\\"__typename\\\\\":\\\\\"FeatureToggle\\\\\",\\\\\"name\\\\\":\\\\\"enableDotcomAds\\\\\",\\\\\"lookup\\\\\":\\\\\"enableDotcomAds\\\\\"},{\\\\\"__typename\\\\\":\\\\\"FeatureToggle\\\\\",\\\\\"name\\\\\":\\\\\"allowAdvertising\\\\\",\\\\\"lookup\\\\\":\\\\\"allowAdvertising\\\\\"}]}]},{\\\\\"element\\\\\":\\\\\"aside\\\\\",\\\\\"label\\\\\":\\\\\"sponsor\\\\\",\\\\\"ariaHidden\\\\\":true,\\\\\"containers\\\\\":[{\\\\\"name\\\\\":\\\\\"dotcom-ad\\\\\",\\\\\"importance\\\\\":\\\\\"TERTIARY\\\\\",\\\\\"hasFetcher\\\\\":false,\\\\\"props\\\\\":[{\\\\\"__typename\\\\\":\\\\\"LiteralProp\\\\\",\\\\\"name\\\\\":\\\\\"slot\\\\\",\\\\\"value\\\\\":\\\\\"sponsor\\\\\"},{\\\\\"__typename\\\\\":\\\\\"FeatureToggle\\\\\",\\\\\"name\\\\\":\\\\\"enableDotcomAds\\\\\",\\\\\"lookup\\\\\":\\\\\"enableDotcomAds\\\\\"},{\\\\\"__typename\\\\\":\\\\\"FeatureToggle\\\\\",\\\\\"name\\\\\":\\\\\"allowAdvertising\\\\\",\\\\\"lookup\\\\\":\\\\\"allowAdvertising\\\\\"}]}]},{\\\\\"element\\\\\":\\\\\"aside\\\\\",\\\\\"label\\\\\":\\\\\"piano-header\\\\\",\\\\\"ariaHidden\\\\\":true,\\\\\"containers\\\\\":[{\\\\\"name\\\\\":\\\\\"dotcom-ad\\\\\",\\\\\"importance\\\\\":\\\\\"TERTIARY\\\\\",\\\\\"hasFetcher\\\\\":false,\\\\\"props\\\\\":[{\\\\\"__typename\\\\\":\\\\\"LiteralProp\\\\\",\\\\\"name\\\\\":\\\\\"slot\\\\\",\\\\\"value\\\\\":\\\\\"piano-header\\\\\"},{\\\\\"__typename\\\\\":\\\\\"FeatureToggle\\\\\",\\\\\"name\\\\\":\\\\\"enableDotcomAds\\\\\",\\\\\"lookup\\\\\":\\\\\"enableDotcomAds\\\\\"},{\\\\\"__typename\\\\\":\\\\\"FeatureToggle\\\\\",\\\\\"name\\\\\":\\\\\"allowAdvertising\\\\\",\\\\\"lookup\\\\\":\\\\\"allowAdvertising\\\\\"}]}]}],\\\\\"additionalProperties\\\\\":{}},{\\\\\"name\\\\\":\\\\\"before\\\\\",\\\\\"landmarks\\\\\":[],\\\\\"additionalProperties\\\\\":{}},{\\\\\"name\\\\\":\\\\\"standard\\\\\",\\\\\"landmarks\\\\\":[{\\\\\"element\\\\\":\\\\\"main\\\\\",\\\\\"containers\\\\\":[{\\\\\"name\\\\\":\\\\\"sign-in-prompt\\\\\",\\\\\"importance\\\\\":\\\\\"TERTIARY\\\\\",\\\\\"hasFetcher\\\\\":false,\\\\\"props\\\\\":[{\\\\\"__typename\\\\\":\\\\\"StoreReader\\\\\",\\\\\"name\\\\\":\\\\\"signInPrompt\\\\\",\\\\\"lookup\\\\\":\\\\\"signInPrompt\\\\\",\\\\\"store\\\\\":\\\\\"bbcAccount\\\\\"},{\\\\\"__typename\\\\\":\\\\\"StoreReader\\\\\",\\\\\"name\\\\\":\\\\\"pageType\\\\\",\\\\\"lookup\\\\\":\\\\\"pageType\\\\\",\\\\\"store\\\\\":\\\\\"bbcAccount\\\\\"},{\\\\\"__typename\\\\\":\\\\\"LiteralProp\\\\\",\\\\\"name\\\\\":\\\\\"useExperimentCountingLogic\\\\\",\\\\\"value\\\\\":false},{\\\\\"__typename\\\\\":\\\\\"LiteralProp\\\\\",\\\\\"name\\\\\":\\\\\"disableAutomaticSignInPrompt\\\\\",\\\\\"value\\\\\":false},{\\\\\"__typename\\\\\":\\\\\"StoreWriter\\\\\",\\\\\"name\\\\\":\\\\\"setSignInPrompt\\\\\",\\\\\"lookup\\\\\":\\\\\"signInPrompt\\\\\",\\\\\"store\\\\\":\\\\\"bbcAccount\\\\\"}]},{\\\\\"name\\\\\":\\\\\"article\\\\\",\\\\\"importance\\\\\":\\\\\"PRIMARY\\\\\",\\\\\"hasFetcher\\\\\":true,\\\\\"props\\\\\":[{\\\\\"__typename\\\\\":\\\\\"FeatureToggle\\\\\",\\\\\"name\\\\\":\\\\\"isUploaderEnabled\\\\\",\\\\\"lookup\\\\\":\\\\\"articles-uploader\\\\\",\\\\\"fallbackValue\\\\\":false},{\\\\\"__typename\\\\\":\\\\\"FeatureToggle\\\\\",\\\\\"name\\\\\":\\\\\"isRiddleEnabled\\\\\",\\\\\"lookup\\\\\":\\\\\"articles-riddle\\\\\",\\\\\"fallbackValue\\\\\":false},{\\\\\"__typename\\\\\":\\\\\"FeatureToggle\\\\\",\\\\\"name\\\\\":\\\\\"isIdt2Enabled\\\\\",\\\\\"lookup\\\\\":\\\\\"articles-idt2\\\\\",\\\\\"fallbackValue\\\\\":false},{\\\\\"__typename\\\\\":\\\\\"LiteralProp\\\\\",\\\\\"name\\\\\":\\\\\"uri\\\\\",\\\\\"value\\\\\":\\\\\"/news/world-asia-india-66851211\\\\\"},{\\\\\"__typename\\\\\":\\\\\"LiteralProp\\\\\",\\\\\"name\\\\\":\\\\\"analyticsDataSource\\\\\",\\\\\"value\\\\\":\\\\\"CPS\\\\\"},{\\\\\"__typename\\\\\":\\\\\"LiteralProp\\\\\",\\\\\"name\\\\\":\\\\\"withTimestampBlock\\\\\",\\\\\"value\\\\\":false},{\\\\\"__typename\\\\\":\\\\\"LiteralProp\\\\\",\\\\\"name\\\\\":\\\\\"shouldSendUASEvent\\\\\",\\\\\"value\\\\\":true},{\\\\\"__typename\\\\\":\\\\\"LiteralProp\\\\\",\\\\\"name\\\\\":\\\\\"leftAligned\\\\\",\\\\\"value\\\\\":true},{\\\\\"__typename\\\\\":\\\\\"LiteralProp\\\\\",\\\\\"name\\\\\":\\\\\"isAdvertisingEnabled\\\\\",\\\\\"value\\\\\":true},{\\\\\"__typename\\\\\":\\\\\"LiteralProp\\\\\",\\\\\"name\\\\\":\\\\\"isUk\\\\\",\\\\\"value\\\\\":false},{\\\\\"__typename\\\\\":\\\\\"LiteralProp\\\\\",\\\\\"name\\\\\":\\\\\"service\\\\\",\\\\\"value\\\\\":\\\\\"news\\\\\"},{\\\\\"__typename\\\\\":\\\\\"RouteParam\\\\\",\\\\\"name\\\\\":\\\\\"optimoId\\\\\",\\\\\"lookup\\\\\":\\\\\"optimoId\\\\\"},{\\\\\"__typename\\\\\":\\\\\"RequestContext\\\\\",\\\\\"name\\\\\":\\\\\"host\\\\\",\\\\\"lookup\\\\\":\\\\\"host\\\\\"},{\\\\\"__typename\\\\\":\\\\\"RequestContext\\\\\",\\\\\"name\\\\\":\\\\\"language\\\\\",\\\\\"lookup\\\\\":\\\\\"language\\\\\"},{\\\\\"__typename\\\\\":\\\\\"RequestContext\\\\\",\\\\\"name\\\\\":\\\\\"env\\\\\",\\\\\"lookup\\\\\":\\\\\"env\\\\\"},{\\\\\"__typename\\\\\":\\\\\"StoreReader\\\\\",\\\\\"name\\\\\":\\\\\"currentPageAnalyticsDestination\\\\\",\\\\\"lookup\\\\\":\\\\\"page.destination\\\\\",\\\\\"store\\\\\":\\\\\"analytics\\\\\"},{\\\\\"__typename\\\\\":\\\\\"StoreReader\\\\\",\\\\\"name\\\\\":\\\\\"experienceComposition\\\\\",\\\\\"lookup\\\\\":\\\\\"page.additionalProperties.experience_composition\\\\\",\\\\\"store\\\\\":\\\\\"analytics\\\\\"},{\\\\\"__typename\\\\\":\\\\\"StoreReader\\\\\",\\\\\"name\\\\\":\\\\\"name\\\\\",\\\\\"lookup\\\\\":\\\\\"page.name\\\\\",\\\\\"store\\\\\":\\\\\"analytics\\\\\"},{\\\\\"__typename\\\\\":\\\\\"StoreReader\\\\\",\\\\\"name\\\\\":\\\\\"producer\\\\\",\\\\\"lookup\\\\\":\\\\\"page.producer\\\\\",\\\\\"store\\\\\":\\\\\"analytics\\\\\"},{\\\\\"__typename\\\\\":\\\\\"StoreReader\\\\\",\\\\\"name\\\\\":\\\\\"experienceResourceId\\\\\",\\\\\"lookup\\\\\":\\\\\"metadata.urn\\\\\",\\\\\"store\\\\\":\\\\\"article\\\\\"}]}]},{\\\\\"element\\\\\":\\\\\"aside\\\\\",\\\\\"label\\\\\":\\\\\"mpu-main\\\\\",\\\\\"ariaHidden\\\\\":true,\\\\\"containers\\\\\":[{\\\\\"name\\\\\":\\\\\"dotcom-ad\\\\\",\\\\\"importance\\\\\":\\\\\"TERTIARY\\\\\",\\\\\"hasFetcher\\\\\":false,\\\\\"props\\\\\":[{\\\\\"__typename\\\\\":\\\\\"LiteralProp\\\\\",\\\\\"name\\\\\":\\\\\"slot\\\\\",\\\\\"value\\\\\":\\\\\"mpu-main\\\\\"},{\\\\\"__typename\\\\\":\\\\\"FeatureToggle\\\\\",\\\\\"name\\\\\":\\\\\"enableDotcomAds\\\\\",\\\\\"lookup\\\\\":\\\\\"enableDotcomAds\\\\\"},{\\\\\"__typename\\\\\":\\\\\"FeatureToggle\\\\\",\\\\\"name\\\\\":\\\\\"allowAdvertising\\\\\",\\\\\"lookup\\\\\":\\\\\"allowAdvertising\\\\\"}]}]},{\\\\\"element\\\\\":\\\\\"aside\\\\\",\\\\\"label\\\\\":\\\\\"content-rec\\\\\",\\\\\"ariaHidden\\\\\":true,\\\\\"containers\\\\\":[{\\\\\"name\\\\\":\\\\\"dotcom-ad\\\\\",\\\\\"importance\\\\\":\\\\\"TERTIARY\\\\\",\\\\\"hasFetcher\\\\\":false,\\\\\"props\\\\\":[{\\\\\"__typename\\\\\":\\\\\"LiteralProp\\\\\",\\\\\"name\\\\\":\\\\\"slot\\\\\",\\\\\"value\\\\\":\\\\\"content-rec\\\\\"},{\\\\\"__typename\\\\\":\\\\\"FeatureToggle\\\\\",\\\\\"name\\\\\":\\\\\"enableDotcomAds\\\\\",\\\\\"lookup\\\\\":\\\\\"enableDotcomAds\\\\\"},{\\\\\"__typename\\\\\":\\\\\"FeatureToggle\\\\\",\\\\\"name\\\\\":\\\\\"allowAdvertising\\\\\",\\\\\"lookup\\\\\":\\\\\"allowAdvertising\\\\\"}]}]}],\\\\\"additionalProperties\\\\\":{\\\\\"layout\\\\\":\\\\\"COMPACT\\\\\"}},{\\\\\"name\\\\\":\\\\\"after\\\\\",\\\\\"landmarks\\\\\":[{\\\\\"element\\\\\":\\\\\"aside\\\\\",\\\\\"labelledBy\\\\\":\\\\\"topStories-label\\\\\",\\\\\"ariaHidden\\\\\":false,\\\\\"containers\\\\\":[{\\\\\"name\\\\\":\\\\\"onward-journeys\\\\\",\\\\\"importance\\\\\":\\\\\"SECONDARY\\\\\",\\\\\"isPersonalised\\\\\":false,\\\\\"hasFetcher\\\\\":true,\\\\\"props\\\\\":[{\\\\\"__typename\\\\\":\\\\\"LiteralProp\\\\\",\\\\\"name\\\\\":\\\\\"analyticsDataSource\\\\\",\\\\\"value\\\\\":\\\\\"CPS\\\\\"},{\\\\\"__typename\\\\\":\\\\\"LiteralProp\\\\\",\\\\\"name\\\\\":\\\\\"columnsByBreakpoint\\\\\",\\\\\"value\\\\\":{\\\\\"base\\\\\":1,\\\\\"medium\\\\\":3,\\\\\"large\\\\\":1}},{\\\\\"__typename\\\\\":\\\\\"LiteralProp\\\\\",\\\\\"name\\\\\":\\\\\"dataType\\\\\",\\\\\"value\\\\\":\\\\\"onwardJourneys\\\\\"},{\\\\\"__typename\\\\\":\\\\\"LiteralProp\\\\\",\\\\\"name\\\\\":\\\\\"isUk\\\\\",\\\\\"value\\\\\":false},{\\\\\"__typename\\\\\":\\\\\"LiteralProp\\\\\",\\\\\"name\\\\\":\\\\\"id\\\\\",\\\\\"value\\\\\":\\\\\"topStories\\\\\"},{\\\\\"__typename\\\\\":\\\\\"LiteralProp\\\\\",\\\\\"name\\\\\":\\\\\"limit\\\\\",\\\\\"value\\\\\":3},{\\\\\"__typename\\\\\":\\\\\"LiteralProp\\\\\",\\\\\"name\\\\\":\\\\\"promoSize\\\\\",\\\\\"value\\\\\":\\\\\"small\\\\\"},{\\\\\"__typename\\\\\":\\\\\"LiteralProp\\\\\",\\\\\"name\\\\\":\\\\\"region\\\\\",\\\\\"value\\\\\":\\\\\"us\\\\\"},{\\\\\"__typename\\\\\":\\\\\"LiteralProp\\\\\",\\\\\"name\\\\\":\\\\\"sectionHeader\\\\\",\\\\\"value\\\\\":{\\\\\"text\\\\\":\\\\\"Top Stories\\\\\"}},{\\\\\"__typename\\\\\":\\\\\"LiteralProp\\\\\",\\\\\"name\\\\\":\\\\\"service\\\\\",\\\\\"value\\\\\":\\\\\"news\\\\\"},{\\\\\"__typename\\\\\":\\\\\"LiteralProp\\\\\",\\\\\"name\\\\\":\\\\\"showTimestamp\\\\\",\\\\\"value\\\\\":true},{\\\\\"__typename\\\\\":\\\\\"FeatureToggle\\\\\",\\\\\"name\\\\\":\\\\\"enableDotcomAds\\\\\",\\\\\"lookup\\\\\":\\\\\"enableDotcomAds\\\\\"},{\\\\\"__typename\\\\\":\\\\\"RequestContext\\\\\",\\\\\"name\\\\\":\\\\\"country\\\\\",\\\\\"lookup\\\\\":\\\\\"country\\\\\"},{\\\\\"__typename\\\\\":\\\\\"RequestContext\\\\\",\\\\\"name\\\\\":\\\\\"language\\\\\",\\\\\"lookup\\\\\":\\\\\"language\\\\\"}]}]},{\\\\\"element\\\\\":\\\\\"aside\\\\\",\\\\\"label\\\\\":\\\\\"mpu-side\\\\\",\\\\\"ariaHidden\\\\\":true,\\\\\"containers\\\\\":[{\\\\\"name\\\\\":\\\\\"dotcom-ad\\\\\",\\\\\"importance\\\\\":\\\\\"TERTIARY\\\\\",\\\\\"hasFetcher\\\\\":false,\\\\\"props\\\\\":[{\\\\\"__typename\\\\\":\\\\\"LiteralProp\\\\\",\\\\\"name\\\\\":\\\\\"slot\\\\\",\\\\\"value\\\\\":\\\\\"mpu-side\\\\\"},{\\\\\"__typename\\\\\":\\\\\"FeatureToggle\\\\\",\\\\\"name\\\\\":\\\\\"enableDotcomAds\\\\\",\\\\\"lookup\\\\\":\\\\\"enableDotcomAds\\\\\"},{\\\\\"__typename\\\\\":\\\\\"FeatureToggle\\\\\",\\\\\"name\\\\\":\\\\\"allowAdvertising\\\\\",\\\\\"lookup\\\\\":\\\\\"allowAdvertising\\\\\"}]}]},{\\\\\"element\\\\\":\\\\\"aside\\\\\",\\\\\"labelledBy\\\\\":\\\\\"onwardJourneysExperimental-label\\\\\",\\\\\"ariaHidden\\\\\":false,\\\\\"containers\\\\\":[{\\\\\"name\\\\\":\\\\\"onward-journeys-experimental\\\\\",\\\\\"importance\\\\\":\\\\\"SECONDARY\\\\\",\\\\\"hasFetcher\\\\\":false,\\\\\"props\\\\\":[{\\\\\"__typename\\\\\":\\\\\"FeatureToggle\\\\\",\\\\\"name\\\\\":\\\\\"isExperimentEnabled\\\\\",\\\\\"lookup\\\\\":\\\\\"articles-sign-in-experiment\\\\\",\\\\\"fallbackValue\\\\\":false},{\\\\\"__typename\\\\\":\\\\\"StoreReader\\\\\",\\\\\"name\\\\\":\\\\\"experienceResourceId\\\\\",\\\\\"lookup\\\\\":\\\\\"metadata.urn\\\\\",\\\\\"store\\\\\":\\\\\"article\\\\\"}]}]},{\\\\\"element\\\\\":\\\\\"aside\\\\\",\\\\\"labelledBy\\\\\":\\\\\"features-label\\\\\",\\\\\"ariaHidden\\\\\":false,\\\\\"containers\\\\\":[{\\\\\"name\\\\\":\\\\\"onward-journeys\\\\\",\\\\\"importance\\\\\":\\\\\"SECONDARY\\\\\",\\\\\"isPersonalised\\\\\":false,\\\\\"hasFetcher\\\\\":true,\\\\\"props\\\\\":[{\\\\\"__typename\\\\\":\\\\\"LiteralProp\\\\\",\\\\\"name\\\\\":\\\\\"analyticsDataSource\\\\\",\\\\\"value\\\\\":\\\\\"CPS\\\\\"},{\\\\\"__typename\\\\\":\\\\\"LiteralProp\\\\\",\\\\\"name\\\\\":\\\\\"columnsByBreakpoint\\\\\",\\\\\"value\\\\\":{\\\\\"base\\\\\":2,\\\\\"medium\\\\\":3,\\\\\"large\\\\\":1}},{\\\\\"__typename\\\\\":\\\\\"LiteralProp\\\\\",\\\\\"name\\\\\":\\\\\"dataType\\\\\",\\\\\"value\\\\\":\\\\\"onwardJourneys\\\\\"},{\\\\\"__typename\\\\\":\\\\\"LiteralProp\\\\\",\\\\\"name\\\\\":\\\\\"isUk\\\\\",\\\\\"value\\\\\":false},{\\\\\"__typename\\\\\":\\\\\"LiteralProp\\\\\",\\\\\"name\\\\\":\\\\\"id\\\\\",\\\\\"value\\\\\":\\\\\"features\\\\\"},{\\\\\"__typename\\\\\":\\\\\"LiteralProp\\\\\",\\\\\"name\\\\\":\\\\\"insertAdSlotAtIndex\\\\\",\\\\\"value\\\\\":3},{\\\\\"__typename\\\\\":\\\\\"LiteralProp\\\\\",\\\\\"name\\\\\":\\\\\"limit\\\\\",\\\\\"value\\\\\":9},{\\\\\"__typename\\\\\":\\\\\"LiteralProp\\\\\",\\\\\"name\\\\\":\\\\\"region\\\\\",\\\\\"value\\\\\":\\\\\"us\\\\\"},{\\\\\"__typename\\\\\":\\\\\"LiteralProp\\\\\",\\\\\"name\\\\\":\\\\\"section\\\\\",\\\\\"value\\\\\":\\\\\"/news/world/asia/india\\\\\"},{\\\\\"__typename\\\\\":\\\\\"LiteralProp\\\\\",\\\\\"name\\\\\":\\\\\"sectionHeader\\\\\",\\\\\"value\\\\\":{\\\\\"text\\\\\":\\\\\"Features\\\\\"}},{\\\\\"__typename\\\\\":\\\\\"LiteralProp\\\\\",\\\\\"name\\\\\":\\\\\"service\\\\\",\\\\\"value\\\\\":\\\\\"news\\\\\"},{\\\\\"__typename\\\\\":\\\\\"LiteralProp\\\\\",\\\\\"name\\\\\":\\\\\"showImage\\\\\",\\\\\"value\\\\\":true},{\\\\\"__typename\\\\\":\\\\\"LiteralProp\\\\\",\\\\\"name\\\\\":\\\\\"showLoadingState\\\\\",\\\\\"value\\\\\":false},{\\\\\"__typename\\\\\":\\\\\"FeatureToggle\\\\\",\\\\\"name\\\\\":\\\\\"enableDotcomAds\\\\\",\\\\\"lookup\\\\\":\\\\\"enableDotcomAds\\\\\"},{\\\\\"__typename\\\\\":\\\\\"RequestContext\\\\\",\\\\\"name\\\\\":\\\\\"country\\\\\",\\\\\"lookup\\\\\":\\\\\"country\\\\\"},{\\\\\"__typename\\\\\":\\\\\"RequestContext\\\\\",\\\\\"name\\\\\":\\\\\"language\\\\\",\\\\\"lookup\\\\\":\\\\\"language\\\\\"}]}]},{\\\\\"element\\\\\":\\\\\"aside\\\\\",\\\\\"label\\\\\":\\\\\"native\\\\\",\\\\\"ariaHidden\\\\\":true,\\\\\"containers\\\\\":[{\\\\\"name\\\\\":\\\\\"dotcom-ad\\\\\",\\\\\"importance\\\\\":\\\\\"TERTIARY\\\\\",\\\\\"hasFetcher\\\\\":false,\\\\\"props\\\\\":[{\\\\\"__typename\\\\\":\\\\\"LiteralProp\\\\\",\\\\\"name\\\\\":\\\\\"slot\\\\\",\\\\\"value\\\\\":\\\\\"native\\\\\"},{\\\\\"__typename\\\\\":\\\\\"FeatureToggle\\\\\",\\\\\"name\\\\\":\\\\\"enableDotcomAds\\\\\",\\\\\"lookup\\\\\":\\\\\"enableDotcomAds\\\\\"},{\\\\\"__typename\\\\\":\\\\\"FeatureToggle\\\\\",\\\\\"name\\\\\":\\\\\"allowAdvertising\\\\\",\\\\\"lookup\\\\\":\\\\\"allowAdvertising\\\\\"}]}]},{\\\\\"element\\\\\":\\\\\"aside\\\\\",\\\\\"labelledBy\\\\\":\\\\\"elsewhere-label\\\\\",\\\\\"ariaHidden\\\\\":false,\\\\\"containers\\\\\":[{\\\\\"name\\\\\":\\\\\"onward-journeys\\\\\",\\\\\"importance\\\\\":\\\\\"SECONDARY\\\\\",\\\\\"isPersonalised\\\\\":false,\\\\\"hasFetcher\\\\\":true,\\\\\"props\\\\\":[{\\\\\"__typename\\\\\":\\\\\"LiteralProp\\\\\",\\\\\"name\\\\\":\\\\\"analyticsDataSource\\\\\",\\\\\"value\\\\\":\\\\\"CPS\\\\\"},{\\\\\"__typename\\\\\":\\\\\"LiteralProp\\\\\",\\\\\"name\\\\\":\\\\\"columnsByBreakpoint\\\\\",\\\\\"value\\\\\":{\\\\\"base\\\\\":2,\\\\\"medium\\\\\":3,\\\\\"large\\\\\":1}},{\\\\\"__typename\\\\\":\\\\\"LiteralProp\\\\\",\\\\\"name\\\\\":\\\\\"dataType\\\\\",\\\\\"value\\\\\":\\\\\"contentSummaries\\\\\"},{\\\\\"__typename\\\\\":\\\\\"LiteralProp\\\\\",\\\\\"name\\\\\":\\\\\"isUk\\\\\",\\\\\"value\\\\\":false},{\\\\\"__typename\\\\\":\\\\\"LiteralProp\\\\\",\\\\\"name\\\\\":\\\\\"id\\\\\",\\\\\"value\\\\\":\\\\\"elsewhere\\\\\"},{\\\\\"__typename\\\\\":\\\\\"LiteralProp\\\\\",\\\\\"name\\\\\":\\\\\"limit\\\\\",\\\\\"value\\\\\":4},{\\\\\"__typename\\\\\":\\\\\"LiteralProp\\\\\",\\\\\"name\\\\\":\\\\\"region\\\\\",\\\\\"value\\\\\":\\\\\"us\\\\\"},{\\\\\"__typename\\\\\":\\\\\"LiteralProp\\\\\",\\\\\"name\\\\\":\\\\\"sectionHeader\\\\\",\\\\\"value\\\\\":{\\\\\"text\\\\\":\\\\\"Elsewhere on the BBC\\\\\"}},{\\\\\"__typename\\\\\":\\\\\"LiteralProp\\\\\",\\\\\"name\\\\\":\\\\\"service\\\\\",\\\\\"value\\\\\":\\\\\"news\\\\\"},{\\\\\"__typename\\\\\":\\\\\"LiteralProp\\\\\",\\\\\"name\\\\\":\\\\\"showDescription\\\\\",\\\\\"value\\\\\":true},{\\\\\"__typename\\\\\":\\\\\"LiteralProp\\\\\",\\\\\"name\\\\\":\\\\\"showImage\\\\\",\\\\\"value\\\\\":true},{\\\\\"__typename\\\\\":\\\\\"LiteralProp\\\\\",\\\\\"name\\\\\":\\\\\"showLoadingState\\\\\",\\\\\"value\\\\\":false},{\\\\\"__typename\\\\\":\\\\\"LiteralProp\\\\\",\\\\\"name\\\\\":\\\\\"urn\\\\\",\\\\\"value\\\\\":\\\\\"urn:bbc:cps:curie:asset:6b29b3bc-3068-4fa0-88aa-86174f0b5249\\\\\"},{\\\\\"__typename\\\\\":\\\\\"FeatureToggle\\\\\",\\\\\"name\\\\\":\\\\\"enableDotcomAds\\\\\",\\\\\"lookup\\\\\":\\\\\"enableDotcomAds\\\\\"},{\\\\\"__typename\\\\\":\\\\\"RequestContext\\\\\",\\\\\"name\\\\\":\\\\\"country\\\\\",\\\\\"lookup\\\\\":\\\\\"country\\\\\"},{\\\\\"__typename\\\\\":\\\\\"RequestContext\\\\\",\\\\\"name\\\\\":\\\\\"language\\\\\",\\\\\"lookup\\\\\":\\\\\"language\\\\\"}]}]},{\\\\\"element\\\\\":\\\\\"aside\\\\\",\\\\\"label\\\\\":\\\\\"piano-sidebar\\\\\",\\\\\"ariaHidden\\\\\":true,\\\\\"containers\\\\\":[{\\\\\"name\\\\\":\\\\\"dotcom-ad\\\\\",\\\\\"importance\\\\\":\\\\\"TERTIARY\\\\\",\\\\\"hasFetcher\\\\\":false,\\\\\"props\\\\\":[{\\\\\"__typename\\\\\":\\\\\"LiteralProp\\\\\",\\\\\"name\\\\\":\\\\\"slot\\\\\",\\\\\"value\\\\\":\\\\\"piano-sidebar\\\\\"},{\\\\\"__typename\\\\\":\\\\\"FeatureToggle\\\\\",\\\\\"name\\\\\":\\\\\"enableDotcomAds\\\\\",\\\\\"lookup\\\\\":\\\\\"enableDotcomAds\\\\\"},{\\\\\"__typename\\\\\":\\\\\"FeatureToggle\\\\\",\\\\\"name\\\\\":\\\\\"allowAdvertising\\\\\",\\\\\"lookup\\\\\":\\\\\"allowAdvertising\\\\\"}]}]},{\\\\\"element\\\\\":\\\\\"aside\\\\\",\\\\\"labelledBy\\\\\":\\\\\"mostRead-label\\\\\",\\\\\"ariaHidden\\\\\":false,\\\\\"containers\\\\\":[{\\\\\"name\\\\\":\\\\\"onward-journeys\\\\\",\\\\\"importance\\\\\":\\\\\"SECONDARY\\\\\",\\\\\"isPersonalised\\\\\":false,\\\\\"hasFetcher\\\\\":true,\\\\\"props\\\\\":[{\\\\\"__typename\\\\\":\\\\\"LiteralProp\\\\\",\\\\\"name\\\\\":\\\\\"analyticsDataSource\\\\\",\\\\\"value\\\\\":\\\\\"CPS\\\\\"},{\\\\\"__typename\\\\\":\\\\\"LiteralProp\\\\\",\\\\\"name\\\\\":\\\\\"columnsByBreakpoint\\\\\",\\\\\"value\\\\\":{\\\\\"medium\\\\\":2,\\\\\"large\\\\\":1}},{\\\\\"__typename\\\\\":\\\\\"LiteralProp\\\\\",\\\\\"name\\\\\":\\\\\"dataType\\\\\",\\\\\"value\\\\\":\\\\\"onwardJourneys\\\\\"},{\\\\\"__typename\\\\\":\\\\\"LiteralProp\\\\\",\\\\\"name\\\\\":\\\\\"edition\\\\\",\\\\\"value\\\\\":\\\\\"us\\\\\"},{\\\\\"__typename\\\\\":\\\\\"LiteralProp\\\\\",\\\\\"name\\\\\":\\\\\"expiresInMs\\\\\",\\\\\"value\\\\\":3600000},{\\\\\"__typename\\\\\":\\\\\"LiteralProp\\\\\",\\\\\"name\\\\\":\\\\\"isUk\\\\\",\\\\\"value\\\\\":false},{\\\\\"__typename\\\\\":\\\\\"LiteralProp\\\\\",\\\\\"name\\\\\":\\\\\"id\\\\\",\\\\\"value\\\\\":\\\\\"mostRead\\\\\"},{\\\\\"__typename\\\\\":\\\\\"LiteralProp\\\\\",\\\\\"name\\\\\":\\\\\"isRanking\\\\\",\\\\\"value\\\\\":true},{\\\\\"__typename\\\\\":\\\\\"LiteralProp\\\\\",\\\\\"name\\\\\":\\\\\"sectionHeader\\\\\",\\\\\"value\\\\\":{\\\\\"text\\\\\":\\\\\"Most Read\\\\\"}},{\\\\\"__typename\\\\\":\\\\\"LiteralProp\\\\\",\\\\\"name\\\\\":\\\\\"service\\\\\",\\\\\"value\\\\\":\\\\\"news\\\\\"},{\\\\\"__typename\\\\\":\\\\\"FeatureToggle\\\\\",\\\\\"name\\\\\":\\\\\"enableDotcomAds\\\\\",\\\\\"lookup\\\\\":\\\\\"enableDotcomAds\\\\\"},{\\\\\"__typename\\\\\":\\\\\"RequestContext\\\\\",\\\\\"name\\\\\":\\\\\"language\\\\\",\\\\\"lookup\\\\\":\\\\\"language\\\\\"}]}]},{\\\\\"element\\\\\":\\\\\"aside\\\\\",\\\\\"label\\\\\":\\\\\"mpu_bottom\\\\\",\\\\\"ariaHidden\\\\\":true,\\\\\"containers\\\\\":[{\\\\\"name\\\\\":\\\\\"dotcom-ad\\\\\",\\\\\"importance\\\\\":\\\\\"TERTIARY\\\\\",\\\\\"hasFetcher\\\\\":false,\\\\\"props\\\\\":[{\\\\\"__typename\\\\\":\\\\\"LiteralProp\\\\\",\\\\\"name\\\\\":\\\\\"slot\\\\\",\\\\\"value\\\\\":\\\\\"mpu_bottom\\\\\"},{\\\\\"__typename\\\\\":\\\\\"FeatureToggle\\\\\",\\\\\"name\\\\\":\\\\\"enableDotcomAds\\\\\",\\\\\"lookup\\\\\":\\\\\"enableDotcomAds\\\\\"},{\\\\\"__typename\\\\\":\\\\\"FeatureToggle\\\\\",\\\\\"name\\\\\":\\\\\"allowAdvertising\\\\\",\\\\\"lookup\\\\\":\\\\\"allowAdvertising\\\\\"}]}]},{\\\\\"element\\\\\":\\\\\"aside\\\\\",\\\\\"label\\\\\":\\\\\"adsense\\\\\",\\\\\"ariaHidden\\\\\":true,\\\\\"containers\\\\\":[{\\\\\"name\\\\\":\\\\\"dotcom-ad\\\\\",\\\\\"importance\\\\\":\\\\\"TERTIARY\\\\\",\\\\\"hasFetcher\\\\\":false,\\\\\"props\\\\\":[{\\\\\"__typename\\\\\":\\\\\"LiteralProp\\\\\",\\\\\"name\\\\\":\\\\\"slot\\\\\",\\\\\"value\\\\\":\\\\\"adsense\\\\\"},{\\\\\"__typename\\\\\":\\\\\"FeatureToggle\\\\\",\\\\\"name\\\\\":\\\\\"enableDotcomAds\\\\\",\\\\\"lookup\\\\\":\\\\\"enableDotcomAds\\\\\"},{\\\\\"__typename\\\\\":\\\\\"FeatureToggle\\\\\",\\\\\"name\\\\\":\\\\\"allowAdvertising\\\\\",\\\\\"lookup\\\\\":\\\\\"allowAdvertising\\\\\"}]}]}],\\\\\"additionalProperties\\\\\":{}},{\\\\\"name\\\\\":\\\\\"bottom\\\\\",\\\\\"landmarks\\\\\":[{\\\\\"element\\\\\":\\\\\"aside\\\\\",\\\\\"label\\\\\":\\\\\"piano-footer\\\\\",\\\\\"ariaHidden\\\\\":true,\\\\\"containers\\\\\":[{\\\\\"name\\\\\":\\\\\"dotcom-ad\\\\\",\\\\\"importance\\\\\":\\\\\"TERTIARY\\\\\",\\\\\"hasFetcher\\\\\":false,\\\\\"props\\\\\":[{\\\\\"__typename\\\\\":\\\\\"LiteralProp\\\\\",\\\\\"name\\\\\":\\\\\"slot\\\\\",\\\\\"value\\\\\":\\\\\"piano-footer\\\\\"},{\\\\\"__typename\\\\\":\\\\\"FeatureToggle\\\\\",\\\\\"name\\\\\":\\\\\"enableDotcomAds\\\\\",\\\\\"lookup\\\\\":\\\\\"enableDotcomAds\\\\\"},{\\\\\"__typename\\\\\":\\\\\"FeatureToggle\\\\\",\\\\\"name\\\\\":\\\\\"allowAdvertising\\\\\",\\\\\"lookup\\\\\":\\\\\"allowAdvertising\\\\\"}]}]},{\\\\\"element\\\\\":\\\\\"footer\\\\\",\\\\\"containers\\\\\":[{\\\\\"name\\\\\":\\\\\"service-bar\\\\\",\\\\\"importance\\\\\":\\\\\"SECONDARY\\\\\",\\\\\"hasFetcher\\\\\":true,\\\\\"props\\\\\":[{\\\\\"__typename\\\\\":\\\\\"LiteralProp\\\\\",\\\\\"name\\\\\":\\\\\"product\\\\\",\\\\\"value\\\\\":\\\\\"news\\\\\"},{\\\\\"__typename\\\\\":\\\\\"RequestContext\\\\\",\\\\\"name\\\\\":\\\\\"language\\\\\",\\\\\"lookup\\\\\":\\\\\"language\\\\\"}]},{\\\\\"name\\\\\":\\\\\"global-footer\\\\\",\\\\\"importance\\\\\":\\\\\"PRIMARY\\\\\",\\\\\"hasFetcher\\\\\":true,\\\\\"props\\\\\":[],\\\\\"fetchParams\\\\\":[{\\\\\"__typename\\\\\":\\\\\"RequestContext\\\\\",\\\\\"name\\\\\":\\\\\"country\\\\\",\\\\\"lookup\\\\\":\\\\\"country\\\\\"},{\\\\\"__typename\\\\\":\\\\\"RequestContext\\\\\",\\\\\"name\\\\\":\\\\\"language\\\\\",\\\\\"lookup\\\\\":\\\\\"language\\\\\"},{\\\\\"__typename\\\\\":\\\\\"RouteParam\\\\\",\\\\\"name\\\\\":\\\\\"service\\\\\",\\\\\"lookup\\\\\":\\\\\"service\\\\\"},{\\\\\"__typename\\\\\":\\\\\"LiteralProp\\\\\",\\\\\"name\\\\\":\\\\\"service\\\\\"},{\\\\\"__typename\\\\\":\\\\\"StoreReader\\\\\",\\\\\"name\\\\\":\\\\\"variant\\\\\",\\\\\"store\\\\\":\\\\\"global-navigation\\\\\",\\\\\"lookup\\\\\":\\\\\"variant\\\\\"}]}]}],\\\\\"additionalProperties\\\\\":{}}]},\\\\\"levers\\\\\":{\\\\\"servicePalette\\\\\":\\\\\"newsLight\\\\\",\\\\\"corePalette\\\\\":\\\\\"light\\\\\",\\\\\"fontPalette\\\\\":\\\\\"mixedInformative\\\\\"},\\\\\"stores\\\\\":[{\\\\\"name\\\\\":\\\\\"analytics\\\\\",\\\\\"type\\\\\":\\\\\"InMemory\\\\\",\\\\\"initialState\\\\\":{\\\\\"props\\\\\":[{\\\\\"__typename\\\\\":\\\\\"LiteralProp\\\\\",\\\\\"name\\\\\":\\\\\"page\\\\\",\\\\\"value\\\\\":{\\\\\"destination\\\\\":\\\\\"NEWS_GNL\\\\\",\\\\\"producer\\\\\":\\\\\"NEWS\\\\\",\\\\\"contentType\\\\\":\\\\\"article\\\\\",\\\\\"contentId\\\\\":\\\\\"urn:bbc:cps:curie:asset:2bc450d2-af1e-4bb8-84d4-838c2994731a\\\\\",\\\\\"language\\\\\":\\\\\"en\\\\\",\\\\\"name\\\\\":\\\\\"news.world.asia.india.story.66851211.page\\\\\",\\\\\"section\\\\\":\\\\\"world::asia::india\\\\\",\\\\\"additionalProperties\\\\\":{\\\\\"app_name\\\\\":\\\\\"news\\\\\",\\\\\"app_type\\\\\":\\\\\"responsive\\\\\",\\\\\"experience_composition\\\\\":[\\\\\"long-form\\\\\"],\\\\\"experience_resource_id\\\\\":\\\\\"urn:bbc:cps:curie:asset:2bc450d2-af1e-4bb8-84d4-838c2994731a\\\\\",\\\\\"custom_var_1\\\\\":\\\\\"2023-09-19T12:57:25.000Z\\\\\",\\\\\"custom_var_2\\\\\":\\\\\"2023-09-19T14:39:40.000Z\\\\\",\\\\\"custom_var_3\\\\\":\\\\\"Narendra+Modi~India+Parliament~India~Delhi~South+Asia~Asia\\\\\",\\\\\"custom_var_4\\\\\":\\\\\"103fc7e4-3a8d-491c-9a75-3c37c299d48f~1059fd6c-a631-406b-95fd-c6e0cf0f0c28~5a08f030-710f-4168-acee-67294a90fc75~65cb5b06-fd93-4667-8ce6-94373a564409~755f36fe-2126-4225-92bf-ac459c3c8832~ba90754a-9033-4e9c-990b-d1139e5070a3\\\\\",\\\\\"comments_enabled\\\\\":false,\\\\\"uploader_format\\\\\":false}}},{\\\\\"__typename\\\\\":\\\\\"LiteralProp\\\\\",\\\\\"name\\\\\":\\\\\"sections\\\\\",\\\\\"value\\\\\":[\\\\\"News\\\\\",\\\\\"News - india\\\\\",\\\\\"News - STY\\\\\",\\\\\"News - india - STY\\\\\",\\\\\"News - news-category\\\\\"]},{\\\\\"__typename\\\\\":\\\\\"LiteralProp\\\\\",\\\\\"name\\\\\":\\\\\"authors\\\\\",\\\\\"value\\\\\":null},{\\\\\"__typename\\\\\":\\\\\"LiteralProp\\\\\",\\\\\"name\\\\\":\\\\\"title\\\\\",\\\\\"value\\\\\":\\\\\"Special session: Modi introduces women\\'s bill in new India parliament\\\\\"}]}},{\\\\\"name\\\\\":\\\\\"userLocationData\\\\\",\\\\\"type\\\\\":\\\\\"InMemory\\\\\",\\\\\"initialState\\\\\":{\\\\\"props\\\\\":[{\\\\\"__typename\\\\\":\\\\\"LiteralProp\\\\\",\\\\\"name\\\\\":\\\\\"userLocationData\\\\\",\\\\\"value\\\\\":{}}]}},{\\\\\"name\\\\\":\\\\\"article\\\\\",\\\\\"type\\\\\":\\\\\"InMemory\\\\\",\\\\\"initialState\\\\\":{\\\\\"props\\\\\":[{\\\\\"__typename\\\\\":\\\\\"LiteralProp\\\\\",\\\\\"name\\\\\":\\\\\"metadata\\\\\",\\\\\"value\\\\\":{\\\\\"id\\\\\":\\\\\"urn:bbc:ares::asset:news/world-asia-india-66851211\\\\\",\\\\\"assetId\\\\\":\\\\\"66851211\\\\\",\\\\\"curie\\\\\":\\\\\"http://www.bbc.co.uk/asset/2bc450d2-af1e-4bb8-84d4-838c2994731a\\\\\",\\\\\"locators\\\\\":{\\\\\"canonicalUrl\\\\\":\\\\\"https://www.bbc.co.uk/news/world-asia-india-66851211\\\\\"},\\\\\"seoHeadline\\\\\":\\\\\"Special session: Modi introduces women\\'s bill in new India parliament\\\\\",\\\\\"promoHeadline\\\\\":{\\\\\"blocks\\\\\":[{\\\\\"type\\\\\":\\\\\"text\\\\\",\\\\\"model\\\\\":{\\\\\"blocks\\\\\":[{\\\\\"type\\\\\":\\\\\"paragraph\\\\\",\\\\\"model\\\\\":{\\\\\"text\\\\\":\\\\\"Decades-old women MPs bill tabled before India poll\\\\\",\\\\\"blocks\\\\\":[{\\\\\"type\\\\\":\\\\\"fragment\\\\\",\\\\\"model\\\\\":{\\\\\"text\\\\\":\\\\\"Decades-old women MPs bill tabled before India poll\\\\\",\\\\\"attributes\\\\\":[]}}]}}]}}]},\\\\\"indexImage\\\\\":{\\\\\"blocks\\\\\":[{\\\\\"type\\\\\":\\\\\"altText\\\\\",\\\\\"model\\\\\":{\\\\\"blocks\\\\\":[{\\\\\"type\\\\\":\\\\\"text\\\\\",\\\\\"model\\\\\":{\\\\\"blocks\\\\\":[{\\\\\"type\\\\\":\\\\\"fragment\\\\\",\\\\\"model\\\\\":{\\\\\"text\\\\\":\\\\\"India\\'s Prime Minister Narendra Modi waits to welcome leaders of the G20 countries at the Bharat Mandapam in New Delhi on September 9, 2023. (Photo by Ludovic MARIN / POOL / AFP) (Photo by LUDOVIC MARIN/POOL/AFP via Getty Images)\\\\\",\\\\\"attributes\\\\\":[]}}]}}]}},{\\\\\"type\\\\\":\\\\\"rawImage\\\\\",\\\\\"model\\\\\":{\\\\\"height\\\\\":549,\\\\\"width\\\\\":976,\\\\\"locator\\\\\":\\\\\"2E42/production/_131124811_gettyimages-1653682262.jpg\\\\\",\\\\\"originCode\\\\\":\\\\\"cpsprodpb\\\\\",\\\\\"copyrightHolder\\\\\":\\\\\"Getty Images\\\\\"}},{\\\\\"type\\\\\":\\\\\"caption\\\\\",\\\\\"model\\\\\":{\\\\\"blocks\\\\\":[{\\\\\"type\\\\\":\\\\\"text\\\\\",\\\\\"model\\\\\":{\\\\\"blocks\\\\\":[{\\\\\"type\\\\\":\\\\\"fragment\\\\\",\\\\\"model\\\\\":{\\\\\"text\\\\\":\\\\\"PM Modi is set to walk to the new building\\\\\",\\\\\"attributes\\\\\":[]}}]}}]}}],\\\\\"alt\\\\\":\\\\\"India\\'s Prime Minister Narendra Modi waits to welcome leaders of the G20 countries at the Bharat Mandapam in New Delhi on September 9, 2023. (Photo by Ludovic MARIN / POOL / AFP) (Photo by LUDOVIC MARIN/POOL/AFP via Getty Images)\\\\\",\\\\\"originalSrc\\\\\":\\\\\"https://c.files.bbci.co.uk/2E42/production/_131124811_gettyimages-1653682262.jpg\\\\\",\\\\\"iChefRecipe\\\\\":\\\\\"https://ichef.bbci.co.uk/news/$recipe/branded_news/2E42/production/_131124811_gettyimages-1653682262.jpg\\\\\",\\\\\"width\\\\\":1024,\\\\\"height\\\\\":576,\\\\\"isEditorialImage\\\\\":true,\\\\\"src\\\\\":\\\\\"https://ichef.bbci.co.uk/news/1024/branded_news/2E42/production/_131124811_gettyimages-1653682262.jpg\\\\\"},\\\\\"type\\\\\":\\\\\"STY\\\\\",\\\\\"options\\\\\":{\\\\\"isIgorSeoTagsEnabled\\\\\":false,\\\\\"includeComments\\\\\":false,\\\\\"allowRightHandSide\\\\\":true,\\\\\"isFactCheck\\\\\":false,\\\\\"allowDateStamp\\\\\":true,\\\\\"suitableForSyndication\\\\\":true,\\\\\"hasNewsTracker\\\\\":false,\\\\\"allowRelatedStoriesBox\\\\\":true,\\\\\"isKeyContent\\\\\":false,\\\\\"allowHeadline\\\\\":true,\\\\\"allowAdvertising\\\\\":true,\\\\\"hasContentWarning\\\\\":false,\\\\\"isBreakingNews\\\\\":false,\\\\\"allowPrintingSharingLinks\\\\\":true},\\\\\"languageCode\\\\\":\\\\\"en-gb\\\\\",\\\\\"assetUri\\\\\":\\\\\"/news/world-asia-india-66851211\\\\\",\\\\\"description\\\\\":\\\\\"Prime minister Modi praises bill as \\\\\\\\\\\\\"special moment\\\\\\\\\\\\\" for his country, ahead of general elections.\\\\\",\\\\\"lastUpdated\\\\\":1695134390832,\\\\\"firstPublished\\\\\":1695128245000,\\\\\"lastPublished\\\\\":1695134380000,\\\\\"analytics\\\\\":{\\\\\"page\\\\\":{\\\\\"name\\\\\":\\\\\"news.world.asia.india.story.66851211.page\\\\\",\\\\\"contentId\\\\\":\\\\\"urn:bbc:cps:curie:asset:2bc450d2-af1e-4bb8-84d4-838c2994731a\\\\\",\\\\\"section\\\\\":\\\\\"world::asia::india\\\\\",\\\\\"producer\\\\\":\\\\\"NEWS\\\\\",\\\\\"additionalProperties\\\\\":{\\\\\"custom_var_1\\\\\":\\\\\"2023-09-19T12:57:25.000Z\\\\\",\\\\\"custom_var_2\\\\\":\\\\\"2023-09-19T14:39:40.000Z\\\\\",\\\\\"custom_var_3\\\\\":\\\\\"Narendra+Modi~India+Parliament~India~Delhi~South+Asia~Asia\\\\\",\\\\\"custom_var_4\\\\\":\\\\\"103fc7e4-3a8d-491c-9a75-3c37c299d48f~1059fd6c-a631-406b-95fd-c6e0cf0f0c28~5a08f030-710f-4168-acee-67294a90fc75~65cb5b06-fd93-4667-8ce6-94373a564409~755f36fe-2126-4225-92bf-ac459c3c8832~ba90754a-9033-4e9c-990b-d1139e5070a3\\\\\",\\\\\"comments_enabled\\\\\":false,\\\\\"uploader_format\\\\\":false}}},\\\\\"site\\\\\":{\\\\\"name\\\\\":\\\\\"BBC News\\\\\",\\\\\"uri\\\\\":\\\\\"/news\\\\\"},\\\\\"consumableInPlace\\\\\":false,\\\\\"consumableOnRedButton\\\\\":true,\\\\\"consumableOnlyOnRedButton\\\\\":false,\\\\\"home\\\\\":\\\\\"http://www.bbc.co.uk/ontologies/passport/home/News\\\\\",\\\\\"urn\\\\\":\\\\\"urn:bbc:cps:curie:asset:2bc450d2-af1e-4bb8-84d4-838c2994731a\\\\\",\\\\\"blockTypes\\\\\":[\\\\\"image\\\\\",\\\\\"paragraph\\\\\",\\\\\"crosshead\\\\\",\\\\\"list\\\\\",\\\\\"listItem\\\\\",\\\\\"group\\\\\"],\\\\\"section\\\\\":{\\\\\"name\\\\\":\\\\\"India\\\\\",\\\\\"uri\\\\\":\\\\\"/news/world/asia/india\\\\\"},\\\\\"host\\\\\":\\\\\"www.bbc.com\\\\\",\\\\\"canonical\\\\\":\\\\\"https://www.bbc.com/news/world-asia-india-66851211\\\\\",\\\\\"title\\\\\":{\\\\\"full\\\\\":\\\\\"Special session: Modi introduces women\\'s bill in new India parliament - BBC News\\\\\",\\\\\"short\\\\\":\\\\\"Special session: Modi introduces women\\'s bill in new India parliament\\\\\"},\\\\\"contributor\\\\\":null,\\\\\"social\\\\\":{\\\\\"facebook\\\\\":{\\\\\"admins\\\\\":\\\\\"100004154058350\\\\\",\\\\\"app_id\\\\\":\\\\\"1609039196070050\\\\\",\\\\\"pages\\\\\":\\\\\"1143803202301544,317278538359186,1392506827668140,742734325867560,185246968166196,156060587793370,137920769558355,193435954068976,21263239760,156400551056385,929399697073756,154344434967,228735667216,80758950658,260212261199,294662213128,1086451581439054,283348121682053,295830058648,239931389545417,304314573046,310719525611571,647687225371774,1159932557403143,286567251709437,1731770190373618,125309456546,163571453661989,285361880228,512423982152360,238003846549831,176663550714,260967092113,118450564909230,100978706649892,15286229625,122103087870579,120655094632228,102814153147070,124715648647,153132638110668,150467675018739\\\\\",\\\\\"url\\\\\":\\\\\"https://www.facebook.com/bbcnews\\\\\"},\\\\\"twitter\\\\\":{\\\\\"card\\\\\":\\\\\"summary_large_image\\\\\",\\\\\"user\\\\\":\\\\\"@BBCWorld\\\\\"}},\\\\\"schemaOrg\\\\\":{\\\\\"logo\\\\\":\\\\\"https://static.files.bbci.co.uk/ws/simorgh-assets/public/news/images/metadata/poster-1024x576.png\\\\\",\\\\\"noBylinesPolicy\\\\\":\\\\\"http://www.bbc.co.uk/news/help-41670342#authorexpertise\\\\\",\\\\\"publishingPrinciples\\\\\":\\\\\"http://www.bbc.co.uk/news/help-41670342\\\\\",\\\\\"type\\\\\":\\\\\"ReportageNewsArticle\\\\\",\\\\\"publisher\\\\\":\\\\\"NewsMediaOrganization\\\\\"},\\\\\"microsoft\\\\\":{\\\\\"tileColor\\\\\":\\\\\"#bb1919\\\\\",\\\\\"tileImage\\\\\":\\\\\"BBC News\\\\\"}}},{\\\\\"__typename\\\\\":\\\\\"LiteralProp\\\\\",\\\\\"name\\\\\":\\\\\"topics\\\\\",\\\\\"value\\\\\":[{\\\\\"title\\\\\":\\\\\"Asia\\\\\",\\\\\"url\\\\\":\\\\\"/news/topics/c5rznn0nvvyt\\\\\",\\\\\"isEvent\\\\\":false},{\\\\\"title\\\\\":\\\\\"Narendra Modi\\\\\",\\\\\"url\\\\\":\\\\\"/news/topics/cg41ylwvgmyt\\\\\",\\\\\"isEvent\\\\\":false},{\\\\\"title\\\\\":\\\\\"Delhi\\\\\",\\\\\"url\\\\\":\\\\\"/news/topics/cmmqq736zwyt\\\\\",\\\\\"isEvent\\\\\":false},{\\\\\"title\\\\\":\\\\\"India\\\\\",\\\\\"url\\\\\":\\\\\"/news/topics/cny6mpy4mj9t\\\\\",\\\\\"isEvent\\\\\":false}]},{\\\\\"__typename\\\\\":\\\\\"LiteralProp\\\\\",\\\\\"name\\\\\":\\\\\"articleBodyContent\\\\\",\\\\\"value\\\\\":[{\\\\\"type\\\\\":\\\\\"image\\\\\",\\\\\"model\\\\\":{\\\\\"emphasiseImage\\\\\":true,\\\\\"blocks\\\\\":[{\\\\\"type\\\\\":\\\\\"altText\\\\\",\\\\\"model\\\\\":{\\\\\"blocks\\\\\":[{\\\\\"type\\\\\":\\\\\"text\\\\\",\\\\\"model\\\\\":{\\\\\"blocks\\\\\":[{\\\\\"type\\\\\":\\\\\"fragment\\\\\",\\\\\"model\\\\\":{\\\\\"text\\\\\":\\\\\"India\\'s Prime Minister Narendra Modi waits to welcome leaders of the G20 countries at the Bharat Mandapam in New Delhi on September 9, 2023. (Photo by Ludovic MARIN / POOL / AFP) (Photo by LUDOVIC MARIN/POOL/AFP via Getty Images)\\\\\",\\\\\"attributes\\\\\":[]}}]}}]}},{\\\\\"type\\\\\":\\\\\"rawImage\\\\\",\\\\\"model\\\\\":{\\\\\"height\\\\\":549,\\\\\"width\\\\\":976,\\\\\"locator\\\\\":\\\\\"13BCA/production/_131124808_gettyimages-1653682262.jpg\\\\\",\\\\\"originCode\\\\\":\\\\\"cpsprodpb\\\\\",\\\\\"copyrightHolder\\\\\":\\\\\"Getty Images\\\\\"}},{\\\\\"type\\\\\":\\\\\"caption\\\\\",\\\\\"model\\\\\":{\\\\\"blocks\\\\\":[{\\\\\"type\\\\\":\\\\\"text\\\\\",\\\\\"model\\\\\":{\\\\\"blocks\\\\\":[{\\\\\"type\\\\\":\\\\\"fragment\\\\\",\\\\\"model\\\\\":{\\\\\"text\\\\\":\\\\\"PM Modi is set to walk to the new building\\\\\",\\\\\"attributes\\\\\":[]}}]}}]}}]}},{\\\\\"type\\\\\":\\\\\"text\\\\\",\\\\\"model\\\\\":{\\\\\"blocks\\\\\":[{\\\\\"type\\\\\":\\\\\"paragraph\\\\\",\\\\\"model\\\\\":{\\\\\"text\\\\\":\\\\\"The Indian government has introduced a bill guaranteeing a third of seats for women in the lower house of parliament and state assemblies.\\\\\",\\\\\"blocks\\\\\":[{\\\\\"type\\\\\":\\\\\"fragment\\\\\",\\\\\"model\\\\\":{\\\\\"text\\\\\":\\\\\"The Indian government has introduced a bill guaranteeing a third of seats for women in the lower house of parliament and state assemblies.\\\\\",\\\\\"attributes\\\\\":[\\\\\"bold\\\\\"]}}]}}]}},{\\\\\"type\\\\\":\\\\\"text\\\\\",\\\\\"model\\\\\":{\\\\\"blocks\\\\\":[{\\\\\"type\\\\\":\\\\\"paragraph\\\\\",\\\\\"model\\\\\":{\\\\\"text\\\\\":\\\\\"The contentious bill, first proposed in 1996, has been pending for decades amid opposition from some political parties.\\\\\",\\\\\"blocks\\\\\":[{\\\\\"type\\\\\":\\\\\"fragment\\\\\",\\\\\"model\\\\\":{\\\\\"text\\\\\":\\\\\"The contentious bill, first proposed in 1996, has been pending for decades amid opposition from some political parties.\\\\\",\\\\\"attributes\\\\\":[]}}]}}]}},{\\\\\"type\\\\\":\\\\\"text\\\\\",\\\\\"model\\\\\":{\\\\\"blocks\\\\\":[{\\\\\"type\\\\\":\\\\\"paragraph\\\\\",\\\\\"model\\\\\":{\\\\\"text\\\\\":\\\\\"Its revival is expected to boost the governing Bharatiya Janata Party\\'s fortunes in general elections next May.\\\\\",\\\\\"blocks\\\\\":[{\\\\\"type\\\\\":\\\\\"fragment\\\\\",\\\\\"model\\\\\":{\\\\\"text\\\\\":\\\\\"Its revival is expected to boost the governing Bharatiya Janata Party\\'s fortunes in general elections next May.\\\\\",\\\\\"attributes\\\\\":[]}}]}}]}},{\\\\\"type\\\\\":\\\\\"text\\\\\",\\\\\"model\\\\\":{\\\\\"blocks\\\\\":[{\\\\\"type\\\\\":\\\\\"paragraph\\\\\",\\\\\"model\\\\\":{\\\\\"text\\\\\":\\\\\"The bill was tabled at the new Indian parliament\\'s first session and is still some way from becoming law.\\\\\",\\\\\"blocks\\\\\":[{\\\\\"type\\\\\":\\\\\"fragment\\\\\",\\\\\"model\\\\\":{\\\\\"text\\\\\":\\\\\"The bill was tabled at the new Indian parliament\\'s first session and is still some way from becoming law.\\\\\",\\\\\"attributes\\\\\":[]}}]}}]}},{\\\\\"type\\\\\":\\\\\"text\\\\\",\\\\\"model\\\\\":{\\\\\"blocks\\\\\":[{\\\\\"type\\\\\":\\\\\"paragraph\\\\\",\\\\\"model\\\\\":{\\\\\"text\\\\\":\\\\\"It would require the approval of both houses of parliament and a majority of state legislatures, as well as the Indian president\\'s signature.\\\\\",\\\\\"blocks\\\\\":[{\\\\\"type\\\\\":\\\\\"fragment\\\\\",\\\\\"model\\\\\":{\\\\\"text\\\\\":\\\\\"It would require the approval of both houses of parliament and a majority of state legislatures, as well as the Indian president\\'s signature.\\\\\",\\\\\"attributes\\\\\":[]}}]}}]}},{\\\\\"type\\\\\":\\\\\"text\\\\\",\\\\\"model\\\\\":{\\\\\"blocks\\\\\":[{\\\\\"type\\\\\":\\\\\"paragraph\\\\\",\\\\\"model\\\\\":{\\\\\"text\\\\\":\\\\\"Reported plans to increase the overall  number of constituencies could further complicate its implementation.\\\\\",\\\\\"blocks\\\\\":[{\\\\\"type\\\\\":\\\\\"fragment\\\\\",\\\\\"model\\\\\":{\\\\\"text\\\\\":\\\\\"Reported plans to increase the overall  number of constituencies could further complicate its implementation.\\\\\",\\\\\"attributes\\\\\":[]}}]}}]}},{\\\\\"type\\\\\":\\\\\"text\\\\\",\\\\\"model\\\\\":{\\\\\"blocks\\\\\":[{\\\\\"type\\\\\":\\\\\"paragraph\\\\\",\\\\\"model\\\\\":{\\\\\"text\\\\\":\\\\\"In his opening speech at the new parliament building, Mr Modi praised the proposed legislation and said it was a special moment for the country. \\\\\",\\\\\"blocks\\\\\":[{\\\\\"type\\\\\":\\\\\"fragment\\\\\",\\\\\"model\\\\\":{\\\\\"text\\\\\":\\\\\"In his opening speech at the new parliament building, Mr Modi praised the proposed legislation and said it was a special moment for the country. \\\\\",\\\\\"attributes\\\\\":[]}}]}}]}},{\\\\\"type\\\\\":\\\\\"text\\\\\",\\\\\"model\\\\\":{\\\\\"blocks\\\\\":[{\\\\\"type\\\\\":\\\\\"paragraph\\\\\",\\\\\"model\\\\\":{\\\\\"text\\\\\":\\\\\"\\\\\\\\\\\\\"The world understands that only talking of women-led development is not enough. This is a positive step taken on that front,\\\\\\\\\\\\\" he told politicians as he appealed to them to support the bill.\\\\\",\\\\\"blocks\\\\\":[{\\\\\"type\\\\\":\\\\\"fragment\\\\\",\\\\\"model\\\\\":{\\\\\"text\\\\\":\\\\\"\\\\\\\\\\\\\"The world understands that only talking of women-led development is not enough. This is a positive step taken on that front,\\\\\\\\\\\\\" he told politicians as he appealed to them to support the bill.\\\\\",\\\\\"attributes\\\\\":[]}}]}}]}},{\\\\\"type\\\\\":\\\\\"text\\\\\",\\\\\"model\\\\\":{\\\\\"blocks\\\\\":[{\\\\\"type\\\\\":\\\\\"paragraph\\\\\",\\\\\"model\\\\\":{\\\\\"text\\\\\":\\\\\"The PM also took a swipe at the opposition and said that the previous Congress party-led governments had failed to clear the bill when they were in power.  \\\\\",\\\\\"blocks\\\\\":[{\\\\\"type\\\\\":\\\\\"fragment\\\\\",\\\\\"model\\\\\":{\\\\\"text\\\\\":\\\\\"The PM also took a swipe at the opposition and said that the previous Congress party-led governments had failed to clear the bill when they were in power.  \\\\\",\\\\\"attributes\\\\\":[]}}]}}]}},{\\\\\"type\\\\\":\\\\\"text\\\\\",\\\\\"model\\\\\":{\\\\\"blocks\\\\\":[{\\\\\"type\\\\\":\\\\\"paragraph\\\\\",\\\\\"model\\\\\":{\\\\\"text\\\\\":\\\\\"\\\\\\\\\\\\\"There have been discussions around women\\'s reservations for years. We can say with pride that we have scripted history,\\\\\\\\\\\\\" he said. \\\\\",\\\\\"blocks\\\\\":[{\\\\\"type\\\\\":\\\\\"fragment\\\\\",\\\\\"model\\\\\":{\\\\\"text\\\\\":\\\\\"\\\\\\\\\\\\\"There have been discussions around women\\'s reservations for years. We can say with pride that we have scripted history,\\\\\\\\\\\\\" he said. \\\\\",\\\\\"attributes\\\\\":[]}}]}}]}},{\\\\\"type\\\\\":\\\\\"text\\\\\",\\\\\"model\\\\\":{\\\\\"blocks\\\\\":[{\\\\\"type\\\\\":\\\\\"paragraph\\\\\",\\\\\"model\\\\\":{\\\\\"text\\\\\":\\\\\"Mr Modi inaugurated the new parliament building in May but no business was held there until now.\\\\\",\\\\\"blocks\\\\\":[{\\\\\"type\\\\\":\\\\\"fragment\\\\\",\\\\\"model\\\\\":{\\\\\"text\\\\\":\\\\\"Mr Modi \\\\\",\\\\\"attributes\\\\\":[]}},{\\\\\"type\\\\\":\\\\\"urlLink\\\\\",\\\\\"model\\\\\":{\\\\\"text\\\\\":\\\\\"inaugurated the new parliament building\\\\\",\\\\\"locator\\\\\":\\\\\"https://www.bbc.com/news/world-asia-india-65718127\\\\\",\\\\\"blocks\\\\\":[{\\\\\"type\\\\\":\\\\\"fragment\\\\\",\\\\\"model\\\\\":{\\\\\"text\\\\\":\\\\\"inaugurated the new parliament building\\\\\",\\\\\"attributes\\\\\":[]}}]}},{\\\\\"type\\\\\":\\\\\"fragment\\\\\",\\\\\"model\\\\\":{\\\\\"text\\\\\":\\\\\" in May but no business was held there until now.\\\\\",\\\\\"attributes\\\\\":[]}}]}}]}},{\\\\\"type\\\\\":\\\\\"text\\\\\",\\\\\"model\\\\\":{\\\\\"blocks\\\\\":[{\\\\\"type\\\\\":\\\\\"paragraph\\\\\",\\\\\"model\\\\\":{\\\\\"text\\\\\":\\\\\"He called a five-day special session which began on Monday but the first day\\'s sitting was held in the old parliament building.\\\\\",\\\\\"blocks\\\\\":[{\\\\\"type\\\\\":\\\\\"fragment\\\\\",\\\\\"model\\\\\":{\\\\\"text\\\\\":\\\\\"He called a five-day special session which began on Monday but the first day\\'s sitting was held in the old parliament building.\\\\\",\\\\\"attributes\\\\\":[]}}]}}]}},{\\\\\"type\\\\\":\\\\\"text\\\\\",\\\\\"model\\\\\":{\\\\\"blocks\\\\\":[{\\\\\"type\\\\\":\\\\\"paragraph\\\\\",\\\\\"model\\\\\":{\\\\\"text\\\\\":\\\\\"On Tuesday morning, members from both houses assembled for a photo session at the old building, followed by an event commemorating parliament\\'s legacy in the Central Hall of the British-era building.\\\\\",\\\\\"blocks\\\\\":[{\\\\\"type\\\\\":\\\\\"fragment\\\\\",\\\\\"model\\\\\":{\\\\\"text\\\\\":\\\\\"On Tuesday morning, members from both houses assembled for a photo session at the old building, \\\\\",\\\\\"attributes\\\\\":[]}},{\\\\\"type\\\\\":\\\\\"urlLink\\\\\",\\\\\"model\\\\\":{\\\\\"text\\\\\":\\\\\"followed by an event commemorating parliament\\'s legacy\\\\\",\\\\\"locator\\\\\":\\\\\"https://twitter.com/ANI/status/1703697050419052547\\\\\",\\\\\"blocks\\\\\":[{\\\\\"type\\\\\":\\\\\"fragment\\\\\",\\\\\"model\\\\\":{\\\\\"text\\\\\":\\\\\"followed by an event commemorating parliament\\'s legacy\\\\\",\\\\\"attributes\\\\\":[]}}]}},{\\\\\"type\\\\\":\\\\\"fragment\\\\\",\\\\\"model\\\\\":{\\\\\"text\\\\\":\\\\\" in the Central Hall of the British-era building.\\\\\",\\\\\"attributes\\\\\":[]}}]}}]}},{\\\\\"type\\\\\":\\\\\"text\\\\\",\\\\\"model\\\\\":{\\\\\"blocks\\\\\":[{\\\\\"type\\\\\":\\\\\"paragraph\\\\\",\\\\\"model\\\\\":{\\\\\"text\\\\\":\\\\\"They then moved to the new parliament as the office of the lower house of parliament officially designated it as the Parliament House of India. \\\\\",\\\\\"blocks\\\\\":[{\\\\\"type\\\\\":\\\\\"fragment\\\\\",\\\\\"model\\\\\":{\\\\\"text\\\\\":\\\\\"They then moved to the new parliament as \\\\\",\\\\\"attributes\\\\\":[]}},{\\\\\"type\\\\\":\\\\\"urlLink\\\\\",\\\\\"model\\\\\":{\\\\\"text\\\\\":\\\\\"the office of the lower house of parliament officially designated\\\\\",\\\\\"locator\\\\\":\\\\\"https://twitter.com/DDNewslive/status/1704000388905509118\\\\\",\\\\\"blocks\\\\\":[{\\\\\"type\\\\\":\\\\\"fragment\\\\\",\\\\\"model\\\\\":{\\\\\"text\\\\\":\\\\\"the office of the lower house of parliament officially designated\\\\\",\\\\\"attributes\\\\\":[]}}]}},{\\\\\"type\\\\\":\\\\\"fragment\\\\\",\\\\\"model\\\\\":{\\\\\"text\\\\\":\\\\\" it as the Parliament House of India. \\\\\",\\\\\"attributes\\\\\":[]}}]}}]}},{\\\\\"type\\\\\":\\\\\"image\\\\\",\\\\\"model\\\\\":{\\\\\"blocks\\\\\":[{\\\\\"type\\\\\":\\\\\"altText\\\\\",\\\\\"model\\\\\":{\\\\\"blocks\\\\\":[{\\\\\"type\\\\\":\\\\\"text\\\\\",\\\\\"model\\\\\":{\\\\\"blocks\\\\\":[{\\\\\"type\\\\\":\\\\\"fragment\\\\\",\\\\\"model\\\\\":{\\\\\"text\\\\\":\\\\\"Political row\\\\\",\\\\\"attributes\\\\\":[]}}]}}]}},{\\\\\"type\\\\\":\\\\\"rawImage\\\\\",\\\\\"model\\\\\":{\\\\\"height\\\\\":549,\\\\\"width\\\\\":976,\\\\\"locator\\\\\":\\\\\"7B76/production/_129860613_newparliament3.jpg\\\\\",\\\\\"originCode\\\\\":\\\\\"cpsprodpb\\\\\",\\\\\"copyrightHolder\\\\\":\\\\\"Government of India\\\\\"}},{\\\\\"type\\\\\":\\\\\"caption\\\\\",\\\\\"model\\\\\":{\\\\\"blocks\\\\\":[{\\\\\"type\\\\\":\\\\\"text\\\\\",\\\\\"model\\\\\":{\\\\\"blocks\\\\\":[{\\\\\"type\\\\\":\\\\\"fragment\\\\\",\\\\\"model\\\\\":{\\\\\"text\\\\\":\\\\\"The new parliament can seat 1,272 members\\\\\",\\\\\"attributes\\\\\":[]}}]}}]}}]}},{\\\\\"type\\\\\":\\\\\"text\\\\\",\\\\\"model\\\\\":{\\\\\"blocks\\\\\":[{\\\\\"type\\\\\":\\\\\"paragraph\\\\\",\\\\\"model\\\\\":{\\\\\"text\\\\\":\\\\\"The proceedings are being held amid criticism from opposition leaders who claim that the government has not disclosed all the business that could come up during the week.\\\\\",\\\\\"blocks\\\\\":[{\\\\\"type\\\\\":\\\\\"fragment\\\\\",\\\\\"model\\\\\":{\\\\\"text\\\\\":\\\\\"The proceedings are being held amid criticism from opposition leaders who claim that the government has not disclosed all the business that could come up during the week.\\\\\",\\\\\"attributes\\\\\":[]}}]}}]}},{\\\\\"type\\\\\":\\\\\"text\\\\\",\\\\\"model\\\\\":{\\\\\"blocks\\\\\":[{\\\\\"type\\\\\":\\\\\"paragraph\\\\\",\\\\\"model\\\\\":{\\\\\"text\\\\\":\\\\\"According to the government, eight bills have been listed for discussion during the session - but this agenda could be changed or expanded during the course of the week.\\\\\",\\\\\"blocks\\\\\":[{\\\\\"type\\\\\":\\\\\"fragment\\\\\",\\\\\"model\\\\\":{\\\\\"text\\\\\":\\\\\"According to the government, eight bills have been listed for discussion during the session - but this agenda could be changed or expanded during the course of the week.\\\\\",\\\\\"attributes\\\\\":[]}}]}}]}},{\\\\\"type\\\\\":\\\\\"text\\\\\",\\\\\"model\\\\\":{\\\\\"blocks\\\\\":[{\\\\\"type\\\\\":\\\\\"paragraph\\\\\",\\\\\"model\\\\\":{\\\\\"text\\\\\":\\\\\"The new parliament building is part of the government\\'s ambitious Central Vista project in Delhi to replace colonial-era government buildings.\\\\\",\\\\\"blocks\\\\\":[{\\\\\"type\\\\\":\\\\\"fragment\\\\\",\\\\\"model\\\\\":{\\\\\"text\\\\\":\\\\\"The new parliament building is part of the government\\'s ambitious Central Vista project in Delhi to replace colonial-era government buildings.\\\\\",\\\\\"attributes\\\\\":[]}}]}}]}},{\\\\\"type\\\\\":\\\\\"text\\\\\",\\\\\"model\\\\\":{\\\\\"blocks\\\\\":[{\\\\\"type\\\\\":\\\\\"paragraph\\\\\",\\\\\"model\\\\\":{\\\\\"text\\\\\":\\\\\"Built in front of the old parliament, the new four-storey building - constructed at an estimated cost of 9.7bn rupees ($117m; Â£94m) - is much bigger and has the capacity to seat 1,272 MPs.\\\\\",\\\\\"blocks\\\\\":[{\\\\\"type\\\\\":\\\\\"fragment\\\\\",\\\\\"model\\\\\":{\\\\\"text\\\\\":\\\\\"Built in front of the old parliament, the new four-storey building - constructed at an estimated cost of 9.7bn rupees ($117m; Â£94m) - is much bigger and has the capacity to seat 1,272 MPs.\\\\\",\\\\\"attributes\\\\\":[]}}]}}]}},{\\\\\"type\\\\\":\\\\\"text\\\\\",\\\\\"model\\\\\":{\\\\\"blocks\\\\\":[{\\\\\"type\\\\\":\\\\\"paragraph\\\\\",\\\\\"model\\\\\":{\\\\\"text\\\\\":\\\\\"The Lok Sabha chamber, which will seat the lower house of the parliament, is designed in the likeness of a peacock, India\\'s national bird. The Rajya Sabha chamber, which will seat the upper house, is designed to resemble the lotus - India\\'s national flower and also Mr Modi\\'s Bharatiya Janata Party\\'s election symbol.\\\\\",\\\\\"blocks\\\\\":[{\\\\\"type\\\\\":\\\\\"fragment\\\\\",\\\\\"model\\\\\":{\\\\\"text\\\\\":\\\\\"The Lok Sabha chamber, which will seat the lower house of the parliament, is designed in the likeness of a peacock, India\\'s national bird. The Rajya Sabha chamber, which will seat the upper house, is designed to resemble the lotus - India\\'s national flower and also Mr Modi\\'s Bharatiya Janata Party\\'s election symbol.\\\\\",\\\\\"attributes\\\\\":[]}}]}}]}},{\\\\\"type\\\\\":\\\\\"text\\\\\",\\\\\"model\\\\\":{\\\\\"blocks\\\\\":[{\\\\\"type\\\\\":\\\\\"paragraph\\\\\",\\\\\"model\\\\\":{\\\\\"text\\\\\":\\\\\"The current parliament building will be converted into a museum.\\\\\",\\\\\"blocks\\\\\":[{\\\\\"type\\\\\":\\\\\"fragment\\\\\",\\\\\"model\\\\\":{\\\\\"text\\\\\":\\\\\"The current parliament building will be converted into a museum.\\\\\",\\\\\"attributes\\\\\":[]}}]}}]}},{\\\\\"type\\\\\":\\\\\"text\\\\\",\\\\\"model\\\\\":{\\\\\"blocks\\\\\":[{\\\\\"type\\\\\":\\\\\"paragraph\\\\\",\\\\\"model\\\\\":{\\\\\"text\\\\\":\\\\\"BBC News India is now on YouTube. Click here to subscribe and watch our documentaries, explainers and features.\\\\\",\\\\\"blocks\\\\\":[{\\\\\"type\\\\\":\\\\\"fragment\\\\\",\\\\\"model\\\\\":{\\\\\"text\\\\\":\\\\\"BBC News India is now on YouTube. \\\\\",\\\\\"attributes\\\\\":[\\\\\"italic\\\\\"]}},{\\\\\"type\\\\\":\\\\\"urlLink\\\\\",\\\\\"model\\\\\":{\\\\\"text\\\\\":\\\\\"Click here\\\\\",\\\\\"locator\\\\\":\\\\\"https://www.youtube.com/@bbcnewsindia\\\\\",\\\\\"blocks\\\\\":[{\\\\\"type\\\\\":\\\\\"fragment\\\\\",\\\\\"model\\\\\":{\\\\\"text\\\\\":\\\\\"Click here\\\\\",\\\\\"attributes\\\\\":[]}}]}},{\\\\\"type\\\\\":\\\\\"fragment\\\\\",\\\\\"model\\\\\":{\\\\\"text\\\\\":\\\\\" to subscribe and watch our documentaries, explainers and features.\\\\\",\\\\\"attributes\\\\\":[\\\\\"italic\\\\\"]}}]}}]}},{\\\\\"type\\\\\":\\\\\"image\\\\\",\\\\\"model\\\\\":{\\\\\"blocks\\\\\":[{\\\\\"type\\\\\":\\\\\"altText\\\\\",\\\\\"model\\\\\":{\\\\\"blocks\\\\\":[{\\\\\"type\\\\\":\\\\\"text\\\\\",\\\\\"model\\\\\":{\\\\\"blocks\\\\\":[{\\\\\"type\\\\\":\\\\\"fragment\\\\\",\\\\\"model\\\\\":{\\\\\"text\\\\\":\\\\\"Presentational grey line\\\\\",\\\\\"attributes\\\\\":[]}}]}}]}},{\\\\\"type\\\\\":\\\\\"rawImage\\\\\",\\\\\"model\\\\\":{\\\\\"height\\\\\":2,\\\\\"width\\\\\":640,\\\\\"locator\\\\\":\\\\\"13E83/production/_103693518_086b2036-0a30-4a6f-a4a0-94c46832b58f.jpg\\\\\",\\\\\"originCode\\\\\":\\\\\"cpsprodpb\\\\\",\\\\\"copyrightHolder\\\\\":\\\\\"BBC\\\\\"}}]}},{\\\\\"type\\\\\":\\\\\"subheadline\\\\\",\\\\\"model\\\\\":{\\\\\"blocks\\\\\":[{\\\\\"type\\\\\":\\\\\"text\\\\\",\\\\\"model\\\\\":{\\\\\"blocks\\\\\":[{\\\\\"type\\\\\":\\\\\"paragraph\\\\\",\\\\\"model\\\\\":{\\\\\"text\\\\\":\\\\\"Read more India stories from the BBC:\\\\\",\\\\\"blocks\\\\\":[{\\\\\"type\\\\\":\\\\\"fragment\\\\\",\\\\\"model\\\\\":{\\\\\"text\\\\\":\\\\\"Read more India stories from the BBC:\\\\\",\\\\\"attributes\\\\\":[]}}]}}]}}]}},{\\\\\"type\\\\\":\\\\\"unorderedList\\\\\",\\\\\"model\\\\\":{\\\\\"blocks\\\\\":[{\\\\\"type\\\\\":\\\\\"listItem\\\\\",\\\\\"model\\\\\":{\\\\\"blocks\\\\\":[{\\\\\"type\\\\\":\\\\\"urlLink\\\\\",\\\\\"model\\\\\":{\\\\\"text\\\\\":\\\\\"How important are India\\'s Moon mission findings?\\\\\",\\\\\"locator\\\\\":\\\\\"https://www.bbc.co.uk/news/world-asia-india-66808808\\\\\",\\\\\"blocks\\\\\":[{\\\\\"type\\\\\":\\\\\"fragment\\\\\",\\\\\"model\\\\\":{\\\\\"text\\\\\":\\\\\"How important are India\\'s Moon mission findings?\\\\\",\\\\\"attributes\\\\\":[]}}]}}]}},{\\\\\"type\\\\\":\\\\\"listItem\\\\\",\\\\\"model\\\\\":{\\\\\"blocks\\\\\":[{\\\\\"type\\\\\":\\\\\"urlLink\\\\\",\\\\\"model\\\\\":{\\\\\"text\\\\\":\\\\\"Canada accuses India of role in Sikh leader\\'s murder\\\\\",\\\\\"locator\\\\\":\\\\\"https://www.bbc.co.uk/news/uk-66848041\\\\\",\\\\\"blocks\\\\\":[{\\\\\"type\\\\\":\\\\\"fragment\\\\\",\\\\\"model\\\\\":{\\\\\"text\\\\\":\\\\\"Canada accuses India of role in Sikh leader\\'s murder\\\\\",\\\\\"attributes\\\\\":[]}}]}}]}},{\\\\\"type\\\\\":\\\\\"listItem\\\\\",\\\\\"model\\\\\":{\\\\\"blocks\\\\\":[{\\\\\"type\\\\\":\\\\\"urlLink\\\\\",\\\\\"model\\\\\":{\\\\\"text\\\\\":\\\\\"Anger in India as Trudeau points finger over murder\\\\\",\\\\\"locator\\\\\":\\\\\"https://www.bbc.co.uk/news/world-asia-india-66851075\\\\\",\\\\\"blocks\\\\\":[{\\\\\"type\\\\\":\\\\\"fragment\\\\\",\\\\\"model\\\\\":{\\\\\"text\\\\\":\\\\\"Anger in India as Trudeau points finger over murder\\\\\",\\\\\"attributes\\\\\":[]}}]}}]}},{\\\\\"type\\\\\":\\\\\"listItem\\\\\",\\\\\"model\\\\\":{\\\\\"blocks\\\\\":[{\\\\\"type\\\\\":\\\\\"urlLink\\\\\",\\\\\"model\\\\\":{\\\\\"text\\\\\":\\\\\"India bowl out Sri Lanka for 50 and win Asia Cup\\\\\",\\\\\"locator\\\\\":\\\\\"https://www.bbc.com/sport/cricket/66837123\\\\\",\\\\\"blocks\\\\\":[{\\\\\"type\\\\\":\\\\\"fragment\\\\\",\\\\\"model\\\\\":{\\\\\"text\\\\\":\\\\\"India bowl out Sri Lanka for 50 and win Asia Cup\\\\\",\\\\\"attributes\\\\\":[]}}]}}]}},{\\\\\"type\\\\\":\\\\\"listItem\\\\\",\\\\\"model\\\\\":{\\\\\"blocks\\\\\":[{\\\\\"type\\\\\":\\\\\"urlLink\\\\\",\\\\\"model\\\\\":{\\\\\"text\\\\\":\\\\\"India calls X a \\'habitual non-compliant platform\\'\\\\\",\\\\\"locator\\\\\":\\\\\"https://www.bbc.co.uk/news/world-asia-india-66805347\\\\\",\\\\\"blocks\\\\\":[{\\\\\"type\\\\\":\\\\\"fragment\\\\\",\\\\\"model\\\\\":{\\\\\"text\\\\\":\\\\\"India calls X a \\'habitual non-compliant platform\\'\\\\\",\\\\\"attributes\\\\\":[]}}]}}]}}]}},{\\\\\"type\\\\\":\\\\\"image\\\\\",\\\\\"model\\\\\":{\\\\\"blocks\\\\\":[{\\\\\"type\\\\\":\\\\\"altText\\\\\",\\\\\"model\\\\\":{\\\\\"blocks\\\\\":[{\\\\\"type\\\\\":\\\\\"text\\\\\",\\\\\"model\\\\\":{\\\\\"blocks\\\\\":[{\\\\\"type\\\\\":\\\\\"fragment\\\\\",\\\\\"model\\\\\":{\\\\\"text\\\\\":\\\\\"Presentational grey line\\\\\",\\\\\"attributes\\\\\":[]}}]}}]}},{\\\\\"type\\\\\":\\\\\"rawImage\\\\\",\\\\\"model\\\\\":{\\\\\"height\\\\\":2,\\\\\"width\\\\\":640,\\\\\"locator\\\\\":\\\\\"13E83/production/_103693518_086b2036-0a30-4a6f-a4a0-94c46832b58f.jpg\\\\\",\\\\\"originCode\\\\\":\\\\\"cpsprodpb\\\\\",\\\\\"copyrightHolder\\\\\":\\\\\"BBC\\\\\"}}]}},{\\\\\"model\\\\\":{\\\\\"intentType\\\\\":\\\\\"abridgement\\\\\",\\\\\"relationshipType\\\\\":\\\\\"optional\\\\\",\\\\\"blocks\\\\\":[{\\\\\"type\\\\\":\\\\\"text\\\\\",\\\\\"model\\\\\":{\\\\\"blocks\\\\\":[{\\\\\"type\\\\\":\\\\\"paragraph\\\\\",\\\\\"model\\\\\":{\\\\\"text\\\\\":\\\\\"The Indian government has introduced a bill guaranteeing a third of seats for women in the lower house of parliament and state assemblies.\\\\\",\\\\\"blocks\\\\\":[{\\\\\"type\\\\\":\\\\\"fragment\\\\\",\\\\\"model\\\\\":{\\\\\"text\\\\\":\\\\\"The Indian government has introduced a bill guaranteeing a third of seats for women in the lower house of parliament and state assemblies.\\\\\",\\\\\"attributes\\\\\":[]}}]}},{\\\\\"type\\\\\":\\\\\"paragraph\\\\\",\\\\\"model\\\\\":{\\\\\"text\\\\\":\\\\\"The contentious bill, first proposed in 1996, has been pending for decades amid opposition from some political parties.\\\\\",\\\\\"blocks\\\\\":[{\\\\\"type\\\\\":\\\\\"fragment\\\\\",\\\\\"model\\\\\":{\\\\\"text\\\\\":\\\\\"The contentious bill, first proposed in 1996, has been pending for decades amid opposition from some political parties.\\\\\",\\\\\"attributes\\\\\":[]}}]}},{\\\\\"type\\\\\":\\\\\"paragraph\\\\\",\\\\\"model\\\\\":{\\\\\"text\\\\\":\\\\\"Its revival is expected to boost the governing Bharatiya Janata Party\\'s fortunes in general elections next May.\\\\\",\\\\\"blocks\\\\\":[{\\\\\"type\\\\\":\\\\\"fragment\\\\\",\\\\\"model\\\\\":{\\\\\"text\\\\\":\\\\\"Its revival is expected to boost the governing Bharatiya Janata Party\\'s fortunes in general elections next May.\\\\\",\\\\\"attributes\\\\\":[]}}]}},{\\\\\"type\\\\\":\\\\\"paragraph\\\\\",\\\\\"model\\\\\":{\\\\\"text\\\\\":\\\\\"The bill was tabled at the new Indian parliament\\'s first session and is still some way from becoming law.\\\\\",\\\\\"blocks\\\\\":[{\\\\\"type\\\\\":\\\\\"fragment\\\\\",\\\\\"model\\\\\":{\\\\\"text\\\\\":\\\\\"The bill was tabled at the new Indian parliament\\'s first session and is still some way from becoming law.\\\\\",\\\\\"attributes\\\\\":[]}}]}}]}}]},\\\\\"type\\\\\":\\\\\"group\\\\\"},{\\\\\"type\\\\\":\\\\\"links\\\\\",\\\\\"model\\\\\":{\\\\\"blocks\\\\\":[{\\\\\"type\\\\\":\\\\\"link\\\\\",\\\\\"model\\\\\":{\\\\\"blocks\\\\\":[{\\\\\"type\\\\\":\\\\\"text\\\\\",\\\\\"model\\\\\":{\\\\\"blocks\\\\\":[{\\\\\"type\\\\\":\\\\\"paragraph\\\\\",\\\\\"model\\\\\":{\\\\\"text\\\\\":\\\\\"Modi opens new India parliament amid boycott\\\\\",\\\\\"blocks\\\\\":[{\\\\\"type\\\\\":\\\\\"urlLink\\\\\",\\\\\"model\\\\\":{\\\\\"text\\\\\":\\\\\"Modi opens new India parliament amid boycott\\\\\",\\\\\"locator\\\\\":\\\\\"/news/world-asia-india-65718127\\\\\",\\\\\"blocks\\\\\":[{\\\\\"type\\\\\":\\\\\"fragment\\\\\",\\\\\"model\\\\\":{\\\\\"text\\\\\":\\\\\"Modi opens new India parliament amid boycott\\\\\",\\\\\"attributes\\\\\":[]}}]}}]}}]}},{\\\\\"type\\\\\":\\\\\"image\\\\\",\\\\\"model\\\\\":{\\\\\"blocks\\\\\":[{\\\\\"type\\\\\":\\\\\"altText\\\\\",\\\\\"model\\\\\":{\\\\\"blocks\\\\\":[{\\\\\"type\\\\\":\\\\\"text\\\\\",\\\\\"model\\\\\":{\\\\\"blocks\\\\\":[{\\\\\"type\\\\\":\\\\\"fragment\\\\\",\\\\\"model\\\\\":{\\\\\"text\\\\\":\\\\\"Political row\\\\\",\\\\\"attributes\\\\\":[]}}]}}]}},{\\\\\"type\\\\\":\\\\\"rawImage\\\\\",\\\\\"model\\\\\":{\\\\\"height\\\\\":549,\\\\\"width\\\\\":976,\\\\\"locator\\\\\":\\\\\"7B76/production/_129860613_newparliament3.jpg\\\\\",\\\\\"originCode\\\\\":\\\\\"cpsprodpb\\\\\",\\\\\"copyrightHolder\\\\\":\\\\\"Government of India\\\\\"}},{\\\\\"type\\\\\":\\\\\"caption\\\\\",\\\\\"model\\\\\":{\\\\\"blocks\\\\\":[{\\\\\"type\\\\\":\\\\\"text\\\\\",\\\\\"model\\\\\":{\\\\\"blocks\\\\\":[{\\\\\"type\\\\\":\\\\\"fragment\\\\\",\\\\\"model\\\\\":{\\\\\"text\\\\\":\\\\\"The details of the inauguration ceremony sparked a political row\\\\\",\\\\\"attributes\\\\\":[]}}]}}]}}]}}],\\\\\"timestamp\\\\\":1685264735000}},{\\\\\"type\\\\\":\\\\\"link\\\\\",\\\\\"model\\\\\":{\\\\\"blocks\\\\\":[{\\\\\"type\\\\\":\\\\\"text\\\\\",\\\\\"model\\\\\":{\\\\\"blocks\\\\\":[{\\\\\"type\\\\\":\\\\\"paragraph\\\\\",\\\\\"model\\\\\":{\\\\\"text\\\\\":\\\\\"Tributes to India\\'s parliament at special session\\\\\",\\\\\"blocks\\\\\":[{\\\\\"type\\\\\":\\\\\"urlLink\\\\\",\\\\\"model\\\\\":{\\\\\"text\\\\\":\\\\\"Tributes to India\\'s parliament at special session\\\\\",\\\\\"locator\\\\\":\\\\\"/news/world-asia-india-66805344\\\\\",\\\\\"blocks\\\\\":[{\\\\\"type\\\\\":\\\\\"fragment\\\\\",\\\\\"model\\\\\":{\\\\\"text\\\\\":\\\\\"Tributes to India\\'s parliament at special session\\\\\",\\\\\"attributes\\\\\":[]}}]}}]}}]}},{\\\\\"type\\\\\":\\\\\"image\\\\\",\\\\\"model\\\\\":{\\\\\"blocks\\\\\":[{\\\\\"type\\\\\":\\\\\"altText\\\\\",\\\\\"model\\\\\":{\\\\\"blocks\\\\\":[{\\\\\"type\\\\\":\\\\\"text\\\\\",\\\\\"model\\\\\":{\\\\\"blocks\\\\\":[{\\\\\"type\\\\\":\\\\\"fragment\\\\\",\\\\\"model\\\\\":{\\\\\"text\\\\\":\\\\\"India\\'s Prime Minister Narendra Modi addresses the media representatives upon his arrival to attend the special session of the parliament in New Delhi on September 18, 2023.\\\\\",\\\\\"attributes\\\\\":[]}}]}}]}},{\\\\\"type\\\\\":\\\\\"rawImage\\\\\",\\\\\"model\\\\\":{\\\\\"height\\\\\":549,\\\\\"width\\\\\":976,\\\\\"locator\\\\\":\\\\\"BC7B/production/_131115284_gettyimages-1673562423.jpg\\\\\",\\\\\"originCode\\\\\":\\\\\"cpsprodpb\\\\\",\\\\\"copyrightHolder\\\\\":\\\\\"Getty Images\\\\\"}}]}}],\\\\\"timestamp\\\\\":1695034626000}}]}}]}]}},{\\\\\"name\\\\\":\\\\\"product-navigation\\\\\",\\\\\"type\\\\\":\\\\\"InMemory\\\\\",\\\\\"initialState\\\\\":{\\\\\"props\\\\\":[{\\\\\"__typename\\\\\":\\\\\"LiteralProp\\\\\",\\\\\"name\\\\\":\\\\\"assetUri\\\\\",\\\\\"value\\\\\":\\\\\"/news/world-asia-india-66851211\\\\\"}]}},{\\\\\"name\\\\\":\\\\\"bbcAccount\\\\\",\\\\\"type\\\\\":\\\\\"InMemory\\\\\",\\\\\"initialState\\\\\":{\\\\\"props\\\\\":[{\\\\\"__typename\\\\\":\\\\\"LiteralProp\\\\\",\\\\\"name\\\\\":\\\\\"signInPrompt\\\\\",\\\\\"value\\\\\":{\\\\\"show\\\\\":false,\\\\\"userOrigin\\\\\":null,\\\\\"ptrt\\\\\":null}},{\\\\\"__typename\\\\\":\\\\\"LiteralProp\\\\\",\\\\\"name\\\\\":\\\\\"pageType\\\\\",\\\\\"value\\\\\":\\\\\"content\\\\\"}]}}],\\\\\"headers\\\\\":{\\\\\"content-return-type\\\\\":\\\\\"STY\\\\\"}},\\\\\"addons\\\\\":[{\\\\\"name\\\\\":\\\\\"analytics\\\\\",\\\\\"importance\\\\\":\\\\\"TERTIARY\\\\\",\\\\\"props\\\\\":[{\\\\\"__typename\\\\\":\\\\\"StoreReader\\\\\",\\\\\"name\\\\\":\\\\\"page\\\\\",\\\\\"lookup\\\\\":\\\\\"page\\\\\",\\\\\"store\\\\\":\\\\\"analytics\\\\\"},{\\\\\"__typename\\\\\":\\\\\"StoreReader\\\\\",\\\\\"name\\\\\":\\\\\"title\\\\\",\\\\\"lookup\\\\\":\\\\\"title\\\\\",\\\\\"store\\\\\":\\\\\"analytics\\\\\"},{\\\\\"__typename\\\\\":\\\\\"StoreReader\\\\\",\\\\\"name\\\\\":\\\\\"sections\\\\\",\\\\\"lookup\\\\\":\\\\\"sections\\\\\",\\\\\"store\\\\\":\\\\\"analytics\\\\\"},{\\\\\"__typename\\\\\":\\\\\"StoreReader\\\\\",\\\\\"name\\\\\":\\\\\"type\\\\\",\\\\\"lookup\\\\\":\\\\\"type\\\\\",\\\\\"store\\\\\":\\\\\"analytics\\\\\"},{\\\\\"__typename\\\\\":\\\\\"StoreReader\\\\\",\\\\\"name\\\\\":\\\\\"isUkCombined\\\\\",\\\\\"lookup\\\\\":\\\\\"userLocationData.isUkCombined\\\\\",\\\\\"store\\\\\":\\\\\"userLocationData\\\\\"},{\\\\\"__typename\\\\\":\\\\\"StoreReader\\\\\",\\\\\"name\\\\\":\\\\\"skipLocationCheck\\\\\",\\\\\"lookup\\\\\":\\\\\"userLocationData.error\\\\\",\\\\\"store\\\\\":\\\\\"userLocationData\\\\\"},{\\\\\"__typename\\\\\":\\\\\"StoreReader\\\\\",\\\\\"name\\\\\":\\\\\"authors\\\\\",\\\\\"lookup\\\\\":\\\\\"authors\\\\\",\\\\\"store\\\\\":\\\\\"analytics\\\\\"}]},{\\\\\"name\\\\\":\\\\\"international-redirect\\\\\",\\\\\"importance\\\\\":\\\\\"TERTIARY\\\\\",\\\\\"props\\\\\":[{\\\\\"__typename\\\\\":\\\\\"StoreWriter\\\\\",\\\\\"name\\\\\":\\\\\"setUserLocationData\\\\\",\\\\\"lookup\\\\\":\\\\\"userLocationData\\\\\",\\\\\"store\\\\\":\\\\\"userLocationData\\\\\"},{\\\\\"__typename\\\\\":\\\\\"RequestContext\\\\\",\\\\\"name\\\\\":\\\\\"env\\\\\",\\\\\"lookup\\\\\":\\\\\"env\\\\\"},{\\\\\"__typename\\\\\":\\\\\"RequestContext\\\\\",\\\\\"name\\\\\":\\\\\"country\\\\\",\\\\\"lookup\\\\\":\\\\\"country\\\\\"},{\\\\\"__typename\\\\\":\\\\\"Cookie\\\\\",\\\\\"name\\\\\":\\\\\"countryOverride\\\\\",\\\\\"lookup\\\\\":\\\\\"international_redirect_country_override\\\\\"}]},{\\\\\"name\\\\\":\\\\\"document-metadata\\\\\",\\\\\"importance\\\\\":\\\\\"PRIMARY\\\\\",\\\\\"props\\\\\":[{\\\\\"__typename\\\\\":\\\\\"LiteralProp\\\\\",\\\\\"name\\\\\":\\\\\"title\\\\\",\\\\\"value\\\\\":\\\\\"Special session: Modi introduces women\\'s bill in new India parliament - BBC News\\\\\"},{\\\\\"__typename\\\\\":\\\\\"LiteralProp\\\\\",\\\\\"name\\\\\":\\\\\"description\\\\\",\\\\\"value\\\\\":\\\\\"Prime minister Modi praises bill as \\\\\\\\\\\\\"special moment\\\\\\\\\\\\\" for his country, ahead of general elections.\\\\\"},{\\\\\"__typename\\\\\":\\\\\"LiteralProp\\\\\",\\\\\"name\\\\\":\\\\\"linkTags\\\\\",\\\\\"value\\\\\":[{\\\\\"rel\\\\\":\\\\\"canonical\\\\\",\\\\\"href\\\\\":\\\\\"https://www.bbc.com/news/world-asia-india-66851211\\\\\"},{\\\\\"rel\\\\\":\\\\\"amphtml\\\\\",\\\\\"href\\\\\":\\\\\"https://www.bbc.com/news/world-asia-india-66851211.amp\\\\\"},{\\\\\"rel\\\\\":\\\\\"alternate\\\\\",\\\\\"hrefLang\\\\\":\\\\\"en-gb\\\\\",\\\\\"href\\\\\":\\\\\"https://www.bbc.co.uk/news/world-asia-india-66851211\\\\\"},{\\\\\"rel\\\\\":\\\\\"alternate\\\\\",\\\\\"hrefLang\\\\\":\\\\\"en\\\\\",\\\\\"href\\\\\":\\\\\"https://www.bbc.com/news/world-asia-india-66851211\\\\\"}]},{\\\\\"__typename\\\\\":\\\\\"LiteralProp\\\\\",\\\\\"name\\\\\":\\\\\"metaTags\\\\\",\\\\\"value\\\\\":[{\\\\\"name\\\\\":\\\\\"application-name\\\\\",\\\\\"content\\\\\":\\\\\"BBC News\\\\\"},{\\\\\"name\\\\\":\\\\\"mobile-web-app-capable\\\\\",\\\\\"content\\\\\":\\\\\"yes\\\\\"},{\\\\\"name\\\\\":\\\\\"msapplication-TileImage\\\\\",\\\\\"content\\\\\":\\\\\"BBC News\\\\\"},{\\\\\"name\\\\\":\\\\\"msapplication-TileColor\\\\\",\\\\\"content\\\\\":\\\\\"#bb1919\\\\\"},{\\\\\"name\\\\\":\\\\\"cleartype\\\\\",\\\\\"http-equiv\\\\\":\\\\\"cleartype\\\\\",\\\\\"content\\\\\":\\\\\"on\\\\\"}]},{\\\\\"__typename\\\\\":\\\\\"LiteralProp\\\\\",\\\\\"name\\\\\":\\\\\"openGraph\\\\\",\\\\\"value\\\\\":{\\\\\"article:author\\\\\":\\\\\"https://www.facebook.com/bbcnews\\\\\",\\\\\"fb:admins\\\\\":\\\\\"100004154058350\\\\\",\\\\\"fb:app_id\\\\\":\\\\\"1609039196070050\\\\\",\\\\\"fb:pages\\\\\":\\\\\"1143803202301544,317278538359186,1392506827668140,742734325867560,185246968166196,156060587793370,137920769558355,193435954068976,21263239760,156400551056385,929399697073756,154344434967,228735667216,80758950658,260212261199,294662213128,1086451581439054,283348121682053,295830058648,239931389545417,304314573046,310719525611571,647687225371774,1159932557403143,286567251709437,1731770190373618,125309456546,163571453661989,285361880228,512423982152360,238003846549831,176663550714,260967092113,118450564909230,100978706649892,15286229625,122103087870579,120655094632228,102814153147070,124715648647,153132638110668,150467675018739\\\\\",\\\\\"og:description\\\\\":\\\\\"Prime minister Modi praises bill as \\\\\\\\\\\\\"special moment\\\\\\\\\\\\\" for his country, ahead of general elections.\\\\\",\\\\\"og:image\\\\\":\\\\\"https://ichef.bbci.co.uk/news/1024/branded_news/2E42/production/_131124811_gettyimages-1653682262.jpg\\\\\",\\\\\"og:image:alt\\\\\":\\\\\"India\\'s Prime Minister Narendra Modi waits to welcome leaders of the G20 countries at the Bharat Mandapam in New Delhi on September 9, 2023. (Photo by Ludovic MARIN / POOL / AFP) (Photo by LUDOVIC MARIN/POOL/AFP via Getty Images)\\\\\",\\\\\"og:locale\\\\\":\\\\\"en_GB\\\\\",\\\\\"og:site_name\\\\\":\\\\\"BBC News\\\\\",\\\\\"og:title\\\\\":\\\\\"Special session: Modi introduces women\\'s bill in new India parliament\\\\\",\\\\\"og:type\\\\\":\\\\\"article\\\\\",\\\\\"og:url\\\\\":\\\\\"https://www.bbc.com/news/world-asia-india-66851211\\\\\",\\\\\"article:section\\\\\":\\\\\"India\\\\\"}},{\\\\\"__typename\\\\\":\\\\\"LiteralProp\\\\\",\\\\\"name\\\\\":\\\\\"schemaOrg\\\\\",\\\\\"value\\\\\":{\\\\\"@context\\\\\":\\\\\"http://schema.org\\\\\",\\\\\"@type\\\\\":\\\\\"ReportageNewsArticle\\\\\",\\\\\"url\\\\\":\\\\\"https://www.bbc.com/news/world-asia-india-66851211\\\\\",\\\\\"publisher\\\\\":{\\\\\"@type\\\\\":\\\\\"NewsMediaOrganization\\\\\",\\\\\"name\\\\\":\\\\\"BBC News\\\\\",\\\\\"publishingPrinciples\\\\\":\\\\\"http://www.bbc.co.uk/news/help-41670342\\\\\",\\\\\"logo\\\\\":{\\\\\"@type\\\\\":\\\\\"ImageObject\\\\\",\\\\\"url\\\\\":\\\\\"https://static.files.bbci.co.uk/ws/simorgh-assets/public/news/images/metadata/poster-1024x576.png\\\\\"}},\\\\\"datePublished\\\\\":\\\\\"2023-09-19T12:57:25.000Z\\\\\",\\\\\"dateModified\\\\\":\\\\\"2023-09-19T14:39:40.000Z\\\\\",\\\\\"description\\\\\":\\\\\"Prime minister Modi praises bill as \\\\\\\\\\\\\"special moment\\\\\\\\\\\\\" for his country, ahead of general elections.\\\\\",\\\\\"headline\\\\\":\\\\\"Special session: Modi introduces women\\'s bill in new India parliament\\\\\",\\\\\"image\\\\\":{\\\\\"@type\\\\\":\\\\\"ImageObject\\\\\",\\\\\"width\\\\\":1024,\\\\\"height\\\\\":576,\\\\\"url\\\\\":\\\\\"https://ichef.bbci.co.uk/news/1024/branded_news/2E42/production/_131124811_gettyimages-1653682262.jpg\\\\\"},\\\\\"thumbnailUrl\\\\\":\\\\\"https://ichef.bbci.co.uk/news/1024/branded_news/2E42/production/_131124811_gettyimages-1653682262.jpg\\\\\",\\\\\"mainEntityOfPage\\\\\":\\\\\"https://www.bbc.com/news/world-asia-india-66851211\\\\\",\\\\\"author\\\\\":{\\\\\"@type\\\\\":\\\\\"NewsMediaOrganization\\\\\",\\\\\"name\\\\\":\\\\\"BBC News\\\\\",\\\\\"noBylinesPolicy\\\\\":\\\\\"http://www.bbc.co.uk/news/help-41670342#authorexpertise\\\\\",\\\\\"logo\\\\\":{\\\\\"@type\\\\\":\\\\\"ImageObject\\\\\",\\\\\"url\\\\\":\\\\\"https://static.files.bbci.co.uk/ws/simorgh-assets/public/news/images/metadata/poster-1024x576.png\\\\\"}}}},{\\\\\"__typename\\\\\":\\\\\"LiteralProp\\\\\",\\\\\"name\\\\\":\\\\\"twitterCard\\\\\",\\\\\"value\\\\\":{\\\\\"twitter:card\\\\\":\\\\\"summary_large_image\\\\\",\\\\\"twitter:creator\\\\\":\\\\\"@BBCWorld\\\\\",\\\\\"twitter:description\\\\\":\\\\\"Prime minister Modi praises bill as \\\\\\\\\\\\\"special moment\\\\\\\\\\\\\" for his country, ahead of general elections.\\\\\",\\\\\"twitter:domain\\\\\":\\\\\"www.bbc.com\\\\\",\\\\\"twitter:image:src\\\\\":\\\\\"https://ichef.bbci.co.uk/news/1024/branded_news/2E42/production/_131124811_gettyimages-1653682262.jpg\\\\\",\\\\\"twitter:image:alt\\\\\":\\\\\"India\\'s Prime Minister Narendra Modi waits to welcome leaders of the G20 countries at the Bharat Mandapam in New Delhi on September 9, 2023. (Photo by Ludovic MARIN / POOL / AFP) (Photo by LUDOVIC MARIN/POOL/AFP via Getty Images)\\\\\",\\\\\"twitter:site\\\\\":\\\\\"@BBCWorld\\\\\",\\\\\"twitter:title\\\\\":\\\\\"Special session: Modi introduces women\\'s bill in new India parliament\\\\\"}},{\\\\\"__typename\\\\\":\\\\\"LiteralProp\\\\\",\\\\\"name\\\\\":\\\\\"serviceIcons\\\\\",\\\\\"value\\\\\":\\\\\"news\\\\\"},{\\\\\"__typename\\\\\":\\\\\"TemplateProp\\\\\",\\\\\"name\\\\\":\\\\\"manifestUrl\\\\\",\\\\\"template\\\\\":\\\\\"${staticBaseUrl}/${manifestName}\\\\\",\\\\\"templateProps\\\\\":[{\\\\\"__typename\\\\\":\\\\\"ConfigProp\\\\\",\\\\\"name\\\\\":\\\\\"manifestName\\\\\",\\\\\"lookup\\\\\":\\\\\"manifestName\\\\\"},{\\\\\"__typename\\\\\":\\\\\"ConfigProp\\\\\",\\\\\"name\\\\\":\\\\\"staticBaseUrl\\\\\",\\\\\"lookup\\\\\":\\\\\"staticBaseUrl\\\\\"}]}]},{\\\\\"name\\\\\":\\\\\"comscore-mmx\\\\\",\\\\\"importance\\\\\":\\\\\"SECONDARY\\\\\",\\\\\"props\\\\\":[{\\\\\"__typename\\\\\":\\\\\"FeatureToggle\\\\\",\\\\\"name\\\\\":\\\\\"enableComscoreMmx\\\\\",\\\\\"lookup\\\\\":\\\\\"enableComscoreMmx\\\\\"},{\\\\\"__typename\\\\\":\\\\\"RequestContext\\\\\",\\\\\"name\\\\\":\\\\\"nonce\\\\\",\\\\\"lookup\\\\\":\\\\\"nonce\\\\\"}]},{\\\\\"name\\\\\":\\\\\"dotcom\\\\\",\\\\\"importance\\\\\":\\\\\"SECONDARY\\\\\",\\\\\"props\\\\\":[{\\\\\"__typename\\\\\":\\\\\"QueryParam\\\\\",\\\\\"name\\\\\":\\\\\"testMode\\\\\",\\\\\"lookup\\\\\":\\\\\"ads-test\\\\\"},{\\\\\"__typename\\\\\":\\\\\"QueryParam\\\\\",\\\\\"name\\\\\":\\\\\"adsDebug\\\\\",\\\\\"lookup\\\\\":\\\\\"ads-debug\\\\\"},{\\\\\"__typename\\\\\":\\\\\"FeatureToggle\\\\\",\\\\\"name\\\\\":\\\\\"enableDotcomAds\\\\\",\\\\\"lookup\\\\\":\\\\\"enableDotcomAds\\\\\"},{\\\\\"__typename\\\\\":\\\\\"FeatureToggle\\\\\",\\\\\"name\\\\\":\\\\\"allowAdvertising\\\\\",\\\\\"lookup\\\\\":\\\\\"allowAdvertising\\\\\",\\\\\"fallbackValue\\\\\":true},{\\\\\"__typename\\\\\":\\\\\"RequestContext\\\\\",\\\\\"name\\\\\":\\\\\"nonce\\\\\",\\\\\"lookup\\\\\":\\\\\"nonce\\\\\"},{\\\\\"__typename\\\\\":\\\\\"RequestContext\\\\\",\\\\\"name\\\\\":\\\\\"env\\\\\",\\\\\"lookup\\\\\":\\\\\"env\\\\\"},{\\\\\"__typename\\\\\":\\\\\"LiteralProp\\\\\",\\\\\"name\\\\\":\\\\\"adCampaignKeyword\\\\\"},{\\\\\"__typename\\\\\":\\\\\"StoreReader\\\\\",\\\\\"name\\\\\":\\\\\"topics\\\\\",\\\\\"lookup\\\\\":\\\\\"topics\\\\\",\\\\\"store\\\\\":\\\\\"article\\\\\"},{\\\\\"__typename\\\\\":\\\\\"StoreReader\\\\\",\\\\\"name\\\\\":\\\\\"metadata\\\\\",\\\\\"lookup\\\\\":\\\\\"metadata\\\\\",\\\\\"store\\\\\":\\\\\"article\\\\\"},{\\\\\"__typename\\\\\":\\\\\"LiteralProp\\\\\",\\\\\"name\\\\\":\\\\\"opsFlags\\\\\",\\\\\"value\\\\\":{\\\\\"Metadata\\\\\":{\\\\\"FlagpoleBucketPrefix\\\\\":\\\\\"\\\\\",\\\\\"FlagpoleDate\\\\\":\\\\\"07 Aug 23 18:52 UTC\\\\\",\\\\\"FlagpoleFileID\\\\\":\\\\\"gn-flagpoles/gnlops\\\\\",\\\\\"FlagpoleIdentity\\\\\":\\\\\"gnlops\\\\\",\\\\\"FlagpoleSystem\\\\\":\\\\\"gn-flagpoles\\\\\",\\\\\"Guid\\\\\":\\\\\"8dfe60a2-4322-411c-8a71-04dc7084fec4\\\\\",\\\\\"urn\\\\\":\\\\\"urn:pubpipe:gnflagpoles:gnlops:gn-flagpoles/gnlops\\\\\"},\\\\\"Urn\\\\\":\\\\\"urn:pubpipe:gnflagpoles:gnlops:gn-flagpoles/gnlops\\\\\",\\\\\"adverts\\\\\":\\\\\"true\\\\\",\\\\\"analytics\\\\\":\\\\\"true\\\\\",\\\\\"wwhp_feeds\\\\\":\\\\\"true\\\\\",\\\\\"wwhp_obituary\\\\\":\\\\\"false\\\\\",\\\\\"xproxy\\\\\":\\\\\"true\\\\\",\\\\\"zephr\\\\\":\\\\\"true\\\\\",\\\\\"zephrx\\\\\":\\\\\"true\\\\\"}},{\\\\\"__typename\\\\\":\\\\\"LiteralProp\\\\\",\\\\\"name\\\\\":\\\\\"ngasFlags\\\\\",\\\\\"value\\\\\":{\\\\\"Metadata\\\\\":{\\\\\"FlagpoleBucketPrefix\\\\\":\\\\\"\\\\\",\\\\\"FlagpoleDate\\\\\":\\\\\"18 Sep 23 16:00 UTC\\\\\",\\\\\"FlagpoleFileID\\\\\":\\\\\"gn-flagpoles/ngas\\\\\",\\\\\"FlagpoleIdentity\\\\\":\\\\\"ngas\\\\\",\\\\\"FlagpoleSystem\\\\\":\\\\\"gn-flagpoles\\\\\",\\\\\"Guid\\\\\":\\\\\"e229d810-0dcd-45f0-a61b-ff6a4178aff7\\\\\",\\\\\"urn\\\\\":\\\\\"urn:pubpipe:gnflagpoles:ngas:gn-flagpoles/ngas\\\\\"},\\\\\"Urn\\\\\":\\\\\"urn:pubpipe:gnflagpoles:ngas:gn-flagpoles/ngas\\\\\",\\\\\"adsense\\\\\":\\\\\"true\\\\\",\\\\\"beta\\\\\":\\\\\"true\\\\\",\\\\\"cmp\\\\\":\\\\\"true\\\\\",\\\\\"comscoremmx\\\\\":\\\\\"true\\\\\",\\\\\"comscoremmxeea\\\\\":\\\\\"true\\\\\",\\\\\"content_rec\\\\\":\\\\\"true\\\\\",\\\\\"covatic\\\\\":\\\\\"true\\\\\",\\\\\"effectivemeasure\\\\\":\\\\\"false\\\\\",\\\\\"effectivemeasureeea\\\\\":\\\\\"false\\\\\",\\\\\"fpd\\\\\":\\\\\"true\\\\\",\\\\\"fundingchoices_cmp\\\\\":\\\\\"false\\\\\",\\\\\"grapeshot\\\\\":\\\\\"true\\\\\",\\\\\"ias_publisher\\\\\":\\\\\"true\\\\\",\\\\\"iris\\\\\":\\\\\"false\\\\\",\\\\\"name\\\\\":\\\\\"ngas\\\\\",\\\\\"native_size\\\\\":\\\\\"true\\\\\",\\\\\"nielsen\\\\\":\\\\\"true\\\\\",\\\\\"ozone\\\\\":\\\\\"true\\\\\",\\\\\"permutive\\\\\":\\\\\"true\\\\\",\\\\\"permutive_cohort\\\\\":\\\\\"true\\\\\",\\\\\"piano\\\\\":\\\\\"true\\\\\",\\\\\"platinum\\\\\":\\\\\"true\\\\\",\\\\\"sherlock\\\\\":\\\\\"false\\\\\",\\\\\"signin\\\\\":\\\\\"false\\\\\",\\\\\"signinnews\\\\\":\\\\\"false\\\\\",\\\\\"sticky_leader\\\\\":\\\\\"true\\\\\",\\\\\"survey\\\\\":\\\\\"true\\\\\",\\\\\"surveyx\\\\\":\\\\\"true\\\\\",\\\\\"thirdpartyeea\\\\\":\\\\\"false\\\\\",\\\\\"tmt_media_filter\\\\\":\\\\\"true\\\\\",\\\\\"version\\\\\":\\\\\"1.28\\\\\"}}]},{\\\\\"name\\\\\":\\\\\"web-vitals\\\\\",\\\\\"importance\\\\\":\\\\\"TERTIARY\\\\\",\\\\\"props\\\\\":[{\\\\\"__typename\\\\\":\\\\\"LiteralProp\\\\\",\\\\\"name\\\\\":\\\\\"reportParams\\\\\",\\\\\"value\\\\\":{\\\\\"pageType\\\\\":\\\\\"webcore-article-cps\\\\\"}}]}],\\\\\"analytics\\\\\":{},\\\\\"path\\\\\":\\\\\"/news/world-asia-india-66851211\\\\\",\\\\\"routeHasCustomCsp\\\\\":false},\\\\\"stores\\\\\":{\\\\\"analytics\\\\\":{\\\\\"page\\\\\":{\\\\\"destination\\\\\":\\\\\"NEWS_GNL\\\\\",\\\\\"producer\\\\\":\\\\\"NEWS\\\\\",\\\\\"contentType\\\\\":\\\\\"article\\\\\",\\\\\"contentId\\\\\":\\\\\"urn:bbc:cps:curie:asset:2bc450d2-af1e-4bb8-84d4-838c2994731a\\\\\",\\\\\"language\\\\\":\\\\\"en\\\\\",\\\\\"name\\\\\":\\\\\"news.world.asia.india.story.66851211.page\\\\\",\\\\\"section\\\\\":\\\\\"world::asia::india\\\\\",\\\\\"additionalProperties\\\\\":{\\\\\"app_name\\\\\":\\\\\"news\\\\\",\\\\\"app_type\\\\\":\\\\\"responsive\\\\\",\\\\\"experience_composition\\\\\":[\\\\\"long-form\\\\\"],\\\\\"experience_resource_id\\\\\":\\\\\"urn:bbc:cps:curie:asset:2bc450d2-af1e-4bb8-84d4-838c2994731a\\\\\",\\\\\"custom_var_1\\\\\":\\\\\"2023-09-19T12:57:25.000Z\\\\\",\\\\\"custom_var_2\\\\\":\\\\\"2023-09-19T14:39:40.000Z\\\\\",\\\\\"custom_var_3\\\\\":\\\\\"Narendra+Modi~India+Parliament~India~Delhi~South+Asia~Asia\\\\\",\\\\\"custom_var_4\\\\\":\\\\\"103fc7e4-3a8d-491c-9a75-3c37c299d48f~1059fd6c-a631-406b-95fd-c6e0cf0f0c28~5a08f030-710f-4168-acee-67294a90fc75~65cb5b06-fd93-4667-8ce6-94373a564409~755f36fe-2126-4225-92bf-ac459c3c8832~ba90754a-9033-4e9c-990b-d1139e5070a3\\\\\",\\\\\"comments_enabled\\\\\":false,\\\\\"uploader_format\\\\\":false}},\\\\\"sections\\\\\":[\\\\\"News\\\\\",\\\\\"News - india\\\\\",\\\\\"News - STY\\\\\",\\\\\"News - india - STY\\\\\",\\\\\"News - news-category\\\\\"],\\\\\"title\\\\\":\\\\\"Special session: Modi introduces women\\'s bill in new India parliament\\\\\"},\\\\\"userLocationData\\\\\":{\\\\\"userLocationData\\\\\":{}},\\\\\"article\\\\\":{\\\\\"metadata\\\\\":{\\\\\"id\\\\\":\\\\\"urn:bbc:ares::asset:news/world-asia-india-66851211\\\\\",\\\\\"assetId\\\\\":\\\\\"66851211\\\\\",\\\\\"curie\\\\\":\\\\\"http://www.bbc.co.uk/asset/2bc450d2-af1e-4bb8-84d4-838c2994731a\\\\\",\\\\\"locators\\\\\":{\\\\\"canonicalUrl\\\\\":\\\\\"https://www.bbc.co.uk/news/world-asia-india-66851211\\\\\"},\\\\\"seoHeadline\\\\\":\\\\\"Special session: Modi introduces women\\'s bill in new India parliament\\\\\",\\\\\"promoHeadline\\\\\":{\\\\\"blocks\\\\\":[{\\\\\"type\\\\\":\\\\\"text\\\\\",\\\\\"model\\\\\":{\\\\\"blocks\\\\\":[{\\\\\"type\\\\\":\\\\\"paragraph\\\\\",\\\\\"model\\\\\":{\\\\\"text\\\\\":\\\\\"Decades-old women MPs bill tabled before India poll\\\\\",\\\\\"blocks\\\\\":[{\\\\\"type\\\\\":\\\\\"fragment\\\\\",\\\\\"model\\\\\":{\\\\\"text\\\\\":\\\\\"Decades-old women MPs bill tabled before India poll\\\\\",\\\\\"attributes\\\\\":[]}}]}}]}}]},\\\\\"indexImage\\\\\":{\\\\\"blocks\\\\\":[{\\\\\"type\\\\\":\\\\\"altText\\\\\",\\\\\"model\\\\\":{\\\\\"blocks\\\\\":[{\\\\\"type\\\\\":\\\\\"text\\\\\",\\\\\"model\\\\\":{\\\\\"blocks\\\\\":[{\\\\\"type\\\\\":\\\\\"fragment\\\\\",\\\\\"model\\\\\":{\\\\\"text\\\\\":\\\\\"India\\'s Prime Minister Narendra Modi waits to welcome leaders of the G20 countries at the Bharat Mandapam in New Delhi on September 9, 2023. (Photo by Ludovic MARIN / POOL / AFP) (Photo by LUDOVIC MARIN/POOL/AFP via Getty Images)\\\\\",\\\\\"attributes\\\\\":[]}}]}}]}},{\\\\\"type\\\\\":\\\\\"rawImage\\\\\",\\\\\"model\\\\\":{\\\\\"height\\\\\":549,\\\\\"width\\\\\":976,\\\\\"locator\\\\\":\\\\\"2E42/production/_131124811_gettyimages-1653682262.jpg\\\\\",\\\\\"originCode\\\\\":\\\\\"cpsprodpb\\\\\",\\\\\"copyrightHolder\\\\\":\\\\\"Getty Images\\\\\"}},{\\\\\"type\\\\\":\\\\\"caption\\\\\",\\\\\"model\\\\\":{\\\\\"blocks\\\\\":[{\\\\\"type\\\\\":\\\\\"text\\\\\",\\\\\"model\\\\\":{\\\\\"blocks\\\\\":[{\\\\\"type\\\\\":\\\\\"fragment\\\\\",\\\\\"model\\\\\":{\\\\\"text\\\\\":\\\\\"PM Modi is set to walk to the new building\\\\\",\\\\\"attributes\\\\\":[]}}]}}]}}],\\\\\"alt\\\\\":\\\\\"India\\'s Prime Minister Narendra Modi waits to welcome leaders of the G20 countries at the Bharat Mandapam in New Delhi on September 9, 2023. (Photo by Ludovic MARIN / POOL / AFP) (Photo by LUDOVIC MARIN/POOL/AFP via Getty Images)\\\\\",\\\\\"originalSrc\\\\\":\\\\\"https://c.files.bbci.co.uk/2E42/production/_131124811_gettyimages-1653682262.jpg\\\\\",\\\\\"iChefRecipe\\\\\":\\\\\"https://ichef.bbci.co.uk/news/$recipe/branded_news/2E42/production/_131124811_gettyimages-1653682262.jpg\\\\\",\\\\\"width\\\\\":1024,\\\\\"height\\\\\":576,\\\\\"isEditorialImage\\\\\":true,\\\\\"src\\\\\":\\\\\"https://ichef.bbci.co.uk/news/1024/branded_news/2E42/production/_131124811_gettyimages-1653682262.jpg\\\\\"},\\\\\"type\\\\\":\\\\\"STY\\\\\",\\\\\"options\\\\\":{\\\\\"isIgorSeoTagsEnabled\\\\\":false,\\\\\"includeComments\\\\\":false,\\\\\"allowRightHandSide\\\\\":true,\\\\\"isFactCheck\\\\\":false,\\\\\"allowDateStamp\\\\\":true,\\\\\"suitableForSyndication\\\\\":true,\\\\\"hasNewsTracker\\\\\":false,\\\\\"allowRelatedStoriesBox\\\\\":true,\\\\\"isKeyContent\\\\\":false,\\\\\"allowHeadline\\\\\":true,\\\\\"allowAdvertising\\\\\":true,\\\\\"hasContentWarning\\\\\":false,\\\\\"isBreakingNews\\\\\":false,\\\\\"allowPrintingSharingLinks\\\\\":true},\\\\\"languageCode\\\\\":\\\\\"en-gb\\\\\",\\\\\"assetUri\\\\\":\\\\\"/news/world-asia-india-66851211\\\\\",\\\\\"description\\\\\":\\\\\"Prime minister Modi praises bill as \\\\\\\\\\\\\"special moment\\\\\\\\\\\\\" for his country, ahead of general elections.\\\\\",\\\\\"lastUpdated\\\\\":1695134390832,\\\\\"firstPublished\\\\\":1695128245000,\\\\\"lastPublished\\\\\":1695134380000,\\\\\"analytics\\\\\":{\\\\\"page\\\\\":{\\\\\"name\\\\\":\\\\\"news.world.asia.india.story.66851211.page\\\\\",\\\\\"contentId\\\\\":\\\\\"urn:bbc:cps:curie:asset:2bc450d2-af1e-4bb8-84d4-838c2994731a\\\\\",\\\\\"section\\\\\":\\\\\"world::asia::india\\\\\",\\\\\"producer\\\\\":\\\\\"NEWS\\\\\",\\\\\"additionalProperties\\\\\":{\\\\\"custom_var_1\\\\\":\\\\\"2023-09-19T12:57:25.000Z\\\\\",\\\\\"custom_var_2\\\\\":\\\\\"2023-09-19T14:39:40.000Z\\\\\",\\\\\"custom_var_3\\\\\":\\\\\"Narendra+Modi~India+Parliament~India~Delhi~South+Asia~Asia\\\\\",\\\\\"custom_var_4\\\\\":\\\\\"103fc7e4-3a8d-491c-9a75-3c37c299d48f~1059fd6c-a631-406b-95fd-c6e0cf0f0c28~5a08f030-710f-4168-acee-67294a90fc75~65cb5b06-fd93-4667-8ce6-94373a564409~755f36fe-2126-4225-92bf-ac459c3c8832~ba90754a-9033-4e9c-990b-d1139e5070a3\\\\\",\\\\\"comments_enabled\\\\\":false,\\\\\"uploader_format\\\\\":false}}},\\\\\"site\\\\\":{\\\\\"name\\\\\":\\\\\"BBC News\\\\\",\\\\\"uri\\\\\":\\\\\"/news\\\\\"},\\\\\"consumableInPlace\\\\\":false,\\\\\"consumableOnRedButton\\\\\":true,\\\\\"consumableOnlyOnRedButton\\\\\":false,\\\\\"home\\\\\":\\\\\"http://www.bbc.co.uk/ontologies/passport/home/News\\\\\",\\\\\"urn\\\\\":\\\\\"urn:bbc:cps:curie:asset:2bc450d2-af1e-4bb8-84d4-838c2994731a\\\\\",\\\\\"blockTypes\\\\\":[\\\\\"image\\\\\",\\\\\"paragraph\\\\\",\\\\\"crosshead\\\\\",\\\\\"list\\\\\",\\\\\"listItem\\\\\",\\\\\"group\\\\\"],\\\\\"section\\\\\":{\\\\\"name\\\\\":\\\\\"India\\\\\",\\\\\"uri\\\\\":\\\\\"/news/world/asia/india\\\\\"},\\\\\"host\\\\\":\\\\\"www.bbc.com\\\\\",\\\\\"canonical\\\\\":\\\\\"https://www.bbc.com/news/world-asia-india-66851211\\\\\",\\\\\"title\\\\\":{\\\\\"full\\\\\":\\\\\"Special session: Modi introduces women\\'s bill in new India parliament - BBC News\\\\\",\\\\\"short\\\\\":\\\\\"Special session: Modi introduces women\\'s bill in new India parliament\\\\\"},\\\\\"contributor\\\\\":null,\\\\\"social\\\\\":{\\\\\"facebook\\\\\":{\\\\\"admins\\\\\":\\\\\"100004154058350\\\\\",\\\\\"app_id\\\\\":\\\\\"1609039196070050\\\\\",\\\\\"pages\\\\\":\\\\\"1143803202301544,317278538359186,1392506827668140,742734325867560,185246968166196,156060587793370,137920769558355,193435954068976,21263239760,156400551056385,929399697073756,154344434967,228735667216,80758950658,260212261199,294662213128,1086451581439054,283348121682053,295830058648,239931389545417,304314573046,310719525611571,647687225371774,1159932557403143,286567251709437,1731770190373618,125309456546,163571453661989,285361880228,512423982152360,238003846549831,176663550714,260967092113,118450564909230,100978706649892,15286229625,122103087870579,120655094632228,102814153147070,124715648647,153132638110668,150467675018739\\\\\",\\\\\"url\\\\\":\\\\\"https://www.facebook.com/bbcnews\\\\\"},\\\\\"twitter\\\\\":{\\\\\"card\\\\\":\\\\\"summary_large_image\\\\\",\\\\\"user\\\\\":\\\\\"@BBCWorld\\\\\"}},\\\\\"schemaOrg\\\\\":{\\\\\"logo\\\\\":\\\\\"https://static.files.bbci.co.uk/ws/simorgh-assets/public/news/images/metadata/poster-1024x576.png\\\\\",\\\\\"noBylinesPolicy\\\\\":\\\\\"http://www.bbc.co.uk/news/help-41670342#authorexpertise\\\\\",\\\\\"publishingPrinciples\\\\\":\\\\\"http://www.bbc.co.uk/news/help-41670342\\\\\",\\\\\"type\\\\\":\\\\\"ReportageNewsArticle\\\\\",\\\\\"publisher\\\\\":\\\\\"NewsMediaOrganization\\\\\"},\\\\\"microsoft\\\\\":{\\\\\"tileColor\\\\\":\\\\\"#bb1919\\\\\",\\\\\"tileImage\\\\\":\\\\\"BBC News\\\\\"}},\\\\\"topics\\\\\":[{\\\\\"title\\\\\":\\\\\"Asia\\\\\",\\\\\"url\\\\\":\\\\\"/news/topics/c5rznn0nvvyt\\\\\",\\\\\"isEvent\\\\\":false},{\\\\\"title\\\\\":\\\\\"Narendra Modi\\\\\",\\\\\"url\\\\\":\\\\\"/news/topics/cg41ylwvgmyt\\\\\",\\\\\"isEvent\\\\\":false},{\\\\\"title\\\\\":\\\\\"Delhi\\\\\",\\\\\"url\\\\\":\\\\\"/news/topics/cmmqq736zwyt\\\\\",\\\\\"isEvent\\\\\":false},{\\\\\"title\\\\\":\\\\\"India\\\\\",\\\\\"url\\\\\":\\\\\"/news/topics/cny6mpy4mj9t\\\\\",\\\\\"isEvent\\\\\":false}],\\\\\"articleBodyContent\\\\\":[{\\\\\"type\\\\\":\\\\\"image\\\\\",\\\\\"model\\\\\":{\\\\\"emphasiseImage\\\\\":true,\\\\\"blocks\\\\\":[{\\\\\"type\\\\\":\\\\\"altText\\\\\",\\\\\"model\\\\\":{\\\\\"blocks\\\\\":[{\\\\\"type\\\\\":\\\\\"text\\\\\",\\\\\"model\\\\\":{\\\\\"blocks\\\\\":[{\\\\\"type\\\\\":\\\\\"fragment\\\\\",\\\\\"model\\\\\":{\\\\\"text\\\\\":\\\\\"India\\'s Prime Minister Narendra Modi waits to welcome leaders of the G20 countries at the Bharat Mandapam in New Delhi on September 9, 2023. (Photo by Ludovic MARIN / POOL / AFP) (Photo by LUDOVIC MARIN/POOL/AFP via Getty Images)\\\\\",\\\\\"attributes\\\\\":[]}}]}}]}},{\\\\\"type\\\\\":\\\\\"rawImage\\\\\",\\\\\"model\\\\\":{\\\\\"height\\\\\":549,\\\\\"width\\\\\":976,\\\\\"locator\\\\\":\\\\\"13BCA/production/_131124808_gettyimages-1653682262.jpg\\\\\",\\\\\"originCode\\\\\":\\\\\"cpsprodpb\\\\\",\\\\\"copyrightHolder\\\\\":\\\\\"Getty Images\\\\\"}},{\\\\\"type\\\\\":\\\\\"caption\\\\\",\\\\\"model\\\\\":{\\\\\"blocks\\\\\":[{\\\\\"type\\\\\":\\\\\"text\\\\\",\\\\\"model\\\\\":{\\\\\"blocks\\\\\":[{\\\\\"type\\\\\":\\\\\"fragment\\\\\",\\\\\"model\\\\\":{\\\\\"text\\\\\":\\\\\"PM Modi is set to walk to the new building\\\\\",\\\\\"attributes\\\\\":[]}}]}}]}}]}},{\\\\\"type\\\\\":\\\\\"text\\\\\",\\\\\"model\\\\\":{\\\\\"blocks\\\\\":[{\\\\\"type\\\\\":\\\\\"paragraph\\\\\",\\\\\"model\\\\\":{\\\\\"text\\\\\":\\\\\"The Indian government has introduced a bill guaranteeing a third of seats for women in the lower house of parliament and state assemblies.\\\\\",\\\\\"blocks\\\\\":[{\\\\\"type\\\\\":\\\\\"fragment\\\\\",\\\\\"model\\\\\":{\\\\\"text\\\\\":\\\\\"The Indian government has introduced a bill guaranteeing a third of seats for women in the lower house of parliament and state assemblies.\\\\\",\\\\\"attributes\\\\\":[\\\\\"bold\\\\\"]}}]}}]}},{\\\\\"type\\\\\":\\\\\"text\\\\\",\\\\\"model\\\\\":{\\\\\"blocks\\\\\":[{\\\\\"type\\\\\":\\\\\"paragraph\\\\\",\\\\\"model\\\\\":{\\\\\"text\\\\\":\\\\\"The contentious bill, first proposed in 1996, has been pending for decades amid opposition from some political parties.\\\\\",\\\\\"blocks\\\\\":[{\\\\\"type\\\\\":\\\\\"fragment\\\\\",\\\\\"model\\\\\":{\\\\\"text\\\\\":\\\\\"The contentious bill, first proposed in 1996, has been pending for decades amid opposition from some political parties.\\\\\",\\\\\"attributes\\\\\":[]}}]}}]}},{\\\\\"type\\\\\":\\\\\"text\\\\\",\\\\\"model\\\\\":{\\\\\"blocks\\\\\":[{\\\\\"type\\\\\":\\\\\"paragraph\\\\\",\\\\\"model\\\\\":{\\\\\"text\\\\\":\\\\\"Its revival is expected to boost the governing Bharatiya Janata Party\\'s fortunes in general elections next May.\\\\\",\\\\\"blocks\\\\\":[{\\\\\"type\\\\\":\\\\\"fragment\\\\\",\\\\\"model\\\\\":{\\\\\"text\\\\\":\\\\\"Its revival is expected to boost the governing Bharatiya Janata Party\\'s fortunes in general elections next May.\\\\\",\\\\\"attributes\\\\\":[]}}]}}]}},{\\\\\"type\\\\\":\\\\\"text\\\\\",\\\\\"model\\\\\":{\\\\\"blocks\\\\\":[{\\\\\"type\\\\\":\\\\\"paragraph\\\\\",\\\\\"model\\\\\":{\\\\\"text\\\\\":\\\\\"The bill was tabled at the new Indian parliament\\'s first session and is still some way from becoming law.\\\\\",\\\\\"blocks\\\\\":[{\\\\\"type\\\\\":\\\\\"fragment\\\\\",\\\\\"model\\\\\":{\\\\\"text\\\\\":\\\\\"The bill was tabled at the new Indian parliament\\'s first session and is still some way from becoming law.\\\\\",\\\\\"attributes\\\\\":[]}}]}}]}},{\\\\\"type\\\\\":\\\\\"text\\\\\",\\\\\"model\\\\\":{\\\\\"blocks\\\\\":[{\\\\\"type\\\\\":\\\\\"paragraph\\\\\",\\\\\"model\\\\\":{\\\\\"text\\\\\":\\\\\"It would require the approval of both houses of parliament and a majority of state legislatures, as well as the Indian president\\'s signature.\\\\\",\\\\\"blocks\\\\\":[{\\\\\"type\\\\\":\\\\\"fragment\\\\\",\\\\\"model\\\\\":{\\\\\"text\\\\\":\\\\\"It would require the approval of both houses of parliament and a majority of state legislatures, as well as the Indian president\\'s signature.\\\\\",\\\\\"attributes\\\\\":[]}}]}}]}},{\\\\\"type\\\\\":\\\\\"text\\\\\",\\\\\"model\\\\\":{\\\\\"blocks\\\\\":[{\\\\\"type\\\\\":\\\\\"paragraph\\\\\",\\\\\"model\\\\\":{\\\\\"text\\\\\":\\\\\"Reported plans to increase the overall  number of constituencies could further complicate its implementation.\\\\\",\\\\\"blocks\\\\\":[{\\\\\"type\\\\\":\\\\\"fragment\\\\\",\\\\\"model\\\\\":{\\\\\"text\\\\\":\\\\\"Reported plans to increase the overall  number of constituencies could further complicate its implementation.\\\\\",\\\\\"attributes\\\\\":[]}}]}}]}},{\\\\\"type\\\\\":\\\\\"text\\\\\",\\\\\"model\\\\\":{\\\\\"blocks\\\\\":[{\\\\\"type\\\\\":\\\\\"paragraph\\\\\",\\\\\"model\\\\\":{\\\\\"text\\\\\":\\\\\"In his opening speech at the new parliament building, Mr Modi praised the proposed legislation and said it was a special moment for the country. \\\\\",\\\\\"blocks\\\\\":[{\\\\\"type\\\\\":\\\\\"fragment\\\\\",\\\\\"model\\\\\":{\\\\\"text\\\\\":\\\\\"In his opening speech at the new parliament building, Mr Modi praised the proposed legislation and said it was a special moment for the country. \\\\\",\\\\\"attributes\\\\\":[]}}]}}]}},{\\\\\"type\\\\\":\\\\\"text\\\\\",\\\\\"model\\\\\":{\\\\\"blocks\\\\\":[{\\\\\"type\\\\\":\\\\\"paragraph\\\\\",\\\\\"model\\\\\":{\\\\\"text\\\\\":\\\\\"\\\\\\\\\\\\\"The world understands that only talking of women-led development is not enough. This is a positive step taken on that front,\\\\\\\\\\\\\" he told politicians as he appealed to them to support the bill.\\\\\",\\\\\"blocks\\\\\":[{\\\\\"type\\\\\":\\\\\"fragment\\\\\",\\\\\"model\\\\\":{\\\\\"text\\\\\":\\\\\"\\\\\\\\\\\\\"The world understands that only talking of women-led development is not enough. This is a positive step taken on that front,\\\\\\\\\\\\\" he told politicians as he appealed to them to support the bill.\\\\\",\\\\\"attributes\\\\\":[]}}]}}]}},{\\\\\"type\\\\\":\\\\\"text\\\\\",\\\\\"model\\\\\":{\\\\\"blocks\\\\\":[{\\\\\"type\\\\\":\\\\\"paragraph\\\\\",\\\\\"model\\\\\":{\\\\\"text\\\\\":\\\\\"The PM also took a swipe at the opposition and said that the previous Congress party-led governments had failed to clear the bill when they were in power.  \\\\\",\\\\\"blocks\\\\\":[{\\\\\"type\\\\\":\\\\\"fragment\\\\\",\\\\\"model\\\\\":{\\\\\"text\\\\\":\\\\\"The PM also took a swipe at the opposition and said that the previous Congress party-led governments had failed to clear the bill when they were in power.  \\\\\",\\\\\"attributes\\\\\":[]}}]}}]}},{\\\\\"type\\\\\":\\\\\"text\\\\\",\\\\\"model\\\\\":{\\\\\"blocks\\\\\":[{\\\\\"type\\\\\":\\\\\"paragraph\\\\\",\\\\\"model\\\\\":{\\\\\"text\\\\\":\\\\\"\\\\\\\\\\\\\"There have been discussions around women\\'s reservations for years. We can say with pride that we have scripted history,\\\\\\\\\\\\\" he said. \\\\\",\\\\\"blocks\\\\\":[{\\\\\"type\\\\\":\\\\\"fragment\\\\\",\\\\\"model\\\\\":{\\\\\"text\\\\\":\\\\\"\\\\\\\\\\\\\"There have been discussions around women\\'s reservations for years. We can say with pride that we have scripted history,\\\\\\\\\\\\\" he said. \\\\\",\\\\\"attributes\\\\\":[]}}]}}]}},{\\\\\"type\\\\\":\\\\\"text\\\\\",\\\\\"model\\\\\":{\\\\\"blocks\\\\\":[{\\\\\"type\\\\\":\\\\\"paragraph\\\\\",\\\\\"model\\\\\":{\\\\\"text\\\\\":\\\\\"Mr Modi inaugurated the new parliament building in May but no business was held there until now.\\\\\",\\\\\"blocks\\\\\":[{\\\\\"type\\\\\":\\\\\"fragment\\\\\",\\\\\"model\\\\\":{\\\\\"text\\\\\":\\\\\"Mr Modi \\\\\",\\\\\"attributes\\\\\":[]}},{\\\\\"type\\\\\":\\\\\"urlLink\\\\\",\\\\\"model\\\\\":{\\\\\"text\\\\\":\\\\\"inaugurated the new parliament building\\\\\",\\\\\"locator\\\\\":\\\\\"https://www.bbc.com/news/world-asia-india-65718127\\\\\",\\\\\"blocks\\\\\":[{\\\\\"type\\\\\":\\\\\"fragment\\\\\",\\\\\"model\\\\\":{\\\\\"text\\\\\":\\\\\"inaugurated the new parliament building\\\\\",\\\\\"attributes\\\\\":[]}}]}},{\\\\\"type\\\\\":\\\\\"fragment\\\\\",\\\\\"model\\\\\":{\\\\\"text\\\\\":\\\\\" in May but no business was held there until now.\\\\\",\\\\\"attributes\\\\\":[]}}]}}]}},{\\\\\"type\\\\\":\\\\\"text\\\\\",\\\\\"model\\\\\":{\\\\\"blocks\\\\\":[{\\\\\"type\\\\\":\\\\\"paragraph\\\\\",\\\\\"model\\\\\":{\\\\\"text\\\\\":\\\\\"He called a five-day special session which began on Monday but the first day\\'s sitting was held in the old parliament building.\\\\\",\\\\\"blocks\\\\\":[{\\\\\"type\\\\\":\\\\\"fragment\\\\\",\\\\\"model\\\\\":{\\\\\"text\\\\\":\\\\\"He called a five-day special session which began on Monday but the first day\\'s sitting was held in the old parliament building.\\\\\",\\\\\"attributes\\\\\":[]}}]}}]}},{\\\\\"type\\\\\":\\\\\"text\\\\\",\\\\\"model\\\\\":{\\\\\"blocks\\\\\":[{\\\\\"type\\\\\":\\\\\"paragraph\\\\\",\\\\\"model\\\\\":{\\\\\"text\\\\\":\\\\\"On Tuesday morning, members from both houses assembled for a photo session at the old building, followed by an event commemorating parliament\\'s legacy in the Central Hall of the British-era building.\\\\\",\\\\\"blocks\\\\\":[{\\\\\"type\\\\\":\\\\\"fragment\\\\\",\\\\\"model\\\\\":{\\\\\"text\\\\\":\\\\\"On Tuesday morning, members from both houses assembled for a photo session at the old building, \\\\\",\\\\\"attributes\\\\\":[]}},{\\\\\"type\\\\\":\\\\\"urlLink\\\\\",\\\\\"model\\\\\":{\\\\\"text\\\\\":\\\\\"followed by an event commemorating parliament\\'s legacy\\\\\",\\\\\"locator\\\\\":\\\\\"https://twitter.com/ANI/status/1703697050419052547\\\\\",\\\\\"blocks\\\\\":[{\\\\\"type\\\\\":\\\\\"fragment\\\\\",\\\\\"model\\\\\":{\\\\\"text\\\\\":\\\\\"followed by an event commemorating parliament\\'s legacy\\\\\",\\\\\"attributes\\\\\":[]}}]}},{\\\\\"type\\\\\":\\\\\"fragment\\\\\",\\\\\"model\\\\\":{\\\\\"text\\\\\":\\\\\" in the Central Hall of the British-era building.\\\\\",\\\\\"attributes\\\\\":[]}}]}}]}},{\\\\\"type\\\\\":\\\\\"text\\\\\",\\\\\"model\\\\\":{\\\\\"blocks\\\\\":[{\\\\\"type\\\\\":\\\\\"paragraph\\\\\",\\\\\"model\\\\\":{\\\\\"text\\\\\":\\\\\"They then moved to the new parliament as the office of the lower house of parliament officially designated it as the Parliament House of India. \\\\\",\\\\\"blocks\\\\\":[{\\\\\"type\\\\\":\\\\\"fragment\\\\\",\\\\\"model\\\\\":{\\\\\"text\\\\\":\\\\\"They then moved to the new parliament as \\\\\",\\\\\"attributes\\\\\":[]}},{\\\\\"type\\\\\":\\\\\"urlLink\\\\\",\\\\\"model\\\\\":{\\\\\"text\\\\\":\\\\\"the office of the lower house of parliament officially designated\\\\\",\\\\\"locator\\\\\":\\\\\"https://twitter.com/DDNewslive/status/1704000388905509118\\\\\",\\\\\"blocks\\\\\":[{\\\\\"type\\\\\":\\\\\"fragment\\\\\",\\\\\"model\\\\\":{\\\\\"text\\\\\":\\\\\"the office of the lower house of parliament officially designated\\\\\",\\\\\"attributes\\\\\":[]}}]}},{\\\\\"type\\\\\":\\\\\"fragment\\\\\",\\\\\"model\\\\\":{\\\\\"text\\\\\":\\\\\" it as the Parliament House of India. \\\\\",\\\\\"attributes\\\\\":[]}}]}}]}},{\\\\\"type\\\\\":\\\\\"image\\\\\",\\\\\"model\\\\\":{\\\\\"blocks\\\\\":[{\\\\\"type\\\\\":\\\\\"altText\\\\\",\\\\\"model\\\\\":{\\\\\"blocks\\\\\":[{\\\\\"type\\\\\":\\\\\"text\\\\\",\\\\\"model\\\\\":{\\\\\"blocks\\\\\":[{\\\\\"type\\\\\":\\\\\"fragment\\\\\",\\\\\"model\\\\\":{\\\\\"text\\\\\":\\\\\"Political row\\\\\",\\\\\"attributes\\\\\":[]}}]}}]}},{\\\\\"type\\\\\":\\\\\"rawImage\\\\\",\\\\\"model\\\\\":{\\\\\"height\\\\\":549,\\\\\"width\\\\\":976,\\\\\"locator\\\\\":\\\\\"7B76/production/_129860613_newparliament3.jpg\\\\\",\\\\\"originCode\\\\\":\\\\\"cpsprodpb\\\\\",\\\\\"copyrightHolder\\\\\":\\\\\"Government of India\\\\\"}},{\\\\\"type\\\\\":\\\\\"caption\\\\\",\\\\\"model\\\\\":{\\\\\"blocks\\\\\":[{\\\\\"type\\\\\":\\\\\"text\\\\\",\\\\\"model\\\\\":{\\\\\"blocks\\\\\":[{\\\\\"type\\\\\":\\\\\"fragment\\\\\",\\\\\"model\\\\\":{\\\\\"text\\\\\":\\\\\"The new parliament can seat 1,272 members\\\\\",\\\\\"attributes\\\\\":[]}}]}}]}}]}},{\\\\\"type\\\\\":\\\\\"text\\\\\",\\\\\"model\\\\\":{\\\\\"blocks\\\\\":[{\\\\\"type\\\\\":\\\\\"paragraph\\\\\",\\\\\"model\\\\\":{\\\\\"text\\\\\":\\\\\"The proceedings are being held amid criticism from opposition leaders who claim that the government has not disclosed all the business that could come up during the week.\\\\\",\\\\\"blocks\\\\\":[{\\\\\"type\\\\\":\\\\\"fragment\\\\\",\\\\\"model\\\\\":{\\\\\"text\\\\\":\\\\\"The proceedings are being held amid criticism from opposition leaders who claim that the government has not disclosed all the business that could come up during the week.\\\\\",\\\\\"attributes\\\\\":[]}}]}}]}},{\\\\\"type\\\\\":\\\\\"text\\\\\",\\\\\"model\\\\\":{\\\\\"blocks\\\\\":[{\\\\\"type\\\\\":\\\\\"paragraph\\\\\",\\\\\"model\\\\\":{\\\\\"text\\\\\":\\\\\"According to the government, eight bills have been listed for discussion during the session - but this agenda could be changed or expanded during the course of the week.\\\\\",\\\\\"blocks\\\\\":[{\\\\\"type\\\\\":\\\\\"fragment\\\\\",\\\\\"model\\\\\":{\\\\\"text\\\\\":\\\\\"According to the government, eight bills have been listed for discussion during the session - but this agenda could be changed or expanded during the course of the week.\\\\\",\\\\\"attributes\\\\\":[]}}]}}]}},{\\\\\"type\\\\\":\\\\\"text\\\\\",\\\\\"model\\\\\":{\\\\\"blocks\\\\\":[{\\\\\"type\\\\\":\\\\\"paragraph\\\\\",\\\\\"model\\\\\":{\\\\\"text\\\\\":\\\\\"The new parliament building is part of the government\\'s ambitious Central Vista project in Delhi to replace colonial-era government buildings.\\\\\",\\\\\"blocks\\\\\":[{\\\\\"type\\\\\":\\\\\"fragment\\\\\",\\\\\"model\\\\\":{\\\\\"text\\\\\":\\\\\"The new parliament building is part of the government\\'s ambitious Central Vista project in Delhi to replace colonial-era government buildings.\\\\\",\\\\\"attributes\\\\\":[]}}]}}]}},{\\\\\"type\\\\\":\\\\\"text\\\\\",\\\\\"model\\\\\":{\\\\\"blocks\\\\\":[{\\\\\"type\\\\\":\\\\\"paragraph\\\\\",\\\\\"model\\\\\":{\\\\\"text\\\\\":\\\\\"Built in front of the old parliament, the new four-storey building - constructed at an estimated cost of 9.7bn rupees ($117m; Â£94m) - is much bigger and has the capacity to seat 1,272 MPs.\\\\\",\\\\\"blocks\\\\\":[{\\\\\"type\\\\\":\\\\\"fragment\\\\\",\\\\\"model\\\\\":{\\\\\"text\\\\\":\\\\\"Built in front of the old parliament, the new four-storey building - constructed at an estimated cost of 9.7bn rupees ($117m; Â£94m) - is much bigger and has the capacity to seat 1,272 MPs.\\\\\",\\\\\"attributes\\\\\":[]}}]}}]}},{\\\\\"type\\\\\":\\\\\"text\\\\\",\\\\\"model\\\\\":{\\\\\"blocks\\\\\":[{\\\\\"type\\\\\":\\\\\"paragraph\\\\\",\\\\\"model\\\\\":{\\\\\"text\\\\\":\\\\\"The Lok Sabha chamber, which will seat the lower house of the parliament, is designed in the likeness of a peacock, India\\'s national bird. The Rajya Sabha chamber, which will seat the upper house, is designed to resemble the lotus - India\\'s national flower and also Mr Modi\\'s Bharatiya Janata Party\\'s election symbol.\\\\\",\\\\\"blocks\\\\\":[{\\\\\"type\\\\\":\\\\\"fragment\\\\\",\\\\\"model\\\\\":{\\\\\"text\\\\\":\\\\\"The Lok Sabha chamber, which will seat the lower house of the parliament, is designed in the likeness of a peacock, India\\'s national bird. The Rajya Sabha chamber, which will seat the upper house, is designed to resemble the lotus - India\\'s national flower and also Mr Modi\\'s Bharatiya Janata Party\\'s election symbol.\\\\\",\\\\\"attributes\\\\\":[]}}]}}]}},{\\\\\"type\\\\\":\\\\\"text\\\\\",\\\\\"model\\\\\":{\\\\\"blocks\\\\\":[{\\\\\"type\\\\\":\\\\\"paragraph\\\\\",\\\\\"model\\\\\":{\\\\\"text\\\\\":\\\\\"The current parliament building will be converted into a museum.\\\\\",\\\\\"blocks\\\\\":[{\\\\\"type\\\\\":\\\\\"fragment\\\\\",\\\\\"model\\\\\":{\\\\\"text\\\\\":\\\\\"The current parliament building will be converted into a museum.\\\\\",\\\\\"attributes\\\\\":[]}}]}}]}},{\\\\\"type\\\\\":\\\\\"text\\\\\",\\\\\"model\\\\\":{\\\\\"blocks\\\\\":[{\\\\\"type\\\\\":\\\\\"paragraph\\\\\",\\\\\"model\\\\\":{\\\\\"text\\\\\":\\\\\"BBC News India is now on YouTube. Click here to subscribe and watch our documentaries, explainers and features.\\\\\",\\\\\"blocks\\\\\":[{\\\\\"type\\\\\":\\\\\"fragment\\\\\",\\\\\"model\\\\\":{\\\\\"text\\\\\":\\\\\"BBC News India is now on YouTube. \\\\\",\\\\\"attributes\\\\\":[\\\\\"italic\\\\\"]}},{\\\\\"type\\\\\":\\\\\"urlLink\\\\\",\\\\\"model\\\\\":{\\\\\"text\\\\\":\\\\\"Click here\\\\\",\\\\\"locator\\\\\":\\\\\"https://www.youtube.com/@bbcnewsindia\\\\\",\\\\\"blocks\\\\\":[{\\\\\"type\\\\\":\\\\\"fragment\\\\\",\\\\\"model\\\\\":{\\\\\"text\\\\\":\\\\\"Click here\\\\\",\\\\\"attributes\\\\\":[]}}]}},{\\\\\"type\\\\\":\\\\\"fragment\\\\\",\\\\\"model\\\\\":{\\\\\"text\\\\\":\\\\\" to subscribe and watch our documentaries, explainers and features.\\\\\",\\\\\"attributes\\\\\":[\\\\\"italic\\\\\"]}}]}}]}},{\\\\\"type\\\\\":\\\\\"image\\\\\",\\\\\"model\\\\\":{\\\\\"blocks\\\\\":[{\\\\\"type\\\\\":\\\\\"altText\\\\\",\\\\\"model\\\\\":{\\\\\"blocks\\\\\":[{\\\\\"type\\\\\":\\\\\"text\\\\\",\\\\\"model\\\\\":{\\\\\"blocks\\\\\":[{\\\\\"type\\\\\":\\\\\"fragment\\\\\",\\\\\"model\\\\\":{\\\\\"text\\\\\":\\\\\"Presentational grey line\\\\\",\\\\\"attributes\\\\\":[]}}]}}]}},{\\\\\"type\\\\\":\\\\\"rawImage\\\\\",\\\\\"model\\\\\":{\\\\\"height\\\\\":2,\\\\\"width\\\\\":640,\\\\\"locator\\\\\":\\\\\"13E83/production/_103693518_086b2036-0a30-4a6f-a4a0-94c46832b58f.jpg\\\\\",\\\\\"originCode\\\\\":\\\\\"cpsprodpb\\\\\",\\\\\"copyrightHolder\\\\\":\\\\\"BBC\\\\\"}}]}},{\\\\\"type\\\\\":\\\\\"subheadline\\\\\",\\\\\"model\\\\\":{\\\\\"blocks\\\\\":[{\\\\\"type\\\\\":\\\\\"text\\\\\",\\\\\"model\\\\\":{\\\\\"blocks\\\\\":[{\\\\\"type\\\\\":\\\\\"paragraph\\\\\",\\\\\"model\\\\\":{\\\\\"text\\\\\":\\\\\"Read more India stories from the BBC:\\\\\",\\\\\"blocks\\\\\":[{\\\\\"type\\\\\":\\\\\"fragment\\\\\",\\\\\"model\\\\\":{\\\\\"text\\\\\":\\\\\"Read more India stories from the BBC:\\\\\",\\\\\"attributes\\\\\":[]}}]}}]}}]}},{\\\\\"type\\\\\":\\\\\"unorderedList\\\\\",\\\\\"model\\\\\":{\\\\\"blocks\\\\\":[{\\\\\"type\\\\\":\\\\\"listItem\\\\\",\\\\\"model\\\\\":{\\\\\"blocks\\\\\":[{\\\\\"type\\\\\":\\\\\"urlLink\\\\\",\\\\\"model\\\\\":{\\\\\"text\\\\\":\\\\\"How important are India\\'s Moon mission findings?\\\\\",\\\\\"locator\\\\\":\\\\\"https://www.bbc.co.uk/news/world-asia-india-66808808\\\\\",\\\\\"blocks\\\\\":[{\\\\\"type\\\\\":\\\\\"fragment\\\\\",\\\\\"model\\\\\":{\\\\\"text\\\\\":\\\\\"How important are India\\'s Moon mission findings?\\\\\",\\\\\"attributes\\\\\":[]}}]}}]}},{\\\\\"type\\\\\":\\\\\"listItem\\\\\",\\\\\"model\\\\\":{\\\\\"blocks\\\\\":[{\\\\\"type\\\\\":\\\\\"urlLink\\\\\",\\\\\"model\\\\\":{\\\\\"text\\\\\":\\\\\"Canada accuses India of role in Sikh leader\\'s murder\\\\\",\\\\\"locator\\\\\":\\\\\"https://www.bbc.co.uk/news/uk-66848041\\\\\",\\\\\"blocks\\\\\":[{\\\\\"type\\\\\":\\\\\"fragment\\\\\",\\\\\"model\\\\\":{\\\\\"text\\\\\":\\\\\"Canada accuses India of role in Sikh leader\\'s murder\\\\\",\\\\\"attributes\\\\\":[]}}]}}]}},{\\\\\"type\\\\\":\\\\\"listItem\\\\\",\\\\\"model\\\\\":{\\\\\"blocks\\\\\":[{\\\\\"type\\\\\":\\\\\"urlLink\\\\\",\\\\\"model\\\\\":{\\\\\"text\\\\\":\\\\\"Anger in India as Trudeau points finger over murder\\\\\",\\\\\"locator\\\\\":\\\\\"https://www.bbc.co.uk/news/world-asia-india-66851075\\\\\",\\\\\"blocks\\\\\":[{\\\\\"type\\\\\":\\\\\"fragment\\\\\",\\\\\"model\\\\\":{\\\\\"text\\\\\":\\\\\"Anger in India as Trudeau points finger over murder\\\\\",\\\\\"attributes\\\\\":[]}}]}}]}},{\\\\\"type\\\\\":\\\\\"listItem\\\\\",\\\\\"model\\\\\":{\\\\\"blocks\\\\\":[{\\\\\"type\\\\\":\\\\\"urlLink\\\\\",\\\\\"model\\\\\":{\\\\\"text\\\\\":\\\\\"India bowl out Sri Lanka for 50 and win Asia Cup\\\\\",\\\\\"locator\\\\\":\\\\\"https://www.bbc.com/sport/cricket/66837123\\\\\",\\\\\"blocks\\\\\":[{\\\\\"type\\\\\":\\\\\"fragment\\\\\",\\\\\"model\\\\\":{\\\\\"text\\\\\":\\\\\"India bowl out Sri Lanka for 50 and win Asia Cup\\\\\",\\\\\"attributes\\\\\":[]}}]}}]}},{\\\\\"type\\\\\":\\\\\"listItem\\\\\",\\\\\"model\\\\\":{\\\\\"blocks\\\\\":[{\\\\\"type\\\\\":\\\\\"urlLink\\\\\",\\\\\"model\\\\\":{\\\\\"text\\\\\":\\\\\"India calls X a \\'habitual non-compliant platform\\'\\\\\",\\\\\"locator\\\\\":\\\\\"https://www.bbc.co.uk/news/world-asia-india-66805347\\\\\",\\\\\"blocks\\\\\":[{\\\\\"type\\\\\":\\\\\"fragment\\\\\",\\\\\"model\\\\\":{\\\\\"text\\\\\":\\\\\"India calls X a \\'habitual non-compliant platform\\'\\\\\",\\\\\"attributes\\\\\":[]}}]}}]}}]}},{\\\\\"type\\\\\":\\\\\"image\\\\\",\\\\\"model\\\\\":{\\\\\"blocks\\\\\":[{\\\\\"type\\\\\":\\\\\"altText\\\\\",\\\\\"model\\\\\":{\\\\\"blocks\\\\\":[{\\\\\"type\\\\\":\\\\\"text\\\\\",\\\\\"model\\\\\":{\\\\\"blocks\\\\\":[{\\\\\"type\\\\\":\\\\\"fragment\\\\\",\\\\\"model\\\\\":{\\\\\"text\\\\\":\\\\\"Presentational grey line\\\\\",\\\\\"attributes\\\\\":[]}}]}}]}},{\\\\\"type\\\\\":\\\\\"rawImage\\\\\",\\\\\"model\\\\\":{\\\\\"height\\\\\":2,\\\\\"width\\\\\":640,\\\\\"locator\\\\\":\\\\\"13E83/production/_103693518_086b2036-0a30-4a6f-a4a0-94c46832b58f.jpg\\\\\",\\\\\"originCode\\\\\":\\\\\"cpsprodpb\\\\\",\\\\\"copyrightHolder\\\\\":\\\\\"BBC\\\\\"}}]}},{\\\\\"model\\\\\":{\\\\\"intentType\\\\\":\\\\\"abridgement\\\\\",\\\\\"relationshipType\\\\\":\\\\\"optional\\\\\",\\\\\"blocks\\\\\":[{\\\\\"type\\\\\":\\\\\"text\\\\\",\\\\\"model\\\\\":{\\\\\"blocks\\\\\":[{\\\\\"type\\\\\":\\\\\"paragraph\\\\\",\\\\\"model\\\\\":{\\\\\"text\\\\\":\\\\\"The Indian government has introduced a bill guaranteeing a third of seats for women in the lower house of parliament and state assemblies.\\\\\",\\\\\"blocks\\\\\":[{\\\\\"type\\\\\":\\\\\"fragment\\\\\",\\\\\"model\\\\\":{\\\\\"text\\\\\":\\\\\"The Indian government has introduced a bill guaranteeing a third of seats for women in the lower house of parliament and state assemblies.\\\\\",\\\\\"attributes\\\\\":[]}}]}},{\\\\\"type\\\\\":\\\\\"paragraph\\\\\",\\\\\"model\\\\\":{\\\\\"text\\\\\":\\\\\"The contentious bill, first proposed in 1996, has been pending for decades amid opposition from some political parties.\\\\\",\\\\\"blocks\\\\\":[{\\\\\"type\\\\\":\\\\\"fragment\\\\\",\\\\\"model\\\\\":{\\\\\"text\\\\\":\\\\\"The contentious bill, first proposed in 1996, has been pending for decades amid opposition from some political parties.\\\\\",\\\\\"attributes\\\\\":[]}}]}},{\\\\\"type\\\\\":\\\\\"paragraph\\\\\",\\\\\"model\\\\\":{\\\\\"text\\\\\":\\\\\"Its revival is expected to boost the governing Bharatiya Janata Party\\'s fortunes in general elections next May.\\\\\",\\\\\"blocks\\\\\":[{\\\\\"type\\\\\":\\\\\"fragment\\\\\",\\\\\"model\\\\\":{\\\\\"text\\\\\":\\\\\"Its revival is expected to boost the governing Bharatiya Janata Party\\'s fortunes in general elections next May.\\\\\",\\\\\"attributes\\\\\":[]}}]}},{\\\\\"type\\\\\":\\\\\"paragraph\\\\\",\\\\\"model\\\\\":{\\\\\"text\\\\\":\\\\\"The bill was tabled at the new Indian parliament\\'s first session and is still some way from becoming law.\\\\\",\\\\\"blocks\\\\\":[{\\\\\"type\\\\\":\\\\\"fragment\\\\\",\\\\\"model\\\\\":{\\\\\"text\\\\\":\\\\\"The bill was tabled at the new Indian parliament\\'s first session and is still some way from becoming law.\\\\\",\\\\\"attributes\\\\\":[]}}]}}]}}]},\\\\\"type\\\\\":\\\\\"group\\\\\"},{\\\\\"type\\\\\":\\\\\"links\\\\\",\\\\\"model\\\\\":{\\\\\"blocks\\\\\":[{\\\\\"type\\\\\":\\\\\"link\\\\\",\\\\\"model\\\\\":{\\\\\"blocks\\\\\":[{\\\\\"type\\\\\":\\\\\"text\\\\\",\\\\\"model\\\\\":{\\\\\"blocks\\\\\":[{\\\\\"type\\\\\":\\\\\"paragraph\\\\\",\\\\\"model\\\\\":{\\\\\"text\\\\\":\\\\\"Modi opens new India parliament amid boycott\\\\\",\\\\\"blocks\\\\\":[{\\\\\"type\\\\\":\\\\\"urlLink\\\\\",\\\\\"model\\\\\":{\\\\\"text\\\\\":\\\\\"Modi opens new India parliament amid boycott\\\\\",\\\\\"locator\\\\\":\\\\\"/news/world-asia-india-65718127\\\\\",\\\\\"blocks\\\\\":[{\\\\\"type\\\\\":\\\\\"fragment\\\\\",\\\\\"model\\\\\":{\\\\\"text\\\\\":\\\\\"Modi opens new India parliament amid boycott\\\\\",\\\\\"attributes\\\\\":[]}}]}}]}}]}},{\\\\\"type\\\\\":\\\\\"image\\\\\",\\\\\"model\\\\\":{\\\\\"blocks\\\\\":[{\\\\\"type\\\\\":\\\\\"altText\\\\\",\\\\\"model\\\\\":{\\\\\"blocks\\\\\":[{\\\\\"type\\\\\":\\\\\"text\\\\\",\\\\\"model\\\\\":{\\\\\"blocks\\\\\":[{\\\\\"type\\\\\":\\\\\"fragment\\\\\",\\\\\"model\\\\\":{\\\\\"text\\\\\":\\\\\"Political row\\\\\",\\\\\"attributes\\\\\":[]}}]}}]}},{\\\\\"type\\\\\":\\\\\"rawImage\\\\\",\\\\\"model\\\\\":{\\\\\"height\\\\\":549,\\\\\"width\\\\\":976,\\\\\"locator\\\\\":\\\\\"7B76/production/_129860613_newparliament3.jpg\\\\\",\\\\\"originCode\\\\\":\\\\\"cpsprodpb\\\\\",\\\\\"copyrightHolder\\\\\":\\\\\"Government of India\\\\\"}},{\\\\\"type\\\\\":\\\\\"caption\\\\\",\\\\\"model\\\\\":{\\\\\"blocks\\\\\":[{\\\\\"type\\\\\":\\\\\"text\\\\\",\\\\\"model\\\\\":{\\\\\"blocks\\\\\":[{\\\\\"type\\\\\":\\\\\"fragment\\\\\",\\\\\"model\\\\\":{\\\\\"text\\\\\":\\\\\"The details of the inauguration ceremony sparked a political row\\\\\",\\\\\"attributes\\\\\":[]}}]}}]}}]}}],\\\\\"timestamp\\\\\":1685264735000}},{\\\\\"type\\\\\":\\\\\"link\\\\\",\\\\\"model\\\\\":{\\\\\"blocks\\\\\":[{\\\\\"type\\\\\":\\\\\"text\\\\\",\\\\\"model\\\\\":{\\\\\"blocks\\\\\":[{\\\\\"type\\\\\":\\\\\"paragraph\\\\\",\\\\\"model\\\\\":{\\\\\"text\\\\\":\\\\\"Tributes to India\\'s parliament at special session\\\\\",\\\\\"blocks\\\\\":[{\\\\\"type\\\\\":\\\\\"urlLink\\\\\",\\\\\"model\\\\\":{\\\\\"text\\\\\":\\\\\"Tributes to India\\'s parliament at special session\\\\\",\\\\\"locator\\\\\":\\\\\"/news/world-asia-india-66805344\\\\\",\\\\\"blocks\\\\\":[{\\\\\"type\\\\\":\\\\\"fragment\\\\\",\\\\\"model\\\\\":{\\\\\"text\\\\\":\\\\\"Tributes to India\\'s parliament at special session\\\\\",\\\\\"attributes\\\\\":[]}}]}}]}}]}},{\\\\\"type\\\\\":\\\\\"image\\\\\",\\\\\"model\\\\\":{\\\\\"blocks\\\\\":[{\\\\\"type\\\\\":\\\\\"altText\\\\\",\\\\\"model\\\\\":{\\\\\"blocks\\\\\":[{\\\\\"type\\\\\":\\\\\"text\\\\\",\\\\\"model\\\\\":{\\\\\"blocks\\\\\":[{\\\\\"type\\\\\":\\\\\"fragment\\\\\",\\\\\"model\\\\\":{\\\\\"text\\\\\":\\\\\"India\\'s Prime Minister Narendra Modi addresses the media representatives upon his arrival to attend the special session of the parliament in New Delhi on September 18, 2023.\\\\\",\\\\\"attributes\\\\\":[]}}]}}]}},{\\\\\"type\\\\\":\\\\\"rawImage\\\\\",\\\\\"model\\\\\":{\\\\\"height\\\\\":549,\\\\\"width\\\\\":976,\\\\\"locator\\\\\":\\\\\"BC7B/production/_131115284_gettyimages-1673562423.jpg\\\\\",\\\\\"originCode\\\\\":\\\\\"cpsprodpb\\\\\",\\\\\"copyrightHolder\\\\\":\\\\\"Getty Images\\\\\"}}]}}],\\\\\"timestamp\\\\\":1695034626000}}]}}]},\\\\\"product-navigation\\\\\":{\\\\\"assetUri\\\\\":\\\\\"/news/world-asia-india-66851211\\\\\"},\\\\\"bbcAccount\\\\\":{\\\\\"signInPrompt\\\\\":{\\\\\"show\\\\\":false,\\\\\"userOrigin\\\\\":null,\\\\\"ptrt\\\\\":null},\\\\\"pageType\\\\\":\\\\\"content\\\\\"}},\\\\\"route\\\\\":\\\\\"/news/:id\\\\\"}\";</script><script nonce=\"w/Bw40ulE7hZ4FcZ/nODBP/1IYajRkCMPmC4XpYcUMVwml+LJC\">window.__REQUEST_CONTEXT__=\"{\\\\\"obm\\\\\":\\\\\"off\\\\\",\\\\\"election-banner-ni-story\\\\\":\\\\\"off\\\\\",\\\\\"election-banner-council-story\\\\\":\\\\\"off\\\\\",\\\\\"language\\\\\":\\\\\"en-GB\\\\\",\\\\\"is_uk\\\\\":false,\\\\\"host\\\\\":\\\\\"www.bbc.com\\\\\",\\\\\"ctx-route-spec\\\\\":\\\\\"NewsArticlePage.Webcore\\\\\",\\\\\"country\\\\\":\\\\\"us\\\\\",\\\\\"accept-encoding\\\\\":\\\\\"gzip\\\\\",\\\\\"nonce\\\\\":\\\\\"w/Bw40ulE7hZ4FcZ/nODBP/1IYajRkCMPmC4XpYcUMVwml+LJC\\\\\",\\\\\"env\\\\\":\\\\\"live\\\\\",\\\\\"isAppRoute\\\\\":false}\";</script><script nonce=\"w/Bw40ulE7hZ4FcZ/nODBP/1IYajRkCMPmC4XpYcUMVwml+LJC\">window.__ENVIRONMENT_VARIABLES__=\"{\\\\\"disableChartbeat\\\\\":false,\\\\\"reportingEndpoint\\\\\":\\\\\"https://webcore.bbc-reporting-api.app/report-endpoint\\\\\",\\\\\"webVitalsSampleRate\\\\\":20}\";</script><script nonce=\"w/Bw40ulE7hZ4FcZ/nODBP/1IYajRkCMPmC4XpYcUMVwml+LJC\" crossorigin=\"anonymous\" type=\"application/json\" id=\"modern__LOADABLE_REQUIRED_CHUNKS__\">[4414,8382,8686,722,2243,1282,6326,5374,9774,8827,3934,4811,5323,5903,7271,4868,772,2064,824,698,2726,6952,2591,208,6685,3667,779,5942,3784,6424,4742,7679,4237,5663]</script><script nonce=\"w/Bw40ulE7hZ4FcZ/nODBP/1IYajRkCMPmC4XpYcUMVwml+LJC\" crossorigin=\"anonymous\" type=\"application/json\" id=\"modern__LOADABLE_REQUIRED_CHUNKS___ext\">{\"namedChunks\":[\"website-containers-chameleon-global-navigation-index\",\"design-system-svgs-account-index\",\"design-system-svgs-actions-index\",\"website-containers-product-navigation-index\",\"design-system-svgs-logo-index\",\"website-containers-dotcom-ad-index\",\"website-containers-article-index\",\"design-system-svgs-time-and-date-index\",\"website-containers-onward-journeys-index\",\"website-containers-onward-journeys-experimental-index\",\"website-containers-service-bar-index\",\"design-system-svgs-devices-and-inputs-index\",\"design-system-svgs-content-types-index\",\"design-system-svgs-participate-index\",\"website-containers-global-footer-index\",\"website-addons-document-metadata-index\",\"website-addons-comscore-mmx-index\",\"website-addons-dotcom-index\"]}</script><script nonce=\"w/Bw40ulE7hZ4FcZ/nODBP/1IYajRkCMPmC4XpYcUMVwml+LJC\" crossorigin=\"anonymous\" type=\"module\" async=\"\" data-chunk=\"pwa\" src=\"https://static.files.bbci.co.uk/core/bundle-defaultVendors.5da7201169aae67db275.js\"></script><script nonce=\"w/Bw40ulE7hZ4FcZ/nODBP/1IYajRkCMPmC4XpYcUMVwml+LJC\" crossorigin=\"anonymous\" type=\"module\" async=\"\" data-chunk=\"pwa\" src=\"https://static.files.bbci.co.uk/core/bundle-gel.d8ba77adc5b13cb50fbe.js\"></script><script nonce=\"w/Bw40ulE7hZ4FcZ/nODBP/1IYajRkCMPmC4XpYcUMVwml+LJC\" crossorigin=\"anonymous\" type=\"module\" async=\"\" data-chunk=\"pwa\" src=\"https://static.files.bbci.co.uk/core/bundle-base-website.d7336f37dec36fb5c8e9.js\"></script><script nonce=\"w/Bw40ulE7hZ4FcZ/nODBP/1IYajRkCMPmC4XpYcUMVwml+LJC\" crossorigin=\"anonymous\" type=\"module\" async=\"\" data-chunk=\"pwa\" src=\"https://static.files.bbci.co.uk/core/bundle-website.a120340df3d30d7bc41b.js\"></script><script nonce=\"w/Bw40ulE7hZ4FcZ/nODBP/1IYajRkCMPmC4XpYcUMVwml+LJC\" crossorigin=\"anonymous\" type=\"module\" async=\"\" data-chunk=\"pwa\" src=\"https://static.files.bbci.co.uk/core/bundle-framework.1eb14ad355d0addc5a11.js\"></script><script nonce=\"w/Bw40ulE7hZ4FcZ/nODBP/1IYajRkCMPmC4XpYcUMVwml+LJC\" crossorigin=\"anonymous\" type=\"module\" async=\"\" data-chunk=\"pwa\" src=\"https://static.files.bbci.co.uk/core/bundle-pwa.f0d49ea74d1b6fcb1bac.js\"></script><script nonce=\"w/Bw40ulE7hZ4FcZ/nODBP/1IYajRkCMPmC4XpYcUMVwml+LJC\" crossorigin=\"anonymous\" type=\"module\" async=\"\" data-chunk=\"website-containers-chameleon-global-navigation-index\" src=\"https://static.files.bbci.co.uk/core/bundle-vendor-optimizely.0494460ee8efacb199a7.js\"></script><script nonce=\"w/Bw40ulE7hZ4FcZ/nODBP/1IYajRkCMPmC4XpYcUMVwml+LJC\" crossorigin=\"anonymous\" type=\"module\" async=\"\" data-chunk=\"website-containers-chameleon-global-navigation-index\" src=\"https://static.files.bbci.co.uk/core/bundle-component-call-to-action-link.62f174b7b8dbed0cf706.js\"></script><script nonce=\"w/Bw40ulE7hZ4FcZ/nODBP/1IYajRkCMPmC4XpYcUMVwml+LJC\" crossorigin=\"anonymous\" type=\"module\" async=\"\" data-chunk=\"website-containers-chameleon-global-navigation-index\" src=\"https://static.files.bbci.co.uk/core/bundle-component-chameleon-global-navigation.681882394e898ee368a1.js\"></script><script nonce=\"w/Bw40ulE7hZ4FcZ/nODBP/1IYajRkCMPmC4XpYcUMVwml+LJC\" crossorigin=\"anonymous\" type=\"module\" async=\"\" data-chunk=\"website-containers-chameleon-global-navigation-index\" src=\"https://static.files.bbci.co.uk/core/bundle-chameleon-global-navigation.e8670d189db494a1f7e0.js\"></script><script nonce=\"w/Bw40ulE7hZ4FcZ/nODBP/1IYajRkCMPmC4XpYcUMVwml+LJC\" crossorigin=\"anonymous\" type=\"module\" async=\"\" data-chunk=\"website-containers-product-navigation-index\" src=\"https://static.files.bbci.co.uk/core/bundle-component-product-navigation.dbaa7ea9ed7100e55149.js\"></script><script nonce=\"w/Bw40ulE7hZ4FcZ/nODBP/1IYajRkCMPmC4XpYcUMVwml+LJC\" crossorigin=\"anonymous\" type=\"module\" async=\"\" data-chunk=\"website-containers-product-navigation-index\" src=\"https://static.files.bbci.co.uk/core/bundle-component-masthead.f326d878862d796e9ce3.js\"></script><script nonce=\"w/Bw40ulE7hZ4FcZ/nODBP/1IYajRkCMPmC4XpYcUMVwml+LJC\" crossorigin=\"anonymous\" type=\"module\" async=\"\" data-chunk=\"website-containers-product-navigation-index\" src=\"https://static.files.bbci.co.uk/core/bundle-product-navigation.428e4d4de02d4fa390b9.js\"></script><script nonce=\"w/Bw40ulE7hZ4FcZ/nODBP/1IYajRkCMPmC4XpYcUMVwml+LJC\" crossorigin=\"anonymous\" type=\"module\" async=\"\" data-chunk=\"website-containers-dotcom-ad-index\" src=\"https://static.files.bbci.co.uk/core/bundle-dotcom-ad.f4fe7876a6c67dc3abe6.js\"></script><script nonce=\"w/Bw40ulE7hZ4FcZ/nODBP/1IYajRkCMPmC4XpYcUMVwml+LJC\" crossorigin=\"anonymous\" type=\"module\" async=\"\" data-chunk=\"website-containers-article-index\" src=\"https://static.files.bbci.co.uk/core/bundle-component-metadata-snippet.e6742cf0ec82fb8e9870.js\"></script><script nonce=\"w/Bw40ulE7hZ4FcZ/nODBP/1IYajRkCMPmC4XpYcUMVwml+LJC\" crossorigin=\"anonymous\" type=\"module\" async=\"\" data-chunk=\"website-containers-article-index\" src=\"https://static.files.bbci.co.uk/core/bundle-component-metadata-strip.be79c6143793c1cde44f.js\"></script><script nonce=\"w/Bw40ulE7hZ4FcZ/nODBP/1IYajRkCMPmC4XpYcUMVwml+LJC\" crossorigin=\"anonymous\" type=\"module\" async=\"\" data-chunk=\"website-containers-article-index\" src=\"https://static.files.bbci.co.uk/core/bundle-component-page-type-indicator.644b59ddbf812435b77b.js\"></script><script nonce=\"w/Bw40ulE7hZ4FcZ/nODBP/1IYajRkCMPmC4XpYcUMVwml+LJC\" crossorigin=\"anonymous\" type=\"module\" async=\"\" data-chunk=\"website-containers-article-index\" src=\"https://static.files.bbci.co.uk/core/bundle-component-promo.e34a422a34606a2d911c.js\"></script><script nonce=\"w/Bw40ulE7hZ4FcZ/nODBP/1IYajRkCMPmC4XpYcUMVwml+LJC\" crossorigin=\"anonymous\" type=\"module\" async=\"\" data-chunk=\"website-containers-article-index\" src=\"https://static.files.bbci.co.uk/core/bundle-component-additional-links.27d3452fa86e7599a0d6.js\"></script><script nonce=\"w/Bw40ulE7hZ4FcZ/nODBP/1IYajRkCMPmC4XpYcUMVwml+LJC\" crossorigin=\"anonymous\" type=\"module\" async=\"\" data-chunk=\"website-containers-article-index\" src=\"https://static.files.bbci.co.uk/core/bundle-component-rich-text.000671d773461e0788e8.js\"></script><script nonce=\"w/Bw40ulE7hZ4FcZ/nODBP/1IYajRkCMPmC4XpYcUMVwml+LJC\" crossorigin=\"anonymous\" type=\"module\" async=\"\" data-chunk=\"website-containers-article-index\" src=\"https://static.files.bbci.co.uk/core/bundle-component-information-panel.3afa2962c39dcf5dceef.js\"></script><script nonce=\"w/Bw40ulE7hZ4FcZ/nODBP/1IYajRkCMPmC4XpYcUMVwml+LJC\" crossorigin=\"anonymous\" type=\"module\" async=\"\" data-chunk=\"website-containers-article-index\" src=\"https://static.files.bbci.co.uk/core/bundle-component-media-player.00808ece7b896c86b319.js\"></script><script nonce=\"w/Bw40ulE7hZ4FcZ/nODBP/1IYajRkCMPmC4XpYcUMVwml+LJC\" crossorigin=\"anonymous\" type=\"module\" async=\"\" data-chunk=\"website-containers-article-index\" src=\"https://static.files.bbci.co.uk/core/bundle-component-forms.d65f52ed10fdb96f8d63.js\"></script><script nonce=\"w/Bw40ulE7hZ4FcZ/nODBP/1IYajRkCMPmC4XpYcUMVwml+LJC\" crossorigin=\"anonymous\" type=\"module\" async=\"\" data-chunk=\"website-containers-article-index\" src=\"https://static.files.bbci.co.uk/core/bundle-component-blocks-renderer.a1aef50d39e2f9c0b89e.js\"></script><script nonce=\"w/Bw40ulE7hZ4FcZ/nODBP/1IYajRkCMPmC4XpYcUMVwml+LJC\" crossorigin=\"anonymous\" type=\"module\" async=\"\" data-chunk=\"website-containers-article-index\" src=\"https://static.files.bbci.co.uk/core/bundle-component-accordion.a0f2b21a073bf462a5c1.js\"></script><script nonce=\"w/Bw40ulE7hZ4FcZ/nODBP/1IYajRkCMPmC4XpYcUMVwml+LJC\" crossorigin=\"anonymous\" type=\"module\" async=\"\" data-chunk=\"website-containers-article-index\" src=\"https://static.files.bbci.co.uk/core/bundle-component-uploader-form.aa91be411f509a6ac4cf.js\"></script><script nonce=\"w/Bw40ulE7hZ4FcZ/nODBP/1IYajRkCMPmC4XpYcUMVwml+LJC\" crossorigin=\"anonymous\" type=\"module\" async=\"\" data-chunk=\"website-containers-article-index\" src=\"https://static.files.bbci.co.uk/core/bundle-component-storyboard.b4543a5429f76745773b.js\"></script><script nonce=\"w/Bw40ulE7hZ4FcZ/nODBP/1IYajRkCMPmC4XpYcUMVwml+LJC\" crossorigin=\"anonymous\" type=\"module\" async=\"\" data-chunk=\"website-containers-article-index\" src=\"https://static.files.bbci.co.uk/core/bundle-component-comments.ff67fed2232878e53c61.js\"></script><script nonce=\"w/Bw40ulE7hZ4FcZ/nODBP/1IYajRkCMPmC4XpYcUMVwml+LJC\" crossorigin=\"anonymous\" type=\"module\" async=\"\" data-chunk=\"website-containers-article-index\" src=\"https://static.files.bbci.co.uk/core/bundle-article.f847779f3818786f314f.js\"></script><script nonce=\"w/Bw40ulE7hZ4FcZ/nODBP/1IYajRkCMPmC4XpYcUMVwml+LJC\" crossorigin=\"anonymous\" type=\"module\" async=\"\" data-chunk=\"website-containers-onward-journeys-index\" src=\"https://static.files.bbci.co.uk/core/bundle-component-promo-with-ranking.3a40f098b5b9d7f60a6c.js\"></script><script nonce=\"w/Bw40ulE7hZ4FcZ/nODBP/1IYajRkCMPmC4XpYcUMVwml+LJC\" crossorigin=\"anonymous\" type=\"module\" async=\"\" data-chunk=\"website-containers-onward-journeys-index\" src=\"https://static.files.bbci.co.uk/core/bundle-onward-journeys.a616a52985d060c8cda3.js\"></script><script nonce=\"w/Bw40ulE7hZ4FcZ/nODBP/1IYajRkCMPmC4XpYcUMVwml+LJC\" crossorigin=\"anonymous\" type=\"module\" async=\"\" data-chunk=\"website-containers-onward-journeys-experimental-index\" src=\"https://static.files.bbci.co.uk/core/bundle-component-message-banner.7a7d1800da883f32546f.js\"></script><script nonce=\"w/Bw40ulE7hZ4FcZ/nODBP/1IYajRkCMPmC4XpYcUMVwml+LJC\" crossorigin=\"anonymous\" type=\"module\" async=\"\" data-chunk=\"website-containers-onward-journeys-experimental-index\" src=\"https://static.files.bbci.co.uk/core/bundle-onward-journeys-experimental.542525411a870c1a5ebf.js\"></script><script nonce=\"w/Bw40ulE7hZ4FcZ/nODBP/1IYajRkCMPmC4XpYcUMVwml+LJC\" crossorigin=\"anonymous\" type=\"module\" async=\"\" data-chunk=\"website-containers-service-bar-index\" src=\"https://static.files.bbci.co.uk/core/bundle-service-bar.a3b11da9213e5e883874.js\"></script><script nonce=\"w/Bw40ulE7hZ4FcZ/nODBP/1IYajRkCMPmC4XpYcUMVwml+LJC\" crossorigin=\"anonymous\" type=\"module\" async=\"\" data-chunk=\"website-containers-global-footer-index\" src=\"https://static.files.bbci.co.uk/core/bundle-global-footer.ca8676279b6b1f6759d7.js\"></script><script nonce=\"w/Bw40ulE7hZ4FcZ/nODBP/1IYajRkCMPmC4XpYcUMVwml+LJC\" crossorigin=\"anonymous\" nomodule=\"\" id=\"legacy__LOADABLE_REQUIRED_CHUNKS__\" type=\"application/json\">[382,774]</script><script nonce=\"w/Bw40ulE7hZ4FcZ/nODBP/1IYajRkCMPmC4XpYcUMVwml+LJC\" crossorigin=\"anonymous\" nomodule=\"\" id=\"legacy__LOADABLE_REQUIRED_CHUNKS___ext\" type=\"application/json\">{\"namedChunks\":[\"website-containers-chameleon-global-navigation-index\",\"design-system-svgs-account-index\",\"design-system-svgs-actions-index\",\"website-containers-product-navigation-index\",\"design-system-svgs-logo-index\",\"website-containers-dotcom-ad-index\",\"website-containers-article-index\",\"design-system-svgs-time-and-date-index\",\"website-containers-onward-journeys-index\",\"website-containers-onward-journeys-experimental-index\",\"website-containers-service-bar-index\",\"design-system-svgs-devices-and-inputs-index\",\"design-system-svgs-content-types-index\",\"design-system-svgs-participate-index\",\"website-containers-global-footer-index\",\"website-addons-document-metadata-index\",\"website-addons-comscore-mmx-index\",\"website-addons-dotcom-index\"]}</script><script nonce=\"w/Bw40ulE7hZ4FcZ/nODBP/1IYajRkCMPmC4XpYcUMVwml+LJC\" crossorigin=\"anonymous\" nomodule=\"\" async=\"\" data-chunk=\"pwa\" src=\"https://static.files.bbci.co.uk/core/bundle-defaultVendors.1a89b5194e35dbe328ee.legacy.js\"></script><script nonce=\"w/Bw40ulE7hZ4FcZ/nODBP/1IYajRkCMPmC4XpYcUMVwml+LJC\" crossorigin=\"anonymous\" nomodule=\"\" async=\"\" data-chunk=\"pwa\" src=\"https://static.files.bbci.co.uk/core/bundle-framework.b2b84f4123ca70f8d07c.legacy.js\"></script><script nonce=\"w/Bw40ulE7hZ4FcZ/nODBP/1IYajRkCMPmC4XpYcUMVwml+LJC\" crossorigin=\"anonymous\" nomodule=\"\" async=\"\" data-chunk=\"pwa\" src=\"https://static.files.bbci.co.uk/core/bundle-pwa.35df6b36d78afd4198d8.legacy.js\"></script></body></html>'"
            ],
            "application/vnd.google.colaboratory.intrinsic+json": {
              "type": "string"
            }
          },
          "metadata": {},
          "execution_count": 103
        }
      ]
    },
    {
      "cell_type": "code",
      "source": [
        "soup = BeautifulSoup(html_content, 'lxml')"
      ],
      "metadata": {
        "id": "8nQB2M8H69Yo"
      },
      "execution_count": 104,
      "outputs": []
    },
    {
      "cell_type": "code",
      "source": [
        "body = soup.body.text\n"
      ],
      "metadata": {
        "id": "lyME_0K67EGY"
      },
      "execution_count": 108,
      "outputs": []
    },
    {
      "cell_type": "code",
      "source": [
        "body"
      ],
      "metadata": {
        "colab": {
          "base_uri": "https://localhost:8080/",
          "height": 123
        },
        "id": "reiicBn87Hs9",
        "outputId": "0ceacc74-bc92-47b3-e5ed-daf2c36e817a"
      },
      "execution_count": 109,
      "outputs": [
        {
          "output_type": "execute_result",
          "data": {
            "text/plain": [
              "'BBC HomepageSkip to contentAccessibility HelpYour accountHomeNewsSportReelWorklifeTravelFutureMore menuMore menuSearch BBCHomeNewsSportReelWorklifeTravelFutureCultureMusicTVWeatherSoundsClose menuBBC NewsMenuHomeWar in UkraineClimateVideoWorldUS & CanadaUKBusinessTechScienceMoreEntertainment & ArtsHealthIn PicturesBBC VerifyWorld News TVNewsbeatAsiaChinaIndiaSpecial session: Modi introduces women\\'s bill in new India parliamentPublished18 hours agoShareclose panelShare pageCopy linkAbout sharingImage source, Getty ImagesImage caption, PM Modi is set to walk to the new buildingThe Indian government has introduced a bill guaranteeing a third of seats for women in the lower house of parliament and state assemblies.The contentious bill, first proposed in 1996, has been pending for decades amid opposition from some political parties.Its revival is expected to boost the governing Bharatiya Janata Party\\'s fortunes in general elections next May.The bill was tabled at the new Indian parliament\\'s first session and is still some way from becoming law.It would require the approval of both houses of parliament and a majority of state legislatures, as well as the Indian president\\'s signature.Reported plans to increase the overall  number of constituencies could further complicate its implementation.In his opening speech at the new parliament building, Mr Modi praised the proposed legislation and said it was a special moment for the country. \"The world understands that only talking of women-led development is not enough. This is a positive step taken on that front,\" he told politicians as he appealed to them to support the bill.The PM also took a swipe at the opposition and said that the previous Congress party-led governments had failed to clear the bill when they were in power.  \"There have been discussions around women\\'s reservations for years. We can say with pride that we have scripted history,\" he said. Mr Modi inaugurated the new parliament building in May but no business was held there until now.He called a five-day special session which began on Monday but the first day\\'s sitting was held in the old parliament building.On Tuesday morning, members from both houses assembled for a photo session at the old building, followed by an event commemorating parliament\\'s legacy in the Central Hall of the British-era building.They then moved to the new parliament as the office of the lower house of parliament officially designated it as the Parliament House of India. Image source, Government of IndiaImage caption, The new parliament can seat 1,272 membersThe proceedings are being held amid criticism from opposition leaders who claim that the government has not disclosed all the business that could come up during the week.According to the government, eight bills have been listed for discussion during the session - but this agenda could be changed or expanded during the course of the week.The new parliament building is part of the government\\'s ambitious Central Vista project in Delhi to replace colonial-era government buildings.Built in front of the old parliament, the new four-storey building - constructed at an estimated cost of 9.7bn rupees ($117m; Â£94m) - is much bigger and has the capacity to seat 1,272 MPs.The Lok Sabha chamber, which will seat the lower house of the parliament, is designed in the likeness of a peacock, India\\'s national bird. The Rajya Sabha chamber, which will seat the upper house, is designed to resemble the lotus - India\\'s national flower and also Mr Modi\\'s Bharatiya Janata Party\\'s election symbol.The current parliament building will be converted into a museum.BBC News India is now on YouTube. Click here to subscribe and watch our documentaries, explainers and features.Read more India stories from the BBC:How important are India\\'s Moon mission findings?Canada accuses India of role in Sikh leader\\'s murderAnger in India as Trudeau points finger over murderIndia bowl out Sri Lanka for 50 and win Asia CupIndia calls X a \\'habitual non-compliant platform\\'Related TopicsAsiaNarendra ModiDelhiIndiaMore on this storyModi opens new India parliament amid boycottPublished28 MayTributes to India\\'s parliament at special sessionPublished1 day agoTop StoriesCeasefire deal as Karabakh forces agree to disarmPublished9 minutes agoUS child dies from fentanyl kept under nursery matPublished1 hour agoMusk woos world leaders, courting controversyPublished10 hours agoFeaturesWhy has fighting broken out in Nagorno-Karabakh?A haunted Australia stares down bushfire disaster againMusk woos world leaders, courting controversy\\'I was in Iran\\'s police - then joined protesters\\'Forget LA â\\x80\\x93 itâ\\x80\\x99s British film studios that are in demandRussia superyacht symbolises challenge of seizing assetsHow I rewired my brain in six weeksWhy Western nations fear India-Canada rowGhanaian man who fought slavery celebrated in the UKElsewhere on the BBCThe \\'most British of French resorts\\'How expensive is Burning Man?Miyazaki\\'s \\'last\\' film is a masterpieceMost Read1Why Western nations fear India-Canada row2Azerbaijan targets Nagorno-Karabakh for second day3Bijou Phillips to divorce Danny Masterson - reports4US child dies from fentanyl kept under nursery mat5Musk woos world leaders, courting controversy6Torture, rape, killings: An Indian state\\'s brutal conflict7\\'King of Crypto\\' parents sued over missing millions8Russia superyacht symbolises challenge of seizing assets9Russian \\'evil cannot be trusted\\' - Zelensky tells UN10Ex-NFL player missing after mother found murderedBBC News ServicesOn your mobileOn smart speakersGet news alertsContact BBC NewsHomeNewsSportReelWorklifeTravelFutureCultureMusicTVWeatherSoundsTerms of UseAbout the BBCPrivacy PolicyCookiesAccessibility HelpParental GuidanceContact the BBCGet Personalised NewslettersWhy you can trust the BBCAdvertise with usÂ© 2023 BBC. The BBC is not responsible for the content of external sites. Read about our approach to external linking.'"
            ],
            "application/vnd.google.colaboratory.intrinsic+json": {
              "type": "string"
            }
          },
          "metadata": {},
          "execution_count": 109
        }
      ]
    },
    {
      "cell_type": "code",
      "source": [
        "doc = nlp(body)"
      ],
      "metadata": {
        "id": "EJEFuu7e7PW1"
      },
      "execution_count": 110,
      "outputs": []
    },
    {
      "cell_type": "code",
      "source": [
        "for ent in doc.ents:\n",
        "  print(ent.text, ent.label_)"
      ],
      "metadata": {
        "colab": {
          "base_uri": "https://localhost:8080/"
        },
        "id": "46ZCOlOW7R7g",
        "outputId": "b2a44001-2a4f-4e27-c9bc-a554c13a92d6"
      },
      "execution_count": 111,
      "outputs": [
        {
          "output_type": "stream",
          "name": "stdout",
          "text": [
            "BBC HomepageSkip ORG\n",
            "accountHomeNewsSportReelWorklifeTravelFutureMore ORG\n",
            "menuSearch PERSON\n",
            "menuBBC NewsMenuHomeWar ORG\n",
            "UkraineClimateVideoWorldUS & CanadaUKBusinessTechScienceMoreEntertainment & ORG\n",
            "Modi PERSON\n",
            "India GPE\n",
            "agoShareclose panelShare PERSON\n",
            "Getty ImagesImage ORG\n",
            "Indian NORP\n",
            "a third CARDINAL\n",
            "first ORDINAL\n",
            "1996 DATE\n",
            "decades DATE\n",
            "Bharatiya Janata Party's ORG\n",
            "next May DATE\n",
            "Indian NORP\n",
            "first ORDINAL\n",
            "Indian NORP\n",
            "Modi PERSON\n",
            "Congress ORG\n",
            "years DATE\n",
            "Modi PERSON\n",
            "May DATE\n",
            "five-day DATE\n",
            "Monday DATE\n",
            "the first day's DATE\n",
            "Tuesday DATE\n",
            "morning TIME\n",
            "the Central Hall FAC\n",
            "British NORP\n",
            "the Parliament House of India ORG\n",
            "1,272 CARDINAL\n",
            "the week DATE\n",
            "eight CARDINAL\n",
            "the week DATE\n",
            "Central Vista LOC\n",
            "Delhi GPE\n",
            "four CARDINAL\n",
            "9.7bn rupees MONEY\n",
            "$117m MONEY\n",
            "Â£94m ORG\n",
            "1,272 CARDINAL\n",
            "Lok Sabha PERSON\n",
            "India GPE\n",
            "Rajya Sabha ORG\n",
            "the lotus - ORG\n",
            "India GPE\n",
            "Modi PERSON\n",
            "Bharatiya Janata Party's ORG\n",
            "BBC News ORG\n",
            "India GPE\n",
            "YouTube PRODUCT\n",
            "India GPE\n",
            "BBC ORG\n",
            "India GPE\n",
            "Moon PERSON\n",
            "India GPE\n",
            "Sikh NORP\n",
            "India GPE\n",
            "Trudeau PERSON\n",
            "murderIndia ORG\n",
            "Sri Lanka GPE\n",
            "50 DATE\n",
            "Asia CupIndia PRODUCT\n",
            "platform'Related ORG\n",
            "India GPE\n",
            "MayTributes ORG\n",
            "India GPE\n",
            "Karabakh ORG\n",
            "woos world leaders ORG\n",
            "hours agoFeaturesWhy TIME\n",
            "Nagorno GPE\n",
            "Australia GPE\n",
            "woos world ORG\n",
            "Iran GPE\n",
            "LA GPE\n",
            "British NORP\n",
            "demandRussia PERSON\n",
            "six CARDINAL\n",
            "Western NORP\n",
            "India GPE\n",
            "Canada GPE\n",
            "rowGhanaian NORP\n",
            "British NORP\n",
            "French NORP\n",
            "Man?Miyazaki ORG\n",
            "India GPE\n",
            "Nagorno GPE\n",
            "second ORDINAL\n",
            "Phillips ORG\n",
            "Danny Masterson - reports4US PERSON\n",
            "Indian NORP\n",
            "NFL ORG\n",
            "News ServicesOn PERSON\n",
            "BBC ORG\n",
            "UseAbout ORG\n",
            "BBCGet ORG\n",
            "NewslettersWhy ORG\n",
            "BBCAdvertise ORG\n",
            "usÂ© 2023 DATE\n",
            "BBC ORG\n",
            "BBC ORG\n"
          ]
        }
      ]
    },
    {
      "cell_type": "code",
      "source": [
        "displacy.render(doc, style = 'ent',jupyter=True)"
      ],
      "metadata": {
        "colab": {
          "base_uri": "https://localhost:8080/",
          "height": 1000
        },
        "id": "Ilq5einM7WgG",
        "outputId": "b39dd82d-979b-4fd8-b42f-b8e5fb9920f4"
      },
      "execution_count": 112,
      "outputs": [
        {
          "output_type": "display_data",
          "data": {
            "text/plain": [
              "<IPython.core.display.HTML object>"
            ],
            "text/html": [
              "<span class=\"tex2jax_ignore\"><div class=\"entities\" style=\"line-height: 2.5; direction: ltr\">\n",
              "<mark class=\"entity\" style=\"background: #7aecec; padding: 0.45em 0.6em; margin: 0 0.25em; line-height: 1; border-radius: 0.35em;\">\n",
              "    BBC HomepageSkip\n",
              "    <span style=\"font-size: 0.8em; font-weight: bold; line-height: 1; border-radius: 0.35em; vertical-align: middle; margin-left: 0.5rem\">ORG</span>\n",
              "</mark>\n",
              " to contentAccessibility HelpYour \n",
              "<mark class=\"entity\" style=\"background: #7aecec; padding: 0.45em 0.6em; margin: 0 0.25em; line-height: 1; border-radius: 0.35em;\">\n",
              "    accountHomeNewsSportReelWorklifeTravelFutureMore\n",
              "    <span style=\"font-size: 0.8em; font-weight: bold; line-height: 1; border-radius: 0.35em; vertical-align: middle; margin-left: 0.5rem\">ORG</span>\n",
              "</mark>\n",
              " menuMore \n",
              "<mark class=\"entity\" style=\"background: #aa9cfc; padding: 0.45em 0.6em; margin: 0 0.25em; line-height: 1; border-radius: 0.35em;\">\n",
              "    menuSearch\n",
              "    <span style=\"font-size: 0.8em; font-weight: bold; line-height: 1; border-radius: 0.35em; vertical-align: middle; margin-left: 0.5rem\">PERSON</span>\n",
              "</mark>\n",
              " BBCHomeNewsSportReelWorklifeTravelFutureCultureMusicTVWeatherSoundsClose \n",
              "<mark class=\"entity\" style=\"background: #7aecec; padding: 0.45em 0.6em; margin: 0 0.25em; line-height: 1; border-radius: 0.35em;\">\n",
              "    menuBBC NewsMenuHomeWar\n",
              "    <span style=\"font-size: 0.8em; font-weight: bold; line-height: 1; border-radius: 0.35em; vertical-align: middle; margin-left: 0.5rem\">ORG</span>\n",
              "</mark>\n",
              " in \n",
              "<mark class=\"entity\" style=\"background: #7aecec; padding: 0.45em 0.6em; margin: 0 0.25em; line-height: 1; border-radius: 0.35em;\">\n",
              "    UkraineClimateVideoWorldUS &amp; CanadaUKBusinessTechScienceMoreEntertainment &amp;\n",
              "    <span style=\"font-size: 0.8em; font-weight: bold; line-height: 1; border-radius: 0.35em; vertical-align: middle; margin-left: 0.5rem\">ORG</span>\n",
              "</mark>\n",
              " ArtsHealthIn PicturesBBC VerifyWorld News TVNewsbeatAsiaChinaIndiaSpecial session: \n",
              "<mark class=\"entity\" style=\"background: #aa9cfc; padding: 0.45em 0.6em; margin: 0 0.25em; line-height: 1; border-radius: 0.35em;\">\n",
              "    Modi\n",
              "    <span style=\"font-size: 0.8em; font-weight: bold; line-height: 1; border-radius: 0.35em; vertical-align: middle; margin-left: 0.5rem\">PERSON</span>\n",
              "</mark>\n",
              " introduces women's bill in new \n",
              "<mark class=\"entity\" style=\"background: #feca74; padding: 0.45em 0.6em; margin: 0 0.25em; line-height: 1; border-radius: 0.35em;\">\n",
              "    India\n",
              "    <span style=\"font-size: 0.8em; font-weight: bold; line-height: 1; border-radius: 0.35em; vertical-align: middle; margin-left: 0.5rem\">GPE</span>\n",
              "</mark>\n",
              " parliamentPublished18 hours \n",
              "<mark class=\"entity\" style=\"background: #aa9cfc; padding: 0.45em 0.6em; margin: 0 0.25em; line-height: 1; border-radius: 0.35em;\">\n",
              "    agoShareclose panelShare\n",
              "    <span style=\"font-size: 0.8em; font-weight: bold; line-height: 1; border-radius: 0.35em; vertical-align: middle; margin-left: 0.5rem\">PERSON</span>\n",
              "</mark>\n",
              " pageCopy linkAbout sharingImage source, \n",
              "<mark class=\"entity\" style=\"background: #7aecec; padding: 0.45em 0.6em; margin: 0 0.25em; line-height: 1; border-radius: 0.35em;\">\n",
              "    Getty ImagesImage\n",
              "    <span style=\"font-size: 0.8em; font-weight: bold; line-height: 1; border-radius: 0.35em; vertical-align: middle; margin-left: 0.5rem\">ORG</span>\n",
              "</mark>\n",
              " caption, PM Modi is set to walk to the new buildingThe \n",
              "<mark class=\"entity\" style=\"background: #c887fb; padding: 0.45em 0.6em; margin: 0 0.25em; line-height: 1; border-radius: 0.35em;\">\n",
              "    Indian\n",
              "    <span style=\"font-size: 0.8em; font-weight: bold; line-height: 1; border-radius: 0.35em; vertical-align: middle; margin-left: 0.5rem\">NORP</span>\n",
              "</mark>\n",
              " government has introduced a bill guaranteeing \n",
              "<mark class=\"entity\" style=\"background: #e4e7d2; padding: 0.45em 0.6em; margin: 0 0.25em; line-height: 1; border-radius: 0.35em;\">\n",
              "    a third\n",
              "    <span style=\"font-size: 0.8em; font-weight: bold; line-height: 1; border-radius: 0.35em; vertical-align: middle; margin-left: 0.5rem\">CARDINAL</span>\n",
              "</mark>\n",
              " of seats for women in the lower house of parliament and state assemblies.The contentious bill, \n",
              "<mark class=\"entity\" style=\"background: #e4e7d2; padding: 0.45em 0.6em; margin: 0 0.25em; line-height: 1; border-radius: 0.35em;\">\n",
              "    first\n",
              "    <span style=\"font-size: 0.8em; font-weight: bold; line-height: 1; border-radius: 0.35em; vertical-align: middle; margin-left: 0.5rem\">ORDINAL</span>\n",
              "</mark>\n",
              " proposed in \n",
              "<mark class=\"entity\" style=\"background: #bfe1d9; padding: 0.45em 0.6em; margin: 0 0.25em; line-height: 1; border-radius: 0.35em;\">\n",
              "    1996\n",
              "    <span style=\"font-size: 0.8em; font-weight: bold; line-height: 1; border-radius: 0.35em; vertical-align: middle; margin-left: 0.5rem\">DATE</span>\n",
              "</mark>\n",
              ", has been pending for \n",
              "<mark class=\"entity\" style=\"background: #bfe1d9; padding: 0.45em 0.6em; margin: 0 0.25em; line-height: 1; border-radius: 0.35em;\">\n",
              "    decades\n",
              "    <span style=\"font-size: 0.8em; font-weight: bold; line-height: 1; border-radius: 0.35em; vertical-align: middle; margin-left: 0.5rem\">DATE</span>\n",
              "</mark>\n",
              " amid opposition from some political parties.Its revival is expected to boost the governing \n",
              "<mark class=\"entity\" style=\"background: #7aecec; padding: 0.45em 0.6em; margin: 0 0.25em; line-height: 1; border-radius: 0.35em;\">\n",
              "    Bharatiya Janata Party's\n",
              "    <span style=\"font-size: 0.8em; font-weight: bold; line-height: 1; border-radius: 0.35em; vertical-align: middle; margin-left: 0.5rem\">ORG</span>\n",
              "</mark>\n",
              " fortunes in general elections \n",
              "<mark class=\"entity\" style=\"background: #bfe1d9; padding: 0.45em 0.6em; margin: 0 0.25em; line-height: 1; border-radius: 0.35em;\">\n",
              "    next May\n",
              "    <span style=\"font-size: 0.8em; font-weight: bold; line-height: 1; border-radius: 0.35em; vertical-align: middle; margin-left: 0.5rem\">DATE</span>\n",
              "</mark>\n",
              ".The bill was tabled at the new \n",
              "<mark class=\"entity\" style=\"background: #c887fb; padding: 0.45em 0.6em; margin: 0 0.25em; line-height: 1; border-radius: 0.35em;\">\n",
              "    Indian\n",
              "    <span style=\"font-size: 0.8em; font-weight: bold; line-height: 1; border-radius: 0.35em; vertical-align: middle; margin-left: 0.5rem\">NORP</span>\n",
              "</mark>\n",
              " parliament's \n",
              "<mark class=\"entity\" style=\"background: #e4e7d2; padding: 0.45em 0.6em; margin: 0 0.25em; line-height: 1; border-radius: 0.35em;\">\n",
              "    first\n",
              "    <span style=\"font-size: 0.8em; font-weight: bold; line-height: 1; border-radius: 0.35em; vertical-align: middle; margin-left: 0.5rem\">ORDINAL</span>\n",
              "</mark>\n",
              " session and is still some way from becoming law.It would require the approval of both houses of parliament and a majority of state legislatures, as well as the \n",
              "<mark class=\"entity\" style=\"background: #c887fb; padding: 0.45em 0.6em; margin: 0 0.25em; line-height: 1; border-radius: 0.35em;\">\n",
              "    Indian\n",
              "    <span style=\"font-size: 0.8em; font-weight: bold; line-height: 1; border-radius: 0.35em; vertical-align: middle; margin-left: 0.5rem\">NORP</span>\n",
              "</mark>\n",
              " president's signature.Reported plans to increase the overall  number of constituencies could further complicate its implementation.In his opening speech at the new parliament building, Mr \n",
              "<mark class=\"entity\" style=\"background: #aa9cfc; padding: 0.45em 0.6em; margin: 0 0.25em; line-height: 1; border-radius: 0.35em;\">\n",
              "    Modi\n",
              "    <span style=\"font-size: 0.8em; font-weight: bold; line-height: 1; border-radius: 0.35em; vertical-align: middle; margin-left: 0.5rem\">PERSON</span>\n",
              "</mark>\n",
              " praised the proposed legislation and said it was a special moment for the country. &quot;The world understands that only talking of women-led development is not enough. This is a positive step taken on that front,&quot; he told politicians as he appealed to them to support the bill.The PM also took a swipe at the opposition and said that the previous \n",
              "<mark class=\"entity\" style=\"background: #7aecec; padding: 0.45em 0.6em; margin: 0 0.25em; line-height: 1; border-radius: 0.35em;\">\n",
              "    Congress\n",
              "    <span style=\"font-size: 0.8em; font-weight: bold; line-height: 1; border-radius: 0.35em; vertical-align: middle; margin-left: 0.5rem\">ORG</span>\n",
              "</mark>\n",
              " party-led governments had failed to clear the bill when they were in power.  &quot;There have been discussions around women's reservations for \n",
              "<mark class=\"entity\" style=\"background: #bfe1d9; padding: 0.45em 0.6em; margin: 0 0.25em; line-height: 1; border-radius: 0.35em;\">\n",
              "    years\n",
              "    <span style=\"font-size: 0.8em; font-weight: bold; line-height: 1; border-radius: 0.35em; vertical-align: middle; margin-left: 0.5rem\">DATE</span>\n",
              "</mark>\n",
              ". We can say with pride that we have scripted history,&quot; he said. Mr \n",
              "<mark class=\"entity\" style=\"background: #aa9cfc; padding: 0.45em 0.6em; margin: 0 0.25em; line-height: 1; border-radius: 0.35em;\">\n",
              "    Modi\n",
              "    <span style=\"font-size: 0.8em; font-weight: bold; line-height: 1; border-radius: 0.35em; vertical-align: middle; margin-left: 0.5rem\">PERSON</span>\n",
              "</mark>\n",
              " inaugurated the new parliament building in \n",
              "<mark class=\"entity\" style=\"background: #bfe1d9; padding: 0.45em 0.6em; margin: 0 0.25em; line-height: 1; border-radius: 0.35em;\">\n",
              "    May\n",
              "    <span style=\"font-size: 0.8em; font-weight: bold; line-height: 1; border-radius: 0.35em; vertical-align: middle; margin-left: 0.5rem\">DATE</span>\n",
              "</mark>\n",
              " but no business was held there until now.He called a \n",
              "<mark class=\"entity\" style=\"background: #bfe1d9; padding: 0.45em 0.6em; margin: 0 0.25em; line-height: 1; border-radius: 0.35em;\">\n",
              "    five-day\n",
              "    <span style=\"font-size: 0.8em; font-weight: bold; line-height: 1; border-radius: 0.35em; vertical-align: middle; margin-left: 0.5rem\">DATE</span>\n",
              "</mark>\n",
              " special session which began on \n",
              "<mark class=\"entity\" style=\"background: #bfe1d9; padding: 0.45em 0.6em; margin: 0 0.25em; line-height: 1; border-radius: 0.35em;\">\n",
              "    Monday\n",
              "    <span style=\"font-size: 0.8em; font-weight: bold; line-height: 1; border-radius: 0.35em; vertical-align: middle; margin-left: 0.5rem\">DATE</span>\n",
              "</mark>\n",
              " but \n",
              "<mark class=\"entity\" style=\"background: #bfe1d9; padding: 0.45em 0.6em; margin: 0 0.25em; line-height: 1; border-radius: 0.35em;\">\n",
              "    the first day's\n",
              "    <span style=\"font-size: 0.8em; font-weight: bold; line-height: 1; border-radius: 0.35em; vertical-align: middle; margin-left: 0.5rem\">DATE</span>\n",
              "</mark>\n",
              " sitting was held in the old parliament building.On \n",
              "<mark class=\"entity\" style=\"background: #bfe1d9; padding: 0.45em 0.6em; margin: 0 0.25em; line-height: 1; border-radius: 0.35em;\">\n",
              "    Tuesday\n",
              "    <span style=\"font-size: 0.8em; font-weight: bold; line-height: 1; border-radius: 0.35em; vertical-align: middle; margin-left: 0.5rem\">DATE</span>\n",
              "</mark>\n",
              " \n",
              "<mark class=\"entity\" style=\"background: #bfe1d9; padding: 0.45em 0.6em; margin: 0 0.25em; line-height: 1; border-radius: 0.35em;\">\n",
              "    morning\n",
              "    <span style=\"font-size: 0.8em; font-weight: bold; line-height: 1; border-radius: 0.35em; vertical-align: middle; margin-left: 0.5rem\">TIME</span>\n",
              "</mark>\n",
              ", members from both houses assembled for a photo session at the old building, followed by an event commemorating parliament's legacy in \n",
              "<mark class=\"entity\" style=\"background: #9cc9cc; padding: 0.45em 0.6em; margin: 0 0.25em; line-height: 1; border-radius: 0.35em;\">\n",
              "    the Central Hall\n",
              "    <span style=\"font-size: 0.8em; font-weight: bold; line-height: 1; border-radius: 0.35em; vertical-align: middle; margin-left: 0.5rem\">FAC</span>\n",
              "</mark>\n",
              " of the \n",
              "<mark class=\"entity\" style=\"background: #c887fb; padding: 0.45em 0.6em; margin: 0 0.25em; line-height: 1; border-radius: 0.35em;\">\n",
              "    British\n",
              "    <span style=\"font-size: 0.8em; font-weight: bold; line-height: 1; border-radius: 0.35em; vertical-align: middle; margin-left: 0.5rem\">NORP</span>\n",
              "</mark>\n",
              "-era building.They then moved to the new parliament as the office of the lower house of parliament officially designated it as \n",
              "<mark class=\"entity\" style=\"background: #7aecec; padding: 0.45em 0.6em; margin: 0 0.25em; line-height: 1; border-radius: 0.35em;\">\n",
              "    the Parliament House of India\n",
              "    <span style=\"font-size: 0.8em; font-weight: bold; line-height: 1; border-radius: 0.35em; vertical-align: middle; margin-left: 0.5rem\">ORG</span>\n",
              "</mark>\n",
              ". Image source, Government of IndiaImage caption, The new parliament can seat \n",
              "<mark class=\"entity\" style=\"background: #e4e7d2; padding: 0.45em 0.6em; margin: 0 0.25em; line-height: 1; border-radius: 0.35em;\">\n",
              "    1,272\n",
              "    <span style=\"font-size: 0.8em; font-weight: bold; line-height: 1; border-radius: 0.35em; vertical-align: middle; margin-left: 0.5rem\">CARDINAL</span>\n",
              "</mark>\n",
              " membersThe proceedings are being held amid criticism from opposition leaders who claim that the government has not disclosed all the business that could come up during \n",
              "<mark class=\"entity\" style=\"background: #bfe1d9; padding: 0.45em 0.6em; margin: 0 0.25em; line-height: 1; border-radius: 0.35em;\">\n",
              "    the week\n",
              "    <span style=\"font-size: 0.8em; font-weight: bold; line-height: 1; border-radius: 0.35em; vertical-align: middle; margin-left: 0.5rem\">DATE</span>\n",
              "</mark>\n",
              ".According to the government, \n",
              "<mark class=\"entity\" style=\"background: #e4e7d2; padding: 0.45em 0.6em; margin: 0 0.25em; line-height: 1; border-radius: 0.35em;\">\n",
              "    eight\n",
              "    <span style=\"font-size: 0.8em; font-weight: bold; line-height: 1; border-radius: 0.35em; vertical-align: middle; margin-left: 0.5rem\">CARDINAL</span>\n",
              "</mark>\n",
              " bills have been listed for discussion during the session - but this agenda could be changed or expanded during the course of \n",
              "<mark class=\"entity\" style=\"background: #bfe1d9; padding: 0.45em 0.6em; margin: 0 0.25em; line-height: 1; border-radius: 0.35em;\">\n",
              "    the week\n",
              "    <span style=\"font-size: 0.8em; font-weight: bold; line-height: 1; border-radius: 0.35em; vertical-align: middle; margin-left: 0.5rem\">DATE</span>\n",
              "</mark>\n",
              ".The new parliament building is part of the government's ambitious \n",
              "<mark class=\"entity\" style=\"background: #ff9561; padding: 0.45em 0.6em; margin: 0 0.25em; line-height: 1; border-radius: 0.35em;\">\n",
              "    Central Vista\n",
              "    <span style=\"font-size: 0.8em; font-weight: bold; line-height: 1; border-radius: 0.35em; vertical-align: middle; margin-left: 0.5rem\">LOC</span>\n",
              "</mark>\n",
              " project in \n",
              "<mark class=\"entity\" style=\"background: #feca74; padding: 0.45em 0.6em; margin: 0 0.25em; line-height: 1; border-radius: 0.35em;\">\n",
              "    Delhi\n",
              "    <span style=\"font-size: 0.8em; font-weight: bold; line-height: 1; border-radius: 0.35em; vertical-align: middle; margin-left: 0.5rem\">GPE</span>\n",
              "</mark>\n",
              " to replace colonial-era government buildings.Built in front of the old parliament, the new \n",
              "<mark class=\"entity\" style=\"background: #e4e7d2; padding: 0.45em 0.6em; margin: 0 0.25em; line-height: 1; border-radius: 0.35em;\">\n",
              "    four\n",
              "    <span style=\"font-size: 0.8em; font-weight: bold; line-height: 1; border-radius: 0.35em; vertical-align: middle; margin-left: 0.5rem\">CARDINAL</span>\n",
              "</mark>\n",
              "-storey building - constructed at an estimated cost of \n",
              "<mark class=\"entity\" style=\"background: #e4e7d2; padding: 0.45em 0.6em; margin: 0 0.25em; line-height: 1; border-radius: 0.35em;\">\n",
              "    9.7bn rupees\n",
              "    <span style=\"font-size: 0.8em; font-weight: bold; line-height: 1; border-radius: 0.35em; vertical-align: middle; margin-left: 0.5rem\">MONEY</span>\n",
              "</mark>\n",
              " (\n",
              "<mark class=\"entity\" style=\"background: #e4e7d2; padding: 0.45em 0.6em; margin: 0 0.25em; line-height: 1; border-radius: 0.35em;\">\n",
              "    $117m\n",
              "    <span style=\"font-size: 0.8em; font-weight: bold; line-height: 1; border-radius: 0.35em; vertical-align: middle; margin-left: 0.5rem\">MONEY</span>\n",
              "</mark>\n",
              "; \n",
              "<mark class=\"entity\" style=\"background: #7aecec; padding: 0.45em 0.6em; margin: 0 0.25em; line-height: 1; border-radius: 0.35em;\">\n",
              "    Â£94m\n",
              "    <span style=\"font-size: 0.8em; font-weight: bold; line-height: 1; border-radius: 0.35em; vertical-align: middle; margin-left: 0.5rem\">ORG</span>\n",
              "</mark>\n",
              ") - is much bigger and has the capacity to seat \n",
              "<mark class=\"entity\" style=\"background: #e4e7d2; padding: 0.45em 0.6em; margin: 0 0.25em; line-height: 1; border-radius: 0.35em;\">\n",
              "    1,272\n",
              "    <span style=\"font-size: 0.8em; font-weight: bold; line-height: 1; border-radius: 0.35em; vertical-align: middle; margin-left: 0.5rem\">CARDINAL</span>\n",
              "</mark>\n",
              " MPs.The \n",
              "<mark class=\"entity\" style=\"background: #aa9cfc; padding: 0.45em 0.6em; margin: 0 0.25em; line-height: 1; border-radius: 0.35em;\">\n",
              "    Lok Sabha\n",
              "    <span style=\"font-size: 0.8em; font-weight: bold; line-height: 1; border-radius: 0.35em; vertical-align: middle; margin-left: 0.5rem\">PERSON</span>\n",
              "</mark>\n",
              " chamber, which will seat the lower house of the parliament, is designed in the likeness of a peacock, \n",
              "<mark class=\"entity\" style=\"background: #feca74; padding: 0.45em 0.6em; margin: 0 0.25em; line-height: 1; border-radius: 0.35em;\">\n",
              "    India\n",
              "    <span style=\"font-size: 0.8em; font-weight: bold; line-height: 1; border-radius: 0.35em; vertical-align: middle; margin-left: 0.5rem\">GPE</span>\n",
              "</mark>\n",
              "'s national bird. The \n",
              "<mark class=\"entity\" style=\"background: #7aecec; padding: 0.45em 0.6em; margin: 0 0.25em; line-height: 1; border-radius: 0.35em;\">\n",
              "    Rajya Sabha\n",
              "    <span style=\"font-size: 0.8em; font-weight: bold; line-height: 1; border-radius: 0.35em; vertical-align: middle; margin-left: 0.5rem\">ORG</span>\n",
              "</mark>\n",
              " chamber, which will seat the upper house, is designed to resemble \n",
              "<mark class=\"entity\" style=\"background: #7aecec; padding: 0.45em 0.6em; margin: 0 0.25em; line-height: 1; border-radius: 0.35em;\">\n",
              "    the lotus -\n",
              "    <span style=\"font-size: 0.8em; font-weight: bold; line-height: 1; border-radius: 0.35em; vertical-align: middle; margin-left: 0.5rem\">ORG</span>\n",
              "</mark>\n",
              " \n",
              "<mark class=\"entity\" style=\"background: #feca74; padding: 0.45em 0.6em; margin: 0 0.25em; line-height: 1; border-radius: 0.35em;\">\n",
              "    India\n",
              "    <span style=\"font-size: 0.8em; font-weight: bold; line-height: 1; border-radius: 0.35em; vertical-align: middle; margin-left: 0.5rem\">GPE</span>\n",
              "</mark>\n",
              "'s national flower and also Mr \n",
              "<mark class=\"entity\" style=\"background: #aa9cfc; padding: 0.45em 0.6em; margin: 0 0.25em; line-height: 1; border-radius: 0.35em;\">\n",
              "    Modi\n",
              "    <span style=\"font-size: 0.8em; font-weight: bold; line-height: 1; border-radius: 0.35em; vertical-align: middle; margin-left: 0.5rem\">PERSON</span>\n",
              "</mark>\n",
              "'s \n",
              "<mark class=\"entity\" style=\"background: #7aecec; padding: 0.45em 0.6em; margin: 0 0.25em; line-height: 1; border-radius: 0.35em;\">\n",
              "    Bharatiya Janata Party's\n",
              "    <span style=\"font-size: 0.8em; font-weight: bold; line-height: 1; border-radius: 0.35em; vertical-align: middle; margin-left: 0.5rem\">ORG</span>\n",
              "</mark>\n",
              " election symbol.The current parliament building will be converted into a museum.\n",
              "<mark class=\"entity\" style=\"background: #7aecec; padding: 0.45em 0.6em; margin: 0 0.25em; line-height: 1; border-radius: 0.35em;\">\n",
              "    BBC News\n",
              "    <span style=\"font-size: 0.8em; font-weight: bold; line-height: 1; border-radius: 0.35em; vertical-align: middle; margin-left: 0.5rem\">ORG</span>\n",
              "</mark>\n",
              " \n",
              "<mark class=\"entity\" style=\"background: #feca74; padding: 0.45em 0.6em; margin: 0 0.25em; line-height: 1; border-radius: 0.35em;\">\n",
              "    India\n",
              "    <span style=\"font-size: 0.8em; font-weight: bold; line-height: 1; border-radius: 0.35em; vertical-align: middle; margin-left: 0.5rem\">GPE</span>\n",
              "</mark>\n",
              " is now on \n",
              "<mark class=\"entity\" style=\"background: #bfeeb7; padding: 0.45em 0.6em; margin: 0 0.25em; line-height: 1; border-radius: 0.35em;\">\n",
              "    YouTube\n",
              "    <span style=\"font-size: 0.8em; font-weight: bold; line-height: 1; border-radius: 0.35em; vertical-align: middle; margin-left: 0.5rem\">PRODUCT</span>\n",
              "</mark>\n",
              ". Click here to subscribe and watch our documentaries, explainers and features.Read more \n",
              "<mark class=\"entity\" style=\"background: #feca74; padding: 0.45em 0.6em; margin: 0 0.25em; line-height: 1; border-radius: 0.35em;\">\n",
              "    India\n",
              "    <span style=\"font-size: 0.8em; font-weight: bold; line-height: 1; border-radius: 0.35em; vertical-align: middle; margin-left: 0.5rem\">GPE</span>\n",
              "</mark>\n",
              " stories from the \n",
              "<mark class=\"entity\" style=\"background: #7aecec; padding: 0.45em 0.6em; margin: 0 0.25em; line-height: 1; border-radius: 0.35em;\">\n",
              "    BBC\n",
              "    <span style=\"font-size: 0.8em; font-weight: bold; line-height: 1; border-radius: 0.35em; vertical-align: middle; margin-left: 0.5rem\">ORG</span>\n",
              "</mark>\n",
              ":How important are \n",
              "<mark class=\"entity\" style=\"background: #feca74; padding: 0.45em 0.6em; margin: 0 0.25em; line-height: 1; border-radius: 0.35em;\">\n",
              "    India\n",
              "    <span style=\"font-size: 0.8em; font-weight: bold; line-height: 1; border-radius: 0.35em; vertical-align: middle; margin-left: 0.5rem\">GPE</span>\n",
              "</mark>\n",
              "'s \n",
              "<mark class=\"entity\" style=\"background: #aa9cfc; padding: 0.45em 0.6em; margin: 0 0.25em; line-height: 1; border-radius: 0.35em;\">\n",
              "    Moon\n",
              "    <span style=\"font-size: 0.8em; font-weight: bold; line-height: 1; border-radius: 0.35em; vertical-align: middle; margin-left: 0.5rem\">PERSON</span>\n",
              "</mark>\n",
              " mission findings?Canada accuses \n",
              "<mark class=\"entity\" style=\"background: #feca74; padding: 0.45em 0.6em; margin: 0 0.25em; line-height: 1; border-radius: 0.35em;\">\n",
              "    India\n",
              "    <span style=\"font-size: 0.8em; font-weight: bold; line-height: 1; border-radius: 0.35em; vertical-align: middle; margin-left: 0.5rem\">GPE</span>\n",
              "</mark>\n",
              " of role in \n",
              "<mark class=\"entity\" style=\"background: #c887fb; padding: 0.45em 0.6em; margin: 0 0.25em; line-height: 1; border-radius: 0.35em;\">\n",
              "    Sikh\n",
              "    <span style=\"font-size: 0.8em; font-weight: bold; line-height: 1; border-radius: 0.35em; vertical-align: middle; margin-left: 0.5rem\">NORP</span>\n",
              "</mark>\n",
              " leader's murderAnger in \n",
              "<mark class=\"entity\" style=\"background: #feca74; padding: 0.45em 0.6em; margin: 0 0.25em; line-height: 1; border-radius: 0.35em;\">\n",
              "    India\n",
              "    <span style=\"font-size: 0.8em; font-weight: bold; line-height: 1; border-radius: 0.35em; vertical-align: middle; margin-left: 0.5rem\">GPE</span>\n",
              "</mark>\n",
              " as \n",
              "<mark class=\"entity\" style=\"background: #aa9cfc; padding: 0.45em 0.6em; margin: 0 0.25em; line-height: 1; border-radius: 0.35em;\">\n",
              "    Trudeau\n",
              "    <span style=\"font-size: 0.8em; font-weight: bold; line-height: 1; border-radius: 0.35em; vertical-align: middle; margin-left: 0.5rem\">PERSON</span>\n",
              "</mark>\n",
              " points finger over \n",
              "<mark class=\"entity\" style=\"background: #7aecec; padding: 0.45em 0.6em; margin: 0 0.25em; line-height: 1; border-radius: 0.35em;\">\n",
              "    murderIndia\n",
              "    <span style=\"font-size: 0.8em; font-weight: bold; line-height: 1; border-radius: 0.35em; vertical-align: middle; margin-left: 0.5rem\">ORG</span>\n",
              "</mark>\n",
              " bowl out \n",
              "<mark class=\"entity\" style=\"background: #feca74; padding: 0.45em 0.6em; margin: 0 0.25em; line-height: 1; border-radius: 0.35em;\">\n",
              "    Sri Lanka\n",
              "    <span style=\"font-size: 0.8em; font-weight: bold; line-height: 1; border-radius: 0.35em; vertical-align: middle; margin-left: 0.5rem\">GPE</span>\n",
              "</mark>\n",
              " for \n",
              "<mark class=\"entity\" style=\"background: #bfe1d9; padding: 0.45em 0.6em; margin: 0 0.25em; line-height: 1; border-radius: 0.35em;\">\n",
              "    50\n",
              "    <span style=\"font-size: 0.8em; font-weight: bold; line-height: 1; border-radius: 0.35em; vertical-align: middle; margin-left: 0.5rem\">DATE</span>\n",
              "</mark>\n",
              " and win \n",
              "<mark class=\"entity\" style=\"background: #bfeeb7; padding: 0.45em 0.6em; margin: 0 0.25em; line-height: 1; border-radius: 0.35em;\">\n",
              "    Asia CupIndia\n",
              "    <span style=\"font-size: 0.8em; font-weight: bold; line-height: 1; border-radius: 0.35em; vertical-align: middle; margin-left: 0.5rem\">PRODUCT</span>\n",
              "</mark>\n",
              " calls X a 'habitual non-compliant \n",
              "<mark class=\"entity\" style=\"background: #7aecec; padding: 0.45em 0.6em; margin: 0 0.25em; line-height: 1; border-radius: 0.35em;\">\n",
              "    platform'Related\n",
              "    <span style=\"font-size: 0.8em; font-weight: bold; line-height: 1; border-radius: 0.35em; vertical-align: middle; margin-left: 0.5rem\">ORG</span>\n",
              "</mark>\n",
              " TopicsAsiaNarendra ModiDelhiIndiaMore on this storyModi opens new \n",
              "<mark class=\"entity\" style=\"background: #feca74; padding: 0.45em 0.6em; margin: 0 0.25em; line-height: 1; border-radius: 0.35em;\">\n",
              "    India\n",
              "    <span style=\"font-size: 0.8em; font-weight: bold; line-height: 1; border-radius: 0.35em; vertical-align: middle; margin-left: 0.5rem\">GPE</span>\n",
              "</mark>\n",
              " parliament amid boycottPublished28 \n",
              "<mark class=\"entity\" style=\"background: #7aecec; padding: 0.45em 0.6em; margin: 0 0.25em; line-height: 1; border-radius: 0.35em;\">\n",
              "    MayTributes\n",
              "    <span style=\"font-size: 0.8em; font-weight: bold; line-height: 1; border-radius: 0.35em; vertical-align: middle; margin-left: 0.5rem\">ORG</span>\n",
              "</mark>\n",
              " to \n",
              "<mark class=\"entity\" style=\"background: #feca74; padding: 0.45em 0.6em; margin: 0 0.25em; line-height: 1; border-radius: 0.35em;\">\n",
              "    India\n",
              "    <span style=\"font-size: 0.8em; font-weight: bold; line-height: 1; border-radius: 0.35em; vertical-align: middle; margin-left: 0.5rem\">GPE</span>\n",
              "</mark>\n",
              "'s parliament at special sessionPublished1 day agoTop StoriesCeasefire deal as \n",
              "<mark class=\"entity\" style=\"background: #7aecec; padding: 0.45em 0.6em; margin: 0 0.25em; line-height: 1; border-radius: 0.35em;\">\n",
              "    Karabakh\n",
              "    <span style=\"font-size: 0.8em; font-weight: bold; line-height: 1; border-radius: 0.35em; vertical-align: middle; margin-left: 0.5rem\">ORG</span>\n",
              "</mark>\n",
              " forces agree to disarmPublished9 minutes agoUS child dies from fentanyl kept under nursery matPublished1 hour agoMusk \n",
              "<mark class=\"entity\" style=\"background: #7aecec; padding: 0.45em 0.6em; margin: 0 0.25em; line-height: 1; border-radius: 0.35em;\">\n",
              "    woos world leaders\n",
              "    <span style=\"font-size: 0.8em; font-weight: bold; line-height: 1; border-radius: 0.35em; vertical-align: middle; margin-left: 0.5rem\">ORG</span>\n",
              "</mark>\n",
              ", courting controversyPublished10 \n",
              "<mark class=\"entity\" style=\"background: #bfe1d9; padding: 0.45em 0.6em; margin: 0 0.25em; line-height: 1; border-radius: 0.35em;\">\n",
              "    hours agoFeaturesWhy\n",
              "    <span style=\"font-size: 0.8em; font-weight: bold; line-height: 1; border-radius: 0.35em; vertical-align: middle; margin-left: 0.5rem\">TIME</span>\n",
              "</mark>\n",
              " has fighting broken out in \n",
              "<mark class=\"entity\" style=\"background: #feca74; padding: 0.45em 0.6em; margin: 0 0.25em; line-height: 1; border-radius: 0.35em;\">\n",
              "    Nagorno\n",
              "    <span style=\"font-size: 0.8em; font-weight: bold; line-height: 1; border-radius: 0.35em; vertical-align: middle; margin-left: 0.5rem\">GPE</span>\n",
              "</mark>\n",
              "-Karabakh?A haunted \n",
              "<mark class=\"entity\" style=\"background: #feca74; padding: 0.45em 0.6em; margin: 0 0.25em; line-height: 1; border-radius: 0.35em;\">\n",
              "    Australia\n",
              "    <span style=\"font-size: 0.8em; font-weight: bold; line-height: 1; border-radius: 0.35em; vertical-align: middle; margin-left: 0.5rem\">GPE</span>\n",
              "</mark>\n",
              " stares down bushfire disaster againMusk \n",
              "<mark class=\"entity\" style=\"background: #7aecec; padding: 0.45em 0.6em; margin: 0 0.25em; line-height: 1; border-radius: 0.35em;\">\n",
              "    woos world\n",
              "    <span style=\"font-size: 0.8em; font-weight: bold; line-height: 1; border-radius: 0.35em; vertical-align: middle; margin-left: 0.5rem\">ORG</span>\n",
              "</mark>\n",
              " leaders, courting controversy'I was in \n",
              "<mark class=\"entity\" style=\"background: #feca74; padding: 0.45em 0.6em; margin: 0 0.25em; line-height: 1; border-radius: 0.35em;\">\n",
              "    Iran\n",
              "    <span style=\"font-size: 0.8em; font-weight: bold; line-height: 1; border-radius: 0.35em; vertical-align: middle; margin-left: 0.5rem\">GPE</span>\n",
              "</mark>\n",
              "'s police - then joined protesters'Forget \n",
              "<mark class=\"entity\" style=\"background: #feca74; padding: 0.45em 0.6em; margin: 0 0.25em; line-height: 1; border-radius: 0.35em;\">\n",
              "    LA\n",
              "    <span style=\"font-size: 0.8em; font-weight: bold; line-height: 1; border-radius: 0.35em; vertical-align: middle; margin-left: 0.5rem\">GPE</span>\n",
              "</mark>\n",
              " â itâs \n",
              "<mark class=\"entity\" style=\"background: #c887fb; padding: 0.45em 0.6em; margin: 0 0.25em; line-height: 1; border-radius: 0.35em;\">\n",
              "    British\n",
              "    <span style=\"font-size: 0.8em; font-weight: bold; line-height: 1; border-radius: 0.35em; vertical-align: middle; margin-left: 0.5rem\">NORP</span>\n",
              "</mark>\n",
              " film studios that are in \n",
              "<mark class=\"entity\" style=\"background: #aa9cfc; padding: 0.45em 0.6em; margin: 0 0.25em; line-height: 1; border-radius: 0.35em;\">\n",
              "    demandRussia\n",
              "    <span style=\"font-size: 0.8em; font-weight: bold; line-height: 1; border-radius: 0.35em; vertical-align: middle; margin-left: 0.5rem\">PERSON</span>\n",
              "</mark>\n",
              " superyacht symbolises challenge of seizing assetsHow I rewired my brain in \n",
              "<mark class=\"entity\" style=\"background: #e4e7d2; padding: 0.45em 0.6em; margin: 0 0.25em; line-height: 1; border-radius: 0.35em;\">\n",
              "    six\n",
              "    <span style=\"font-size: 0.8em; font-weight: bold; line-height: 1; border-radius: 0.35em; vertical-align: middle; margin-left: 0.5rem\">CARDINAL</span>\n",
              "</mark>\n",
              " weeksWhy \n",
              "<mark class=\"entity\" style=\"background: #c887fb; padding: 0.45em 0.6em; margin: 0 0.25em; line-height: 1; border-radius: 0.35em;\">\n",
              "    Western\n",
              "    <span style=\"font-size: 0.8em; font-weight: bold; line-height: 1; border-radius: 0.35em; vertical-align: middle; margin-left: 0.5rem\">NORP</span>\n",
              "</mark>\n",
              " nations fear \n",
              "<mark class=\"entity\" style=\"background: #feca74; padding: 0.45em 0.6em; margin: 0 0.25em; line-height: 1; border-radius: 0.35em;\">\n",
              "    India\n",
              "    <span style=\"font-size: 0.8em; font-weight: bold; line-height: 1; border-radius: 0.35em; vertical-align: middle; margin-left: 0.5rem\">GPE</span>\n",
              "</mark>\n",
              "-\n",
              "<mark class=\"entity\" style=\"background: #feca74; padding: 0.45em 0.6em; margin: 0 0.25em; line-height: 1; border-radius: 0.35em;\">\n",
              "    Canada\n",
              "    <span style=\"font-size: 0.8em; font-weight: bold; line-height: 1; border-radius: 0.35em; vertical-align: middle; margin-left: 0.5rem\">GPE</span>\n",
              "</mark>\n",
              " \n",
              "<mark class=\"entity\" style=\"background: #c887fb; padding: 0.45em 0.6em; margin: 0 0.25em; line-height: 1; border-radius: 0.35em;\">\n",
              "    rowGhanaian\n",
              "    <span style=\"font-size: 0.8em; font-weight: bold; line-height: 1; border-radius: 0.35em; vertical-align: middle; margin-left: 0.5rem\">NORP</span>\n",
              "</mark>\n",
              " man who fought slavery celebrated in the UKElsewhere on the BBCThe 'most \n",
              "<mark class=\"entity\" style=\"background: #c887fb; padding: 0.45em 0.6em; margin: 0 0.25em; line-height: 1; border-radius: 0.35em;\">\n",
              "    British\n",
              "    <span style=\"font-size: 0.8em; font-weight: bold; line-height: 1; border-radius: 0.35em; vertical-align: middle; margin-left: 0.5rem\">NORP</span>\n",
              "</mark>\n",
              " of \n",
              "<mark class=\"entity\" style=\"background: #c887fb; padding: 0.45em 0.6em; margin: 0 0.25em; line-height: 1; border-radius: 0.35em;\">\n",
              "    French\n",
              "    <span style=\"font-size: 0.8em; font-weight: bold; line-height: 1; border-radius: 0.35em; vertical-align: middle; margin-left: 0.5rem\">NORP</span>\n",
              "</mark>\n",
              " resorts'How expensive is Burning \n",
              "<mark class=\"entity\" style=\"background: #7aecec; padding: 0.45em 0.6em; margin: 0 0.25em; line-height: 1; border-radius: 0.35em;\">\n",
              "    Man?Miyazaki\n",
              "    <span style=\"font-size: 0.8em; font-weight: bold; line-height: 1; border-radius: 0.35em; vertical-align: middle; margin-left: 0.5rem\">ORG</span>\n",
              "</mark>\n",
              "'s 'last' film is a masterpieceMost Read1Why Western nations fear \n",
              "<mark class=\"entity\" style=\"background: #feca74; padding: 0.45em 0.6em; margin: 0 0.25em; line-height: 1; border-radius: 0.35em;\">\n",
              "    India\n",
              "    <span style=\"font-size: 0.8em; font-weight: bold; line-height: 1; border-radius: 0.35em; vertical-align: middle; margin-left: 0.5rem\">GPE</span>\n",
              "</mark>\n",
              "-Canada row2Azerbaijan targets \n",
              "<mark class=\"entity\" style=\"background: #feca74; padding: 0.45em 0.6em; margin: 0 0.25em; line-height: 1; border-radius: 0.35em;\">\n",
              "    Nagorno\n",
              "    <span style=\"font-size: 0.8em; font-weight: bold; line-height: 1; border-radius: 0.35em; vertical-align: middle; margin-left: 0.5rem\">GPE</span>\n",
              "</mark>\n",
              "-Karabakh for \n",
              "<mark class=\"entity\" style=\"background: #e4e7d2; padding: 0.45em 0.6em; margin: 0 0.25em; line-height: 1; border-radius: 0.35em;\">\n",
              "    second\n",
              "    <span style=\"font-size: 0.8em; font-weight: bold; line-height: 1; border-radius: 0.35em; vertical-align: middle; margin-left: 0.5rem\">ORDINAL</span>\n",
              "</mark>\n",
              " day3Bijou \n",
              "<mark class=\"entity\" style=\"background: #7aecec; padding: 0.45em 0.6em; margin: 0 0.25em; line-height: 1; border-radius: 0.35em;\">\n",
              "    Phillips\n",
              "    <span style=\"font-size: 0.8em; font-weight: bold; line-height: 1; border-radius: 0.35em; vertical-align: middle; margin-left: 0.5rem\">ORG</span>\n",
              "</mark>\n",
              " to divorce \n",
              "<mark class=\"entity\" style=\"background: #aa9cfc; padding: 0.45em 0.6em; margin: 0 0.25em; line-height: 1; border-radius: 0.35em;\">\n",
              "    Danny Masterson - reports4US\n",
              "    <span style=\"font-size: 0.8em; font-weight: bold; line-height: 1; border-radius: 0.35em; vertical-align: middle; margin-left: 0.5rem\">PERSON</span>\n",
              "</mark>\n",
              " child dies from fentanyl kept under nursery mat5Musk woos world leaders, courting controversy6Torture, rape, killings: An \n",
              "<mark class=\"entity\" style=\"background: #c887fb; padding: 0.45em 0.6em; margin: 0 0.25em; line-height: 1; border-radius: 0.35em;\">\n",
              "    Indian\n",
              "    <span style=\"font-size: 0.8em; font-weight: bold; line-height: 1; border-radius: 0.35em; vertical-align: middle; margin-left: 0.5rem\">NORP</span>\n",
              "</mark>\n",
              " state's brutal conflict7'King of Crypto' parents sued over missing millions8Russia superyacht symbolises challenge of seizing assets9Russian 'evil cannot be trusted' - Zelensky tells UN10Ex-\n",
              "<mark class=\"entity\" style=\"background: #7aecec; padding: 0.45em 0.6em; margin: 0 0.25em; line-height: 1; border-radius: 0.35em;\">\n",
              "    NFL\n",
              "    <span style=\"font-size: 0.8em; font-weight: bold; line-height: 1; border-radius: 0.35em; vertical-align: middle; margin-left: 0.5rem\">ORG</span>\n",
              "</mark>\n",
              " player missing after mother found murderedBBC \n",
              "<mark class=\"entity\" style=\"background: #aa9cfc; padding: 0.45em 0.6em; margin: 0 0.25em; line-height: 1; border-radius: 0.35em;\">\n",
              "    News ServicesOn\n",
              "    <span style=\"font-size: 0.8em; font-weight: bold; line-height: 1; border-radius: 0.35em; vertical-align: middle; margin-left: 0.5rem\">PERSON</span>\n",
              "</mark>\n",
              " your mobileOn smart speakersGet news alertsContact \n",
              "<mark class=\"entity\" style=\"background: #7aecec; padding: 0.45em 0.6em; margin: 0 0.25em; line-height: 1; border-radius: 0.35em;\">\n",
              "    BBC\n",
              "    <span style=\"font-size: 0.8em; font-weight: bold; line-height: 1; border-radius: 0.35em; vertical-align: middle; margin-left: 0.5rem\">ORG</span>\n",
              "</mark>\n",
              " NewsHomeNewsSportReelWorklifeTravelFutureCultureMusicTVWeatherSoundsTerms of \n",
              "<mark class=\"entity\" style=\"background: #7aecec; padding: 0.45em 0.6em; margin: 0 0.25em; line-height: 1; border-radius: 0.35em;\">\n",
              "    UseAbout\n",
              "    <span style=\"font-size: 0.8em; font-weight: bold; line-height: 1; border-radius: 0.35em; vertical-align: middle; margin-left: 0.5rem\">ORG</span>\n",
              "</mark>\n",
              " the BBCPrivacy PolicyCookiesAccessibility HelpParental GuidanceContact the \n",
              "<mark class=\"entity\" style=\"background: #7aecec; padding: 0.45em 0.6em; margin: 0 0.25em; line-height: 1; border-radius: 0.35em;\">\n",
              "    BBCGet\n",
              "    <span style=\"font-size: 0.8em; font-weight: bold; line-height: 1; border-radius: 0.35em; vertical-align: middle; margin-left: 0.5rem\">ORG</span>\n",
              "</mark>\n",
              " Personalised \n",
              "<mark class=\"entity\" style=\"background: #7aecec; padding: 0.45em 0.6em; margin: 0 0.25em; line-height: 1; border-radius: 0.35em;\">\n",
              "    NewslettersWhy\n",
              "    <span style=\"font-size: 0.8em; font-weight: bold; line-height: 1; border-radius: 0.35em; vertical-align: middle; margin-left: 0.5rem\">ORG</span>\n",
              "</mark>\n",
              " you can trust the \n",
              "<mark class=\"entity\" style=\"background: #7aecec; padding: 0.45em 0.6em; margin: 0 0.25em; line-height: 1; border-radius: 0.35em;\">\n",
              "    BBCAdvertise\n",
              "    <span style=\"font-size: 0.8em; font-weight: bold; line-height: 1; border-radius: 0.35em; vertical-align: middle; margin-left: 0.5rem\">ORG</span>\n",
              "</mark>\n",
              " with \n",
              "<mark class=\"entity\" style=\"background: #bfe1d9; padding: 0.45em 0.6em; margin: 0 0.25em; line-height: 1; border-radius: 0.35em;\">\n",
              "    usÂ© 2023\n",
              "    <span style=\"font-size: 0.8em; font-weight: bold; line-height: 1; border-radius: 0.35em; vertical-align: middle; margin-left: 0.5rem\">DATE</span>\n",
              "</mark>\n",
              " \n",
              "<mark class=\"entity\" style=\"background: #7aecec; padding: 0.45em 0.6em; margin: 0 0.25em; line-height: 1; border-radius: 0.35em;\">\n",
              "    BBC\n",
              "    <span style=\"font-size: 0.8em; font-weight: bold; line-height: 1; border-radius: 0.35em; vertical-align: middle; margin-left: 0.5rem\">ORG</span>\n",
              "</mark>\n",
              ". The \n",
              "<mark class=\"entity\" style=\"background: #7aecec; padding: 0.45em 0.6em; margin: 0 0.25em; line-height: 1; border-radius: 0.35em;\">\n",
              "    BBC\n",
              "    <span style=\"font-size: 0.8em; font-weight: bold; line-height: 1; border-radius: 0.35em; vertical-align: middle; margin-left: 0.5rem\">ORG</span>\n",
              "</mark>\n",
              " is not responsible for the content of external sites. Read about our approach to external linking.</div></span>"
            ]
          },
          "metadata": {}
        }
      ]
    },
    {
      "cell_type": "markdown",
      "source": [
        "#word2Vec"
      ],
      "metadata": {
        "id": "9zSS2DTX7ln8"
      }
    },
    {
      "cell_type": "code",
      "source": [
        "doc = nlp(\"doc cat bird ardhysjsl\")"
      ],
      "metadata": {
        "id": "LbGC7TQP7imI"
      },
      "execution_count": 113,
      "outputs": []
    },
    {
      "cell_type": "code",
      "source": [
        "for token in doc:\n",
        "  print(token.text, token.has_vector, token.is_oov)"
      ],
      "metadata": {
        "colab": {
          "base_uri": "https://localhost:8080/"
        },
        "id": "IIAUIY6O72JO",
        "outputId": "08c30e9f-3261-4583-8129-a64d911ed6ab"
      },
      "execution_count": 115,
      "outputs": [
        {
          "output_type": "stream",
          "name": "stdout",
          "text": [
            "doc True False\n",
            "cat True False\n",
            "bird True False\n",
            "ardhysjsl False True\n"
          ]
        }
      ]
    },
    {
      "cell_type": "code",
      "source": [
        "text1 = \"river bank\"\n",
        "text2 = \"bank account\"\n",
        "\n",
        "doc1 = nlp(text1)\n",
        "doc2 = nlp(text2)\n",
        "\n",
        "print(doc1, \"<>\", doc2, doc1.similarity(doc2))"
      ],
      "metadata": {
        "colab": {
          "base_uri": "https://localhost:8080/"
        },
        "id": "q8yIF2az7-AW",
        "outputId": "0cca9c1a-fc38-4a90-dac8-38a468c8e505"
      },
      "execution_count": 116,
      "outputs": [
        {
          "output_type": "stream",
          "name": "stdout",
          "text": [
            "river bank <> bank account 0.7595661548019256\n"
          ]
        }
      ]
    },
    {
      "cell_type": "code",
      "source": [],
      "metadata": {
        "id": "8SEf5sdJ8X0l"
      },
      "execution_count": null,
      "outputs": []
    }
  ]
}